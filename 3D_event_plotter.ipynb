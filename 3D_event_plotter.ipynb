{
 "cells": [
  {
   "cell_type": "code",
   "execution_count": null,
   "metadata": {},
   "outputs": [],
   "source": [
    "from utilities import *\n",
    "import plotly.express as px\n",
    "import awkward as ak"
   ]
  },
  {
   "cell_type": "code",
   "execution_count": null,
   "metadata": {},
   "outputs": [
    {
     "name": "stdout",
     "output_type": "stream",
     "text": [
      "[0.    0.    0.    0.    0.    0.    0.    0.    0.    0.    0.    0.\n",
      " 0.    0.    0.    0.    0.    0.    0.    0.    0.    0.    0.    0.\n",
      " 0.    0.    0.    0.    0.    0.    0.    0.    0.    0.    0.    0.\n",
      " 0.    0.    0.    0.    0.    0.    0.    0.    0.    0.    0.    0.\n",
      " 0.    0.875 1.675 0.    0.    0.    0.    0.    0.    0.    0.    0.\n",
      " 0.    0.    0.    0.    0.    0.    0.    0.    0.    0.    0.    0.\n",
      " 0.    0.    0.    0.    0.    0.    0.    0.    0.    0.    0.    0.7\n",
      " 0.    0.    0.    0.    0.    0.    0.    0.    0.    0.    0.    0.\n",
      " 0.    0.    0.   ]\n"
     ]
    }
   ],
   "source": [
    "DF = import_data(\"l1calo_hist_ZMUMU_extended.root\")\n",
    "data_column = DF['SuperCell_ET']\n",
    "entry = ak.to_numpy(data_column.loc[0])\n",
    "print(entry)"
   ]
  },
  {
   "cell_type": "code",
   "execution_count": null,
   "metadata": {},
   "outputs": [],
   "source": [
    "\n",
    "map0 = [0,11,22,3,44,55,66,77,88]    \n",
    "map1 = [1,2,3,4,12,13,14,15,23,24,25,26,34,35,36,37,45,46,47,48,56,57,58,59,67,68,69,70,78,79,80,81,89,90,91,92]\n",
    "map2 = [5,6,7,8,16,17,18,19,27,28,29,30,38,39,40,41,49,50,51,52,60,61,62,63,71,72,73,74,82,83,84,85,93,94,95,96]    \n",
    "map3 = [9,20,31,42,53,64,75,86,97]    \n",
    "mapH = [10,21,32,43,54,65,76,87,98]    \n"
   ]
  },
  {
   "cell_type": "code",
   "execution_count": null,
   "metadata": {},
   "outputs": [],
   "source": [
    "def return_index(map, cell_number):\n",
    "    return map.index(cell_number)"
   ]
  },
  {
   "cell_type": "code",
   "execution_count": null,
   "metadata": {},
   "outputs": [
    {
     "name": "stdout",
     "output_type": "stream",
     "text": [
      "index: 0 value: 0.0\n",
      "index: 1 value: 0.0\n",
      "index: 2 value: 0.0\n",
      "index: 3 value: 0.0\n",
      "index: 4 value: 0.0\n",
      "index: 5 value: 0.0\n",
      "index: 6 value: 0.0\n",
      "index: 7 value: 0.0\n",
      "index: 8 value: 0.0\n",
      "index: 9 value: 0.0\n",
      "index: 10 value: 0.0\n",
      "index: 11 value: 0.0\n",
      "index: 12 value: 0.0\n",
      "index: 13 value: 0.0\n",
      "index: 14 value: 0.0\n",
      "index: 15 value: 0.0\n",
      "index: 16 value: 0.0\n",
      "index: 17 value: 0.0\n",
      "index: 18 value: 0.0\n",
      "index: 19 value: 0.0\n",
      "index: 20 value: 0.0\n",
      "index: 21 value: 0.0\n",
      "index: 22 value: 0.0\n",
      "index: 23 value: 0.0\n",
      "index: 24 value: 0.0\n",
      "index: 25 value: 0.0\n",
      "index: 26 value: 0.0\n",
      "index: 27 value: 0.0\n",
      "index: 28 value: 0.0\n",
      "index: 29 value: 0.0\n",
      "index: 30 value: 0.0\n",
      "index: 31 value: 0.0\n",
      "index: 32 value: 0.0\n",
      "index: 33 value: 0.0\n",
      "index: 34 value: 0.0\n",
      "index: 35 value: 0.0\n",
      "index: 36 value: 0.0\n",
      "index: 37 value: 0.0\n",
      "index: 38 value: 0.0\n",
      "index: 39 value: 0.0\n",
      "index: 40 value: 0.0\n",
      "index: 41 value: 0.0\n",
      "index: 42 value: 0.0\n",
      "index: 43 value: 0.0\n",
      "index: 44 value: 0.0\n",
      "index: 45 value: 0.0\n",
      "index: 46 value: 0.0\n",
      "index: 47 value: 0.0\n",
      "index: 48 value: 0.0\n",
      "index: 49 value: 0.875\n",
      "index: 50 value: 1.675\n",
      "index: 51 value: 0.0\n",
      "index: 52 value: 0.0\n",
      "index: 53 value: 0.0\n",
      "index: 54 value: 0.0\n",
      "index: 55 value: 0.0\n",
      "index: 56 value: 0.0\n",
      "index: 57 value: 0.0\n",
      "index: 58 value: 0.0\n",
      "index: 59 value: 0.0\n",
      "index: 60 value: 0.0\n",
      "index: 61 value: 0.0\n",
      "index: 62 value: 0.0\n",
      "index: 63 value: 0.0\n",
      "index: 64 value: 0.0\n",
      "index: 65 value: 0.0\n",
      "index: 66 value: 0.0\n",
      "index: 67 value: 0.0\n",
      "index: 68 value: 0.0\n",
      "index: 69 value: 0.0\n",
      "index: 70 value: 0.0\n",
      "index: 71 value: 0.0\n",
      "index: 72 value: 0.0\n",
      "index: 73 value: 0.0\n",
      "index: 74 value: 0.0\n",
      "index: 75 value: 0.0\n",
      "index: 76 value: 0.0\n",
      "index: 77 value: 0.0\n",
      "index: 78 value: 0.0\n",
      "index: 79 value: 0.0\n",
      "index: 80 value: 0.0\n",
      "index: 81 value: 0.0\n",
      "index: 82 value: 0.0\n",
      "index: 83 value: 0.7\n",
      "index: 84 value: 0.0\n",
      "index: 85 value: 0.0\n",
      "index: 86 value: 0.0\n",
      "index: 87 value: 0.0\n",
      "index: 88 value: 0.0\n",
      "index: 89 value: 0.0\n",
      "index: 90 value: 0.0\n",
      "index: 91 value: 0.0\n",
      "index: 92 value: 0.0\n",
      "index: 93 value: 0.0\n",
      "index: 94 value: 0.0\n",
      "index: 95 value: 0.0\n",
      "index: 96 value: 0.0\n",
      "index: 97 value: 0.0\n",
      "index: 98 value: 0.0\n"
     ]
    }
   ],
   "source": [
    "cell_values = pd.DataFrame(columns=['eta', 'phi', 'r','value'])\n",
    "\n",
    "\n",
    "for cell_number, value in enumerate(entry):\n",
    "\n",
    "    if cell_number in map0:\n",
    "        r=0\n",
    "        eta=map0.index(cell_number) %3\n",
    "        phi=map0.index(cell_number) //3\n",
    "    elif cell_number in map1:\n",
    "        r=1\n",
    "        eta=map1.index(cell_number) %12\n",
    "        phi=map1.index(cell_number) //12\n",
    "    elif cell_number in map2:\n",
    "        r=2\n",
    "        eta=map2.index(cell_number) %12\n",
    "        phi=map2.index(cell_number) //12\n",
    "    elif cell_number in map3:\n",
    "        r=3\n",
    "        eta=map3.index(cell_number) %12\n",
    "        phi=map3.index(cell_number) //12\n",
    "    elif cell_number in mapH:\n",
    "        r=4\n",
    "        eta=mapH.index(cell_number) %3\n",
    "        phi=mapH.index(cell_number) //3\n",
    "\n",
    "\n",
    "    cell_values.loc[len(cell_values.index)] = [eta, phi, r,value] "
   ]
  },
  {
   "cell_type": "code",
   "execution_count": null,
   "metadata": {},
   "outputs": [],
   "source": [
    "fig = px.scatter_3d(cell_values,x=\"eta\",y=\"phi\",z=\"r\",color=\"value\")"
   ]
  }
 ],
 "metadata": {
  "kernelspec": {
   "display_name": ".venv",
   "language": "python",
   "name": "python3"
  },
  "language_info": {
   "codemirror_mode": {
    "name": "ipython",
    "version": 3
   },
   "file_extension": ".py",
   "mimetype": "text/x-python",
   "name": "python",
   "nbconvert_exporter": "python",
   "pygments_lexer": "ipython3",
   "version": "3.12.7"
  }
 },
 "nbformat": 4,
 "nbformat_minor": 2
}
