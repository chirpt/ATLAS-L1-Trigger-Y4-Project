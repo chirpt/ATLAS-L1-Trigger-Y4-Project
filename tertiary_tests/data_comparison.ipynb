{
 "cells": [
  {
   "cell_type": "code",
   "execution_count": 2,
   "metadata": {},
   "outputs": [
    {
     "name": "stderr",
     "output_type": "stream",
     "text": [
      "c:\\Users\\Me\\AppData\\Local\\Programs\\Python\\Python312\\Lib\\site-packages\\tqdm\\auto.py:21: TqdmWarning: IProgress not found. Please update jupyter and ipywidgets. See https://ipywidgets.readthedocs.io/en/stable/user_install.html\n",
      "  from .autonotebook import tqdm as notebook_tqdm\n"
     ]
    }
   ],
   "source": [
    "from utilities_new_new import *"
   ]
  },
  {
   "cell_type": "code",
   "execution_count": 3,
   "metadata": {},
   "outputs": [],
   "source": [
    "data_filenames = [\"data\\\\ZMUMU_TopoCluster_Supercell_Large.root\",\"data\\\\l1calo_topocluster_test_Zee.root\",\"data\\\\l1calo_hist_ZB_EN.root\"]\n",
    "DFs = import_data_files(data_filenames)"
   ]
  },
  {
   "cell_type": "code",
   "execution_count": null,
   "metadata": {},
   "outputs": [
    {
     "name": "stdout",
     "output_type": "stream",
     "text": [
      "data\\ZMUMU_TopoCluster_Supercell_Large.root\n",
      "Index(['TOB_ET', 'TOB_eta', 'TOB_ieta', 'TOB_ietabin', 'TOB_phi',\n",
      "       'offline_ele_pt', 'offline_ele_eta', 'offline_ele_eta_cal',\n",
      "       'offline_ele_phi', 'offline_ele_phi_cal', 'offline_zeemass',\n",
      "       'eFEX_Clus_SCETs', 'legacy_ET', 'eFEX_ReC', 'eFEX_ReE', 'eFEX_RhE',\n",
      "       'eFEX_RhH', 'eFEX_WsN', 'eFEX_WsD', 'ID', 'SuperCell_ET', 'lumiBlock',\n",
      "       'averageMu', 'EventNumber', 'BDTScore', 'TopoCluster_ET',\n",
      "       'TopoCluster_eta', 'TopoCluster_phi'],\n",
      "      dtype='object')\n",
      "(535535, 28)\n",
      "data\\l1calo_topocluster_test_Zee.root\n",
      "Index(['TOB_ET', 'TOB_eta', 'TOB_ieta', 'TOB_ietabin', 'TOB_phi',\n",
      "       'offline_ele_pt', 'offline_ele_eta', 'offline_ele_eta_cal',\n",
      "       'offline_ele_phi', 'offline_ele_phi_cal', 'eFEX_Clus_ETs', 'legacy_ET',\n",
      "       'eFEX_ReC', 'eFEX_ReE', 'eFEX_RhE', 'eFEX_RhH', 'eFEX_WsN', 'eFEX_WsD',\n",
      "       'ID', 'SuperCell_ET', 'lumiBlock', 'averageMu', 'BDTScore',\n",
      "       'TopoCluster_ET', 'TopoCluster_eta', 'TopoCluster_phi'],\n",
      "      dtype='object')\n",
      "(371765, 26)\n",
      "data\\l1calo_hist_ZB_EN.root\n",
      "Index(['TOB_ET', 'TOB_eta', 'TOB_ieta', 'TOB_ietabin', 'TOB_phi',\n",
      "       'offline_ele_pt', 'offline_ele_eta', 'offline_ele_eta_cal',\n",
      "       'offline_ele_phi', 'offline_ele_phi_cal', 'eFEX_Clus_SCETs',\n",
      "       'legacy_ET', 'eFEX_ReC', 'eFEX_ReE', 'eFEX_RhE', 'eFEX_RhH', 'eFEX_WsN',\n",
      "       'eFEX_WsD', 'ID', 'SuperCell_ET', 'lumiBlock', 'averageMu',\n",
      "       'EventNumber', 'BDTScore', 'TopoCluster_ET', 'TopoCluster_eta',\n",
      "       'TopoCluster_phi'],\n",
      "      dtype='object')\n",
      "(21701, 27)\n"
     ]
    },
    {
     "ename": "",
     "evalue": "",
     "output_type": "error",
     "traceback": [
      "\u001b[1;31mThe Kernel crashed while executing code in the current cell or a previous cell. \n",
      "\u001b[1;31mPlease review the code in the cell(s) to identify a possible cause of the failure. \n",
      "\u001b[1;31mClick <a href='https://aka.ms/vscodeJupyterKernelCrash'>here</a> for more info. \n",
      "\u001b[1;31mView Jupyter <a href='command:jupyter.viewOutput'>log</a> for further details."
     ]
    }
   ],
   "source": [
    "for i, DF in enumerate(DFs):\n",
    "    print(data_filenames[i])\n",
    "    # print(DF.head())\n",
    "    print(DF.columns)\n",
    "    # print(DF.dtypes)\n",
    "    print(DF.shape)"
   ]
  }
 ],
 "metadata": {
  "kernelspec": {
   "display_name": "Python 3",
   "language": "python",
   "name": "python3"
  },
  "language_info": {
   "codemirror_mode": {
    "name": "ipython",
    "version": 3
   },
   "file_extension": ".py",
   "mimetype": "text/x-python",
   "name": "python",
   "nbconvert_exporter": "python",
   "pygments_lexer": "ipython3",
   "version": "3.12.7"
  }
 },
 "nbformat": 4,
 "nbformat_minor": 2
}
