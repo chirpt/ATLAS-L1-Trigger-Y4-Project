{
 "cells": [
  {
   "cell_type": "code",
   "execution_count": 3,
   "metadata": {},
   "outputs": [],
   "source": [
    "import os\n",
    "import math\n",
    "import pandas as pd\n",
    "import numpy as np\n",
    "import matplotlib.pyplot as plt\n",
    "from utilities import import_data_files\n",
    "import torch\n",
    "import torch.nn as nn\n",
    "import torch.optim as optim\n",
    "import awkward as ak"
   ]
  },
  {
   "cell_type": "code",
   "execution_count": 29,
   "metadata": {},
   "outputs": [],
   "source": [
    "class KernelSVM(nn.Module):\n",
    "    def __init__(self, input_size=9801, output_size=1):\n",
    "        super(KernelSVM, self).__init__()\n",
    "        self.linear = nn.Linear(input_size, output_size)\n",
    "\n",
    "    def forward(self, x1, x2):\n",
    "        x1 = x1.view(-1)\n",
    "        x2 = x2.view(-1)\n",
    "        \n",
    "        kernel = torch.ger(x1, x2) ** 2\n",
    "        \n",
    "        kernel_flat = kernel.view(-1)\n",
    "        return self.linear(kernel_flat)"
   ]
  },
  {
   "cell_type": "code",
   "execution_count": 6,
   "metadata": {},
   "outputs": [],
   "source": [
    "def split_data(data, labels, train_ratio=0.8):\n",
    "    \"\"\"\n",
    "    Splits the data and labels into training and testing sets.\n",
    "\n",
    "    Args:\n",
    "        data (torch.Tensor): The input data tensor.\n",
    "        labels (torch.Tensor): The corresponding labels tensor.\n",
    "        train_ratio (float, optional): The ratio of data to use for training. Defaults to 0.8.\n",
    "\n",
    "    Returns:\n",
    "        tuple: A tuple of four tensors: (train_data, train_labels, test_data, test_labels)\n",
    "    \"\"\"\n",
    "\n",
    "    num_train_samples = int(train_ratio * len(data))\n",
    "\n",
    "    train_data, test_data = torch.utils.data.random_split(data, [num_train_samples, len(data) - num_train_samples])\n",
    "    train_labels, test_labels = torch.utils.data.random_split(labels, [num_train_samples, len(labels) - num_train_samples])\n",
    "    print(\"Data type of training data:\", train_data.dataset.dtype)\n",
    "    print(\"Data type of training labels:\", train_labels.dataset.dtype)\n",
    "    print(\"Data type of testing data:\", test_data.dataset.dtype)\n",
    "    print(\"Data type of testing labels:\", test_labels.dataset.dtype)\n",
    "    return train_data, train_labels, test_data, test_labels"
   ]
  },
  {
   "cell_type": "code",
   "execution_count": 7,
   "metadata": {},
   "outputs": [],
   "source": [
    "def hinge_loss(output, target):\n",
    "    return torch.clamp(1 - output * target.view_as(output), min=0).mean()"
   ]
  },
  {
   "cell_type": "code",
   "execution_count": 8,
   "metadata": {},
   "outputs": [],
   "source": [
    "def prepare_data(DFs):\n",
    "    print(\"Data loaded from files\")\n",
    "    print(\"Converting data to numpy array...\")\n",
    "    \n",
    "    accepted_numpy = ak.to_numpy(DFs[0]['SuperCell_ET'])\n",
    "    rejected_numpy = ak.to_numpy(DFs[1]['SuperCell_ET'])\n",
    "    \n",
    "    print(\"Converting data to torch tensors...\")\n",
    "    accepted_tensor = torch.tensor(accepted_numpy, dtype=torch.float32)\n",
    "    rejected_tensor = torch.tensor(rejected_numpy, dtype=torch.float32)\n",
    "    \n",
    "    print(\"Generating labels...\")\n",
    "    accepted_labels = torch.zeros(len(accepted_tensor), dtype=torch.float32)\n",
    "    rejected_labels = torch.ones(len(rejected_tensor), dtype=torch.float32)\n",
    "    \n",
    "    print(\"Concatenating datasets...\")\n",
    "    data = torch.cat([accepted_tensor, rejected_tensor], dim=0)\n",
    "    labels = torch.cat([accepted_labels, rejected_labels], dim=0)\n",
    "    \n",
    "    print(\"Shuffling data...\")\n",
    "    indices = torch.randperm(len(data))\n",
    "    data = data[indices]\n",
    "    labels = labels[indices]\n",
    "    \n",
    "    print(\"Splitting data...\")\n",
    "    dataset = torch.utils.data.TensorDataset(data, labels)\n",
    "    train_size = int(0.8 * len(dataset))\n",
    "    train_dataset, test_dataset = torch.utils.data.random_split(dataset, [train_size, len(dataset) - train_size])\n",
    "    \n",
    "    train_loader = torch.utils.data.DataLoader(train_dataset, batch_size=1, shuffle=True)\n",
    "    test_loader = torch.utils.data.DataLoader(test_dataset, batch_size=1, shuffle=False)\n",
    "    print(\"DONE\")\n",
    "    \n",
    "    return train_loader, test_loader"
   ]
  },
  {
   "cell_type": "code",
   "execution_count": 25,
   "metadata": {},
   "outputs": [],
   "source": [
    "def train_model(train_loader):\n",
    "    # Hyperparameters\n",
    "    input_size = 9801\n",
    "    output_size = 1\n",
    "    learning_rate = 0.01\n",
    "    num_epochs = 10\n",
    "    \n",
    "    model = KernelSVM(output_size=output_size)\n",
    "    optimizer = optim.SGD(model.parameters(), lr=learning_rate)\n",
    "    \n",
    "    model.train()\n",
    "    for epoch in range(num_epochs):\n",
    "        epoch_loss = 0\n",
    "        for x, y in train_loader:\n",
    "            optimizer.zero_grad()\n",
    "            \n",
    "            output = model(x, x)\n",
    "            loss = hinge_loss(output, y)\n",
    "            \n",
    "            loss.backward()\n",
    "            optimizer.step()\n",
    "            \n",
    "            epoch_loss += loss.item()\n",
    "        \n",
    "        print(f'Epoch [{epoch+1}/{num_epochs}], Loss: {epoch_loss/len(train_loader):.4f}')\n",
    "    \n",
    "    torch.save(model.state_dict(), 'svm_model.pth')\n",
    "    return model"
   ]
  },
  {
   "cell_type": "code",
   "execution_count": 11,
   "metadata": {},
   "outputs": [],
   "source": [
    "DFs = import_data_files([\"l1calo_hist_ZMUMU_extended.root\", \"l1calo_hist_EGZ_extended.root\"])"
   ]
  },
  {
   "cell_type": "code",
   "execution_count": 12,
   "metadata": {},
   "outputs": [
    {
     "name": "stdout",
     "output_type": "stream",
     "text": [
      "Data loaded from files\n",
      "Converting data to numpy array...\n",
      "Converting data to torch tensors...\n",
      "Generating labels...\n",
      "Concatenating datasets...\n",
      "Shuffling data...\n",
      "Splitting data...\n"
     ]
    }
   ],
   "source": [
    "train_loader, test_loader = prepare_data(DFs)"
   ]
  },
  {
   "cell_type": "code",
   "execution_count": 28,
   "metadata": {},
   "outputs": [
    {
     "name": "stdout",
     "output_type": "stream",
     "text": [
      "Epoch [1/10], Loss: 0.6140\n",
      "Epoch [2/10], Loss: 0.6140\n",
      "Epoch [3/10], Loss: 0.6140\n",
      "Epoch [4/10], Loss: 0.6140\n",
      "Epoch [5/10], Loss: 0.6140\n",
      "Epoch [6/10], Loss: 0.6140\n",
      "Epoch [7/10], Loss: 0.6140\n",
      "Epoch [8/10], Loss: 0.6140\n",
      "Epoch [9/10], Loss: 0.6140\n",
      "Epoch [10/10], Loss: 0.6140\n"
     ]
    }
   ],
   "source": [
    "model = train_model(train_loader)"
   ]
  }
 ],
 "metadata": {
  "kernelspec": {
   "display_name": "Python 3",
   "language": "python",
   "name": "python3"
  },
  "language_info": {
   "codemirror_mode": {
    "name": "ipython",
    "version": 3
   },
   "file_extension": ".py",
   "mimetype": "text/x-python",
   "name": "python",
   "nbconvert_exporter": "python",
   "pygments_lexer": "ipython3",
   "version": "3.11.9"
  }
 },
 "nbformat": 4,
 "nbformat_minor": 2
}
