{
 "cells": [
  {
   "cell_type": "markdown",
   "id": "17e0119f",
   "metadata": {},
   "source": []
  },
  {
   "cell_type": "code",
   "execution_count": 2,
   "id": "eecdc416",
   "metadata": {
    "editable": true,
    "slideshow": {
     "slide_type": ""
    },
    "tags": []
   },
   "outputs": [],
   "source": [
    "#import sys\n",
    "#sys.path.append('/Users/atw/anaconda3/pkgs/uproot-5.3.7-ha770c72_0.conda')\n",
    "#sys.path.append('/Users/atw/anaconda3/pkgs/uproot-base-5.3.7-pyhd8ed1ab_0.conda')\n",
    "import os\n",
    "import math\n",
    "import pandas as pd\n",
    "import numpy as np\n",
    "import uproot\n",
    "import xgboost as xgb\n",
    "from sklearn.model_selection import train_test_split\n",
    "from sklearn.metrics import mean_squared_error\n",
    "import matplotlib.pyplot as plt"
   ]
  },
  {
   "cell_type": "code",
   "execution_count": 3,
   "id": "0737f686",
   "metadata": {},
   "outputs": [],
   "source": [
    "Files= [\"l1calo_hist_ZMUMU_extended.root\",\"l1calo_hist_ZMUMU_extended_new.root\",\"l1calo_hist_EGZ_extended.root\",\"l1calo_hist_EGZ_extended_new.root\"] # \"extended\" includes isolation vars and extended_new trigger decision"
   ]
  },
  {
   "cell_type": "code",
   "execution_count": 4,
   "id": "e9f83869-255e-4c80-bbd8-5c227b40fc98",
   "metadata": {},
   "outputs": [],
   "source": [
    "def VariableMaker(inputs):\n",
    "    ''' \n",
    "    Takes the list of supercells corresponding to an eFEX \n",
    "    processing window and constructs additional variables \n",
    "    using them. \n",
    "    Returns list of sums calculated from them\n",
    "\n",
    "    inputs = copy of the SuperCells_ET vector for an RoI\n",
    "    '''\n",
    "\n",
    "    '''\n",
    "    The SuperCell_ET variable in the root file contains a vector of 99 supercells for each RoI\n",
    "    To understand its contents, consider that the algorithm window in the eFEX is based on 3x3 \n",
    "    towers, each tower containing 11 supercells:\n",
    "    \n",
    "       1 Presampler, 4 Layer 1, 4 Layer 2, 1 Layer 3, 1 Hadronic\n",
    "       \n",
    "    Think of the towers being numbered as below:\n",
    "\n",
    "       -------------\n",
    "       | 6 | 7 | 8 |\n",
    "       -------------\n",
    "       | 3 | 4 | 5 |\n",
    "       -------------\n",
    "       | 0 | 1 | 2 |\n",
    "       -------------\n",
    "\n",
    "    where eta increases from left to right and phi increases from bottom to top.\n",
    "    Within each tower the cells are ordered as above (PS, EM1, EM2, EM3, Had),\n",
    "    and where there are 4 cells in a layer they are ordered in increasing eta.\n",
    "    Therefore when we think of the numbering of these 99 cells in the SuperCell_ET\n",
    "    array:\n",
    "       Cells  0-10 are PS, 4*EM1, 4*EM2, EM3, Had for Tower 0\n",
    "       Cells 11-21 are PS, 4*EM1, 4*EM2, EM3, Had for Tower 1\n",
    "               ...\n",
    "       Cells 88-98 are PS, 4*EM1, 4*EM2, EM3, Had for Tower 8\n",
    "       \n",
    "    '''\n",
    "\n",
    "    # Mapping cells in \"inputs\" to tower, layer, cell: \n",
    "    '''\n",
    "      Each of the vectors below contains indices of cells in a given layer in the \"inputs\" array.\n",
    "\n",
    "        map0[n] = index of presampler cell in tower n\n",
    "        map3[n], mapH[n] = indices for EM3 and hadronic cells in tower n\n",
    "        \n",
    "      For layer 1 and 2, where there are 4 cells/tower, the first 4 in each map = tower 0, \n",
    "      next 4 = tower 1, etc. So if you want the position of supercell X (0-3) from tower n (0-8)\n",
    "      for these layers it is:\n",
    "        map1[(n*11)+X] or map1[(n*11)+X]\n",
    "    '''\n",
    "    \n",
    "    map0 = [0,11,22,3,44,55,66,77,88]    \n",
    "    map1 = [1,2,3,4,12,13,14,15,23,24,25,26,34,35,36,37,45,46,47,48,56,57,58,59,67,68,69,70,78,79,80,81,89,90,91,92]\n",
    "    map2 = [5,6,7,8,16,17,18,19,27,28,29,30,38,39,40,41,49,50,51,52,60,61,62,63,71,72,73,74,82,83,84,85,93,94,95,96]    \n",
    "    map3 = [9,20,31,42,53,64,75,86,97]    \n",
    "    mapH = [10,21,32,43,54,65,76,87,98]    \n",
    "    \n",
    "    # Need to find seed cell in central tower.\n",
    "    seedCell = 0\n",
    "    seeds = np.array([])\n",
    "    seedETs = np.array([])\n",
    "\n",
    "    for sc in range(5,9):\n",
    "        cell = 44 + sc\n",
    "        scM = sc - 1\n",
    "        cellM = 44+scM if scM >= 5 else 41 # cell 8 of tower 3 (33+8)\n",
    "        scP = sc + 1\n",
    "        cellP = 44+scP if scP <= 8 else 60 # cell 5 of tower 5 (55+5)\n",
    "        if inputs[cell] >= inputs[cellM] and inputs[cell] > inputs[cellP]:\n",
    "            seeds = np.append(seeds,sc)\n",
    "            seedETs = np.append(seedETs,inputs[cell])\n",
    "\n",
    "    if seeds.size == 0 or seeds.size > 2:\n",
    "        print(\"Error: invalid number of seeds found!\")\n",
    "        return variables\n",
    "    elif seeds.size == 1:\n",
    "        seedCell = int(seeds[0])\n",
    "    else:\n",
    "        if seedETs[0] > seedETs[1]:\n",
    "            seedCell = int(seeds[0])\n",
    "        else:\n",
    "            seedCell = int(seeds[1])\n",
    "            \n",
    "    # Now apply UnD logic\n",
    "    up =   int(77 + seedCell)\n",
    "    down = int(11 + seedCell)\n",
    "    UnD = 1 if inputs[up] >= inputs[down] else 0\n",
    "\n",
    "    # Have the seed, now can form some sums\n",
    "\n",
    "    # Sanity check: build the trigger cluster\n",
    "\n",
    "    # Presampler & layer 3: cluster = central tower supercell plus tower above/below in phi\n",
    "    clus0 = inputs[44] + (inputs[77] if UnD > 0 else inputs[11])\n",
    "    clus3 = inputs[53] + (inputs[86] if UnD > 0 else inputs[20])\n",
    "\n",
    "    '''\n",
    "    Layers 1 and 2: cluster = seed supercell + 2 eta neighbours, \n",
    "    plus same group from tower above/below in phi.\n",
    "\n",
    "    If the seed cell is cell 5 (left-hand edge of central tower) then neighbour to\n",
    "    left will not be cell 4 in that tower but cell 8 (right-hand edge) in the previous tower.\n",
    "\n",
    "    Similarly if seed is cell 8 (right-hand edge) then neighbour will be cell 5 in next tower.\n",
    "    '''\n",
    "    clus1 = 0\n",
    "    clus2 = 0\n",
    "    for off in range(-1,2):\n",
    "        cell = seedCell + off # cell in layer 2\n",
    "        towerC = 44 # Start of central tower (tower 4 of 8)\n",
    "        # \n",
    "        if cell < 5: # to the left of central tower\n",
    "            towerC = 33 # previous tower\n",
    "            cell   = 8  # right-hand cell in that tower\n",
    "        elif cell > 8: # to the right of central tower\n",
    "            towerC = 55 # next tower\n",
    "            cell   = 5  # left-hand cell of next tower\n",
    "        # Neighbouring tower in phi (above or below)\n",
    "        towerN = towerC+33 if UnD > 0 else towerC - 33\n",
    "        clus1 += inputs[towerC+cell-4] + inputs[towerN+cell-4] # cells from layer 1\n",
    "        clus2 += inputs[towerC+cell]   + inputs[towerN+cell]   # cells from layer 2 \n",
    "    \n",
    "    return clus0, clus1, clus2, clus3"
   ]
  },
  {
   "cell_type": "code",
   "execution_count": 5,
   "id": "329c877a",
   "metadata": {},
   "outputs": [
    {
     "ename": "FileNotFoundError",
     "evalue": "[Errno 2] No such file or directory: '/disk/homedisk/home/user299/y4/l1calo_hist_ZMUMU_extended.root'",
     "output_type": "error",
     "traceback": [
      "\u001b[0;31m---------------------------------------------------------------------------\u001b[0m",
      "\u001b[0;31mFileNotFoundError\u001b[0m                         Traceback (most recent call last)",
      "Cell \u001b[0;32mIn[5], line 4\u001b[0m\n\u001b[1;32m      1\u001b[0m DFs \u001b[38;5;241m=\u001b[39m []\n\u001b[1;32m      3\u001b[0m \u001b[38;5;28;01mfor\u001b[39;00m i \u001b[38;5;129;01min\u001b[39;00m \u001b[38;5;28mrange\u001b[39m (\u001b[38;5;241m0\u001b[39m,\u001b[38;5;28mlen\u001b[39m(Files)):\n\u001b[0;32m----> 4\u001b[0m   File \u001b[38;5;241m=\u001b[39m \u001b[43muproot\u001b[49m\u001b[38;5;241;43m.\u001b[39;49m\u001b[43mopen\u001b[49m\u001b[43m(\u001b[49m\u001b[43mFiles\u001b[49m\u001b[43m[\u001b[49m\u001b[43mi\u001b[49m\u001b[43m]\u001b[49m\u001b[43m)\u001b[49m\n\u001b[1;32m      5\u001b[0m   Tree \u001b[38;5;241m=\u001b[39m File[\u001b[38;5;124m\"\u001b[39m\u001b[38;5;124mtree_DMC\u001b[39m\u001b[38;5;124m\"\u001b[39m]\n\u001b[1;32m      6\u001b[0m   DFs\u001b[38;5;241m.\u001b[39mappend(Tree\u001b[38;5;241m.\u001b[39marrays(library\u001b[38;5;241m=\u001b[39m\u001b[38;5;124m\"\u001b[39m\u001b[38;5;124mpd\u001b[39m\u001b[38;5;124m\"\u001b[39m))\n",
      "File \u001b[0;32m~/.local/lib/python3.12/site-packages/uproot/reading.py:142\u001b[0m, in \u001b[0;36mopen\u001b[0;34m(path, object_cache, array_cache, custom_classes, decompression_executor, interpretation_executor, **options)\u001b[0m\n\u001b[1;32m    133\u001b[0m \u001b[38;5;28;01mif\u001b[39;00m \u001b[38;5;129;01mnot\u001b[39;00m \u001b[38;5;28misinstance\u001b[39m(file_path, \u001b[38;5;28mstr\u001b[39m) \u001b[38;5;129;01mand\u001b[39;00m \u001b[38;5;129;01mnot\u001b[39;00m (\n\u001b[1;32m    134\u001b[0m     \u001b[38;5;28mhasattr\u001b[39m(file_path, \u001b[38;5;124m\"\u001b[39m\u001b[38;5;124mread\u001b[39m\u001b[38;5;124m\"\u001b[39m) \u001b[38;5;129;01mand\u001b[39;00m \u001b[38;5;28mhasattr\u001b[39m(file_path, \u001b[38;5;124m\"\u001b[39m\u001b[38;5;124mseek\u001b[39m\u001b[38;5;124m\"\u001b[39m)\n\u001b[1;32m    135\u001b[0m ):\n\u001b[1;32m    136\u001b[0m     \u001b[38;5;28;01mraise\u001b[39;00m \u001b[38;5;167;01mValueError\u001b[39;00m(\n\u001b[1;32m    137\u001b[0m         \u001b[38;5;124m\"\u001b[39m\u001b[38;5;124m'\u001b[39m\u001b[38;5;124mpath\u001b[39m\u001b[38;5;124m'\u001b[39m\u001b[38;5;124m must be a string, pathlib.Path, an object with \u001b[39m\u001b[38;5;124m'\u001b[39m\u001b[38;5;124mread\u001b[39m\u001b[38;5;124m'\u001b[39m\u001b[38;5;124m and \u001b[39m\u001b[38;5;124m\"\u001b[39m\n\u001b[1;32m    138\u001b[0m         \u001b[38;5;124m\"\u001b[39m\u001b[38;5;124m'\u001b[39m\u001b[38;5;124mseek\u001b[39m\u001b[38;5;124m'\u001b[39m\u001b[38;5;124m methods, or a length-1 dict of \u001b[39m\u001b[38;5;124m{\u001b[39m\u001b[38;5;124mfile_path: object_path}, \u001b[39m\u001b[38;5;124m\"\u001b[39m\n\u001b[1;32m    139\u001b[0m         \u001b[38;5;124mf\u001b[39m\u001b[38;5;124m\"\u001b[39m\u001b[38;5;124mnot \u001b[39m\u001b[38;5;132;01m{\u001b[39;00mpath\u001b[38;5;132;01m!r}\u001b[39;00m\u001b[38;5;124m\"\u001b[39m\n\u001b[1;32m    140\u001b[0m     )\n\u001b[0;32m--> 142\u001b[0m file \u001b[38;5;241m=\u001b[39m \u001b[43mReadOnlyFile\u001b[49m\u001b[43m(\u001b[49m\n\u001b[1;32m    143\u001b[0m \u001b[43m    \u001b[49m\u001b[43mfile_path\u001b[49m\u001b[43m,\u001b[49m\n\u001b[1;32m    144\u001b[0m \u001b[43m    \u001b[49m\u001b[43mobject_cache\u001b[49m\u001b[38;5;241;43m=\u001b[39;49m\u001b[43mobject_cache\u001b[49m\u001b[43m,\u001b[49m\n\u001b[1;32m    145\u001b[0m \u001b[43m    \u001b[49m\u001b[43marray_cache\u001b[49m\u001b[38;5;241;43m=\u001b[39;49m\u001b[43marray_cache\u001b[49m\u001b[43m,\u001b[49m\n\u001b[1;32m    146\u001b[0m \u001b[43m    \u001b[49m\u001b[43mcustom_classes\u001b[49m\u001b[38;5;241;43m=\u001b[39;49m\u001b[43mcustom_classes\u001b[49m\u001b[43m,\u001b[49m\n\u001b[1;32m    147\u001b[0m \u001b[43m    \u001b[49m\u001b[43mdecompression_executor\u001b[49m\u001b[38;5;241;43m=\u001b[39;49m\u001b[43mdecompression_executor\u001b[49m\u001b[43m,\u001b[49m\n\u001b[1;32m    148\u001b[0m \u001b[43m    \u001b[49m\u001b[43minterpretation_executor\u001b[49m\u001b[38;5;241;43m=\u001b[39;49m\u001b[43minterpretation_executor\u001b[49m\u001b[43m,\u001b[49m\n\u001b[1;32m    149\u001b[0m \u001b[43m    \u001b[49m\u001b[38;5;241;43m*\u001b[39;49m\u001b[38;5;241;43m*\u001b[39;49m\u001b[43moptions\u001b[49m\u001b[43m,\u001b[49m\n\u001b[1;32m    150\u001b[0m \u001b[43m\u001b[49m\u001b[43m)\u001b[49m\n\u001b[1;32m    152\u001b[0m \u001b[38;5;28;01mif\u001b[39;00m object_path \u001b[38;5;129;01mis\u001b[39;00m \u001b[38;5;28;01mNone\u001b[39;00m:\n\u001b[1;32m    153\u001b[0m     \u001b[38;5;28;01mreturn\u001b[39;00m file\u001b[38;5;241m.\u001b[39mroot_directory\n",
      "File \u001b[0;32m~/.local/lib/python3.12/site-packages/uproot/reading.py:561\u001b[0m, in \u001b[0;36mReadOnlyFile.__init__\u001b[0;34m(self, file_path, object_cache, array_cache, custom_classes, decompression_executor, interpretation_executor, **options)\u001b[0m\n\u001b[1;32m    556\u001b[0m \u001b[38;5;28mself\u001b[39m\u001b[38;5;241m.\u001b[39mhook_before_create_source()\n\u001b[1;32m    558\u001b[0m source_cls, file_path \u001b[38;5;241m=\u001b[39m uproot\u001b[38;5;241m.\u001b[39m_util\u001b[38;5;241m.\u001b[39mfile_path_to_source_class(\n\u001b[1;32m    559\u001b[0m     file_path, \u001b[38;5;28mself\u001b[39m\u001b[38;5;241m.\u001b[39m_options\n\u001b[1;32m    560\u001b[0m )\n\u001b[0;32m--> 561\u001b[0m \u001b[38;5;28mself\u001b[39m\u001b[38;5;241m.\u001b[39m_source \u001b[38;5;241m=\u001b[39m \u001b[43msource_cls\u001b[49m\u001b[43m(\u001b[49m\u001b[43mfile_path\u001b[49m\u001b[43m,\u001b[49m\u001b[43m \u001b[49m\u001b[38;5;241;43m*\u001b[39;49m\u001b[38;5;241;43m*\u001b[39;49m\u001b[38;5;28;43mself\u001b[39;49m\u001b[38;5;241;43m.\u001b[39;49m\u001b[43m_options\u001b[49m\u001b[43m)\u001b[49m\n\u001b[1;32m    563\u001b[0m \u001b[38;5;28mself\u001b[39m\u001b[38;5;241m.\u001b[39mhook_before_get_chunks()\n\u001b[1;32m    565\u001b[0m \u001b[38;5;28;01mif\u001b[39;00m \u001b[38;5;28mself\u001b[39m\u001b[38;5;241m.\u001b[39m_options[\u001b[38;5;124m\"\u001b[39m\u001b[38;5;124mbegin_chunk_size\u001b[39m\u001b[38;5;124m\"\u001b[39m] \u001b[38;5;241m<\u001b[39m _file_header_fields_big\u001b[38;5;241m.\u001b[39msize:\n",
      "File \u001b[0;32m~/.local/lib/python3.12/site-packages/uproot/source/fsspec.py:45\u001b[0m, in \u001b[0;36mFSSpecSource.__init__\u001b[0;34m(self, file_path, coalesce_config, **options)\u001b[0m\n\u001b[1;32m     41\u001b[0m \u001b[38;5;28mself\u001b[39m\u001b[38;5;241m.\u001b[39m_async_impl \u001b[38;5;241m=\u001b[39m \u001b[38;5;28mself\u001b[39m\u001b[38;5;241m.\u001b[39m_fs\u001b[38;5;241m.\u001b[39masync_impl\n\u001b[1;32m     43\u001b[0m \u001b[38;5;28mself\u001b[39m\u001b[38;5;241m.\u001b[39m_file \u001b[38;5;241m=\u001b[39m \u001b[38;5;28;01mNone\u001b[39;00m\n\u001b[0;32m---> 45\u001b[0m \u001b[38;5;28;43mself\u001b[39;49m\u001b[38;5;241;43m.\u001b[39;49m\u001b[43m_open\u001b[49m\u001b[43m(\u001b[49m\u001b[43m)\u001b[49m\n\u001b[1;32m     47\u001b[0m \u001b[38;5;28mself\u001b[39m\u001b[38;5;241m.\u001b[39m\u001b[38;5;21m__enter__\u001b[39m()\n",
      "File \u001b[0;32m~/.local/lib/python3.12/site-packages/uproot/source/fsspec.py:59\u001b[0m, in \u001b[0;36mFSSpecSource._open\u001b[0;34m(self)\u001b[0m\n\u001b[1;32m     57\u001b[0m \u001b[38;5;28;01mdef\u001b[39;00m \u001b[38;5;21m_open\u001b[39m(\u001b[38;5;28mself\u001b[39m):\n\u001b[1;32m     58\u001b[0m     \u001b[38;5;28mself\u001b[39m\u001b[38;5;241m.\u001b[39m_executor \u001b[38;5;241m=\u001b[39m FSSpecLoopExecutor()\n\u001b[0;32m---> 59\u001b[0m     \u001b[38;5;28mself\u001b[39m\u001b[38;5;241m.\u001b[39m_file \u001b[38;5;241m=\u001b[39m \u001b[38;5;28;43mself\u001b[39;49m\u001b[38;5;241;43m.\u001b[39;49m\u001b[43m_fs\u001b[49m\u001b[38;5;241;43m.\u001b[39;49m\u001b[43mopen\u001b[49m\u001b[43m(\u001b[49m\u001b[38;5;28;43mself\u001b[39;49m\u001b[38;5;241;43m.\u001b[39;49m\u001b[43m_file_path\u001b[49m\u001b[43m)\u001b[49m\n",
      "File \u001b[0;32m/usr/lib/python3.12/site-packages/fsspec/spec.py:1303\u001b[0m, in \u001b[0;36mAbstractFileSystem.open\u001b[0;34m(self, path, mode, block_size, cache_options, compression, **kwargs)\u001b[0m\n\u001b[1;32m   1301\u001b[0m \u001b[38;5;28;01melse\u001b[39;00m:\n\u001b[1;32m   1302\u001b[0m     ac \u001b[38;5;241m=\u001b[39m kwargs\u001b[38;5;241m.\u001b[39mpop(\u001b[38;5;124m\"\u001b[39m\u001b[38;5;124mautocommit\u001b[39m\u001b[38;5;124m\"\u001b[39m, \u001b[38;5;129;01mnot\u001b[39;00m \u001b[38;5;28mself\u001b[39m\u001b[38;5;241m.\u001b[39m_intrans)\n\u001b[0;32m-> 1303\u001b[0m     f \u001b[38;5;241m=\u001b[39m \u001b[38;5;28;43mself\u001b[39;49m\u001b[38;5;241;43m.\u001b[39;49m\u001b[43m_open\u001b[49m\u001b[43m(\u001b[49m\n\u001b[1;32m   1304\u001b[0m \u001b[43m        \u001b[49m\u001b[43mpath\u001b[49m\u001b[43m,\u001b[49m\n\u001b[1;32m   1305\u001b[0m \u001b[43m        \u001b[49m\u001b[43mmode\u001b[49m\u001b[38;5;241;43m=\u001b[39;49m\u001b[43mmode\u001b[49m\u001b[43m,\u001b[49m\n\u001b[1;32m   1306\u001b[0m \u001b[43m        \u001b[49m\u001b[43mblock_size\u001b[49m\u001b[38;5;241;43m=\u001b[39;49m\u001b[43mblock_size\u001b[49m\u001b[43m,\u001b[49m\n\u001b[1;32m   1307\u001b[0m \u001b[43m        \u001b[49m\u001b[43mautocommit\u001b[49m\u001b[38;5;241;43m=\u001b[39;49m\u001b[43mac\u001b[49m\u001b[43m,\u001b[49m\n\u001b[1;32m   1308\u001b[0m \u001b[43m        \u001b[49m\u001b[43mcache_options\u001b[49m\u001b[38;5;241;43m=\u001b[39;49m\u001b[43mcache_options\u001b[49m\u001b[43m,\u001b[49m\n\u001b[1;32m   1309\u001b[0m \u001b[43m        \u001b[49m\u001b[38;5;241;43m*\u001b[39;49m\u001b[38;5;241;43m*\u001b[39;49m\u001b[43mkwargs\u001b[49m\u001b[43m,\u001b[49m\n\u001b[1;32m   1310\u001b[0m \u001b[43m    \u001b[49m\u001b[43m)\u001b[49m\n\u001b[1;32m   1311\u001b[0m     \u001b[38;5;28;01mif\u001b[39;00m compression \u001b[38;5;129;01mis\u001b[39;00m \u001b[38;5;129;01mnot\u001b[39;00m \u001b[38;5;28;01mNone\u001b[39;00m:\n\u001b[1;32m   1312\u001b[0m         \u001b[38;5;28;01mfrom\u001b[39;00m \u001b[38;5;21;01mfsspec\u001b[39;00m\u001b[38;5;21;01m.\u001b[39;00m\u001b[38;5;21;01mcompression\u001b[39;00m \u001b[38;5;28;01mimport\u001b[39;00m compr\n",
      "File \u001b[0;32m/usr/lib/python3.12/site-packages/fsspec/implementations/local.py:191\u001b[0m, in \u001b[0;36mLocalFileSystem._open\u001b[0;34m(self, path, mode, block_size, **kwargs)\u001b[0m\n\u001b[1;32m    189\u001b[0m \u001b[38;5;28;01mif\u001b[39;00m \u001b[38;5;28mself\u001b[39m\u001b[38;5;241m.\u001b[39mauto_mkdir \u001b[38;5;129;01mand\u001b[39;00m \u001b[38;5;124m\"\u001b[39m\u001b[38;5;124mw\u001b[39m\u001b[38;5;124m\"\u001b[39m \u001b[38;5;129;01min\u001b[39;00m mode:\n\u001b[1;32m    190\u001b[0m     \u001b[38;5;28mself\u001b[39m\u001b[38;5;241m.\u001b[39mmakedirs(\u001b[38;5;28mself\u001b[39m\u001b[38;5;241m.\u001b[39m_parent(path), exist_ok\u001b[38;5;241m=\u001b[39m\u001b[38;5;28;01mTrue\u001b[39;00m)\n\u001b[0;32m--> 191\u001b[0m \u001b[38;5;28;01mreturn\u001b[39;00m \u001b[43mLocalFileOpener\u001b[49m\u001b[43m(\u001b[49m\u001b[43mpath\u001b[49m\u001b[43m,\u001b[49m\u001b[43m \u001b[49m\u001b[43mmode\u001b[49m\u001b[43m,\u001b[49m\u001b[43m \u001b[49m\u001b[43mfs\u001b[49m\u001b[38;5;241;43m=\u001b[39;49m\u001b[38;5;28;43mself\u001b[39;49m\u001b[43m,\u001b[49m\u001b[43m \u001b[49m\u001b[38;5;241;43m*\u001b[39;49m\u001b[38;5;241;43m*\u001b[39;49m\u001b[43mkwargs\u001b[49m\u001b[43m)\u001b[49m\n",
      "File \u001b[0;32m/usr/lib/python3.12/site-packages/fsspec/implementations/local.py:355\u001b[0m, in \u001b[0;36mLocalFileOpener.__init__\u001b[0;34m(self, path, mode, autocommit, fs, compression, **kwargs)\u001b[0m\n\u001b[1;32m    353\u001b[0m \u001b[38;5;28mself\u001b[39m\u001b[38;5;241m.\u001b[39mcompression \u001b[38;5;241m=\u001b[39m get_compression(path, compression)\n\u001b[1;32m    354\u001b[0m \u001b[38;5;28mself\u001b[39m\u001b[38;5;241m.\u001b[39mblocksize \u001b[38;5;241m=\u001b[39m io\u001b[38;5;241m.\u001b[39mDEFAULT_BUFFER_SIZE\n\u001b[0;32m--> 355\u001b[0m \u001b[38;5;28;43mself\u001b[39;49m\u001b[38;5;241;43m.\u001b[39;49m\u001b[43m_open\u001b[49m\u001b[43m(\u001b[49m\u001b[43m)\u001b[49m\n",
      "File \u001b[0;32m/usr/lib/python3.12/site-packages/fsspec/implementations/local.py:360\u001b[0m, in \u001b[0;36mLocalFileOpener._open\u001b[0;34m(self)\u001b[0m\n\u001b[1;32m    358\u001b[0m \u001b[38;5;28;01mif\u001b[39;00m \u001b[38;5;28mself\u001b[39m\u001b[38;5;241m.\u001b[39mf \u001b[38;5;129;01mis\u001b[39;00m \u001b[38;5;28;01mNone\u001b[39;00m \u001b[38;5;129;01mor\u001b[39;00m \u001b[38;5;28mself\u001b[39m\u001b[38;5;241m.\u001b[39mf\u001b[38;5;241m.\u001b[39mclosed:\n\u001b[1;32m    359\u001b[0m     \u001b[38;5;28;01mif\u001b[39;00m \u001b[38;5;28mself\u001b[39m\u001b[38;5;241m.\u001b[39mautocommit \u001b[38;5;129;01mor\u001b[39;00m \u001b[38;5;124m\"\u001b[39m\u001b[38;5;124mw\u001b[39m\u001b[38;5;124m\"\u001b[39m \u001b[38;5;129;01mnot\u001b[39;00m \u001b[38;5;129;01min\u001b[39;00m \u001b[38;5;28mself\u001b[39m\u001b[38;5;241m.\u001b[39mmode:\n\u001b[0;32m--> 360\u001b[0m         \u001b[38;5;28mself\u001b[39m\u001b[38;5;241m.\u001b[39mf \u001b[38;5;241m=\u001b[39m \u001b[38;5;28;43mopen\u001b[39;49m\u001b[43m(\u001b[49m\u001b[38;5;28;43mself\u001b[39;49m\u001b[38;5;241;43m.\u001b[39;49m\u001b[43mpath\u001b[49m\u001b[43m,\u001b[49m\u001b[43m \u001b[49m\u001b[43mmode\u001b[49m\u001b[38;5;241;43m=\u001b[39;49m\u001b[38;5;28;43mself\u001b[39;49m\u001b[38;5;241;43m.\u001b[39;49m\u001b[43mmode\u001b[49m\u001b[43m)\u001b[49m\n\u001b[1;32m    361\u001b[0m         \u001b[38;5;28;01mif\u001b[39;00m \u001b[38;5;28mself\u001b[39m\u001b[38;5;241m.\u001b[39mcompression:\n\u001b[1;32m    362\u001b[0m             compress \u001b[38;5;241m=\u001b[39m compr[\u001b[38;5;28mself\u001b[39m\u001b[38;5;241m.\u001b[39mcompression]\n",
      "\u001b[0;31mFileNotFoundError\u001b[0m: [Errno 2] No such file or directory: '/disk/homedisk/home/user299/y4/l1calo_hist_ZMUMU_extended.root'"
     ]
    }
   ],
   "source": [
    "DFs = []\n",
    "\n",
    "for i in range (0,len(Files)):\n",
    "  File = uproot.open(Files[i])\n",
    "  Tree = File[\"tree_DMC\"]\n",
    "  DFs.append(Tree.arrays(library=\"pd\"))\n",
    "  print (DFs[i].shape)"
   ]
  },
  {
   "cell_type": "code",
   "execution_count": 5,
   "id": "5fc81b77",
   "metadata": {},
   "outputs": [],
   "source": [
    "#DFs[0].head()"
   ]
  },
  {
   "cell_type": "code",
   "execution_count": 6,
   "id": "ebf30176",
   "metadata": {},
   "outputs": [],
   "source": [
    "#DFs[1].head()"
   ]
  },
  {
   "cell_type": "code",
   "execution_count": 7,
   "id": "40292f9c",
   "metadata": {},
   "outputs": [
    {
     "name": "stdout",
     "output_type": "stream",
     "text": [
      "<class 'pandas.core.frame.DataFrame'>\n",
      "RangeIndex: 141741 entries, 0 to 141740\n",
      "Data columns (total 22 columns):\n",
      " #   Column               Non-Null Count   Dtype  \n",
      "---  ------               --------------   -----  \n",
      " 0   TOB_ET               141741 non-null  float32\n",
      " 1   TOB_eta              141741 non-null  float32\n",
      " 2   TOB_ieta             141741 non-null  int32  \n",
      " 3   TOB_ietabin          141741 non-null  uint32 \n",
      " 4   TOB_phi              141741 non-null  float32\n",
      " 5   offline_ele_pt       141741 non-null  float32\n",
      " 6   offline_ele_eta      141741 non-null  float32\n",
      " 7   offline_ele_eta_cal  141741 non-null  float32\n",
      " 8   offline_ele_phi      141741 non-null  float32\n",
      " 9   offline_ele_phi_cal  141741 non-null  float32\n",
      " 10  eFEX_ET              141741 non-null  float32\n",
      " 11  eFEX_PS_ET           141741 non-null  float32\n",
      " 12  eFEX_L1_ET           141741 non-null  float32\n",
      " 13  eFEX_L2_ET           141741 non-null  float32\n",
      " 14  eFEX_L3_ET           141741 non-null  float32\n",
      " 15  SuperCell_ET         141741 non-null  awkward\n",
      " 16  eFEX_ReC             141741 non-null  float32\n",
      " 17  eFEX_ReE             141741 non-null  float32\n",
      " 18  eFEX_RhE             141741 non-null  float32\n",
      " 19  eFEX_RhH             141741 non-null  float32\n",
      " 20  eFEX_WsN             141741 non-null  float32\n",
      " 21  eFEX_WsD             141741 non-null  float32\n",
      "dtypes: awkward(1), float32(19), int32(1), uint32(1)\n",
      "memory usage: 64.9 MB\n"
     ]
    }
   ],
   "source": [
    "DFs[0].info()\n"
   ]
  },
  {
   "cell_type": "code",
   "execution_count": 8,
   "id": "d6c0aa2b",
   "metadata": {},
   "outputs": [
    {
     "name": "stdout",
     "output_type": "stream",
     "text": [
      "<class 'pandas.core.frame.DataFrame'>\n",
      "RangeIndex: 141741 entries, 0 to 141740\n",
      "Data columns (total 17 columns):\n",
      " #   Column               Non-Null Count   Dtype  \n",
      "---  ------               --------------   -----  \n",
      " 0   TOB_ET               141741 non-null  float32\n",
      " 1   TOB_eta              141741 non-null  float32\n",
      " 2   TOB_ieta             141741 non-null  int32  \n",
      " 3   TOB_ietabin          141741 non-null  uint32 \n",
      " 4   TOB_phi              141741 non-null  float32\n",
      " 5   offline_ele_pt       141741 non-null  float32\n",
      " 6   offline_ele_eta      141741 non-null  float32\n",
      " 7   offline_ele_eta_cal  141741 non-null  float32\n",
      " 8   offline_ele_phi      141741 non-null  float32\n",
      " 9   offline_ele_phi_cal  141741 non-null  float32\n",
      " 10  eFEX_ET              141741 non-null  float32\n",
      " 11  eFEX_PS_ET           141741 non-null  float32\n",
      " 12  eFEX_L1_ET           141741 non-null  float32\n",
      " 13  eFEX_L2_ET           141741 non-null  float32\n",
      " 14  eFEX_L3_ET           141741 non-null  float32\n",
      " 15  SuperCell_ET         141741 non-null  awkward\n",
      " 16  ID                   141741 non-null  int32  \n",
      "dtypes: awkward(1), float32(13), int32(2), uint32(1)\n",
      "memory usage: 62.2 MB\n"
     ]
    }
   ],
   "source": [
    "DFs[1].info()"
   ]
  },
  {
   "cell_type": "code",
   "execution_count": 9,
   "id": "a09eaae9",
   "metadata": {},
   "outputs": [
    {
     "name": "stdout",
     "output_type": "stream",
     "text": [
      "<class 'pandas.core.frame.DataFrame'>\n",
      "RangeIndex: 141741 entries, 0 to 141740\n",
      "Data columns (total 26 columns):\n",
      " #   Column               Non-Null Count   Dtype  \n",
      "---  ------               --------------   -----  \n",
      " 0   TOB_ET               141741 non-null  float32\n",
      " 1   TOB_eta              141741 non-null  float32\n",
      " 2   TOB_ieta             141741 non-null  int32  \n",
      " 3   TOB_ietabin          141741 non-null  uint32 \n",
      " 4   TOB_phi              141741 non-null  float32\n",
      " 5   offline_ele_pt       141741 non-null  float32\n",
      " 6   offline_ele_eta      141741 non-null  float32\n",
      " 7   offline_ele_eta_cal  141741 non-null  float32\n",
      " 8   offline_ele_phi      141741 non-null  float32\n",
      " 9   offline_ele_phi_cal  141741 non-null  float32\n",
      " 10  eFEX_ET              141741 non-null  float32\n",
      " 11  eFEX_PS_ET           141741 non-null  float32\n",
      " 12  eFEX_L1_ET           141741 non-null  float32\n",
      " 13  eFEX_L2_ET           141741 non-null  float32\n",
      " 14  eFEX_L3_ET           141741 non-null  float32\n",
      " 15  SuperCell_ET         141741 non-null  awkward\n",
      " 16  eFEX_ReC             141741 non-null  float32\n",
      " 17  eFEX_ReE             141741 non-null  float32\n",
      " 18  eFEX_RhE             141741 non-null  float32\n",
      " 19  eFEX_RhH             141741 non-null  float32\n",
      " 20  eFEX_WsN             141741 non-null  float32\n",
      " 21  eFEX_WsD             141741 non-null  float32\n",
      " 22  PS_Clus              141741 non-null  float64\n",
      " 23  EM1_Clus             141741 non-null  float64\n",
      " 24  EM2_Clus             141741 non-null  float64\n",
      " 25  EM3_Clus             141741 non-null  float64\n",
      "dtypes: awkward(1), float32(19), float64(4), int32(1), uint32(1)\n",
      "memory usage: 69.2 MB\n"
     ]
    }
   ],
   "source": [
    "# Look at supercells in signal events\n",
    "scVec = DFs[0]['SuperCell_ET']\n",
    "\n",
    "# Build some additional variables from the supercells\n",
    "# Start with vectors of zeros\n",
    "cl0=np.zeros(scVec.size)\n",
    "cl1=np.zeros(scVec.size)\n",
    "cl2=np.zeros(scVec.size)\n",
    "cl3=np.zeros(scVec.size)\n",
    "\n",
    "# Not figured a listwise way of doing operations this complex, sadly\n",
    "for roi in range(scVec.size):\n",
    "    inputs = scVec[roi]\n",
    "    cl0[roi],cl1[roi],cl2[roi],cl3[roi] = VariableMaker(inputs)\n",
    "\n",
    "# Add to dataframe\n",
    "DFs[0] = DFs[0].assign(PS_Clus=cl0)\n",
    "DFs[0] = DFs[0].assign(EM1_Clus=cl1)\n",
    "DFs[0] = DFs[0].assign(EM2_Clus=cl2)\n",
    "DFs[0] = DFs[0].assign(EM3_Clus=cl3)\n",
    "\n",
    "DFs[0].info()"
   ]
  },
  {
   "cell_type": "code",
   "execution_count": 10,
   "id": "ca38fe52-89a6-4190-9c5e-62379439e156",
   "metadata": {},
   "outputs": [
    {
     "name": "stdout",
     "output_type": "stream",
     "text": [
      "<class 'pandas.core.frame.DataFrame'>\n",
      "RangeIndex: 89169 entries, 0 to 89168\n",
      "Data columns (total 26 columns):\n",
      " #   Column               Non-Null Count  Dtype  \n",
      "---  ------               --------------  -----  \n",
      " 0   TOB_ET               89169 non-null  float32\n",
      " 1   TOB_eta              89169 non-null  float32\n",
      " 2   TOB_ieta             89169 non-null  int32  \n",
      " 3   TOB_ietabin          89169 non-null  uint32 \n",
      " 4   TOB_phi              89169 non-null  float32\n",
      " 5   offline_ele_pt       89169 non-null  float32\n",
      " 6   offline_ele_eta      89169 non-null  float32\n",
      " 7   offline_ele_eta_cal  89169 non-null  float32\n",
      " 8   offline_ele_phi      89169 non-null  float32\n",
      " 9   offline_ele_phi_cal  89169 non-null  float32\n",
      " 10  eFEX_ET              89169 non-null  float32\n",
      " 11  eFEX_PS_ET           89169 non-null  float32\n",
      " 12  eFEX_L1_ET           89169 non-null  float32\n",
      " 13  eFEX_L2_ET           89169 non-null  float32\n",
      " 14  eFEX_L3_ET           89169 non-null  float32\n",
      " 15  SuperCell_ET         89169 non-null  awkward\n",
      " 16  eFEX_ReC             89169 non-null  float32\n",
      " 17  eFEX_ReE             89169 non-null  float32\n",
      " 18  eFEX_RhE             89169 non-null  float32\n",
      " 19  eFEX_RhH             89169 non-null  float32\n",
      " 20  eFEX_WsN             89169 non-null  float32\n",
      " 21  eFEX_WsD             89169 non-null  float32\n",
      " 22  PS_Clus              89169 non-null  float64\n",
      " 23  EM1_Clus             89169 non-null  float64\n",
      " 24  EM2_Clus             89169 non-null  float64\n",
      " 25  EM3_Clus             89169 non-null  float64\n",
      "dtypes: awkward(1), float32(19), float64(4), int32(1), uint32(1)\n",
      "memory usage: 43.5 MB\n"
     ]
    }
   ],
   "source": [
    "# Repeat for background events\n",
    "scVec = DFs[2]['SuperCell_ET']\n",
    "\n",
    "# Build some additional variables from the supercells\n",
    "cl0=np.zeros(scVec.size)\n",
    "cl1=np.zeros(scVec.size)\n",
    "cl2=np.zeros(scVec.size)\n",
    "cl3=np.zeros(scVec.size)\n",
    "\n",
    "# Not figured a listwise way of doing operations this complex, sadly\n",
    "for roi in range(scVec.size):\n",
    "    inputs = scVec[roi]\n",
    "    cl0[roi],cl1[roi],cl2[roi],cl3[roi] = VariableMaker(inputs)\n",
    "\n",
    "# Add to dataframe\n",
    "DFs[2] = DFs[2].assign(PS_Clus=cl0)\n",
    "DFs[2] = DFs[2].assign(EM1_Clus=cl1)\n",
    "DFs[2] = DFs[2].assign(EM2_Clus=cl2)\n",
    "DFs[2] = DFs[2].assign(EM3_Clus=cl3)\n",
    "\n",
    "DFs[2].info()"
   ]
  },
  {
   "cell_type": "code",
   "execution_count": 11,
   "id": "d06bb821-0518-4714-b0cf-1de3c372c8a7",
   "metadata": {},
   "outputs": [
    {
     "data": {
      "image/png": "[encoded data removed]",
      "text/plain": [
       "<Figure size 800x600 with 1 Axes>"
      ]
     },
     "metadata": {},
     "output_type": "display_data"
    }
   ],
   "source": [
    "ax = DFs[0][\"eFEX_L1_ET\"].plot(kind='hist',bins=300, figsize=(8, 6))\n",
    "\n",
    "ax.set_xlim(0, 100)\n",
    "plt.title('Layer 1 ET of electron TOBs')\n",
    "plt.xlabel('Et') # Change the label here\n",
    "plt.ylabel('Events')\n",
    "\n",
    "# Show the plot\n",
    "plt.show()"
   ]
  },
  {
   "cell_type": "code",
   "execution_count": 12,
   "id": "74981bc4-ad5c-4001-b4fc-56a623c74639",
   "metadata": {},
   "outputs": [
    {
     "data": {
      "image/png": "[encoded data removed]",
      "text/plain": [
       "<Figure size 800x600 with 1 Axes>"
      ]
     },
     "metadata": {},
     "output_type": "display_data"
    }
   ],
   "source": [
    "ax = DFs[0][\"EM1_Clus\"].plot(kind='hist',bins=300, figsize=(8, 6))\n",
    "\n",
    "ax.set_xlim(0, 100)\n",
    "plt.title('Recalculated Layer 1 ET of electron TOBs')\n",
    "plt.xlabel('Et') # Change the label here\n",
    "plt.ylabel('Events')\n",
    "\n",
    "# Show the plot\n",
    "plt.show()"
   ]
  },
  {
   "cell_type": "code",
   "execution_count": 13,
   "id": "1d02d00c-2422-4fcb-abbf-29ca79616d44",
   "metadata": {},
   "outputs": [
    {
     "data": {
      "text/plain": [
       "count    141741.000000\n",
       "mean          0.407885\n",
       "std           1.009922\n",
       "min           0.000000\n",
       "25%           0.000000\n",
       "50%           0.000000\n",
       "75%           0.000000\n",
       "max           3.000000\n",
       "Name: ID, dtype: float64"
      ]
     },
     "execution_count": 13,
     "metadata": {},
     "output_type": "execute_result"
    }
   ],
   "source": [
    "DFs[1]['ID'].describe()"
   ]
  },
  {
   "cell_type": "code",
   "execution_count": 14,
   "id": "28b500d0",
   "metadata": {},
   "outputs": [
    {
     "data": {
      "text/plain": [
       "<Axes: >"
      ]
     },
     "execution_count": 14,
     "metadata": {},
     "output_type": "execute_result"
    },
    {
     "data": {
      "image/png": "[encoded data removed]",
      "text/plain": [
       "<Figure size 640x480 with 1 Axes>"
      ]
     },
     "metadata": {},
     "output_type": "display_data"
    }
   ],
   "source": [
    "DFs[1]['ID'].hist()"
   ]
  },
  {
   "cell_type": "code",
   "execution_count": 15,
   "id": "a0e57937",
   "metadata": {},
   "outputs": [],
   "source": [
    "# Discriminant using current eFEX isolation variables\n",
    "DFs[0] = pd.concat([DFs[0][[\"eFEX_ReC\", \"eFEX_ReE\", \"eFEX_RhE\" ,\"eFEX_RhH\" ,\"eFEX_WsN\", \"eFEX_WsD\"]], DFs[1]['ID'].copy()], axis=1)  # merge vars and decision \n",
    "DFs[2] = pd.concat([DFs[2][[\"eFEX_ReC\", \"eFEX_ReE\", \"eFEX_RhE\" ,\"eFEX_RhH\" ,\"eFEX_WsN\", \"eFEX_WsD\"]], DFs[3]['ID'].copy()], axis=1)\n"
   ]
  },
  {
   "cell_type": "code",
   "execution_count": 16,
   "id": "c0472a4c",
   "metadata": {},
   "outputs": [],
   "source": [
    "DFs[0]['Label'] = 0  # apply labels\n",
    "DFs[2]['Label'] = 1\n",
    "\n",
    "#print (DFs[0],DFs[0].shape)\n",
    "#print (DFs[2],DFs[2].shape)"
   ]
  },
  {
   "cell_type": "code",
   "execution_count": 17,
   "id": "bcd1de40",
   "metadata": {},
   "outputs": [],
   "source": [
    "DF = pd.concat([DFs[0], DFs[2]])  # merge electron and jet tobs"
   ]
  },
  {
   "cell_type": "code",
   "execution_count": 18,
   "id": "de1e570d",
   "metadata": {},
   "outputs": [],
   "source": [
    "X = DF[[\"eFEX_ReC\", \"eFEX_ReE\", \"eFEX_RhE\" ,\"eFEX_RhH\" ,\"eFEX_WsN\",\"eFEX_WsD\"]]  # training variables\n",
    "y = DF['Label']  # training labels"
   ]
  },
  {
   "cell_type": "markdown",
   "id": "bc8ea186",
   "metadata": {},
   "source": [
    "## Distribution of variables\n"
   ]
  },
  {
   "cell_type": "code",
   "execution_count": 19,
   "id": "a7f8e9a1",
   "metadata": {},
   "outputs": [
    {
     "data": {
      "text/html": [
       "<div>\n",
       "<style scoped>\n",
       "    .dataframe tbody tr th:only-of-type {\n",
       "        vertical-align: middle;\n",
       "    }\n",
       "\n",
       "    .dataframe tbody tr th {\n",
       "        vertical-align: top;\n",
       "    }\n",
       "\n",
       "    .dataframe thead th {\n",
       "        text-align: right;\n",
       "    }\n",
       "</style>\n",
       "<table border=\"1\" class=\"dataframe\">\n",
       "  <thead>\n",
       "    <tr style=\"text-align: right;\">\n",
       "      <th></th>\n",
       "      <th>eFEX_ReC</th>\n",
       "      <th>eFEX_ReE</th>\n",
       "      <th>eFEX_RhE</th>\n",
       "      <th>eFEX_RhH</th>\n",
       "      <th>eFEX_WsN</th>\n",
       "      <th>eFEX_WsD</th>\n",
       "    </tr>\n",
       "  </thead>\n",
       "  <tbody>\n",
       "    <tr>\n",
       "      <th>count</th>\n",
       "      <td>230910.000000</td>\n",
       "      <td>230910.000000</td>\n",
       "      <td>230910.000000</td>\n",
       "      <td>230910.000000</td>\n",
       "      <td>230910.000000</td>\n",
       "      <td>230910.000000</td>\n",
       "    </tr>\n",
       "    <tr>\n",
       "      <th>mean</th>\n",
       "      <td>13.343319</td>\n",
       "      <td>1.877509</td>\n",
       "      <td>20.838499</td>\n",
       "      <td>3.142241</td>\n",
       "      <td>3.021421</td>\n",
       "      <td>6.137535</td>\n",
       "    </tr>\n",
       "    <tr>\n",
       "      <th>std</th>\n",
       "      <td>12.271285</td>\n",
       "      <td>4.669007</td>\n",
       "      <td>17.522993</td>\n",
       "      <td>9.805500</td>\n",
       "      <td>5.369278</td>\n",
       "      <td>5.260538</td>\n",
       "    </tr>\n",
       "    <tr>\n",
       "      <th>min</th>\n",
       "      <td>0.400000</td>\n",
       "      <td>0.000000</td>\n",
       "      <td>1.775000</td>\n",
       "      <td>0.000000</td>\n",
       "      <td>0.000000</td>\n",
       "      <td>0.000000</td>\n",
       "    </tr>\n",
       "    <tr>\n",
       "      <th>25%</th>\n",
       "      <td>3.250000</td>\n",
       "      <td>0.000000</td>\n",
       "      <td>5.175000</td>\n",
       "      <td>0.000000</td>\n",
       "      <td>0.000000</td>\n",
       "      <td>1.725000</td>\n",
       "    </tr>\n",
       "    <tr>\n",
       "      <th>50%</th>\n",
       "      <td>11.575000</td>\n",
       "      <td>0.000000</td>\n",
       "      <td>19.475000</td>\n",
       "      <td>0.000000</td>\n",
       "      <td>1.175000</td>\n",
       "      <td>5.475000</td>\n",
       "    </tr>\n",
       "    <tr>\n",
       "      <th>75%</th>\n",
       "      <td>20.350000</td>\n",
       "      <td>1.500000</td>\n",
       "      <td>32.075001</td>\n",
       "      <td>1.500000</td>\n",
       "      <td>3.325000</td>\n",
       "      <td>9.375000</td>\n",
       "    </tr>\n",
       "    <tr>\n",
       "      <th>max</th>\n",
       "      <td>402.799988</td>\n",
       "      <td>225.675003</td>\n",
       "      <td>661.700012</td>\n",
       "      <td>342.000000</td>\n",
       "      <td>204.375000</td>\n",
       "      <td>226.100006</td>\n",
       "    </tr>\n",
       "  </tbody>\n",
       "</table>\n",
       "</div>"
      ],
      "text/plain": [
       "            eFEX_ReC       eFEX_ReE       eFEX_RhE       eFEX_RhH  \\\n",
       "count  230910.000000  230910.000000  230910.000000  230910.000000   \n",
       "mean       13.343319       1.877509      20.838499       3.142241   \n",
       "std        12.271285       4.669007      17.522993       9.805500   \n",
       "min         0.400000       0.000000       1.775000       0.000000   \n",
       "25%         3.250000       0.000000       5.175000       0.000000   \n",
       "50%        11.575000       0.000000      19.475000       0.000000   \n",
       "75%        20.350000       1.500000      32.075001       1.500000   \n",
       "max       402.799988     225.675003     661.700012     342.000000   \n",
       "\n",
       "            eFEX_WsN       eFEX_WsD  \n",
       "count  230910.000000  230910.000000  \n",
       "mean        3.021421       6.137535  \n",
       "std         5.369278       5.260538  \n",
       "min         0.000000       0.000000  \n",
       "25%         0.000000       1.725000  \n",
       "50%         1.175000       5.475000  \n",
       "75%         3.325000       9.375000  \n",
       "max       204.375000     226.100006  "
      ]
     },
     "execution_count": 19,
     "metadata": {},
     "output_type": "execute_result"
    }
   ],
   "source": [
    "X.describe()"
   ]
  },
  {
   "cell_type": "code",
   "execution_count": 20,
   "id": "c54d023b",
   "metadata": {},
   "outputs": [
    {
     "data": {
      "text/plain": [
       "Index(['TOB_ET', 'TOB_eta', 'TOB_ieta', 'TOB_ietabin', 'TOB_phi',\n",
       "       'offline_ele_pt', 'offline_ele_eta', 'offline_ele_eta_cal',\n",
       "       'offline_ele_phi', 'offline_ele_phi_cal', 'eFEX_ET', 'eFEX_PS_ET',\n",
       "       'eFEX_L1_ET', 'eFEX_L2_ET', 'eFEX_L3_ET', 'SuperCell_ET', 'ID'],\n",
       "      dtype='object')"
      ]
     },
     "execution_count": 20,
     "metadata": {},
     "output_type": "execute_result"
    }
   ],
   "source": [
    "DFs[1].columns         # background"
   ]
  },
  {
   "cell_type": "code",
   "execution_count": 21,
   "id": "31f498d1",
   "metadata": {},
   "outputs": [
    {
     "data": {
      "image/png": "[encoded data removed]",
      "text/plain": [
       "<Figure size 800x600 with 1 Axes>"
      ]
     },
     "metadata": {},
     "output_type": "display_data"
    }
   ],
   "source": [
    "ax = DFs[1][\"TOB_ET\"].plot(kind='hist',bins=300, figsize=(8, 6))\n",
    "\n",
    "ax.set_xlim(0, 100)\n",
    "plt.title('Energy of jet ToBs')\n",
    "plt.xlabel('Et') # Change the label here\n",
    "plt.ylabel('Events')\n",
    "\n",
    "# Show the plot\n",
    "plt.show()"
   ]
  },
  {
   "cell_type": "code",
   "execution_count": 22,
   "id": "58f7473f",
   "metadata": {},
   "outputs": [
    {
     "data": {
      "text/plain": [
       "Index(['TOB_ET', 'TOB_eta', 'TOB_ieta', 'TOB_ietabin', 'TOB_phi',\n",
       "       'offline_ele_pt', 'offline_ele_eta', 'offline_ele_eta_cal',\n",
       "       'offline_ele_phi', 'offline_ele_phi_cal', 'eFEX_ET', 'eFEX_PS_ET',\n",
       "       'eFEX_L1_ET', 'eFEX_L2_ET', 'eFEX_L3_ET', 'SuperCell_ET', 'ID'],\n",
       "      dtype='object')"
      ]
     },
     "execution_count": 22,
     "metadata": {},
     "output_type": "execute_result"
    }
   ],
   "source": [
    "DFs[3].columns         # signal"
   ]
  },
  {
   "cell_type": "code",
   "execution_count": 23,
   "id": "077934ab",
   "metadata": {},
   "outputs": [
    {
     "data": {
      "image/png": "[encoded data removed]",
      "text/plain": [
       "<Figure size 800x600 with 1 Axes>"
      ]
     },
     "metadata": {},
     "output_type": "display_data"
    }
   ],
   "source": [
    "ax = DFs[3][\"TOB_ET\"].plot(kind='hist',bins=300, figsize=(8, 6))\n",
    "\n",
    "ax.set_xlim(0, 100)\n",
    "plt.title('Energy of electron ToBs')\n",
    "plt.xlabel('Et') # Change the label here\n",
    "plt.ylabel('Events')\n",
    "\n",
    "# Show the plot\n",
    "plt.show()"
   ]
  },
  {
   "cell_type": "code",
   "execution_count": null,
   "id": "d55593da",
   "metadata": {},
   "outputs": [],
   "source": []
  },
  {
   "cell_type": "code",
   "execution_count": null,
   "id": "8e7d622d-7460-448e-985b-b12a8ca070a1",
   "metadata": {},
   "outputs": [],
   "source": []
  },
  {
   "cell_type": "code",
   "execution_count": null,
   "id": "71a09231-a18c-4c16-b1ab-276fc5856f1d",
   "metadata": {},
   "outputs": [],
   "source": []
  },
  {
   "cell_type": "code",
   "execution_count": null,
   "id": "4d706450-a5da-4fd0-b127-8d004487b98e",
   "metadata": {},
   "outputs": [],
   "source": []
  },
  {
   "cell_type": "code",
   "execution_count": null,
   "id": "8ad959f5-3593-4b8f-8032-17ce7fe6f58a",
   "metadata": {},
   "outputs": [],
   "source": []
  },
  {
   "cell_type": "code",
   "execution_count": null,
   "id": "853415b9-359f-4c4d-aebb-6ea20e1ef965",
   "metadata": {},
   "outputs": [],
   "source": []
  }
 ],
 "metadata": {
  "kernelspec": {
   "display_name": "Python 3",
   "language": "python",
   "name": "python3"
  },
  "language_info": {
   "codemirror_mode": {
    "name": "ipython",
    "version": 3
   },
   "file_extension": ".py",
   "mimetype": "text/x-python",
   "name": "python",
   "nbconvert_exporter": "python",
   "pygments_lexer": "ipython3",
   "version": "3.12.6"
  }
 },
 "nbformat": 4,
 "nbformat_minor": 5
}
