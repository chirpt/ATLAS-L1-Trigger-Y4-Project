{
 "cells": [
  {
   "cell_type": "code",
   "execution_count": 1,
   "metadata": {},
   "outputs": [
    {
     "name": "stderr",
     "output_type": "stream",
     "text": [
      "C:\\Users\\tymch\\AppData\\Local\\Packages\\PythonSoftwareFoundation.Python.3.11_qbz5n2kfra8p0\\LocalCache\\local-packages\\Python311\\site-packages\\tqdm\\auto.py:21: TqdmWarning: IProgress not found. Please update jupyter and ipywidgets. See https://ipywidgets.readthedocs.io/en/stable/user_install.html\n",
      "  from .autonotebook import tqdm as notebook_tqdm\n"
     ]
    },
    {
     "name": "stdout",
     "output_type": "stream",
     "text": [
      "Imported 43 binary classifiers:\n",
      "['AdaBoostClassifier', 'BaggingClassifier', 'BernoulliNB', 'CalibratedClassifierCV', 'CategoricalNB', 'ClassifierChain', 'ComplementNB', 'DecisionTreeClassifier', 'DummyClassifier', 'ExtraTreeClassifier', 'ExtraTreesClassifier', 'FixedThresholdClassifier', 'GaussianNB', 'GaussianProcessClassifier', 'GradientBoostingClassifier', 'HistGradientBoostingClassifier', 'KNeighborsClassifier', 'LabelPropagation', 'LabelSpreading', 'LinearDiscriminantAnalysis', 'LinearSVC', 'LogisticRegression', 'LogisticRegressionCV', 'MLPClassifier', 'MultiOutputClassifier', 'MultinomialNB', 'NearestCentroid', 'NuSVC', 'OneVsOneClassifier', 'OneVsRestClassifier', 'OutputCodeClassifier', 'PassiveAggressiveClassifier', 'Perceptron', 'QuadraticDiscriminantAnalysis', 'RadiusNeighborsClassifier', 'RandomForestClassifier', 'RidgeClassifier', 'RidgeClassifierCV', 'SGDClassifier', 'SVC', 'TunedThresholdClassifierCV', 'VotingClassifier', 'XGBClassifier']\n"
     ]
    },
    {
     "ename": "",
     "evalue": "",
     "output_type": "error",
     "traceback": [
      "\u001b[1;31mThe Kernel crashed while executing code in the current cell or a previous cell. \n",
      "\u001b[1;31mPlease review the code in the cell(s) to identify a possible cause of the failure. \n",
      "\u001b[1;31mClick <a href='https://aka.ms/vscodeJupyterKernelCrash'>here</a> for more info. \n",
      "\u001b[1;31mView Jupyter <a href='command:jupyter.viewOutput'>log</a> for further details."
     ]
    }
   ],
   "source": [
    "import sys\n",
    "import os\n",
    "\n",
    "parent_dir = os.path.dirname(os.getcwd())\n",
    "sys.path.append(parent_dir)\n",
    "\n",
    "from utilities_new import *\n",
    "\n",
    "description = []\n",
    "data_subdir = \"topocluster_Zee_Large\"\n",
    "accept_data_filename = \"l1calo_topocluster_test_Zee.root\"\n",
    "reject_data_filename = \"ZMUMU_TopoCluster_Supercell_Large.root\"\n",
    "format_mode = \"topocluster_ET_boundaries\"\n",
    "equalised = [False, True]\n",
    "distance_boundaries = [[0.1,0.2,0.3,0.4],\n",
    "                             [0.05,0.1,0.15,0.2,0.25,0.3,0.35,0.4],\n",
    "                            #  [0.05,0.1,0.15,0.4],\n",
    "                             [0.0125,0.025,0.05,0.1,0.2,0.4],\n",
    "                             [0.00625,0.0125,0.025,0.05,0.1,0.2,0.4]\n",
    "                            #  ,\n",
    "                            #  [0.00625,0.0125,0.025,0.05,0.1,0.4],\n",
    "                            #  [0.00625,0.0125,0.025,0.05,0.1,0.15,0.4]\n",
    "                            ]\n",
    "\n",
    "binary_classifiers = import_all_classifiers()\n"
   ]
  },
  {
   "cell_type": "code",
   "execution_count": null,
   "metadata": {},
   "outputs": [
    {
     "name": "stderr",
     "output_type": "stream",
     "text": [
      "  0%|          | 0/2 [00:00<?, ?it/s]"
     ]
    },
    {
     "name": "stdout",
     "output_type": "stream",
     "text": [
      "found preprepared data in ..\\data\\topocluster_Zee_Large_ring_01020304_eqFalse\n",
      "found data preparation log in ..\\data\\topocluster_Zee_Large_ring_01020304_eqFalse\\log.json\n",
      "Log saved to topocluster_Zee_Large_ring_01020304_eqFalse\\log.json\n"
     ]
    },
    {
     "name": "stderr",
     "output_type": "stream",
     "text": [
      "\n",
      "\u001b[AC:\\Users\\tymch\\AppData\\Local\\Packages\\PythonSoftwareFoundation.Python.3.11_qbz5n2kfra8p0\\LocalCache\\local-packages\\Python311\\site-packages\\sklearn\\ensemble\\_weight_boosting.py:527: FutureWarning: The SAMME.R algorithm (the default) is deprecated and will be removed in 1.6. Use the SAMME algorithm to circumvent this warning.\n",
      "  warnings.warn(\n"
     ]
    },
    {
     "name": "stdout",
     "output_type": "stream",
     "text": [
      "\n",
      "\n",
      "Evaluation of AdaBoostClassifier\n",
      "Confusion Matrix:\n",
      " [[95627 11520]\n",
      " [ 6447 67866]]\n",
      "Accuracy: 0.90098644\n",
      "Recall: 0.91324533\n",
      "Precision: 0.85488625\n",
      "F1 Score: 0.88310269\n",
      "Classification Report:\n",
      "               precision    recall  f1-score   support\n",
      "\n",
      "         0.0       0.94      0.89      0.91    107147\n",
      "         1.0       0.85      0.91      0.88     74313\n",
      "\n",
      "    accuracy                           0.90    181460\n",
      "   macro avg       0.90      0.90      0.90    181460\n",
      "weighted avg       0.90      0.90      0.90    181460\n",
      "\n",
      "Mean Squared Error: 0.09901356\n",
      "\n",
      "ROC data saved to topocluster_Zee_Large_ring_01020304_eqFalse\\roc\\roc_ring_01020304_AdaBoostClassifier.json\n"
     ]
    },
    {
     "name": "stderr",
     "output_type": "stream",
     "text": [
      "\n",
      "\u001b[A"
     ]
    },
    {
     "name": "stdout",
     "output_type": "stream",
     "text": [
      "Precision-Recall data saved to topocluster_Zee_Large_ring_01020304_eqFalse\\precision_recall\\precision_recall_ring_01020304_AdaBoostClassifier.json\n",
      "Efficiency vs Electron PT data saved to topocluster_Zee_Large_ring_01020304_eqFalse\\efficiency_vs_ele_pt\\efficiency_vs_ele_pt_ring_01020304_AdaBoostClassifier.json\n",
      "\n",
      "\n",
      "Evaluation of BaggingClassifier\n",
      "Confusion Matrix:\n",
      " [[95882 11265]\n",
      " [ 8530 65783]]\n",
      "Accuracy: 0.89091260\n",
      "Recall: 0.88521524\n",
      "Precision: 0.85379244\n",
      "F1 Score: 0.86921994\n",
      "Classification Report:\n",
      "               precision    recall  f1-score   support\n",
      "\n",
      "         0.0       0.92      0.89      0.91    107147\n",
      "         1.0       0.85      0.89      0.87     74313\n",
      "\n",
      "    accuracy                           0.89    181460\n",
      "   macro avg       0.89      0.89      0.89    181460\n",
      "weighted avg       0.89      0.89      0.89    181460\n",
      "\n",
      "Mean Squared Error: 0.10908740\n",
      "\n",
      "ROC data saved to topocluster_Zee_Large_ring_01020304_eqFalse\\roc\\roc_ring_01020304_BaggingClassifier.json\n"
     ]
    },
    {
     "name": "stderr",
     "output_type": "stream",
     "text": [
      "\n",
      "\u001b[A"
     ]
    },
    {
     "name": "stdout",
     "output_type": "stream",
     "text": [
      "Precision-Recall data saved to topocluster_Zee_Large_ring_01020304_eqFalse\\precision_recall\\precision_recall_ring_01020304_BaggingClassifier.json\n",
      "Efficiency vs Electron PT data saved to topocluster_Zee_Large_ring_01020304_eqFalse\\efficiency_vs_ele_pt\\efficiency_vs_ele_pt_ring_01020304_BaggingClassifier.json\n",
      "\n",
      "\n",
      "Evaluation of BernoulliNB\n",
      "Confusion Matrix:\n",
      " [[92875 14272]\n",
      " [39741 34572]]\n",
      "Accuracy: 0.70234211\n",
      "Recall: 0.46522143\n",
      "Precision: 0.70780444\n",
      "F1 Score: 0.56142972\n",
      "Classification Report:\n",
      "               precision    recall  f1-score   support\n",
      "\n",
      "         0.0       0.70      0.87      0.77    107147\n",
      "         1.0       0.71      0.47      0.56     74313\n",
      "\n",
      "    accuracy                           0.70    181460\n",
      "   macro avg       0.70      0.67      0.67    181460\n",
      "weighted avg       0.70      0.70      0.69    181460\n",
      "\n",
      "Mean Squared Error: 0.29765789\n",
      "\n"
     ]
    },
    {
     "name": "stderr",
     "output_type": "stream",
     "text": [
      "\n",
      "\u001b[A"
     ]
    },
    {
     "name": "stdout",
     "output_type": "stream",
     "text": [
      "ROC data saved to topocluster_Zee_Large_ring_01020304_eqFalse\\roc\\roc_ring_01020304_BernoulliNB.json\n",
      "Precision-Recall data saved to topocluster_Zee_Large_ring_01020304_eqFalse\\precision_recall\\precision_recall_ring_01020304_BernoulliNB.json\n",
      "Efficiency vs Electron PT data saved to topocluster_Zee_Large_ring_01020304_eqFalse\\efficiency_vs_ele_pt\\efficiency_vs_ele_pt_ring_01020304_BernoulliNB.json\n",
      "\n",
      "\n",
      "Evaluation of CalibratedClassifierCV\n",
      "Confusion Matrix:\n",
      " [[86483 20664]\n",
      " [ 9444 64869]]\n",
      "Accuracy: 0.83407914\n",
      "Recall: 0.87291591\n",
      "Precision: 0.75840904\n",
      "F1 Score: 0.81164371\n",
      "Classification Report:\n",
      "               precision    recall  f1-score   support\n",
      "\n",
      "         0.0       0.90      0.81      0.85    107147\n",
      "         1.0       0.76      0.87      0.81     74313\n",
      "\n",
      "    accuracy                           0.83    181460\n",
      "   macro avg       0.83      0.84      0.83    181460\n",
      "weighted avg       0.84      0.83      0.84    181460\n",
      "\n",
      "Mean Squared Error: 0.16592086\n",
      "\n",
      "ROC data saved to topocluster_Zee_Large_ring_01020304_eqFalse\\roc\\roc_ring_01020304_CalibratedClassifierCV.json\n"
     ]
    },
    {
     "name": "stderr",
     "output_type": "stream",
     "text": [
      "\n",
      "\u001b[A"
     ]
    },
    {
     "name": "stdout",
     "output_type": "stream",
     "text": [
      "Precision-Recall data saved to topocluster_Zee_Large_ring_01020304_eqFalse\\precision_recall\\precision_recall_ring_01020304_CalibratedClassifierCV.json\n",
      "Efficiency vs Electron PT data saved to topocluster_Zee_Large_ring_01020304_eqFalse\\efficiency_vs_ele_pt\\efficiency_vs_ele_pt_ring_01020304_CalibratedClassifierCV.json\n",
      "Could not train or predict with CategoricalNB: Negative values in data passed to CategoricalNB (input X)\n",
      "Could not train or predict with ClassifierChain: tuple index out of range\n",
      "Could not train or predict with ComplementNB: Negative values in data passed to ComplementNB (input X)\n",
      "\n",
      "\n",
      "Evaluation of DecisionTreeClassifier\n",
      "Confusion Matrix:\n",
      " [[94055 13092]\n",
      " [13790 60523]]\n",
      "Accuracy: 0.85185716\n",
      "Recall: 0.81443354\n",
      "Precision: 0.82215581\n",
      "F1 Score: 0.81827646\n"
     ]
    },
    {
     "name": "stderr",
     "output_type": "stream",
     "text": [
      "\n",
      "\u001b[A"
     ]
    },
    {
     "name": "stdout",
     "output_type": "stream",
     "text": [
      "Classification Report:\n",
      "               precision    recall  f1-score   support\n",
      "\n",
      "         0.0       0.87      0.88      0.87    107147\n",
      "         1.0       0.82      0.81      0.82     74313\n",
      "\n",
      "    accuracy                           0.85    181460\n",
      "   macro avg       0.85      0.85      0.85    181460\n",
      "weighted avg       0.85      0.85      0.85    181460\n",
      "\n",
      "Mean Squared Error: 0.14814284\n",
      "\n",
      "ROC data saved to topocluster_Zee_Large_ring_01020304_eqFalse\\roc\\roc_ring_01020304_DecisionTreeClassifier.json\n",
      "Precision-Recall data saved to topocluster_Zee_Large_ring_01020304_eqFalse\\precision_recall\\precision_recall_ring_01020304_DecisionTreeClassifier.json\n",
      "Efficiency vs Electron PT data saved to topocluster_Zee_Large_ring_01020304_eqFalse\\efficiency_vs_ele_pt\\efficiency_vs_ele_pt_ring_01020304_DecisionTreeClassifier.json\n",
      "\n",
      "\n",
      "Evaluation of DummyClassifier\n"
     ]
    },
    {
     "name": "stderr",
     "output_type": "stream",
     "text": [
      "C:\\Users\\tymch\\AppData\\Local\\Packages\\PythonSoftwareFoundation.Python.3.11_qbz5n2kfra8p0\\LocalCache\\local-packages\\Python311\\site-packages\\sklearn\\metrics\\_classification.py:1531: UndefinedMetricWarning: Precision is ill-defined and being set to 0.0 due to no predicted samples. Use `zero_division` parameter to control this behavior.\n",
      "  _warn_prf(average, modifier, f\"{metric.capitalize()} is\", len(result))\n"
     ]
    },
    {
     "name": "stdout",
     "output_type": "stream",
     "text": [
      "Confusion Matrix:\n",
      " [[107147      0]\n",
      " [ 74313      0]]\n",
      "Accuracy: 0.59047173\n",
      "Recall: 0.00000000\n",
      "Precision: 0.00000000\n",
      "F1 Score: 0.00000000\n",
      "Classification Report:\n",
      "               precision    recall  f1-score   support\n",
      "\n",
      "         0.0       0.59      1.00      0.74    107147\n",
      "         1.0       0.00      0.00      0.00     74313\n",
      "\n",
      "    accuracy                           0.59    181460\n",
      "   macro avg       0.30      0.50      0.37    181460\n",
      "weighted avg       0.35      0.59      0.44    181460\n",
      "\n",
      "Mean Squared Error: 0.40952827\n",
      "\n",
      "ROC data saved to topocluster_Zee_Large_ring_01020304_eqFalse\\roc\\roc_ring_01020304_DummyClassifier.json\n"
     ]
    },
    {
     "name": "stderr",
     "output_type": "stream",
     "text": [
      "C:\\Users\\tymch\\AppData\\Local\\Packages\\PythonSoftwareFoundation.Python.3.11_qbz5n2kfra8p0\\LocalCache\\local-packages\\Python311\\site-packages\\sklearn\\metrics\\_classification.py:1531: UndefinedMetricWarning: Precision is ill-defined and being set to 0.0 in labels with no predicted samples. Use `zero_division` parameter to control this behavior.\n",
      "  _warn_prf(average, modifier, f\"{metric.capitalize()} is\", len(result))\n",
      "C:\\Users\\tymch\\AppData\\Local\\Packages\\PythonSoftwareFoundation.Python.3.11_qbz5n2kfra8p0\\LocalCache\\local-packages\\Python311\\site-packages\\sklearn\\metrics\\_classification.py:1531: UndefinedMetricWarning: Precision is ill-defined and being set to 0.0 in labels with no predicted samples. Use `zero_division` parameter to control this behavior.\n",
      "  _warn_prf(average, modifier, f\"{metric.capitalize()} is\", len(result))\n",
      "C:\\Users\\tymch\\AppData\\Local\\Packages\\PythonSoftwareFoundation.Python.3.11_qbz5n2kfra8p0\\LocalCache\\local-packages\\Python311\\site-packages\\sklearn\\metrics\\_classification.py:1531: UndefinedMetricWarning: Precision is ill-defined and being set to 0.0 in labels with no predicted samples. Use `zero_division` parameter to control this behavior.\n",
      "  _warn_prf(average, modifier, f\"{metric.capitalize()} is\", len(result))\n",
      "\n",
      "\u001b[A"
     ]
    },
    {
     "name": "stdout",
     "output_type": "stream",
     "text": [
      "Precision-Recall data saved to topocluster_Zee_Large_ring_01020304_eqFalse\\precision_recall\\precision_recall_ring_01020304_DummyClassifier.json\n",
      "Efficiency vs Electron PT data saved to topocluster_Zee_Large_ring_01020304_eqFalse\\efficiency_vs_ele_pt\\efficiency_vs_ele_pt_ring_01020304_DummyClassifier.json\n",
      "\n",
      "\n",
      "Evaluation of ExtraTreeClassifier\n",
      "Confusion Matrix:\n",
      " [[93918 13229]\n",
      " [13590 60723]]\n",
      "Accuracy: 0.85220434\n",
      "Recall: 0.81712486\n",
      "Precision: 0.82111370\n",
      "F1 Score: 0.81911442\n",
      "Classification Report:\n",
      "               precision    recall  f1-score   support\n",
      "\n",
      "         0.0       0.87      0.88      0.88    107147\n",
      "         1.0       0.82      0.82      0.82     74313\n",
      "\n",
      "    accuracy                           0.85    181460\n",
      "   macro avg       0.85      0.85      0.85    181460\n",
      "weighted avg       0.85      0.85      0.85    181460\n",
      "\n",
      "Mean Squared Error: 0.14779566\n",
      "\n",
      "ROC data saved to topocluster_Zee_Large_ring_01020304_eqFalse\\roc\\roc_ring_01020304_ExtraTreeClassifier.json\n"
     ]
    },
    {
     "name": "stderr",
     "output_type": "stream",
     "text": [
      "\n",
      "\u001b[A"
     ]
    },
    {
     "name": "stdout",
     "output_type": "stream",
     "text": [
      "Precision-Recall data saved to topocluster_Zee_Large_ring_01020304_eqFalse\\precision_recall\\precision_recall_ring_01020304_ExtraTreeClassifier.json\n",
      "Efficiency vs Electron PT data saved to topocluster_Zee_Large_ring_01020304_eqFalse\\efficiency_vs_ele_pt\\efficiency_vs_ele_pt_ring_01020304_ExtraTreeClassifier.json\n",
      "\n",
      "\n",
      "Evaluation of ExtraTreesClassifier\n",
      "Confusion Matrix:\n",
      " [[95197 11950]\n",
      " [ 6235 68078]]\n",
      "Accuracy: 0.89978508\n",
      "Recall: 0.91609813\n",
      "Precision: 0.85067726\n",
      "F1 Score: 0.88217648\n",
      "Classification Report:\n",
      "               precision    recall  f1-score   support\n",
      "\n",
      "         0.0       0.94      0.89      0.91    107147\n",
      "         1.0       0.85      0.92      0.88     74313\n",
      "\n",
      "    accuracy                           0.90    181460\n",
      "   macro avg       0.89      0.90      0.90    181460\n",
      "weighted avg       0.90      0.90      0.90    181460\n",
      "\n",
      "Mean Squared Error: 0.10021492\n",
      "\n",
      "ROC data saved to topocluster_Zee_Large_ring_01020304_eqFalse\\roc\\roc_ring_01020304_ExtraTreesClassifier.json\n"
     ]
    },
    {
     "name": "stderr",
     "output_type": "stream",
     "text": [
      "\n",
      "\u001b[A"
     ]
    },
    {
     "name": "stdout",
     "output_type": "stream",
     "text": [
      "Precision-Recall data saved to topocluster_Zee_Large_ring_01020304_eqFalse\\precision_recall\\precision_recall_ring_01020304_ExtraTreesClassifier.json\n",
      "Efficiency vs Electron PT data saved to topocluster_Zee_Large_ring_01020304_eqFalse\\efficiency_vs_ele_pt\\efficiency_vs_ele_pt_ring_01020304_ExtraTreesClassifier.json\n",
      "\n",
      "\n",
      "Evaluation of FixedThresholdClassifier\n",
      "Confusion Matrix:\n",
      " [[94251 12896]\n",
      " [ 5050 69263]]\n",
      "Accuracy: 0.90110217\n",
      "Recall: 0.93204419\n",
      "Precision: 0.84303606\n",
      "F1 Score: 0.88530855\n",
      "Classification Report:\n",
      "               precision    recall  f1-score   support\n",
      "\n",
      "         0.0       0.95      0.88      0.91    107147\n",
      "         1.0       0.84      0.93      0.89     74313\n",
      "\n",
      "    accuracy                           0.90    181460\n",
      "   macro avg       0.90      0.91      0.90    181460\n",
      "weighted avg       0.91      0.90      0.90    181460\n",
      "\n",
      "Mean Squared Error: 0.09889783\n",
      "\n",
      "ROC data saved to topocluster_Zee_Large_ring_01020304_eqFalse\\roc\\roc_ring_01020304_FixedThresholdClassifier.json\n"
     ]
    },
    {
     "name": "stderr",
     "output_type": "stream",
     "text": [
      "\n",
      "\u001b[A"
     ]
    },
    {
     "name": "stdout",
     "output_type": "stream",
     "text": [
      "Precision-Recall data saved to topocluster_Zee_Large_ring_01020304_eqFalse\\precision_recall\\precision_recall_ring_01020304_FixedThresholdClassifier.json\n",
      "Efficiency vs Electron PT data saved to topocluster_Zee_Large_ring_01020304_eqFalse\\efficiency_vs_ele_pt\\efficiency_vs_ele_pt_ring_01020304_FixedThresholdClassifier.json\n",
      "\n",
      "\n",
      "Evaluation of GaussianNB\n",
      "Confusion Matrix:\n",
      " [[81652 25495]\n",
      " [ 3303 71010]]\n",
      "Accuracy: 0.84129836\n",
      "Recall: 0.95555286\n",
      "Precision: 0.73581680\n",
      "F1 Score: 0.83141121\n",
      "Classification Report:\n",
      "               precision    recall  f1-score   support\n",
      "\n",
      "         0.0       0.96      0.76      0.85    107147\n",
      "         1.0       0.74      0.96      0.83     74313\n",
      "\n",
      "    accuracy                           0.84    181460\n",
      "   macro avg       0.85      0.86      0.84    181460\n",
      "weighted avg       0.87      0.84      0.84    181460\n",
      "\n",
      "Mean Squared Error: 0.15870164\n",
      "\n",
      "ROC data saved to topocluster_Zee_Large_ring_01020304_eqFalse\\roc\\roc_ring_01020304_GaussianNB.json\n"
     ]
    },
    {
     "name": "stderr",
     "output_type": "stream",
     "text": [
      "\n",
      "\u001b[A"
     ]
    },
    {
     "name": "stdout",
     "output_type": "stream",
     "text": [
      "Precision-Recall data saved to topocluster_Zee_Large_ring_01020304_eqFalse\\precision_recall\\precision_recall_ring_01020304_GaussianNB.json\n",
      "Efficiency vs Electron PT data saved to topocluster_Zee_Large_ring_01020304_eqFalse\\efficiency_vs_ele_pt\\efficiency_vs_ele_pt_ring_01020304_GaussianNB.json\n",
      "Could not train or predict with GaussianProcessClassifier: Unable to allocate 3.83 TiB for an array with shape (725840, 725840) and data type float64\n",
      "\n",
      "\n",
      "Evaluation of GradientBoostingClassifier\n",
      "Confusion Matrix:\n",
      " [[95091 12056]\n",
      " [ 5248 69065]]\n",
      "Accuracy: 0.90464014\n",
      "Recall: 0.92937979\n",
      "Precision: 0.85138250\n",
      "F1 Score: 0.88867301\n",
      "Classification Report:\n",
      "               precision    recall  f1-score   support\n",
      "\n",
      "         0.0       0.95      0.89      0.92    107147\n",
      "         1.0       0.85      0.93      0.89     74313\n",
      "\n",
      "    accuracy                           0.90    181460\n",
      "   macro avg       0.90      0.91      0.90    181460\n",
      "weighted avg       0.91      0.90      0.91    181460\n",
      "\n",
      "Mean Squared Error: 0.09535986\n",
      "\n",
      "ROC data saved to topocluster_Zee_Large_ring_01020304_eqFalse\\roc\\roc_ring_01020304_GradientBoostingClassifier.json\n",
      "Precision-Recall data saved to topocluster_Zee_Large_ring_01020304_eqFalse\\precision_recall\\precision_recall_ring_01020304_GradientBoostingClassifier.json\n"
     ]
    },
    {
     "name": "stderr",
     "output_type": "stream",
     "text": [
      "\n",
      "\u001b[A"
     ]
    },
    {
     "name": "stdout",
     "output_type": "stream",
     "text": [
      "Efficiency vs Electron PT data saved to topocluster_Zee_Large_ring_01020304_eqFalse\\efficiency_vs_ele_pt\\efficiency_vs_ele_pt_ring_01020304_GradientBoostingClassifier.json\n",
      "\n",
      "\n",
      "Evaluation of HistGradientBoostingClassifier\n",
      "Confusion Matrix:\n",
      " [[95060 12087]\n",
      " [ 5188 69125]]\n",
      "Accuracy: 0.90479996\n",
      "Recall: 0.93018718\n",
      "Precision: 0.85116732\n",
      "F1 Score: 0.88892461\n",
      "Classification Report:\n",
      "               precision    recall  f1-score   support\n",
      "\n",
      "         0.0       0.95      0.89      0.92    107147\n",
      "         1.0       0.85      0.93      0.89     74313\n",
      "\n",
      "    accuracy                           0.90    181460\n",
      "   macro avg       0.90      0.91      0.90    181460\n",
      "weighted avg       0.91      0.90      0.91    181460\n",
      "\n",
      "Mean Squared Error: 0.09520004\n",
      "\n",
      "ROC data saved to topocluster_Zee_Large_ring_01020304_eqFalse\\roc\\roc_ring_01020304_HistGradientBoostingClassifier.json\n"
     ]
    },
    {
     "name": "stderr",
     "output_type": "stream",
     "text": [
      "\n",
      "\u001b[A"
     ]
    },
    {
     "name": "stdout",
     "output_type": "stream",
     "text": [
      "Precision-Recall data saved to topocluster_Zee_Large_ring_01020304_eqFalse\\precision_recall\\precision_recall_ring_01020304_HistGradientBoostingClassifier.json\n",
      "Efficiency vs Electron PT data saved to topocluster_Zee_Large_ring_01020304_eqFalse\\efficiency_vs_ele_pt\\efficiency_vs_ele_pt_ring_01020304_HistGradientBoostingClassifier.json\n",
      "\n",
      "\n",
      "Evaluation of KNeighborsClassifier\n",
      "Confusion Matrix:\n",
      " [[94971 12176]\n",
      " [ 7137 67176]]\n",
      "Accuracy: 0.89356883\n",
      "Recall: 0.90396028\n",
      "Precision: 0.84655711\n",
      "F1 Score: 0.87431751\n",
      "Classification Report:\n",
      "               precision    recall  f1-score   support\n",
      "\n",
      "         0.0       0.93      0.89      0.91    107147\n",
      "         1.0       0.85      0.90      0.87     74313\n",
      "\n",
      "    accuracy                           0.89    181460\n",
      "   macro avg       0.89      0.90      0.89    181460\n",
      "weighted avg       0.90      0.89      0.89    181460\n",
      "\n",
      "Mean Squared Error: 0.10643117\n",
      "\n",
      "ROC data saved to topocluster_Zee_Large_ring_01020304_eqFalse\\roc\\roc_ring_01020304_KNeighborsClassifier.json\n"
     ]
    },
    {
     "name": "stderr",
     "output_type": "stream",
     "text": [
      "\n",
      "\u001b[A"
     ]
    },
    {
     "name": "stdout",
     "output_type": "stream",
     "text": [
      "Precision-Recall data saved to topocluster_Zee_Large_ring_01020304_eqFalse\\precision_recall\\precision_recall_ring_01020304_KNeighborsClassifier.json\n",
      "Efficiency vs Electron PT data saved to topocluster_Zee_Large_ring_01020304_eqFalse\\efficiency_vs_ele_pt\\efficiency_vs_ele_pt_ring_01020304_KNeighborsClassifier.json\n",
      "Could not train or predict with LabelPropagation: Unable to allocate 3.83 TiB for an array with shape (725840, 725840) and data type float64\n",
      "Could not train or predict with LabelSpreading: Unable to allocate 3.83 TiB for an array with shape (725840, 725840) and data type float64\n",
      "\n",
      "\n",
      "Evaluation of LinearDiscriminantAnalysis\n",
      "Confusion Matrix:\n",
      " [[86970 20177]\n",
      " [ 3815 70498]]\n",
      "Accuracy: 0.86778353\n",
      "Recall: 0.94866309\n",
      "Precision: 0.77748001\n",
      "F1 Score: 0.85458336\n",
      "Classification Report:\n",
      "               precision    recall  f1-score   support\n",
      "\n",
      "         0.0       0.96      0.81      0.88    107147\n",
      "         1.0       0.78      0.95      0.85     74313\n",
      "\n",
      "    accuracy                           0.87    181460\n",
      "   macro avg       0.87      0.88      0.87    181460\n",
      "weighted avg       0.88      0.87      0.87    181460\n",
      "\n",
      "Mean Squared Error: 0.13221647\n",
      "\n",
      "ROC data saved to topocluster_Zee_Large_ring_01020304_eqFalse\\roc\\roc_ring_01020304_LinearDiscriminantAnalysis.json\n"
     ]
    },
    {
     "name": "stderr",
     "output_type": "stream",
     "text": [
      "\n",
      "\u001b[A"
     ]
    },
    {
     "name": "stdout",
     "output_type": "stream",
     "text": [
      "Precision-Recall data saved to topocluster_Zee_Large_ring_01020304_eqFalse\\precision_recall\\precision_recall_ring_01020304_LinearDiscriminantAnalysis.json\n",
      "Efficiency vs Electron PT data saved to topocluster_Zee_Large_ring_01020304_eqFalse\\efficiency_vs_ele_pt\\efficiency_vs_ele_pt_ring_01020304_LinearDiscriminantAnalysis.json\n",
      "\n",
      "\n",
      "Evaluation of LinearSVC\n",
      "Confusion Matrix:\n",
      " [[105763   1384]\n",
      " [ 68564   5749]]\n",
      "Accuracy: 0.61452662\n",
      "Recall: 0.07736197\n",
      "Precision: 0.80597224\n",
      "F1 Score: 0.14117329\n",
      "Classification Report:\n",
      "               precision    recall  f1-score   support\n",
      "\n",
      "         0.0       0.61      0.99      0.75    107147\n",
      "         1.0       0.81      0.08      0.14     74313\n",
      "\n",
      "    accuracy                           0.61    181460\n",
      "   macro avg       0.71      0.53      0.45    181460\n",
      "weighted avg       0.69      0.61      0.50    181460\n",
      "\n",
      "Mean Squared Error: 0.38547338\n",
      "\n",
      "ROC data saved to topocluster_Zee_Large_ring_01020304_eqFalse\\roc\\roc_ring_01020304_LinearSVC.json\n"
     ]
    },
    {
     "name": "stderr",
     "output_type": "stream",
     "text": [
      "\n",
      "\u001b[A"
     ]
    },
    {
     "name": "stdout",
     "output_type": "stream",
     "text": [
      "Precision-Recall data saved to topocluster_Zee_Large_ring_01020304_eqFalse\\precision_recall\\precision_recall_ring_01020304_LinearSVC.json\n",
      "Efficiency vs Electron PT data saved to topocluster_Zee_Large_ring_01020304_eqFalse\\efficiency_vs_ele_pt\\efficiency_vs_ele_pt_ring_01020304_LinearSVC.json\n",
      "\n",
      "\n",
      "Evaluation of LogisticRegression\n",
      "Confusion Matrix:\n",
      " [[94251 12896]\n",
      " [ 5050 69263]]\n",
      "Accuracy: 0.90110217\n",
      "Recall: 0.93204419\n",
      "Precision: 0.84303606\n",
      "F1 Score: 0.88530855\n",
      "Classification Report:\n",
      "               precision    recall  f1-score   support\n",
      "\n",
      "         0.0       0.95      0.88      0.91    107147\n",
      "         1.0       0.84      0.93      0.89     74313\n",
      "\n",
      "    accuracy                           0.90    181460\n",
      "   macro avg       0.90      0.91      0.90    181460\n",
      "weighted avg       0.91      0.90      0.90    181460\n",
      "\n",
      "Mean Squared Error: 0.09889783\n",
      "\n",
      "ROC data saved to topocluster_Zee_Large_ring_01020304_eqFalse\\roc\\roc_ring_01020304_LogisticRegression.json\n"
     ]
    },
    {
     "name": "stderr",
     "output_type": "stream",
     "text": [
      "\n",
      "\u001b[A"
     ]
    },
    {
     "name": "stdout",
     "output_type": "stream",
     "text": [
      "Precision-Recall data saved to topocluster_Zee_Large_ring_01020304_eqFalse\\precision_recall\\precision_recall_ring_01020304_LogisticRegression.json\n",
      "Efficiency vs Electron PT data saved to topocluster_Zee_Large_ring_01020304_eqFalse\\efficiency_vs_ele_pt\\efficiency_vs_ele_pt_ring_01020304_LogisticRegression.json\n",
      "\n",
      "\n",
      "Evaluation of LogisticRegressionCV\n",
      "Confusion Matrix:\n",
      " [[94251 12896]\n",
      " [ 5050 69263]]\n",
      "Accuracy: 0.90110217\n",
      "Recall: 0.93204419\n",
      "Precision: 0.84303606\n",
      "F1 Score: 0.88530855\n",
      "Classification Report:\n",
      "               precision    recall  f1-score   support\n",
      "\n",
      "         0.0       0.95      0.88      0.91    107147\n",
      "         1.0       0.84      0.93      0.89     74313\n",
      "\n",
      "    accuracy                           0.90    181460\n",
      "   macro avg       0.90      0.91      0.90    181460\n",
      "weighted avg       0.91      0.90      0.90    181460\n",
      "\n",
      "Mean Squared Error: 0.09889783\n",
      "\n",
      "ROC data saved to topocluster_Zee_Large_ring_01020304_eqFalse\\roc\\roc_ring_01020304_LogisticRegressionCV.json\n"
     ]
    },
    {
     "name": "stderr",
     "output_type": "stream",
     "text": [
      "\n",
      "\u001b[A"
     ]
    },
    {
     "name": "stdout",
     "output_type": "stream",
     "text": [
      "Precision-Recall data saved to topocluster_Zee_Large_ring_01020304_eqFalse\\precision_recall\\precision_recall_ring_01020304_LogisticRegressionCV.json\n",
      "Efficiency vs Electron PT data saved to topocluster_Zee_Large_ring_01020304_eqFalse\\efficiency_vs_ele_pt\\efficiency_vs_ele_pt_ring_01020304_LogisticRegressionCV.json\n",
      "\n",
      "\n",
      "Evaluation of MLPClassifier\n",
      "Confusion Matrix:\n",
      " [[91701 15446]\n",
      " [ 3299 71014]]\n",
      "Accuracy: 0.89669900\n",
      "Recall: 0.95560669\n",
      "Precision: 0.82135091\n",
      "F1 Score: 0.88340704\n",
      "Classification Report:\n",
      "               precision    recall  f1-score   support\n",
      "\n",
      "         0.0       0.97      0.86      0.91    107147\n",
      "         1.0       0.82      0.96      0.88     74313\n",
      "\n",
      "    accuracy                           0.90    181460\n",
      "   macro avg       0.89      0.91      0.90    181460\n",
      "weighted avg       0.91      0.90      0.90    181460\n",
      "\n",
      "Mean Squared Error: 0.10330100\n",
      "\n",
      "ROC data saved to topocluster_Zee_Large_ring_01020304_eqFalse\\roc\\roc_ring_01020304_MLPClassifier.json\n"
     ]
    },
    {
     "name": "stderr",
     "output_type": "stream",
     "text": [
      "\n",
      "\u001b[A"
     ]
    },
    {
     "name": "stdout",
     "output_type": "stream",
     "text": [
      "Precision-Recall data saved to topocluster_Zee_Large_ring_01020304_eqFalse\\precision_recall\\precision_recall_ring_01020304_MLPClassifier.json\n",
      "Efficiency vs Electron PT data saved to topocluster_Zee_Large_ring_01020304_eqFalse\\efficiency_vs_ele_pt\\efficiency_vs_ele_pt_ring_01020304_MLPClassifier.json\n",
      "Could not train or predict with MultiOutputClassifier: y must have at least two dimensions for multi-output regression but has only one.\n",
      "Could not train or predict with MultinomialNB: Negative values in data passed to MultinomialNB (input X)\n",
      "\n",
      "\n",
      "Evaluation of NearestCentroid\n",
      "Confusion Matrix:\n",
      " [[67501 39646]\n",
      " [  481 73832]]\n",
      "Accuracy: 0.77886587\n",
      "Recall: 0.99352738\n",
      "Precision: 0.65062832\n",
      "F1 Score: 0.78632096\n"
     ]
    },
    {
     "name": "stderr",
     "output_type": "stream",
     "text": [
      "\n",
      "\u001b[A"
     ]
    },
    {
     "name": "stdout",
     "output_type": "stream",
     "text": [
      "Classification Report:\n",
      "               precision    recall  f1-score   support\n",
      "\n",
      "         0.0       0.99      0.63      0.77    107147\n",
      "         1.0       0.65      0.99      0.79     74313\n",
      "\n",
      "    accuracy                           0.78    181460\n",
      "   macro avg       0.82      0.81      0.78    181460\n",
      "weighted avg       0.85      0.78      0.78    181460\n",
      "\n",
      "Mean Squared Error: 0.22113413\n",
      "\n",
      "Failed ROC computation for NearestCentroid: Model must have either a decision_function or predict_proba method.\n",
      "Failed Precision-Recall computation for NearestCentroid: Model must have either a decision_function or predict_proba method.\n",
      "Efficiency vs Electron PT data saved to topocluster_Zee_Large_ring_01020304_eqFalse\\efficiency_vs_ele_pt\\efficiency_vs_ele_pt_ring_01020304_NearestCentroid.json\n"
     ]
    }
   ],
   "source": [
    "\n",
    "# binary_classifiers = dict(list(binary_classifiers.items())[:1])\n",
    "\n",
    "for equalise in tqdm(equalised):\n",
    "    for distance_boundary in tqdm(distance_boundaries):\n",
    "        description = \"ring_\" + \"\".join(str(decimal).replace('.', '') for decimal in distance_boundary)\n",
    "        id = f\"{data_subdir}_{description}_eq{equalise}\"\n",
    "        X_train, X_test, y_train, y_test, pd_passthrough_train, pd_passthrough_test = prepare_data(accept_data_filename = accept_data_filename, reject_data_filename = reject_data_filename, data_subdir = id, format_mode = format_mode, get_pT=True, distance_boundaries = distance_boundary, equalised = equalise)\n",
    "        results = train_evaluate_all_classifiers(binary_classifiers, X_train, X_test, y_train, y_test, pd_passthrough_train, pd_passthrough_test, description, id)\n",
    "        plot_all_results(binary_classifiers.keys(), description, id)"
   ]
  },
  {
   "cell_type": "code",
   "execution_count": null,
   "metadata": {},
   "outputs": [],
   "source": [
    "plot_all_results(binary_classifiers.keys(), description, data_subdir)"
   ]
  }
 ],
 "metadata": {
  "kernelspec": {
   "display_name": "Python 3",
   "language": "python",
   "name": "python3"
  },
  "language_info": {
   "codemirror_mode": {
    "name": "ipython",
    "version": 3
   },
   "file_extension": ".py",
   "mimetype": "text/x-python",
   "name": "python",
   "nbconvert_exporter": "python",
   "pygments_lexer": "ipython3",
   "version": "3.11.9"
  }
 },
 "nbformat": 4,
 "nbformat_minor": 2
}
