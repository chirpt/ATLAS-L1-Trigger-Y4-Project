{
 "cells": [
  {
   "cell_type": "code",
   "execution_count": 3,
   "metadata": {},
   "outputs": [
    {
     "name": "stdout",
     "output_type": "stream",
     "text": [
      "Imported 43 binary classifiers:\n",
      "['AdaBoostClassifier', 'BaggingClassifier', 'BernoulliNB', 'CalibratedClassifierCV', 'CategoricalNB', 'ClassifierChain', 'ComplementNB', 'DecisionTreeClassifier', 'DummyClassifier', 'ExtraTreeClassifier', 'ExtraTreesClassifier', 'FixedThresholdClassifier', 'GaussianNB', 'GaussianProcessClassifier', 'GradientBoostingClassifier', 'HistGradientBoostingClassifier', 'KNeighborsClassifier', 'LabelPropagation', 'LabelSpreading', 'LinearDiscriminantAnalysis', 'LinearSVC', 'LogisticRegression', 'LogisticRegressionCV', 'MLPClassifier', 'MultiOutputClassifier', 'MultinomialNB', 'NearestCentroid', 'NuSVC', 'OneVsOneClassifier', 'OneVsRestClassifier', 'OutputCodeClassifier', 'PassiveAggressiveClassifier', 'Perceptron', 'QuadraticDiscriminantAnalysis', 'RadiusNeighborsClassifier', 'RandomForestClassifier', 'RidgeClassifier', 'RidgeClassifierCV', 'SGDClassifier', 'SVC', 'TunedThresholdClassifierCV', 'VotingClassifier', 'XGBClassifier']\n"
     ]
    }
   ],
   "source": [
    "import sys\n",
    "import os\n",
    "\n",
    "parent_dir = os.path.dirname(os.getcwd())\n",
    "sys.path.append(parent_dir)\n",
    "\n",
    "from utilities_new_new import *\n",
    "\n",
    "max_entries = 50000\n",
    "description = [\"99_supercells\", \"81_supercells\", \"iso\"]\n",
    "data_subdir = [f\"eFEX_{max_entries}_entries\"]\n",
    "accept_data_filename = [\"l1calo_topocluster_test_Zee.root\"]\n",
    "reject_data_filename = [\"ZMUMU_TopoCluster_Supercell_Large.root\"]\n",
    "format_mode = [\"SuperCell_ET\", \"reduced_SuperCell_ET\", \"iso_vars\"]\n",
    "equalised = [True]\n",
    "\n",
    "binary_classifiers = import_all_classifiers()\n"
   ]
  },
  {
   "cell_type": "code",
   "execution_count": 4,
   "metadata": {},
   "outputs": [
    {
     "name": "stderr",
     "output_type": "stream",
     "text": [
      "  0%|          | 0/1 [00:00<?, ?it/s]\n",
      "\u001b[A"
     ]
    },
    {
     "name": "stdout",
     "output_type": "stream",
     "text": [
      "Log saved to ..\\data\\eFEX_50000_entries_99_supercells_eqTrue\\log.json\n",
      "preprepared data in ..\\data\\eFEX_50000_entries_99_supercells_eqTrue is missing, preparing and saving here\n",
      "(371765, 26) Index(['TOB_ET', 'TOB_eta', 'TOB_ieta', 'TOB_ietabin', 'TOB_phi',\n",
      "       'offline_ele_pt', 'offline_ele_eta', 'offline_ele_eta_cal',\n",
      "       'offline_ele_phi', 'offline_ele_phi_cal', 'eFEX_Clus_ETs', 'legacy_ET',\n",
      "       'eFEX_ReC', 'eFEX_ReE', 'eFEX_RhE', 'eFEX_RhH', 'eFEX_WsN', 'eFEX_WsD',\n",
      "       'ID', 'SuperCell_ET', 'lumiBlock', 'averageMu', 'BDTScore',\n",
      "       'TopoCluster_ET', 'TopoCluster_eta', 'TopoCluster_phi'],\n",
      "      dtype='object') (371765, 28) Index(['TOB_ET', 'TOB_eta', 'TOB_ieta', 'TOB_ietabin', 'TOB_phi',\n",
      "       'offline_ele_pt', 'offline_ele_eta', 'offline_ele_eta_cal',\n",
      "       'offline_ele_phi', 'offline_ele_phi_cal', 'offline_zeemass',\n",
      "       'eFEX_Clus_SCETs', 'legacy_ET', 'eFEX_ReC', 'eFEX_ReE', 'eFEX_RhE',\n",
      "       'eFEX_RhH', 'eFEX_WsN', 'eFEX_WsD', 'ID', 'SuperCell_ET', 'lumiBlock',\n",
      "       'averageMu', 'EventNumber', 'BDTScore', 'TopoCluster_ET',\n",
      "       'TopoCluster_eta', 'TopoCluster_phi'],\n",
      "      dtype='object')\n",
      "running sup\n",
      "found preprepared data in ..\\data\\ZB_rate_estimation_99_supercells\n",
      "found data preparation log in ..\\data\\eFEX_50000_entries_99_supercells_eqTrue\\log.json\n",
      "Log saved to eFEX_50000_entries_99_supercells_eqTrue\\log.json\n"
     ]
    },
    {
     "name": "stderr",
     "output_type": "stream",
     "text": [
      "\n",
      "\n",
      "\u001b[A\u001b[A"
     ]
    },
    {
     "name": "stdout",
     "output_type": "stream",
     "text": [
      "Training AdaBoostClassifier...\n"
     ]
    },
    {
     "name": "stderr",
     "output_type": "stream",
     "text": [
      "c:\\Users\\Me\\AppData\\Local\\Programs\\Python\\Python312\\Lib\\site-packages\\sklearn\\ensemble\\_weight_boosting.py:527: FutureWarning: The SAMME.R algorithm (the default) is deprecated and will be removed in 1.6. Use the SAMME algorithm to circumvent this warning.\n",
      "  warnings.warn(\n"
     ]
    },
    {
     "name": "stdout",
     "output_type": "stream",
     "text": [
      "Took: 9.149283170700073 seconds\n",
      "predicting...\n",
      "Took: 0.2780742645263672 seconds\n",
      "Index(['offline_ele_pt', 'EventNumber', 'Label', 'pred'], dtype='object')\n",
      "rate: 70.98002676824873\n",
      "\n",
      "\n",
      "Evaluation of AdaBoostClassifier\n",
      "Confusion Matrix:\n",
      " [[8698 1267]\n",
      " [ 518 9517]]\n",
      "Accuracy: 0.91075000\n",
      "Recall: 0.94838067\n",
      "Precision: 0.88251113\n",
      "F1 Score: 0.91426101\n",
      "Classification Report:\n",
      "               precision    recall  f1-score   support\n",
      "\n",
      "         0.0       0.94      0.87      0.91      9965\n",
      "         1.0       0.88      0.95      0.91     10035\n",
      "\n",
      "    accuracy                           0.91     20000\n",
      "   macro avg       0.91      0.91      0.91     20000\n",
      "weighted avg       0.91      0.91      0.91     20000\n",
      "\n",
      "Mean Squared Error: 0.08925000\n",
      "\n",
      "ROC data saved to eFEX_50000_entries_99_supercells_eqTrue\\roc\\roc_99_supercells_AdaBoostClassifier.json\n"
     ]
    },
    {
     "name": "stderr",
     "output_type": "stream",
     "text": [
      "\n",
      "\n",
      "\u001b[A\u001b[A"
     ]
    },
    {
     "name": "stdout",
     "output_type": "stream",
     "text": [
      "Precision-Recall data saved to eFEX_50000_entries_99_supercells_eqTrue\\precision_recall\\precision_recall_99_supercells_AdaBoostClassifier.json\n",
      "Efficiency vs Electron PT data saved to eFEX_50000_entries_99_supercells_eqTrue\\efficiency_vs_ele_pt\\efficiency_vs_ele_pt_99_supercells_AdaBoostClassifier.json\n",
      "Training BaggingClassifier...\n",
      "Took: 19.892999410629272 seconds\n",
      "predicting...\n",
      "Took: 0.16544651985168457 seconds\n",
      "Index(['offline_ele_pt', 'EventNumber', 'Label', 'pred'], dtype='object')\n",
      "rate: 51.191290023679606\n",
      "\n",
      "\n",
      "Evaluation of BaggingClassifier\n",
      "Confusion Matrix:\n",
      " [[9046  919]\n",
      " [ 595 9440]]\n",
      "Accuracy: 0.92430000\n",
      "Recall: 0.94070752\n",
      "Precision: 0.91128487\n",
      "F1 Score: 0.92576248\n",
      "Classification Report:\n",
      "               precision    recall  f1-score   support\n",
      "\n",
      "         0.0       0.94      0.91      0.92      9965\n",
      "         1.0       0.91      0.94      0.93     10035\n",
      "\n",
      "    accuracy                           0.92     20000\n",
      "   macro avg       0.92      0.92      0.92     20000\n",
      "weighted avg       0.92      0.92      0.92     20000\n",
      "\n",
      "Mean Squared Error: 0.07570000\n",
      "\n",
      "ROC data saved to eFEX_50000_entries_99_supercells_eqTrue\\roc\\roc_99_supercells_BaggingClassifier.json\n"
     ]
    },
    {
     "name": "stderr",
     "output_type": "stream",
     "text": [
      "\n",
      "\n",
      "\u001b[A\u001b[A"
     ]
    },
    {
     "name": "stdout",
     "output_type": "stream",
     "text": [
      "Precision-Recall data saved to eFEX_50000_entries_99_supercells_eqTrue\\precision_recall\\precision_recall_99_supercells_BaggingClassifier.json\n",
      "Efficiency vs Electron PT data saved to eFEX_50000_entries_99_supercells_eqTrue\\efficiency_vs_ele_pt\\efficiency_vs_ele_pt_99_supercells_BaggingClassifier.json\n",
      "Training BernoulliNB...\n",
      "Took: 0.09368658065795898 seconds\n",
      "predicting...\n",
      "Took: 0.025962352752685547 seconds\n",
      "Index(['offline_ele_pt', 'EventNumber', 'Label', 'pred'], dtype='object')\n"
     ]
    },
    {
     "name": "stderr",
     "output_type": "stream",
     "text": [
      "\n",
      "\n",
      "\u001b[A\u001b[A"
     ]
    },
    {
     "name": "stdout",
     "output_type": "stream",
     "text": [
      "rate: 97.37506434675178\n",
      "\n",
      "\n",
      "Evaluation of BernoulliNB\n",
      "Confusion Matrix:\n",
      " [[8176 1789]\n",
      " [ 137 9898]]\n",
      "Accuracy: 0.90370000\n",
      "Recall: 0.98634778\n",
      "Precision: 0.84692393\n",
      "F1 Score: 0.91133413\n",
      "Classification Report:\n",
      "               precision    recall  f1-score   support\n",
      "\n",
      "         0.0       0.98      0.82      0.89      9965\n",
      "         1.0       0.85      0.99      0.91     10035\n",
      "\n",
      "    accuracy                           0.90     20000\n",
      "   macro avg       0.92      0.90      0.90     20000\n",
      "weighted avg       0.91      0.90      0.90     20000\n",
      "\n",
      "Mean Squared Error: 0.09630000\n",
      "\n",
      "ROC data saved to eFEX_50000_entries_99_supercells_eqTrue\\roc\\roc_99_supercells_BernoulliNB.json\n",
      "Precision-Recall data saved to eFEX_50000_entries_99_supercells_eqTrue\\precision_recall\\precision_recall_99_supercells_BernoulliNB.json\n",
      "Efficiency vs Electron PT data saved to eFEX_50000_entries_99_supercells_eqTrue\\efficiency_vs_ele_pt\\efficiency_vs_ele_pt_99_supercells_BernoulliNB.json\n",
      "Training CalibratedClassifierCV...\n",
      "Took: 3.0915701389312744 seconds\n",
      "predicting...\n",
      "Took: 0.016945600509643555 seconds\n",
      "Index(['offline_ele_pt', 'EventNumber', 'Label', 'pred'], dtype='object')\n"
     ]
    },
    {
     "name": "stderr",
     "output_type": "stream",
     "text": [
      "\n",
      "\n",
      "\u001b[A\u001b[A"
     ]
    },
    {
     "name": "stdout",
     "output_type": "stream",
     "text": [
      "rate: 85.58025326881499\n",
      "\n",
      "\n",
      "Evaluation of CalibratedClassifierCV\n",
      "Confusion Matrix:\n",
      " [[8484 1481]\n",
      " [ 333 9702]]\n",
      "Accuracy: 0.90930000\n",
      "Recall: 0.96681614\n",
      "Precision: 0.86756684\n",
      "F1 Score: 0.91450655\n",
      "Classification Report:\n",
      "               precision    recall  f1-score   support\n",
      "\n",
      "         0.0       0.96      0.85      0.90      9965\n",
      "         1.0       0.87      0.97      0.91     10035\n",
      "\n",
      "    accuracy                           0.91     20000\n",
      "   macro avg       0.91      0.91      0.91     20000\n",
      "weighted avg       0.91      0.91      0.91     20000\n",
      "\n",
      "Mean Squared Error: 0.09070000\n",
      "\n",
      "ROC data saved to eFEX_50000_entries_99_supercells_eqTrue\\roc\\roc_99_supercells_CalibratedClassifierCV.json\n",
      "Precision-Recall data saved to eFEX_50000_entries_99_supercells_eqTrue\\precision_recall\\precision_recall_99_supercells_CalibratedClassifierCV.json\n",
      "Efficiency vs Electron PT data saved to eFEX_50000_entries_99_supercells_eqTrue\\efficiency_vs_ele_pt\\efficiency_vs_ele_pt_99_supercells_CalibratedClassifierCV.json\n",
      "Training CategoricalNB...\n"
     ]
    },
    {
     "name": "stderr",
     "output_type": "stream",
     "text": [
      "\n",
      "\n",
      "\u001b[A\u001b[A"
     ]
    },
    {
     "name": "stdout",
     "output_type": "stream",
     "text": [
      "Took: 0.1724236011505127 seconds\n",
      "predicting...\n",
      "Could not train or predict with CategoricalNB: index 52 is out of bounds for axis 1 with size 43\n",
      "Training ClassifierChain...\n",
      "Could not train or predict with ClassifierChain: tuple index out of range\n",
      "Training ComplementNB...\n",
      "Took: 0.021927833557128906 seconds\n",
      "predicting...\n",
      "Took: 0.005982398986816406 seconds\n",
      "Index(['offline_ele_pt', 'EventNumber', 'Label', 'pred'], dtype='object')\n"
     ]
    },
    {
     "name": "stderr",
     "output_type": "stream",
     "text": [
      "\n",
      "\n",
      "\u001b[A\u001b[A"
     ]
    },
    {
     "name": "stdout",
     "output_type": "stream",
     "text": [
      "rate: 108.64197467311851\n",
      "\n",
      "\n",
      "Evaluation of ComplementNB\n",
      "Confusion Matrix:\n",
      " [[7630 2335]\n",
      " [ 314 9721]]\n",
      "Accuracy: 0.86755000\n",
      "Recall: 0.96870952\n",
      "Precision: 0.80632050\n",
      "F1 Score: 0.88008691\n",
      "Classification Report:\n",
      "               precision    recall  f1-score   support\n",
      "\n",
      "         0.0       0.96      0.77      0.85      9965\n",
      "         1.0       0.81      0.97      0.88     10035\n",
      "\n",
      "    accuracy                           0.87     20000\n",
      "   macro avg       0.88      0.87      0.87     20000\n",
      "weighted avg       0.88      0.87      0.87     20000\n",
      "\n",
      "Mean Squared Error: 0.13245000\n",
      "\n",
      "ROC data saved to eFEX_50000_entries_99_supercells_eqTrue\\roc\\roc_99_supercells_ComplementNB.json\n",
      "Precision-Recall data saved to eFEX_50000_entries_99_supercells_eqTrue\\precision_recall\\precision_recall_99_supercells_ComplementNB.json\n",
      "Efficiency vs Electron PT data saved to eFEX_50000_entries_99_supercells_eqTrue\\efficiency_vs_ele_pt\\efficiency_vs_ele_pt_99_supercells_ComplementNB.json\n",
      "Training DecisionTreeClassifier...\n",
      "Took: 3.3507909774780273 seconds\n",
      "predicting...\n",
      "Took: 0.012956380844116211 seconds\n",
      "Index(['offline_ele_pt', 'EventNumber', 'Label', 'pred'], dtype='object')\n"
     ]
    },
    {
     "name": "stderr",
     "output_type": "stream",
     "text": [
      "\n",
      "\n",
      "\u001b[A\u001b[A"
     ]
    },
    {
     "name": "stdout",
     "output_type": "stream",
     "text": [
      "rate: 63.25759291670957\n",
      "\n",
      "\n",
      "Evaluation of DecisionTreeClassifier\n",
      "Confusion Matrix:\n",
      " [[8711 1254]\n",
      " [1132 8903]]\n",
      "Accuracy: 0.88070000\n",
      "Recall: 0.88719482\n",
      "Precision: 0.87653835\n",
      "F1 Score: 0.88183439\n",
      "Classification Report:\n",
      "               precision    recall  f1-score   support\n",
      "\n",
      "         0.0       0.88      0.87      0.88      9965\n",
      "         1.0       0.88      0.89      0.88     10035\n",
      "\n",
      "    accuracy                           0.88     20000\n",
      "   macro avg       0.88      0.88      0.88     20000\n",
      "weighted avg       0.88      0.88      0.88     20000\n",
      "\n",
      "Mean Squared Error: 0.11930000\n",
      "\n",
      "ROC data saved to eFEX_50000_entries_99_supercells_eqTrue\\roc\\roc_99_supercells_DecisionTreeClassifier.json\n",
      "Precision-Recall data saved to eFEX_50000_entries_99_supercells_eqTrue\\precision_recall\\precision_recall_99_supercells_DecisionTreeClassifier.json\n",
      "Efficiency vs Electron PT data saved to eFEX_50000_entries_99_supercells_eqTrue\\efficiency_vs_ele_pt\\efficiency_vs_ele_pt_99_supercells_DecisionTreeClassifier.json\n",
      "Training DummyClassifier...\n",
      "Took: 0.0019979476928710938 seconds\n",
      "predicting...\n",
      "Took: 0.0 seconds\n",
      "Index(['offline_ele_pt', 'EventNumber', 'Label', 'pred'], dtype='object')\n"
     ]
    },
    {
     "name": "stderr",
     "output_type": "stream",
     "text": [
      "c:\\Users\\Me\\AppData\\Local\\Programs\\Python\\Python312\\Lib\\site-packages\\sklearn\\metrics\\_classification.py:1531: UndefinedMetricWarning: Precision is ill-defined and being set to 0.0 due to no predicted samples. Use `zero_division` parameter to control this behavior.\n",
      "  _warn_prf(average, modifier, f\"{metric.capitalize()} is\", len(result))\n",
      "c:\\Users\\Me\\AppData\\Local\\Programs\\Python\\Python312\\Lib\\site-packages\\sklearn\\metrics\\_classification.py:1531: UndefinedMetricWarning: Precision is ill-defined and being set to 0.0 in labels with no predicted samples. Use `zero_division` parameter to control this behavior.\n",
      "  _warn_prf(average, modifier, f\"{metric.capitalize()} is\", len(result))\n",
      "c:\\Users\\Me\\AppData\\Local\\Programs\\Python\\Python312\\Lib\\site-packages\\sklearn\\metrics\\_classification.py:1531: UndefinedMetricWarning: Precision is ill-defined and being set to 0.0 in labels with no predicted samples. Use `zero_division` parameter to control this behavior.\n",
      "  _warn_prf(average, modifier, f\"{metric.capitalize()} is\", len(result))\n",
      "c:\\Users\\Me\\AppData\\Local\\Programs\\Python\\Python312\\Lib\\site-packages\\sklearn\\metrics\\_classification.py:1531: UndefinedMetricWarning: Precision is ill-defined and being set to 0.0 in labels with no predicted samples. Use `zero_division` parameter to control this behavior.\n",
      "  _warn_prf(average, modifier, f\"{metric.capitalize()} is\", len(result))\n",
      "\n",
      "\n",
      "\u001b[A\u001b[A"
     ]
    },
    {
     "name": "stdout",
     "output_type": "stream",
     "text": [
      "rate: 0.0\n",
      "\n",
      "\n",
      "Evaluation of DummyClassifier\n",
      "Confusion Matrix:\n",
      " [[ 9965     0]\n",
      " [10035     0]]\n",
      "Accuracy: 0.49825000\n",
      "Recall: 0.00000000\n",
      "Precision: 0.00000000\n",
      "F1 Score: 0.00000000\n",
      "Classification Report:\n",
      "               precision    recall  f1-score   support\n",
      "\n",
      "         0.0       0.50      1.00      0.67      9965\n",
      "         1.0       0.00      0.00      0.00     10035\n",
      "\n",
      "    accuracy                           0.50     20000\n",
      "   macro avg       0.25      0.50      0.33     20000\n",
      "weighted avg       0.25      0.50      0.33     20000\n",
      "\n",
      "Mean Squared Error: 0.50175000\n",
      "\n",
      "ROC data saved to eFEX_50000_entries_99_supercells_eqTrue\\roc\\roc_99_supercells_DummyClassifier.json\n",
      "Precision-Recall data saved to eFEX_50000_entries_99_supercells_eqTrue\\precision_recall\\precision_recall_99_supercells_DummyClassifier.json\n",
      "Efficiency vs Electron PT data saved to eFEX_50000_entries_99_supercells_eqTrue\\efficiency_vs_ele_pt\\efficiency_vs_ele_pt_99_supercells_DummyClassifier.json\n",
      "Training ExtraTreeClassifier...\n",
      "Took: 0.32092714309692383 seconds\n",
      "predicting...\n",
      "Took: 0.008970499038696289 seconds\n",
      "Index(['offline_ele_pt', 'EventNumber', 'Label', 'pred'], dtype='object')\n",
      "rate: 74.1474312776691\n",
      "\n",
      "\n",
      "Evaluation of ExtraTreeClassifier\n",
      "Confusion Matrix:\n",
      " [[8476 1489]\n",
      " [1137 8898]]\n",
      "Accuracy: 0.86870000\n",
      "Recall: 0.88669656\n",
      "Precision: 0.85664773\n",
      "F1 Score: 0.87141318\n",
      "Classification Report:\n",
      "               precision    recall  f1-score   support\n",
      "\n",
      "         0.0       0.88      0.85      0.87      9965\n",
      "         1.0       0.86      0.89      0.87     10035\n",
      "\n",
      "    accuracy                           0.87     20000\n",
      "   macro avg       0.87      0.87      0.87     20000\n",
      "weighted avg       0.87      0.87      0.87     20000\n",
      "\n",
      "Mean Squared Error: 0.13130000\n",
      "\n",
      "ROC data saved to eFEX_50000_entries_99_supercells_eqTrue\\roc\\roc_99_supercells_ExtraTreeClassifier.json\n",
      "Precision-Recall data saved to eFEX_50000_entries_99_supercells_eqTrue\\precision_recall\\precision_recall_99_supercells_ExtraTreeClassifier.json\n"
     ]
    },
    {
     "name": "stderr",
     "output_type": "stream",
     "text": [
      "\n",
      "\n",
      "\u001b[A\u001b[A"
     ]
    },
    {
     "name": "stdout",
     "output_type": "stream",
     "text": [
      "Efficiency vs Electron PT data saved to eFEX_50000_entries_99_supercells_eqTrue\\efficiency_vs_ele_pt\\efficiency_vs_ele_pt_99_supercells_ExtraTreeClassifier.json\n",
      "Training ExtraTreesClassifier...\n",
      "Took: 24.95456886291504 seconds\n",
      "predicting...\n",
      "Took: 0.6298904418945312 seconds\n",
      "Index(['offline_ele_pt', 'EventNumber', 'Label', 'pred'], dtype='object')\n",
      "rate: 57.133944198496856\n",
      "\n",
      "\n",
      "Evaluation of ExtraTreesClassifier\n",
      "Confusion Matrix:\n",
      " [[8958 1007]\n",
      " [ 182 9853]]\n",
      "Accuracy: 0.94055000\n",
      "Recall: 0.98186348\n",
      "Precision: 0.90727440\n",
      "F1 Score: 0.94309643\n",
      "Classification Report:\n",
      "               precision    recall  f1-score   support\n",
      "\n",
      "         0.0       0.98      0.90      0.94      9965\n",
      "         1.0       0.91      0.98      0.94     10035\n",
      "\n",
      "    accuracy                           0.94     20000\n",
      "   macro avg       0.94      0.94      0.94     20000\n",
      "weighted avg       0.94      0.94      0.94     20000\n",
      "\n",
      "Mean Squared Error: 0.05945000\n",
      "\n",
      "ROC data saved to eFEX_50000_entries_99_supercells_eqTrue\\roc\\roc_99_supercells_ExtraTreesClassifier.json\n"
     ]
    },
    {
     "name": "stderr",
     "output_type": "stream",
     "text": [
      "\n",
      "\n",
      "\u001b[A\u001b[A"
     ]
    },
    {
     "name": "stdout",
     "output_type": "stream",
     "text": [
      "Precision-Recall data saved to eFEX_50000_entries_99_supercells_eqTrue\\precision_recall\\precision_recall_99_supercells_ExtraTreesClassifier.json\n",
      "Efficiency vs Electron PT data saved to eFEX_50000_entries_99_supercells_eqTrue\\efficiency_vs_ele_pt\\efficiency_vs_ele_pt_99_supercells_ExtraTreesClassifier.json\n",
      "Training FixedThresholdClassifier...\n"
     ]
    },
    {
     "name": "stderr",
     "output_type": "stream",
     "text": [
      "c:\\Users\\Me\\AppData\\Local\\Programs\\Python\\Python312\\Lib\\site-packages\\sklearn\\linear_model\\_logistic.py:469: ConvergenceWarning: lbfgs failed to converge (status=1):\n",
      "STOP: TOTAL NO. of ITERATIONS REACHED LIMIT.\n",
      "\n",
      "Increase the number of iterations (max_iter) or scale the data as shown in:\n",
      "    https://scikit-learn.org/stable/modules/preprocessing.html\n",
      "Please also refer to the documentation for alternative solver options:\n",
      "    https://scikit-learn.org/stable/modules/linear_model.html#logistic-regression\n",
      "  n_iter_i = _check_optimize_result(\n"
     ]
    },
    {
     "name": "stdout",
     "output_type": "stream",
     "text": [
      "Took: 1.5338695049285889 seconds\n",
      "predicting...\n",
      "Took: 0.003988981246948242 seconds\n",
      "Index(['offline_ele_pt', 'EventNumber', 'Label', 'pred'], dtype='object')\n"
     ]
    },
    {
     "name": "stderr",
     "output_type": "stream",
     "text": [
      "\n",
      "\n",
      "\u001b[A\u001b[A"
     ]
    },
    {
     "name": "stdout",
     "output_type": "stream",
     "text": [
      "rate: 86.45506022855966\n",
      "\n",
      "\n",
      "Evaluation of FixedThresholdClassifier\n",
      "Confusion Matrix:\n",
      " [[8476 1489]\n",
      " [ 335 9700]]\n",
      "Accuracy: 0.90880000\n",
      "Recall: 0.96661684\n",
      "Precision: 0.86692287\n",
      "F1 Score: 0.91405956\n",
      "Classification Report:\n",
      "               precision    recall  f1-score   support\n",
      "\n",
      "         0.0       0.96      0.85      0.90      9965\n",
      "         1.0       0.87      0.97      0.91     10035\n",
      "\n",
      "    accuracy                           0.91     20000\n",
      "   macro avg       0.91      0.91      0.91     20000\n",
      "weighted avg       0.91      0.91      0.91     20000\n",
      "\n",
      "Mean Squared Error: 0.09120000\n",
      "\n",
      "ROC data saved to eFEX_50000_entries_99_supercells_eqTrue\\roc\\roc_99_supercells_FixedThresholdClassifier.json\n",
      "Precision-Recall data saved to eFEX_50000_entries_99_supercells_eqTrue\\precision_recall\\precision_recall_99_supercells_FixedThresholdClassifier.json\n",
      "Efficiency vs Electron PT data saved to eFEX_50000_entries_99_supercells_eqTrue\\efficiency_vs_ele_pt\\efficiency_vs_ele_pt_99_supercells_FixedThresholdClassifier.json\n",
      "Training GaussianNB...\n",
      "Took: 0.11362028121948242 seconds\n",
      "predicting...\n",
      "Took: 0.04883623123168945 seconds\n",
      "Index(['offline_ele_pt', 'EventNumber', 'Label', 'pred'], dtype='object')\n"
     ]
    },
    {
     "name": "stderr",
     "output_type": "stream",
     "text": [
      "\n",
      "\n",
      "\u001b[A\u001b[A"
     ]
    },
    {
     "name": "stdout",
     "output_type": "stream",
     "text": [
      "rate: 90.40677442602697\n",
      "\n",
      "\n",
      "Evaluation of GaussianNB\n",
      "Confusion Matrix:\n",
      " [[8296 1669]\n",
      " [ 434 9601]]\n",
      "Accuracy: 0.89485000\n",
      "Recall: 0.95675137\n",
      "Precision: 0.85190772\n",
      "F1 Score: 0.90129078\n",
      "Classification Report:\n",
      "               precision    recall  f1-score   support\n",
      "\n",
      "         0.0       0.95      0.83      0.89      9965\n",
      "         1.0       0.85      0.96      0.90     10035\n",
      "\n",
      "    accuracy                           0.89     20000\n",
      "   macro avg       0.90      0.89      0.89     20000\n",
      "weighted avg       0.90      0.89      0.89     20000\n",
      "\n",
      "Mean Squared Error: 0.10515000\n",
      "\n",
      "ROC data saved to eFEX_50000_entries_99_supercells_eqTrue\\roc\\roc_99_supercells_GaussianNB.json\n",
      "Precision-Recall data saved to eFEX_50000_entries_99_supercells_eqTrue\\precision_recall\\precision_recall_99_supercells_GaussianNB.json\n",
      "Efficiency vs Electron PT data saved to eFEX_50000_entries_99_supercells_eqTrue\\efficiency_vs_ele_pt\\efficiency_vs_ele_pt_99_supercells_GaussianNB.json\n",
      "Training GaussianProcessClassifier...\n",
      "Could not train or predict with GaussianProcessClassifier: Unable to allocate 47.7 GiB for an array with shape (80000, 80000) and data type float64\n",
      "Training GradientBoostingClassifier...\n",
      "Took: 36.9434130191803 seconds\n",
      "predicting...\n",
      "Took: 0.03388571739196777 seconds\n",
      "Index(['offline_ele_pt', 'EventNumber', 'Label', 'pred'], dtype='object')\n"
     ]
    },
    {
     "name": "stderr",
     "output_type": "stream",
     "text": [
      "\n",
      "\n",
      "\n"
     ]
    },
    {
     "name": "stdout",
     "output_type": "stream",
     "text": [
      "rate: 79.57726757953259\n",
      "\n",
      "\n",
      "Evaluation of GradientBoostingClassifier\n",
      "Confusion Matrix:\n",
      " [[8565 1400]\n",
      " [ 153 9882]]\n",
      "Accuracy: 0.92235000\n",
      "Recall: 0.98475336\n",
      "Precision: 0.87590853\n",
      "F1 Score: 0.92714735\n",
      "Classification Report:\n",
      "               precision    recall  f1-score   support\n",
      "\n",
      "         0.0       0.98      0.86      0.92      9965\n",
      "         1.0       0.88      0.98      0.93     10035\n",
      "\n",
      "    accuracy                           0.92     20000\n",
      "   macro avg       0.93      0.92      0.92     20000\n",
      "weighted avg       0.93      0.92      0.92     20000\n",
      "\n",
      "Mean Squared Error: 0.07765000\n",
      "\n",
      "ROC data saved to eFEX_50000_entries_99_supercells_eqTrue\\roc\\roc_99_supercells_GradientBoostingClassifier.json\n",
      "Precision-Recall data saved to eFEX_50000_entries_99_supercells_eqTrue\\precision_recall\\precision_recall_99_supercells_GradientBoostingClassifier.json\n",
      "Efficiency vs Electron PT data saved to eFEX_50000_entries_99_supercells_eqTrue\\efficiency_vs_ele_pt\\efficiency_vs_ele_pt_99_supercells_GradientBoostingClassifier.json\n"
     ]
    },
    {
     "name": "stderr",
     "output_type": "stream",
     "text": [
      " 35%|███▍      | 15/43 [01:50<05:21, 11.50s/it]\u001b[A\u001b[A\u001b[A"
     ]
    },
    {
     "name": "stdout",
     "output_type": "stream",
     "text": [
      "Training HistGradientBoostingClassifier...\n",
      "Took: 1.5069639682769775 seconds\n",
      "predicting...\n",
      "Took: 0.06477928161621094 seconds\n",
      "Index(['offline_ele_pt', 'EventNumber', 'Label', 'pred'], dtype='object')\n",
      "rate: 52.68449500669207\n",
      "\n",
      "\n",
      "Evaluation of HistGradientBoostingClassifier\n",
      "Confusion Matrix:\n",
      " [[9022  943]\n",
      " [ 209 9826]]\n",
      "Accuracy: 0.94240000\n",
      "Recall: 0.97917289\n",
      "Precision: 0.91243384\n",
      "F1 Score: 0.94462603\n",
      "Classification Report:\n",
      "               precision    recall  f1-score   support\n",
      "\n",
      "         0.0       0.98      0.91      0.94      9965\n",
      "         1.0       0.91      0.98      0.94     10035\n",
      "\n",
      "    accuracy                           0.94     20000\n",
      "   macro avg       0.94      0.94      0.94     20000\n",
      "weighted avg       0.94      0.94      0.94     20000\n",
      "\n",
      "Mean Squared Error: 0.05760000\n",
      "\n",
      "ROC data saved to eFEX_50000_entries_99_supercells_eqTrue\\roc\\roc_99_supercells_HistGradientBoostingClassifier.json\n"
     ]
    },
    {
     "name": "stderr",
     "output_type": "stream",
     "text": [
      "\n",
      "\n",
      "\u001b[A\u001b[A"
     ]
    },
    {
     "name": "stdout",
     "output_type": "stream",
     "text": [
      "Precision-Recall data saved to eFEX_50000_entries_99_supercells_eqTrue\\precision_recall\\precision_recall_99_supercells_HistGradientBoostingClassifier.json\n",
      "Efficiency vs Electron PT data saved to eFEX_50000_entries_99_supercells_eqTrue\\efficiency_vs_ele_pt\\efficiency_vs_ele_pt_99_supercells_HistGradientBoostingClassifier.json\n",
      "Training KNeighborsClassifier...\n",
      "Took: 0.01195979118347168 seconds\n",
      "predicting...\n",
      "Took: 2.225555419921875 seconds\n",
      "Index(['offline_ele_pt', 'EventNumber', 'Label', 'pred'], dtype='object')\n",
      "rate: 135.14259240193556\n",
      "\n",
      "\n",
      "Evaluation of KNeighborsClassifier\n",
      "Confusion Matrix:\n",
      " [[7085 2880]\n",
      " [ 132 9903]]\n",
      "Accuracy: 0.84940000\n",
      "Recall: 0.98684604\n",
      "Precision: 0.77470077\n",
      "F1 Score: 0.86799895\n",
      "Classification Report:\n",
      "               precision    recall  f1-score   support\n",
      "\n",
      "         0.0       0.98      0.71      0.82      9965\n",
      "         1.0       0.77      0.99      0.87     10035\n",
      "\n",
      "    accuracy                           0.85     20000\n",
      "   macro avg       0.88      0.85      0.85     20000\n",
      "weighted avg       0.88      0.85      0.85     20000\n",
      "\n",
      "Mean Squared Error: 0.15060000\n",
      "\n",
      "ROC data saved to eFEX_50000_entries_99_supercells_eqTrue\\roc\\roc_99_supercells_KNeighborsClassifier.json\n"
     ]
    },
    {
     "name": "stderr",
     "output_type": "stream",
     "text": [
      "\n",
      "\n",
      "\u001b[A\u001b[A"
     ]
    },
    {
     "name": "stdout",
     "output_type": "stream",
     "text": [
      "Precision-Recall data saved to eFEX_50000_entries_99_supercells_eqTrue\\precision_recall\\precision_recall_99_supercells_KNeighborsClassifier.json\n",
      "Efficiency vs Electron PT data saved to eFEX_50000_entries_99_supercells_eqTrue\\efficiency_vs_ele_pt\\efficiency_vs_ele_pt_99_supercells_KNeighborsClassifier.json\n",
      "Training LabelPropagation...\n",
      "Could not train or predict with LabelPropagation: Unable to allocate 47.7 GiB for an array with shape (80000, 80000) and data type float64\n",
      "Training LabelSpreading...\n",
      "Could not train or predict with LabelSpreading: Unable to allocate 47.7 GiB for an array with shape (80000, 80000) and data type float64\n",
      "Training LinearDiscriminantAnalysis...\n",
      "Took: 1.9294841289520264 seconds\n",
      "predicting...\n",
      "Took: 0.003985881805419922 seconds\n",
      "Index(['offline_ele_pt', 'EventNumber', 'Label', 'pred'], dtype='object')\n"
     ]
    },
    {
     "name": "stderr",
     "output_type": "stream",
     "text": [
      "\n",
      "\n",
      "\u001b[A\u001b[A"
     ]
    },
    {
     "name": "stdout",
     "output_type": "stream",
     "text": [
      "rate: 154.72016884587666\n",
      "\n",
      "\n",
      "Evaluation of LinearDiscriminantAnalysis\n",
      "Confusion Matrix:\n",
      " [[6636 3329]\n",
      " [ 522 9513]]\n",
      "Accuracy: 0.80745000\n",
      "Recall: 0.94798206\n",
      "Precision: 0.74077247\n",
      "F1 Score: 0.83166499\n",
      "Classification Report:\n",
      "               precision    recall  f1-score   support\n",
      "\n",
      "         0.0       0.93      0.67      0.78      9965\n",
      "         1.0       0.74      0.95      0.83     10035\n",
      "\n",
      "    accuracy                           0.81     20000\n",
      "   macro avg       0.83      0.81      0.80     20000\n",
      "weighted avg       0.83      0.81      0.80     20000\n",
      "\n",
      "Mean Squared Error: 0.19255000\n",
      "\n",
      "ROC data saved to eFEX_50000_entries_99_supercells_eqTrue\\roc\\roc_99_supercells_LinearDiscriminantAnalysis.json\n",
      "Precision-Recall data saved to eFEX_50000_entries_99_supercells_eqTrue\\precision_recall\\precision_recall_99_supercells_LinearDiscriminantAnalysis.json\n",
      "Efficiency vs Electron PT data saved to eFEX_50000_entries_99_supercells_eqTrue\\efficiency_vs_ele_pt\\efficiency_vs_ele_pt_99_supercells_LinearDiscriminantAnalysis.json\n",
      "Training LinearSVC...\n",
      "Took: 0.9737429618835449 seconds\n",
      "predicting...\n",
      "Took: 0.0039865970611572266 seconds\n",
      "Index(['offline_ele_pt', 'EventNumber', 'Label', 'pred'], dtype='object')\n"
     ]
    },
    {
     "name": "stderr",
     "output_type": "stream",
     "text": [
      "\n",
      "\n",
      "\u001b[A\u001b[A"
     ]
    },
    {
     "name": "stdout",
     "output_type": "stream",
     "text": [
      "rate: 88.099093997735\n",
      "\n",
      "\n",
      "Evaluation of LinearSVC\n",
      "Confusion Matrix:\n",
      " [[8429 1536]\n",
      " [ 288 9747]]\n",
      "Accuracy: 0.90880000\n",
      "Recall: 0.97130045\n",
      "Precision: 0.86386599\n",
      "F1 Score: 0.91443850\n",
      "Classification Report:\n",
      "               precision    recall  f1-score   support\n",
      "\n",
      "         0.0       0.97      0.85      0.90      9965\n",
      "         1.0       0.86      0.97      0.91     10035\n",
      "\n",
      "    accuracy                           0.91     20000\n",
      "   macro avg       0.92      0.91      0.91     20000\n",
      "weighted avg       0.92      0.91      0.91     20000\n",
      "\n",
      "Mean Squared Error: 0.09120000\n",
      "\n",
      "ROC data saved to eFEX_50000_entries_99_supercells_eqTrue\\roc\\roc_99_supercells_LinearSVC.json\n",
      "Precision-Recall data saved to eFEX_50000_entries_99_supercells_eqTrue\\precision_recall\\precision_recall_99_supercells_LinearSVC.json\n",
      "Efficiency vs Electron PT data saved to eFEX_50000_entries_99_supercells_eqTrue\\efficiency_vs_ele_pt\\efficiency_vs_ele_pt_99_supercells_LinearSVC.json\n",
      "Training LogisticRegression...\n"
     ]
    },
    {
     "name": "stderr",
     "output_type": "stream",
     "text": [
      "c:\\Users\\Me\\AppData\\Local\\Programs\\Python\\Python312\\Lib\\site-packages\\sklearn\\linear_model\\_logistic.py:469: ConvergenceWarning: lbfgs failed to converge (status=1):\n",
      "STOP: TOTAL NO. of ITERATIONS REACHED LIMIT.\n",
      "\n",
      "Increase the number of iterations (max_iter) or scale the data as shown in:\n",
      "    https://scikit-learn.org/stable/modules/preprocessing.html\n",
      "Please also refer to the documentation for alternative solver options:\n",
      "    https://scikit-learn.org/stable/modules/linear_model.html#logistic-regression\n",
      "  n_iter_i = _check_optimize_result(\n"
     ]
    },
    {
     "name": "stdout",
     "output_type": "stream",
     "text": [
      "Took: 1.8255646228790283 seconds\n",
      "predicting...\n",
      "Took: 0.003986835479736328 seconds\n",
      "Index(['offline_ele_pt', 'EventNumber', 'Label', 'pred'], dtype='object')\n"
     ]
    },
    {
     "name": "stderr",
     "output_type": "stream",
     "text": [
      "\n",
      "\n",
      "\u001b[A\u001b[A"
     ]
    },
    {
     "name": "stdout",
     "output_type": "stream",
     "text": [
      "rate: 86.45506022855966\n",
      "\n",
      "\n",
      "Evaluation of LogisticRegression\n",
      "Confusion Matrix:\n",
      " [[8476 1489]\n",
      " [ 335 9700]]\n",
      "Accuracy: 0.90880000\n",
      "Recall: 0.96661684\n",
      "Precision: 0.86692287\n",
      "F1 Score: 0.91405956\n",
      "Classification Report:\n",
      "               precision    recall  f1-score   support\n",
      "\n",
      "         0.0       0.96      0.85      0.90      9965\n",
      "         1.0       0.87      0.97      0.91     10035\n",
      "\n",
      "    accuracy                           0.91     20000\n",
      "   macro avg       0.91      0.91      0.91     20000\n",
      "weighted avg       0.91      0.91      0.91     20000\n",
      "\n",
      "Mean Squared Error: 0.09120000\n",
      "\n",
      "ROC data saved to eFEX_50000_entries_99_supercells_eqTrue\\roc\\roc_99_supercells_LogisticRegression.json\n",
      "Precision-Recall data saved to eFEX_50000_entries_99_supercells_eqTrue\\precision_recall\\precision_recall_99_supercells_LogisticRegression.json\n",
      "Efficiency vs Electron PT data saved to eFEX_50000_entries_99_supercells_eqTrue\\efficiency_vs_ele_pt\\efficiency_vs_ele_pt_99_supercells_LogisticRegression.json\n",
      "Training LogisticRegressionCV...\n"
     ]
    },
    {
     "name": "stderr",
     "output_type": "stream",
     "text": [
      "c:\\Users\\Me\\AppData\\Local\\Programs\\Python\\Python312\\Lib\\site-packages\\sklearn\\linear_model\\_logistic.py:469: ConvergenceWarning: lbfgs failed to converge (status=1):\n",
      "STOP: TOTAL NO. of ITERATIONS REACHED LIMIT.\n",
      "\n",
      "Increase the number of iterations (max_iter) or scale the data as shown in:\n",
      "    https://scikit-learn.org/stable/modules/preprocessing.html\n",
      "Please also refer to the documentation for alternative solver options:\n",
      "    https://scikit-learn.org/stable/modules/linear_model.html#logistic-regression\n",
      "  n_iter_i = _check_optimize_result(\n",
      "c:\\Users\\Me\\AppData\\Local\\Programs\\Python\\Python312\\Lib\\site-packages\\sklearn\\linear_model\\_logistic.py:469: ConvergenceWarning: lbfgs failed to converge (status=1):\n",
      "STOP: TOTAL NO. of ITERATIONS REACHED LIMIT.\n",
      "\n",
      "Increase the number of iterations (max_iter) or scale the data as shown in:\n",
      "    https://scikit-learn.org/stable/modules/preprocessing.html\n",
      "Please also refer to the documentation for alternative solver options:\n",
      "    https://scikit-learn.org/stable/modules/linear_model.html#logistic-regression\n",
      "  n_iter_i = _check_optimize_result(\n",
      "c:\\Users\\Me\\AppData\\Local\\Programs\\Python\\Python312\\Lib\\site-packages\\sklearn\\linear_model\\_logistic.py:469: ConvergenceWarning: lbfgs failed to converge (status=1):\n",
      "STOP: TOTAL NO. of ITERATIONS REACHED LIMIT.\n",
      "\n",
      "Increase the number of iterations (max_iter) or scale the data as shown in:\n",
      "    https://scikit-learn.org/stable/modules/preprocessing.html\n",
      "Please also refer to the documentation for alternative solver options:\n",
      "    https://scikit-learn.org/stable/modules/linear_model.html#logistic-regression\n",
      "  n_iter_i = _check_optimize_result(\n",
      "c:\\Users\\Me\\AppData\\Local\\Programs\\Python\\Python312\\Lib\\site-packages\\sklearn\\linear_model\\_logistic.py:469: ConvergenceWarning: lbfgs failed to converge (status=1):\n",
      "STOP: TOTAL NO. of ITERATIONS REACHED LIMIT.\n",
      "\n",
      "Increase the number of iterations (max_iter) or scale the data as shown in:\n",
      "    https://scikit-learn.org/stable/modules/preprocessing.html\n",
      "Please also refer to the documentation for alternative solver options:\n",
      "    https://scikit-learn.org/stable/modules/linear_model.html#logistic-regression\n",
      "  n_iter_i = _check_optimize_result(\n",
      "c:\\Users\\Me\\AppData\\Local\\Programs\\Python\\Python312\\Lib\\site-packages\\sklearn\\linear_model\\_logistic.py:469: ConvergenceWarning: lbfgs failed to converge (status=1):\n",
      "STOP: TOTAL NO. of ITERATIONS REACHED LIMIT.\n",
      "\n",
      "Increase the number of iterations (max_iter) or scale the data as shown in:\n",
      "    https://scikit-learn.org/stable/modules/preprocessing.html\n",
      "Please also refer to the documentation for alternative solver options:\n",
      "    https://scikit-learn.org/stable/modules/linear_model.html#logistic-regression\n",
      "  n_iter_i = _check_optimize_result(\n"
     ]
    },
    {
     "name": "stdout",
     "output_type": "stream",
     "text": [
      "Took: 34.883341789245605 seconds\n",
      "predicting...\n",
      "Took: 0.002990245819091797 seconds\n",
      "Index(['offline_ele_pt', 'EventNumber', 'Label', 'pred'], dtype='object')\n"
     ]
    },
    {
     "name": "stderr",
     "output_type": "stream",
     "text": [
      "\n",
      "\n",
      "\u001b[A\u001b[A"
     ]
    },
    {
     "name": "stdout",
     "output_type": "stream",
     "text": [
      "rate: 85.00710388139606\n",
      "\n",
      "\n",
      "Evaluation of LogisticRegressionCV\n",
      "Confusion Matrix:\n",
      " [[8506 1459]\n",
      " [ 344 9691]]\n",
      "Accuracy: 0.90985000\n",
      "Recall: 0.96571998\n",
      "Precision: 0.86914798\n",
      "F1 Score: 0.91489261\n",
      "Classification Report:\n",
      "               precision    recall  f1-score   support\n",
      "\n",
      "         0.0       0.96      0.85      0.90      9965\n",
      "         1.0       0.87      0.97      0.91     10035\n",
      "\n",
      "    accuracy                           0.91     20000\n",
      "   macro avg       0.92      0.91      0.91     20000\n",
      "weighted avg       0.91      0.91      0.91     20000\n",
      "\n",
      "Mean Squared Error: 0.09015000\n",
      "\n",
      "ROC data saved to eFEX_50000_entries_99_supercells_eqTrue\\roc\\roc_99_supercells_LogisticRegressionCV.json\n",
      "Precision-Recall data saved to eFEX_50000_entries_99_supercells_eqTrue\\precision_recall\\precision_recall_99_supercells_LogisticRegressionCV.json\n",
      "Efficiency vs Electron PT data saved to eFEX_50000_entries_99_supercells_eqTrue\\efficiency_vs_ele_pt\\efficiency_vs_ele_pt_99_supercells_LogisticRegressionCV.json\n",
      "Training MLPClassifier...\n"
     ]
    },
    {
     "name": "stderr",
     "output_type": "stream",
     "text": [
      "c:\\Users\\Me\\AppData\\Local\\Programs\\Python\\Python312\\Lib\\site-packages\\sklearn\\neural_network\\_multilayer_perceptron.py:690: ConvergenceWarning: Stochastic Optimizer: Maximum iterations (200) reached and the optimization hasn't converged yet.\n",
      "  warnings.warn(\n"
     ]
    },
    {
     "name": "stdout",
     "output_type": "stream",
     "text": [
      "Took: 53.48770713806152 seconds\n",
      "predicting...\n",
      "Took: 0.014922142028808594 seconds\n",
      "Index(['offline_ele_pt', 'EventNumber', 'Label', 'pred'], dtype='object')\n",
      "rate: 44.720735097292284\n",
      "\n",
      "\n",
      "Evaluation of MLPClassifier\n",
      "Confusion Matrix:\n",
      " [[9161  804]\n",
      " [ 378 9657]]\n",
      "Accuracy: 0.94090000\n",
      "Recall: 0.96233184\n",
      "Precision: 0.92314310\n",
      "F1 Score: 0.94233021\n",
      "Classification Report:\n",
      "               precision    recall  f1-score   support\n",
      "\n",
      "         0.0       0.96      0.92      0.94      9965\n",
      "         1.0       0.92      0.96      0.94     10035\n",
      "\n",
      "    accuracy                           0.94     20000\n",
      "   macro avg       0.94      0.94      0.94     20000\n",
      "weighted avg       0.94      0.94      0.94     20000\n",
      "\n",
      "Mean Squared Error: 0.05910000\n",
      "\n",
      "ROC data saved to eFEX_50000_entries_99_supercells_eqTrue\\roc\\roc_99_supercells_MLPClassifier.json\n",
      "Precision-Recall data saved to eFEX_50000_entries_99_supercells_eqTrue\\precision_recall\\precision_recall_99_supercells_MLPClassifier.json\n"
     ]
    },
    {
     "name": "stderr",
     "output_type": "stream",
     "text": [
      "\n",
      "\n",
      "\u001b[A\u001b[A"
     ]
    },
    {
     "name": "stdout",
     "output_type": "stream",
     "text": [
      "Efficiency vs Electron PT data saved to eFEX_50000_entries_99_supercells_eqTrue\\efficiency_vs_ele_pt\\efficiency_vs_ele_pt_99_supercells_MLPClassifier.json\n",
      "Training MultiOutputClassifier...\n",
      "Could not train or predict with MultiOutputClassifier: y must have at least two dimensions for multi-output regression but has only one.\n",
      "Training MultinomialNB...\n",
      "Took: 0.024919748306274414 seconds\n",
      "predicting...\n",
      "Took: 0.005982160568237305 seconds\n",
      "Index(['offline_ele_pt', 'EventNumber', 'Label', 'pred'], dtype='object')\n"
     ]
    },
    {
     "name": "stderr",
     "output_type": "stream",
     "text": [
      "\n",
      "\n",
      "\u001b[A\u001b[A"
     ]
    },
    {
     "name": "stdout",
     "output_type": "stream",
     "text": [
      "rate: 108.64197467311851\n",
      "\n",
      "\n",
      "Evaluation of MultinomialNB\n",
      "Confusion Matrix:\n",
      " [[7631 2334]\n",
      " [ 314 9721]]\n",
      "Accuracy: 0.86760000\n",
      "Recall: 0.96870952\n",
      "Precision: 0.80638739\n",
      "F1 Score: 0.88012675\n",
      "Classification Report:\n",
      "               precision    recall  f1-score   support\n",
      "\n",
      "         0.0       0.96      0.77      0.85      9965\n",
      "         1.0       0.81      0.97      0.88     10035\n",
      "\n",
      "    accuracy                           0.87     20000\n",
      "   macro avg       0.88      0.87      0.87     20000\n",
      "weighted avg       0.88      0.87      0.87     20000\n",
      "\n",
      "Mean Squared Error: 0.13240000\n",
      "\n",
      "ROC data saved to eFEX_50000_entries_99_supercells_eqTrue\\roc\\roc_99_supercells_MultinomialNB.json\n",
      "Precision-Recall data saved to eFEX_50000_entries_99_supercells_eqTrue\\precision_recall\\precision_recall_99_supercells_MultinomialNB.json\n",
      "Efficiency vs Electron PT data saved to eFEX_50000_entries_99_supercells_eqTrue\\efficiency_vs_ele_pt\\efficiency_vs_ele_pt_99_supercells_MultinomialNB.json\n",
      "Training NearestCentroid...\n",
      "Took: 0.04184675216674805 seconds\n",
      "predicting...\n",
      "Took: 0.009966850280761719 seconds\n",
      "Index(['offline_ele_pt', 'EventNumber', 'Label', 'pred'], dtype='object')\n"
     ]
    },
    {
     "name": "stderr",
     "output_type": "stream",
     "text": [
      "\n",
      "\n",
      "\u001b[A\u001b[A"
     ]
    },
    {
     "name": "stdout",
     "output_type": "stream",
     "text": [
      "rate: 221.29599505816947\n",
      "\n",
      "\n",
      "Evaluation of NearestCentroid\n",
      "Confusion Matrix:\n",
      " [[4865 5100]\n",
      " [ 226 9809]]\n",
      "Accuracy: 0.73370000\n",
      "Recall: 0.97747882\n",
      "Precision: 0.65792474\n",
      "F1 Score: 0.78648172\n",
      "Classification Report:\n",
      "               precision    recall  f1-score   support\n",
      "\n",
      "         0.0       0.96      0.49      0.65      9965\n",
      "         1.0       0.66      0.98      0.79     10035\n",
      "\n",
      "    accuracy                           0.73     20000\n",
      "   macro avg       0.81      0.73      0.72     20000\n",
      "weighted avg       0.81      0.73      0.72     20000\n",
      "\n",
      "Mean Squared Error: 0.26630000\n",
      "\n",
      "Failed ROC computation for NearestCentroid: Model must have either a decision_function or predict_proba method.\n",
      "Failed Precision-Recall computation for NearestCentroid: Model must have either a decision_function or predict_proba method.\n",
      "Efficiency vs Electron PT data saved to eFEX_50000_entries_99_supercells_eqTrue\\efficiency_vs_ele_pt\\efficiency_vs_ele_pt_99_supercells_NearestCentroid.json\n",
      "Training NuSVC...\n",
      "Took: 724.2140409946442 seconds\n",
      "predicting...\n",
      "Took: 148.05014610290527 seconds\n",
      "Index(['offline_ele_pt', 'EventNumber', 'Label', 'pred'], dtype='object')\n",
      "rate: 138.37032842582107\n",
      "\n",
      "\n",
      "Evaluation of NuSVC\n",
      "Confusion Matrix:\n",
      " [[7352 2613]\n",
      " [ 106 9929]]\n",
      "Accuracy: 0.86405000\n",
      "Recall: 0.98943697\n",
      "Precision: 0.79166002\n",
      "F1 Score: 0.87956770\n",
      "Classification Report:\n",
      "               precision    recall  f1-score   support\n",
      "\n",
      "         0.0       0.99      0.74      0.84      9965\n",
      "         1.0       0.79      0.99      0.88     10035\n",
      "\n",
      "    accuracy                           0.86     20000\n",
      "   macro avg       0.89      0.86      0.86     20000\n",
      "weighted avg       0.89      0.86      0.86     20000\n",
      "\n",
      "Mean Squared Error: 0.13595000\n",
      "\n",
      "ROC data saved to eFEX_50000_entries_99_supercells_eqTrue\\roc\\roc_99_supercells_NuSVC.json\n",
      "Precision-Recall data saved to eFEX_50000_entries_99_supercells_eqTrue\\precision_recall\\precision_recall_99_supercells_NuSVC.json\n"
     ]
    },
    {
     "name": "stderr",
     "output_type": "stream",
     "text": [
      "\n",
      "\n",
      "\u001b[A\u001b[A"
     ]
    },
    {
     "name": "stdout",
     "output_type": "stream",
     "text": [
      "Efficiency vs Electron PT data saved to eFEX_50000_entries_99_supercells_eqTrue\\efficiency_vs_ele_pt\\efficiency_vs_ele_pt_99_supercells_NuSVC.json\n",
      "Training OneVsOneClassifier...\n"
     ]
    },
    {
     "name": "stderr",
     "output_type": "stream",
     "text": [
      "c:\\Users\\Me\\AppData\\Local\\Programs\\Python\\Python312\\Lib\\site-packages\\sklearn\\linear_model\\_logistic.py:469: ConvergenceWarning: lbfgs failed to converge (status=1):\n",
      "STOP: TOTAL NO. of ITERATIONS REACHED LIMIT.\n",
      "\n",
      "Increase the number of iterations (max_iter) or scale the data as shown in:\n",
      "    https://scikit-learn.org/stable/modules/preprocessing.html\n",
      "Please also refer to the documentation for alternative solver options:\n",
      "    https://scikit-learn.org/stable/modules/linear_model.html#logistic-regression\n",
      "  n_iter_i = _check_optimize_result(\n"
     ]
    },
    {
     "name": "stdout",
     "output_type": "stream",
     "text": [
      "Took: 2.1717333793640137 seconds\n",
      "predicting...\n",
      "Took: 0.009966611862182617 seconds\n",
      "Index(['offline_ele_pt', 'EventNumber', 'Label', 'pred'], dtype='object')\n",
      "rate: 86.45506022855966\n",
      "\n",
      "\n",
      "Evaluation of OneVsOneClassifier\n",
      "Confusion Matrix:\n",
      " [[8476 1489]\n",
      " [ 335 9700]]\n",
      "Accuracy: 0.90880000\n",
      "Recall: 0.96661684\n",
      "Precision: 0.86692287\n",
      "F1 Score: 0.91405956\n",
      "Classification Report:\n",
      "               precision    recall  f1-score   support\n",
      "\n",
      "         0.0       0.96      0.85      0.90      9965\n",
      "         1.0       0.87      0.97      0.91     10035\n",
      "\n",
      "    accuracy                           0.91     20000\n",
      "   macro avg       0.91      0.91      0.91     20000\n",
      "weighted avg       0.91      0.91      0.91     20000\n",
      "\n",
      "Mean Squared Error: 0.09120000\n",
      "\n",
      "ROC data saved to eFEX_50000_entries_99_supercells_eqTrue\\roc\\roc_99_supercells_OneVsOneClassifier.json\n",
      "Precision-Recall data saved to eFEX_50000_entries_99_supercells_eqTrue\\precision_recall\\precision_recall_99_supercells_OneVsOneClassifier.json\n"
     ]
    },
    {
     "name": "stderr",
     "output_type": "stream",
     "text": [
      "\n",
      "\n",
      "\u001b[A\u001b[A"
     ]
    },
    {
     "name": "stdout",
     "output_type": "stream",
     "text": [
      "Efficiency vs Electron PT data saved to eFEX_50000_entries_99_supercells_eqTrue\\efficiency_vs_ele_pt\\efficiency_vs_ele_pt_99_supercells_OneVsOneClassifier.json\n",
      "Training OneVsRestClassifier...\n"
     ]
    },
    {
     "name": "stderr",
     "output_type": "stream",
     "text": [
      "c:\\Users\\Me\\AppData\\Local\\Programs\\Python\\Python312\\Lib\\site-packages\\sklearn\\linear_model\\_logistic.py:469: ConvergenceWarning: lbfgs failed to converge (status=1):\n",
      "STOP: TOTAL NO. of ITERATIONS REACHED LIMIT.\n",
      "\n",
      "Increase the number of iterations (max_iter) or scale the data as shown in:\n",
      "    https://scikit-learn.org/stable/modules/preprocessing.html\n",
      "Please also refer to the documentation for alternative solver options:\n",
      "    https://scikit-learn.org/stable/modules/linear_model.html#logistic-regression\n",
      "  n_iter_i = _check_optimize_result(\n"
     ]
    },
    {
     "name": "stdout",
     "output_type": "stream",
     "text": [
      "Took: 2.1119346618652344 seconds\n",
      "predicting...\n",
      "Took: 0.006976127624511719 seconds\n",
      "Index(['offline_ele_pt', 'EventNumber', 'Label', 'pred'], dtype='object')\n",
      "rate: 86.45506022855966\n",
      "\n",
      "\n",
      "Evaluation of OneVsRestClassifier\n",
      "Confusion Matrix:\n",
      " [[8476 1489]\n",
      " [ 335 9700]]\n",
      "Accuracy: 0.90880000\n",
      "Recall: 0.96661684\n",
      "Precision: 0.86692287\n",
      "F1 Score: 0.91405956\n",
      "Classification Report:\n",
      "               precision    recall  f1-score   support\n",
      "\n",
      "         0.0       0.96      0.85      0.90      9965\n",
      "         1.0       0.87      0.97      0.91     10035\n",
      "\n",
      "    accuracy                           0.91     20000\n",
      "   macro avg       0.91      0.91      0.91     20000\n",
      "weighted avg       0.91      0.91      0.91     20000\n",
      "\n",
      "Mean Squared Error: 0.09120000\n",
      "\n",
      "ROC data saved to eFEX_50000_entries_99_supercells_eqTrue\\roc\\roc_99_supercells_OneVsRestClassifier.json\n",
      "Precision-Recall data saved to eFEX_50000_entries_99_supercells_eqTrue\\precision_recall\\precision_recall_99_supercells_OneVsRestClassifier.json\n"
     ]
    },
    {
     "name": "stderr",
     "output_type": "stream",
     "text": [
      "\n",
      "\n",
      "\u001b[A\u001b[A"
     ]
    },
    {
     "name": "stdout",
     "output_type": "stream",
     "text": [
      "Efficiency vs Electron PT data saved to eFEX_50000_entries_99_supercells_eqTrue\\efficiency_vs_ele_pt\\efficiency_vs_ele_pt_99_supercells_OneVsRestClassifier.json\n",
      "Training OutputCodeClassifier...\n",
      "Took: 0.1066429615020752 seconds\n",
      "predicting...\n",
      "Took: 0.007973909378051758 seconds\n",
      "Index(['offline_ele_pt', 'EventNumber', 'Label', 'pred'], dtype='object')\n"
     ]
    },
    {
     "name": "stderr",
     "output_type": "stream",
     "text": [
      "c:\\Users\\Me\\AppData\\Local\\Programs\\Python\\Python312\\Lib\\site-packages\\sklearn\\metrics\\_classification.py:1531: UndefinedMetricWarning: Precision is ill-defined and being set to 0.0 due to no predicted samples. Use `zero_division` parameter to control this behavior.\n",
      "  _warn_prf(average, modifier, f\"{metric.capitalize()} is\", len(result))\n",
      "c:\\Users\\Me\\AppData\\Local\\Programs\\Python\\Python312\\Lib\\site-packages\\sklearn\\metrics\\_classification.py:1531: UndefinedMetricWarning: Precision is ill-defined and being set to 0.0 in labels with no predicted samples. Use `zero_division` parameter to control this behavior.\n",
      "  _warn_prf(average, modifier, f\"{metric.capitalize()} is\", len(result))\n",
      "c:\\Users\\Me\\AppData\\Local\\Programs\\Python\\Python312\\Lib\\site-packages\\sklearn\\metrics\\_classification.py:1531: UndefinedMetricWarning: Precision is ill-defined and being set to 0.0 in labels with no predicted samples. Use `zero_division` parameter to control this behavior.\n",
      "  _warn_prf(average, modifier, f\"{metric.capitalize()} is\", len(result))\n",
      "c:\\Users\\Me\\AppData\\Local\\Programs\\Python\\Python312\\Lib\\site-packages\\sklearn\\metrics\\_classification.py:1531: UndefinedMetricWarning: Precision is ill-defined and being set to 0.0 in labels with no predicted samples. Use `zero_division` parameter to control this behavior.\n",
      "  _warn_prf(average, modifier, f\"{metric.capitalize()} is\", len(result))\n",
      "\n",
      "\n",
      "\u001b[A\u001b[A"
     ]
    },
    {
     "name": "stdout",
     "output_type": "stream",
     "text": [
      "rate: 0.0\n",
      "\n",
      "\n",
      "Evaluation of OutputCodeClassifier\n",
      "Confusion Matrix:\n",
      " [[ 9965     0]\n",
      " [10035     0]]\n",
      "Accuracy: 0.49825000\n",
      "Recall: 0.00000000\n",
      "Precision: 0.00000000\n",
      "F1 Score: 0.00000000\n",
      "Classification Report:\n",
      "               precision    recall  f1-score   support\n",
      "\n",
      "         0.0       0.50      1.00      0.67      9965\n",
      "         1.0       0.00      0.00      0.00     10035\n",
      "\n",
      "    accuracy                           0.50     20000\n",
      "   macro avg       0.25      0.50      0.33     20000\n",
      "weighted avg       0.25      0.50      0.33     20000\n",
      "\n",
      "Mean Squared Error: 0.50175000\n",
      "\n",
      "Failed ROC computation for OutputCodeClassifier: Model must have either a decision_function or predict_proba method.\n",
      "Failed Precision-Recall computation for OutputCodeClassifier: Model must have either a decision_function or predict_proba method.\n",
      "Efficiency vs Electron PT data saved to eFEX_50000_entries_99_supercells_eqTrue\\efficiency_vs_ele_pt\\efficiency_vs_ele_pt_99_supercells_OutputCodeClassifier.json\n",
      "Training PassiveAggressiveClassifier...\n",
      "Took: 0.38172245025634766 seconds\n",
      "predicting...\n",
      "Took: 0.004983663558959961 seconds\n",
      "Index(['offline_ele_pt', 'EventNumber', 'Label', 'pred'], dtype='object')\n"
     ]
    },
    {
     "name": "stderr",
     "output_type": "stream",
     "text": [
      "\n",
      "\n",
      "\u001b[A\u001b[A"
     ]
    },
    {
     "name": "stdout",
     "output_type": "stream",
     "text": [
      "rate: 74.43400597137855\n",
      "\n",
      "\n",
      "Evaluation of PassiveAggressiveClassifier\n",
      "Confusion Matrix:\n",
      " [[8648 1317]\n",
      " [1221 8814]]\n",
      "Accuracy: 0.87310000\n",
      "Recall: 0.87832586\n",
      "Precision: 0.87000296\n",
      "F1 Score: 0.87414460\n",
      "Classification Report:\n",
      "               precision    recall  f1-score   support\n",
      "\n",
      "         0.0       0.88      0.87      0.87      9965\n",
      "         1.0       0.87      0.88      0.87     10035\n",
      "\n",
      "    accuracy                           0.87     20000\n",
      "   macro avg       0.87      0.87      0.87     20000\n",
      "weighted avg       0.87      0.87      0.87     20000\n",
      "\n",
      "Mean Squared Error: 0.12690000\n",
      "\n",
      "ROC data saved to eFEX_50000_entries_99_supercells_eqTrue\\roc\\roc_99_supercells_PassiveAggressiveClassifier.json\n",
      "Precision-Recall data saved to eFEX_50000_entries_99_supercells_eqTrue\\precision_recall\\precision_recall_99_supercells_PassiveAggressiveClassifier.json\n",
      "Efficiency vs Electron PT data saved to eFEX_50000_entries_99_supercells_eqTrue\\efficiency_vs_ele_pt\\efficiency_vs_ele_pt_99_supercells_PassiveAggressiveClassifier.json\n",
      "Training Perceptron...\n",
      "Took: 0.3428537845611572 seconds\n",
      "predicting...\n",
      "Took: 0.004984617233276367 seconds\n",
      "Index(['offline_ele_pt', 'EventNumber', 'Label', 'pred'], dtype='object')\n",
      "rate: 60.090188407289205\n",
      "\n",
      "\n",
      "Evaluation of Perceptron\n",
      "Confusion Matrix:\n",
      " [[9005  960]\n",
      " [2155 7880]]\n",
      "Accuracy: 0.84425000\n",
      "Recall: 0.78525162\n",
      "Precision: 0.89140271\n",
      "F1 Score: 0.83496689\n",
      "Classification Report:\n",
      "               precision    recall  f1-score   support\n",
      "\n",
      "         0.0       0.81      0.90      0.85      9965\n",
      "         1.0       0.89      0.79      0.83     10035\n",
      "\n",
      "    accuracy                           0.84     20000\n",
      "   macro avg       0.85      0.84      0.84     20000\n",
      "weighted avg       0.85      0.84      0.84     20000\n",
      "\n",
      "Mean Squared Error: 0.15575000\n",
      "\n",
      "ROC data saved to eFEX_50000_entries_99_supercells_eqTrue\\roc\\roc_99_supercells_Perceptron.json\n",
      "Precision-Recall data saved to eFEX_50000_entries_99_supercells_eqTrue\\precision_recall\\precision_recall_99_supercells_Perceptron.json\n"
     ]
    },
    {
     "name": "stderr",
     "output_type": "stream",
     "text": [
      "\n",
      "\n",
      "\u001b[A\u001b[A"
     ]
    },
    {
     "name": "stdout",
     "output_type": "stream",
     "text": [
      "Efficiency vs Electron PT data saved to eFEX_50000_entries_99_supercells_eqTrue\\efficiency_vs_ele_pt\\efficiency_vs_ele_pt_99_supercells_Perceptron.json\n",
      "Training QuadraticDiscriminantAnalysis...\n",
      "Took: 0.654808521270752 seconds\n",
      "predicting...\n",
      "Took: 0.06179404258728027 seconds\n",
      "Index(['offline_ele_pt', 'EventNumber', 'Label', 'pred'], dtype='object')\n",
      "rate: 85.685833419129\n",
      "\n",
      "\n",
      "Evaluation of QuadraticDiscriminantAnalysis\n",
      "Confusion Matrix:\n",
      " [[8397 1568]\n",
      " [ 507 9528]]\n",
      "Accuracy: 0.89625000\n",
      "Recall: 0.94947683\n",
      "Precision: 0.85868782\n",
      "F1 Score: 0.90180304\n",
      "Classification Report:\n",
      "               precision    recall  f1-score   support\n",
      "\n",
      "         0.0       0.94      0.84      0.89      9965\n",
      "         1.0       0.86      0.95      0.90     10035\n",
      "\n",
      "    accuracy                           0.90     20000\n",
      "   macro avg       0.90      0.90      0.90     20000\n",
      "weighted avg       0.90      0.90      0.90     20000\n",
      "\n",
      "Mean Squared Error: 0.10375000\n",
      "\n",
      "ROC data saved to eFEX_50000_entries_99_supercells_eqTrue\\roc\\roc_99_supercells_QuadraticDiscriminantAnalysis.json\n"
     ]
    },
    {
     "name": "stderr",
     "output_type": "stream",
     "text": [
      "\n",
      "\n",
      "\u001b[A\u001b[A"
     ]
    },
    {
     "name": "stdout",
     "output_type": "stream",
     "text": [
      "Precision-Recall data saved to eFEX_50000_entries_99_supercells_eqTrue\\precision_recall\\precision_recall_99_supercells_QuadraticDiscriminantAnalysis.json\n",
      "Efficiency vs Electron PT data saved to eFEX_50000_entries_99_supercells_eqTrue\\efficiency_vs_ele_pt\\efficiency_vs_ele_pt_99_supercells_QuadraticDiscriminantAnalysis.json\n",
      "Training RadiusNeighborsClassifier...\n",
      "Took: 0.011961698532104492 seconds\n",
      "predicting...\n"
     ]
    },
    {
     "name": "stderr",
     "output_type": "stream",
     "text": [
      "\n",
      "\n",
      "\u001b[A\u001b[A"
     ]
    },
    {
     "name": "stdout",
     "output_type": "stream",
     "text": [
      "Could not train or predict with RadiusNeighborsClassifier: No neighbors found for test samples array([    0,     1,     2, ..., 19997, 19998, 19999]), you can try using larger radius, giving a label for outliers, or considering removing them from your dataset.\n",
      "Training RandomForestClassifier...\n",
      "Took: 27.136221647262573 seconds\n",
      "predicting...\n",
      "Took: 0.5043182373046875 seconds\n",
      "Index(['offline_ele_pt', 'EventNumber', 'Label', 'pred'], dtype='object')\n",
      "rate: 54.735766498507154\n",
      "\n",
      "\n",
      "Evaluation of RandomForestClassifier\n",
      "Confusion Matrix:\n",
      " [[8996  969]\n",
      " [ 258 9777]]\n",
      "Accuracy: 0.93865000\n",
      "Recall: 0.97428999\n",
      "Precision: 0.90982691\n",
      "F1 Score: 0.94095568\n",
      "Classification Report:\n",
      "               precision    recall  f1-score   support\n",
      "\n",
      "         0.0       0.97      0.90      0.94      9965\n",
      "         1.0       0.91      0.97      0.94     10035\n",
      "\n",
      "    accuracy                           0.94     20000\n",
      "   macro avg       0.94      0.94      0.94     20000\n",
      "weighted avg       0.94      0.94      0.94     20000\n",
      "\n",
      "Mean Squared Error: 0.06135000\n",
      "\n",
      "ROC data saved to eFEX_50000_entries_99_supercells_eqTrue\\roc\\roc_99_supercells_RandomForestClassifier.json\n"
     ]
    },
    {
     "name": "stderr",
     "output_type": "stream",
     "text": [
      "\n",
      "\n",
      "\u001b[A\u001b[A"
     ]
    },
    {
     "name": "stdout",
     "output_type": "stream",
     "text": [
      "Precision-Recall data saved to eFEX_50000_entries_99_supercells_eqTrue\\precision_recall\\precision_recall_99_supercells_RandomForestClassifier.json\n",
      "Efficiency vs Electron PT data saved to eFEX_50000_entries_99_supercells_eqTrue\\efficiency_vs_ele_pt\\efficiency_vs_ele_pt_99_supercells_RandomForestClassifier.json\n",
      "Training RidgeClassifier...\n",
      "Took: 0.20531153678894043 seconds\n",
      "predicting...\n",
      "Took: 0.003987312316894531 seconds\n",
      "Index(['offline_ele_pt', 'EventNumber', 'Label', 'pred'], dtype='object')\n",
      "rate: 154.72016884587666\n",
      "\n",
      "\n",
      "Evaluation of RidgeClassifier\n",
      "Confusion Matrix:\n",
      " [[6636 3329]\n",
      " [ 522 9513]]\n",
      "Accuracy: 0.80745000\n",
      "Recall: 0.94798206\n",
      "Precision: 0.74077247\n",
      "F1 Score: 0.83166499\n",
      "Classification Report:\n",
      "               precision    recall  f1-score   support\n",
      "\n",
      "         0.0       0.93      0.67      0.78      9965\n",
      "         1.0       0.74      0.95      0.83     10035\n",
      "\n",
      "    accuracy                           0.81     20000\n",
      "   macro avg       0.83      0.81      0.80     20000\n",
      "weighted avg       0.83      0.81      0.80     20000\n",
      "\n",
      "Mean Squared Error: 0.19255000\n",
      "\n",
      "ROC data saved to eFEX_50000_entries_99_supercells_eqTrue\\roc\\roc_99_supercells_RidgeClassifier.json\n",
      "Precision-Recall data saved to eFEX_50000_entries_99_supercells_eqTrue\\precision_recall\\precision_recall_99_supercells_RidgeClassifier.json\n"
     ]
    },
    {
     "name": "stderr",
     "output_type": "stream",
     "text": [
      "\n",
      "\n",
      "\u001b[A\u001b[A"
     ]
    },
    {
     "name": "stdout",
     "output_type": "stream",
     "text": [
      "Efficiency vs Electron PT data saved to eFEX_50000_entries_99_supercells_eqTrue\\efficiency_vs_ele_pt\\efficiency_vs_ele_pt_99_supercells_RidgeClassifier.json\n",
      "Training RidgeClassifierCV...\n",
      "Took: 3.9976251125335693 seconds\n",
      "predicting...\n",
      "Took: 0.004984855651855469 seconds\n",
      "Index(['offline_ele_pt', 'EventNumber', 'Label', 'pred'], dtype='object')\n",
      "rate: 154.62967157417893\n",
      "\n",
      "\n",
      "Evaluation of RidgeClassifierCV\n",
      "Confusion Matrix:\n",
      " [[6633 3332]\n",
      " [ 521 9514]]\n",
      "Accuracy: 0.80735000\n",
      "Recall: 0.94808171\n",
      "Precision: 0.74061965\n",
      "F1 Score: 0.83160701\n",
      "Classification Report:\n",
      "               precision    recall  f1-score   support\n",
      "\n",
      "         0.0       0.93      0.67      0.77      9965\n",
      "         1.0       0.74      0.95      0.83     10035\n",
      "\n",
      "    accuracy                           0.81     20000\n",
      "   macro avg       0.83      0.81      0.80     20000\n",
      "weighted avg       0.83      0.81      0.80     20000\n",
      "\n",
      "Mean Squared Error: 0.19265000\n",
      "\n",
      "ROC data saved to eFEX_50000_entries_99_supercells_eqTrue\\roc\\roc_99_supercells_RidgeClassifierCV.json\n",
      "Precision-Recall data saved to eFEX_50000_entries_99_supercells_eqTrue\\precision_recall\\precision_recall_99_supercells_RidgeClassifierCV.json\n"
     ]
    },
    {
     "name": "stderr",
     "output_type": "stream",
     "text": [
      "\n",
      "\n",
      "\u001b[A\u001b[A"
     ]
    },
    {
     "name": "stdout",
     "output_type": "stream",
     "text": [
      "Efficiency vs Electron PT data saved to eFEX_50000_entries_99_supercells_eqTrue\\efficiency_vs_ele_pt\\efficiency_vs_ele_pt_99_supercells_RidgeClassifierCV.json\n",
      "Training SGDClassifier...\n",
      "Took: 2.8424925804138184 seconds\n",
      "predicting...\n",
      "Took: 0.0039844512939453125 seconds\n",
      "Index(['offline_ele_pt', 'EventNumber', 'Label', 'pred'], dtype='object')\n",
      "rate: 79.77334500154431\n",
      "\n",
      "\n",
      "Evaluation of SGDClassifier\n",
      "Confusion Matrix:\n",
      " [[8604 1361]\n",
      " [ 592 9443]]\n",
      "Accuracy: 0.90235000\n",
      "Recall: 0.94100648\n",
      "Precision: 0.87402814\n",
      "F1 Score: 0.90628149\n",
      "Classification Report:\n",
      "               precision    recall  f1-score   support\n",
      "\n",
      "         0.0       0.94      0.86      0.90      9965\n",
      "         1.0       0.87      0.94      0.91     10035\n",
      "\n",
      "    accuracy                           0.90     20000\n",
      "   macro avg       0.90      0.90      0.90     20000\n",
      "weighted avg       0.90      0.90      0.90     20000\n",
      "\n",
      "Mean Squared Error: 0.09765000\n",
      "\n",
      "ROC data saved to eFEX_50000_entries_99_supercells_eqTrue\\roc\\roc_99_supercells_SGDClassifier.json\n",
      "Precision-Recall data saved to eFEX_50000_entries_99_supercells_eqTrue\\precision_recall\\precision_recall_99_supercells_SGDClassifier.json\n"
     ]
    },
    {
     "name": "stderr",
     "output_type": "stream",
     "text": [
      "\n",
      "\n",
      "\u001b[A\u001b[A"
     ]
    },
    {
     "name": "stdout",
     "output_type": "stream",
     "text": [
      "Efficiency vs Electron PT data saved to eFEX_50000_entries_99_supercells_eqTrue\\efficiency_vs_ele_pt\\efficiency_vs_ele_pt_99_supercells_SGDClassifier.json\n",
      "Training SVC...\n",
      "Took: 373.95123267173767 seconds\n",
      "predicting...\n",
      "Took: 69.7355477809906 seconds\n",
      "Index(['offline_ele_pt', 'EventNumber', 'Label', 'pred'], dtype='object')\n",
      "rate: 75.98754246885616\n",
      "\n",
      "\n",
      "Evaluation of SVC\n",
      "Confusion Matrix:\n",
      " [[8619 1346]\n",
      " [  83 9952]]\n",
      "Accuracy: 0.92855000\n",
      "Recall: 0.99172895\n",
      "Precision: 0.88086387\n",
      "F1 Score: 0.93301458\n",
      "Classification Report:\n",
      "               precision    recall  f1-score   support\n",
      "\n",
      "         0.0       0.99      0.86      0.92      9965\n",
      "         1.0       0.88      0.99      0.93     10035\n",
      "\n",
      "    accuracy                           0.93     20000\n",
      "   macro avg       0.94      0.93      0.93     20000\n",
      "weighted avg       0.94      0.93      0.93     20000\n",
      "\n",
      "Mean Squared Error: 0.07145000\n",
      "\n",
      "ROC data saved to eFEX_50000_entries_99_supercells_eqTrue\\roc\\roc_99_supercells_SVC.json\n"
     ]
    },
    {
     "name": "stderr",
     "output_type": "stream",
     "text": [
      "\n",
      "\n",
      "\u001b[A\u001b[A"
     ]
    },
    {
     "name": "stdout",
     "output_type": "stream",
     "text": [
      "Precision-Recall data saved to eFEX_50000_entries_99_supercells_eqTrue\\precision_recall\\precision_recall_99_supercells_SVC.json\n",
      "Efficiency vs Electron PT data saved to eFEX_50000_entries_99_supercells_eqTrue\\efficiency_vs_ele_pt\\efficiency_vs_ele_pt_99_supercells_SVC.json\n",
      "Training TunedThresholdClassifierCV...\n"
     ]
    },
    {
     "name": "stderr",
     "output_type": "stream",
     "text": [
      "c:\\Users\\Me\\AppData\\Local\\Programs\\Python\\Python312\\Lib\\site-packages\\sklearn\\linear_model\\_logistic.py:469: ConvergenceWarning: lbfgs failed to converge (status=1):\n",
      "STOP: TOTAL NO. of ITERATIONS REACHED LIMIT.\n",
      "\n",
      "Increase the number of iterations (max_iter) or scale the data as shown in:\n",
      "    https://scikit-learn.org/stable/modules/preprocessing.html\n",
      "Please also refer to the documentation for alternative solver options:\n",
      "    https://scikit-learn.org/stable/modules/linear_model.html#logistic-regression\n",
      "  n_iter_i = _check_optimize_result(\n",
      "c:\\Users\\Me\\AppData\\Local\\Programs\\Python\\Python312\\Lib\\site-packages\\sklearn\\linear_model\\_logistic.py:469: ConvergenceWarning: lbfgs failed to converge (status=1):\n",
      "STOP: TOTAL NO. of ITERATIONS REACHED LIMIT.\n",
      "\n",
      "Increase the number of iterations (max_iter) or scale the data as shown in:\n",
      "    https://scikit-learn.org/stable/modules/preprocessing.html\n",
      "Please also refer to the documentation for alternative solver options:\n",
      "    https://scikit-learn.org/stable/modules/linear_model.html#logistic-regression\n",
      "  n_iter_i = _check_optimize_result(\n",
      "c:\\Users\\Me\\AppData\\Local\\Programs\\Python\\Python312\\Lib\\site-packages\\sklearn\\linear_model\\_logistic.py:469: ConvergenceWarning: lbfgs failed to converge (status=1):\n",
      "STOP: TOTAL NO. of ITERATIONS REACHED LIMIT.\n",
      "\n",
      "Increase the number of iterations (max_iter) or scale the data as shown in:\n",
      "    https://scikit-learn.org/stable/modules/preprocessing.html\n",
      "Please also refer to the documentation for alternative solver options:\n",
      "    https://scikit-learn.org/stable/modules/linear_model.html#logistic-regression\n",
      "  n_iter_i = _check_optimize_result(\n",
      "c:\\Users\\Me\\AppData\\Local\\Programs\\Python\\Python312\\Lib\\site-packages\\sklearn\\linear_model\\_logistic.py:469: ConvergenceWarning: lbfgs failed to converge (status=1):\n",
      "STOP: TOTAL NO. of ITERATIONS REACHED LIMIT.\n",
      "\n",
      "Increase the number of iterations (max_iter) or scale the data as shown in:\n",
      "    https://scikit-learn.org/stable/modules/preprocessing.html\n",
      "Please also refer to the documentation for alternative solver options:\n",
      "    https://scikit-learn.org/stable/modules/linear_model.html#logistic-regression\n",
      "  n_iter_i = _check_optimize_result(\n",
      "c:\\Users\\Me\\AppData\\Local\\Programs\\Python\\Python312\\Lib\\site-packages\\sklearn\\linear_model\\_logistic.py:469: ConvergenceWarning: lbfgs failed to converge (status=1):\n",
      "STOP: TOTAL NO. of ITERATIONS REACHED LIMIT.\n",
      "\n",
      "Increase the number of iterations (max_iter) or scale the data as shown in:\n",
      "    https://scikit-learn.org/stable/modules/preprocessing.html\n",
      "Please also refer to the documentation for alternative solver options:\n",
      "    https://scikit-learn.org/stable/modules/linear_model.html#logistic-regression\n",
      "  n_iter_i = _check_optimize_result(\n",
      "c:\\Users\\Me\\AppData\\Local\\Programs\\Python\\Python312\\Lib\\site-packages\\sklearn\\linear_model\\_logistic.py:469: ConvergenceWarning: lbfgs failed to converge (status=1):\n",
      "STOP: TOTAL NO. of ITERATIONS REACHED LIMIT.\n",
      "\n",
      "Increase the number of iterations (max_iter) or scale the data as shown in:\n",
      "    https://scikit-learn.org/stable/modules/preprocessing.html\n",
      "Please also refer to the documentation for alternative solver options:\n",
      "    https://scikit-learn.org/stable/modules/linear_model.html#logistic-regression\n",
      "  n_iter_i = _check_optimize_result(\n"
     ]
    },
    {
     "name": "stdout",
     "output_type": "stream",
     "text": [
      "Took: 14.451918601989746 seconds\n",
      "predicting...\n",
      "Took: 0.005980014801025391 seconds\n",
      "Index(['offline_ele_pt', 'EventNumber', 'Label', 'pred'], dtype='object')\n"
     ]
    },
    {
     "name": "stderr",
     "output_type": "stream",
     "text": [
      "\n",
      "\n",
      "\u001b[A\u001b[A"
     ]
    },
    {
     "name": "stdout",
     "output_type": "stream",
     "text": [
      "rate: 84.46412025120972\n",
      "\n",
      "\n",
      "Evaluation of TunedThresholdClassifierCV\n",
      "Confusion Matrix:\n",
      " [[8529 1436]\n",
      " [ 379 9656]]\n",
      "Accuracy: 0.90925000\n",
      "Recall: 0.96223219\n",
      "Precision: 0.87053732\n",
      "F1 Score: 0.91409097\n",
      "Classification Report:\n",
      "               precision    recall  f1-score   support\n",
      "\n",
      "         0.0       0.96      0.86      0.90      9965\n",
      "         1.0       0.87      0.96      0.91     10035\n",
      "\n",
      "    accuracy                           0.91     20000\n",
      "   macro avg       0.91      0.91      0.91     20000\n",
      "weighted avg       0.91      0.91      0.91     20000\n",
      "\n",
      "Mean Squared Error: 0.09075000\n",
      "\n",
      "ROC data saved to eFEX_50000_entries_99_supercells_eqTrue\\roc\\roc_99_supercells_TunedThresholdClassifierCV.json\n",
      "Precision-Recall data saved to eFEX_50000_entries_99_supercells_eqTrue\\precision_recall\\precision_recall_99_supercells_TunedThresholdClassifierCV.json\n",
      "Efficiency vs Electron PT data saved to eFEX_50000_entries_99_supercells_eqTrue\\efficiency_vs_ele_pt\\efficiency_vs_ele_pt_99_supercells_TunedThresholdClassifierCV.json\n",
      "Training VotingClassifier...\n"
     ]
    },
    {
     "name": "stderr",
     "output_type": "stream",
     "text": [
      "c:\\Users\\Me\\AppData\\Local\\Programs\\Python\\Python312\\Lib\\site-packages\\sklearn\\linear_model\\_logistic.py:469: ConvergenceWarning: lbfgs failed to converge (status=1):\n",
      "STOP: TOTAL NO. of ITERATIONS REACHED LIMIT.\n",
      "\n",
      "Increase the number of iterations (max_iter) or scale the data as shown in:\n",
      "    https://scikit-learn.org/stable/modules/preprocessing.html\n",
      "Please also refer to the documentation for alternative solver options:\n",
      "    https://scikit-learn.org/stable/modules/linear_model.html#logistic-regression\n",
      "  n_iter_i = _check_optimize_result(\n"
     ]
    },
    {
     "name": "stdout",
     "output_type": "stream",
     "text": [
      "Took: 30.955443382263184 seconds\n",
      "predicting...\n",
      "Took: 0.5680997371673584 seconds\n",
      "Index(['offline_ele_pt', 'EventNumber', 'Label', 'pred'], dtype='object')\n"
     ]
    },
    {
     "name": "stderr",
     "output_type": "stream",
     "text": [
      "\n",
      "\n",
      "\u001b[A\u001b[A"
     ]
    },
    {
     "name": "stdout",
     "output_type": "stream",
     "text": [
      "rate: 51.191290023679606\n",
      "\n",
      "\n",
      "Evaluation of VotingClassifier\n",
      "Confusion Matrix:\n",
      " [[9083  882]\n",
      " [ 463 9572]]\n",
      "Accuracy: 0.93275000\n",
      "Recall: 0.95386148\n",
      "Precision: 0.91563038\n",
      "F1 Score: 0.93435502\n",
      "Classification Report:\n",
      "               precision    recall  f1-score   support\n",
      "\n",
      "         0.0       0.95      0.91      0.93      9965\n",
      "         1.0       0.92      0.95      0.93     10035\n",
      "\n",
      "    accuracy                           0.93     20000\n",
      "   macro avg       0.93      0.93      0.93     20000\n",
      "weighted avg       0.93      0.93      0.93     20000\n",
      "\n",
      "Mean Squared Error: 0.06725000\n",
      "\n",
      "Failed ROC computation for VotingClassifier: Model must have either a decision_function or predict_proba method.\n",
      "Failed Precision-Recall computation for VotingClassifier: Model must have either a decision_function or predict_proba method.\n",
      "Efficiency vs Electron PT data saved to eFEX_50000_entries_99_supercells_eqTrue\\efficiency_vs_ele_pt\\efficiency_vs_ele_pt_99_supercells_VotingClassifier.json\n",
      "Training XGBClassifier...\n",
      "Took: 1.6155941486358643 seconds\n",
      "predicting...\n",
      "Took: 0.018937110900878906 seconds\n",
      "Index(['offline_ele_pt', 'EventNumber', 'Label', 'pred'], dtype='object')\n",
      "rate: 51.70410789663338\n",
      "\n",
      "\n",
      "Evaluation of XGBClassifier\n",
      "Confusion Matrix:\n",
      " [[9046  919]\n",
      " [ 202 9833]]\n",
      "Accuracy: 0.94395000\n",
      "Recall: 0.97987045\n",
      "Precision: 0.91452753\n",
      "F1 Score: 0.94607206\n",
      "Classification Report:\n",
      "               precision    recall  f1-score   support\n",
      "\n",
      "         0.0       0.98      0.91      0.94      9965\n",
      "         1.0       0.91      0.98      0.95     10035\n",
      "\n",
      "    accuracy                           0.94     20000\n",
      "   macro avg       0.95      0.94      0.94     20000\n",
      "weighted avg       0.95      0.94      0.94     20000\n",
      "\n",
      "Mean Squared Error: 0.05605000\n",
      "\n",
      "ROC data saved to eFEX_50000_entries_99_supercells_eqTrue\\roc\\roc_99_supercells_XGBClassifier.json\n",
      "Precision-Recall data saved to eFEX_50000_entries_99_supercells_eqTrue\\precision_recall\\precision_recall_99_supercells_XGBClassifier.json\n"
     ]
    },
    {
     "name": "stderr",
     "output_type": "stream",
     "text": [
      "\n",
      "\n",
      "100%|██████████| 43/43 [38:08<00:00, 53.22s/it]\n",
      "\n",
      "100%|██████████| 1/1 [45:05<00:00, 2705.25s/it]\n"
     ]
    },
    {
     "name": "stdout",
     "output_type": "stream",
     "text": [
      "Efficiency vs Electron PT data saved to eFEX_50000_entries_99_supercells_eqTrue\\efficiency_vs_ele_pt\\efficiency_vs_ele_pt_99_supercells_XGBClassifier.json\n",
      "Results saved to eFEX_50000_entries_99_supercells_eqTrue/eFEX_50000_entries_99_supercells_eqTrue_99_supercells_all.csv\n"
     ]
    },
    {
     "name": "stderr",
     "output_type": "stream",
     "text": [
      "\n",
      "\u001b[A"
     ]
    },
    {
     "name": "stdout",
     "output_type": "stream",
     "text": [
      "Log saved to ..\\data\\eFEX_50000_entries_81_supercells_eqTrue\\log.json\n",
      "preprepared data in ..\\data\\eFEX_50000_entries_81_supercells_eqTrue is missing, preparing and saving here\n",
      "(371765, 26) Index(['TOB_ET', 'TOB_eta', 'TOB_ieta', 'TOB_ietabin', 'TOB_phi',\n",
      "       'offline_ele_pt', 'offline_ele_eta', 'offline_ele_eta_cal',\n",
      "       'offline_ele_phi', 'offline_ele_phi_cal', 'eFEX_Clus_ETs', 'legacy_ET',\n",
      "       'eFEX_ReC', 'eFEX_ReE', 'eFEX_RhE', 'eFEX_RhH', 'eFEX_WsN', 'eFEX_WsD',\n",
      "       'ID', 'SuperCell_ET', 'lumiBlock', 'averageMu', 'BDTScore',\n",
      "       'TopoCluster_ET', 'TopoCluster_eta', 'TopoCluster_phi'],\n",
      "      dtype='object') (371765, 28) Index(['TOB_ET', 'TOB_eta', 'TOB_ieta', 'TOB_ietabin', 'TOB_phi',\n",
      "       'offline_ele_pt', 'offline_ele_eta', 'offline_ele_eta_cal',\n",
      "       'offline_ele_phi', 'offline_ele_phi_cal', 'offline_zeemass',\n",
      "       'eFEX_Clus_SCETs', 'legacy_ET', 'eFEX_ReC', 'eFEX_ReE', 'eFEX_RhE',\n",
      "       'eFEX_RhH', 'eFEX_WsN', 'eFEX_WsD', 'ID', 'SuperCell_ET', 'lumiBlock',\n",
      "       'averageMu', 'EventNumber', 'BDTScore', 'TopoCluster_ET',\n",
      "       'TopoCluster_eta', 'TopoCluster_phi'],\n",
      "      dtype='object')\n",
      "found preprepared data in ..\\data\\ZB_rate_estimation_81_supercells\n",
      "found data preparation log in ..\\data\\eFEX_50000_entries_81_supercells_eqTrue\\log.json\n",
      "Log saved to eFEX_50000_entries_81_supercells_eqTrue\\log.json\n"
     ]
    },
    {
     "name": "stderr",
     "output_type": "stream",
     "text": [
      "\n",
      "\n",
      "\u001b[A\u001b[A"
     ]
    },
    {
     "name": "stdout",
     "output_type": "stream",
     "text": [
      "Training AdaBoostClassifier...\n"
     ]
    },
    {
     "name": "stderr",
     "output_type": "stream",
     "text": [
      "c:\\Users\\Me\\AppData\\Local\\Programs\\Python\\Python312\\Lib\\site-packages\\sklearn\\ensemble\\_weight_boosting.py:527: FutureWarning: The SAMME.R algorithm (the default) is deprecated and will be removed in 1.6. Use the SAMME algorithm to circumvent this warning.\n",
      "  warnings.warn(\n"
     ]
    },
    {
     "name": "stdout",
     "output_type": "stream",
     "text": [
      "Took: 10.7286536693573 seconds\n",
      "predicting...\n",
      "Took: 0.35155677795410156 seconds\n",
      "Index(['offline_ele_pt', 'EventNumber', 'Label', 'pred'], dtype='object')\n",
      "rate: 78.64212910532277\n",
      "\n",
      "\n",
      "Evaluation of AdaBoostClassifier\n",
      "Confusion Matrix:\n",
      " [[8470 1495]\n",
      " [ 717 9318]]\n",
      "Accuracy: 0.88940000\n",
      "Recall: 0.92855007\n",
      "Precision: 0.86174050\n",
      "F1 Score: 0.89389870\n",
      "Classification Report:\n",
      "               precision    recall  f1-score   support\n",
      "\n",
      "         0.0       0.92      0.85      0.88      9965\n",
      "         1.0       0.86      0.93      0.89     10035\n",
      "\n",
      "    accuracy                           0.89     20000\n",
      "   macro avg       0.89      0.89      0.89     20000\n",
      "weighted avg       0.89      0.89      0.89     20000\n",
      "\n",
      "Mean Squared Error: 0.11060000\n",
      "\n",
      "ROC data saved to eFEX_50000_entries_81_supercells_eqTrue\\roc\\roc_81_supercells_AdaBoostClassifier.json\n"
     ]
    },
    {
     "name": "stderr",
     "output_type": "stream",
     "text": [
      "\n",
      "\n",
      "\u001b[A\u001b[A"
     ]
    },
    {
     "name": "stdout",
     "output_type": "stream",
     "text": [
      "Precision-Recall data saved to eFEX_50000_entries_81_supercells_eqTrue\\precision_recall\\precision_recall_81_supercells_AdaBoostClassifier.json\n",
      "Efficiency vs Electron PT data saved to eFEX_50000_entries_81_supercells_eqTrue\\efficiency_vs_ele_pt\\efficiency_vs_ele_pt_81_supercells_AdaBoostClassifier.json\n",
      "Training BaggingClassifier...\n",
      "Took: 20.313403367996216 seconds\n",
      "predicting...\n",
      "Took: 0.2232954502105713 seconds\n",
      "Index(['offline_ele_pt', 'EventNumber', 'Label', 'pred'], dtype='object')\n",
      "rate: 58.43107175949758\n",
      "\n",
      "\n",
      "Evaluation of BaggingClassifier\n",
      "Confusion Matrix:\n",
      " [[8862 1103]\n",
      " [ 759 9276]]\n",
      "Accuracy: 0.90690000\n",
      "Recall: 0.92436472\n",
      "Precision: 0.89372772\n",
      "F1 Score: 0.90878809\n",
      "Classification Report:\n",
      "               precision    recall  f1-score   support\n",
      "\n",
      "         0.0       0.92      0.89      0.90      9965\n",
      "         1.0       0.89      0.92      0.91     10035\n",
      "\n",
      "    accuracy                           0.91     20000\n",
      "   macro avg       0.91      0.91      0.91     20000\n",
      "weighted avg       0.91      0.91      0.91     20000\n",
      "\n",
      "Mean Squared Error: 0.09310000\n",
      "\n",
      "ROC data saved to eFEX_50000_entries_81_supercells_eqTrue\\roc\\roc_81_supercells_BaggingClassifier.json\n"
     ]
    },
    {
     "name": "stderr",
     "output_type": "stream",
     "text": [
      "\n",
      "\n",
      "\u001b[A\u001b[A"
     ]
    },
    {
     "name": "stdout",
     "output_type": "stream",
     "text": [
      "Precision-Recall data saved to eFEX_50000_entries_81_supercells_eqTrue\\precision_recall\\precision_recall_81_supercells_BaggingClassifier.json\n",
      "Efficiency vs Electron PT data saved to eFEX_50000_entries_81_supercells_eqTrue\\efficiency_vs_ele_pt\\efficiency_vs_ele_pt_81_supercells_BaggingClassifier.json\n",
      "Training BernoulliNB...\n",
      "Took: 0.1285858154296875 seconds\n",
      "predicting...\n",
      "Took: 0.027912378311157227 seconds\n",
      "Index(['offline_ele_pt', 'EventNumber', 'Label', 'pred'], dtype='object')\n",
      "rate: 104.62992896118604\n",
      "\n",
      "\n",
      "Evaluation of BernoulliNB\n",
      "Confusion Matrix:\n",
      " [[7868 2097]\n",
      " [ 530 9505]]\n",
      "Accuracy: 0.86865000\n",
      "Recall: 0.94718485\n",
      "Precision: 0.81925530\n",
      "F1 Score: 0.87858760\n",
      "Classification Report:\n",
      "               precision    recall  f1-score   support\n",
      "\n",
      "         0.0       0.94      0.79      0.86      9965\n",
      "         1.0       0.82      0.95      0.88     10035\n",
      "\n",
      "    accuracy                           0.87     20000\n",
      "   macro avg       0.88      0.87      0.87     20000\n",
      "weighted avg       0.88      0.87      0.87     20000\n",
      "\n",
      "Mean Squared Error: 0.13135000\n",
      "\n",
      "ROC data saved to eFEX_50000_entries_81_supercells_eqTrue\\roc\\roc_81_supercells_BernoulliNB.json\n",
      "Precision-Recall data saved to eFEX_50000_entries_81_supercells_eqTrue\\precision_recall\\precision_recall_81_supercells_BernoulliNB.json\n"
     ]
    },
    {
     "name": "stderr",
     "output_type": "stream",
     "text": [
      "\n",
      "\n",
      "\u001b[A\u001b[A"
     ]
    },
    {
     "name": "stdout",
     "output_type": "stream",
     "text": [
      "Efficiency vs Electron PT data saved to eFEX_50000_entries_81_supercells_eqTrue\\efficiency_vs_ele_pt\\efficiency_vs_ele_pt_81_supercells_BernoulliNB.json\n",
      "Training CalibratedClassifierCV...\n",
      "Took: 3.7594661712646484 seconds\n",
      "predicting...\n",
      "Took: 0.024921417236328125 seconds\n",
      "Index(['offline_ele_pt', 'EventNumber', 'Label', 'pred'], dtype='object')\n",
      "rate: 95.56511891279729\n",
      "\n",
      "\n",
      "Evaluation of CalibratedClassifierCV\n",
      "Confusion Matrix:\n",
      " [[8199 1766]\n",
      " [ 457 9578]]\n",
      "Accuracy: 0.88885000\n",
      "Recall: 0.95445939\n",
      "Precision: 0.84432299\n",
      "F1 Score: 0.89601946\n",
      "Classification Report:\n",
      "               precision    recall  f1-score   support\n",
      "\n",
      "         0.0       0.95      0.82      0.88      9965\n",
      "         1.0       0.84      0.95      0.90     10035\n",
      "\n",
      "    accuracy                           0.89     20000\n",
      "   macro avg       0.90      0.89      0.89     20000\n",
      "weighted avg       0.90      0.89      0.89     20000\n",
      "\n",
      "Mean Squared Error: 0.11115000\n",
      "\n",
      "ROC data saved to eFEX_50000_entries_81_supercells_eqTrue\\roc\\roc_81_supercells_CalibratedClassifierCV.json\n"
     ]
    },
    {
     "name": "stderr",
     "output_type": "stream",
     "text": [
      "\n",
      "\n",
      "\u001b[A\u001b[A"
     ]
    },
    {
     "name": "stdout",
     "output_type": "stream",
     "text": [
      "Precision-Recall data saved to eFEX_50000_entries_81_supercells_eqTrue\\precision_recall\\precision_recall_81_supercells_CalibratedClassifierCV.json\n",
      "Efficiency vs Electron PT data saved to eFEX_50000_entries_81_supercells_eqTrue\\efficiency_vs_ele_pt\\efficiency_vs_ele_pt_81_supercells_CalibratedClassifierCV.json\n",
      "Training CategoricalNB...\n"
     ]
    },
    {
     "name": "stderr",
     "output_type": "stream",
     "text": [
      "\n",
      "\n",
      "\u001b[A\u001b[A"
     ]
    },
    {
     "name": "stdout",
     "output_type": "stream",
     "text": [
      "Took: 0.3877706527709961 seconds\n",
      "predicting...\n",
      "Could not train or predict with CategoricalNB: index 52 is out of bounds for axis 1 with size 30\n",
      "Training ClassifierChain...\n",
      "Could not train or predict with ClassifierChain: tuple index out of range\n",
      "Training ComplementNB...\n",
      "Took: 0.02293252944946289 seconds\n",
      "predicting...\n",
      "Took: 0.004984855651855469 seconds\n",
      "Index(['offline_ele_pt', 'EventNumber', 'Label', 'pred'], dtype='object')\n",
      "rate: 101.88484505302172\n",
      "\n",
      "\n",
      "Evaluation of ComplementNB\n",
      "Confusion Matrix:\n",
      " [[7638 2327]\n",
      " [2180 7855]]\n",
      "Accuracy: 0.77465000\n",
      "Recall: 0.78276034\n",
      "Precision: 0.77145944\n",
      "F1 Score: 0.77706880\n",
      "Classification Report:\n",
      "               precision    recall  f1-score   support\n",
      "\n",
      "         0.0       0.78      0.77      0.77      9965\n",
      "         1.0       0.77      0.78      0.78     10035\n",
      "\n",
      "    accuracy                           0.77     20000\n",
      "   macro avg       0.77      0.77      0.77     20000\n",
      "weighted avg       0.77      0.77      0.77     20000\n",
      "\n",
      "Mean Squared Error: 0.22535000\n",
      "\n",
      "ROC data saved to eFEX_50000_entries_81_supercells_eqTrue\\roc\\roc_81_supercells_ComplementNB.json\n",
      "Precision-Recall data saved to eFEX_50000_entries_81_supercells_eqTrue\\precision_recall\\precision_recall_81_supercells_ComplementNB.json\n"
     ]
    },
    {
     "name": "stderr",
     "output_type": "stream",
     "text": [
      "\n",
      "\n",
      "\u001b[A\u001b[A"
     ]
    },
    {
     "name": "stdout",
     "output_type": "stream",
     "text": [
      "Efficiency vs Electron PT data saved to eFEX_50000_entries_81_supercells_eqTrue\\efficiency_vs_ele_pt\\efficiency_vs_ele_pt_81_supercells_ComplementNB.json\n",
      "Training DecisionTreeClassifier...\n",
      "Took: 3.5254838466644287 seconds\n",
      "predicting...\n",
      "Took: 0.010966300964355469 seconds\n",
      "Index(['offline_ele_pt', 'EventNumber', 'Label', 'pred'], dtype='object')\n"
     ]
    },
    {
     "name": "stderr",
     "output_type": "stream",
     "text": [
      "\n",
      "\n",
      "\u001b[A\u001b[A"
     ]
    },
    {
     "name": "stdout",
     "output_type": "stream",
     "text": [
      "rate: 67.40538453618862\n",
      "\n",
      "\n",
      "Evaluation of DecisionTreeClassifier\n",
      "Confusion Matrix:\n",
      " [[8549 1416]\n",
      " [1339 8696]]\n",
      "Accuracy: 0.86225000\n",
      "Recall: 0.86656702\n",
      "Precision: 0.85996835\n",
      "F1 Score: 0.86325508\n",
      "Classification Report:\n",
      "               precision    recall  f1-score   support\n",
      "\n",
      "         0.0       0.86      0.86      0.86      9965\n",
      "         1.0       0.86      0.87      0.86     10035\n",
      "\n",
      "    accuracy                           0.86     20000\n",
      "   macro avg       0.86      0.86      0.86     20000\n",
      "weighted avg       0.86      0.86      0.86     20000\n",
      "\n",
      "Mean Squared Error: 0.13775000\n",
      "\n",
      "ROC data saved to eFEX_50000_entries_81_supercells_eqTrue\\roc\\roc_81_supercells_DecisionTreeClassifier.json\n",
      "Precision-Recall data saved to eFEX_50000_entries_81_supercells_eqTrue\\precision_recall\\precision_recall_81_supercells_DecisionTreeClassifier.json\n",
      "Efficiency vs Electron PT data saved to eFEX_50000_entries_81_supercells_eqTrue\\efficiency_vs_ele_pt\\efficiency_vs_ele_pt_81_supercells_DecisionTreeClassifier.json\n",
      "Training DummyClassifier...\n",
      "Took: 0.0031719207763671875 seconds\n",
      "predicting...\n",
      "Took: 0.0008151531219482422 seconds\n",
      "Index(['offline_ele_pt', 'EventNumber', 'Label', 'pred'], dtype='object')\n"
     ]
    },
    {
     "name": "stderr",
     "output_type": "stream",
     "text": [
      "c:\\Users\\Me\\AppData\\Local\\Programs\\Python\\Python312\\Lib\\site-packages\\sklearn\\metrics\\_classification.py:1531: UndefinedMetricWarning: Precision is ill-defined and being set to 0.0 due to no predicted samples. Use `zero_division` parameter to control this behavior.\n",
      "  _warn_prf(average, modifier, f\"{metric.capitalize()} is\", len(result))\n",
      "c:\\Users\\Me\\AppData\\Local\\Programs\\Python\\Python312\\Lib\\site-packages\\sklearn\\metrics\\_classification.py:1531: UndefinedMetricWarning: Precision is ill-defined and being set to 0.0 in labels with no predicted samples. Use `zero_division` parameter to control this behavior.\n",
      "  _warn_prf(average, modifier, f\"{metric.capitalize()} is\", len(result))\n",
      "c:\\Users\\Me\\AppData\\Local\\Programs\\Python\\Python312\\Lib\\site-packages\\sklearn\\metrics\\_classification.py:1531: UndefinedMetricWarning: Precision is ill-defined and being set to 0.0 in labels with no predicted samples. Use `zero_division` parameter to control this behavior.\n",
      "  _warn_prf(average, modifier, f\"{metric.capitalize()} is\", len(result))\n",
      "c:\\Users\\Me\\AppData\\Local\\Programs\\Python\\Python312\\Lib\\site-packages\\sklearn\\metrics\\_classification.py:1531: UndefinedMetricWarning: Precision is ill-defined and being set to 0.0 in labels with no predicted samples. Use `zero_division` parameter to control this behavior.\n",
      "  _warn_prf(average, modifier, f\"{metric.capitalize()} is\", len(result))\n",
      "\n",
      "\n",
      "\u001b[A\u001b[A"
     ]
    },
    {
     "name": "stdout",
     "output_type": "stream",
     "text": [
      "rate: 0.0\n",
      "\n",
      "\n",
      "Evaluation of DummyClassifier\n",
      "Confusion Matrix:\n",
      " [[ 9965     0]\n",
      " [10035     0]]\n",
      "Accuracy: 0.49825000\n",
      "Recall: 0.00000000\n",
      "Precision: 0.00000000\n",
      "F1 Score: 0.00000000\n",
      "Classification Report:\n",
      "               precision    recall  f1-score   support\n",
      "\n",
      "         0.0       0.50      1.00      0.67      9965\n",
      "         1.0       0.00      0.00      0.00     10035\n",
      "\n",
      "    accuracy                           0.50     20000\n",
      "   macro avg       0.25      0.50      0.33     20000\n",
      "weighted avg       0.25      0.50      0.33     20000\n",
      "\n",
      "Mean Squared Error: 0.50175000\n",
      "\n",
      "ROC data saved to eFEX_50000_entries_81_supercells_eqTrue\\roc\\roc_81_supercells_DummyClassifier.json\n",
      "Precision-Recall data saved to eFEX_50000_entries_81_supercells_eqTrue\\precision_recall\\precision_recall_81_supercells_DummyClassifier.json\n",
      "Efficiency vs Electron PT data saved to eFEX_50000_entries_81_supercells_eqTrue\\efficiency_vs_ele_pt\\efficiency_vs_ele_pt_81_supercells_DummyClassifier.json\n",
      "Training ExtraTreeClassifier...\n",
      "Took: 0.6651005744934082 seconds\n",
      "predicting...\n",
      "Took: 0.017942428588867188 seconds\n",
      "Index(['offline_ele_pt', 'EventNumber', 'Label', 'pred'], dtype='object')\n",
      "rate: 83.77030783486049\n",
      "\n",
      "\n",
      "Evaluation of ExtraTreeClassifier\n",
      "Confusion Matrix:\n",
      " [[8222 1743]\n",
      " [1375 8660]]\n",
      "Accuracy: 0.84410000\n",
      "Recall: 0.86297957\n",
      "Precision: 0.83245218\n",
      "F1 Score: 0.84744104\n",
      "Classification Report:\n",
      "               precision    recall  f1-score   support\n",
      "\n",
      "         0.0       0.86      0.83      0.84      9965\n",
      "         1.0       0.83      0.86      0.85     10035\n",
      "\n",
      "    accuracy                           0.84     20000\n",
      "   macro avg       0.84      0.84      0.84     20000\n",
      "weighted avg       0.84      0.84      0.84     20000\n",
      "\n",
      "Mean Squared Error: 0.15590000\n",
      "\n",
      "ROC data saved to eFEX_50000_entries_81_supercells_eqTrue\\roc\\roc_81_supercells_ExtraTreeClassifier.json\n",
      "Precision-Recall data saved to eFEX_50000_entries_81_supercells_eqTrue\\precision_recall\\precision_recall_81_supercells_ExtraTreeClassifier.json\n",
      "Efficiency vs Electron PT data saved to eFEX_50000_entries_81_supercells_eqTrue\\efficiency_vs_ele_pt\\efficiency_vs_ele_pt_81_supercells_ExtraTreeClassifier.json\n"
     ]
    },
    {
     "name": "stderr",
     "output_type": "stream",
     "text": [
      "\n",
      "\n",
      "\u001b[A\u001b[A"
     ]
    },
    {
     "name": "stdout",
     "output_type": "stream",
     "text": [
      "Training ExtraTreesClassifier...\n",
      "Took: 38.48325777053833 seconds\n",
      "predicting...\n",
      "Took: 0.8891799449920654 seconds\n",
      "Index(['offline_ele_pt', 'EventNumber', 'Label', 'pred'], dtype='object')\n",
      "rate: 65.05245547204777\n",
      "\n",
      "\n",
      "Evaluation of ExtraTreesClassifier\n",
      "Confusion Matrix:\n",
      " [[8764 1201]\n",
      " [ 375 9660]]\n",
      "Accuracy: 0.92120000\n",
      "Recall: 0.96263079\n",
      "Precision: 0.88942086\n",
      "F1 Score: 0.92457887\n",
      "Classification Report:\n",
      "               precision    recall  f1-score   support\n",
      "\n",
      "         0.0       0.96      0.88      0.92      9965\n",
      "         1.0       0.89      0.96      0.92     10035\n",
      "\n",
      "    accuracy                           0.92     20000\n",
      "   macro avg       0.92      0.92      0.92     20000\n",
      "weighted avg       0.92      0.92      0.92     20000\n",
      "\n",
      "Mean Squared Error: 0.07880000\n",
      "\n",
      "ROC data saved to eFEX_50000_entries_81_supercells_eqTrue\\roc\\roc_81_supercells_ExtraTreesClassifier.json\n"
     ]
    },
    {
     "name": "stderr",
     "output_type": "stream",
     "text": [
      "\n",
      "\n",
      "\u001b[A\u001b[A"
     ]
    },
    {
     "name": "stdout",
     "output_type": "stream",
     "text": [
      "Precision-Recall data saved to eFEX_50000_entries_81_supercells_eqTrue\\precision_recall\\precision_recall_81_supercells_ExtraTreesClassifier.json\n",
      "Efficiency vs Electron PT data saved to eFEX_50000_entries_81_supercells_eqTrue\\efficiency_vs_ele_pt\\efficiency_vs_ele_pt_81_supercells_ExtraTreesClassifier.json\n",
      "Training FixedThresholdClassifier...\n"
     ]
    },
    {
     "name": "stderr",
     "output_type": "stream",
     "text": [
      "c:\\Users\\Me\\AppData\\Local\\Programs\\Python\\Python312\\Lib\\site-packages\\sklearn\\linear_model\\_logistic.py:469: ConvergenceWarning: lbfgs failed to converge (status=1):\n",
      "STOP: TOTAL NO. of ITERATIONS REACHED LIMIT.\n",
      "\n",
      "Increase the number of iterations (max_iter) or scale the data as shown in:\n",
      "    https://scikit-learn.org/stable/modules/preprocessing.html\n",
      "Please also refer to the documentation for alternative solver options:\n",
      "    https://scikit-learn.org/stable/modules/linear_model.html#logistic-regression\n",
      "  n_iter_i = _check_optimize_result(\n"
     ]
    },
    {
     "name": "stdout",
     "output_type": "stream",
     "text": [
      "Took: 1.8860187530517578 seconds\n",
      "predicting...\n",
      "Took: 0.004983425140380859 seconds\n",
      "Index(['offline_ele_pt', 'EventNumber', 'Label', 'pred'], dtype='object')\n",
      "rate: 95.21821270462267\n",
      "\n",
      "\n",
      "Evaluation of FixedThresholdClassifier\n",
      "Confusion Matrix:\n",
      " [[8208 1757]\n",
      " [ 465 9570]]\n",
      "Accuracy: 0.88890000\n",
      "Recall: 0.95366218\n",
      "Precision: 0.84488391\n",
      "F1 Score: 0.89598352\n",
      "Classification Report:\n",
      "               precision    recall  f1-score   support\n",
      "\n",
      "         0.0       0.95      0.82      0.88      9965\n",
      "         1.0       0.84      0.95      0.90     10035\n",
      "\n",
      "    accuracy                           0.89     20000\n",
      "   macro avg       0.90      0.89      0.89     20000\n",
      "weighted avg       0.90      0.89      0.89     20000\n",
      "\n",
      "Mean Squared Error: 0.11110000\n",
      "\n",
      "ROC data saved to eFEX_50000_entries_81_supercells_eqTrue\\roc\\roc_81_supercells_FixedThresholdClassifier.json\n",
      "Precision-Recall data saved to eFEX_50000_entries_81_supercells_eqTrue\\precision_recall\\precision_recall_81_supercells_FixedThresholdClassifier.json\n",
      "Efficiency vs Electron PT data saved to eFEX_50000_entries_81_supercells_eqTrue\\efficiency_vs_ele_pt\\efficiency_vs_ele_pt_81_supercells_FixedThresholdClassifier.json\n"
     ]
    },
    {
     "name": "stderr",
     "output_type": "stream",
     "text": [
      "\n",
      "\n",
      "\u001b[A\u001b[A"
     ]
    },
    {
     "name": "stdout",
     "output_type": "stream",
     "text": [
      "Training GaussianNB...\n",
      "Took: 0.10965180397033691 seconds\n",
      "predicting...\n",
      "Took: 0.033895015716552734 seconds\n",
      "Index(['offline_ele_pt', 'EventNumber', 'Label', 'pred'], dtype='object')\n",
      "rate: 108.23473695047875\n",
      "\n",
      "\n",
      "Evaluation of GaussianNB\n",
      "Confusion Matrix:\n",
      " [[7859 2106]\n",
      " [ 451 9584]]\n",
      "Accuracy: 0.87215000\n",
      "Recall: 0.95505730\n",
      "Precision: 0.81984602\n",
      "F1 Score: 0.88230150\n",
      "Classification Report:\n",
      "               precision    recall  f1-score   support\n",
      "\n",
      "         0.0       0.95      0.79      0.86      9965\n",
      "         1.0       0.82      0.96      0.88     10035\n",
      "\n",
      "    accuracy                           0.87     20000\n",
      "   macro avg       0.88      0.87      0.87     20000\n",
      "weighted avg       0.88      0.87      0.87     20000\n",
      "\n",
      "Mean Squared Error: 0.12785000\n",
      "\n",
      "ROC data saved to eFEX_50000_entries_81_supercells_eqTrue\\roc\\roc_81_supercells_GaussianNB.json\n",
      "Precision-Recall data saved to eFEX_50000_entries_81_supercells_eqTrue\\precision_recall\\precision_recall_81_supercells_GaussianNB.json\n"
     ]
    },
    {
     "name": "stderr",
     "output_type": "stream",
     "text": [
      "\n",
      "\n",
      "\u001b[A\u001b[A"
     ]
    },
    {
     "name": "stdout",
     "output_type": "stream",
     "text": [
      "Efficiency vs Electron PT data saved to eFEX_50000_entries_81_supercells_eqTrue\\efficiency_vs_ele_pt\\efficiency_vs_ele_pt_81_supercells_GaussianNB.json\n",
      "Training GaussianProcessClassifier...\n",
      "Could not train or predict with GaussianProcessClassifier: Unable to allocate 47.7 GiB for an array with shape (80000, 80000) and data type float64\n",
      "Training GradientBoostingClassifier...\n",
      "Took: 43.75186538696289 seconds\n",
      "predicting...\n",
      "Took: 0.04685235023498535 seconds\n",
      "Index(['offline_ele_pt', 'EventNumber', 'Label', 'pred'], dtype='object')\n",
      "rate: 85.7009162977453\n",
      "\n",
      "\n",
      "Evaluation of GradientBoostingClassifier\n",
      "Confusion Matrix:\n",
      " [[8361 1604]\n",
      " [ 294 9741]]\n",
      "Accuracy: 0.90510000\n",
      "Recall: 0.97070254\n",
      "Precision: 0.85861613\n",
      "F1 Score: 0.91122544\n",
      "Classification Report:\n",
      "               precision    recall  f1-score   support\n",
      "\n",
      "         0.0       0.97      0.84      0.90      9965\n",
      "         1.0       0.86      0.97      0.91     10035\n",
      "\n",
      "    accuracy                           0.91     20000\n",
      "   macro avg       0.91      0.90      0.90     20000\n",
      "weighted avg       0.91      0.91      0.90     20000\n",
      "\n",
      "Mean Squared Error: 0.09490000\n",
      "\n",
      "ROC data saved to eFEX_50000_entries_81_supercells_eqTrue\\roc\\roc_81_supercells_GradientBoostingClassifier.json\n",
      "Precision-Recall data saved to eFEX_50000_entries_81_supercells_eqTrue\\precision_recall\\precision_recall_81_supercells_GradientBoostingClassifier.json\n",
      "Efficiency vs Electron PT data saved to eFEX_50000_entries_81_supercells_eqTrue\\efficiency_vs_ele_pt\\efficiency_vs_ele_pt_81_supercells_GradientBoostingClassifier.json\n"
     ]
    },
    {
     "name": "stderr",
     "output_type": "stream",
     "text": [
      "\n",
      "\n",
      "\u001b[A\u001b[A"
     ]
    },
    {
     "name": "stdout",
     "output_type": "stream",
     "text": [
      "Training HistGradientBoostingClassifier...\n",
      "Took: 2.4748194217681885 seconds\n",
      "predicting...\n",
      "Took: 0.18640875816345215 seconds\n",
      "Index(['offline_ele_pt', 'EventNumber', 'Label', 'pred'], dtype='object')\n",
      "rate: 63.90615669720992\n",
      "\n",
      "\n",
      "Evaluation of HistGradientBoostingClassifier\n",
      "Confusion Matrix:\n",
      " [[8777 1188]\n",
      " [ 368 9667]]\n",
      "Accuracy: 0.92220000\n",
      "Recall: 0.96332835\n",
      "Precision: 0.89055735\n",
      "F1 Score: 0.92551460\n",
      "Classification Report:\n",
      "               precision    recall  f1-score   support\n",
      "\n",
      "         0.0       0.96      0.88      0.92      9965\n",
      "         1.0       0.89      0.96      0.93     10035\n",
      "\n",
      "    accuracy                           0.92     20000\n",
      "   macro avg       0.93      0.92      0.92     20000\n",
      "weighted avg       0.93      0.92      0.92     20000\n",
      "\n",
      "Mean Squared Error: 0.07780000\n",
      "\n",
      "ROC data saved to eFEX_50000_entries_81_supercells_eqTrue\\roc\\roc_81_supercells_HistGradientBoostingClassifier.json\n"
     ]
    },
    {
     "name": "stderr",
     "output_type": "stream",
     "text": [
      "\n",
      "\n",
      "\u001b[A\u001b[A"
     ]
    },
    {
     "name": "stdout",
     "output_type": "stream",
     "text": [
      "Precision-Recall data saved to eFEX_50000_entries_81_supercells_eqTrue\\precision_recall\\precision_recall_81_supercells_HistGradientBoostingClassifier.json\n",
      "Efficiency vs Electron PT data saved to eFEX_50000_entries_81_supercells_eqTrue\\efficiency_vs_ele_pt\\efficiency_vs_ele_pt_81_supercells_HistGradientBoostingClassifier.json\n",
      "Training KNeighborsClassifier...\n",
      "Took: 0.01993584632873535 seconds\n",
      "predicting...\n",
      "Took: 3.391247510910034 seconds\n",
      "Index(['offline_ele_pt', 'EventNumber', 'Label', 'pred'], dtype='object')\n",
      "rate: 140.45176567486874\n",
      "\n",
      "\n",
      "Evaluation of KNeighborsClassifier\n",
      "Confusion Matrix:\n",
      " [[6955 3010]\n",
      " [ 136 9899]]\n",
      "Accuracy: 0.84270000\n",
      "Recall: 0.98644743\n",
      "Precision: 0.76682934\n",
      "F1 Score: 0.86288354\n",
      "Classification Report:\n",
      "               precision    recall  f1-score   support\n",
      "\n",
      "         0.0       0.98      0.70      0.82      9965\n",
      "         1.0       0.77      0.99      0.86     10035\n",
      "\n",
      "    accuracy                           0.84     20000\n",
      "   macro avg       0.87      0.84      0.84     20000\n",
      "weighted avg       0.87      0.84      0.84     20000\n",
      "\n",
      "Mean Squared Error: 0.15730000\n",
      "\n",
      "ROC data saved to eFEX_50000_entries_81_supercells_eqTrue\\roc\\roc_81_supercells_KNeighborsClassifier.json\n"
     ]
    },
    {
     "name": "stderr",
     "output_type": "stream",
     "text": [
      "\n",
      "\n",
      "\u001b[A\u001b[A"
     ]
    },
    {
     "name": "stdout",
     "output_type": "stream",
     "text": [
      "Precision-Recall data saved to eFEX_50000_entries_81_supercells_eqTrue\\precision_recall\\precision_recall_81_supercells_KNeighborsClassifier.json\n",
      "Efficiency vs Electron PT data saved to eFEX_50000_entries_81_supercells_eqTrue\\efficiency_vs_ele_pt\\efficiency_vs_ele_pt_81_supercells_KNeighborsClassifier.json\n",
      "Training LabelPropagation...\n",
      "Could not train or predict with LabelPropagation: Unable to allocate 47.7 GiB for an array with shape (80000, 80000) and data type float64\n",
      "Training LabelSpreading...\n",
      "Could not train or predict with LabelSpreading: Unable to allocate 47.7 GiB for an array with shape (80000, 80000) and data type float64\n",
      "Training LinearDiscriminantAnalysis...\n",
      "Took: 2.2907369136810303 seconds\n",
      "predicting...\n",
      "Took: 0.003987312316894531 seconds\n",
      "Index(['offline_ele_pt', 'EventNumber', 'Label', 'pred'], dtype='object')\n"
     ]
    },
    {
     "name": "stderr",
     "output_type": "stream",
     "text": [
      "\n",
      "\n",
      "\u001b[A\u001b[A"
     ]
    },
    {
     "name": "stdout",
     "output_type": "stream",
     "text": [
      "rate: 149.89364768866466\n",
      "\n",
      "\n",
      "Evaluation of LinearDiscriminantAnalysis\n",
      "Confusion Matrix:\n",
      " [[6750 3215]\n",
      " [ 591 9444]]\n",
      "Accuracy: 0.80970000\n",
      "Recall: 0.94110613\n",
      "Precision: 0.74603049\n",
      "F1 Score: 0.83229047\n",
      "Classification Report:\n",
      "               precision    recall  f1-score   support\n",
      "\n",
      "         0.0       0.92      0.68      0.78      9965\n",
      "         1.0       0.75      0.94      0.83     10035\n",
      "\n",
      "    accuracy                           0.81     20000\n",
      "   macro avg       0.83      0.81      0.81     20000\n",
      "weighted avg       0.83      0.81      0.81     20000\n",
      "\n",
      "Mean Squared Error: 0.19030000\n",
      "\n",
      "ROC data saved to eFEX_50000_entries_81_supercells_eqTrue\\roc\\roc_81_supercells_LinearDiscriminantAnalysis.json\n",
      "Precision-Recall data saved to eFEX_50000_entries_81_supercells_eqTrue\\precision_recall\\precision_recall_81_supercells_LinearDiscriminantAnalysis.json\n",
      "Efficiency vs Electron PT data saved to eFEX_50000_entries_81_supercells_eqTrue\\efficiency_vs_ele_pt\\efficiency_vs_ele_pt_81_supercells_LinearDiscriminantAnalysis.json\n",
      "Training LinearSVC...\n",
      "Took: 1.0207560062408447 seconds\n",
      "predicting...\n",
      "Took: 0.002990245819091797 seconds\n",
      "Index(['offline_ele_pt', 'EventNumber', 'Label', 'pred'], dtype='object')\n",
      "rate: 98.40070009265932\n",
      "\n",
      "\n",
      "Evaluation of LinearSVC\n",
      "Confusion Matrix:\n",
      " [[8132 1833]\n",
      " [ 396 9639]]\n",
      "Accuracy: 0.88855000\n",
      "Recall: 0.96053812\n",
      "Precision: 0.84021967\n",
      "F1 Score: 0.89635932\n",
      "Classification Report:\n",
      "               precision    recall  f1-score   support\n",
      "\n",
      "         0.0       0.95      0.82      0.88      9965\n",
      "         1.0       0.84      0.96      0.90     10035\n",
      "\n",
      "    accuracy                           0.89     20000\n",
      "   macro avg       0.90      0.89      0.89     20000\n",
      "weighted avg       0.90      0.89      0.89     20000\n",
      "\n",
      "Mean Squared Error: 0.11145000\n",
      "\n",
      "ROC data saved to eFEX_50000_entries_81_supercells_eqTrue\\roc\\roc_81_supercells_LinearSVC.json\n",
      "Precision-Recall data saved to eFEX_50000_entries_81_supercells_eqTrue\\precision_recall\\precision_recall_81_supercells_LinearSVC.json\n"
     ]
    },
    {
     "name": "stderr",
     "output_type": "stream",
     "text": [
      "\n",
      "\n",
      "\u001b[A\u001b[A"
     ]
    },
    {
     "name": "stdout",
     "output_type": "stream",
     "text": [
      "Efficiency vs Electron PT data saved to eFEX_50000_entries_81_supercells_eqTrue\\efficiency_vs_ele_pt\\efficiency_vs_ele_pt_81_supercells_LinearSVC.json\n",
      "Training LogisticRegression...\n"
     ]
    },
    {
     "name": "stderr",
     "output_type": "stream",
     "text": [
      "c:\\Users\\Me\\AppData\\Local\\Programs\\Python\\Python312\\Lib\\site-packages\\sklearn\\linear_model\\_logistic.py:469: ConvergenceWarning: lbfgs failed to converge (status=1):\n",
      "STOP: TOTAL NO. of ITERATIONS REACHED LIMIT.\n",
      "\n",
      "Increase the number of iterations (max_iter) or scale the data as shown in:\n",
      "    https://scikit-learn.org/stable/modules/preprocessing.html\n",
      "Please also refer to the documentation for alternative solver options:\n",
      "    https://scikit-learn.org/stable/modules/linear_model.html#logistic-regression\n",
      "  n_iter_i = _check_optimize_result(\n"
     ]
    },
    {
     "name": "stdout",
     "output_type": "stream",
     "text": [
      "Took: 2.417335033416748 seconds\n",
      "predicting...\n",
      "Took: 0.00398707389831543 seconds\n",
      "Index(['offline_ele_pt', 'EventNumber', 'Label', 'pred'], dtype='object')\n",
      "rate: 95.21821270462267\n",
      "\n",
      "\n",
      "Evaluation of LogisticRegression\n",
      "Confusion Matrix:\n",
      " [[8208 1757]\n",
      " [ 465 9570]]\n",
      "Accuracy: 0.88890000\n",
      "Recall: 0.95366218\n",
      "Precision: 0.84488391\n",
      "F1 Score: 0.89598352\n",
      "Classification Report:\n",
      "               precision    recall  f1-score   support\n",
      "\n",
      "         0.0       0.95      0.82      0.88      9965\n",
      "         1.0       0.84      0.95      0.90     10035\n",
      "\n",
      "    accuracy                           0.89     20000\n",
      "   macro avg       0.90      0.89      0.89     20000\n",
      "weighted avg       0.90      0.89      0.89     20000\n",
      "\n",
      "Mean Squared Error: 0.11110000\n",
      "\n",
      "ROC data saved to eFEX_50000_entries_81_supercells_eqTrue\\roc\\roc_81_supercells_LogisticRegression.json\n",
      "Precision-Recall data saved to eFEX_50000_entries_81_supercells_eqTrue\\precision_recall\\precision_recall_81_supercells_LogisticRegression.json\n"
     ]
    },
    {
     "name": "stderr",
     "output_type": "stream",
     "text": [
      "\n",
      "\n",
      "\u001b[A\u001b[A"
     ]
    },
    {
     "name": "stdout",
     "output_type": "stream",
     "text": [
      "Efficiency vs Electron PT data saved to eFEX_50000_entries_81_supercells_eqTrue\\efficiency_vs_ele_pt\\efficiency_vs_ele_pt_81_supercells_LogisticRegression.json\n",
      "Training LogisticRegressionCV...\n"
     ]
    },
    {
     "name": "stderr",
     "output_type": "stream",
     "text": [
      "c:\\Users\\Me\\AppData\\Local\\Programs\\Python\\Python312\\Lib\\site-packages\\sklearn\\linear_model\\_logistic.py:469: ConvergenceWarning: lbfgs failed to converge (status=1):\n",
      "STOP: TOTAL NO. of ITERATIONS REACHED LIMIT.\n",
      "\n",
      "Increase the number of iterations (max_iter) or scale the data as shown in:\n",
      "    https://scikit-learn.org/stable/modules/preprocessing.html\n",
      "Please also refer to the documentation for alternative solver options:\n",
      "    https://scikit-learn.org/stable/modules/linear_model.html#logistic-regression\n",
      "  n_iter_i = _check_optimize_result(\n",
      "c:\\Users\\Me\\AppData\\Local\\Programs\\Python\\Python312\\Lib\\site-packages\\sklearn\\linear_model\\_logistic.py:469: ConvergenceWarning: lbfgs failed to converge (status=1):\n",
      "STOP: TOTAL NO. of ITERATIONS REACHED LIMIT.\n",
      "\n",
      "Increase the number of iterations (max_iter) or scale the data as shown in:\n",
      "    https://scikit-learn.org/stable/modules/preprocessing.html\n",
      "Please also refer to the documentation for alternative solver options:\n",
      "    https://scikit-learn.org/stable/modules/linear_model.html#logistic-regression\n",
      "  n_iter_i = _check_optimize_result(\n",
      "c:\\Users\\Me\\AppData\\Local\\Programs\\Python\\Python312\\Lib\\site-packages\\sklearn\\linear_model\\_logistic.py:469: ConvergenceWarning: lbfgs failed to converge (status=1):\n",
      "STOP: TOTAL NO. of ITERATIONS REACHED LIMIT.\n",
      "\n",
      "Increase the number of iterations (max_iter) or scale the data as shown in:\n",
      "    https://scikit-learn.org/stable/modules/preprocessing.html\n",
      "Please also refer to the documentation for alternative solver options:\n",
      "    https://scikit-learn.org/stable/modules/linear_model.html#logistic-regression\n",
      "  n_iter_i = _check_optimize_result(\n"
     ]
    },
    {
     "name": "stdout",
     "output_type": "stream",
     "text": [
      "Took: 32.70927906036377 seconds\n",
      "predicting...\n",
      "Took: 0.007973909378051758 seconds\n",
      "Index(['offline_ele_pt', 'EventNumber', 'Label', 'pred'], dtype='object')\n",
      "rate: 94.90147225368064\n",
      "\n",
      "\n",
      "Evaluation of LogisticRegressionCV\n",
      "Confusion Matrix:\n",
      " [[8212 1753]\n",
      " [ 463 9572]]\n",
      "Accuracy: 0.88920000\n",
      "Recall: 0.95386148\n",
      "Precision: 0.84520971\n",
      "F1 Score: 0.89625468\n",
      "Classification Report:\n",
      "               precision    recall  f1-score   support\n",
      "\n",
      "         0.0       0.95      0.82      0.88      9965\n",
      "         1.0       0.85      0.95      0.90     10035\n",
      "\n",
      "    accuracy                           0.89     20000\n",
      "   macro avg       0.90      0.89      0.89     20000\n",
      "weighted avg       0.90      0.89      0.89     20000\n",
      "\n",
      "Mean Squared Error: 0.11080000\n",
      "\n",
      "ROC data saved to eFEX_50000_entries_81_supercells_eqTrue\\roc\\roc_81_supercells_LogisticRegressionCV.json\n",
      "Precision-Recall data saved to eFEX_50000_entries_81_supercells_eqTrue\\precision_recall\\precision_recall_81_supercells_LogisticRegressionCV.json\n"
     ]
    },
    {
     "name": "stderr",
     "output_type": "stream",
     "text": [
      "\n",
      "\n",
      "\u001b[A\u001b[A"
     ]
    },
    {
     "name": "stdout",
     "output_type": "stream",
     "text": [
      "Efficiency vs Electron PT data saved to eFEX_50000_entries_81_supercells_eqTrue\\efficiency_vs_ele_pt\\efficiency_vs_ele_pt_81_supercells_LogisticRegressionCV.json\n",
      "Training MLPClassifier...\n"
     ]
    },
    {
     "name": "stderr",
     "output_type": "stream",
     "text": [
      "c:\\Users\\Me\\AppData\\Local\\Programs\\Python\\Python312\\Lib\\site-packages\\sklearn\\neural_network\\_multilayer_perceptron.py:690: ConvergenceWarning: Stochastic Optimizer: Maximum iterations (200) reached and the optimization hasn't converged yet.\n",
      "  warnings.warn(\n"
     ]
    },
    {
     "name": "stdout",
     "output_type": "stream",
     "text": [
      "Took: 77.9771728515625 seconds\n",
      "predicting...\n",
      "Took: 0.02292633056640625 seconds\n",
      "Index(['offline_ele_pt', 'EventNumber', 'Label', 'pred'], dtype='object')\n",
      "rate: 59.57737053433543\n",
      "\n",
      "\n",
      "Evaluation of MLPClassifier\n",
      "Confusion Matrix:\n",
      " [[8859 1106]\n",
      " [ 514 9521]]\n",
      "Accuracy: 0.91900000\n",
      "Recall: 0.94877927\n",
      "Precision: 0.89592547\n",
      "F1 Score: 0.92159520\n",
      "Classification Report:\n",
      "               precision    recall  f1-score   support\n",
      "\n",
      "         0.0       0.95      0.89      0.92      9965\n",
      "         1.0       0.90      0.95      0.92     10035\n",
      "\n",
      "    accuracy                           0.92     20000\n",
      "   macro avg       0.92      0.92      0.92     20000\n",
      "weighted avg       0.92      0.92      0.92     20000\n",
      "\n",
      "Mean Squared Error: 0.08100000\n",
      "\n",
      "ROC data saved to eFEX_50000_entries_81_supercells_eqTrue\\roc\\roc_81_supercells_MLPClassifier.json\n"
     ]
    },
    {
     "name": "stderr",
     "output_type": "stream",
     "text": [
      "\n",
      "\n",
      "\u001b[A\u001b[A"
     ]
    },
    {
     "name": "stdout",
     "output_type": "stream",
     "text": [
      "Precision-Recall data saved to eFEX_50000_entries_81_supercells_eqTrue\\precision_recall\\precision_recall_81_supercells_MLPClassifier.json\n",
      "Efficiency vs Electron PT data saved to eFEX_50000_entries_81_supercells_eqTrue\\efficiency_vs_ele_pt\\efficiency_vs_ele_pt_81_supercells_MLPClassifier.json\n",
      "Training MultiOutputClassifier...\n",
      "Could not train or predict with MultiOutputClassifier: y must have at least two dimensions for multi-output regression but has only one.\n",
      "Training MultinomialNB...\n",
      "Took: 0.033889055252075195 seconds\n",
      "predicting...\n",
      "Took: 0.005980968475341797 seconds\n",
      "Index(['offline_ele_pt', 'EventNumber', 'Label', 'pred'], dtype='object')\n",
      "rate: 101.86976217440544\n",
      "\n",
      "\n",
      "Evaluation of MultinomialNB\n",
      "Confusion Matrix:\n",
      " [[7638 2327]\n",
      " [2182 7853]]\n",
      "Accuracy: 0.77455000\n",
      "Recall: 0.78256104\n",
      "Precision: 0.77141454\n",
      "F1 Score: 0.77694781\n",
      "Classification Report:\n",
      "               precision    recall  f1-score   support\n",
      "\n",
      "         0.0       0.78      0.77      0.77      9965\n",
      "         1.0       0.77      0.78      0.78     10035\n",
      "\n",
      "    accuracy                           0.77     20000\n",
      "   macro avg       0.77      0.77      0.77     20000\n",
      "weighted avg       0.77      0.77      0.77     20000\n",
      "\n",
      "Mean Squared Error: 0.22545000\n",
      "\n",
      "ROC data saved to eFEX_50000_entries_81_supercells_eqTrue\\roc\\roc_81_supercells_MultinomialNB.json\n",
      "Precision-Recall data saved to eFEX_50000_entries_81_supercells_eqTrue\\precision_recall\\precision_recall_81_supercells_MultinomialNB.json\n"
     ]
    },
    {
     "name": "stderr",
     "output_type": "stream",
     "text": [
      "\n",
      "\n",
      "\u001b[A\u001b[A"
     ]
    },
    {
     "name": "stdout",
     "output_type": "stream",
     "text": [
      "Efficiency vs Electron PT data saved to eFEX_50000_entries_81_supercells_eqTrue\\efficiency_vs_ele_pt\\efficiency_vs_ele_pt_81_supercells_MultinomialNB.json\n",
      "Training NearestCentroid...\n",
      "Took: 0.0637974739074707 seconds\n",
      "predicting...\n",
      "Took: 0.02492237091064453 seconds\n",
      "Index(['offline_ele_pt', 'EventNumber', 'Label', 'pred'], dtype='object')\n"
     ]
    },
    {
     "name": "stderr",
     "output_type": "stream",
     "text": [
      "\n",
      "\n",
      "\u001b[A\u001b[A"
     ]
    },
    {
     "name": "stdout",
     "output_type": "stream",
     "text": [
      "rate: 190.37609389478018\n",
      "\n",
      "\n",
      "Evaluation of NearestCentroid\n",
      "Confusion Matrix:\n",
      " [[5356 4609]\n",
      " [1291 8744]]\n",
      "Accuracy: 0.70500000\n",
      "Recall: 0.87135027\n",
      "Precision: 0.65483412\n",
      "F1 Score: 0.74773388\n",
      "Classification Report:\n",
      "               precision    recall  f1-score   support\n",
      "\n",
      "         0.0       0.81      0.54      0.64      9965\n",
      "         1.0       0.65      0.87      0.75     10035\n",
      "\n",
      "    accuracy                           0.70     20000\n",
      "   macro avg       0.73      0.70      0.70     20000\n",
      "weighted avg       0.73      0.70      0.70     20000\n",
      "\n",
      "Mean Squared Error: 0.29500000\n",
      "\n",
      "Failed ROC computation for NearestCentroid: Model must have either a decision_function or predict_proba method.\n",
      "Failed Precision-Recall computation for NearestCentroid: Model must have either a decision_function or predict_proba method.\n",
      "Efficiency vs Electron PT data saved to eFEX_50000_entries_81_supercells_eqTrue\\efficiency_vs_ele_pt\\efficiency_vs_ele_pt_81_supercells_NearestCentroid.json\n",
      "Training NuSVC...\n",
      "Took: 851.759480714798 seconds\n",
      "predicting...\n",
      "Took: 81.98606467247009 seconds\n",
      "Index(['offline_ele_pt', 'EventNumber', 'Label', 'pred'], dtype='object')\n",
      "rate: 133.1818181818182\n",
      "\n",
      "\n",
      "Evaluation of NuSVC\n",
      "Confusion Matrix:\n",
      " [[7338 2627]\n",
      " [ 362 9673]]\n",
      "Accuracy: 0.85055000\n",
      "Recall: 0.96392626\n",
      "Precision: 0.78642276\n",
      "F1 Score: 0.86617417\n",
      "Classification Report:\n",
      "               precision    recall  f1-score   support\n",
      "\n",
      "         0.0       0.95      0.74      0.83      9965\n",
      "         1.0       0.79      0.96      0.87     10035\n",
      "\n",
      "    accuracy                           0.85     20000\n",
      "   macro avg       0.87      0.85      0.85     20000\n",
      "weighted avg       0.87      0.85      0.85     20000\n",
      "\n",
      "Mean Squared Error: 0.14945000\n",
      "\n",
      "ROC data saved to eFEX_50000_entries_81_supercells_eqTrue\\roc\\roc_81_supercells_NuSVC.json\n"
     ]
    },
    {
     "name": "stderr",
     "output_type": "stream",
     "text": [
      "\n",
      "\n",
      "\u001b[A\u001b[A"
     ]
    },
    {
     "name": "stdout",
     "output_type": "stream",
     "text": [
      "Precision-Recall data saved to eFEX_50000_entries_81_supercells_eqTrue\\precision_recall\\precision_recall_81_supercells_NuSVC.json\n",
      "Efficiency vs Electron PT data saved to eFEX_50000_entries_81_supercells_eqTrue\\efficiency_vs_ele_pt\\efficiency_vs_ele_pt_81_supercells_NuSVC.json\n",
      "Training OneVsOneClassifier...\n"
     ]
    },
    {
     "name": "stderr",
     "output_type": "stream",
     "text": [
      "c:\\Users\\Me\\AppData\\Local\\Programs\\Python\\Python312\\Lib\\site-packages\\sklearn\\linear_model\\_logistic.py:469: ConvergenceWarning: lbfgs failed to converge (status=1):\n",
      "STOP: TOTAL NO. of ITERATIONS REACHED LIMIT.\n",
      "\n",
      "Increase the number of iterations (max_iter) or scale the data as shown in:\n",
      "    https://scikit-learn.org/stable/modules/preprocessing.html\n",
      "Please also refer to the documentation for alternative solver options:\n",
      "    https://scikit-learn.org/stable/modules/linear_model.html#logistic-regression\n",
      "  n_iter_i = _check_optimize_result(\n"
     ]
    },
    {
     "name": "stdout",
     "output_type": "stream",
     "text": [
      "Took: 1.2609405517578125 seconds\n",
      "predicting...\n",
      "Took: 0.0059773921966552734 seconds\n",
      "Index(['offline_ele_pt', 'EventNumber', 'Label', 'pred'], dtype='object')\n"
     ]
    },
    {
     "name": "stderr",
     "output_type": "stream",
     "text": [
      "\n",
      "\n",
      "\u001b[A\u001b[A"
     ]
    },
    {
     "name": "stdout",
     "output_type": "stream",
     "text": [
      "rate: 95.21821270462267\n",
      "\n",
      "\n",
      "Evaluation of OneVsOneClassifier\n",
      "Confusion Matrix:\n",
      " [[8208 1757]\n",
      " [ 465 9570]]\n",
      "Accuracy: 0.88890000\n",
      "Recall: 0.95366218\n",
      "Precision: 0.84488391\n",
      "F1 Score: 0.89598352\n",
      "Classification Report:\n",
      "               precision    recall  f1-score   support\n",
      "\n",
      "         0.0       0.95      0.82      0.88      9965\n",
      "         1.0       0.84      0.95      0.90     10035\n",
      "\n",
      "    accuracy                           0.89     20000\n",
      "   macro avg       0.90      0.89      0.89     20000\n",
      "weighted avg       0.90      0.89      0.89     20000\n",
      "\n",
      "Mean Squared Error: 0.11110000\n",
      "\n",
      "ROC data saved to eFEX_50000_entries_81_supercells_eqTrue\\roc\\roc_81_supercells_OneVsOneClassifier.json\n",
      "Precision-Recall data saved to eFEX_50000_entries_81_supercells_eqTrue\\precision_recall\\precision_recall_81_supercells_OneVsOneClassifier.json\n",
      "Efficiency vs Electron PT data saved to eFEX_50000_entries_81_supercells_eqTrue\\efficiency_vs_ele_pt\\efficiency_vs_ele_pt_81_supercells_OneVsOneClassifier.json\n",
      "Training OneVsRestClassifier...\n"
     ]
    },
    {
     "name": "stderr",
     "output_type": "stream",
     "text": [
      "c:\\Users\\Me\\AppData\\Local\\Programs\\Python\\Python312\\Lib\\site-packages\\sklearn\\linear_model\\_logistic.py:469: ConvergenceWarning: lbfgs failed to converge (status=1):\n",
      "STOP: TOTAL NO. of ITERATIONS REACHED LIMIT.\n",
      "\n",
      "Increase the number of iterations (max_iter) or scale the data as shown in:\n",
      "    https://scikit-learn.org/stable/modules/preprocessing.html\n",
      "Please also refer to the documentation for alternative solver options:\n",
      "    https://scikit-learn.org/stable/modules/linear_model.html#logistic-regression\n",
      "  n_iter_i = _check_optimize_result(\n"
     ]
    },
    {
     "name": "stdout",
     "output_type": "stream",
     "text": [
      "Took: 1.260892391204834 seconds\n",
      "predicting...\n",
      "Took: 0.0029883384704589844 seconds\n",
      "Index(['offline_ele_pt', 'EventNumber', 'Label', 'pred'], dtype='object')\n"
     ]
    },
    {
     "name": "stderr",
     "output_type": "stream",
     "text": [
      "\n",
      "\n",
      "\u001b[A\u001b[A"
     ]
    },
    {
     "name": "stdout",
     "output_type": "stream",
     "text": [
      "rate: 95.21821270462267\n",
      "\n",
      "\n",
      "Evaluation of OneVsRestClassifier\n",
      "Confusion Matrix:\n",
      " [[8208 1757]\n",
      " [ 465 9570]]\n",
      "Accuracy: 0.88890000\n",
      "Recall: 0.95366218\n",
      "Precision: 0.84488391\n",
      "F1 Score: 0.89598352\n",
      "Classification Report:\n",
      "               precision    recall  f1-score   support\n",
      "\n",
      "         0.0       0.95      0.82      0.88      9965\n",
      "         1.0       0.84      0.95      0.90     10035\n",
      "\n",
      "    accuracy                           0.89     20000\n",
      "   macro avg       0.90      0.89      0.89     20000\n",
      "weighted avg       0.90      0.89      0.89     20000\n",
      "\n",
      "Mean Squared Error: 0.11110000\n",
      "\n",
      "ROC data saved to eFEX_50000_entries_81_supercells_eqTrue\\roc\\roc_81_supercells_OneVsRestClassifier.json\n",
      "Precision-Recall data saved to eFEX_50000_entries_81_supercells_eqTrue\\precision_recall\\precision_recall_81_supercells_OneVsRestClassifier.json\n",
      "Efficiency vs Electron PT data saved to eFEX_50000_entries_81_supercells_eqTrue\\efficiency_vs_ele_pt\\efficiency_vs_ele_pt_81_supercells_OneVsRestClassifier.json\n",
      "Training OutputCodeClassifier...\n"
     ]
    },
    {
     "name": "stderr",
     "output_type": "stream",
     "text": [
      "c:\\Users\\Me\\AppData\\Local\\Programs\\Python\\Python312\\Lib\\site-packages\\sklearn\\linear_model\\_logistic.py:469: ConvergenceWarning: lbfgs failed to converge (status=1):\n",
      "STOP: TOTAL NO. of ITERATIONS REACHED LIMIT.\n",
      "\n",
      "Increase the number of iterations (max_iter) or scale the data as shown in:\n",
      "    https://scikit-learn.org/stable/modules/preprocessing.html\n",
      "Please also refer to the documentation for alternative solver options:\n",
      "    https://scikit-learn.org/stable/modules/linear_model.html#logistic-regression\n",
      "  n_iter_i = _check_optimize_result(\n"
     ]
    },
    {
     "name": "stdout",
     "output_type": "stream",
     "text": [
      "Took: 1.4006052017211914 seconds\n",
      "predicting...\n",
      "Took: 0.005979299545288086 seconds\n",
      "Index(['offline_ele_pt', 'EventNumber', 'Label', 'pred'], dtype='object')\n"
     ]
    },
    {
     "name": "stderr",
     "output_type": "stream",
     "text": [
      "\n",
      "\n",
      "\u001b[A\u001b[A"
     ]
    },
    {
     "name": "stdout",
     "output_type": "stream",
     "text": [
      "rate: 95.23329558323896\n",
      "\n",
      "\n",
      "Evaluation of OutputCodeClassifier\n",
      "Confusion Matrix:\n",
      " [[8208 1757]\n",
      " [ 463 9572]]\n",
      "Accuracy: 0.88900000\n",
      "Recall: 0.95386148\n",
      "Precision: 0.84491129\n",
      "F1 Score: 0.89608688\n",
      "Classification Report:\n",
      "               precision    recall  f1-score   support\n",
      "\n",
      "         0.0       0.95      0.82      0.88      9965\n",
      "         1.0       0.84      0.95      0.90     10035\n",
      "\n",
      "    accuracy                           0.89     20000\n",
      "   macro avg       0.90      0.89      0.89     20000\n",
      "weighted avg       0.90      0.89      0.89     20000\n",
      "\n",
      "Mean Squared Error: 0.11100000\n",
      "\n",
      "Failed ROC computation for OutputCodeClassifier: Model must have either a decision_function or predict_proba method.\n",
      "Failed Precision-Recall computation for OutputCodeClassifier: Model must have either a decision_function or predict_proba method.\n",
      "Efficiency vs Electron PT data saved to eFEX_50000_entries_81_supercells_eqTrue\\efficiency_vs_ele_pt\\efficiency_vs_ele_pt_81_supercells_OutputCodeClassifier.json\n",
      "Training PassiveAggressiveClassifier...\n",
      "Took: 0.20134949684143066 seconds\n",
      "predicting...\n",
      "Took: 0.0029876232147216797 seconds\n",
      "Index(['offline_ele_pt', 'EventNumber', 'Label', 'pred'], dtype='object')\n"
     ]
    },
    {
     "name": "stderr",
     "output_type": "stream",
     "text": [
      "\n",
      "\n",
      "\u001b[A\u001b[A"
     ]
    },
    {
     "name": "stdout",
     "output_type": "stream",
     "text": [
      "rate: 91.85473077319057\n",
      "\n",
      "\n",
      "Evaluation of PassiveAggressiveClassifier\n",
      "Confusion Matrix:\n",
      " [[8152 1813]\n",
      " [1507 8528]]\n",
      "Accuracy: 0.83400000\n",
      "Recall: 0.84982561\n",
      "Precision: 0.82467846\n",
      "F1 Score: 0.83706321\n",
      "Classification Report:\n",
      "               precision    recall  f1-score   support\n",
      "\n",
      "         0.0       0.84      0.82      0.83      9965\n",
      "         1.0       0.82      0.85      0.84     10035\n",
      "\n",
      "    accuracy                           0.83     20000\n",
      "   macro avg       0.83      0.83      0.83     20000\n",
      "weighted avg       0.83      0.83      0.83     20000\n",
      "\n",
      "Mean Squared Error: 0.16600000\n",
      "\n",
      "ROC data saved to eFEX_50000_entries_81_supercells_eqTrue\\roc\\roc_81_supercells_PassiveAggressiveClassifier.json\n",
      "Precision-Recall data saved to eFEX_50000_entries_81_supercells_eqTrue\\precision_recall\\precision_recall_81_supercells_PassiveAggressiveClassifier.json\n",
      "Efficiency vs Electron PT data saved to eFEX_50000_entries_81_supercells_eqTrue\\efficiency_vs_ele_pt\\efficiency_vs_ele_pt_81_supercells_PassiveAggressiveClassifier.json\n",
      "Training Perceptron...\n",
      "Took: 0.15151429176330566 seconds\n",
      "predicting...\n",
      "Took: 0.0034508705139160156 seconds\n",
      "Index(['offline_ele_pt', 'EventNumber', 'Label', 'pred'], dtype='object')\n"
     ]
    },
    {
     "name": "stderr",
     "output_type": "stream",
     "text": [
      "\n",
      "\n",
      "\u001b[A\u001b[A"
     ]
    },
    {
     "name": "stdout",
     "output_type": "stream",
     "text": [
      "rate: 92.74462061155153\n",
      "\n",
      "\n",
      "Evaluation of Perceptron\n",
      "Confusion Matrix:\n",
      " [[8146 1819]\n",
      " [ 739 9296]]\n",
      "Accuracy: 0.87210000\n",
      "Recall: 0.92635775\n",
      "Precision: 0.83634728\n",
      "F1 Score: 0.87905437\n",
      "Classification Report:\n",
      "               precision    recall  f1-score   support\n",
      "\n",
      "         0.0       0.92      0.82      0.86      9965\n",
      "         1.0       0.84      0.93      0.88     10035\n",
      "\n",
      "    accuracy                           0.87     20000\n",
      "   macro avg       0.88      0.87      0.87     20000\n",
      "weighted avg       0.88      0.87      0.87     20000\n",
      "\n",
      "Mean Squared Error: 0.12790000\n",
      "\n",
      "ROC data saved to eFEX_50000_entries_81_supercells_eqTrue\\roc\\roc_81_supercells_Perceptron.json\n",
      "Precision-Recall data saved to eFEX_50000_entries_81_supercells_eqTrue\\precision_recall\\precision_recall_81_supercells_Perceptron.json\n",
      "Efficiency vs Electron PT data saved to eFEX_50000_entries_81_supercells_eqTrue\\efficiency_vs_ele_pt\\efficiency_vs_ele_pt_81_supercells_Perceptron.json\n",
      "Training QuadraticDiscriminantAnalysis...\n",
      "Took: 0.2774960994720459 seconds\n",
      "predicting...\n",
      "Took: 0.03293967247009277 seconds\n",
      "Index(['offline_ele_pt', 'EventNumber', 'Label', 'pred'], dtype='object')\n",
      "rate: 104.01153093791825\n",
      "\n",
      "\n",
      "Evaluation of QuadraticDiscriminantAnalysis\n",
      "Confusion Matrix:\n",
      " [[7929 2036]\n",
      " [ 488 9547]]\n",
      "Accuracy: 0.87380000\n",
      "Recall: 0.95137020\n",
      "Precision: 0.82422516\n",
      "F1 Score: 0.88324544\n",
      "Classification Report:\n",
      "               precision    recall  f1-score   support\n",
      "\n",
      "         0.0       0.94      0.80      0.86      9965\n",
      "         1.0       0.82      0.95      0.88     10035\n",
      "\n",
      "    accuracy                           0.87     20000\n",
      "   macro avg       0.88      0.87      0.87     20000\n",
      "weighted avg       0.88      0.87      0.87     20000\n",
      "\n",
      "Mean Squared Error: 0.12620000\n",
      "\n",
      "ROC data saved to eFEX_50000_entries_81_supercells_eqTrue\\roc\\roc_81_supercells_QuadraticDiscriminantAnalysis.json\n",
      "Precision-Recall data saved to eFEX_50000_entries_81_supercells_eqTrue\\precision_recall\\precision_recall_81_supercells_QuadraticDiscriminantAnalysis.json\n",
      "Efficiency vs Electron PT data saved to eFEX_50000_entries_81_supercells_eqTrue\\efficiency_vs_ele_pt\\efficiency_vs_ele_pt_81_supercells_QuadraticDiscriminantAnalysis.json\n"
     ]
    },
    {
     "name": "stderr",
     "output_type": "stream",
     "text": [
      "\n",
      "\n",
      "\u001b[A\u001b[A"
     ]
    },
    {
     "name": "stdout",
     "output_type": "stream",
     "text": [
      "Training RadiusNeighborsClassifier...\n",
      "Took: 0.00797414779663086 seconds\n",
      "predicting...\n"
     ]
    },
    {
     "name": "stderr",
     "output_type": "stream",
     "text": [
      "\n",
      "\n",
      "\u001b[A\u001b[A"
     ]
    },
    {
     "name": "stdout",
     "output_type": "stream",
     "text": [
      "Could not train or predict with RadiusNeighborsClassifier: No neighbors found for test samples array([    0,     1,     4, ..., 19994, 19998, 19999]), you can try using larger radius, giving a label for outliers, or considering removing them from your dataset.\n",
      "Training RandomForestClassifier...\n",
      "Took: 16.254376649856567 seconds\n",
      "predicting...\n",
      "Took: 0.3927316665649414 seconds\n",
      "Index(['offline_ele_pt', 'EventNumber', 'Label', 'pred'], dtype='object')\n",
      "rate: 62.68444352929064\n",
      "\n",
      "\n",
      "Evaluation of RandomForestClassifier\n",
      "Confusion Matrix:\n",
      " [[8803 1162]\n",
      " [ 435 9600]]\n",
      "Accuracy: 0.92015000\n",
      "Recall: 0.95665172\n",
      "Precision: 0.89202750\n",
      "F1 Score: 0.92321008\n",
      "Classification Report:\n",
      "               precision    recall  f1-score   support\n",
      "\n",
      "         0.0       0.95      0.88      0.92      9965\n",
      "         1.0       0.89      0.96      0.92     10035\n",
      "\n",
      "    accuracy                           0.92     20000\n",
      "   macro avg       0.92      0.92      0.92     20000\n",
      "weighted avg       0.92      0.92      0.92     20000\n",
      "\n",
      "Mean Squared Error: 0.07985000\n",
      "\n",
      "ROC data saved to eFEX_50000_entries_81_supercells_eqTrue\\roc\\roc_81_supercells_RandomForestClassifier.json\n"
     ]
    },
    {
     "name": "stderr",
     "output_type": "stream",
     "text": [
      "\n",
      "\n",
      "\u001b[A\u001b[A"
     ]
    },
    {
     "name": "stdout",
     "output_type": "stream",
     "text": [
      "Precision-Recall data saved to eFEX_50000_entries_81_supercells_eqTrue\\precision_recall\\precision_recall_81_supercells_RandomForestClassifier.json\n",
      "Efficiency vs Electron PT data saved to eFEX_50000_entries_81_supercells_eqTrue\\efficiency_vs_ele_pt\\efficiency_vs_ele_pt_81_supercells_RandomForestClassifier.json\n",
      "Training RidgeClassifier...\n",
      "Took: 0.13357329368591309 seconds\n",
      "predicting...\n",
      "Took: 0.0039975643157958984 seconds\n",
      "Index(['offline_ele_pt', 'EventNumber', 'Label', 'pred'], dtype='object')\n"
     ]
    },
    {
     "name": "stderr",
     "output_type": "stream",
     "text": [
      "\n",
      "\n",
      "\u001b[A\u001b[A"
     ]
    },
    {
     "name": "stdout",
     "output_type": "stream",
     "text": [
      "rate: 149.90873056728094\n",
      "\n",
      "\n",
      "Evaluation of RidgeClassifier\n",
      "Confusion Matrix:\n",
      " [[6750 3215]\n",
      " [ 591 9444]]\n",
      "Accuracy: 0.80970000\n",
      "Recall: 0.94110613\n",
      "Precision: 0.74603049\n",
      "F1 Score: 0.83229047\n",
      "Classification Report:\n",
      "               precision    recall  f1-score   support\n",
      "\n",
      "         0.0       0.92      0.68      0.78      9965\n",
      "         1.0       0.75      0.94      0.83     10035\n",
      "\n",
      "    accuracy                           0.81     20000\n",
      "   macro avg       0.83      0.81      0.81     20000\n",
      "weighted avg       0.83      0.81      0.81     20000\n",
      "\n",
      "Mean Squared Error: 0.19030000\n",
      "\n",
      "ROC data saved to eFEX_50000_entries_81_supercells_eqTrue\\roc\\roc_81_supercells_RidgeClassifier.json\n",
      "Precision-Recall data saved to eFEX_50000_entries_81_supercells_eqTrue\\precision_recall\\precision_recall_81_supercells_RidgeClassifier.json\n",
      "Efficiency vs Electron PT data saved to eFEX_50000_entries_81_supercells_eqTrue\\efficiency_vs_ele_pt\\efficiency_vs_ele_pt_81_supercells_RidgeClassifier.json\n",
      "Training RidgeClassifierCV...\n",
      "Took: 0.7917306423187256 seconds\n",
      "predicting...\n",
      "Took: 0.0029625892639160156 seconds\n",
      "Index(['offline_ele_pt', 'EventNumber', 'Label', 'pred'], dtype='object')\n"
     ]
    },
    {
     "name": "stderr",
     "output_type": "stream",
     "text": [
      "\n",
      "\n",
      "\u001b[A\u001b[A"
     ]
    },
    {
     "name": "stdout",
     "output_type": "stream",
     "text": [
      "rate: 149.89364768866466\n",
      "\n",
      "\n",
      "Evaluation of RidgeClassifierCV\n",
      "Confusion Matrix:\n",
      " [[6751 3214]\n",
      " [ 591 9444]]\n",
      "Accuracy: 0.80975000\n",
      "Recall: 0.94110613\n",
      "Precision: 0.74608943\n",
      "F1 Score: 0.83232715\n",
      "Classification Report:\n",
      "               precision    recall  f1-score   support\n",
      "\n",
      "         0.0       0.92      0.68      0.78      9965\n",
      "         1.0       0.75      0.94      0.83     10035\n",
      "\n",
      "    accuracy                           0.81     20000\n",
      "   macro avg       0.83      0.81      0.81     20000\n",
      "weighted avg       0.83      0.81      0.81     20000\n",
      "\n",
      "Mean Squared Error: 0.19025000\n",
      "\n",
      "ROC data saved to eFEX_50000_entries_81_supercells_eqTrue\\roc\\roc_81_supercells_RidgeClassifierCV.json\n",
      "Precision-Recall data saved to eFEX_50000_entries_81_supercells_eqTrue\\precision_recall\\precision_recall_81_supercells_RidgeClassifierCV.json\n",
      "Efficiency vs Electron PT data saved to eFEX_50000_entries_81_supercells_eqTrue\\efficiency_vs_ele_pt\\efficiency_vs_ele_pt_81_supercells_RidgeClassifierCV.json\n",
      "Training SGDClassifier...\n",
      "Took: 1.0177273750305176 seconds\n",
      "predicting...\n",
      "Took: 0.003353118896484375 seconds\n",
      "Index(['offline_ele_pt', 'EventNumber', 'Label', 'pred'], dtype='object')\n"
     ]
    },
    {
     "name": "stderr",
     "output_type": "stream",
     "text": [
      "\n",
      "\n",
      "\u001b[A\u001b[A"
     ]
    },
    {
     "name": "stdout",
     "output_type": "stream",
     "text": [
      "rate: 96.57567178008854\n",
      "\n",
      "\n",
      "Evaluation of SGDClassifier\n",
      "Confusion Matrix:\n",
      " [[8169 1796]\n",
      " [ 447 9588]]\n",
      "Accuracy: 0.88785000\n",
      "Recall: 0.95545590\n",
      "Precision: 0.84223472\n",
      "F1 Score: 0.89527989\n",
      "Classification Report:\n",
      "               precision    recall  f1-score   support\n",
      "\n",
      "         0.0       0.95      0.82      0.88      9965\n",
      "         1.0       0.84      0.96      0.90     10035\n",
      "\n",
      "    accuracy                           0.89     20000\n",
      "   macro avg       0.90      0.89      0.89     20000\n",
      "weighted avg       0.89      0.89      0.89     20000\n",
      "\n",
      "Mean Squared Error: 0.11215000\n",
      "\n",
      "ROC data saved to eFEX_50000_entries_81_supercells_eqTrue\\roc\\roc_81_supercells_SGDClassifier.json\n",
      "Precision-Recall data saved to eFEX_50000_entries_81_supercells_eqTrue\\precision_recall\\precision_recall_81_supercells_SGDClassifier.json\n",
      "Efficiency vs Electron PT data saved to eFEX_50000_entries_81_supercells_eqTrue\\efficiency_vs_ele_pt\\efficiency_vs_ele_pt_81_supercells_SGDClassifier.json\n",
      "Training SVC...\n",
      "Took: 233.05984830856323 seconds\n",
      "predicting...\n",
      "Took: 46.12911581993103 seconds\n",
      "Index(['offline_ele_pt', 'EventNumber', 'Label', 'pred'], dtype='object')\n",
      "rate: 87.9633480901884\n",
      "\n",
      "\n",
      "Evaluation of SVC\n",
      "Confusion Matrix:\n",
      " [[8338 1627]\n",
      " [ 163 9872]]\n",
      "Accuracy: 0.91050000\n",
      "Recall: 0.98375685\n",
      "Precision: 0.85850944\n",
      "F1 Score: 0.91687564\n",
      "Classification Report:\n",
      "               precision    recall  f1-score   support\n",
      "\n",
      "         0.0       0.98      0.84      0.90      9965\n",
      "         1.0       0.86      0.98      0.92     10035\n",
      "\n",
      "    accuracy                           0.91     20000\n",
      "   macro avg       0.92      0.91      0.91     20000\n",
      "weighted avg       0.92      0.91      0.91     20000\n",
      "\n",
      "Mean Squared Error: 0.08950000\n",
      "\n",
      "ROC data saved to eFEX_50000_entries_81_supercells_eqTrue\\roc\\roc_81_supercells_SVC.json\n"
     ]
    },
    {
     "name": "stderr",
     "output_type": "stream",
     "text": [
      "\n",
      "\n",
      "\u001b[A\u001b[A"
     ]
    },
    {
     "name": "stdout",
     "output_type": "stream",
     "text": [
      "Precision-Recall data saved to eFEX_50000_entries_81_supercells_eqTrue\\precision_recall\\precision_recall_81_supercells_SVC.json\n",
      "Efficiency vs Electron PT data saved to eFEX_50000_entries_81_supercells_eqTrue\\efficiency_vs_ele_pt\\efficiency_vs_ele_pt_81_supercells_SVC.json\n",
      "Training TunedThresholdClassifierCV...\n"
     ]
    },
    {
     "name": "stderr",
     "output_type": "stream",
     "text": [
      "c:\\Users\\Me\\AppData\\Local\\Programs\\Python\\Python312\\Lib\\site-packages\\sklearn\\linear_model\\_logistic.py:469: ConvergenceWarning: lbfgs failed to converge (status=1):\n",
      "STOP: TOTAL NO. of ITERATIONS REACHED LIMIT.\n",
      "\n",
      "Increase the number of iterations (max_iter) or scale the data as shown in:\n",
      "    https://scikit-learn.org/stable/modules/preprocessing.html\n",
      "Please also refer to the documentation for alternative solver options:\n",
      "    https://scikit-learn.org/stable/modules/linear_model.html#logistic-regression\n",
      "  n_iter_i = _check_optimize_result(\n",
      "c:\\Users\\Me\\AppData\\Local\\Programs\\Python\\Python312\\Lib\\site-packages\\sklearn\\linear_model\\_logistic.py:469: ConvergenceWarning: lbfgs failed to converge (status=1):\n",
      "STOP: TOTAL NO. of ITERATIONS REACHED LIMIT.\n",
      "\n",
      "Increase the number of iterations (max_iter) or scale the data as shown in:\n",
      "    https://scikit-learn.org/stable/modules/preprocessing.html\n",
      "Please also refer to the documentation for alternative solver options:\n",
      "    https://scikit-learn.org/stable/modules/linear_model.html#logistic-regression\n",
      "  n_iter_i = _check_optimize_result(\n",
      "c:\\Users\\Me\\AppData\\Local\\Programs\\Python\\Python312\\Lib\\site-packages\\sklearn\\linear_model\\_logistic.py:469: ConvergenceWarning: lbfgs failed to converge (status=1):\n",
      "STOP: TOTAL NO. of ITERATIONS REACHED LIMIT.\n",
      "\n",
      "Increase the number of iterations (max_iter) or scale the data as shown in:\n",
      "    https://scikit-learn.org/stable/modules/preprocessing.html\n",
      "Please also refer to the documentation for alternative solver options:\n",
      "    https://scikit-learn.org/stable/modules/linear_model.html#logistic-regression\n",
      "  n_iter_i = _check_optimize_result(\n",
      "c:\\Users\\Me\\AppData\\Local\\Programs\\Python\\Python312\\Lib\\site-packages\\sklearn\\linear_model\\_logistic.py:469: ConvergenceWarning: lbfgs failed to converge (status=1):\n",
      "STOP: TOTAL NO. of ITERATIONS REACHED LIMIT.\n",
      "\n",
      "Increase the number of iterations (max_iter) or scale the data as shown in:\n",
      "    https://scikit-learn.org/stable/modules/preprocessing.html\n",
      "Please also refer to the documentation for alternative solver options:\n",
      "    https://scikit-learn.org/stable/modules/linear_model.html#logistic-regression\n",
      "  n_iter_i = _check_optimize_result(\n",
      "c:\\Users\\Me\\AppData\\Local\\Programs\\Python\\Python312\\Lib\\site-packages\\sklearn\\linear_model\\_logistic.py:469: ConvergenceWarning: lbfgs failed to converge (status=1):\n",
      "STOP: TOTAL NO. of ITERATIONS REACHED LIMIT.\n",
      "\n",
      "Increase the number of iterations (max_iter) or scale the data as shown in:\n",
      "    https://scikit-learn.org/stable/modules/preprocessing.html\n",
      "Please also refer to the documentation for alternative solver options:\n",
      "    https://scikit-learn.org/stable/modules/linear_model.html#logistic-regression\n",
      "  n_iter_i = _check_optimize_result(\n",
      "c:\\Users\\Me\\AppData\\Local\\Programs\\Python\\Python312\\Lib\\site-packages\\sklearn\\linear_model\\_logistic.py:469: ConvergenceWarning: lbfgs failed to converge (status=1):\n",
      "STOP: TOTAL NO. of ITERATIONS REACHED LIMIT.\n",
      "\n",
      "Increase the number of iterations (max_iter) or scale the data as shown in:\n",
      "    https://scikit-learn.org/stable/modules/preprocessing.html\n",
      "Please also refer to the documentation for alternative solver options:\n",
      "    https://scikit-learn.org/stable/modules/linear_model.html#logistic-regression\n",
      "  n_iter_i = _check_optimize_result(\n"
     ]
    },
    {
     "name": "stdout",
     "output_type": "stream",
     "text": [
      "Took: 9.097687005996704 seconds\n",
      "predicting...\n",
      "Took: 0.003941059112548828 seconds\n",
      "Index(['offline_ele_pt', 'EventNumber', 'Label', 'pred'], dtype='object')\n"
     ]
    },
    {
     "name": "stderr",
     "output_type": "stream",
     "text": [
      "\n",
      "\n",
      "\u001b[A\u001b[A"
     ]
    },
    {
     "name": "stdout",
     "output_type": "stream",
     "text": [
      "rate: 97.04324101719345\n",
      "\n",
      "\n",
      "Evaluation of TunedThresholdClassifierCV\n",
      "Confusion Matrix:\n",
      " [[8170 1795]\n",
      " [ 428 9607]]\n",
      "Accuracy: 0.88885000\n",
      "Recall: 0.95734928\n",
      "Precision: 0.84257148\n",
      "F1 Score: 0.89630079\n",
      "Classification Report:\n",
      "               precision    recall  f1-score   support\n",
      "\n",
      "         0.0       0.95      0.82      0.88      9965\n",
      "         1.0       0.84      0.96      0.90     10035\n",
      "\n",
      "    accuracy                           0.89     20000\n",
      "   macro avg       0.90      0.89      0.89     20000\n",
      "weighted avg       0.90      0.89      0.89     20000\n",
      "\n",
      "Mean Squared Error: 0.11115000\n",
      "\n",
      "ROC data saved to eFEX_50000_entries_81_supercells_eqTrue\\roc\\roc_81_supercells_TunedThresholdClassifierCV.json\n",
      "Precision-Recall data saved to eFEX_50000_entries_81_supercells_eqTrue\\precision_recall\\precision_recall_81_supercells_TunedThresholdClassifierCV.json\n",
      "Efficiency vs Electron PT data saved to eFEX_50000_entries_81_supercells_eqTrue\\efficiency_vs_ele_pt\\efficiency_vs_ele_pt_81_supercells_TunedThresholdClassifierCV.json\n",
      "Training VotingClassifier...\n"
     ]
    },
    {
     "name": "stderr",
     "output_type": "stream",
     "text": [
      "c:\\Users\\Me\\AppData\\Local\\Programs\\Python\\Python312\\Lib\\site-packages\\sklearn\\linear_model\\_logistic.py:469: ConvergenceWarning: lbfgs failed to converge (status=1):\n",
      "STOP: TOTAL NO. of ITERATIONS REACHED LIMIT.\n",
      "\n",
      "Increase the number of iterations (max_iter) or scale the data as shown in:\n",
      "    https://scikit-learn.org/stable/modules/preprocessing.html\n",
      "Please also refer to the documentation for alternative solver options:\n",
      "    https://scikit-learn.org/stable/modules/linear_model.html#logistic-regression\n",
      "  n_iter_i = _check_optimize_result(\n"
     ]
    },
    {
     "name": "stdout",
     "output_type": "stream",
     "text": [
      "Took: 18.477169275283813 seconds\n",
      "predicting...\n",
      "Took: 0.4585232734680176 seconds\n",
      "Index(['offline_ele_pt', 'EventNumber', 'Label', 'pred'], dtype='object')\n"
     ]
    },
    {
     "name": "stderr",
     "output_type": "stream",
     "text": [
      "\n",
      "\n",
      "\u001b[A\u001b[A"
     ]
    },
    {
     "name": "stdout",
     "output_type": "stream",
     "text": [
      "rate: 59.20029856892824\n",
      "\n",
      "\n",
      "Evaluation of VotingClassifier\n",
      "Confusion Matrix:\n",
      " [[8892 1073]\n",
      " [ 691 9344]]\n",
      "Accuracy: 0.91180000\n",
      "Recall: 0.93114101\n",
      "Precision: 0.89699530\n",
      "F1 Score: 0.91374927\n",
      "Classification Report:\n",
      "               precision    recall  f1-score   support\n",
      "\n",
      "         0.0       0.93      0.89      0.91      9965\n",
      "         1.0       0.90      0.93      0.91     10035\n",
      "\n",
      "    accuracy                           0.91     20000\n",
      "   macro avg       0.91      0.91      0.91     20000\n",
      "weighted avg       0.91      0.91      0.91     20000\n",
      "\n",
      "Mean Squared Error: 0.08820000\n",
      "\n",
      "Failed ROC computation for VotingClassifier: Model must have either a decision_function or predict_proba method.\n",
      "Failed Precision-Recall computation for VotingClassifier: Model must have either a decision_function or predict_proba method.\n",
      "Efficiency vs Electron PT data saved to eFEX_50000_entries_81_supercells_eqTrue\\efficiency_vs_ele_pt\\efficiency_vs_ele_pt_81_supercells_VotingClassifier.json\n",
      "Training XGBClassifier...\n",
      "Took: 0.6827962398529053 seconds\n",
      "predicting...\n",
      "Took: 0.008971214294433594 seconds\n",
      "Index(['offline_ele_pt', 'EventNumber', 'Label', 'pred'], dtype='object')\n"
     ]
    },
    {
     "name": "stderr",
     "output_type": "stream",
     "text": [
      "\n",
      "\n",
      "\n"
     ]
    },
    {
     "name": "stdout",
     "output_type": "stream",
     "text": [
      "rate: 63.9363224544425\n",
      "\n",
      "\n",
      "Evaluation of XGBClassifier\n",
      "Confusion Matrix:\n",
      " [[8769 1196]\n",
      " [ 318 9717]]\n",
      "Accuracy: 0.92430000\n",
      "Recall: 0.96831091\n",
      "Precision: 0.89040594\n",
      "F1 Score: 0.92772580\n",
      "Classification Report:\n",
      "               precision    recall  f1-score   support\n",
      "\n",
      "         0.0       0.97      0.88      0.92      9965\n",
      "         1.0       0.89      0.97      0.93     10035\n",
      "\n",
      "    accuracy                           0.92     20000\n",
      "   macro avg       0.93      0.92      0.92     20000\n",
      "weighted avg       0.93      0.92      0.92     20000\n",
      "\n",
      "Mean Squared Error: 0.07570000\n",
      "\n",
      "ROC data saved to eFEX_50000_entries_81_supercells_eqTrue\\roc\\roc_81_supercells_XGBClassifier.json\n",
      "Precision-Recall data saved to eFEX_50000_entries_81_supercells_eqTrue\\precision_recall\\precision_recall_81_supercells_XGBClassifier.json\n",
      "Efficiency vs Electron PT data saved to eFEX_50000_entries_81_supercells_eqTrue\\efficiency_vs_ele_pt\\efficiency_vs_ele_pt_81_supercells_XGBClassifier.json\n"
     ]
    },
    {
     "name": "stderr",
     "output_type": "stream",
     "text": [
      "100%|██████████| 43/43 [32:09<00:00, 44.88s/it]\u001b[A\u001b[A\u001b[A\n",
      "\n",
      "100%|██████████| 1/1 [41:32<00:00, 2492.89s/it]\n"
     ]
    },
    {
     "name": "stdout",
     "output_type": "stream",
     "text": [
      "Results saved to eFEX_50000_entries_81_supercells_eqTrue/eFEX_50000_entries_81_supercells_eqTrue_81_supercells_all.csv\n"
     ]
    },
    {
     "name": "stderr",
     "output_type": "stream",
     "text": [
      "\n",
      "\u001b[A"
     ]
    },
    {
     "name": "stdout",
     "output_type": "stream",
     "text": [
      "Log saved to ..\\data\\eFEX_50000_entries_iso_eqTrue\\log.json\n",
      "preprepared data in ..\\data\\eFEX_50000_entries_iso_eqTrue is missing, preparing and saving here\n",
      "(371765, 26) Index(['TOB_ET', 'TOB_eta', 'TOB_ieta', 'TOB_ietabin', 'TOB_phi',\n",
      "       'offline_ele_pt', 'offline_ele_eta', 'offline_ele_eta_cal',\n",
      "       'offline_ele_phi', 'offline_ele_phi_cal', 'eFEX_Clus_ETs', 'legacy_ET',\n",
      "       'eFEX_ReC', 'eFEX_ReE', 'eFEX_RhE', 'eFEX_RhH', 'eFEX_WsN', 'eFEX_WsD',\n",
      "       'ID', 'SuperCell_ET', 'lumiBlock', 'averageMu', 'BDTScore',\n",
      "       'TopoCluster_ET', 'TopoCluster_eta', 'TopoCluster_phi'],\n",
      "      dtype='object') (371765, 28) Index(['TOB_ET', 'TOB_eta', 'TOB_ieta', 'TOB_ietabin', 'TOB_phi',\n",
      "       'offline_ele_pt', 'offline_ele_eta', 'offline_ele_eta_cal',\n",
      "       'offline_ele_phi', 'offline_ele_phi_cal', 'offline_zeemass',\n",
      "       'eFEX_Clus_SCETs', 'legacy_ET', 'eFEX_ReC', 'eFEX_ReE', 'eFEX_RhE',\n",
      "       'eFEX_RhH', 'eFEX_WsN', 'eFEX_WsD', 'ID', 'SuperCell_ET', 'lumiBlock',\n",
      "       'averageMu', 'EventNumber', 'BDTScore', 'TopoCluster_ET',\n",
      "       'TopoCluster_eta', 'TopoCluster_phi'],\n",
      "      dtype='object')\n",
      "found preprepared data in ..\\data\\ZB_rate_estimation_iso\n",
      "found data preparation log in ..\\data\\eFEX_50000_entries_iso_eqTrue\\log.json\n",
      "Log saved to eFEX_50000_entries_iso_eqTrue\\log.json\n"
     ]
    },
    {
     "name": "stderr",
     "output_type": "stream",
     "text": [
      "\n",
      "\n",
      "\u001b[A\u001b[A"
     ]
    },
    {
     "name": "stdout",
     "output_type": "stream",
     "text": [
      "Training AdaBoostClassifier...\n"
     ]
    },
    {
     "name": "stderr",
     "output_type": "stream",
     "text": [
      "c:\\Users\\Me\\AppData\\Local\\Programs\\Python\\Python312\\Lib\\site-packages\\sklearn\\ensemble\\_weight_boosting.py:527: FutureWarning: The SAMME.R algorithm (the default) is deprecated and will be removed in 1.6. Use the SAMME algorithm to circumvent this warning.\n",
      "  warnings.warn(\n"
     ]
    },
    {
     "name": "stdout",
     "output_type": "stream",
     "text": [
      "Took: 1.8265056610107422 seconds\n",
      "predicting...\n",
      "Took: 0.04386115074157715 seconds\n",
      "Index(['offline_ele_pt', 'EventNumber', 'Label', 'pred'], dtype='object')\n"
     ]
    },
    {
     "name": "stderr",
     "output_type": "stream",
     "text": [
      "\n",
      "\n",
      "\n"
     ]
    },
    {
     "name": "stdout",
     "output_type": "stream",
     "text": [
      "rate: 64.79604653557088\n",
      "\n",
      "\n",
      "Evaluation of AdaBoostClassifier\n",
      "Confusion Matrix:\n",
      " [[8792 1173]\n",
      " [ 394 9641]]\n",
      "Accuracy: 0.92165000\n",
      "Recall: 0.96073742\n",
      "Precision: 0.89152950\n",
      "F1 Score: 0.92484052\n",
      "Classification Report:\n",
      "               precision    recall  f1-score   support\n",
      "\n",
      "         0.0       0.96      0.88      0.92      9965\n",
      "         1.0       0.89      0.96      0.92     10035\n",
      "\n",
      "    accuracy                           0.92     20000\n",
      "   macro avg       0.92      0.92      0.92     20000\n",
      "weighted avg       0.92      0.92      0.92     20000\n",
      "\n",
      "Mean Squared Error: 0.07835000\n",
      "\n",
      "ROC data saved to eFEX_50000_entries_iso_eqTrue\\roc\\roc_iso_AdaBoostClassifier.json\n",
      "Precision-Recall data saved to eFEX_50000_entries_iso_eqTrue\\precision_recall\\precision_recall_iso_AdaBoostClassifier.json\n",
      "Efficiency vs Electron PT data saved to eFEX_50000_entries_iso_eqTrue\\efficiency_vs_ele_pt\\efficiency_vs_ele_pt_iso_AdaBoostClassifier.json\n"
     ]
    },
    {
     "name": "stderr",
     "output_type": "stream",
     "text": [
      "  2%|▏         | 1/43 [00:02<01:43,  2.47s/it]\u001b[A\u001b[A\u001b[A"
     ]
    },
    {
     "name": "stdout",
     "output_type": "stream",
     "text": [
      "Training BaggingClassifier...\n",
      "Took: 2.024479627609253 seconds\n",
      "predicting...\n",
      "Took: 0.021929264068603516 seconds\n",
      "Index(['offline_ele_pt', 'EventNumber', 'Label', 'pred'], dtype='object')\n"
     ]
    },
    {
     "name": "stderr",
     "output_type": "stream",
     "text": [
      "\n",
      "\n",
      "\u001b[A\u001b[A"
     ]
    },
    {
     "name": "stdout",
     "output_type": "stream",
     "text": [
      "rate: 56.06305981674045\n",
      "\n",
      "\n",
      "Evaluation of BaggingClassifier\n",
      "Confusion Matrix:\n",
      " [[8929 1036]\n",
      " [ 640 9395]]\n",
      "Accuracy: 0.91620000\n",
      "Recall: 0.93622322\n",
      "Precision: 0.90068066\n",
      "F1 Score: 0.91810808\n",
      "Classification Report:\n",
      "               precision    recall  f1-score   support\n",
      "\n",
      "         0.0       0.93      0.90      0.91      9965\n",
      "         1.0       0.90      0.94      0.92     10035\n",
      "\n",
      "    accuracy                           0.92     20000\n",
      "   macro avg       0.92      0.92      0.92     20000\n",
      "weighted avg       0.92      0.92      0.92     20000\n",
      "\n",
      "Mean Squared Error: 0.08380000\n",
      "\n",
      "ROC data saved to eFEX_50000_entries_iso_eqTrue\\roc\\roc_iso_BaggingClassifier.json\n",
      "Precision-Recall data saved to eFEX_50000_entries_iso_eqTrue\\precision_recall\\precision_recall_iso_BaggingClassifier.json\n",
      "Efficiency vs Electron PT data saved to eFEX_50000_entries_iso_eqTrue\\efficiency_vs_ele_pt\\efficiency_vs_ele_pt_iso_BaggingClassifier.json\n",
      "Training BernoulliNB...\n",
      "Took: 0.010964632034301758 seconds\n",
      "predicting...\n",
      "Took: 0.0029900074005126953 seconds\n",
      "Index(['offline_ele_pt', 'EventNumber', 'Label', 'pred'], dtype='object')\n"
     ]
    },
    {
     "name": "stderr",
     "output_type": "stream",
     "text": [
      "\n",
      "\n",
      "\u001b[A\u001b[A"
     ]
    },
    {
     "name": "stdout",
     "output_type": "stream",
     "text": [
      "rate: 129.7881704931535\n",
      "\n",
      "\n",
      "Evaluation of BernoulliNB\n",
      "Confusion Matrix:\n",
      " [[7243 2722]\n",
      " [ 360 9675]]\n",
      "Accuracy: 0.84590000\n",
      "Recall: 0.96412556\n",
      "Precision: 0.78043075\n",
      "F1 Score: 0.86260699\n",
      "Classification Report:\n",
      "               precision    recall  f1-score   support\n",
      "\n",
      "         0.0       0.95      0.73      0.82      9965\n",
      "         1.0       0.78      0.96      0.86     10035\n",
      "\n",
      "    accuracy                           0.85     20000\n",
      "   macro avg       0.87      0.85      0.84     20000\n",
      "weighted avg       0.87      0.85      0.84     20000\n",
      "\n",
      "Mean Squared Error: 0.15410000\n",
      "\n",
      "ROC data saved to eFEX_50000_entries_iso_eqTrue\\roc\\roc_iso_BernoulliNB.json\n",
      "Precision-Recall data saved to eFEX_50000_entries_iso_eqTrue\\precision_recall\\precision_recall_iso_BernoulliNB.json\n",
      "Efficiency vs Electron PT data saved to eFEX_50000_entries_iso_eqTrue\\efficiency_vs_ele_pt\\efficiency_vs_ele_pt_iso_BernoulliNB.json\n",
      "Training CalibratedClassifierCV...\n",
      "Took: 0.45995354652404785 seconds\n",
      "predicting...\n",
      "Took: 0.0069732666015625 seconds\n",
      "Index(['offline_ele_pt', 'EventNumber', 'Label', 'pred'], dtype='object')\n"
     ]
    },
    {
     "name": "stderr",
     "output_type": "stream",
     "text": [
      "\n",
      "\n",
      "\u001b[A\u001b[A"
     ]
    },
    {
     "name": "stdout",
     "output_type": "stream",
     "text": [
      "rate: 77.29975290847318\n",
      "\n",
      "\n",
      "Evaluation of CalibratedClassifierCV\n",
      "Confusion Matrix:\n",
      " [[8580 1385]\n",
      " [ 304 9731]]\n",
      "Accuracy: 0.91555000\n",
      "Recall: 0.96970603\n",
      "Precision: 0.87540482\n",
      "F1 Score: 0.92014562\n",
      "Classification Report:\n",
      "               precision    recall  f1-score   support\n",
      "\n",
      "         0.0       0.97      0.86      0.91      9965\n",
      "         1.0       0.88      0.97      0.92     10035\n",
      "\n",
      "    accuracy                           0.92     20000\n",
      "   macro avg       0.92      0.92      0.92     20000\n",
      "weighted avg       0.92      0.92      0.92     20000\n",
      "\n",
      "Mean Squared Error: 0.08445000\n",
      "\n",
      "ROC data saved to eFEX_50000_entries_iso_eqTrue\\roc\\roc_iso_CalibratedClassifierCV.json\n",
      "Precision-Recall data saved to eFEX_50000_entries_iso_eqTrue\\precision_recall\\precision_recall_iso_CalibratedClassifierCV.json\n",
      "Efficiency vs Electron PT data saved to eFEX_50000_entries_iso_eqTrue\\efficiency_vs_ele_pt\\efficiency_vs_ele_pt_iso_CalibratedClassifierCV.json\n",
      "Training CategoricalNB...\n",
      "Took: 0.014953136444091797 seconds\n",
      "predicting...\n",
      "Could not train or predict with CategoricalNB: index 173 is out of bounds for axis 1 with size 111\n",
      "Training ClassifierChain...\n",
      "Could not train or predict with ClassifierChain: tuple index out of range\n",
      "Training ComplementNB...\n",
      "Took: 0.008971691131591797 seconds\n",
      "predicting...\n",
      "Took: 0.000997304916381836 seconds\n",
      "Index(['offline_ele_pt', 'EventNumber', 'Label', 'pred'], dtype='object')\n"
     ]
    },
    {
     "name": "stderr",
     "output_type": "stream",
     "text": [
      "\n",
      "\n",
      "\u001b[A\u001b[A"
     ]
    },
    {
     "name": "stdout",
     "output_type": "stream",
     "text": [
      "rate: 110.60274889323587\n",
      "\n",
      "\n",
      "Evaluation of ComplementNB\n",
      "Confusion Matrix:\n",
      " [[7610 2355]\n",
      " [ 144 9891]]\n",
      "Accuracy: 0.87505000\n",
      "Recall: 0.98565022\n",
      "Precision: 0.80769231\n",
      "F1 Score: 0.88784166\n",
      "Classification Report:\n",
      "               precision    recall  f1-score   support\n",
      "\n",
      "         0.0       0.98      0.76      0.86      9965\n",
      "         1.0       0.81      0.99      0.89     10035\n",
      "\n",
      "    accuracy                           0.88     20000\n",
      "   macro avg       0.89      0.87      0.87     20000\n",
      "weighted avg       0.89      0.88      0.87     20000\n",
      "\n",
      "Mean Squared Error: 0.12495000\n",
      "\n",
      "ROC data saved to eFEX_50000_entries_iso_eqTrue\\roc\\roc_iso_ComplementNB.json\n",
      "Precision-Recall data saved to eFEX_50000_entries_iso_eqTrue\\precision_recall\\precision_recall_iso_ComplementNB.json\n",
      "Efficiency vs Electron PT data saved to eFEX_50000_entries_iso_eqTrue\\efficiency_vs_ele_pt\\efficiency_vs_ele_pt_iso_ComplementNB.json\n",
      "Training DecisionTreeClassifier...\n",
      "Took: 0.3129613399505615 seconds\n",
      "predicting...\n",
      "Took: 0.003041505813598633 seconds\n",
      "Index(['offline_ele_pt', 'EventNumber', 'Label', 'pred'], dtype='object')\n"
     ]
    },
    {
     "name": "stderr",
     "output_type": "stream",
     "text": [
      "\n",
      "\n",
      "\u001b[A\u001b[A"
     ]
    },
    {
     "name": "stdout",
     "output_type": "stream",
     "text": [
      "rate: 58.50648615257902\n",
      "\n",
      "\n",
      "Evaluation of DecisionTreeClassifier\n",
      "Confusion Matrix:\n",
      " [[8886 1079]\n",
      " [1196 8839]]\n",
      "Accuracy: 0.88625000\n",
      "Recall: 0.88081714\n",
      "Precision: 0.89120790\n",
      "F1 Score: 0.88598206\n",
      "Classification Report:\n",
      "               precision    recall  f1-score   support\n",
      "\n",
      "         0.0       0.88      0.89      0.89      9965\n",
      "         1.0       0.89      0.88      0.89     10035\n",
      "\n",
      "    accuracy                           0.89     20000\n",
      "   macro avg       0.89      0.89      0.89     20000\n",
      "weighted avg       0.89      0.89      0.89     20000\n",
      "\n",
      "Mean Squared Error: 0.11375000\n",
      "\n",
      "ROC data saved to eFEX_50000_entries_iso_eqTrue\\roc\\roc_iso_DecisionTreeClassifier.json\n",
      "Precision-Recall data saved to eFEX_50000_entries_iso_eqTrue\\precision_recall\\precision_recall_iso_DecisionTreeClassifier.json\n",
      "Efficiency vs Electron PT data saved to eFEX_50000_entries_iso_eqTrue\\efficiency_vs_ele_pt\\efficiency_vs_ele_pt_iso_DecisionTreeClassifier.json\n",
      "Training DummyClassifier...\n",
      "Took: 0.0019941329956054688 seconds\n",
      "predicting...\n",
      "Took: 0.0 seconds\n",
      "Index(['offline_ele_pt', 'EventNumber', 'Label', 'pred'], dtype='object')\n"
     ]
    },
    {
     "name": "stderr",
     "output_type": "stream",
     "text": [
      "c:\\Users\\Me\\AppData\\Local\\Programs\\Python\\Python312\\Lib\\site-packages\\sklearn\\metrics\\_classification.py:1531: UndefinedMetricWarning: Precision is ill-defined and being set to 0.0 due to no predicted samples. Use `zero_division` parameter to control this behavior.\n",
      "  _warn_prf(average, modifier, f\"{metric.capitalize()} is\", len(result))\n",
      "c:\\Users\\Me\\AppData\\Local\\Programs\\Python\\Python312\\Lib\\site-packages\\sklearn\\metrics\\_classification.py:1531: UndefinedMetricWarning: Precision is ill-defined and being set to 0.0 in labels with no predicted samples. Use `zero_division` parameter to control this behavior.\n",
      "  _warn_prf(average, modifier, f\"{metric.capitalize()} is\", len(result))\n",
      "c:\\Users\\Me\\AppData\\Local\\Programs\\Python\\Python312\\Lib\\site-packages\\sklearn\\metrics\\_classification.py:1531: UndefinedMetricWarning: Precision is ill-defined and being set to 0.0 in labels with no predicted samples. Use `zero_division` parameter to control this behavior.\n",
      "  _warn_prf(average, modifier, f\"{metric.capitalize()} is\", len(result))\n",
      "c:\\Users\\Me\\AppData\\Local\\Programs\\Python\\Python312\\Lib\\site-packages\\sklearn\\metrics\\_classification.py:1531: UndefinedMetricWarning: Precision is ill-defined and being set to 0.0 in labels with no predicted samples. Use `zero_division` parameter to control this behavior.\n",
      "  _warn_prf(average, modifier, f\"{metric.capitalize()} is\", len(result))\n",
      "\n",
      "\n",
      "\u001b[A\u001b[A"
     ]
    },
    {
     "name": "stdout",
     "output_type": "stream",
     "text": [
      "rate: 0.0\n",
      "\n",
      "\n",
      "Evaluation of DummyClassifier\n",
      "Confusion Matrix:\n",
      " [[ 9965     0]\n",
      " [10035     0]]\n",
      "Accuracy: 0.49825000\n",
      "Recall: 0.00000000\n",
      "Precision: 0.00000000\n",
      "F1 Score: 0.00000000\n",
      "Classification Report:\n",
      "               precision    recall  f1-score   support\n",
      "\n",
      "         0.0       0.50      1.00      0.67      9965\n",
      "         1.0       0.00      0.00      0.00     10035\n",
      "\n",
      "    accuracy                           0.50     20000\n",
      "   macro avg       0.25      0.50      0.33     20000\n",
      "weighted avg       0.25      0.50      0.33     20000\n",
      "\n",
      "Mean Squared Error: 0.50175000\n",
      "\n",
      "ROC data saved to eFEX_50000_entries_iso_eqTrue\\roc\\roc_iso_DummyClassifier.json\n",
      "Precision-Recall data saved to eFEX_50000_entries_iso_eqTrue\\precision_recall\\precision_recall_iso_DummyClassifier.json\n",
      "Efficiency vs Electron PT data saved to eFEX_50000_entries_iso_eqTrue\\efficiency_vs_ele_pt\\efficiency_vs_ele_pt_iso_DummyClassifier.json\n",
      "Training ExtraTreeClassifier...\n",
      "Took: 0.03189730644226074 seconds\n",
      "predicting...\n",
      "Took: 0.003985881805419922 seconds\n",
      "Index(['offline_ele_pt', 'EventNumber', 'Label', 'pred'], dtype='object')\n"
     ]
    },
    {
     "name": "stderr",
     "output_type": "stream",
     "text": [
      "\n",
      "\n",
      "\u001b[A\u001b[A"
     ]
    },
    {
     "name": "stdout",
     "output_type": "stream",
     "text": [
      "rate: 62.33753732111603\n",
      "\n",
      "\n",
      "Evaluation of ExtraTreeClassifier\n",
      "Confusion Matrix:\n",
      " [[8790 1175]\n",
      " [1259 8776]]\n",
      "Accuracy: 0.87830000\n",
      "Recall: 0.87453911\n",
      "Precision: 0.88192141\n",
      "F1 Score: 0.87821475\n",
      "Classification Report:\n",
      "               precision    recall  f1-score   support\n",
      "\n",
      "         0.0       0.87      0.88      0.88      9965\n",
      "         1.0       0.88      0.87      0.88     10035\n",
      "\n",
      "    accuracy                           0.88     20000\n",
      "   macro avg       0.88      0.88      0.88     20000\n",
      "weighted avg       0.88      0.88      0.88     20000\n",
      "\n",
      "Mean Squared Error: 0.12170000\n",
      "\n",
      "ROC data saved to eFEX_50000_entries_iso_eqTrue\\roc\\roc_iso_ExtraTreeClassifier.json\n",
      "Precision-Recall data saved to eFEX_50000_entries_iso_eqTrue\\precision_recall\\precision_recall_iso_ExtraTreeClassifier.json\n",
      "Efficiency vs Electron PT data saved to eFEX_50000_entries_iso_eqTrue\\efficiency_vs_ele_pt\\efficiency_vs_ele_pt_iso_ExtraTreeClassifier.json\n",
      "Training ExtraTreesClassifier...\n",
      "Took: 3.548999071121216 seconds\n",
      "predicting...\n",
      "Took: 0.38352060317993164 seconds\n",
      "Index(['offline_ele_pt', 'EventNumber', 'Label', 'pred'], dtype='object')\n",
      "rate: 60.12035416452177\n",
      "\n",
      "\n",
      "Evaluation of ExtraTreesClassifier\n",
      "Confusion Matrix:\n",
      " [[8894 1071]\n",
      " [ 427 9608]]\n",
      "Accuracy: 0.92510000\n",
      "Recall: 0.95744893\n",
      "Precision: 0.89970971\n",
      "F1 Score: 0.92768176\n",
      "Classification Report:\n",
      "               precision    recall  f1-score   support\n",
      "\n",
      "         0.0       0.95      0.89      0.92      9965\n",
      "         1.0       0.90      0.96      0.93     10035\n",
      "\n",
      "    accuracy                           0.93     20000\n",
      "   macro avg       0.93      0.92      0.93     20000\n",
      "weighted avg       0.93      0.93      0.93     20000\n",
      "\n",
      "Mean Squared Error: 0.07490000\n",
      "\n",
      "ROC data saved to eFEX_50000_entries_iso_eqTrue\\roc\\roc_iso_ExtraTreesClassifier.json\n"
     ]
    },
    {
     "name": "stderr",
     "output_type": "stream",
     "text": [
      "\n",
      "\n",
      "\u001b[A\u001b[A"
     ]
    },
    {
     "name": "stdout",
     "output_type": "stream",
     "text": [
      "Precision-Recall data saved to eFEX_50000_entries_iso_eqTrue\\precision_recall\\precision_recall_iso_ExtraTreesClassifier.json\n",
      "Efficiency vs Electron PT data saved to eFEX_50000_entries_iso_eqTrue\\efficiency_vs_ele_pt\\efficiency_vs_ele_pt_iso_ExtraTreesClassifier.json\n",
      "Training FixedThresholdClassifier...\n",
      "Took: 0.12734603881835938 seconds\n",
      "predicting...\n",
      "Took: 0.0019922256469726562 seconds\n",
      "Index(['offline_ele_pt', 'EventNumber', 'Label', 'pred'], dtype='object')\n"
     ]
    },
    {
     "name": "stderr",
     "output_type": "stream",
     "text": [
      "\n",
      "\n",
      "\u001b[A\u001b[A"
     ]
    },
    {
     "name": "stdout",
     "output_type": "stream",
     "text": [
      "rate: 77.28467002985688\n",
      "\n",
      "\n",
      "Evaluation of FixedThresholdClassifier\n",
      "Confusion Matrix:\n",
      " [[8581 1384]\n",
      " [ 304 9731]]\n",
      "Accuracy: 0.91560000\n",
      "Recall: 0.96970603\n",
      "Precision: 0.87548358\n",
      "F1 Score: 0.92018913\n",
      "Classification Report:\n",
      "               precision    recall  f1-score   support\n",
      "\n",
      "         0.0       0.97      0.86      0.91      9965\n",
      "         1.0       0.88      0.97      0.92     10035\n",
      "\n",
      "    accuracy                           0.92     20000\n",
      "   macro avg       0.92      0.92      0.92     20000\n",
      "weighted avg       0.92      0.92      0.92     20000\n",
      "\n",
      "Mean Squared Error: 0.08440000\n",
      "\n",
      "ROC data saved to eFEX_50000_entries_iso_eqTrue\\roc\\roc_iso_FixedThresholdClassifier.json\n",
      "Precision-Recall data saved to eFEX_50000_entries_iso_eqTrue\\precision_recall\\precision_recall_iso_FixedThresholdClassifier.json\n",
      "Efficiency vs Electron PT data saved to eFEX_50000_entries_iso_eqTrue\\efficiency_vs_ele_pt\\efficiency_vs_ele_pt_iso_FixedThresholdClassifier.json\n",
      "Training GaussianNB...\n",
      "Took: 0.007969141006469727 seconds\n",
      "predicting...\n",
      "Took: 0.0019981861114501953 seconds\n",
      "Index(['offline_ele_pt', 'EventNumber', 'Label', 'pred'], dtype='object')\n"
     ]
    },
    {
     "name": "stderr",
     "output_type": "stream",
     "text": [
      "\n",
      "\n",
      "\u001b[A\u001b[A"
     ]
    },
    {
     "name": "stdout",
     "output_type": "stream",
     "text": [
      "rate: 91.26649850715536\n",
      "\n",
      "\n",
      "Evaluation of GaussianNB\n",
      "Confusion Matrix:\n",
      " [[8386 1579]\n",
      " [ 295 9740]]\n",
      "Accuracy: 0.90630000\n",
      "Recall: 0.97060289\n",
      "Precision: 0.86050004\n",
      "F1 Score: 0.91224127\n",
      "Classification Report:\n",
      "               precision    recall  f1-score   support\n",
      "\n",
      "         0.0       0.97      0.84      0.90      9965\n",
      "         1.0       0.86      0.97      0.91     10035\n",
      "\n",
      "    accuracy                           0.91     20000\n",
      "   macro avg       0.91      0.91      0.91     20000\n",
      "weighted avg       0.91      0.91      0.91     20000\n",
      "\n",
      "Mean Squared Error: 0.09370000\n",
      "\n",
      "ROC data saved to eFEX_50000_entries_iso_eqTrue\\roc\\roc_iso_GaussianNB.json\n",
      "Precision-Recall data saved to eFEX_50000_entries_iso_eqTrue\\precision_recall\\precision_recall_iso_GaussianNB.json\n",
      "Efficiency vs Electron PT data saved to eFEX_50000_entries_iso_eqTrue\\efficiency_vs_ele_pt\\efficiency_vs_ele_pt_iso_GaussianNB.json\n",
      "Training GaussianProcessClassifier...\n",
      "Could not train or predict with GaussianProcessClassifier: Unable to allocate 47.7 GiB for an array with shape (80000, 80000) and data type float64\n",
      "Training GradientBoostingClassifier...\n",
      "Took: 6.879481077194214 seconds\n",
      "predicting...\n",
      "Took: 0.02391791343688965 seconds\n",
      "Index(['offline_ele_pt', 'EventNumber', 'Label', 'pred'], dtype='object')\n"
     ]
    },
    {
     "name": "stderr",
     "output_type": "stream",
     "text": [
      "\n",
      "\n",
      "\u001b[A\u001b[A"
     ]
    },
    {
     "name": "stdout",
     "output_type": "stream",
     "text": [
      "rate: 63.40842170287244\n",
      "\n",
      "\n",
      "Evaluation of GradientBoostingClassifier\n",
      "Confusion Matrix:\n",
      " [[8817 1148]\n",
      " [ 337 9698]]\n",
      "Accuracy: 0.92575000\n",
      "Recall: 0.96641754\n",
      "Precision: 0.89415453\n",
      "F1 Score: 0.92888272\n",
      "Classification Report:\n",
      "               precision    recall  f1-score   support\n",
      "\n",
      "         0.0       0.96      0.88      0.92      9965\n",
      "         1.0       0.89      0.97      0.93     10035\n",
      "\n",
      "    accuracy                           0.93     20000\n",
      "   macro avg       0.93      0.93      0.93     20000\n",
      "weighted avg       0.93      0.93      0.93     20000\n",
      "\n",
      "Mean Squared Error: 0.07425000\n",
      "\n",
      "ROC data saved to eFEX_50000_entries_iso_eqTrue\\roc\\roc_iso_GradientBoostingClassifier.json\n",
      "Precision-Recall data saved to eFEX_50000_entries_iso_eqTrue\\precision_recall\\precision_recall_iso_GradientBoostingClassifier.json\n",
      "Efficiency vs Electron PT data saved to eFEX_50000_entries_iso_eqTrue\\efficiency_vs_ele_pt\\efficiency_vs_ele_pt_iso_GradientBoostingClassifier.json\n",
      "Training HistGradientBoostingClassifier...\n",
      "Took: 0.42566561698913574 seconds\n",
      "predicting...\n",
      "Took: 0.02973151206970215 seconds\n",
      "Index(['offline_ele_pt', 'EventNumber', 'Label', 'pred'], dtype='object')\n",
      "rate: 62.06604550602285\n",
      "\n",
      "\n",
      "Evaluation of HistGradientBoostingClassifier\n",
      "Confusion Matrix:\n",
      " [[8861 1104]\n",
      " [ 338 9697]]\n",
      "Accuracy: 0.92790000\n",
      "Recall: 0.96631789\n",
      "Precision: 0.89778724\n",
      "F1 Score: 0.93079286\n",
      "Classification Report:\n",
      "               precision    recall  f1-score   support\n",
      "\n",
      "         0.0       0.96      0.89      0.92      9965\n",
      "         1.0       0.90      0.97      0.93     10035\n",
      "\n",
      "    accuracy                           0.93     20000\n",
      "   macro avg       0.93      0.93      0.93     20000\n",
      "weighted avg       0.93      0.93      0.93     20000\n",
      "\n",
      "Mean Squared Error: 0.07210000\n",
      "\n",
      "ROC data saved to eFEX_50000_entries_iso_eqTrue\\roc\\roc_iso_HistGradientBoostingClassifier.json\n",
      "Precision-Recall data saved to eFEX_50000_entries_iso_eqTrue\\precision_recall\\precision_recall_iso_HistGradientBoostingClassifier.json\n"
     ]
    },
    {
     "name": "stderr",
     "output_type": "stream",
     "text": [
      "\n",
      "\n",
      "\u001b[A\u001b[A"
     ]
    },
    {
     "name": "stdout",
     "output_type": "stream",
     "text": [
      "Efficiency vs Electron PT data saved to eFEX_50000_entries_iso_eqTrue\\efficiency_vs_ele_pt\\efficiency_vs_ele_pt_iso_HistGradientBoostingClassifier.json\n",
      "Training KNeighborsClassifier...\n",
      "Took: 0.12858986854553223 seconds\n",
      "predicting...\n",
      "Took: 0.8323202133178711 seconds\n",
      "Index(['offline_ele_pt', 'EventNumber', 'Label', 'pred'], dtype='object')\n",
      "rate: 68.8684237619685\n",
      "\n",
      "\n",
      "Evaluation of KNeighborsClassifier\n",
      "Confusion Matrix:\n",
      " [[8716 1249]\n",
      " [ 388 9647]]\n",
      "Accuracy: 0.91815000\n",
      "Recall: 0.96133533\n",
      "Precision: 0.88537078\n",
      "F1 Score: 0.92179065\n",
      "Classification Report:\n",
      "               precision    recall  f1-score   support\n",
      "\n",
      "         0.0       0.96      0.87      0.91      9965\n",
      "         1.0       0.89      0.96      0.92     10035\n",
      "\n",
      "    accuracy                           0.92     20000\n",
      "   macro avg       0.92      0.92      0.92     20000\n",
      "weighted avg       0.92      0.92      0.92     20000\n",
      "\n",
      "Mean Squared Error: 0.08185000\n",
      "\n",
      "ROC data saved to eFEX_50000_entries_iso_eqTrue\\roc\\roc_iso_KNeighborsClassifier.json\n"
     ]
    },
    {
     "name": "stderr",
     "output_type": "stream",
     "text": [
      "\n",
      "\n",
      "\u001b[A\u001b[A"
     ]
    },
    {
     "name": "stdout",
     "output_type": "stream",
     "text": [
      "Precision-Recall data saved to eFEX_50000_entries_iso_eqTrue\\precision_recall\\precision_recall_iso_KNeighborsClassifier.json\n",
      "Efficiency vs Electron PT data saved to eFEX_50000_entries_iso_eqTrue\\efficiency_vs_ele_pt\\efficiency_vs_ele_pt_iso_KNeighborsClassifier.json\n",
      "Training LabelPropagation...\n"
     ]
    },
    {
     "name": "stderr",
     "output_type": "stream",
     "text": [
      "\n",
      "\n",
      "\u001b[A\u001b[A"
     ]
    },
    {
     "name": "stdout",
     "output_type": "stream",
     "text": [
      "Could not train or predict with LabelPropagation: Unable to allocate 47.7 GiB for an array with shape (80000, 80000) and data type float64\n",
      "Training LabelSpreading...\n"
     ]
    },
    {
     "name": "stderr",
     "output_type": "stream",
     "text": [
      "\n",
      "\n",
      "\u001b[A\u001b[A"
     ]
    },
    {
     "name": "stdout",
     "output_type": "stream",
     "text": [
      "Could not train or predict with LabelSpreading: Unable to allocate 23.8 GiB for an array with shape (80000, 80000) and data type float32\n",
      "Training LinearDiscriminantAnalysis...\n",
      "Took: 0.16544604301452637 seconds\n",
      "predicting...\n",
      "Took: 0.007974386215209961 seconds\n",
      "Index(['offline_ele_pt', 'EventNumber', 'Label', 'pred'], dtype='object')\n",
      "rate: 157.13342942448264\n",
      "\n",
      "\n",
      "Evaluation of LinearDiscriminantAnalysis\n",
      "Confusion Matrix:\n",
      " [[6657 3308]\n",
      " [ 265 9770]]\n",
      "Accuracy: 0.82135000\n",
      "Recall: 0.97359243\n",
      "Precision: 0.74705612\n",
      "F1 Score: 0.84541167\n",
      "Classification Report:\n",
      "               precision    recall  f1-score   support\n",
      "\n",
      "         0.0       0.96      0.67      0.79      9965\n",
      "         1.0       0.75      0.97      0.85     10035\n",
      "\n",
      "    accuracy                           0.82     20000\n",
      "   macro avg       0.85      0.82      0.82     20000\n",
      "weighted avg       0.85      0.82      0.82     20000\n",
      "\n",
      "Mean Squared Error: 0.17865000\n",
      "\n",
      "ROC data saved to eFEX_50000_entries_iso_eqTrue\\roc\\roc_iso_LinearDiscriminantAnalysis.json\n",
      "Precision-Recall data saved to eFEX_50000_entries_iso_eqTrue\\precision_recall\\precision_recall_iso_LinearDiscriminantAnalysis.json\n"
     ]
    },
    {
     "name": "stderr",
     "output_type": "stream",
     "text": [
      "\n",
      "\n",
      "\u001b[A\u001b[A"
     ]
    },
    {
     "name": "stdout",
     "output_type": "stream",
     "text": [
      "Efficiency vs Electron PT data saved to eFEX_50000_entries_iso_eqTrue\\efficiency_vs_ele_pt\\efficiency_vs_ele_pt_iso_LinearDiscriminantAnalysis.json\n",
      "Training LinearSVC...\n",
      "Took: 0.13060855865478516 seconds\n",
      "predicting...\n",
      "Took: 0.0009963512420654297 seconds\n",
      "Index(['offline_ele_pt', 'EventNumber', 'Label', 'pred'], dtype='object')\n",
      "rate: 80.12025120971893\n",
      "\n",
      "\n",
      "Evaluation of LinearSVC\n",
      "Confusion Matrix:\n",
      " [[8510 1455]\n",
      " [ 244 9791]]\n",
      "Accuracy: 0.91505000\n",
      "Recall: 0.97568510\n",
      "Precision: 0.87062067\n",
      "F1 Score: 0.92016353\n",
      "Classification Report:\n",
      "               precision    recall  f1-score   support\n",
      "\n",
      "         0.0       0.97      0.85      0.91      9965\n",
      "         1.0       0.87      0.98      0.92     10035\n",
      "\n",
      "    accuracy                           0.92     20000\n",
      "   macro avg       0.92      0.91      0.91     20000\n",
      "weighted avg       0.92      0.92      0.91     20000\n",
      "\n",
      "Mean Squared Error: 0.08495000\n",
      "\n",
      "ROC data saved to eFEX_50000_entries_iso_eqTrue\\roc\\roc_iso_LinearSVC.json\n",
      "Precision-Recall data saved to eFEX_50000_entries_iso_eqTrue\\precision_recall\\precision_recall_iso_LinearSVC.json\n"
     ]
    },
    {
     "name": "stderr",
     "output_type": "stream",
     "text": [
      "\n",
      "\n",
      "\u001b[A\u001b[A"
     ]
    },
    {
     "name": "stdout",
     "output_type": "stream",
     "text": [
      "Efficiency vs Electron PT data saved to eFEX_50000_entries_iso_eqTrue\\efficiency_vs_ele_pt\\efficiency_vs_ele_pt_iso_LinearSVC.json\n",
      "Training LogisticRegression...\n",
      "Took: 0.13753843307495117 seconds\n",
      "predicting...\n",
      "Took: 0.0009968280792236328 seconds\n",
      "Index(['offline_ele_pt', 'EventNumber', 'Label', 'pred'], dtype='object')\n"
     ]
    },
    {
     "name": "stderr",
     "output_type": "stream",
     "text": [
      "\n",
      "\n",
      "\u001b[A\u001b[A"
     ]
    },
    {
     "name": "stdout",
     "output_type": "stream",
     "text": [
      "rate: 77.28467002985688\n",
      "\n",
      "\n",
      "Evaluation of LogisticRegression\n",
      "Confusion Matrix:\n",
      " [[8581 1384]\n",
      " [ 304 9731]]\n",
      "Accuracy: 0.91560000\n",
      "Recall: 0.96970603\n",
      "Precision: 0.87548358\n",
      "F1 Score: 0.92018913\n",
      "Classification Report:\n",
      "               precision    recall  f1-score   support\n",
      "\n",
      "         0.0       0.97      0.86      0.91      9965\n",
      "         1.0       0.88      0.97      0.92     10035\n",
      "\n",
      "    accuracy                           0.92     20000\n",
      "   macro avg       0.92      0.92      0.92     20000\n",
      "weighted avg       0.92      0.92      0.92     20000\n",
      "\n",
      "Mean Squared Error: 0.08440000\n",
      "\n",
      "ROC data saved to eFEX_50000_entries_iso_eqTrue\\roc\\roc_iso_LogisticRegression.json\n",
      "Precision-Recall data saved to eFEX_50000_entries_iso_eqTrue\\precision_recall\\precision_recall_iso_LogisticRegression.json\n",
      "Efficiency vs Electron PT data saved to eFEX_50000_entries_iso_eqTrue\\efficiency_vs_ele_pt\\efficiency_vs_ele_pt_iso_LogisticRegression.json\n",
      "Training LogisticRegressionCV...\n",
      "Took: 2.144324541091919 seconds\n",
      "predicting...\n",
      "Took: 0.0009975433349609375 seconds\n",
      "Index(['offline_ele_pt', 'EventNumber', 'Label', 'pred'], dtype='object')\n"
     ]
    },
    {
     "name": "stderr",
     "output_type": "stream",
     "text": [
      "\n",
      "\n",
      "\u001b[A\u001b[A"
     ]
    },
    {
     "name": "stdout",
     "output_type": "stream",
     "text": [
      "rate: 77.43549881601977\n",
      "\n",
      "\n",
      "Evaluation of LogisticRegressionCV\n",
      "Confusion Matrix:\n",
      " [[8579 1386]\n",
      " [ 298 9737]]\n",
      "Accuracy: 0.91580000\n",
      "Recall: 0.97030394\n",
      "Precision: 0.87539333\n",
      "F1 Score: 0.92040836\n",
      "Classification Report:\n",
      "               precision    recall  f1-score   support\n",
      "\n",
      "         0.0       0.97      0.86      0.91      9965\n",
      "         1.0       0.88      0.97      0.92     10035\n",
      "\n",
      "    accuracy                           0.92     20000\n",
      "   macro avg       0.92      0.92      0.92     20000\n",
      "weighted avg       0.92      0.92      0.92     20000\n",
      "\n",
      "Mean Squared Error: 0.08420000\n",
      "\n",
      "ROC data saved to eFEX_50000_entries_iso_eqTrue\\roc\\roc_iso_LogisticRegressionCV.json\n",
      "Precision-Recall data saved to eFEX_50000_entries_iso_eqTrue\\precision_recall\\precision_recall_iso_LogisticRegressionCV.json\n",
      "Efficiency vs Electron PT data saved to eFEX_50000_entries_iso_eqTrue\\efficiency_vs_ele_pt\\efficiency_vs_ele_pt_iso_LogisticRegressionCV.json\n",
      "Training MLPClassifier...\n",
      "Took: 16.950572967529297 seconds\n",
      "predicting...\n",
      "Took: 0.009406089782714844 seconds\n",
      "Index(['offline_ele_pt', 'EventNumber', 'Label', 'pred'], dtype='object')\n"
     ]
    },
    {
     "name": "stderr",
     "output_type": "stream",
     "text": [
      "\n",
      "\n",
      "\u001b[A\u001b[A"
     ]
    },
    {
     "name": "stdout",
     "output_type": "stream",
     "text": [
      "rate: 59.8488623494286\n",
      "\n",
      "\n",
      "Evaluation of MLPClassifier\n",
      "Confusion Matrix:\n",
      " [[8884 1081]\n",
      " [ 374 9661]]\n",
      "Accuracy: 0.92725000\n",
      "Recall: 0.96273044\n",
      "Precision: 0.89936697\n",
      "F1 Score: 0.92997064\n",
      "Classification Report:\n",
      "               precision    recall  f1-score   support\n",
      "\n",
      "         0.0       0.96      0.89      0.92      9965\n",
      "         1.0       0.90      0.96      0.93     10035\n",
      "\n",
      "    accuracy                           0.93     20000\n",
      "   macro avg       0.93      0.93      0.93     20000\n",
      "weighted avg       0.93      0.93      0.93     20000\n",
      "\n",
      "Mean Squared Error: 0.07275000\n",
      "\n",
      "ROC data saved to eFEX_50000_entries_iso_eqTrue\\roc\\roc_iso_MLPClassifier.json\n",
      "Precision-Recall data saved to eFEX_50000_entries_iso_eqTrue\\precision_recall\\precision_recall_iso_MLPClassifier.json\n",
      "Efficiency vs Electron PT data saved to eFEX_50000_entries_iso_eqTrue\\efficiency_vs_ele_pt\\efficiency_vs_ele_pt_iso_MLPClassifier.json\n",
      "Training MultiOutputClassifier...\n",
      "Could not train or predict with MultiOutputClassifier: y must have at least two dimensions for multi-output regression but has only one.\n",
      "Training MultinomialNB...\n",
      "Took: 0.007977485656738281 seconds\n",
      "predicting...\n",
      "Took: 0.001988649368286133 seconds\n",
      "Index(['offline_ele_pt', 'EventNumber', 'Label', 'pred'], dtype='object')\n"
     ]
    },
    {
     "name": "stderr",
     "output_type": "stream",
     "text": [
      "\n",
      "\n",
      "\u001b[A\u001b[A"
     ]
    },
    {
     "name": "stdout",
     "output_type": "stream",
     "text": [
      "rate: 110.58766601461957\n",
      "\n",
      "\n",
      "Evaluation of MultinomialNB\n",
      "Confusion Matrix:\n",
      " [[7610 2355]\n",
      " [ 144 9891]]\n",
      "Accuracy: 0.87505000\n",
      "Recall: 0.98565022\n",
      "Precision: 0.80769231\n",
      "F1 Score: 0.88784166\n",
      "Classification Report:\n",
      "               precision    recall  f1-score   support\n",
      "\n",
      "         0.0       0.98      0.76      0.86      9965\n",
      "         1.0       0.81      0.99      0.89     10035\n",
      "\n",
      "    accuracy                           0.88     20000\n",
      "   macro avg       0.89      0.87      0.87     20000\n",
      "weighted avg       0.89      0.88      0.87     20000\n",
      "\n",
      "Mean Squared Error: 0.12495000\n",
      "\n",
      "ROC data saved to eFEX_50000_entries_iso_eqTrue\\roc\\roc_iso_MultinomialNB.json\n",
      "Precision-Recall data saved to eFEX_50000_entries_iso_eqTrue\\precision_recall\\precision_recall_iso_MultinomialNB.json\n",
      "Efficiency vs Electron PT data saved to eFEX_50000_entries_iso_eqTrue\\efficiency_vs_ele_pt\\efficiency_vs_ele_pt_iso_MultinomialNB.json\n",
      "Training NearestCentroid...\n",
      "Took: 0.0049839019775390625 seconds\n",
      "predicting...\n",
      "Took: 0.027905941009521484 seconds\n",
      "Index(['offline_ele_pt', 'EventNumber', 'Label', 'pred'], dtype='object')\n"
     ]
    },
    {
     "name": "stderr",
     "output_type": "stream",
     "text": [
      "\n",
      "\n",
      "\u001b[A\u001b[A"
     ]
    },
    {
     "name": "stdout",
     "output_type": "stream",
     "text": [
      "rate: 220.0441161330176\n",
      "\n",
      "\n",
      "Evaluation of NearestCentroid\n",
      "Confusion Matrix:\n",
      " [[5177 4788]\n",
      " [ 371 9664]]\n",
      "Accuracy: 0.74205000\n",
      "Recall: 0.96302940\n",
      "Precision: 0.66869637\n",
      "F1 Score: 0.78931678\n",
      "Classification Report:\n",
      "               precision    recall  f1-score   support\n",
      "\n",
      "         0.0       0.93      0.52      0.67      9965\n",
      "         1.0       0.67      0.96      0.79     10035\n",
      "\n",
      "    accuracy                           0.74     20000\n",
      "   macro avg       0.80      0.74      0.73     20000\n",
      "weighted avg       0.80      0.74      0.73     20000\n",
      "\n",
      "Mean Squared Error: 0.25795000\n",
      "\n",
      "Failed ROC computation for NearestCentroid: Model must have either a decision_function or predict_proba method.\n",
      "Failed Precision-Recall computation for NearestCentroid: Model must have either a decision_function or predict_proba method.\n",
      "Efficiency vs Electron PT data saved to eFEX_50000_entries_iso_eqTrue\\efficiency_vs_ele_pt\\efficiency_vs_ele_pt_iso_NearestCentroid.json\n",
      "Training NuSVC...\n",
      "Took: 126.10030317306519 seconds\n",
      "predicting...\n",
      "Took: 43.32827401161194 seconds\n",
      "Index(['offline_ele_pt', 'EventNumber', 'Label', 'pred'], dtype='object')\n",
      "rate: 149.42607845155976\n",
      "\n",
      "\n",
      "Evaluation of NuSVC\n",
      "Confusion Matrix:\n",
      " [[7151 2814]\n",
      " [ 141 9894]]\n",
      "Accuracy: 0.85225000\n",
      "Recall: 0.98594918\n",
      "Precision: 0.77856468\n",
      "F1 Score: 0.87006991\n",
      "Classification Report:\n",
      "               precision    recall  f1-score   support\n",
      "\n",
      "         0.0       0.98      0.72      0.83      9965\n",
      "         1.0       0.78      0.99      0.87     10035\n",
      "\n",
      "    accuracy                           0.85     20000\n",
      "   macro avg       0.88      0.85      0.85     20000\n",
      "weighted avg       0.88      0.85      0.85     20000\n",
      "\n",
      "Mean Squared Error: 0.14775000\n",
      "\n",
      "ROC data saved to eFEX_50000_entries_iso_eqTrue\\roc\\roc_iso_NuSVC.json\n"
     ]
    },
    {
     "name": "stderr",
     "output_type": "stream",
     "text": [
      "\n",
      "\n",
      "\u001b[A\u001b[A"
     ]
    },
    {
     "name": "stdout",
     "output_type": "stream",
     "text": [
      "Precision-Recall data saved to eFEX_50000_entries_iso_eqTrue\\precision_recall\\precision_recall_iso_NuSVC.json\n",
      "Efficiency vs Electron PT data saved to eFEX_50000_entries_iso_eqTrue\\efficiency_vs_ele_pt\\efficiency_vs_ele_pt_iso_NuSVC.json\n",
      "Training OneVsOneClassifier...\n",
      "Took: 0.12026166915893555 seconds\n",
      "predicting...\n",
      "Took: 0.001997709274291992 seconds\n",
      "Index(['offline_ele_pt', 'EventNumber', 'Label', 'pred'], dtype='object')\n"
     ]
    },
    {
     "name": "stderr",
     "output_type": "stream",
     "text": [
      "\n",
      "\n",
      "\u001b[A\u001b[A"
     ]
    },
    {
     "name": "stdout",
     "output_type": "stream",
     "text": [
      "rate: 77.28467002985688\n",
      "\n",
      "\n",
      "Evaluation of OneVsOneClassifier\n",
      "Confusion Matrix:\n",
      " [[8581 1384]\n",
      " [ 304 9731]]\n",
      "Accuracy: 0.91560000\n",
      "Recall: 0.96970603\n",
      "Precision: 0.87548358\n",
      "F1 Score: 0.92018913\n",
      "Classification Report:\n",
      "               precision    recall  f1-score   support\n",
      "\n",
      "         0.0       0.97      0.86      0.91      9965\n",
      "         1.0       0.88      0.97      0.92     10035\n",
      "\n",
      "    accuracy                           0.92     20000\n",
      "   macro avg       0.92      0.92      0.92     20000\n",
      "weighted avg       0.92      0.92      0.92     20000\n",
      "\n",
      "Mean Squared Error: 0.08440000\n",
      "\n",
      "ROC data saved to eFEX_50000_entries_iso_eqTrue\\roc\\roc_iso_OneVsOneClassifier.json\n",
      "Precision-Recall data saved to eFEX_50000_entries_iso_eqTrue\\precision_recall\\precision_recall_iso_OneVsOneClassifier.json\n",
      "Efficiency vs Electron PT data saved to eFEX_50000_entries_iso_eqTrue\\efficiency_vs_ele_pt\\efficiency_vs_ele_pt_iso_OneVsOneClassifier.json\n",
      "Training OneVsRestClassifier...\n",
      "Took: 0.13112664222717285 seconds\n",
      "predicting...\n",
      "Took: 0.0034875869750976562 seconds\n",
      "Index(['offline_ele_pt', 'EventNumber', 'Label', 'pred'], dtype='object')\n"
     ]
    },
    {
     "name": "stderr",
     "output_type": "stream",
     "text": [
      "\n",
      "\n",
      "\u001b[A\u001b[A"
     ]
    },
    {
     "name": "stdout",
     "output_type": "stream",
     "text": [
      "rate: 77.28467002985688\n",
      "\n",
      "\n",
      "Evaluation of OneVsRestClassifier\n",
      "Confusion Matrix:\n",
      " [[8581 1384]\n",
      " [ 304 9731]]\n",
      "Accuracy: 0.91560000\n",
      "Recall: 0.96970603\n",
      "Precision: 0.87548358\n",
      "F1 Score: 0.92018913\n",
      "Classification Report:\n",
      "               precision    recall  f1-score   support\n",
      "\n",
      "         0.0       0.97      0.86      0.91      9965\n",
      "         1.0       0.88      0.97      0.92     10035\n",
      "\n",
      "    accuracy                           0.92     20000\n",
      "   macro avg       0.92      0.92      0.92     20000\n",
      "weighted avg       0.92      0.92      0.92     20000\n",
      "\n",
      "Mean Squared Error: 0.08440000\n",
      "\n",
      "ROC data saved to eFEX_50000_entries_iso_eqTrue\\roc\\roc_iso_OneVsRestClassifier.json\n",
      "Precision-Recall data saved to eFEX_50000_entries_iso_eqTrue\\precision_recall\\precision_recall_iso_OneVsRestClassifier.json\n",
      "Efficiency vs Electron PT data saved to eFEX_50000_entries_iso_eqTrue\\efficiency_vs_ele_pt\\efficiency_vs_ele_pt_iso_OneVsRestClassifier.json\n",
      "Training OutputCodeClassifier...\n",
      "Took: 0.2920243740081787 seconds\n",
      "predicting...\n",
      "Took: 0.003981590270996094 seconds\n",
      "Index(['offline_ele_pt', 'EventNumber', 'Label', 'pred'], dtype='object')\n"
     ]
    },
    {
     "name": "stderr",
     "output_type": "stream",
     "text": [
      "\n",
      "\n",
      "\u001b[A\u001b[A"
     ]
    },
    {
     "name": "stdout",
     "output_type": "stream",
     "text": [
      "rate: 77.28467002985688\n",
      "\n",
      "\n",
      "Evaluation of OutputCodeClassifier\n",
      "Confusion Matrix:\n",
      " [[8581 1384]\n",
      " [ 304 9731]]\n",
      "Accuracy: 0.91560000\n",
      "Recall: 0.96970603\n",
      "Precision: 0.87548358\n",
      "F1 Score: 0.92018913\n",
      "Classification Report:\n",
      "               precision    recall  f1-score   support\n",
      "\n",
      "         0.0       0.97      0.86      0.91      9965\n",
      "         1.0       0.88      0.97      0.92     10035\n",
      "\n",
      "    accuracy                           0.92     20000\n",
      "   macro avg       0.92      0.92      0.92     20000\n",
      "weighted avg       0.92      0.92      0.92     20000\n",
      "\n",
      "Mean Squared Error: 0.08440000\n",
      "\n",
      "Failed ROC computation for OutputCodeClassifier: Model must have either a decision_function or predict_proba method.\n",
      "Failed Precision-Recall computation for OutputCodeClassifier: Model must have either a decision_function or predict_proba method.\n",
      "Efficiency vs Electron PT data saved to eFEX_50000_entries_iso_eqTrue\\efficiency_vs_ele_pt\\efficiency_vs_ele_pt_iso_OutputCodeClassifier.json\n",
      "Training PassiveAggressiveClassifier...\n",
      "Took: 0.03715205192565918 seconds\n",
      "predicting...\n",
      "Took: 0.0 seconds\n",
      "Index(['offline_ele_pt', 'EventNumber', 'Label', 'pred'], dtype='object')\n"
     ]
    },
    {
     "name": "stderr",
     "output_type": "stream",
     "text": [
      "\n",
      "\n",
      "\u001b[A\u001b[A"
     ]
    },
    {
     "name": "stdout",
     "output_type": "stream",
     "text": [
      "rate: 71.6285905487491\n",
      "\n",
      "\n",
      "Evaluation of PassiveAggressiveClassifier\n",
      "Confusion Matrix:\n",
      " [[8662 1303]\n",
      " [ 549 9486]]\n",
      "Accuracy: 0.90740000\n",
      "Recall: 0.94529148\n",
      "Precision: 0.87922884\n",
      "F1 Score: 0.91106416\n",
      "Classification Report:\n",
      "               precision    recall  f1-score   support\n",
      "\n",
      "         0.0       0.94      0.87      0.90      9965\n",
      "         1.0       0.88      0.95      0.91     10035\n",
      "\n",
      "    accuracy                           0.91     20000\n",
      "   macro avg       0.91      0.91      0.91     20000\n",
      "weighted avg       0.91      0.91      0.91     20000\n",
      "\n",
      "Mean Squared Error: 0.09260000\n",
      "\n",
      "ROC data saved to eFEX_50000_entries_iso_eqTrue\\roc\\roc_iso_PassiveAggressiveClassifier.json\n",
      "Precision-Recall data saved to eFEX_50000_entries_iso_eqTrue\\precision_recall\\precision_recall_iso_PassiveAggressiveClassifier.json\n",
      "Efficiency vs Electron PT data saved to eFEX_50000_entries_iso_eqTrue\\efficiency_vs_ele_pt\\efficiency_vs_ele_pt_iso_PassiveAggressiveClassifier.json\n",
      "Training Perceptron...\n",
      "Took: 0.03090214729309082 seconds\n",
      "predicting...\n",
      "Took: 0.0 seconds\n",
      "Index(['offline_ele_pt', 'EventNumber', 'Label', 'pred'], dtype='object')\n"
     ]
    },
    {
     "name": "stderr",
     "output_type": "stream",
     "text": [
      "\n",
      "\n",
      "\u001b[A\u001b[A"
     ]
    },
    {
     "name": "stdout",
     "output_type": "stream",
     "text": [
      "rate: 102.94064655616184\n",
      "\n",
      "\n",
      "Evaluation of Perceptron\n",
      "Confusion Matrix:\n",
      " [[7918 2047]\n",
      " [  70 9965]]\n",
      "Accuracy: 0.89415000\n",
      "Recall: 0.99302441\n",
      "Precision: 0.82958708\n",
      "F1 Score: 0.90397787\n",
      "Classification Report:\n",
      "               precision    recall  f1-score   support\n",
      "\n",
      "         0.0       0.99      0.79      0.88      9965\n",
      "         1.0       0.83      0.99      0.90     10035\n",
      "\n",
      "    accuracy                           0.89     20000\n",
      "   macro avg       0.91      0.89      0.89     20000\n",
      "weighted avg       0.91      0.89      0.89     20000\n",
      "\n",
      "Mean Squared Error: 0.10585000\n",
      "\n",
      "ROC data saved to eFEX_50000_entries_iso_eqTrue\\roc\\roc_iso_Perceptron.json\n",
      "Precision-Recall data saved to eFEX_50000_entries_iso_eqTrue\\precision_recall\\precision_recall_iso_Perceptron.json\n",
      "Efficiency vs Electron PT data saved to eFEX_50000_entries_iso_eqTrue\\efficiency_vs_ele_pt\\efficiency_vs_ele_pt_iso_Perceptron.json\n",
      "Training QuadraticDiscriminantAnalysis...\n",
      "Took: 0.019707441329956055 seconds\n",
      "predicting...\n",
      "Took: 0.002935171127319336 seconds\n",
      "Index(['offline_ele_pt', 'EventNumber', 'Label', 'pred'], dtype='object')\n"
     ]
    },
    {
     "name": "stderr",
     "output_type": "stream",
     "text": [
      "\n",
      "\n",
      "\u001b[A\u001b[A"
     ]
    },
    {
     "name": "stdout",
     "output_type": "stream",
     "text": [
      "rate: 86.21373417069906\n",
      "\n",
      "\n",
      "Evaluation of QuadraticDiscriminantAnalysis\n",
      "Confusion Matrix:\n",
      " [[8454 1511]\n",
      " [ 345 9690]]\n",
      "Accuracy: 0.90720000\n",
      "Recall: 0.96562033\n",
      "Precision: 0.86510133\n",
      "F1 Score: 0.91260124\n",
      "Classification Report:\n",
      "               precision    recall  f1-score   support\n",
      "\n",
      "         0.0       0.96      0.85      0.90      9965\n",
      "         1.0       0.87      0.97      0.91     10035\n",
      "\n",
      "    accuracy                           0.91     20000\n",
      "   macro avg       0.91      0.91      0.91     20000\n",
      "weighted avg       0.91      0.91      0.91     20000\n",
      "\n",
      "Mean Squared Error: 0.09280000\n",
      "\n",
      "ROC data saved to eFEX_50000_entries_iso_eqTrue\\roc\\roc_iso_QuadraticDiscriminantAnalysis.json\n",
      "Precision-Recall data saved to eFEX_50000_entries_iso_eqTrue\\precision_recall\\precision_recall_iso_QuadraticDiscriminantAnalysis.json\n",
      "Efficiency vs Electron PT data saved to eFEX_50000_entries_iso_eqTrue\\efficiency_vs_ele_pt\\efficiency_vs_ele_pt_iso_QuadraticDiscriminantAnalysis.json\n",
      "Training RadiusNeighborsClassifier...\n",
      "Took: 0.12602543830871582 seconds\n",
      "predicting...\n"
     ]
    },
    {
     "name": "stderr",
     "output_type": "stream",
     "text": [
      "\n",
      "\n",
      "\u001b[A\u001b[A"
     ]
    },
    {
     "name": "stdout",
     "output_type": "stream",
     "text": [
      "Could not train or predict with RadiusNeighborsClassifier: No neighbors found for test samples array([    0,     1,     4, ..., 19992, 19993, 19998]), you can try using larger radius, giving a label for outliers, or considering removing them from your dataset.\n",
      "Training RandomForestClassifier...\n",
      "Took: 7.2081146240234375 seconds\n",
      "predicting...\n",
      "Took: 0.1995227336883545 seconds\n",
      "Index(['offline_ele_pt', 'EventNumber', 'Label', 'pred'], dtype='object')\n",
      "rate: 60.889580973952434\n",
      "\n",
      "\n",
      "Evaluation of RandomForestClassifier\n",
      "Confusion Matrix:\n",
      " [[8876 1089]\n",
      " [ 408 9627]]\n",
      "Accuracy: 0.92515000\n",
      "Recall: 0.95934230\n",
      "Precision: 0.89837626\n",
      "F1 Score: 0.92785890\n",
      "Classification Report:\n",
      "               precision    recall  f1-score   support\n",
      "\n",
      "         0.0       0.96      0.89      0.92      9965\n",
      "         1.0       0.90      0.96      0.93     10035\n",
      "\n",
      "    accuracy                           0.93     20000\n",
      "   macro avg       0.93      0.93      0.93     20000\n",
      "weighted avg       0.93      0.93      0.93     20000\n",
      "\n",
      "Mean Squared Error: 0.07485000\n",
      "\n",
      "ROC data saved to eFEX_50000_entries_iso_eqTrue\\roc\\roc_iso_RandomForestClassifier.json\n"
     ]
    },
    {
     "name": "stderr",
     "output_type": "stream",
     "text": [
      "\n",
      "\n",
      "\u001b[A\u001b[A"
     ]
    },
    {
     "name": "stdout",
     "output_type": "stream",
     "text": [
      "Precision-Recall data saved to eFEX_50000_entries_iso_eqTrue\\precision_recall\\precision_recall_iso_RandomForestClassifier.json\n",
      "Efficiency vs Electron PT data saved to eFEX_50000_entries_iso_eqTrue\\efficiency_vs_ele_pt\\efficiency_vs_ele_pt_iso_RandomForestClassifier.json\n",
      "Training RidgeClassifier...\n",
      "Took: 0.017844200134277344 seconds\n",
      "predicting...\n",
      "Took: 0.0 seconds\n",
      "Index(['offline_ele_pt', 'EventNumber', 'Label', 'pred'], dtype='object')\n"
     ]
    },
    {
     "name": "stderr",
     "output_type": "stream",
     "text": [
      "\n",
      "\n",
      "\u001b[A\u001b[A"
     ]
    },
    {
     "name": "stdout",
     "output_type": "stream",
     "text": [
      "rate: 157.16359518171524\n",
      "\n",
      "\n",
      "Evaluation of RidgeClassifier\n",
      "Confusion Matrix:\n",
      " [[6656 3309]\n",
      " [ 265 9770]]\n",
      "Accuracy: 0.82130000\n",
      "Recall: 0.97359243\n",
      "Precision: 0.74699901\n",
      "F1 Score: 0.84537510\n",
      "Classification Report:\n",
      "               precision    recall  f1-score   support\n",
      "\n",
      "         0.0       0.96      0.67      0.79      9965\n",
      "         1.0       0.75      0.97      0.85     10035\n",
      "\n",
      "    accuracy                           0.82     20000\n",
      "   macro avg       0.85      0.82      0.82     20000\n",
      "weighted avg       0.85      0.82      0.82     20000\n",
      "\n",
      "Mean Squared Error: 0.17870000\n",
      "\n",
      "ROC data saved to eFEX_50000_entries_iso_eqTrue\\roc\\roc_iso_RidgeClassifier.json\n",
      "Precision-Recall data saved to eFEX_50000_entries_iso_eqTrue\\precision_recall\\precision_recall_iso_RidgeClassifier.json\n",
      "Efficiency vs Electron PT data saved to eFEX_50000_entries_iso_eqTrue\\efficiency_vs_ele_pt\\efficiency_vs_ele_pt_iso_RidgeClassifier.json\n",
      "Training RidgeClassifierCV...\n",
      "Took: 0.04480242729187012 seconds\n",
      "predicting...\n",
      "Took: 0.0 seconds\n",
      "Index(['offline_ele_pt', 'EventNumber', 'Label', 'pred'], dtype='object')\n"
     ]
    },
    {
     "name": "stderr",
     "output_type": "stream",
     "text": [
      "\n",
      "\n",
      "\u001b[A\u001b[A"
     ]
    },
    {
     "name": "stdout",
     "output_type": "stream",
     "text": [
      "rate: 157.16359518171524\n",
      "\n",
      "\n",
      "Evaluation of RidgeClassifierCV\n",
      "Confusion Matrix:\n",
      " [[6656 3309]\n",
      " [ 265 9770]]\n",
      "Accuracy: 0.82130000\n",
      "Recall: 0.97359243\n",
      "Precision: 0.74699901\n",
      "F1 Score: 0.84537510\n",
      "Classification Report:\n",
      "               precision    recall  f1-score   support\n",
      "\n",
      "         0.0       0.96      0.67      0.79      9965\n",
      "         1.0       0.75      0.97      0.85     10035\n",
      "\n",
      "    accuracy                           0.82     20000\n",
      "   macro avg       0.85      0.82      0.82     20000\n",
      "weighted avg       0.85      0.82      0.82     20000\n",
      "\n",
      "Mean Squared Error: 0.17870000\n",
      "\n",
      "ROC data saved to eFEX_50000_entries_iso_eqTrue\\roc\\roc_iso_RidgeClassifierCV.json\n",
      "Precision-Recall data saved to eFEX_50000_entries_iso_eqTrue\\precision_recall\\precision_recall_iso_RidgeClassifierCV.json\n",
      "Efficiency vs Electron PT data saved to eFEX_50000_entries_iso_eqTrue\\efficiency_vs_ele_pt\\efficiency_vs_ele_pt_iso_RidgeClassifierCV.json\n",
      "Training SGDClassifier...\n",
      "Took: 0.5001575946807861 seconds\n",
      "predicting...\n",
      "Took: 0.0009791851043701172 seconds\n",
      "Index(['offline_ele_pt', 'EventNumber', 'Label', 'pred'], dtype='object')\n",
      "rate: 94.62998043858747\n",
      "\n",
      "\n",
      "Evaluation of SGDClassifier\n",
      "Confusion Matrix:\n",
      " [[8176 1789]\n",
      " [ 100 9935]]\n",
      "Accuracy: 0.90555000\n",
      "Recall: 0.99003488\n",
      "Precision: 0.84740703\n",
      "F1 Score: 0.91318535\n",
      "Classification Report:\n",
      "               precision    recall  f1-score   support\n",
      "\n",
      "         0.0       0.99      0.82      0.90      9965\n",
      "         1.0       0.85      0.99      0.91     10035\n",
      "\n",
      "    accuracy                           0.91     20000\n",
      "   macro avg       0.92      0.91      0.90     20000\n",
      "weighted avg       0.92      0.91      0.90     20000\n",
      "\n",
      "Mean Squared Error: 0.09445000\n",
      "\n",
      "ROC data saved to eFEX_50000_entries_iso_eqTrue\\roc\\roc_iso_SGDClassifier.json\n",
      "Precision-Recall data saved to eFEX_50000_entries_iso_eqTrue\\precision_recall\\precision_recall_iso_SGDClassifier.json\n"
     ]
    },
    {
     "name": "stderr",
     "output_type": "stream",
     "text": [
      "\n",
      "\n",
      "\u001b[A\u001b[A"
     ]
    },
    {
     "name": "stdout",
     "output_type": "stream",
     "text": [
      "Efficiency vs Electron PT data saved to eFEX_50000_entries_iso_eqTrue\\efficiency_vs_ele_pt\\efficiency_vs_ele_pt_iso_SGDClassifier.json\n",
      "Training SVC...\n",
      "Took: 35.130860805511475 seconds\n",
      "predicting...\n",
      "Took: 17.687110662460327 seconds\n",
      "Index(['offline_ele_pt', 'EventNumber', 'Label', 'pred'], dtype='object')\n",
      "rate: 76.48527746319365\n",
      "\n",
      "\n",
      "Evaluation of SVC\n",
      "Confusion Matrix:\n",
      " [[8633 1332]\n",
      " [ 200 9835]]\n",
      "Accuracy: 0.92340000\n",
      "Recall: 0.98006976\n",
      "Precision: 0.88071998\n",
      "F1 Score: 0.92774267\n",
      "Classification Report:\n",
      "               precision    recall  f1-score   support\n",
      "\n",
      "         0.0       0.98      0.87      0.92      9965\n",
      "         1.0       0.88      0.98      0.93     10035\n",
      "\n",
      "    accuracy                           0.92     20000\n",
      "   macro avg       0.93      0.92      0.92     20000\n",
      "weighted avg       0.93      0.92      0.92     20000\n",
      "\n",
      "Mean Squared Error: 0.07660000\n",
      "\n",
      "ROC data saved to eFEX_50000_entries_iso_eqTrue\\roc\\roc_iso_SVC.json\n"
     ]
    },
    {
     "name": "stderr",
     "output_type": "stream",
     "text": [
      "\n",
      "\n",
      "\u001b[A\u001b[A"
     ]
    },
    {
     "name": "stdout",
     "output_type": "stream",
     "text": [
      "Precision-Recall data saved to eFEX_50000_entries_iso_eqTrue\\precision_recall\\precision_recall_iso_SVC.json\n",
      "Efficiency vs Electron PT data saved to eFEX_50000_entries_iso_eqTrue\\efficiency_vs_ele_pt\\efficiency_vs_ele_pt_iso_SVC.json\n",
      "Training TunedThresholdClassifierCV...\n",
      "Took: 2.8727893829345703 seconds\n",
      "predicting...\n",
      "Took: 0.0009984970092773438 seconds\n",
      "Index(['offline_ele_pt', 'EventNumber', 'Label', 'pred'], dtype='object')\n"
     ]
    },
    {
     "name": "stderr",
     "output_type": "stream",
     "text": [
      "\n",
      "\n",
      "\u001b[A\u001b[A"
     ]
    },
    {
     "name": "stdout",
     "output_type": "stream",
     "text": [
      "rate: 75.4747245959024\n",
      "\n",
      "\n",
      "Evaluation of TunedThresholdClassifierCV\n",
      "Confusion Matrix:\n",
      " [[8628 1337]\n",
      " [ 333 9702]]\n",
      "Accuracy: 0.91650000\n",
      "Recall: 0.96681614\n",
      "Precision: 0.87888396\n",
      "F1 Score: 0.92075543\n",
      "Classification Report:\n",
      "               precision    recall  f1-score   support\n",
      "\n",
      "         0.0       0.96      0.87      0.91      9965\n",
      "         1.0       0.88      0.97      0.92     10035\n",
      "\n",
      "    accuracy                           0.92     20000\n",
      "   macro avg       0.92      0.92      0.92     20000\n",
      "weighted avg       0.92      0.92      0.92     20000\n",
      "\n",
      "Mean Squared Error: 0.08350000\n",
      "\n",
      "ROC data saved to eFEX_50000_entries_iso_eqTrue\\roc\\roc_iso_TunedThresholdClassifierCV.json\n",
      "Precision-Recall data saved to eFEX_50000_entries_iso_eqTrue\\precision_recall\\precision_recall_iso_TunedThresholdClassifierCV.json\n",
      "Efficiency vs Electron PT data saved to eFEX_50000_entries_iso_eqTrue\\efficiency_vs_ele_pt\\efficiency_vs_ele_pt_iso_TunedThresholdClassifierCV.json\n",
      "Training VotingClassifier...\n",
      "Took: 7.434562921524048 seconds\n",
      "predicting...\n",
      "Took: 0.2595551013946533 seconds\n",
      "Index(['offline_ele_pt', 'EventNumber', 'Label', 'pred'], dtype='object')\n"
     ]
    },
    {
     "name": "stderr",
     "output_type": "stream",
     "text": [
      "\n",
      "\n",
      "\u001b[A\u001b[A"
     ]
    },
    {
     "name": "stdout",
     "output_type": "stream",
     "text": [
      "rate: 58.50648615257902\n",
      "\n",
      "\n",
      "Evaluation of VotingClassifier\n",
      "Confusion Matrix:\n",
      " [[8943 1022]\n",
      " [ 561 9474]]\n",
      "Accuracy: 0.92085000\n",
      "Recall: 0.94409567\n",
      "Precision: 0.90262957\n",
      "F1 Score: 0.92289708\n",
      "Classification Report:\n",
      "               precision    recall  f1-score   support\n",
      "\n",
      "         0.0       0.94      0.90      0.92      9965\n",
      "         1.0       0.90      0.94      0.92     10035\n",
      "\n",
      "    accuracy                           0.92     20000\n",
      "   macro avg       0.92      0.92      0.92     20000\n",
      "weighted avg       0.92      0.92      0.92     20000\n",
      "\n",
      "Mean Squared Error: 0.07915000\n",
      "\n",
      "Failed ROC computation for VotingClassifier: Model must have either a decision_function or predict_proba method.\n",
      "Failed Precision-Recall computation for VotingClassifier: Model must have either a decision_function or predict_proba method.\n",
      "Efficiency vs Electron PT data saved to eFEX_50000_entries_iso_eqTrue\\efficiency_vs_ele_pt\\efficiency_vs_ele_pt_iso_VotingClassifier.json\n",
      "Training XGBClassifier...\n",
      "Took: 0.15762567520141602 seconds\n",
      "predicting...\n",
      "Took: 0.006976604461669922 seconds\n",
      "Index(['offline_ele_pt', 'EventNumber', 'Label', 'pred'], dtype='object')\n"
     ]
    },
    {
     "name": "stderr",
     "output_type": "stream",
     "text": [
      "\n",
      "\n",
      "100%|██████████| 43/43 [1:35:15<00:00, 132.91s/it]\n",
      "\n",
      "100%|██████████| 1/1 [1:35:21<00:00, 5721.15s/it]\n",
      "100%|██████████| 3/3 [3:01:59<00:00, 3639.77s/it]\n",
      "100%|██████████| 1/1 [3:01:59<00:00, 10919.30s/it]"
     ]
    },
    {
     "name": "stdout",
     "output_type": "stream",
     "text": [
      "rate: 61.824719448162256\n",
      "\n",
      "\n",
      "Evaluation of XGBClassifier\n",
      "Confusion Matrix:\n",
      " [[8878 1087]\n",
      " [ 373 9662]]\n",
      "Accuracy: 0.92700000\n",
      "Recall: 0.96283009\n",
      "Precision: 0.89887431\n",
      "F1 Score: 0.92975366\n",
      "Classification Report:\n",
      "               precision    recall  f1-score   support\n",
      "\n",
      "         0.0       0.96      0.89      0.92      9965\n",
      "         1.0       0.90      0.96      0.93     10035\n",
      "\n",
      "    accuracy                           0.93     20000\n",
      "   macro avg       0.93      0.93      0.93     20000\n",
      "weighted avg       0.93      0.93      0.93     20000\n",
      "\n",
      "Mean Squared Error: 0.07300000\n",
      "\n",
      "ROC data saved to eFEX_50000_entries_iso_eqTrue\\roc\\roc_iso_XGBClassifier.json\n",
      "Precision-Recall data saved to eFEX_50000_entries_iso_eqTrue\\precision_recall\\precision_recall_iso_XGBClassifier.json\n",
      "Efficiency vs Electron PT data saved to eFEX_50000_entries_iso_eqTrue\\efficiency_vs_ele_pt\\efficiency_vs_ele_pt_iso_XGBClassifier.json\n",
      "Results saved to eFEX_50000_entries_iso_eqTrue/eFEX_50000_entries_iso_eqTrue_iso_all.csv\n"
     ]
    },
    {
     "name": "stderr",
     "output_type": "stream",
     "text": [
      "\n"
     ]
    },
    {
     "data": {
      "text/plain": [
       "<Figure size 640x480 with 0 Axes>"
      ]
     },
     "metadata": {},
     "output_type": "display_data"
    }
   ],
   "source": [
    "\n",
    "for i in tqdm(range(len(data_subdir))):\n",
    "    for j in tqdm(range(len(description))):\n",
    "        for k in tqdm(range(len(equalised))):\n",
    "            id = f\"{data_subdir[i]}_{description[j]}_eq{equalised[k]}\"\n",
    "            ZB_rate_estimate_id = f\"ZB_rate_estimation_{description[j]}\"\n",
    "            X_train, X_test, y_train, y_test, pd_passthrough_train, pd_passthrough_test = prepare_data(accept_data_filename = accept_data_filename[i], reject_data_filename = reject_data_filename[i], data_subdir = id, format_mode = format_mode[j], get_pT=True, equalised=equalised[k], max_entries=max_entries)\n",
    "            ZB_X_test, ZB_pd_passthrough_test = prepare_data(accept_data_filename=\"l1calo_hist_ZB_EN.root\",reject_data_filename=\"l1calo_hist_ZB_EN.root\",data_subdir=ZB_rate_estimate_id, format_mode=format_mode[j], rate_estimation=True)\n",
    "            results = train_evaluate_all_classifiers(binary_classifiers, X_train, X_test, y_train, y_test, pd_passthrough_train, pd_passthrough_test, description[j], id, ZB_X_test, ZB_pd_passthrough_test)\n"
   ]
  }
 ],
 "metadata": {
  "kernelspec": {
   "display_name": "Python 3",
   "language": "python",
   "name": "python3"
  },
  "language_info": {
   "codemirror_mode": {
    "name": "ipython",
    "version": 3
   },
   "file_extension": ".py",
   "mimetype": "text/x-python",
   "name": "python",
   "nbconvert_exporter": "python",
   "pygments_lexer": "ipython3",
   "version": "3.12.7"
  }
 },
 "nbformat": 4,
 "nbformat_minor": 2
}
