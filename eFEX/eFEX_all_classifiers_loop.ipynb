{
 "cells": [
  {
   "cell_type": "code",
   "execution_count": 1,
   "metadata": {},
   "outputs": [
    {
     "name": "stderr",
     "output_type": "stream",
     "text": [
      "C:\\Users\\tymch\\AppData\\Local\\Packages\\PythonSoftwareFoundation.Python.3.11_qbz5n2kfra8p0\\LocalCache\\local-packages\\Python311\\site-packages\\tqdm\\auto.py:21: TqdmWarning: IProgress not found. Please update jupyter and ipywidgets. See https://ipywidgets.readthedocs.io/en/stable/user_install.html\n",
      "  from .autonotebook import tqdm as notebook_tqdm\n"
     ]
    },
    {
     "name": "stdout",
     "output_type": "stream",
     "text": [
      "Imported 43 binary classifiers:\n",
      "['AdaBoostClassifier', 'BaggingClassifier', 'BernoulliNB', 'CalibratedClassifierCV', 'CategoricalNB', 'ClassifierChain', 'ComplementNB', 'DecisionTreeClassifier', 'DummyClassifier', 'ExtraTreeClassifier', 'ExtraTreesClassifier', 'FixedThresholdClassifier', 'GaussianNB', 'GaussianProcessClassifier', 'GradientBoostingClassifier', 'HistGradientBoostingClassifier', 'KNeighborsClassifier', 'LabelPropagation', 'LabelSpreading', 'LinearDiscriminantAnalysis', 'LinearSVC', 'LogisticRegression', 'LogisticRegressionCV', 'MLPClassifier', 'MultiOutputClassifier', 'MultinomialNB', 'NearestCentroid', 'NuSVC', 'OneVsOneClassifier', 'OneVsRestClassifier', 'OutputCodeClassifier', 'PassiveAggressiveClassifier', 'Perceptron', 'QuadraticDiscriminantAnalysis', 'RadiusNeighborsClassifier', 'RandomForestClassifier', 'RidgeClassifier', 'RidgeClassifierCV', 'SGDClassifier', 'SVC', 'TunedThresholdClassifierCV', 'VotingClassifier', 'XGBClassifier']\n"
     ]
    }
   ],
   "source": [
    "import sys\n",
    "import os\n",
    "\n",
    "parent_dir = os.path.dirname(os.getcwd())\n",
    "sys.path.append(parent_dir)\n",
    "\n",
    "from utilities_new import *\n",
    "\n",
    "description = [\"99_supercells\", \"88_reduced\", \"iso\"]\n",
    "data_subdir = [\"ZMUMU_EGZ_extended_eFEX\", \"eFEX_with_newest_Topo_files\"]\n",
    "accept_data_filename = [\"l1calo_hist_EGZ_extended.root\", \"l1calo_topocluster_test_Zee.root\"]\n",
    "reject_data_filename = [\"l1calo_hist_ZMUMU_extended.root\", \"ZMUMU_TopoCluster_Supercell_Large.root\"]\n",
    "format_mode = [\"SuperCell_ET\", \"reduced_SuperCell_ET\", \"iso_vars\"]\n",
    "\n",
    "binary_classifiers = import_all_classifiers()\n"
   ]
  },
  {
   "cell_type": "code",
   "execution_count": 2,
   "metadata": {},
   "outputs": [
    {
     "name": "stderr",
     "output_type": "stream",
     "text": [
      "  0%|          | 0/2 [00:00<?, ?it/s]"
     ]
    },
    {
     "name": "stdout",
     "output_type": "stream",
     "text": [
      "Log saved to ..\\data\\ZMUMU_EGZ_extended_eFEX_99_supercells\\log.json\n",
      "preprepared data in ..\\data\\ZMUMU_EGZ_extended_eFEX_99_supercells is missing, preparing and saving here\n",
      "running sup\n",
      "found data preparation log in ..\\data\\ZMUMU_EGZ_extended_eFEX_99_supercells\\log.json\n",
      "Log saved to ZMUMU_EGZ_extended_eFEX_99_supercells\\log.json\n"
     ]
    },
    {
     "name": "stderr",
     "output_type": "stream",
     "text": [
      "\n",
      "\u001b[AC:\\Users\\tymch\\AppData\\Local\\Packages\\PythonSoftwareFoundation.Python.3.11_qbz5n2kfra8p0\\LocalCache\\local-packages\\Python311\\site-packages\\sklearn\\ensemble\\_weight_boosting.py:527: FutureWarning: The SAMME.R algorithm (the default) is deprecated and will be removed in 1.6. Use the SAMME algorithm to circumvent this warning.\n",
      "  warnings.warn(\n"
     ]
    },
    {
     "name": "stdout",
     "output_type": "stream",
     "text": [
      "\n",
      "\n",
      "Evaluation of AdaBoostClassifier\n",
      "Confusion Matrix:\n",
      " [[27143  1467]\n",
      " [ 1873 15699]]\n",
      "Accuracy: 0.92767745\n",
      "Recall: 0.89340997\n",
      "Precision: 0.91454037\n",
      "F1 Score: 0.90385169\n",
      "Classification Report:\n",
      "               precision    recall  f1-score   support\n",
      "\n",
      "         0.0       0.94      0.95      0.94     28610\n",
      "         1.0       0.91      0.89      0.90     17572\n",
      "\n",
      "    accuracy                           0.93     46182\n",
      "   macro avg       0.92      0.92      0.92     46182\n",
      "weighted avg       0.93      0.93      0.93     46182\n",
      "\n",
      "Mean Squared Error: 0.07232255\n",
      "\n",
      "ROC data saved to ZMUMU_EGZ_extended_eFEX_99_supercells\\roc\\roc_99_supercells_AdaBoostClassifier.json\n",
      "Precision-Recall data saved to ZMUMU_EGZ_extended_eFEX_99_supercells\\precision_recall\\precision_recall_99_supercells_AdaBoostClassifier.json\n",
      "Efficiency vs Electron PT data saved to ZMUMU_EGZ_extended_eFEX_99_supercells\\efficiency_vs_ele_pt\\efficiency_vs_ele_pt_99_supercells_AdaBoostClassifier.json\n"
     ]
    },
    {
     "name": "stderr",
     "output_type": "stream",
     "text": [
      "\n",
      "\u001b[A"
     ]
    },
    {
     "name": "stdout",
     "output_type": "stream",
     "text": [
      "\n",
      "\n",
      "Evaluation of BaggingClassifier\n",
      "Confusion Matrix:\n",
      " [[27458  1152]\n",
      " [  859 16713]]\n",
      "Accuracy: 0.95645490\n",
      "Recall: 0.95111541\n",
      "Precision: 0.93551637\n",
      "F1 Score: 0.94325140\n",
      "Classification Report:\n",
      "               precision    recall  f1-score   support\n",
      "\n",
      "         0.0       0.97      0.96      0.96     28610\n",
      "         1.0       0.94      0.95      0.94     17572\n",
      "\n",
      "    accuracy                           0.96     46182\n",
      "   macro avg       0.95      0.96      0.95     46182\n",
      "weighted avg       0.96      0.96      0.96     46182\n",
      "\n",
      "Mean Squared Error: 0.04354510\n",
      "\n",
      "ROC data saved to ZMUMU_EGZ_extended_eFEX_99_supercells\\roc\\roc_99_supercells_BaggingClassifier.json\n",
      "Precision-Recall data saved to ZMUMU_EGZ_extended_eFEX_99_supercells\\precision_recall\\precision_recall_99_supercells_BaggingClassifier.json\n"
     ]
    },
    {
     "name": "stderr",
     "output_type": "stream",
     "text": [
      "\n",
      "\u001b[A"
     ]
    },
    {
     "name": "stdout",
     "output_type": "stream",
     "text": [
      "Efficiency vs Electron PT data saved to ZMUMU_EGZ_extended_eFEX_99_supercells\\efficiency_vs_ele_pt\\efficiency_vs_ele_pt_99_supercells_BaggingClassifier.json\n",
      "\n",
      "\n",
      "Evaluation of BernoulliNB\n",
      "Confusion Matrix:\n",
      " [[16632 11978]\n",
      " [ 1204 16368]]\n",
      "Accuracy: 0.71456412\n",
      "Recall: 0.93148190\n",
      "Precision: 0.57743597\n",
      "F1 Score: 0.71292304\n",
      "Classification Report:\n",
      "               precision    recall  f1-score   support\n",
      "\n",
      "         0.0       0.93      0.58      0.72     28610\n",
      "         1.0       0.58      0.93      0.71     17572\n",
      "\n",
      "    accuracy                           0.71     46182\n",
      "   macro avg       0.75      0.76      0.71     46182\n",
      "weighted avg       0.80      0.71      0.71     46182\n",
      "\n",
      "Mean Squared Error: 0.28543588\n",
      "\n",
      "ROC data saved to ZMUMU_EGZ_extended_eFEX_99_supercells\\roc\\roc_99_supercells_BernoulliNB.json\n"
     ]
    },
    {
     "name": "stderr",
     "output_type": "stream",
     "text": [
      "\n",
      "\u001b[A"
     ]
    },
    {
     "name": "stdout",
     "output_type": "stream",
     "text": [
      "Precision-Recall data saved to ZMUMU_EGZ_extended_eFEX_99_supercells\\precision_recall\\precision_recall_99_supercells_BernoulliNB.json\n",
      "Efficiency vs Electron PT data saved to ZMUMU_EGZ_extended_eFEX_99_supercells\\efficiency_vs_ele_pt\\efficiency_vs_ele_pt_99_supercells_BernoulliNB.json\n",
      "\n",
      "\n",
      "Evaluation of CalibratedClassifierCV\n",
      "Confusion Matrix:\n",
      " [[26967  1643]\n",
      " [ 1082 16490]]\n",
      "Accuracy: 0.94099433\n",
      "Recall: 0.93842477\n",
      "Precision: 0.90939172\n",
      "F1 Score: 0.92368016\n",
      "Classification Report:\n",
      "               precision    recall  f1-score   support\n",
      "\n",
      "         0.0       0.96      0.94      0.95     28610\n",
      "         1.0       0.91      0.94      0.92     17572\n",
      "\n",
      "    accuracy                           0.94     46182\n",
      "   macro avg       0.94      0.94      0.94     46182\n",
      "weighted avg       0.94      0.94      0.94     46182\n",
      "\n",
      "Mean Squared Error: 0.05900567\n",
      "\n",
      "ROC data saved to ZMUMU_EGZ_extended_eFEX_99_supercells\\roc\\roc_99_supercells_CalibratedClassifierCV.json\n"
     ]
    },
    {
     "name": "stderr",
     "output_type": "stream",
     "text": [
      "\n",
      "\u001b[A"
     ]
    },
    {
     "name": "stdout",
     "output_type": "stream",
     "text": [
      "Precision-Recall data saved to ZMUMU_EGZ_extended_eFEX_99_supercells\\precision_recall\\precision_recall_99_supercells_CalibratedClassifierCV.json\n",
      "Efficiency vs Electron PT data saved to ZMUMU_EGZ_extended_eFEX_99_supercells\\efficiency_vs_ele_pt\\efficiency_vs_ele_pt_99_supercells_CalibratedClassifierCV.json\n"
     ]
    },
    {
     "name": "stderr",
     "output_type": "stream",
     "text": [
      "\n",
      "\u001b[A"
     ]
    },
    {
     "name": "stdout",
     "output_type": "stream",
     "text": [
      "Could not train or predict with CategoricalNB: index 92 is out of bounds for axis 1 with size 30\n",
      "Could not train or predict with ClassifierChain: tuple index out of range\n",
      "\n",
      "\n",
      "Evaluation of ComplementNB\n",
      "Confusion Matrix:\n",
      " [[18389 10221]\n",
      " [  358 17214]]\n",
      "Accuracy: 0.77092807\n",
      "Recall: 0.97962668\n",
      "Precision: 0.62744669\n",
      "F1 Score: 0.76494767\n",
      "Classification Report:\n",
      "               precision    recall  f1-score   support\n",
      "\n",
      "         0.0       0.98      0.64      0.78     28610\n",
      "         1.0       0.63      0.98      0.76     17572\n",
      "\n",
      "    accuracy                           0.77     46182\n",
      "   macro avg       0.80      0.81      0.77     46182\n",
      "weighted avg       0.85      0.77      0.77     46182\n",
      "\n",
      "Mean Squared Error: 0.22907193\n",
      "\n",
      "ROC data saved to ZMUMU_EGZ_extended_eFEX_99_supercells\\roc\\roc_99_supercells_ComplementNB.json\n"
     ]
    },
    {
     "name": "stderr",
     "output_type": "stream",
     "text": [
      "\n",
      "\u001b[A"
     ]
    },
    {
     "name": "stdout",
     "output_type": "stream",
     "text": [
      "Precision-Recall data saved to ZMUMU_EGZ_extended_eFEX_99_supercells\\precision_recall\\precision_recall_99_supercells_ComplementNB.json\n",
      "Efficiency vs Electron PT data saved to ZMUMU_EGZ_extended_eFEX_99_supercells\\efficiency_vs_ele_pt\\efficiency_vs_ele_pt_99_supercells_ComplementNB.json\n"
     ]
    },
    {
     "name": "stderr",
     "output_type": "stream",
     "text": [
      "\n",
      "\u001b[A"
     ]
    },
    {
     "name": "stdout",
     "output_type": "stream",
     "text": [
      "\n",
      "\n",
      "Evaluation of DecisionTreeClassifier\n",
      "Confusion Matrix:\n",
      " [[27002  1608]\n",
      " [ 1419 16153]]\n",
      "Accuracy: 0.93445498\n",
      "Recall: 0.91924653\n",
      "Precision: 0.90946456\n",
      "F1 Score: 0.91432938\n",
      "Classification Report:\n",
      "               precision    recall  f1-score   support\n",
      "\n",
      "         0.0       0.95      0.94      0.95     28610\n",
      "         1.0       0.91      0.92      0.91     17572\n",
      "\n",
      "    accuracy                           0.93     46182\n",
      "   macro avg       0.93      0.93      0.93     46182\n",
      "weighted avg       0.93      0.93      0.93     46182\n",
      "\n",
      "Mean Squared Error: 0.06554502\n",
      "\n",
      "ROC data saved to ZMUMU_EGZ_extended_eFEX_99_supercells\\roc\\roc_99_supercells_DecisionTreeClassifier.json\n",
      "Precision-Recall data saved to ZMUMU_EGZ_extended_eFEX_99_supercells\\precision_recall\\precision_recall_99_supercells_DecisionTreeClassifier.json\n",
      "Efficiency vs Electron PT data saved to ZMUMU_EGZ_extended_eFEX_99_supercells\\efficiency_vs_ele_pt\\efficiency_vs_ele_pt_99_supercells_DecisionTreeClassifier.json\n",
      "\n",
      "\n",
      "Evaluation of DummyClassifier\n"
     ]
    },
    {
     "name": "stderr",
     "output_type": "stream",
     "text": [
      "C:\\Users\\tymch\\AppData\\Local\\Packages\\PythonSoftwareFoundation.Python.3.11_qbz5n2kfra8p0\\LocalCache\\local-packages\\Python311\\site-packages\\sklearn\\metrics\\_classification.py:1531: UndefinedMetricWarning: Precision is ill-defined and being set to 0.0 due to no predicted samples. Use `zero_division` parameter to control this behavior.\n",
      "  _warn_prf(average, modifier, f\"{metric.capitalize()} is\", len(result))\n",
      "C:\\Users\\tymch\\AppData\\Local\\Packages\\PythonSoftwareFoundation.Python.3.11_qbz5n2kfra8p0\\LocalCache\\local-packages\\Python311\\site-packages\\sklearn\\metrics\\_classification.py:1531: UndefinedMetricWarning: Precision is ill-defined and being set to 0.0 in labels with no predicted samples. Use `zero_division` parameter to control this behavior.\n",
      "  _warn_prf(average, modifier, f\"{metric.capitalize()} is\", len(result))\n",
      "C:\\Users\\tymch\\AppData\\Local\\Packages\\PythonSoftwareFoundation.Python.3.11_qbz5n2kfra8p0\\LocalCache\\local-packages\\Python311\\site-packages\\sklearn\\metrics\\_classification.py:1531: UndefinedMetricWarning: Precision is ill-defined and being set to 0.0 in labels with no predicted samples. Use `zero_division` parameter to control this behavior.\n",
      "  _warn_prf(average, modifier, f\"{metric.capitalize()} is\", len(result))\n",
      "C:\\Users\\tymch\\AppData\\Local\\Packages\\PythonSoftwareFoundation.Python.3.11_qbz5n2kfra8p0\\LocalCache\\local-packages\\Python311\\site-packages\\sklearn\\metrics\\_classification.py:1531: UndefinedMetricWarning: Precision is ill-defined and being set to 0.0 in labels with no predicted samples. Use `zero_division` parameter to control this behavior.\n",
      "  _warn_prf(average, modifier, f\"{metric.capitalize()} is\", len(result))\n",
      "\n",
      "\u001b[A"
     ]
    },
    {
     "name": "stdout",
     "output_type": "stream",
     "text": [
      "Confusion Matrix:\n",
      " [[28610     0]\n",
      " [17572     0]]\n",
      "Accuracy: 0.61950544\n",
      "Recall: 0.00000000\n",
      "Precision: 0.00000000\n",
      "F1 Score: 0.00000000\n",
      "Classification Report:\n",
      "               precision    recall  f1-score   support\n",
      "\n",
      "         0.0       0.62      1.00      0.77     28610\n",
      "         1.0       0.00      0.00      0.00     17572\n",
      "\n",
      "    accuracy                           0.62     46182\n",
      "   macro avg       0.31      0.50      0.38     46182\n",
      "weighted avg       0.38      0.62      0.47     46182\n",
      "\n",
      "Mean Squared Error: 0.38049456\n",
      "\n",
      "ROC data saved to ZMUMU_EGZ_extended_eFEX_99_supercells\\roc\\roc_99_supercells_DummyClassifier.json\n",
      "Precision-Recall data saved to ZMUMU_EGZ_extended_eFEX_99_supercells\\precision_recall\\precision_recall_99_supercells_DummyClassifier.json\n",
      "Efficiency vs Electron PT data saved to ZMUMU_EGZ_extended_eFEX_99_supercells\\efficiency_vs_ele_pt\\efficiency_vs_ele_pt_99_supercells_DummyClassifier.json\n"
     ]
    },
    {
     "name": "stderr",
     "output_type": "stream",
     "text": [
      "\n",
      "\u001b[A"
     ]
    },
    {
     "name": "stdout",
     "output_type": "stream",
     "text": [
      "\n",
      "\n",
      "Evaluation of ExtraTreeClassifier\n",
      "Confusion Matrix:\n",
      " [[26588  2022]\n",
      " [ 1469 16103]]\n",
      "Accuracy: 0.92440778\n",
      "Recall: 0.91640109\n",
      "Precision: 0.88844138\n",
      "F1 Score: 0.90220467\n",
      "Classification Report:\n",
      "               precision    recall  f1-score   support\n",
      "\n",
      "         0.0       0.95      0.93      0.94     28610\n",
      "         1.0       0.89      0.92      0.90     17572\n",
      "\n",
      "    accuracy                           0.92     46182\n",
      "   macro avg       0.92      0.92      0.92     46182\n",
      "weighted avg       0.93      0.92      0.92     46182\n",
      "\n",
      "Mean Squared Error: 0.07559222\n",
      "\n",
      "ROC data saved to ZMUMU_EGZ_extended_eFEX_99_supercells\\roc\\roc_99_supercells_ExtraTreeClassifier.json\n",
      "Precision-Recall data saved to ZMUMU_EGZ_extended_eFEX_99_supercells\\precision_recall\\precision_recall_99_supercells_ExtraTreeClassifier.json\n",
      "Efficiency vs Electron PT data saved to ZMUMU_EGZ_extended_eFEX_99_supercells\\efficiency_vs_ele_pt\\efficiency_vs_ele_pt_99_supercells_ExtraTreeClassifier.json\n",
      "\n",
      "\n",
      "Evaluation of ExtraTreesClassifier\n",
      "Confusion Matrix:\n",
      " [[27475  1135]\n",
      " [  279 17293]]\n",
      "Accuracy: 0.96938201\n",
      "Recall: 0.98412247\n",
      "Precision: 0.93840894\n",
      "F1 Score: 0.96072222\n",
      "Classification Report:\n",
      "               precision    recall  f1-score   support\n",
      "\n",
      "         0.0       0.99      0.96      0.97     28610\n",
      "         1.0       0.94      0.98      0.96     17572\n",
      "\n",
      "    accuracy                           0.97     46182\n",
      "   macro avg       0.96      0.97      0.97     46182\n",
      "weighted avg       0.97      0.97      0.97     46182\n",
      "\n",
      "Mean Squared Error: 0.03061799\n",
      "\n",
      "ROC data saved to ZMUMU_EGZ_extended_eFEX_99_supercells\\roc\\roc_99_supercells_ExtraTreesClassifier.json\n"
     ]
    },
    {
     "name": "stderr",
     "output_type": "stream",
     "text": [
      "\n",
      "\u001b[A"
     ]
    },
    {
     "name": "stdout",
     "output_type": "stream",
     "text": [
      "Precision-Recall data saved to ZMUMU_EGZ_extended_eFEX_99_supercells\\precision_recall\\precision_recall_99_supercells_ExtraTreesClassifier.json\n",
      "Efficiency vs Electron PT data saved to ZMUMU_EGZ_extended_eFEX_99_supercells\\efficiency_vs_ele_pt\\efficiency_vs_ele_pt_99_supercells_ExtraTreesClassifier.json\n"
     ]
    },
    {
     "name": "stderr",
     "output_type": "stream",
     "text": [
      "C:\\Users\\tymch\\AppData\\Local\\Packages\\PythonSoftwareFoundation.Python.3.11_qbz5n2kfra8p0\\LocalCache\\local-packages\\Python311\\site-packages\\sklearn\\linear_model\\_logistic.py:469: ConvergenceWarning: lbfgs failed to converge (status=1):\n",
      "STOP: TOTAL NO. of ITERATIONS REACHED LIMIT.\n",
      "\n",
      "Increase the number of iterations (max_iter) or scale the data as shown in:\n",
      "    https://scikit-learn.org/stable/modules/preprocessing.html\n",
      "Please also refer to the documentation for alternative solver options:\n",
      "    https://scikit-learn.org/stable/modules/linear_model.html#logistic-regression\n",
      "  n_iter_i = _check_optimize_result(\n"
     ]
    },
    {
     "name": "stdout",
     "output_type": "stream",
     "text": [
      "\n",
      "\n",
      "Evaluation of FixedThresholdClassifier\n",
      "Confusion Matrix:\n",
      " [[26979  1631]\n",
      " [ 1078 16494]]\n",
      "Accuracy: 0.94134078\n",
      "Recall: 0.93865240\n",
      "Precision: 0.91001379\n",
      "F1 Score: 0.92411127\n",
      "Classification Report:\n",
      "               precision    recall  f1-score   support\n",
      "\n",
      "         0.0       0.96      0.94      0.95     28610\n",
      "         1.0       0.91      0.94      0.92     17572\n",
      "\n",
      "    accuracy                           0.94     46182\n",
      "   macro avg       0.94      0.94      0.94     46182\n",
      "weighted avg       0.94      0.94      0.94     46182\n",
      "\n",
      "Mean Squared Error: 0.05865922\n",
      "\n",
      "ROC data saved to ZMUMU_EGZ_extended_eFEX_99_supercells\\roc\\roc_99_supercells_FixedThresholdClassifier.json\n",
      "Precision-Recall data saved to ZMUMU_EGZ_extended_eFEX_99_supercells\\precision_recall\\precision_recall_99_supercells_FixedThresholdClassifier.json\n"
     ]
    },
    {
     "name": "stderr",
     "output_type": "stream",
     "text": [
      "\n",
      "\u001b[A"
     ]
    },
    {
     "name": "stdout",
     "output_type": "stream",
     "text": [
      "Efficiency vs Electron PT data saved to ZMUMU_EGZ_extended_eFEX_99_supercells\\efficiency_vs_ele_pt\\efficiency_vs_ele_pt_99_supercells_FixedThresholdClassifier.json\n",
      "\n",
      "\n",
      "Evaluation of GaussianNB\n",
      "Confusion Matrix:\n",
      " [[16231 12379]\n",
      " [  705 16867]]\n",
      "Accuracy: 0.71668615\n",
      "Recall: 0.95987935\n",
      "Precision: 0.57672844\n",
      "F1 Score: 0.72053484\n",
      "Classification Report:\n",
      "               precision    recall  f1-score   support\n",
      "\n",
      "         0.0       0.96      0.57      0.71     28610\n",
      "         1.0       0.58      0.96      0.72     17572\n",
      "\n",
      "    accuracy                           0.72     46182\n",
      "   macro avg       0.77      0.76      0.72     46182\n",
      "weighted avg       0.81      0.72      0.72     46182\n",
      "\n",
      "Mean Squared Error: 0.28331385\n",
      "\n",
      "ROC data saved to ZMUMU_EGZ_extended_eFEX_99_supercells\\roc\\roc_99_supercells_GaussianNB.json\n"
     ]
    },
    {
     "name": "stderr",
     "output_type": "stream",
     "text": [
      "\n",
      "\u001b[A"
     ]
    },
    {
     "name": "stdout",
     "output_type": "stream",
     "text": [
      "Precision-Recall data saved to ZMUMU_EGZ_extended_eFEX_99_supercells\\precision_recall\\precision_recall_99_supercells_GaussianNB.json\n",
      "Efficiency vs Electron PT data saved to ZMUMU_EGZ_extended_eFEX_99_supercells\\efficiency_vs_ele_pt\\efficiency_vs_ele_pt_99_supercells_GaussianNB.json\n",
      "Could not train or predict with GaussianProcessClassifier: Unable to allocate 254. GiB for an array with shape (184728, 184728) and data type float64\n",
      "\n",
      "\n",
      "Evaluation of GradientBoostingClassifier\n",
      "Confusion Matrix:\n",
      " [[27073  1537]\n",
      " [ 1109 16463]]\n",
      "Accuracy: 0.94270495\n",
      "Recall: 0.93688823\n",
      "Precision: 0.91461111\n",
      "F1 Score: 0.92561565\n",
      "Classification Report:\n",
      "               precision    recall  f1-score   support\n",
      "\n",
      "         0.0       0.96      0.95      0.95     28610\n",
      "         1.0       0.91      0.94      0.93     17572\n",
      "\n",
      "    accuracy                           0.94     46182\n",
      "   macro avg       0.94      0.94      0.94     46182\n",
      "weighted avg       0.94      0.94      0.94     46182\n",
      "\n",
      "Mean Squared Error: 0.05729505\n",
      "\n",
      "ROC data saved to ZMUMU_EGZ_extended_eFEX_99_supercells\\roc\\roc_99_supercells_GradientBoostingClassifier.json\n"
     ]
    },
    {
     "name": "stderr",
     "output_type": "stream",
     "text": [
      "\n",
      "\u001b[A"
     ]
    },
    {
     "name": "stdout",
     "output_type": "stream",
     "text": [
      "Precision-Recall data saved to ZMUMU_EGZ_extended_eFEX_99_supercells\\precision_recall\\precision_recall_99_supercells_GradientBoostingClassifier.json\n",
      "Efficiency vs Electron PT data saved to ZMUMU_EGZ_extended_eFEX_99_supercells\\efficiency_vs_ele_pt\\efficiency_vs_ele_pt_99_supercells_GradientBoostingClassifier.json\n",
      "\n",
      "\n",
      "Evaluation of HistGradientBoostingClassifier\n",
      "Confusion Matrix:\n",
      " [[27499  1111]\n",
      " [  402 17170]]\n",
      "Accuracy: 0.96723832\n",
      "Recall: 0.97712270\n",
      "Precision: 0.93922652\n",
      "F1 Score: 0.95779991\n",
      "Classification Report:\n",
      "               precision    recall  f1-score   support\n",
      "\n",
      "         0.0       0.99      0.96      0.97     28610\n",
      "         1.0       0.94      0.98      0.96     17572\n",
      "\n",
      "    accuracy                           0.97     46182\n",
      "   macro avg       0.96      0.97      0.97     46182\n",
      "weighted avg       0.97      0.97      0.97     46182\n",
      "\n",
      "Mean Squared Error: 0.03276168\n",
      "\n",
      "ROC data saved to ZMUMU_EGZ_extended_eFEX_99_supercells\\roc\\roc_99_supercells_HistGradientBoostingClassifier.json\n"
     ]
    },
    {
     "name": "stderr",
     "output_type": "stream",
     "text": [
      "\n",
      "\u001b[A"
     ]
    },
    {
     "name": "stdout",
     "output_type": "stream",
     "text": [
      "Precision-Recall data saved to ZMUMU_EGZ_extended_eFEX_99_supercells\\precision_recall\\precision_recall_99_supercells_HistGradientBoostingClassifier.json\n",
      "Efficiency vs Electron PT data saved to ZMUMU_EGZ_extended_eFEX_99_supercells\\efficiency_vs_ele_pt\\efficiency_vs_ele_pt_99_supercells_HistGradientBoostingClassifier.json\n",
      "\n",
      "\n",
      "Evaluation of KNeighborsClassifier\n",
      "Confusion Matrix:\n",
      " [[26070  2540]\n",
      " [  328 17244]]\n",
      "Accuracy: 0.93789788\n",
      "Recall: 0.98133394\n",
      "Precision: 0.87161342\n",
      "F1 Score: 0.92322518\n",
      "Classification Report:\n",
      "               precision    recall  f1-score   support\n",
      "\n",
      "         0.0       0.99      0.91      0.95     28610\n",
      "         1.0       0.87      0.98      0.92     17572\n",
      "\n",
      "    accuracy                           0.94     46182\n",
      "   macro avg       0.93      0.95      0.94     46182\n",
      "weighted avg       0.94      0.94      0.94     46182\n",
      "\n",
      "Mean Squared Error: 0.06210212\n",
      "\n",
      "ROC data saved to ZMUMU_EGZ_extended_eFEX_99_supercells\\roc\\roc_99_supercells_KNeighborsClassifier.json\n"
     ]
    },
    {
     "name": "stderr",
     "output_type": "stream",
     "text": [
      "\n",
      "\u001b[A\n",
      "\u001b[A"
     ]
    },
    {
     "name": "stdout",
     "output_type": "stream",
     "text": [
      "Precision-Recall data saved to ZMUMU_EGZ_extended_eFEX_99_supercells\\precision_recall\\precision_recall_99_supercells_KNeighborsClassifier.json\n",
      "Efficiency vs Electron PT data saved to ZMUMU_EGZ_extended_eFEX_99_supercells\\efficiency_vs_ele_pt\\efficiency_vs_ele_pt_99_supercells_KNeighborsClassifier.json\n",
      "Could not train or predict with LabelPropagation: Unable to allocate 254. GiB for an array with shape (184728, 184728) and data type float64\n",
      "Could not train or predict with LabelSpreading: Unable to allocate 254. GiB for an array with shape (184728, 184728) and data type float64\n",
      "\n",
      "\n",
      "Evaluation of LinearDiscriminantAnalysis\n",
      "Confusion Matrix:\n",
      " [[26242  2368]\n",
      " [ 3243 14329]]\n",
      "Accuracy: 0.87850245\n",
      "Recall: 0.81544503\n",
      "Precision: 0.85817812\n",
      "F1 Score: 0.83626601\n",
      "Classification Report:\n",
      "               precision    recall  f1-score   support\n",
      "\n",
      "         0.0       0.89      0.92      0.90     28610\n",
      "         1.0       0.86      0.82      0.84     17572\n",
      "\n",
      "    accuracy                           0.88     46182\n",
      "   macro avg       0.87      0.87      0.87     46182\n",
      "weighted avg       0.88      0.88      0.88     46182\n",
      "\n",
      "Mean Squared Error: 0.12149755\n",
      "\n",
      "ROC data saved to ZMUMU_EGZ_extended_eFEX_99_supercells\\roc\\roc_99_supercells_LinearDiscriminantAnalysis.json\n"
     ]
    },
    {
     "name": "stderr",
     "output_type": "stream",
     "text": [
      "\n",
      "\u001b[A"
     ]
    },
    {
     "name": "stdout",
     "output_type": "stream",
     "text": [
      "Precision-Recall data saved to ZMUMU_EGZ_extended_eFEX_99_supercells\\precision_recall\\precision_recall_99_supercells_LinearDiscriminantAnalysis.json\n",
      "Efficiency vs Electron PT data saved to ZMUMU_EGZ_extended_eFEX_99_supercells\\efficiency_vs_ele_pt\\efficiency_vs_ele_pt_99_supercells_LinearDiscriminantAnalysis.json\n",
      "\n",
      "\n",
      "Evaluation of LinearSVC\n",
      "Confusion Matrix:\n",
      " [[27001  1609]\n",
      " [ 1128 16444]]\n",
      "Accuracy: 0.94073449\n",
      "Recall: 0.93580697\n",
      "Precision: 0.91087354\n",
      "F1 Score: 0.92317193\n",
      "Classification Report:\n",
      "               precision    recall  f1-score   support\n",
      "\n",
      "         0.0       0.96      0.94      0.95     28610\n",
      "         1.0       0.91      0.94      0.92     17572\n",
      "\n",
      "    accuracy                           0.94     46182\n",
      "   macro avg       0.94      0.94      0.94     46182\n",
      "weighted avg       0.94      0.94      0.94     46182\n",
      "\n",
      "Mean Squared Error: 0.05926551\n",
      "\n",
      "ROC data saved to ZMUMU_EGZ_extended_eFEX_99_supercells\\roc\\roc_99_supercells_LinearSVC.json\n",
      "Precision-Recall data saved to ZMUMU_EGZ_extended_eFEX_99_supercells\\precision_recall\\precision_recall_99_supercells_LinearSVC.json\n"
     ]
    },
    {
     "name": "stderr",
     "output_type": "stream",
     "text": [
      "\n",
      "\u001b[A"
     ]
    },
    {
     "name": "stdout",
     "output_type": "stream",
     "text": [
      "Efficiency vs Electron PT data saved to ZMUMU_EGZ_extended_eFEX_99_supercells\\efficiency_vs_ele_pt\\efficiency_vs_ele_pt_99_supercells_LinearSVC.json\n"
     ]
    },
    {
     "name": "stderr",
     "output_type": "stream",
     "text": [
      "C:\\Users\\tymch\\AppData\\Local\\Packages\\PythonSoftwareFoundation.Python.3.11_qbz5n2kfra8p0\\LocalCache\\local-packages\\Python311\\site-packages\\sklearn\\linear_model\\_logistic.py:469: ConvergenceWarning: lbfgs failed to converge (status=1):\n",
      "STOP: TOTAL NO. of ITERATIONS REACHED LIMIT.\n",
      "\n",
      "Increase the number of iterations (max_iter) or scale the data as shown in:\n",
      "    https://scikit-learn.org/stable/modules/preprocessing.html\n",
      "Please also refer to the documentation for alternative solver options:\n",
      "    https://scikit-learn.org/stable/modules/linear_model.html#logistic-regression\n",
      "  n_iter_i = _check_optimize_result(\n"
     ]
    },
    {
     "name": "stdout",
     "output_type": "stream",
     "text": [
      "\n",
      "\n",
      "Evaluation of LogisticRegression\n",
      "Confusion Matrix:\n",
      " [[26979  1631]\n",
      " [ 1078 16494]]\n",
      "Accuracy: 0.94134078\n",
      "Recall: 0.93865240\n",
      "Precision: 0.91001379\n",
      "F1 Score: 0.92411127\n",
      "Classification Report:\n",
      "               precision    recall  f1-score   support\n",
      "\n",
      "         0.0       0.96      0.94      0.95     28610\n",
      "         1.0       0.91      0.94      0.92     17572\n",
      "\n",
      "    accuracy                           0.94     46182\n",
      "   macro avg       0.94      0.94      0.94     46182\n",
      "weighted avg       0.94      0.94      0.94     46182\n",
      "\n",
      "Mean Squared Error: 0.05865922\n",
      "\n",
      "ROC data saved to ZMUMU_EGZ_extended_eFEX_99_supercells\\roc\\roc_99_supercells_LogisticRegression.json\n"
     ]
    },
    {
     "name": "stderr",
     "output_type": "stream",
     "text": [
      "\n",
      "\u001b[A"
     ]
    },
    {
     "name": "stdout",
     "output_type": "stream",
     "text": [
      "Precision-Recall data saved to ZMUMU_EGZ_extended_eFEX_99_supercells\\precision_recall\\precision_recall_99_supercells_LogisticRegression.json\n",
      "Efficiency vs Electron PT data saved to ZMUMU_EGZ_extended_eFEX_99_supercells\\efficiency_vs_ele_pt\\efficiency_vs_ele_pt_99_supercells_LogisticRegression.json\n"
     ]
    },
    {
     "name": "stderr",
     "output_type": "stream",
     "text": [
      "C:\\Users\\tymch\\AppData\\Local\\Packages\\PythonSoftwareFoundation.Python.3.11_qbz5n2kfra8p0\\LocalCache\\local-packages\\Python311\\site-packages\\sklearn\\linear_model\\_logistic.py:469: ConvergenceWarning: lbfgs failed to converge (status=1):\n",
      "STOP: TOTAL NO. of ITERATIONS REACHED LIMIT.\n",
      "\n",
      "Increase the number of iterations (max_iter) or scale the data as shown in:\n",
      "    https://scikit-learn.org/stable/modules/preprocessing.html\n",
      "Please also refer to the documentation for alternative solver options:\n",
      "    https://scikit-learn.org/stable/modules/linear_model.html#logistic-regression\n",
      "  n_iter_i = _check_optimize_result(\n",
      "C:\\Users\\tymch\\AppData\\Local\\Packages\\PythonSoftwareFoundation.Python.3.11_qbz5n2kfra8p0\\LocalCache\\local-packages\\Python311\\site-packages\\sklearn\\linear_model\\_logistic.py:469: ConvergenceWarning: lbfgs failed to converge (status=1):\n",
      "STOP: TOTAL NO. of ITERATIONS REACHED LIMIT.\n",
      "\n",
      "Increase the number of iterations (max_iter) or scale the data as shown in:\n",
      "    https://scikit-learn.org/stable/modules/preprocessing.html\n",
      "Please also refer to the documentation for alternative solver options:\n",
      "    https://scikit-learn.org/stable/modules/linear_model.html#logistic-regression\n",
      "  n_iter_i = _check_optimize_result(\n",
      "C:\\Users\\tymch\\AppData\\Local\\Packages\\PythonSoftwareFoundation.Python.3.11_qbz5n2kfra8p0\\LocalCache\\local-packages\\Python311\\site-packages\\sklearn\\linear_model\\_logistic.py:469: ConvergenceWarning: lbfgs failed to converge (status=1):\n",
      "STOP: TOTAL NO. of ITERATIONS REACHED LIMIT.\n",
      "\n",
      "Increase the number of iterations (max_iter) or scale the data as shown in:\n",
      "    https://scikit-learn.org/stable/modules/preprocessing.html\n",
      "Please also refer to the documentation for alternative solver options:\n",
      "    https://scikit-learn.org/stable/modules/linear_model.html#logistic-regression\n",
      "  n_iter_i = _check_optimize_result(\n",
      "C:\\Users\\tymch\\AppData\\Local\\Packages\\PythonSoftwareFoundation.Python.3.11_qbz5n2kfra8p0\\LocalCache\\local-packages\\Python311\\site-packages\\sklearn\\linear_model\\_logistic.py:469: ConvergenceWarning: lbfgs failed to converge (status=1):\n",
      "STOP: TOTAL NO. of ITERATIONS REACHED LIMIT.\n",
      "\n",
      "Increase the number of iterations (max_iter) or scale the data as shown in:\n",
      "    https://scikit-learn.org/stable/modules/preprocessing.html\n",
      "Please also refer to the documentation for alternative solver options:\n",
      "    https://scikit-learn.org/stable/modules/linear_model.html#logistic-regression\n",
      "  n_iter_i = _check_optimize_result(\n",
      "C:\\Users\\tymch\\AppData\\Local\\Packages\\PythonSoftwareFoundation.Python.3.11_qbz5n2kfra8p0\\LocalCache\\local-packages\\Python311\\site-packages\\sklearn\\linear_model\\_logistic.py:469: ConvergenceWarning: lbfgs failed to converge (status=1):\n",
      "STOP: TOTAL NO. of ITERATIONS REACHED LIMIT.\n",
      "\n",
      "Increase the number of iterations (max_iter) or scale the data as shown in:\n",
      "    https://scikit-learn.org/stable/modules/preprocessing.html\n",
      "Please also refer to the documentation for alternative solver options:\n",
      "    https://scikit-learn.org/stable/modules/linear_model.html#logistic-regression\n",
      "  n_iter_i = _check_optimize_result(\n"
     ]
    },
    {
     "name": "stdout",
     "output_type": "stream",
     "text": [
      "\n",
      "\n",
      "Evaluation of LogisticRegressionCV\n",
      "Confusion Matrix:\n",
      " [[26982  1628]\n",
      " [ 1059 16513]]\n",
      "Accuracy: 0.94181716\n",
      "Recall: 0.93973367\n",
      "Precision: 0.91025853\n",
      "F1 Score: 0.92476129\n",
      "Classification Report:\n",
      "               precision    recall  f1-score   support\n",
      "\n",
      "         0.0       0.96      0.94      0.95     28610\n",
      "         1.0       0.91      0.94      0.92     17572\n",
      "\n",
      "    accuracy                           0.94     46182\n",
      "   macro avg       0.94      0.94      0.94     46182\n",
      "weighted avg       0.94      0.94      0.94     46182\n",
      "\n",
      "Mean Squared Error: 0.05818284\n",
      "\n",
      "ROC data saved to ZMUMU_EGZ_extended_eFEX_99_supercells\\roc\\roc_99_supercells_LogisticRegressionCV.json\n",
      "Precision-Recall data saved to ZMUMU_EGZ_extended_eFEX_99_supercells\\precision_recall\\precision_recall_99_supercells_LogisticRegressionCV.json\n"
     ]
    },
    {
     "name": "stderr",
     "output_type": "stream",
     "text": [
      "\n",
      "\u001b[A"
     ]
    },
    {
     "name": "stdout",
     "output_type": "stream",
     "text": [
      "Efficiency vs Electron PT data saved to ZMUMU_EGZ_extended_eFEX_99_supercells\\efficiency_vs_ele_pt\\efficiency_vs_ele_pt_99_supercells_LogisticRegressionCV.json\n",
      "\n",
      "\n",
      "Evaluation of MLPClassifier\n",
      "Confusion Matrix:\n",
      " [[27617   993]\n",
      " [  472 17100]]\n",
      "Accuracy: 0.96827768\n",
      "Recall: 0.97313908\n",
      "Precision: 0.94511690\n",
      "F1 Score: 0.95892331\n",
      "Classification Report:\n",
      "               precision    recall  f1-score   support\n",
      "\n",
      "         0.0       0.98      0.97      0.97     28610\n",
      "         1.0       0.95      0.97      0.96     17572\n",
      "\n",
      "    accuracy                           0.97     46182\n",
      "   macro avg       0.96      0.97      0.97     46182\n",
      "weighted avg       0.97      0.97      0.97     46182\n",
      "\n",
      "Mean Squared Error: 0.03172232\n",
      "\n",
      "ROC data saved to ZMUMU_EGZ_extended_eFEX_99_supercells\\roc\\roc_99_supercells_MLPClassifier.json\n"
     ]
    },
    {
     "name": "stderr",
     "output_type": "stream",
     "text": [
      "\n",
      "\u001b[A"
     ]
    },
    {
     "name": "stdout",
     "output_type": "stream",
     "text": [
      "Precision-Recall data saved to ZMUMU_EGZ_extended_eFEX_99_supercells\\precision_recall\\precision_recall_99_supercells_MLPClassifier.json\n",
      "Efficiency vs Electron PT data saved to ZMUMU_EGZ_extended_eFEX_99_supercells\\efficiency_vs_ele_pt\\efficiency_vs_ele_pt_99_supercells_MLPClassifier.json\n",
      "Could not train or predict with MultiOutputClassifier: y must have at least two dimensions for multi-output regression but has only one.\n",
      "\n",
      "\n",
      "Evaluation of MultinomialNB\n",
      "Confusion Matrix:\n",
      " [[19027  9583]\n",
      " [  392 17180]]\n",
      "Accuracy: 0.78400676\n",
      "Recall: 0.97769178\n",
      "Precision: 0.64193102\n",
      "F1 Score: 0.77500846\n",
      "Classification Report:\n",
      "               precision    recall  f1-score   support\n",
      "\n",
      "         0.0       0.98      0.67      0.79     28610\n",
      "         1.0       0.64      0.98      0.78     17572\n",
      "\n",
      "    accuracy                           0.78     46182\n",
      "   macro avg       0.81      0.82      0.78     46182\n",
      "weighted avg       0.85      0.78      0.79     46182\n",
      "\n",
      "Mean Squared Error: 0.21599324\n",
      "\n",
      "ROC data saved to ZMUMU_EGZ_extended_eFEX_99_supercells\\roc\\roc_99_supercells_MultinomialNB.json\n",
      "Precision-Recall data saved to ZMUMU_EGZ_extended_eFEX_99_supercells\\precision_recall\\precision_recall_99_supercells_MultinomialNB.json\n"
     ]
    },
    {
     "name": "stderr",
     "output_type": "stream",
     "text": [
      "\n",
      "\u001b[A"
     ]
    },
    {
     "name": "stdout",
     "output_type": "stream",
     "text": [
      "Efficiency vs Electron PT data saved to ZMUMU_EGZ_extended_eFEX_99_supercells\\efficiency_vs_ele_pt\\efficiency_vs_ele_pt_99_supercells_MultinomialNB.json\n",
      "\n",
      "\n",
      "Evaluation of NearestCentroid\n",
      "Confusion Matrix:\n",
      " [[24885  3725]\n",
      " [ 3118 14454]]\n",
      "Accuracy: 0.85182539\n",
      "Recall: 0.82255862\n",
      "Precision: 0.79509324\n",
      "F1 Score: 0.80859277\n",
      "Classification Report:\n",
      "               precision    recall  f1-score   support\n",
      "\n",
      "         0.0       0.89      0.87      0.88     28610\n",
      "         1.0       0.80      0.82      0.81     17572\n",
      "\n",
      "    accuracy                           0.85     46182\n",
      "   macro avg       0.84      0.85      0.84     46182\n",
      "weighted avg       0.85      0.85      0.85     46182\n",
      "\n",
      "Mean Squared Error: 0.14817461\n",
      "\n",
      "Failed ROC computation for NearestCentroid: Model must have either a decision_function or predict_proba method.\n",
      "Failed Precision-Recall computation for NearestCentroid: Model must have either a decision_function or predict_proba method.\n"
     ]
    },
    {
     "name": "stderr",
     "output_type": "stream",
     "text": [
      "\n",
      "\u001b[A"
     ]
    },
    {
     "name": "stdout",
     "output_type": "stream",
     "text": [
      "Efficiency vs Electron PT data saved to ZMUMU_EGZ_extended_eFEX_99_supercells\\efficiency_vs_ele_pt\\efficiency_vs_ele_pt_99_supercells_NearestCentroid.json\n",
      "\n",
      "\n",
      "Evaluation of NuSVC\n",
      "Confusion Matrix:\n",
      " [[26004  2606]\n",
      " [ 1934 15638]]\n",
      "Accuracy: 0.90169330\n",
      "Recall: 0.88993854\n",
      "Precision: 0.85715852\n",
      "F1 Score: 0.87324101\n",
      "Classification Report:\n",
      "               precision    recall  f1-score   support\n",
      "\n",
      "         0.0       0.93      0.91      0.92     28610\n",
      "         1.0       0.86      0.89      0.87     17572\n",
      "\n",
      "    accuracy                           0.90     46182\n",
      "   macro avg       0.89      0.90      0.90     46182\n",
      "weighted avg       0.90      0.90      0.90     46182\n",
      "\n",
      "Mean Squared Error: 0.09830670\n",
      "\n",
      "ROC data saved to ZMUMU_EGZ_extended_eFEX_99_supercells\\roc\\roc_99_supercells_NuSVC.json\n"
     ]
    },
    {
     "name": "stderr",
     "output_type": "stream",
     "text": [
      "\n",
      "\u001b[A"
     ]
    },
    {
     "name": "stdout",
     "output_type": "stream",
     "text": [
      "Precision-Recall data saved to ZMUMU_EGZ_extended_eFEX_99_supercells\\precision_recall\\precision_recall_99_supercells_NuSVC.json\n",
      "Efficiency vs Electron PT data saved to ZMUMU_EGZ_extended_eFEX_99_supercells\\efficiency_vs_ele_pt\\efficiency_vs_ele_pt_99_supercells_NuSVC.json\n"
     ]
    },
    {
     "name": "stderr",
     "output_type": "stream",
     "text": [
      "C:\\Users\\tymch\\AppData\\Local\\Packages\\PythonSoftwareFoundation.Python.3.11_qbz5n2kfra8p0\\LocalCache\\local-packages\\Python311\\site-packages\\sklearn\\linear_model\\_logistic.py:469: ConvergenceWarning: lbfgs failed to converge (status=1):\n",
      "STOP: TOTAL NO. of ITERATIONS REACHED LIMIT.\n",
      "\n",
      "Increase the number of iterations (max_iter) or scale the data as shown in:\n",
      "    https://scikit-learn.org/stable/modules/preprocessing.html\n",
      "Please also refer to the documentation for alternative solver options:\n",
      "    https://scikit-learn.org/stable/modules/linear_model.html#logistic-regression\n",
      "  n_iter_i = _check_optimize_result(\n"
     ]
    },
    {
     "name": "stdout",
     "output_type": "stream",
     "text": [
      "\n",
      "\n",
      "Evaluation of OneVsOneClassifier\n",
      "Confusion Matrix:\n",
      " [[26979  1631]\n",
      " [ 1078 16494]]\n",
      "Accuracy: 0.94134078\n",
      "Recall: 0.93865240\n",
      "Precision: 0.91001379\n",
      "F1 Score: 0.92411127\n",
      "Classification Report:\n",
      "               precision    recall  f1-score   support\n",
      "\n",
      "         0.0       0.96      0.94      0.95     28610\n",
      "         1.0       0.91      0.94      0.92     17572\n",
      "\n",
      "    accuracy                           0.94     46182\n",
      "   macro avg       0.94      0.94      0.94     46182\n",
      "weighted avg       0.94      0.94      0.94     46182\n",
      "\n",
      "Mean Squared Error: 0.05865922\n",
      "\n",
      "ROC data saved to ZMUMU_EGZ_extended_eFEX_99_supercells\\roc\\roc_99_supercells_OneVsOneClassifier.json\n"
     ]
    },
    {
     "name": "stderr",
     "output_type": "stream",
     "text": [
      "\n",
      "\u001b[A"
     ]
    },
    {
     "name": "stdout",
     "output_type": "stream",
     "text": [
      "Precision-Recall data saved to ZMUMU_EGZ_extended_eFEX_99_supercells\\precision_recall\\precision_recall_99_supercells_OneVsOneClassifier.json\n",
      "Efficiency vs Electron PT data saved to ZMUMU_EGZ_extended_eFEX_99_supercells\\efficiency_vs_ele_pt\\efficiency_vs_ele_pt_99_supercells_OneVsOneClassifier.json\n"
     ]
    },
    {
     "name": "stderr",
     "output_type": "stream",
     "text": [
      "C:\\Users\\tymch\\AppData\\Local\\Packages\\PythonSoftwareFoundation.Python.3.11_qbz5n2kfra8p0\\LocalCache\\local-packages\\Python311\\site-packages\\sklearn\\linear_model\\_logistic.py:469: ConvergenceWarning: lbfgs failed to converge (status=1):\n",
      "STOP: TOTAL NO. of ITERATIONS REACHED LIMIT.\n",
      "\n",
      "Increase the number of iterations (max_iter) or scale the data as shown in:\n",
      "    https://scikit-learn.org/stable/modules/preprocessing.html\n",
      "Please also refer to the documentation for alternative solver options:\n",
      "    https://scikit-learn.org/stable/modules/linear_model.html#logistic-regression\n",
      "  n_iter_i = _check_optimize_result(\n"
     ]
    },
    {
     "name": "stdout",
     "output_type": "stream",
     "text": [
      "\n",
      "\n",
      "Evaluation of OneVsRestClassifier\n",
      "Confusion Matrix:\n",
      " [[26979  1631]\n",
      " [ 1078 16494]]\n",
      "Accuracy: 0.94134078\n",
      "Recall: 0.93865240\n",
      "Precision: 0.91001379\n",
      "F1 Score: 0.92411127\n",
      "Classification Report:\n",
      "               precision    recall  f1-score   support\n",
      "\n",
      "         0.0       0.96      0.94      0.95     28610\n",
      "         1.0       0.91      0.94      0.92     17572\n",
      "\n",
      "    accuracy                           0.94     46182\n",
      "   macro avg       0.94      0.94      0.94     46182\n",
      "weighted avg       0.94      0.94      0.94     46182\n",
      "\n",
      "Mean Squared Error: 0.05865922\n",
      "\n",
      "ROC data saved to ZMUMU_EGZ_extended_eFEX_99_supercells\\roc\\roc_99_supercells_OneVsRestClassifier.json\n"
     ]
    },
    {
     "name": "stderr",
     "output_type": "stream",
     "text": [
      "\n",
      "\u001b[A"
     ]
    },
    {
     "name": "stdout",
     "output_type": "stream",
     "text": [
      "Precision-Recall data saved to ZMUMU_EGZ_extended_eFEX_99_supercells\\precision_recall\\precision_recall_99_supercells_OneVsRestClassifier.json\n",
      "Efficiency vs Electron PT data saved to ZMUMU_EGZ_extended_eFEX_99_supercells\\efficiency_vs_ele_pt\\efficiency_vs_ele_pt_99_supercells_OneVsRestClassifier.json\n"
     ]
    },
    {
     "name": "stderr",
     "output_type": "stream",
     "text": [
      "C:\\Users\\tymch\\AppData\\Local\\Packages\\PythonSoftwareFoundation.Python.3.11_qbz5n2kfra8p0\\LocalCache\\local-packages\\Python311\\site-packages\\sklearn\\linear_model\\_logistic.py:469: ConvergenceWarning: lbfgs failed to converge (status=1):\n",
      "STOP: TOTAL NO. of ITERATIONS REACHED LIMIT.\n",
      "\n",
      "Increase the number of iterations (max_iter) or scale the data as shown in:\n",
      "    https://scikit-learn.org/stable/modules/preprocessing.html\n",
      "Please also refer to the documentation for alternative solver options:\n",
      "    https://scikit-learn.org/stable/modules/linear_model.html#logistic-regression\n",
      "  n_iter_i = _check_optimize_result(\n",
      "C:\\Users\\tymch\\AppData\\Local\\Packages\\PythonSoftwareFoundation.Python.3.11_qbz5n2kfra8p0\\LocalCache\\local-packages\\Python311\\site-packages\\sklearn\\linear_model\\_logistic.py:469: ConvergenceWarning: lbfgs failed to converge (status=1):\n",
      "STOP: TOTAL NO. of ITERATIONS REACHED LIMIT.\n",
      "\n",
      "Increase the number of iterations (max_iter) or scale the data as shown in:\n",
      "    https://scikit-learn.org/stable/modules/preprocessing.html\n",
      "Please also refer to the documentation for alternative solver options:\n",
      "    https://scikit-learn.org/stable/modules/linear_model.html#logistic-regression\n",
      "  n_iter_i = _check_optimize_result(\n",
      "\n",
      "\u001b[A"
     ]
    },
    {
     "name": "stdout",
     "output_type": "stream",
     "text": [
      "\n",
      "\n",
      "Evaluation of OutputCodeClassifier\n",
      "Confusion Matrix:\n",
      " [[26979  1631]\n",
      " [ 1078 16494]]\n",
      "Accuracy: 0.94134078\n",
      "Recall: 0.93865240\n",
      "Precision: 0.91001379\n",
      "F1 Score: 0.92411127\n",
      "Classification Report:\n",
      "               precision    recall  f1-score   support\n",
      "\n",
      "         0.0       0.96      0.94      0.95     28610\n",
      "         1.0       0.91      0.94      0.92     17572\n",
      "\n",
      "    accuracy                           0.94     46182\n",
      "   macro avg       0.94      0.94      0.94     46182\n",
      "weighted avg       0.94      0.94      0.94     46182\n",
      "\n",
      "Mean Squared Error: 0.05865922\n",
      "\n",
      "Failed ROC computation for OutputCodeClassifier: Model must have either a decision_function or predict_proba method.\n",
      "Failed Precision-Recall computation for OutputCodeClassifier: Model must have either a decision_function or predict_proba method.\n",
      "Efficiency vs Electron PT data saved to ZMUMU_EGZ_extended_eFEX_99_supercells\\efficiency_vs_ele_pt\\efficiency_vs_ele_pt_99_supercells_OutputCodeClassifier.json\n",
      "\n",
      "\n",
      "Evaluation of PassiveAggressiveClassifier\n",
      "Confusion Matrix:\n",
      " [[27468  1142]\n",
      " [ 4440 13132]]\n",
      "Accuracy: 0.87913040\n",
      "Recall: 0.74732529\n",
      "Precision: 0.91999440\n",
      "F1 Score: 0.82471896\n",
      "Classification Report:\n",
      "               precision    recall  f1-score   support\n",
      "\n",
      "         0.0       0.86      0.96      0.91     28610\n",
      "         1.0       0.92      0.75      0.82     17572\n",
      "\n",
      "    accuracy                           0.88     46182\n",
      "   macro avg       0.89      0.85      0.87     46182\n",
      "weighted avg       0.88      0.88      0.88     46182\n",
      "\n",
      "Mean Squared Error: 0.12086960\n",
      "\n",
      "ROC data saved to ZMUMU_EGZ_extended_eFEX_99_supercells\\roc\\roc_99_supercells_PassiveAggressiveClassifier.json\n",
      "Precision-Recall data saved to ZMUMU_EGZ_extended_eFEX_99_supercells\\precision_recall\\precision_recall_99_supercells_PassiveAggressiveClassifier.json\n"
     ]
    },
    {
     "name": "stderr",
     "output_type": "stream",
     "text": [
      "\n",
      "\u001b[A"
     ]
    },
    {
     "name": "stdout",
     "output_type": "stream",
     "text": [
      "Efficiency vs Electron PT data saved to ZMUMU_EGZ_extended_eFEX_99_supercells\\efficiency_vs_ele_pt\\efficiency_vs_ele_pt_99_supercells_PassiveAggressiveClassifier.json\n",
      "\n",
      "\n",
      "Evaluation of Perceptron\n",
      "Confusion Matrix:\n",
      " [[26234  2376]\n",
      " [ 1402 16170]]\n",
      "Accuracy: 0.91819324\n",
      "Recall: 0.92021398\n",
      "Precision: 0.87188612\n",
      "F1 Score: 0.89539842\n",
      "Classification Report:\n",
      "               precision    recall  f1-score   support\n",
      "\n",
      "         0.0       0.95      0.92      0.93     28610\n",
      "         1.0       0.87      0.92      0.90     17572\n",
      "\n",
      "    accuracy                           0.92     46182\n",
      "   macro avg       0.91      0.92      0.91     46182\n",
      "weighted avg       0.92      0.92      0.92     46182\n",
      "\n",
      "Mean Squared Error: 0.08180676\n",
      "\n",
      "ROC data saved to ZMUMU_EGZ_extended_eFEX_99_supercells\\roc\\roc_99_supercells_Perceptron.json\n",
      "Precision-Recall data saved to ZMUMU_EGZ_extended_eFEX_99_supercells\\precision_recall\\precision_recall_99_supercells_Perceptron.json\n"
     ]
    },
    {
     "name": "stderr",
     "output_type": "stream",
     "text": [
      "\n",
      "\u001b[A"
     ]
    },
    {
     "name": "stdout",
     "output_type": "stream",
     "text": [
      "Efficiency vs Electron PT data saved to ZMUMU_EGZ_extended_eFEX_99_supercells\\efficiency_vs_ele_pt\\efficiency_vs_ele_pt_99_supercells_Perceptron.json\n",
      "\n",
      "\n",
      "Evaluation of QuadraticDiscriminantAnalysis\n",
      "Confusion Matrix:\n",
      " [[16751 11859]\n",
      " [  842 16730]]\n",
      "Accuracy: 0.72497943\n",
      "Recall: 0.95208286\n",
      "Precision: 0.58519011\n",
      "F1 Score: 0.72485431\n",
      "Classification Report:\n",
      "               precision    recall  f1-score   support\n",
      "\n",
      "         0.0       0.95      0.59      0.73     28610\n",
      "         1.0       0.59      0.95      0.72     17572\n",
      "\n",
      "    accuracy                           0.72     46182\n",
      "   macro avg       0.77      0.77      0.72     46182\n",
      "weighted avg       0.81      0.72      0.73     46182\n",
      "\n",
      "Mean Squared Error: 0.27502057\n",
      "\n",
      "ROC data saved to ZMUMU_EGZ_extended_eFEX_99_supercells\\roc\\roc_99_supercells_QuadraticDiscriminantAnalysis.json\n",
      "Precision-Recall data saved to ZMUMU_EGZ_extended_eFEX_99_supercells\\precision_recall\\precision_recall_99_supercells_QuadraticDiscriminantAnalysis.json\n"
     ]
    },
    {
     "name": "stderr",
     "output_type": "stream",
     "text": [
      "\n",
      "\u001b[A"
     ]
    },
    {
     "name": "stdout",
     "output_type": "stream",
     "text": [
      "Efficiency vs Electron PT data saved to ZMUMU_EGZ_extended_eFEX_99_supercells\\efficiency_vs_ele_pt\\efficiency_vs_ele_pt_99_supercells_QuadraticDiscriminantAnalysis.json\n"
     ]
    },
    {
     "name": "stderr",
     "output_type": "stream",
     "text": [
      "\n",
      "\u001b[A"
     ]
    },
    {
     "name": "stdout",
     "output_type": "stream",
     "text": [
      "Could not train or predict with RadiusNeighborsClassifier: No neighbors found for test samples array([    2,     3,     4, ..., 46179, 46180, 46181]), you can try using larger radius, giving a label for outliers, or considering removing them from your dataset.\n",
      "\n",
      "\n",
      "Evaluation of RandomForestClassifier\n",
      "Confusion Matrix:\n",
      " [[27532  1078]\n",
      " [  392 17180]]\n",
      "Accuracy: 0.96816942\n",
      "Recall: 0.97769178\n",
      "Precision: 0.94095739\n",
      "F1 Score: 0.95897293\n",
      "Classification Report:\n",
      "               precision    recall  f1-score   support\n",
      "\n",
      "         0.0       0.99      0.96      0.97     28610\n",
      "         1.0       0.94      0.98      0.96     17572\n",
      "\n",
      "    accuracy                           0.97     46182\n",
      "   macro avg       0.96      0.97      0.97     46182\n",
      "weighted avg       0.97      0.97      0.97     46182\n",
      "\n",
      "Mean Squared Error: 0.03183058\n",
      "\n",
      "ROC data saved to ZMUMU_EGZ_extended_eFEX_99_supercells\\roc\\roc_99_supercells_RandomForestClassifier.json\n"
     ]
    },
    {
     "name": "stderr",
     "output_type": "stream",
     "text": [
      "\n",
      "\u001b[A"
     ]
    },
    {
     "name": "stdout",
     "output_type": "stream",
     "text": [
      "Precision-Recall data saved to ZMUMU_EGZ_extended_eFEX_99_supercells\\precision_recall\\precision_recall_99_supercells_RandomForestClassifier.json\n",
      "Efficiency vs Electron PT data saved to ZMUMU_EGZ_extended_eFEX_99_supercells\\efficiency_vs_ele_pt\\efficiency_vs_ele_pt_99_supercells_RandomForestClassifier.json\n",
      "\n",
      "\n",
      "Evaluation of RidgeClassifier\n",
      "Confusion Matrix:\n",
      " [[26261  2349]\n",
      " [ 3295 14277]]\n",
      "Accuracy: 0.87778788\n",
      "Recall: 0.81248577\n",
      "Precision: 0.85871527\n",
      "F1 Score: 0.83496111\n",
      "Classification Report:\n",
      "               precision    recall  f1-score   support\n",
      "\n",
      "         0.0       0.89      0.92      0.90     28610\n",
      "         1.0       0.86      0.81      0.83     17572\n",
      "\n",
      "    accuracy                           0.88     46182\n",
      "   macro avg       0.87      0.87      0.87     46182\n",
      "weighted avg       0.88      0.88      0.88     46182\n",
      "\n",
      "Mean Squared Error: 0.12221212\n",
      "\n",
      "ROC data saved to ZMUMU_EGZ_extended_eFEX_99_supercells\\roc\\roc_99_supercells_RidgeClassifier.json\n"
     ]
    },
    {
     "name": "stderr",
     "output_type": "stream",
     "text": [
      "\n",
      "\u001b[A"
     ]
    },
    {
     "name": "stdout",
     "output_type": "stream",
     "text": [
      "Precision-Recall data saved to ZMUMU_EGZ_extended_eFEX_99_supercells\\precision_recall\\precision_recall_99_supercells_RidgeClassifier.json\n",
      "Efficiency vs Electron PT data saved to ZMUMU_EGZ_extended_eFEX_99_supercells\\efficiency_vs_ele_pt\\efficiency_vs_ele_pt_99_supercells_RidgeClassifier.json\n",
      "\n",
      "\n",
      "Evaluation of RidgeClassifierCV\n",
      "Confusion Matrix:\n",
      " [[26261  2349]\n",
      " [ 3295 14277]]\n",
      "Accuracy: 0.87778788\n",
      "Recall: 0.81248577\n",
      "Precision: 0.85871527\n",
      "F1 Score: 0.83496111\n",
      "Classification Report:\n",
      "               precision    recall  f1-score   support\n",
      "\n",
      "         0.0       0.89      0.92      0.90     28610\n",
      "         1.0       0.86      0.81      0.83     17572\n",
      "\n",
      "    accuracy                           0.88     46182\n",
      "   macro avg       0.87      0.87      0.87     46182\n",
      "weighted avg       0.88      0.88      0.88     46182\n",
      "\n",
      "Mean Squared Error: 0.12221212\n",
      "\n",
      "ROC data saved to ZMUMU_EGZ_extended_eFEX_99_supercells\\roc\\roc_99_supercells_RidgeClassifierCV.json\n"
     ]
    },
    {
     "name": "stderr",
     "output_type": "stream",
     "text": [
      "\n",
      "\u001b[A"
     ]
    },
    {
     "name": "stdout",
     "output_type": "stream",
     "text": [
      "Precision-Recall data saved to ZMUMU_EGZ_extended_eFEX_99_supercells\\precision_recall\\precision_recall_99_supercells_RidgeClassifierCV.json\n",
      "Efficiency vs Electron PT data saved to ZMUMU_EGZ_extended_eFEX_99_supercells\\efficiency_vs_ele_pt\\efficiency_vs_ele_pt_99_supercells_RidgeClassifierCV.json\n",
      "\n",
      "\n",
      "Evaluation of SGDClassifier\n",
      "Confusion Matrix:\n",
      " [[26704  1906]\n",
      " [  802 16770]]\n",
      "Accuracy: 0.94136244\n",
      "Recall: 0.95435921\n",
      "Precision: 0.89794389\n",
      "F1 Score: 0.92529243\n",
      "Classification Report:\n",
      "               precision    recall  f1-score   support\n",
      "\n",
      "         0.0       0.97      0.93      0.95     28610\n",
      "         1.0       0.90      0.95      0.93     17572\n",
      "\n",
      "    accuracy                           0.94     46182\n",
      "   macro avg       0.93      0.94      0.94     46182\n",
      "weighted avg       0.94      0.94      0.94     46182\n",
      "\n",
      "Mean Squared Error: 0.05863756\n",
      "\n",
      "ROC data saved to ZMUMU_EGZ_extended_eFEX_99_supercells\\roc\\roc_99_supercells_SGDClassifier.json\n",
      "Precision-Recall data saved to ZMUMU_EGZ_extended_eFEX_99_supercells\\precision_recall\\precision_recall_99_supercells_SGDClassifier.json\n"
     ]
    },
    {
     "name": "stderr",
     "output_type": "stream",
     "text": [
      "\n",
      "\u001b[A"
     ]
    },
    {
     "name": "stdout",
     "output_type": "stream",
     "text": [
      "Efficiency vs Electron PT data saved to ZMUMU_EGZ_extended_eFEX_99_supercells\\efficiency_vs_ele_pt\\efficiency_vs_ele_pt_99_supercells_SGDClassifier.json\n",
      "\n",
      "\n",
      "Evaluation of SVC\n",
      "Confusion Matrix:\n",
      " [[27345  1265]\n",
      " [  343 17229]]\n",
      "Accuracy: 0.96518124\n",
      "Recall: 0.98048031\n",
      "Precision: 0.93159944\n",
      "F1 Score: 0.95541507\n",
      "Classification Report:\n",
      "               precision    recall  f1-score   support\n",
      "\n",
      "         0.0       0.99      0.96      0.97     28610\n",
      "         1.0       0.93      0.98      0.96     17572\n",
      "\n",
      "    accuracy                           0.97     46182\n",
      "   macro avg       0.96      0.97      0.96     46182\n",
      "weighted avg       0.97      0.97      0.97     46182\n",
      "\n",
      "Mean Squared Error: 0.03481876\n",
      "\n",
      "ROC data saved to ZMUMU_EGZ_extended_eFEX_99_supercells\\roc\\roc_99_supercells_SVC.json\n"
     ]
    },
    {
     "name": "stderr",
     "output_type": "stream",
     "text": [
      "\n",
      "\u001b[A"
     ]
    },
    {
     "name": "stdout",
     "output_type": "stream",
     "text": [
      "Precision-Recall data saved to ZMUMU_EGZ_extended_eFEX_99_supercells\\precision_recall\\precision_recall_99_supercells_SVC.json\n",
      "Efficiency vs Electron PT data saved to ZMUMU_EGZ_extended_eFEX_99_supercells\\efficiency_vs_ele_pt\\efficiency_vs_ele_pt_99_supercells_SVC.json\n"
     ]
    },
    {
     "name": "stderr",
     "output_type": "stream",
     "text": [
      "C:\\Users\\tymch\\AppData\\Local\\Packages\\PythonSoftwareFoundation.Python.3.11_qbz5n2kfra8p0\\LocalCache\\local-packages\\Python311\\site-packages\\sklearn\\linear_model\\_logistic.py:469: ConvergenceWarning: lbfgs failed to converge (status=1):\n",
      "STOP: TOTAL NO. of ITERATIONS REACHED LIMIT.\n",
      "\n",
      "Increase the number of iterations (max_iter) or scale the data as shown in:\n",
      "    https://scikit-learn.org/stable/modules/preprocessing.html\n",
      "Please also refer to the documentation for alternative solver options:\n",
      "    https://scikit-learn.org/stable/modules/linear_model.html#logistic-regression\n",
      "  n_iter_i = _check_optimize_result(\n",
      "C:\\Users\\tymch\\AppData\\Local\\Packages\\PythonSoftwareFoundation.Python.3.11_qbz5n2kfra8p0\\LocalCache\\local-packages\\Python311\\site-packages\\sklearn\\linear_model\\_logistic.py:469: ConvergenceWarning: lbfgs failed to converge (status=1):\n",
      "STOP: TOTAL NO. of ITERATIONS REACHED LIMIT.\n",
      "\n",
      "Increase the number of iterations (max_iter) or scale the data as shown in:\n",
      "    https://scikit-learn.org/stable/modules/preprocessing.html\n",
      "Please also refer to the documentation for alternative solver options:\n",
      "    https://scikit-learn.org/stable/modules/linear_model.html#logistic-regression\n",
      "  n_iter_i = _check_optimize_result(\n",
      "C:\\Users\\tymch\\AppData\\Local\\Packages\\PythonSoftwareFoundation.Python.3.11_qbz5n2kfra8p0\\LocalCache\\local-packages\\Python311\\site-packages\\sklearn\\linear_model\\_logistic.py:469: ConvergenceWarning: lbfgs failed to converge (status=1):\n",
      "STOP: TOTAL NO. of ITERATIONS REACHED LIMIT.\n",
      "\n",
      "Increase the number of iterations (max_iter) or scale the data as shown in:\n",
      "    https://scikit-learn.org/stable/modules/preprocessing.html\n",
      "Please also refer to the documentation for alternative solver options:\n",
      "    https://scikit-learn.org/stable/modules/linear_model.html#logistic-regression\n",
      "  n_iter_i = _check_optimize_result(\n",
      "C:\\Users\\tymch\\AppData\\Local\\Packages\\PythonSoftwareFoundation.Python.3.11_qbz5n2kfra8p0\\LocalCache\\local-packages\\Python311\\site-packages\\sklearn\\linear_model\\_logistic.py:469: ConvergenceWarning: lbfgs failed to converge (status=1):\n",
      "STOP: TOTAL NO. of ITERATIONS REACHED LIMIT.\n",
      "\n",
      "Increase the number of iterations (max_iter) or scale the data as shown in:\n",
      "    https://scikit-learn.org/stable/modules/preprocessing.html\n",
      "Please also refer to the documentation for alternative solver options:\n",
      "    https://scikit-learn.org/stable/modules/linear_model.html#logistic-regression\n",
      "  n_iter_i = _check_optimize_result(\n",
      "C:\\Users\\tymch\\AppData\\Local\\Packages\\PythonSoftwareFoundation.Python.3.11_qbz5n2kfra8p0\\LocalCache\\local-packages\\Python311\\site-packages\\sklearn\\linear_model\\_logistic.py:469: ConvergenceWarning: lbfgs failed to converge (status=1):\n",
      "STOP: TOTAL NO. of ITERATIONS REACHED LIMIT.\n",
      "\n",
      "Increase the number of iterations (max_iter) or scale the data as shown in:\n",
      "    https://scikit-learn.org/stable/modules/preprocessing.html\n",
      "Please also refer to the documentation for alternative solver options:\n",
      "    https://scikit-learn.org/stable/modules/linear_model.html#logistic-regression\n",
      "  n_iter_i = _check_optimize_result(\n",
      "C:\\Users\\tymch\\AppData\\Local\\Packages\\PythonSoftwareFoundation.Python.3.11_qbz5n2kfra8p0\\LocalCache\\local-packages\\Python311\\site-packages\\sklearn\\linear_model\\_logistic.py:469: ConvergenceWarning: lbfgs failed to converge (status=1):\n",
      "STOP: TOTAL NO. of ITERATIONS REACHED LIMIT.\n",
      "\n",
      "Increase the number of iterations (max_iter) or scale the data as shown in:\n",
      "    https://scikit-learn.org/stable/modules/preprocessing.html\n",
      "Please also refer to the documentation for alternative solver options:\n",
      "    https://scikit-learn.org/stable/modules/linear_model.html#logistic-regression\n",
      "  n_iter_i = _check_optimize_result(\n"
     ]
    },
    {
     "name": "stdout",
     "output_type": "stream",
     "text": [
      "\n",
      "\n",
      "Evaluation of TunedThresholdClassifierCV\n",
      "Confusion Matrix:\n",
      " [[26474  2136]\n",
      " [  589 16983]]\n",
      "Accuracy: 0.94099433\n",
      "Recall: 0.96648076\n",
      "Precision: 0.88827868\n",
      "F1 Score: 0.92573111\n",
      "Classification Report:\n",
      "               precision    recall  f1-score   support\n",
      "\n",
      "         0.0       0.98      0.93      0.95     28610\n",
      "         1.0       0.89      0.97      0.93     17572\n",
      "\n",
      "    accuracy                           0.94     46182\n",
      "   macro avg       0.93      0.95      0.94     46182\n",
      "weighted avg       0.94      0.94      0.94     46182\n",
      "\n",
      "Mean Squared Error: 0.05900567\n",
      "\n",
      "ROC data saved to ZMUMU_EGZ_extended_eFEX_99_supercells\\roc\\roc_99_supercells_TunedThresholdClassifierCV.json\n",
      "Precision-Recall data saved to ZMUMU_EGZ_extended_eFEX_99_supercells\\precision_recall\\precision_recall_99_supercells_TunedThresholdClassifierCV.json\n"
     ]
    },
    {
     "name": "stderr",
     "output_type": "stream",
     "text": [
      "\n",
      "\u001b[A"
     ]
    },
    {
     "name": "stdout",
     "output_type": "stream",
     "text": [
      "Efficiency vs Electron PT data saved to ZMUMU_EGZ_extended_eFEX_99_supercells\\efficiency_vs_ele_pt\\efficiency_vs_ele_pt_99_supercells_TunedThresholdClassifierCV.json\n"
     ]
    },
    {
     "name": "stderr",
     "output_type": "stream",
     "text": [
      "C:\\Users\\tymch\\AppData\\Local\\Packages\\PythonSoftwareFoundation.Python.3.11_qbz5n2kfra8p0\\LocalCache\\local-packages\\Python311\\site-packages\\sklearn\\linear_model\\_logistic.py:469: ConvergenceWarning: lbfgs failed to converge (status=1):\n",
      "STOP: TOTAL NO. of ITERATIONS REACHED LIMIT.\n",
      "\n",
      "Increase the number of iterations (max_iter) or scale the data as shown in:\n",
      "    https://scikit-learn.org/stable/modules/preprocessing.html\n",
      "Please also refer to the documentation for alternative solver options:\n",
      "    https://scikit-learn.org/stable/modules/linear_model.html#logistic-regression\n",
      "  n_iter_i = _check_optimize_result(\n",
      "\n",
      "\u001b[A"
     ]
    },
    {
     "name": "stdout",
     "output_type": "stream",
     "text": [
      "\n",
      "\n",
      "Evaluation of VotingClassifier\n",
      "Confusion Matrix:\n",
      " [[27807   803]\n",
      " [ 1211 16361]]\n",
      "Accuracy: 0.95638994\n",
      "Recall: 0.93108354\n",
      "Precision: 0.95321603\n",
      "F1 Score: 0.94201981\n",
      "Classification Report:\n",
      "               precision    recall  f1-score   support\n",
      "\n",
      "         0.0       0.96      0.97      0.97     28610\n",
      "         1.0       0.95      0.93      0.94     17572\n",
      "\n",
      "    accuracy                           0.96     46182\n",
      "   macro avg       0.96      0.95      0.95     46182\n",
      "weighted avg       0.96      0.96      0.96     46182\n",
      "\n",
      "Mean Squared Error: 0.04361006\n",
      "\n",
      "Failed ROC computation for VotingClassifier: Model must have either a decision_function or predict_proba method.\n",
      "Failed Precision-Recall computation for VotingClassifier: Model must have either a decision_function or predict_proba method.\n",
      "Efficiency vs Electron PT data saved to ZMUMU_EGZ_extended_eFEX_99_supercells\\efficiency_vs_ele_pt\\efficiency_vs_ele_pt_99_supercells_VotingClassifier.json\n",
      "\n",
      "\n",
      "Evaluation of XGBClassifier\n",
      "Confusion Matrix:\n",
      " [[27530  1080]\n",
      " [  425 17147]]\n",
      "Accuracy: 0.96741155\n",
      "Recall: 0.97581379\n",
      "Precision: 0.94074724\n",
      "F1 Score: 0.95795972\n",
      "Classification Report:\n",
      "               precision    recall  f1-score   support\n",
      "\n",
      "         0.0       0.98      0.96      0.97     28610\n",
      "         1.0       0.94      0.98      0.96     17572\n",
      "\n",
      "    accuracy                           0.97     46182\n",
      "   macro avg       0.96      0.97      0.97     46182\n",
      "weighted avg       0.97      0.97      0.97     46182\n",
      "\n",
      "Mean Squared Error: 0.03258845\n",
      "\n",
      "ROC data saved to ZMUMU_EGZ_extended_eFEX_99_supercells\\roc\\roc_99_supercells_XGBClassifier.json\n"
     ]
    },
    {
     "name": "stderr",
     "output_type": "stream",
     "text": [
      "\n",
      "100%|██████████| 43/43 [1:32:10<00:00, 128.62s/it]\n",
      "  0%|          | 0/3 [1:33:47<?, ?it/s]\n",
      "  0%|          | 0/2 [1:33:47<?, ?it/s]"
     ]
    },
    {
     "name": "stdout",
     "output_type": "stream",
     "text": [
      "Precision-Recall data saved to ZMUMU_EGZ_extended_eFEX_99_supercells\\precision_recall\\precision_recall_99_supercells_XGBClassifier.json\n",
      "Efficiency vs Electron PT data saved to ZMUMU_EGZ_extended_eFEX_99_supercells\\efficiency_vs_ele_pt\\efficiency_vs_ele_pt_99_supercells_XGBClassifier.json\n",
      "Results saved to ZMUMU_EGZ_extended_eFEX_99_supercells/ZMUMU_EGZ_extended_eFEX_99_supercells_99_supercells_all.csv\n"
     ]
    },
    {
     "name": "stderr",
     "output_type": "stream",
     "text": [
      "\n"
     ]
    },
    {
     "ename": "TypeError",
     "evalue": "expected str, bytes or os.PathLike object, not list",
     "output_type": "error",
     "traceback": [
      "\u001b[1;31m---------------------------------------------------------------------------\u001b[0m",
      "\u001b[1;31mTypeError\u001b[0m                                 Traceback (most recent call last)",
      "Cell \u001b[1;32mIn[2], line 8\u001b[0m\n\u001b[0;32m      6\u001b[0m X_train, X_test, y_train, y_test, pd_passthrough_train, pd_passthrough_test \u001b[38;5;241m=\u001b[39m prepare_data(accept_data_filename \u001b[38;5;241m=\u001b[39m accept_data_filename[i], reject_data_filename \u001b[38;5;241m=\u001b[39m reject_data_filename[i], data_subdir \u001b[38;5;241m=\u001b[39m \u001b[38;5;28mid\u001b[39m, format_mode \u001b[38;5;241m=\u001b[39m format_mode[j], get_pT\u001b[38;5;241m=\u001b[39m\u001b[38;5;28;01mTrue\u001b[39;00m)\n\u001b[0;32m      7\u001b[0m results \u001b[38;5;241m=\u001b[39m train_evaluate_all_classifiers(binary_classifiers, X_train, X_test, y_train, y_test, pd_passthrough_train, pd_passthrough_test, description[j], \u001b[38;5;28mid\u001b[39m)\n\u001b[1;32m----> 8\u001b[0m \u001b[43mplot_all_results\u001b[49m\u001b[43m(\u001b[49m\u001b[43mbinary_classifiers\u001b[49m\u001b[38;5;241;43m.\u001b[39;49m\u001b[43mkeys\u001b[49m\u001b[43m(\u001b[49m\u001b[43m)\u001b[49m\u001b[43m,\u001b[49m\u001b[43m \u001b[49m\u001b[43mdescription\u001b[49m\u001b[43m,\u001b[49m\u001b[43m \u001b[49m\u001b[43mdata_subdir\u001b[49m\u001b[43m)\u001b[49m\n",
      "File \u001b[1;32mc:\\Users\\tymch\\OneDrive - University of Birmingham\\Desktop\\ATLAS\\ATLAS-L1-Trigger-Y4-Project\\utilities_new.py:668\u001b[0m, in \u001b[0;36mplot_all_results\u001b[1;34m(binary_classifier_names, description, data_subdir)\u001b[0m\n\u001b[0;32m    666\u001b[0m \u001b[38;5;28;01mdef\u001b[39;00m \u001b[38;5;21mplot_all_results\u001b[39m(binary_classifier_names, description, data_subdir):\n\u001b[0;32m    667\u001b[0m     \u001b[38;5;28;01mfor\u001b[39;00m classifier_name \u001b[38;5;129;01min\u001b[39;00m binary_classifier_names:\n\u001b[1;32m--> 668\u001b[0m         fpr, tpr, roc_auc \u001b[38;5;241m=\u001b[39m \u001b[43mread_roc\u001b[49m\u001b[43m(\u001b[49m\u001b[43mclassifier_name\u001b[49m\u001b[43m,\u001b[49m\u001b[43m \u001b[49m\u001b[43mdescription\u001b[49m\u001b[43m,\u001b[49m\u001b[43m \u001b[49m\u001b[43mdata_subdir\u001b[49m\u001b[43m)\u001b[49m\n\u001b[0;32m    669\u001b[0m         precision, recall, pr_auc, chance_level \u001b[38;5;241m=\u001b[39m read_precision_recall(classifier_name, description, data_subdir)\n\u001b[0;32m    670\u001b[0m         bins, electrons_efficiency \u001b[38;5;241m=\u001b[39m read_efficiency_vs_ele_PT(classifier_name, description, data_subdir)\n",
      "File \u001b[1;32mc:\\Users\\tymch\\OneDrive - University of Birmingham\\Desktop\\ATLAS\\ATLAS-L1-Trigger-Y4-Project\\utilities_new.py:637\u001b[0m, in \u001b[0;36mread_roc\u001b[1;34m(classifier_name, description, data_subdir)\u001b[0m\n\u001b[0;32m    636\u001b[0m \u001b[38;5;28;01mdef\u001b[39;00m \u001b[38;5;21mread_roc\u001b[39m(classifier_name, description, data_subdir):\n\u001b[1;32m--> 637\u001b[0m     filename \u001b[38;5;241m=\u001b[39m \u001b[43mos\u001b[49m\u001b[38;5;241;43m.\u001b[39;49m\u001b[43mpath\u001b[49m\u001b[38;5;241;43m.\u001b[39;49m\u001b[43mjoin\u001b[49m\u001b[43m(\u001b[49m\u001b[43mdata_subdir\u001b[49m\u001b[43m,\u001b[49m\u001b[43m \u001b[49m\u001b[38;5;124;43m\"\u001b[39;49m\u001b[38;5;124;43mroc\u001b[39;49m\u001b[38;5;124;43m\"\u001b[39;49m\u001b[43m,\u001b[49m\u001b[43m \u001b[49m\u001b[38;5;124;43mf\u001b[39;49m\u001b[38;5;124;43m\"\u001b[39;49m\u001b[38;5;124;43mroc_\u001b[39;49m\u001b[38;5;132;43;01m{\u001b[39;49;00m\u001b[43mdescription\u001b[49m\u001b[38;5;132;43;01m}\u001b[39;49;00m\u001b[38;5;124;43m_\u001b[39;49m\u001b[38;5;132;43;01m{\u001b[39;49;00m\u001b[43mclassifier_name\u001b[49m\u001b[38;5;132;43;01m}\u001b[39;49;00m\u001b[38;5;124;43m.json\u001b[39;49m\u001b[38;5;124;43m\"\u001b[39;49m\u001b[43m)\u001b[49m\n\u001b[0;32m    638\u001b[0m     \u001b[38;5;28;01mtry\u001b[39;00m:\n\u001b[0;32m    639\u001b[0m         \u001b[38;5;28;01mwith\u001b[39;00m \u001b[38;5;28mopen\u001b[39m(filename, \u001b[38;5;124m\"\u001b[39m\u001b[38;5;124mr\u001b[39m\u001b[38;5;124m\"\u001b[39m) \u001b[38;5;28;01mas\u001b[39;00m file:\n",
      "File \u001b[1;32m<frozen ntpath>:108\u001b[0m, in \u001b[0;36mjoin\u001b[1;34m(path, *paths)\u001b[0m\n",
      "\u001b[1;31mTypeError\u001b[0m: expected str, bytes or os.PathLike object, not list"
     ]
    },
    {
     "data": {
      "text/plain": [
       "<Figure size 640x480 with 0 Axes>"
      ]
     },
     "metadata": {},
     "output_type": "display_data"
    },
    {
     "ename": "",
     "evalue": "",
     "output_type": "error",
     "traceback": [
      "\u001b[1;31mThe Kernel crashed while executing code in the current cell or a previous cell. \n",
      "\u001b[1;31mPlease review the code in the cell(s) to identify a possible cause of the failure. \n",
      "\u001b[1;31mClick <a href='https://aka.ms/vscodeJupyterKernelCrash'>here</a> for more info. \n",
      "\u001b[1;31mView Jupyter <a href='command:jupyter.viewOutput'>log</a> for further details."
     ]
    }
   ],
   "source": [
    "\n",
    "# binary_classifiers= dict(list(binary_classifiers.items())[:1])\n",
    "\n",
    "for i in tqdm(range(len(data_subdir))):\n",
    "    for j in tqdm(range(len(description))):\n",
    "        id = f\"{data_subdir[i]}_{description[j]}\"\n",
    "        X_train, X_test, y_train, y_test, pd_passthrough_train, pd_passthrough_test = prepare_data(accept_data_filename = accept_data_filename[i], reject_data_filename = reject_data_filename[i], data_subdir = id, format_mode = format_mode[j], get_pT=True)\n",
    "        results = train_evaluate_all_classifiers(binary_classifiers, X_train, X_test, y_train, y_test, pd_passthrough_train, pd_passthrough_test, description[j], id)\n",
    "        plot_all_results(binary_classifiers.keys(), description, data_subdir)"
   ]
  },
  {
   "cell_type": "code",
   "execution_count": null,
   "metadata": {},
   "outputs": [],
   "source": [
    "plot_all_results(binary_classifiers.keys(), description, data_subdir)"
   ]
  }
 ],
 "metadata": {
  "kernelspec": {
   "display_name": "Python 3",
   "language": "python",
   "name": "python3"
  },
  "language_info": {
   "codemirror_mode": {
    "name": "ipython",
    "version": 3
   },
   "file_extension": ".py",
   "mimetype": "text/x-python",
   "name": "python",
   "nbconvert_exporter": "python",
   "pygments_lexer": "ipython3",
   "version": "3.11.9"
  }
 },
 "nbformat": 4,
 "nbformat_minor": 2
}
