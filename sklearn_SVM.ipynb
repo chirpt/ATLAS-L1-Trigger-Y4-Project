{
 "cells": [
  {
   "cell_type": "code",
   "execution_count": null,
   "metadata": {},
   "outputs": [],
   "source": [
    "import numpy as np\n",
    "from sklearn.svm import SVC\n",
    "from sklearn.model_selection import train_test_split\n",
    "from sklearn.metrics import accuracy_score, classification_report, confusion_matrix\n",
    "import awkward as ak\n",
    "from utilities import *"
   ]
  },
  {
   "cell_type": "code",
   "execution_count": 2,
   "metadata": {},
   "outputs": [
    {
     "name": "stdout",
     "output_type": "stream",
     "text": [
      "loaded data, converting to numpy\n"
     ]
    }
   ],
   "source": [
    "DFs = import_data_files([\"l1calo_hist_ZMUMU_extended.root\", \"l1calo_hist_EGZ_extended.root\"])\n",
    "\n",
    "accepted_numpy = ak.to_numpy(DFs[0]['SuperCell_ET'])\n",
    "rejected_numpy = ak.to_numpy(DFs[1]['SuperCell_ET'])"
   ]
  },
  {
   "cell_type": "code",
   "execution_count": null,
   "metadata": {},
   "outputs": [
    {
     "name": "stdout",
     "output_type": "stream",
     "text": [
      "data shape (230910, 99) labels shape (230910,) \n",
      "splitting training and testing data\n"
     ]
    }
   ],
   "source": [
    "accepted_labels = np.zeros(accepted_numpy.shape[0])\n",
    "rejected_labels = np.ones(rejected_numpy.shape[0])\n",
    "\n",
    "data = np.concatenate((accepted_numpy,rejected_numpy),axis=0)\n",
    "labels = np.concatenate((accepted_labels,rejected_labels),axis=0)\n",
    "\n",
    "np.random.seed(42)\n",
    "np.random.shuffle(data)\n",
    "np.random.seed(42)\n",
    "np.random.shuffle(labels)\n",
    "\n",
    "X_train, X_test, y_train, y_test = train_test_split(data, labels, test_size=0.2, random_state=42)\n"
   ]
  },
  {
   "cell_type": "code",
   "execution_count": null,
   "metadata": {},
   "outputs": [
    {
     "name": "stdout",
     "output_type": "stream",
     "text": [
      "training...\n",
      "running on test data...\n"
     ]
    }
   ],
   "source": [
    "svm_classifier = SVC(kernel='rbf', C=1.0, gamma='scale', random_state=42)\n",
    "svm_classifier.fit(X_train, y_train)"
   ]
  },
  {
   "cell_type": "code",
   "execution_count": null,
   "metadata": {},
   "outputs": [
    {
     "name": "stdout",
     "output_type": "stream",
     "text": [
      "Accuracy: 0.97\n",
      "Classification Report:\n",
      "              precision    recall  f1-score   support\n",
      "\n",
      "         0.0       0.99      0.96      0.97     28387\n",
      "         1.0       0.93      0.98      0.96     17795\n",
      "\n",
      "    accuracy                           0.97     46182\n",
      "   macro avg       0.96      0.97      0.96     46182\n",
      "weighted avg       0.97      0.97      0.97     46182\n",
      "\n",
      "Confusion Matrix:\n",
      "[[27132  1255]\n",
      " [  356 17439]]\n"
     ]
    }
   ],
   "source": [
    "y_pred = svm_classifier.predict(X_test)\n",
    "accuracy = accuracy_score(y_test, y_pred)\n",
    "\n",
    "print(f\"Accuracy: {accuracy:.2f}\")\n",
    "print(\"Classification Report:\\n\",classification_report(y_test, y_pred))\n",
    "print(\"Confusion Matrix:\\n\",confusion_matrix(y_test, y_pred))"
   ]
  }
 ],
 "metadata": {
  "kernelspec": {
   "display_name": ".venv",
   "language": "python",
   "name": "python3"
  },
  "language_info": {
   "codemirror_mode": {
    "name": "ipython",
    "version": 3
   },
   "file_extension": ".py",
   "mimetype": "text/x-python",
   "name": "python",
   "nbconvert_exporter": "python",
   "pygments_lexer": "ipython3",
   "version": "3.12.7"
  }
 },
 "nbformat": 4,
 "nbformat_minor": 2
}
