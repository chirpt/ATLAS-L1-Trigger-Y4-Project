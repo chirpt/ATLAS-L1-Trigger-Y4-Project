{
 "cells": [
  {
   "cell_type": "code",
   "execution_count": 1,
   "metadata": {},
   "outputs": [],
   "source": [
    "import os\n",
    "import math\n",
    "import pandas as pd\n",
    "import numpy as np\n",
    "import matplotlib.pyplot as plt\n",
    "from utilities import *\n",
    "import torch\n",
    "import torch.nn as nn\n",
    "import torch.optim as optim\n",
    "import awkward as ak"
   ]
  },
  {
   "cell_type": "code",
   "execution_count": 13,
   "metadata": {},
   "outputs": [],
   "source": [
    "class KernelSVM(nn.Module):\n",
    "    def __init__(self, input_size=9801, output_size=1):\n",
    "        super(KernelSVM, self).__init__()\n",
    "        # The input_size here matches the flattened kernel size\n",
    "        self.linear = nn.Linear(input_size, output_size)\n",
    "\n",
    "    def forward(self, x1, x2):\n",
    "        # Ensure x1 and x2 have the correct shape for an outer product\n",
    "        x1 = x1.view(-1)   # Shape (99,)\n",
    "        x2 = x2.view(-1)   # Shape (99,)\n",
    "\n",
    "        # Compute the outer product (quadratic kernel) and square it\n",
    "        kernel = torch.ger(x1, x2) ** 2  # Shape (99, 99)\n",
    "\n",
    "        # Flatten the kernel to match the linear layer input size\n",
    "        kernel_flat = kernel.view(-1)  # Shape (9801,)\n",
    "        \n",
    "        # Pass the flattened kernel through the linear layer\n",
    "        return self.linear(kernel_flat)\n",
    "\n"
   ]
  },
  {
   "cell_type": "code",
   "execution_count": 11,
   "metadata": {},
   "outputs": [],
   "source": [
    "DFs = import_data_files([\"l1calo_hist_ZMUMU_extended.root\",\"l1calo_hist_EGZ_extended.root\"])"
   ]
  },
  {
   "cell_type": "code",
   "execution_count": 4,
   "metadata": {},
   "outputs": [],
   "source": [
    "def split_data(data, labels, train_ratio=0.8):\n",
    "    \"\"\"\n",
    "    Splits the data and labels into training and testing sets.\n",
    "\n",
    "    Args:\n",
    "        data (torch.Tensor): The input data tensor.\n",
    "        labels (torch.Tensor): The corresponding labels tensor.\n",
    "        train_ratio (float, optional): The ratio of data to use for training. Defaults to 0.8.\n",
    "\n",
    "    Returns:\n",
    "        tuple: A tuple of four tensors: (train_data, train_labels, test_data, test_labels)\n",
    "    \"\"\"\n",
    "\n",
    "    # Determine the number of training samples\n",
    "    num_train_samples = int(train_ratio * len(data))\n",
    "\n",
    "    # Split the data and labels into training and testing sets\n",
    "    train_data, test_data = torch.utils.data.random_split(data, [num_train_samples, len(data) - num_train_samples])\n",
    "    train_labels, test_labels = torch.utils.data.random_split(labels, [num_train_samples, len(labels) - num_train_samples])\n",
    "    print(\"Data type of training data:\", train_data.dataset.dtype)\n",
    "    print(\"Data type of training labels:\", train_labels.dataset.dtype)\n",
    "    print(\"Data type of testing data:\", test_data.dataset.dtype)\n",
    "    print(\"Data type of testing labels:\", test_labels.dataset.dtype)\n",
    "    return train_data, train_labels, test_data, test_labels"
   ]
  },
  {
   "cell_type": "code",
   "execution_count": 5,
   "metadata": {},
   "outputs": [],
   "source": [
    "def hinge_loss(output, target):\n",
    "    loss = torch.clamp(1 - output.t() * target, min=0)\n",
    "    return torch.mean(loss)"
   ]
  },
  {
   "cell_type": "code",
   "execution_count": 6,
   "metadata": {},
   "outputs": [
    {
     "name": "stdout",
     "output_type": "stream",
     "text": [
      "data loaded from files\n",
      "converting data to numpy array...\n",
      "[[0.         0.         0.         ... 0.         0.         0.        ]\n",
      " [0.         0.         0.         ... 0.         0.         0.        ]\n",
      " [0.         0.         0.         ... 0.         0.         0.        ]\n",
      " ...\n",
      " [0.         0.         0.         ... 0.         0.         0.        ]\n",
      " [0.         0.         0.         ... 0.         0.         0.        ]\n",
      " [0.         0.52499998 0.55000001 ... 0.         0.         0.        ]]\n",
      "converting data to torch tensor format...\n",
      "generating labels...\n",
      "concatenating accepted and rejected torch tensor datasets...\n",
      "shuffling data...\n",
      "splitting data...\n",
      "Data type of training data: torch.float64\n",
      "Data type of training labels: torch.int64\n",
      "Data type of testing data: torch.float64\n",
      "Data type of testing labels: torch.int64\n"
     ]
    }
   ],
   "source": [
    "def prepare_data(DFs):\n",
    "    print(\"data loaded from files\")\n",
    "    print(\"converting data to numpy array...\")\n",
    "    accepted_numpy = ak.to_numpy(DFs[0]['SuperCell_ET'])\n",
    "    rejected_numpy = ak.to_numpy(DFs[1]['SuperCell_ET'])\n",
    "    print(accepted_numpy)\n",
    "    print(\"converting data to torch tensor format...\")\n",
    "    accepted_tensor  = torch.tensor(accepted_numpy)\n",
    "    rejected_tensor  = torch.tensor(rejected_numpy)\n",
    "    print(\"generating labels...\")\n",
    "    accepted_labels = torch.zeros(len(accepted_tensor), dtype=torch.long)\n",
    "    rejected_labels = torch.ones(len(rejected_tensor), dtype=torch.long)\n",
    "\n",
    "    print(\"concatenating accepted and rejected torch tensor datasets...\")\n",
    "    # Concatenate samples and labels\n",
    "    data = torch.cat([accepted_tensor, rejected_tensor], dim=0)\n",
    "    labels = torch.cat([accepted_labels, rejected_labels], dim=0)\n",
    "\n",
    "    print(\"shuffling data...\")\n",
    "    # Shuffle data and labels together\n",
    "    indices = torch.randperm(len(data))\n",
    "    data = data[indices]\n",
    "    labels = labels[indices]\n",
    "\n",
    "    # need to split and reorder this so that the labels match\n",
    "    \n",
    "    print(\"splitting data...\")\n",
    "    train_data, train_labels, test_data, test_labels = split_data(data, labels, train_ratio=0.8)\n",
    "\n",
    "    training_info = {\"data\":train_data,\"labels\":train_labels}\n",
    "    testing_info = {\"data\":test_data,\"labels\":test_labels}\n",
    "\n",
    "    return training_info, testing_info\n",
    "\n",
    "training_info, testing_info = prepare_data(DFs)"
   ]
  },
  {
   "cell_type": "code",
   "execution_count": 15,
   "metadata": {},
   "outputs": [],
   "source": [
    "def train_model(training_data):\n",
    "    # Hyperparameters\n",
    "    input_size = 9801\n",
    "    output_size = 1  # Binary classification\n",
    "    learning_rate = 0.01\n",
    "    num_epochs = 10\n",
    "\n",
    "    # Sample data (replace with your actual data)\n",
    "    X = training_data[\"data\"].dataset.float()  # Ensuring float dtype for model compatibility\n",
    "    y = training_data[\"labels\"].dataset.float()\n",
    "\n",
    "    # Create the model\n",
    "    model = KernelSVM(input_size=input_size, output_size=output_size)\n",
    "\n",
    "    # Define the optimizer\n",
    "    optimizer = optim.SGD(model.parameters(), lr=learning_rate)\n",
    "\n",
    "    # Training loop\n",
    "    for epoch in range(num_epochs):\n",
    "        for i in range(len(X)):\n",
    "            # Forward pass\n",
    "            output = model(X[i].unsqueeze(0), X[i].unsqueeze(0))  # Ensuring each sample is passed with compatible shapes\n",
    "\n",
    "            # Calculate loss\n",
    "            loss = hinge_loss(output, y[i])\n",
    "\n",
    "            # Backward pass and optimization\n",
    "            optimizer.zero_grad()\n",
    "            loss.backward()\n",
    "            optimizer.step()\n",
    "\n",
    "        print(f'Epoch [{epoch+1}/{num_epochs}], Loss: {loss.item():.4f}')\n",
    "    \n",
    "    torch.save(model.state_dict(), 'svm_model.pth')\n",
    "    return model\n"
   ]
  },
  {
   "cell_type": "code",
   "execution_count": 16,
   "metadata": {},
   "outputs": [
    {
     "name": "stdout",
     "output_type": "stream",
     "text": [
      "Epoch [1/10], Loss: 1.0000\n",
      "Epoch [2/10], Loss: 1.0000\n",
      "Epoch [3/10], Loss: 1.0000\n",
      "Epoch [4/10], Loss: 1.0000\n",
      "Epoch [5/10], Loss: 1.0000\n",
      "Epoch [6/10], Loss: 1.0000\n",
      "Epoch [7/10], Loss: 1.0000\n",
      "Epoch [8/10], Loss: 1.0000\n",
      "Epoch [9/10], Loss: 1.0000\n",
      "Epoch [10/10], Loss: 1.0000\n"
     ]
    }
   ],
   "source": [
    "model_data = train_model(training_info)"
   ]
  }
 ],
 "metadata": {
  "kernelspec": {
   "display_name": "Python 3",
   "language": "python",
   "name": "python3"
  },
  "language_info": {
   "codemirror_mode": {
    "name": "ipython",
    "version": 3
   },
   "file_extension": ".py",
   "mimetype": "text/x-python",
   "name": "python",
   "nbconvert_exporter": "python",
   "pygments_lexer": "ipython3",
   "version": "3.11.9"
  }
 },
 "nbformat": 4,
 "nbformat_minor": 2
}
