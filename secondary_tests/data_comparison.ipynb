{
 "cells": [
  {
   "cell_type": "code",
   "execution_count": 1,
   "metadata": {},
   "outputs": [
    {
     "name": "stderr",
     "output_type": "stream",
     "text": [
      "c:\\Users\\Me\\AppData\\Local\\Programs\\Python\\Python312\\Lib\\site-packages\\tqdm\\auto.py:21: TqdmWarning: IProgress not found. Please update jupyter and ipywidgets. See https://ipywidgets.readthedocs.io/en/stable/user_install.html\n",
      "  from .autonotebook import tqdm as notebook_tqdm\n"
     ]
    }
   ],
   "source": [
    "from utilities_new import *"
   ]
  },
  {
   "cell_type": "code",
   "execution_count": 3,
   "metadata": {},
   "outputs": [],
   "source": [
    "data_filenames = [\"data\\\\l1calo_hist_EGZ_extended_new.root\",\"data\\\\l1calo_hist_EGZ_extended.root\",\"data\\\\l1calo_hist_ZB_EN.root\",\"data\\\\l1calo_hist_ZB.root\",\"data\\\\l1calo_hist_Zee.root\",\"data\\\\l1calo_hist_ZMUMU_extended_new.root\",\"data\\\\l1calo_hist_ZMUMU_extended.root\",\"data\\\\l1calo_hist_ZMUMU_merg19aug24.root\",\"data\\\\l1calo_topocluster_test_ZB.root\",\"data\\\\l1calo_topocluster_test_Zee.root\",\"data\\\\l1calo_topocluster_ZBnew.root\",\"data\\\\ZMUMU_TopoCluster_Supercell_Large.root\"]\n",
    "DFs = import_data_files(data_filenames)"
   ]
  },
  {
   "cell_type": "code",
   "execution_count": 6,
   "metadata": {},
   "outputs": [
    {
     "name": "stdout",
     "output_type": "stream",
     "text": [
      "data\\l1calo_hist_EGZ_extended_new.root\n",
      "Index(['TOB_ET', 'TOB_eta', 'TOB_ieta', 'TOB_ietabin', 'TOB_phi',\n",
      "       'offline_ele_pt', 'offline_ele_eta', 'offline_ele_eta_cal',\n",
      "       'offline_ele_phi', 'offline_ele_phi_cal', 'eFEX_ET', 'eFEX_PS_ET',\n",
      "       'eFEX_L1_ET', 'eFEX_L2_ET', 'eFEX_L3_ET', 'SuperCell_ET', 'ID'],\n",
      "      dtype='object')\n",
      "(89169, 17)\n",
      "data\\l1calo_hist_EGZ_extended.root\n",
      "Index(['TOB_ET', 'TOB_eta', 'TOB_ieta', 'TOB_ietabin', 'TOB_phi',\n",
      "       'offline_ele_pt', 'offline_ele_eta', 'offline_ele_eta_cal',\n",
      "       'offline_ele_phi', 'offline_ele_phi_cal', 'eFEX_ET', 'eFEX_PS_ET',\n",
      "       'eFEX_L1_ET', 'eFEX_L2_ET', 'eFEX_L3_ET', 'SuperCell_ET', 'eFEX_ReC',\n",
      "       'eFEX_ReE', 'eFEX_RhE', 'eFEX_RhH', 'eFEX_WsN', 'eFEX_WsD'],\n",
      "      dtype='object')\n",
      "(89169, 22)\n",
      "data\\l1calo_hist_ZB_EN.root\n",
      "Index(['TOB_ET', 'TOB_eta', 'TOB_ieta', 'TOB_ietabin', 'TOB_phi',\n",
      "       'offline_ele_pt', 'offline_ele_eta', 'offline_ele_eta_cal',\n",
      "       'offline_ele_phi', 'offline_ele_phi_cal', 'eFEX_Clus_SCETs',\n",
      "       'legacy_ET', 'eFEX_ReC', 'eFEX_ReE', 'eFEX_RhE', 'eFEX_RhH', 'eFEX_WsN',\n",
      "       'eFEX_WsD', 'ID', 'SuperCell_ET', 'lumiBlock', 'averageMu',\n",
      "       'EventNumber', 'BDTScore', 'TopoCluster_ET', 'TopoCluster_eta',\n",
      "       'TopoCluster_phi'],\n",
      "      dtype='object')\n",
      "(21701, 27)\n",
      "data\\l1calo_hist_ZB.root\n",
      "Index(['TOB_ET', 'TOB_eta', 'TOB_ieta', 'TOB_ietabin', 'TOB_phi',\n",
      "       'offline_ele_pt', 'offline_ele_eta', 'offline_ele_eta_cal',\n",
      "       'offline_ele_phi', 'offline_ele_phi_cal', 'eFEX_Clus_ETs', 'legacy_ET',\n",
      "       'eFEX_ReC', 'eFEX_ReE', 'eFEX_RhE', 'eFEX_RhH', 'eFEX_WsN', 'eFEX_WsD',\n",
      "       'ID', 'SuperCell_ET', 'lumiBlock', 'averageMu', 'BDTScore'],\n",
      "      dtype='object')\n",
      "(21761, 23)\n",
      "data\\l1calo_hist_Zee.root\n",
      "Index(['TOB_ET', 'TOB_eta', 'TOB_ieta', 'TOB_ietabin', 'TOB_phi',\n",
      "       'offline_ele_pt', 'offline_ele_eta', 'offline_ele_eta_cal',\n",
      "       'offline_ele_phi', 'offline_ele_phi_cal', 'eFEX_Clus_ETs', 'legacy_ET',\n",
      "       'eFEX_ReC', 'eFEX_ReE', 'eFEX_RhE', 'eFEX_RhH', 'eFEX_WsN', 'eFEX_WsD',\n",
      "       'ID', 'SuperCell_ET', 'lumiBlock', 'averageMu', 'BDTScore'],\n",
      "      dtype='object')\n",
      "(1547174, 23)\n",
      "data\\l1calo_hist_ZMUMU_extended_new.root\n",
      "Index(['TOB_ET', 'TOB_eta', 'TOB_ieta', 'TOB_ietabin', 'TOB_phi',\n",
      "       'offline_ele_pt', 'offline_ele_eta', 'offline_ele_eta_cal',\n",
      "       'offline_ele_phi', 'offline_ele_phi_cal', 'eFEX_ET', 'eFEX_PS_ET',\n",
      "       'eFEX_L1_ET', 'eFEX_L2_ET', 'eFEX_L3_ET', 'SuperCell_ET', 'ID'],\n",
      "      dtype='object')\n",
      "(141741, 17)\n",
      "data\\l1calo_hist_ZMUMU_extended.root\n",
      "Index(['TOB_ET', 'TOB_eta', 'TOB_ieta', 'TOB_ietabin', 'TOB_phi',\n",
      "       'offline_ele_pt', 'offline_ele_eta', 'offline_ele_eta_cal',\n",
      "       'offline_ele_phi', 'offline_ele_phi_cal', 'eFEX_ET', 'eFEX_PS_ET',\n",
      "       'eFEX_L1_ET', 'eFEX_L2_ET', 'eFEX_L3_ET', 'SuperCell_ET', 'eFEX_ReC',\n",
      "       'eFEX_ReE', 'eFEX_RhE', 'eFEX_RhH', 'eFEX_WsN', 'eFEX_WsD'],\n",
      "      dtype='object')\n",
      "(141741, 22)\n",
      "data\\l1calo_hist_ZMUMU_merg19aug24.root\n",
      "Index(['TOB_ET', 'TOB_eta', 'TOB_ieta', 'TOB_ietabin', 'TOB_phi',\n",
      "       'offline_ele_pt', 'offline_ele_eta', 'offline_ele_eta_cal',\n",
      "       'offline_ele_phi', 'offline_ele_phi_cal', 'eFEX_ET', 'eFEX_PS_ET',\n",
      "       'eFEX_L1_ET', 'eFEX_L2_ET', 'eFEX_L3_ET', 'legacy_ET', 'eFEX_ReC',\n",
      "       'eFEX_ReE', 'eFEX_RhE', 'eFEX_RhH', 'eFEX_WsN', 'eFEX_WsD', 'ID',\n",
      "       'SuperCell_ET'],\n",
      "      dtype='object')\n",
      "(95098, 24)\n",
      "data\\l1calo_topocluster_test_ZB.root\n",
      "Index(['TOB_ET', 'TOB_eta', 'TOB_ieta', 'TOB_ietabin', 'TOB_phi',\n",
      "       'offline_ele_pt', 'offline_ele_eta', 'offline_ele_eta_cal',\n",
      "       'offline_ele_phi', 'offline_ele_phi_cal', 'eFEX_Clus_ETs', 'legacy_ET',\n",
      "       'eFEX_ReC', 'eFEX_ReE', 'eFEX_RhE', 'eFEX_RhH', 'eFEX_WsN', 'eFEX_WsD',\n",
      "       'ID', 'SuperCell_ET', 'lumiBlock', 'averageMu', 'BDTScore',\n",
      "       'TopoCluster_ET', 'TopoCluster_eta', 'TopoCluster_phi'],\n",
      "      dtype='object')\n",
      "(1159, 26)\n",
      "data\\l1calo_topocluster_test_Zee.root\n",
      "Index(['TOB_ET', 'TOB_eta', 'TOB_ieta', 'TOB_ietabin', 'TOB_phi',\n",
      "       'offline_ele_pt', 'offline_ele_eta', 'offline_ele_eta_cal',\n",
      "       'offline_ele_phi', 'offline_ele_phi_cal', 'eFEX_Clus_ETs', 'legacy_ET',\n",
      "       'eFEX_ReC', 'eFEX_ReE', 'eFEX_RhE', 'eFEX_RhH', 'eFEX_WsN', 'eFEX_WsD',\n",
      "       'ID', 'SuperCell_ET', 'lumiBlock', 'averageMu', 'BDTScore',\n",
      "       'TopoCluster_ET', 'TopoCluster_eta', 'TopoCluster_phi'],\n",
      "      dtype='object')\n",
      "(371765, 26)\n",
      "data\\l1calo_topocluster_ZBnew.root\n",
      "Index(['TOB_ET', 'TOB_eta', 'TOB_ieta', 'TOB_ietabin', 'TOB_phi',\n",
      "       'offline_ele_pt', 'offline_ele_eta', 'offline_ele_eta_cal',\n",
      "       'offline_ele_phi', 'offline_ele_phi_cal', 'eFEX_Clus_ETs', 'legacy_ET',\n",
      "       'eFEX_ReC', 'eFEX_ReE', 'eFEX_RhE', 'eFEX_RhH', 'eFEX_WsN', 'eFEX_WsD',\n",
      "       'ID', 'SuperCell_ET', 'lumiBlock', 'averageMu', 'BDTScore',\n",
      "       'TopoCluster_ET', 'TopoCluster_eta', 'TopoCluster_phi'],\n",
      "      dtype='object')\n",
      "(21761, 26)\n",
      "data\\ZMUMU_TopoCluster_Supercell_Large.root\n",
      "Index(['TOB_ET', 'TOB_eta', 'TOB_ieta', 'TOB_ietabin', 'TOB_phi',\n",
      "       'offline_ele_pt', 'offline_ele_eta', 'offline_ele_eta_cal',\n",
      "       'offline_ele_phi', 'offline_ele_phi_cal', 'offline_zeemass',\n",
      "       'eFEX_Clus_SCETs', 'legacy_ET', 'eFEX_ReC', 'eFEX_ReE', 'eFEX_RhE',\n",
      "       'eFEX_RhH', 'eFEX_WsN', 'eFEX_WsD', 'ID', 'SuperCell_ET', 'lumiBlock',\n",
      "       'averageMu', 'EventNumber', 'BDTScore', 'TopoCluster_ET',\n",
      "       'TopoCluster_eta', 'TopoCluster_phi'],\n",
      "      dtype='object')\n",
      "(535535, 28)\n"
     ]
    }
   ],
   "source": [
    "for i, DF in enumerate(DFs):\n",
    "    print(data_filenames[i])\n",
    "    # print(DF.head())\n",
    "    print(DF.columns)\n",
    "    # print(DF.dtypes)\n",
    "    print(DF.shape)"
   ]
  }
 ],
 "metadata": {
  "kernelspec": {
   "display_name": "Python 3",
   "language": "python",
   "name": "python3"
  },
  "language_info": {
   "codemirror_mode": {
    "name": "ipython",
    "version": 3
   },
   "file_extension": ".py",
   "mimetype": "text/x-python",
   "name": "python",
   "nbconvert_exporter": "python",
   "pygments_lexer": "ipython3",
   "version": "3.12.7"
  }
 },
 "nbformat": 4,
 "nbformat_minor": 2
}
