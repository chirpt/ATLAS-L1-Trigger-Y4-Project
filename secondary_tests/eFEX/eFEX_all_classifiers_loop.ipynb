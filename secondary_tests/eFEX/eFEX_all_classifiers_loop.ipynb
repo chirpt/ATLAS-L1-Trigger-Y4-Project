{
 "cells": [
  {
   "cell_type": "code",
   "execution_count": 2,
   "metadata": {},
   "outputs": [
    {
     "name": "stdout",
     "output_type": "stream",
     "text": [
      "Imported 43 binary classifiers:\n",
      "['AdaBoostClassifier', 'BaggingClassifier', 'BernoulliNB', 'CalibratedClassifierCV', 'CategoricalNB', 'ClassifierChain', 'ComplementNB', 'DecisionTreeClassifier', 'DummyClassifier', 'ExtraTreeClassifier', 'ExtraTreesClassifier', 'FixedThresholdClassifier', 'GaussianNB', 'GaussianProcessClassifier', 'GradientBoostingClassifier', 'HistGradientBoostingClassifier', 'KNeighborsClassifier', 'LabelPropagation', 'LabelSpreading', 'LinearDiscriminantAnalysis', 'LinearSVC', 'LogisticRegression', 'LogisticRegressionCV', 'MLPClassifier', 'MultiOutputClassifier', 'MultinomialNB', 'NearestCentroid', 'NuSVC', 'OneVsOneClassifier', 'OneVsRestClassifier', 'OutputCodeClassifier', 'PassiveAggressiveClassifier', 'Perceptron', 'QuadraticDiscriminantAnalysis', 'RadiusNeighborsClassifier', 'RandomForestClassifier', 'RidgeClassifier', 'RidgeClassifierCV', 'SGDClassifier', 'SVC', 'TunedThresholdClassifierCV', 'VotingClassifier', 'XGBClassifier']\n"
     ]
    }
   ],
   "source": [
    "import sys\n",
    "import os\n",
    "\n",
    "parent_dir = os.path.dirname(os.getcwd())\n",
    "sys.path.append(parent_dir)\n",
    "\n",
    "from utilities_new import *\n",
    "\n",
    "description = [\"99_supercells\", \"88_reduced\", \"iso\"]\n",
    "data_subdir = [\"ZMUMU_EGZ_extended_eFEX\", \"eFEX_with_newest_Topo_files\"]\n",
    "accept_data_filename = [\"l1calo_hist_EGZ_extended.root\", \"l1calo_topocluster_test_Zee.root\"]\n",
    "reject_data_filename = [\"l1calo_hist_ZMUMU_extended.root\", \"ZMUMU_TopoCluster_Supercell_Large.root\"]\n",
    "format_mode = [\"SuperCell_ET\", \"reduced_SuperCell_ET\", \"iso_vars\"]\n",
    "\n",
    "binary_classifiers = import_all_classifiers()\n"
   ]
  },
  {
   "cell_type": "code",
   "execution_count": 3,
   "metadata": {},
   "outputs": [
    {
     "name": "stdout",
     "output_type": "stream",
     "text": [
      "NuSVC removed\n",
      "SVC removed\n"
     ]
    },
    {
     "name": "stderr",
     "output_type": "stream",
     "text": [
      "  0%|          | 0/2 [00:00<?, ?it/s]"
     ]
    },
    {
     "name": "stdout",
     "output_type": "stream",
     "text": [
      "found preprepared data in ..\\data\\ZMUMU_EGZ_extended_eFEX_99_supercells\n",
      "found data preparation log in ..\\data\\ZMUMU_EGZ_extended_eFEX_99_supercells\\log.json\n",
      "Log saved to ZMUMU_EGZ_extended_eFEX_99_supercells\\log.json\n"
     ]
    },
    {
     "name": "stderr",
     "output_type": "stream",
     "text": [
      "\n",
      "100%|██████████| 41/41 [00:00<00:00, 3723.67it/s]\n"
     ]
    },
    {
     "name": "stdout",
     "output_type": "stream",
     "text": [
      "Results for AdaBoostClassifier already exist in ZMUMU_EGZ_extended_eFEX_99_supercells\n",
      "Results for BaggingClassifier already exist in ZMUMU_EGZ_extended_eFEX_99_supercells\n",
      "Results for BernoulliNB already exist in ZMUMU_EGZ_extended_eFEX_99_supercells\n",
      "Results for CalibratedClassifierCV already exist in ZMUMU_EGZ_extended_eFEX_99_supercells\n",
      "Results for CategoricalNB already exist in ZMUMU_EGZ_extended_eFEX_99_supercells\n",
      "Results for ClassifierChain already exist in ZMUMU_EGZ_extended_eFEX_99_supercells\n",
      "Results for ComplementNB already exist in ZMUMU_EGZ_extended_eFEX_99_supercells\n",
      "Results for DecisionTreeClassifier already exist in ZMUMU_EGZ_extended_eFEX_99_supercells\n",
      "Results for DummyClassifier already exist in ZMUMU_EGZ_extended_eFEX_99_supercells\n",
      "Results for ExtraTreeClassifier already exist in ZMUMU_EGZ_extended_eFEX_99_supercells\n",
      "Results for ExtraTreesClassifier already exist in ZMUMU_EGZ_extended_eFEX_99_supercells\n",
      "Results for FixedThresholdClassifier already exist in ZMUMU_EGZ_extended_eFEX_99_supercells\n",
      "Results for GaussianNB already exist in ZMUMU_EGZ_extended_eFEX_99_supercells\n",
      "Results for GaussianProcessClassifier already exist in ZMUMU_EGZ_extended_eFEX_99_supercells\n",
      "Results for GradientBoostingClassifier already exist in ZMUMU_EGZ_extended_eFEX_99_supercells\n",
      "Results for HistGradientBoostingClassifier already exist in ZMUMU_EGZ_extended_eFEX_99_supercells\n",
      "Results for KNeighborsClassifier already exist in ZMUMU_EGZ_extended_eFEX_99_supercells\n",
      "Results for LabelPropagation already exist in ZMUMU_EGZ_extended_eFEX_99_supercells\n",
      "Results for LabelSpreading already exist in ZMUMU_EGZ_extended_eFEX_99_supercells\n",
      "Results for LinearDiscriminantAnalysis already exist in ZMUMU_EGZ_extended_eFEX_99_supercells\n",
      "Results for LinearSVC already exist in ZMUMU_EGZ_extended_eFEX_99_supercells\n",
      "Results for LogisticRegression already exist in ZMUMU_EGZ_extended_eFEX_99_supercells\n",
      "Results for LogisticRegressionCV already exist in ZMUMU_EGZ_extended_eFEX_99_supercells\n",
      "Results for MLPClassifier already exist in ZMUMU_EGZ_extended_eFEX_99_supercells\n",
      "Results for MultiOutputClassifier already exist in ZMUMU_EGZ_extended_eFEX_99_supercells\n",
      "Results for MultinomialNB already exist in ZMUMU_EGZ_extended_eFEX_99_supercells\n",
      "Results for NearestCentroid already exist in ZMUMU_EGZ_extended_eFEX_99_supercells\n",
      "Results for OneVsOneClassifier already exist in ZMUMU_EGZ_extended_eFEX_99_supercells\n",
      "Results for OneVsRestClassifier already exist in ZMUMU_EGZ_extended_eFEX_99_supercells\n",
      "Results for OutputCodeClassifier already exist in ZMUMU_EGZ_extended_eFEX_99_supercells\n",
      "Results for PassiveAggressiveClassifier already exist in ZMUMU_EGZ_extended_eFEX_99_supercells\n",
      "Results for Perceptron already exist in ZMUMU_EGZ_extended_eFEX_99_supercells\n",
      "Results for QuadraticDiscriminantAnalysis already exist in ZMUMU_EGZ_extended_eFEX_99_supercells\n",
      "Results for RadiusNeighborsClassifier already exist in ZMUMU_EGZ_extended_eFEX_99_supercells\n",
      "Results for RandomForestClassifier already exist in ZMUMU_EGZ_extended_eFEX_99_supercells\n",
      "Results for RidgeClassifier already exist in ZMUMU_EGZ_extended_eFEX_99_supercells\n",
      "Results for RidgeClassifierCV already exist in ZMUMU_EGZ_extended_eFEX_99_supercells\n",
      "Results for SGDClassifier already exist in ZMUMU_EGZ_extended_eFEX_99_supercells\n",
      "Results for TunedThresholdClassifierCV already exist in ZMUMU_EGZ_extended_eFEX_99_supercells\n",
      "Results for VotingClassifier already exist in ZMUMU_EGZ_extended_eFEX_99_supercells\n",
      "Results for XGBClassifier already exist in ZMUMU_EGZ_extended_eFEX_99_supercells\n",
      "Results saved to ZMUMU_EGZ_extended_eFEX_99_supercells/ZMUMU_EGZ_extended_eFEX_99_supercells_99_supercells_all.csv\n",
      "found preprepared data in ..\\data\\ZMUMU_EGZ_extended_eFEX_88_reduced\n",
      "found data preparation log in ..\\data\\ZMUMU_EGZ_extended_eFEX_88_reduced\\log.json\n",
      "Log saved to ZMUMU_EGZ_extended_eFEX_88_reduced\\log.json\n"
     ]
    },
    {
     "name": "stderr",
     "output_type": "stream",
     "text": [
      "\n",
      "\u001b[A"
     ]
    },
    {
     "name": "stdout",
     "output_type": "stream",
     "text": [
      "Results for AdaBoostClassifier already exist in ZMUMU_EGZ_extended_eFEX_88_reduced\n",
      "Results for BaggingClassifier already exist in ZMUMU_EGZ_extended_eFEX_88_reduced\n",
      "Results for BernoulliNB already exist in ZMUMU_EGZ_extended_eFEX_88_reduced\n",
      "Results for CalibratedClassifierCV already exist in ZMUMU_EGZ_extended_eFEX_88_reduced\n",
      "Results for CategoricalNB already exist in ZMUMU_EGZ_extended_eFEX_88_reduced\n",
      "Results for ClassifierChain already exist in ZMUMU_EGZ_extended_eFEX_88_reduced\n",
      "Results for ComplementNB already exist in ZMUMU_EGZ_extended_eFEX_88_reduced\n",
      "Results for DecisionTreeClassifier already exist in ZMUMU_EGZ_extended_eFEX_88_reduced\n",
      "Results for DummyClassifier already exist in ZMUMU_EGZ_extended_eFEX_88_reduced\n",
      "Results for ExtraTreeClassifier already exist in ZMUMU_EGZ_extended_eFEX_88_reduced\n",
      "Results for ExtraTreesClassifier already exist in ZMUMU_EGZ_extended_eFEX_88_reduced\n",
      "Results for FixedThresholdClassifier already exist in ZMUMU_EGZ_extended_eFEX_88_reduced\n",
      "Results for GaussianNB already exist in ZMUMU_EGZ_extended_eFEX_88_reduced\n",
      "Results for GaussianProcessClassifier already exist in ZMUMU_EGZ_extended_eFEX_88_reduced\n",
      "Results for GradientBoostingClassifier already exist in ZMUMU_EGZ_extended_eFEX_88_reduced\n",
      "Results for HistGradientBoostingClassifier already exist in ZMUMU_EGZ_extended_eFEX_88_reduced\n",
      "Results for KNeighborsClassifier already exist in ZMUMU_EGZ_extended_eFEX_88_reduced\n",
      "Results for LabelPropagation already exist in ZMUMU_EGZ_extended_eFEX_88_reduced\n",
      "Results for LabelSpreading already exist in ZMUMU_EGZ_extended_eFEX_88_reduced\n",
      "Results for LinearDiscriminantAnalysis already exist in ZMUMU_EGZ_extended_eFEX_88_reduced\n",
      "Results for LinearSVC already exist in ZMUMU_EGZ_extended_eFEX_88_reduced\n",
      "Results for LogisticRegression already exist in ZMUMU_EGZ_extended_eFEX_88_reduced\n",
      "Results for LogisticRegressionCV already exist in ZMUMU_EGZ_extended_eFEX_88_reduced\n",
      "Results for MLPClassifier already exist in ZMUMU_EGZ_extended_eFEX_88_reduced\n",
      "Results for MultiOutputClassifier already exist in ZMUMU_EGZ_extended_eFEX_88_reduced\n",
      "Results for MultinomialNB already exist in ZMUMU_EGZ_extended_eFEX_88_reduced\n",
      "Results for NearestCentroid already exist in ZMUMU_EGZ_extended_eFEX_88_reduced\n",
      "Results for OneVsOneClassifier already exist in ZMUMU_EGZ_extended_eFEX_88_reduced\n",
      "Results for OneVsRestClassifier already exist in ZMUMU_EGZ_extended_eFEX_88_reduced\n",
      "Results for OutputCodeClassifier already exist in ZMUMU_EGZ_extended_eFEX_88_reduced\n",
      "Results for PassiveAggressiveClassifier already exist in ZMUMU_EGZ_extended_eFEX_88_reduced\n",
      "Results for Perceptron already exist in ZMUMU_EGZ_extended_eFEX_88_reduced\n",
      "Results for QuadraticDiscriminantAnalysis already exist in ZMUMU_EGZ_extended_eFEX_88_reduced\n",
      "Results for RadiusNeighborsClassifier already exist in ZMUMU_EGZ_extended_eFEX_88_reduced\n",
      "Results for RandomForestClassifier already exist in ZMUMU_EGZ_extended_eFEX_88_reduced\n",
      "Results for RidgeClassifier already exist in ZMUMU_EGZ_extended_eFEX_88_reduced\n",
      "Results for RidgeClassifierCV already exist in ZMUMU_EGZ_extended_eFEX_88_reduced\n",
      "Results for SGDClassifier already exist in ZMUMU_EGZ_extended_eFEX_88_reduced\n",
      "Results for TunedThresholdClassifierCV already exist in ZMUMU_EGZ_extended_eFEX_88_reduced\n",
      "Results for VotingClassifier already exist in ZMUMU_EGZ_extended_eFEX_88_reduced\n",
      "Results for XGBClassifier already exist in ZMUMU_EGZ_extended_eFEX_88_reduced\n"
     ]
    },
    {
     "name": "stderr",
     "output_type": "stream",
     "text": [
      "100%|██████████| 41/41 [00:00<00:00, 2409.57it/s]\n"
     ]
    },
    {
     "name": "stdout",
     "output_type": "stream",
     "text": [
      "Results saved to ZMUMU_EGZ_extended_eFEX_88_reduced/ZMUMU_EGZ_extended_eFEX_88_reduced_88_reduced_all.csv\n",
      "found preprepared data in ..\\data\\ZMUMU_EGZ_extended_eFEX_iso\n",
      "found data preparation log in ..\\data\\ZMUMU_EGZ_extended_eFEX_iso\\log.json\n",
      "Log saved to ZMUMU_EGZ_extended_eFEX_iso\\log.json\n"
     ]
    },
    {
     "name": "stderr",
     "output_type": "stream",
     "text": [
      "\n",
      "100%|██████████| 41/41 [00:00<00:00, 2560.28it/s]\n",
      "100%|██████████| 3/3 [00:00<00:00,  5.96it/s]\n",
      " 50%|█████     | 1/2 [00:00<00:00,  1.98it/s]"
     ]
    },
    {
     "name": "stdout",
     "output_type": "stream",
     "text": [
      "Results for AdaBoostClassifier already exist in ZMUMU_EGZ_extended_eFEX_iso\n",
      "Results for BaggingClassifier already exist in ZMUMU_EGZ_extended_eFEX_iso\n",
      "Results for BernoulliNB already exist in ZMUMU_EGZ_extended_eFEX_iso\n",
      "Results for CalibratedClassifierCV already exist in ZMUMU_EGZ_extended_eFEX_iso\n",
      "Results for CategoricalNB already exist in ZMUMU_EGZ_extended_eFEX_iso\n",
      "Results for ClassifierChain already exist in ZMUMU_EGZ_extended_eFEX_iso\n",
      "Results for ComplementNB already exist in ZMUMU_EGZ_extended_eFEX_iso\n",
      "Results for DecisionTreeClassifier already exist in ZMUMU_EGZ_extended_eFEX_iso\n",
      "Results for DummyClassifier already exist in ZMUMU_EGZ_extended_eFEX_iso\n",
      "Results for ExtraTreeClassifier already exist in ZMUMU_EGZ_extended_eFEX_iso\n",
      "Results for ExtraTreesClassifier already exist in ZMUMU_EGZ_extended_eFEX_iso\n",
      "Results for FixedThresholdClassifier already exist in ZMUMU_EGZ_extended_eFEX_iso\n",
      "Results for GaussianNB already exist in ZMUMU_EGZ_extended_eFEX_iso\n",
      "Results for GaussianProcessClassifier already exist in ZMUMU_EGZ_extended_eFEX_iso\n",
      "Results for GradientBoostingClassifier already exist in ZMUMU_EGZ_extended_eFEX_iso\n",
      "Results for HistGradientBoostingClassifier already exist in ZMUMU_EGZ_extended_eFEX_iso\n",
      "Results for KNeighborsClassifier already exist in ZMUMU_EGZ_extended_eFEX_iso\n",
      "Results for LabelPropagation already exist in ZMUMU_EGZ_extended_eFEX_iso\n",
      "Results for LabelSpreading already exist in ZMUMU_EGZ_extended_eFEX_iso\n",
      "Results for LinearDiscriminantAnalysis already exist in ZMUMU_EGZ_extended_eFEX_iso\n",
      "Results for LinearSVC already exist in ZMUMU_EGZ_extended_eFEX_iso\n",
      "Results for LogisticRegression already exist in ZMUMU_EGZ_extended_eFEX_iso\n",
      "Results for LogisticRegressionCV already exist in ZMUMU_EGZ_extended_eFEX_iso\n",
      "Results for MLPClassifier already exist in ZMUMU_EGZ_extended_eFEX_iso\n",
      "Results for MultiOutputClassifier already exist in ZMUMU_EGZ_extended_eFEX_iso\n",
      "Results for MultinomialNB already exist in ZMUMU_EGZ_extended_eFEX_iso\n",
      "Results for NearestCentroid already exist in ZMUMU_EGZ_extended_eFEX_iso\n",
      "Results for OneVsOneClassifier already exist in ZMUMU_EGZ_extended_eFEX_iso\n",
      "Results for OneVsRestClassifier already exist in ZMUMU_EGZ_extended_eFEX_iso\n",
      "Results for OutputCodeClassifier already exist in ZMUMU_EGZ_extended_eFEX_iso\n",
      "Results for PassiveAggressiveClassifier already exist in ZMUMU_EGZ_extended_eFEX_iso\n",
      "Results for Perceptron already exist in ZMUMU_EGZ_extended_eFEX_iso\n",
      "Results for QuadraticDiscriminantAnalysis already exist in ZMUMU_EGZ_extended_eFEX_iso\n",
      "Results for RadiusNeighborsClassifier already exist in ZMUMU_EGZ_extended_eFEX_iso\n",
      "Results for RandomForestClassifier already exist in ZMUMU_EGZ_extended_eFEX_iso\n",
      "Results for RidgeClassifier already exist in ZMUMU_EGZ_extended_eFEX_iso\n",
      "Results for RidgeClassifierCV already exist in ZMUMU_EGZ_extended_eFEX_iso\n",
      "Results for SGDClassifier already exist in ZMUMU_EGZ_extended_eFEX_iso\n",
      "Results for TunedThresholdClassifierCV already exist in ZMUMU_EGZ_extended_eFEX_iso\n",
      "Results for VotingClassifier already exist in ZMUMU_EGZ_extended_eFEX_iso\n",
      "Results for XGBClassifier already exist in ZMUMU_EGZ_extended_eFEX_iso\n",
      "Results saved to ZMUMU_EGZ_extended_eFEX_iso/ZMUMU_EGZ_extended_eFEX_iso_iso_all.csv\n"
     ]
    },
    {
     "name": "stderr",
     "output_type": "stream",
     "text": []
    },
    {
     "name": "stdout",
     "output_type": "stream",
     "text": [
      "found preprepared data in ..\\data\\eFEX_with_newest_Topo_files_99_supercells\n",
      "found data preparation log in ..\\data\\eFEX_with_newest_Topo_files_99_supercells\\log.json\n",
      "Log saved to eFEX_with_newest_Topo_files_99_supercells\\log.json\n"
     ]
    },
    {
     "name": "stderr",
     "output_type": "stream",
     "text": [
      "\n",
      "\u001b[A"
     ]
    },
    {
     "name": "stdout",
     "output_type": "stream",
     "text": [
      "Training AdaBoostClassifier...\n",
      "Took: 81.75339269638062 seconds\n",
      "predicting...\n",
      "Took: 1.9548397064208984 seconds\n",
      "\n",
      "\n",
      "Evaluation of AdaBoostClassifier\n",
      "Confusion Matrix:\n",
      " [[86285 20862]\n",
      " [ 3261 71052]]\n",
      "Accuracy: 0.86706161\n",
      "Recall: 0.95611804\n",
      "Precision: 0.77302696\n",
      "F1 Score: 0.85487917\n",
      "Classification Report:\n",
      "               precision    recall  f1-score   support\n",
      "\n",
      "         0.0       0.96      0.81      0.88    107147\n",
      "         1.0       0.77      0.96      0.85     74313\n",
      "\n",
      "    accuracy                           0.87    181460\n",
      "   macro avg       0.87      0.88      0.87    181460\n",
      "weighted avg       0.89      0.87      0.87    181460\n",
      "\n",
      "Mean Squared Error: 0.13293839\n",
      "\n",
      "ROC data saved to eFEX_with_newest_Topo_files_99_supercells\\roc\\roc_99_supercells_AdaBoostClassifier.json\n"
     ]
    },
    {
     "name": "stderr",
     "output_type": "stream",
     "text": [
      "\n",
      "\u001b[A"
     ]
    },
    {
     "name": "stdout",
     "output_type": "stream",
     "text": [
      "Precision-Recall data saved to eFEX_with_newest_Topo_files_99_supercells\\precision_recall\\precision_recall_99_supercells_AdaBoostClassifier.json\n",
      "Efficiency vs Electron PT data saved to eFEX_with_newest_Topo_files_99_supercells\\efficiency_vs_ele_pt\\efficiency_vs_ele_pt_99_supercells_AdaBoostClassifier.json\n",
      "Training BaggingClassifier...\n",
      "Took: 193.4462330341339 seconds\n",
      "predicting...\n",
      "Took: 1.406113862991333 seconds\n",
      "\n",
      "\n",
      "Evaluation of BaggingClassifier\n",
      "Confusion Matrix:\n",
      " [[99499  7648]\n",
      " [ 5309 69004]]\n",
      "Accuracy: 0.92859583\n",
      "Recall: 0.92855893\n",
      "Precision: 0.90022439\n",
      "F1 Score: 0.91417216\n",
      "Classification Report:\n",
      "               precision    recall  f1-score   support\n",
      "\n",
      "         0.0       0.95      0.93      0.94    107147\n",
      "         1.0       0.90      0.93      0.91     74313\n",
      "\n",
      "    accuracy                           0.93    181460\n",
      "   macro avg       0.92      0.93      0.93    181460\n",
      "weighted avg       0.93      0.93      0.93    181460\n",
      "\n",
      "Mean Squared Error: 0.07140417\n",
      "\n",
      "ROC data saved to eFEX_with_newest_Topo_files_99_supercells\\roc\\roc_99_supercells_BaggingClassifier.json\n"
     ]
    },
    {
     "name": "stderr",
     "output_type": "stream",
     "text": [
      "\n",
      "\u001b[A"
     ]
    },
    {
     "name": "stdout",
     "output_type": "stream",
     "text": [
      "Precision-Recall data saved to eFEX_with_newest_Topo_files_99_supercells\\precision_recall\\precision_recall_99_supercells_BaggingClassifier.json\n",
      "Efficiency vs Electron PT data saved to eFEX_with_newest_Topo_files_99_supercells\\efficiency_vs_ele_pt\\efficiency_vs_ele_pt_99_supercells_BaggingClassifier.json\n",
      "Training BernoulliNB...\n",
      "Took: 0.6330864429473877 seconds\n",
      "predicting...\n",
      "Took: 0.1475379467010498 seconds\n",
      "\n",
      "\n",
      "Evaluation of BernoulliNB\n",
      "Confusion Matrix:\n",
      " [[88412 18735]\n",
      " [ 1101 73212]]\n",
      "Accuracy: 0.89068665\n",
      "Recall: 0.98518429\n",
      "Precision: 0.79624131\n",
      "F1 Score: 0.88069289\n",
      "Classification Report:\n",
      "               precision    recall  f1-score   support\n",
      "\n",
      "         0.0       0.99      0.83      0.90    107147\n",
      "         1.0       0.80      0.99      0.88     74313\n",
      "\n",
      "    accuracy                           0.89    181460\n",
      "   macro avg       0.89      0.91      0.89    181460\n",
      "weighted avg       0.91      0.89      0.89    181460\n",
      "\n",
      "Mean Squared Error: 0.10931335\n",
      "\n",
      "ROC data saved to eFEX_with_newest_Topo_files_99_supercells\\roc\\roc_99_supercells_BernoulliNB.json\n"
     ]
    },
    {
     "name": "stderr",
     "output_type": "stream",
     "text": [
      "\n",
      "\u001b[A"
     ]
    },
    {
     "name": "stdout",
     "output_type": "stream",
     "text": [
      "Precision-Recall data saved to eFEX_with_newest_Topo_files_99_supercells\\precision_recall\\precision_recall_99_supercells_BernoulliNB.json\n",
      "Efficiency vs Electron PT data saved to eFEX_with_newest_Topo_files_99_supercells\\efficiency_vs_ele_pt\\efficiency_vs_ele_pt_99_supercells_BernoulliNB.json\n",
      "Training CalibratedClassifierCV...\n",
      "Took: 36.49657368659973 seconds\n",
      "predicting...\n",
      "Took: 0.1520063877105713 seconds\n",
      "\n",
      "\n",
      "Evaluation of CalibratedClassifierCV\n",
      "Confusion Matrix:\n",
      " [[93308 13839]\n",
      " [ 3958 70355]]\n",
      "Accuracy: 0.90192329\n",
      "Recall: 0.94673879\n",
      "Precision: 0.83562962\n",
      "F1 Score: 0.88772105\n",
      "Classification Report:\n",
      "               precision    recall  f1-score   support\n",
      "\n",
      "         0.0       0.96      0.87      0.91    107147\n",
      "         1.0       0.84      0.95      0.89     74313\n",
      "\n",
      "    accuracy                           0.90    181460\n",
      "   macro avg       0.90      0.91      0.90    181460\n",
      "weighted avg       0.91      0.90      0.90    181460\n",
      "\n",
      "Mean Squared Error: 0.09807671\n",
      "\n",
      "ROC data saved to eFEX_with_newest_Topo_files_99_supercells\\roc\\roc_99_supercells_CalibratedClassifierCV.json\n"
     ]
    },
    {
     "name": "stderr",
     "output_type": "stream",
     "text": [
      "\n",
      "\u001b[A"
     ]
    },
    {
     "name": "stdout",
     "output_type": "stream",
     "text": [
      "Precision-Recall data saved to eFEX_with_newest_Topo_files_99_supercells\\precision_recall\\precision_recall_99_supercells_CalibratedClassifierCV.json\n",
      "Efficiency vs Electron PT data saved to eFEX_with_newest_Topo_files_99_supercells\\efficiency_vs_ele_pt\\efficiency_vs_ele_pt_99_supercells_CalibratedClassifierCV.json\n",
      "Training CategoricalNB...\n"
     ]
    },
    {
     "name": "stderr",
     "output_type": "stream",
     "text": [
      "\n",
      "\u001b[A"
     ]
    },
    {
     "name": "stdout",
     "output_type": "stream",
     "text": [
      "Took: 2.4597556591033936 seconds\n",
      "predicting...\n",
      "Could not train or predict with CategoricalNB: index 33 is out of bounds for axis 1 with size 30\n",
      "Training ClassifierChain...\n",
      "Could not train or predict with ClassifierChain: tuple index out of range\n",
      "Training ComplementNB...\n",
      "Took: 0.19252610206604004 seconds\n",
      "predicting...\n",
      "Took: 0.03202939033508301 seconds\n",
      "\n",
      "\n",
      "Evaluation of ComplementNB\n",
      "Confusion Matrix:\n",
      " [[82123 25024]\n",
      " [ 2477 71836]]\n",
      "Accuracy: 0.84844594\n",
      "Recall: 0.96666801\n",
      "Precision: 0.74164774\n",
      "F1 Score: 0.83933798\n",
      "Classification Report:\n",
      "               precision    recall  f1-score   support\n",
      "\n",
      "         0.0       0.97      0.77      0.86    107147\n",
      "         1.0       0.74      0.97      0.84     74313\n",
      "\n",
      "    accuracy                           0.85    181460\n",
      "   macro avg       0.86      0.87      0.85    181460\n",
      "weighted avg       0.88      0.85      0.85    181460\n",
      "\n",
      "Mean Squared Error: 0.15155406\n",
      "\n",
      "ROC data saved to eFEX_with_newest_Topo_files_99_supercells\\roc\\roc_99_supercells_ComplementNB.json\n"
     ]
    },
    {
     "name": "stderr",
     "output_type": "stream",
     "text": [
      "\n",
      "\u001b[A"
     ]
    },
    {
     "name": "stdout",
     "output_type": "stream",
     "text": [
      "Precision-Recall data saved to eFEX_with_newest_Topo_files_99_supercells\\precision_recall\\precision_recall_99_supercells_ComplementNB.json\n",
      "Efficiency vs Electron PT data saved to eFEX_with_newest_Topo_files_99_supercells\\efficiency_vs_ele_pt\\efficiency_vs_ele_pt_99_supercells_ComplementNB.json\n",
      "Training DecisionTreeClassifier...\n",
      "Took: 30.92486047744751 seconds\n",
      "predicting...\n",
      "Took: 0.06556558609008789 seconds\n",
      "\n",
      "\n",
      "Evaluation of DecisionTreeClassifier\n",
      "Confusion Matrix:\n",
      " [[97294  9853]\n",
      " [ 9757 64556]]\n",
      "Accuracy: 0.89193211\n",
      "Recall: 0.86870400\n",
      "Precision: 0.86758322\n",
      "F1 Score: 0.86814325\n",
      "Classification Report:\n",
      "               precision    recall  f1-score   support\n",
      "\n",
      "         0.0       0.91      0.91      0.91    107147\n",
      "         1.0       0.87      0.87      0.87     74313\n",
      "\n",
      "    accuracy                           0.89    181460\n",
      "   macro avg       0.89      0.89      0.89    181460\n",
      "weighted avg       0.89      0.89      0.89    181460\n",
      "\n",
      "Mean Squared Error: 0.10806789\n",
      "\n",
      "ROC data saved to eFEX_with_newest_Topo_files_99_supercells\\roc\\roc_99_supercells_DecisionTreeClassifier.json\n"
     ]
    },
    {
     "name": "stderr",
     "output_type": "stream",
     "text": [
      "\n",
      "\u001b[A"
     ]
    },
    {
     "name": "stdout",
     "output_type": "stream",
     "text": [
      "Precision-Recall data saved to eFEX_with_newest_Topo_files_99_supercells\\precision_recall\\precision_recall_99_supercells_DecisionTreeClassifier.json\n",
      "Efficiency vs Electron PT data saved to eFEX_with_newest_Topo_files_99_supercells\\efficiency_vs_ele_pt\\efficiency_vs_ele_pt_99_supercells_DecisionTreeClassifier.json\n",
      "Training DummyClassifier...\n",
      "Took: 0.022020339965820312 seconds\n",
      "predicting...\n",
      "Took: 0.0010013580322265625 seconds\n",
      "\n",
      "\n",
      "Evaluation of DummyClassifier\n",
      "Confusion Matrix:\n",
      " [[107147      0]\n",
      " [ 74313      0]]\n",
      "Accuracy: 0.59047173\n",
      "Recall: 0.00000000\n"
     ]
    },
    {
     "name": "stderr",
     "output_type": "stream",
     "text": [
      "c:\\Users\\Me\\AppData\\Local\\Programs\\Python\\Python312\\Lib\\site-packages\\sklearn\\metrics\\_classification.py:1565: UndefinedMetricWarning: Precision is ill-defined and being set to 0.0 due to no predicted samples. Use `zero_division` parameter to control this behavior.\n",
      "  _warn_prf(average, modifier, f\"{metric.capitalize()} is\", len(result))\n",
      "c:\\Users\\Me\\AppData\\Local\\Programs\\Python\\Python312\\Lib\\site-packages\\sklearn\\metrics\\_classification.py:1565: UndefinedMetricWarning: Precision is ill-defined and being set to 0.0 in labels with no predicted samples. Use `zero_division` parameter to control this behavior.\n",
      "  _warn_prf(average, modifier, f\"{metric.capitalize()} is\", len(result))\n"
     ]
    },
    {
     "name": "stdout",
     "output_type": "stream",
     "text": [
      "Precision: 0.00000000\n",
      "F1 Score: 0.00000000\n",
      "Classification Report:\n",
      "               precision    recall  f1-score   support\n",
      "\n",
      "         0.0       0.59      1.00      0.74    107147\n",
      "         1.0       0.00      0.00      0.00     74313\n",
      "\n",
      "    accuracy                           0.59    181460\n",
      "   macro avg       0.30      0.50      0.37    181460\n",
      "weighted avg       0.35      0.59      0.44    181460\n",
      "\n",
      "Mean Squared Error: 0.40952827\n",
      "\n",
      "ROC data saved to eFEX_with_newest_Topo_files_99_supercells\\roc\\roc_99_supercells_DummyClassifier.json\n",
      "Precision-Recall data saved to eFEX_with_newest_Topo_files_99_supercells\\precision_recall\\precision_recall_99_supercells_DummyClassifier.json\n"
     ]
    },
    {
     "name": "stderr",
     "output_type": "stream",
     "text": [
      "c:\\Users\\Me\\AppData\\Local\\Programs\\Python\\Python312\\Lib\\site-packages\\sklearn\\metrics\\_classification.py:1565: UndefinedMetricWarning: Precision is ill-defined and being set to 0.0 in labels with no predicted samples. Use `zero_division` parameter to control this behavior.\n",
      "  _warn_prf(average, modifier, f\"{metric.capitalize()} is\", len(result))\n",
      "c:\\Users\\Me\\AppData\\Local\\Programs\\Python\\Python312\\Lib\\site-packages\\sklearn\\metrics\\_classification.py:1565: UndefinedMetricWarning: Precision is ill-defined and being set to 0.0 in labels with no predicted samples. Use `zero_division` parameter to control this behavior.\n",
      "  _warn_prf(average, modifier, f\"{metric.capitalize()} is\", len(result))\n",
      "\n",
      "\u001b[A"
     ]
    },
    {
     "name": "stdout",
     "output_type": "stream",
     "text": [
      "Efficiency vs Electron PT data saved to eFEX_with_newest_Topo_files_99_supercells\\efficiency_vs_ele_pt\\efficiency_vs_ele_pt_99_supercells_DummyClassifier.json\n",
      "Training ExtraTreeClassifier...\n",
      "Took: 3.5900683403015137 seconds\n",
      "predicting...\n",
      "Took: 0.091400146484375 seconds\n",
      "\n",
      "\n",
      "Evaluation of ExtraTreeClassifier\n",
      "Confusion Matrix:\n",
      " [[94409 12738]\n",
      " [10213 64100]]\n",
      "Accuracy: 0.87352034\n",
      "Recall: 0.86256779\n",
      "Precision: 0.83422265\n",
      "F1 Score: 0.84815846\n",
      "Classification Report:\n",
      "               precision    recall  f1-score   support\n",
      "\n",
      "         0.0       0.90      0.88      0.89    107147\n",
      "         1.0       0.83      0.86      0.85     74313\n",
      "\n",
      "    accuracy                           0.87    181460\n",
      "   macro avg       0.87      0.87      0.87    181460\n",
      "weighted avg       0.87      0.87      0.87    181460\n",
      "\n",
      "Mean Squared Error: 0.12647966\n",
      "\n"
     ]
    },
    {
     "name": "stderr",
     "output_type": "stream",
     "text": [
      "\n",
      "\u001b[A"
     ]
    },
    {
     "name": "stdout",
     "output_type": "stream",
     "text": [
      "ROC data saved to eFEX_with_newest_Topo_files_99_supercells\\roc\\roc_99_supercells_ExtraTreeClassifier.json\n",
      "Precision-Recall data saved to eFEX_with_newest_Topo_files_99_supercells\\precision_recall\\precision_recall_99_supercells_ExtraTreeClassifier.json\n",
      "Efficiency vs Electron PT data saved to eFEX_with_newest_Topo_files_99_supercells\\efficiency_vs_ele_pt\\efficiency_vs_ele_pt_99_supercells_ExtraTreeClassifier.json\n",
      "Training ExtraTreesClassifier...\n",
      "Took: 295.5326247215271 seconds\n",
      "predicting...\n",
      "Took: 5.2401487827301025 seconds\n",
      "\n",
      "\n",
      "Evaluation of ExtraTreesClassifier\n",
      "Confusion Matrix:\n",
      " [[98772  8375]\n",
      " [ 1979 72334]]\n",
      "Accuracy: 0.94294059\n",
      "Recall: 0.97336940\n",
      "Precision: 0.89623214\n",
      "F1 Score: 0.93320948\n",
      "Classification Report:\n",
      "               precision    recall  f1-score   support\n",
      "\n",
      "         0.0       0.98      0.92      0.95    107147\n",
      "         1.0       0.90      0.97      0.93     74313\n",
      "\n",
      "    accuracy                           0.94    181460\n",
      "   macro avg       0.94      0.95      0.94    181460\n",
      "weighted avg       0.95      0.94      0.94    181460\n",
      "\n",
      "Mean Squared Error: 0.05705941\n",
      "\n",
      "ROC data saved to eFEX_with_newest_Topo_files_99_supercells\\roc\\roc_99_supercells_ExtraTreesClassifier.json\n"
     ]
    },
    {
     "name": "stderr",
     "output_type": "stream",
     "text": [
      "\n",
      "\u001b[A"
     ]
    },
    {
     "name": "stdout",
     "output_type": "stream",
     "text": [
      "Precision-Recall data saved to eFEX_with_newest_Topo_files_99_supercells\\precision_recall\\precision_recall_99_supercells_ExtraTreesClassifier.json\n",
      "Efficiency vs Electron PT data saved to eFEX_with_newest_Topo_files_99_supercells\\efficiency_vs_ele_pt\\efficiency_vs_ele_pt_99_supercells_ExtraTreesClassifier.json\n",
      "Training FixedThresholdClassifier...\n"
     ]
    },
    {
     "name": "stderr",
     "output_type": "stream",
     "text": [
      "c:\\Users\\Me\\AppData\\Local\\Programs\\Python\\Python312\\Lib\\site-packages\\sklearn\\linear_model\\_logistic.py:465: ConvergenceWarning: lbfgs failed to converge (status=1):\n",
      "STOP: TOTAL NO. OF ITERATIONS REACHED LIMIT.\n",
      "\n",
      "Increase the number of iterations (max_iter) or scale the data as shown in:\n",
      "    https://scikit-learn.org/stable/modules/preprocessing.html\n",
      "Please also refer to the documentation for alternative solver options:\n",
      "    https://scikit-learn.org/stable/modules/linear_model.html#logistic-regression\n",
      "  n_iter_i = _check_optimize_result(\n"
     ]
    },
    {
     "name": "stdout",
     "output_type": "stream",
     "text": [
      "Took: 9.151262044906616 seconds\n",
      "predicting...\n",
      "Took: 0.028679609298706055 seconds\n",
      "\n",
      "\n",
      "Evaluation of FixedThresholdClassifier\n",
      "Confusion Matrix:\n",
      " [[92995 14152]\n",
      " [ 3743 70570]]\n",
      "Accuracy: 0.90138322\n",
      "Recall: 0.94963196\n",
      "Precision: 0.83295956\n",
      "F1 Score: 0.88747760\n",
      "Classification Report:\n",
      "               precision    recall  f1-score   support\n",
      "\n",
      "         0.0       0.96      0.87      0.91    107147\n",
      "         1.0       0.83      0.95      0.89     74313\n",
      "\n",
      "    accuracy                           0.90    181460\n",
      "   macro avg       0.90      0.91      0.90    181460\n",
      "weighted avg       0.91      0.90      0.90    181460\n",
      "\n",
      "Mean Squared Error: 0.09861678\n",
      "\n",
      "ROC data saved to eFEX_with_newest_Topo_files_99_supercells\\roc\\roc_99_supercells_FixedThresholdClassifier.json\n"
     ]
    },
    {
     "name": "stderr",
     "output_type": "stream",
     "text": [
      "\n",
      "\u001b[A"
     ]
    },
    {
     "name": "stdout",
     "output_type": "stream",
     "text": [
      "Precision-Recall data saved to eFEX_with_newest_Topo_files_99_supercells\\precision_recall\\precision_recall_99_supercells_FixedThresholdClassifier.json\n",
      "Efficiency vs Electron PT data saved to eFEX_with_newest_Topo_files_99_supercells\\efficiency_vs_ele_pt\\efficiency_vs_ele_pt_99_supercells_FixedThresholdClassifier.json\n",
      "Training GaussianNB...\n",
      "Took: 0.7083737850189209 seconds\n",
      "predicting...\n",
      "Took: 0.22603225708007812 seconds\n",
      "\n",
      "\n",
      "Evaluation of GaussianNB\n",
      "Confusion Matrix:\n",
      " [[88611 18536]\n",
      " [ 2976 71337]]\n",
      "Accuracy: 0.88145046\n",
      "Recall: 0.95995317\n",
      "Precision: 0.79375341\n",
      "F1 Score: 0.86897787\n",
      "Classification Report:\n",
      "               precision    recall  f1-score   support\n",
      "\n",
      "         0.0       0.97      0.83      0.89    107147\n",
      "         1.0       0.79      0.96      0.87     74313\n",
      "\n",
      "    accuracy                           0.88    181460\n",
      "   macro avg       0.88      0.89      0.88    181460\n",
      "weighted avg       0.90      0.88      0.88    181460\n",
      "\n",
      "Mean Squared Error: 0.11854954\n",
      "\n",
      "ROC data saved to eFEX_with_newest_Topo_files_99_supercells\\roc\\roc_99_supercells_GaussianNB.json\n"
     ]
    },
    {
     "name": "stderr",
     "output_type": "stream",
     "text": [
      "\n",
      "\u001b[A"
     ]
    },
    {
     "name": "stdout",
     "output_type": "stream",
     "text": [
      "Precision-Recall data saved to eFEX_with_newest_Topo_files_99_supercells\\precision_recall\\precision_recall_99_supercells_GaussianNB.json\n",
      "Efficiency vs Electron PT data saved to eFEX_with_newest_Topo_files_99_supercells\\efficiency_vs_ele_pt\\efficiency_vs_ele_pt_99_supercells_GaussianNB.json\n",
      "Training GaussianProcessClassifier...\n"
     ]
    },
    {
     "name": "stderr",
     "output_type": "stream",
     "text": [
      "\n",
      "\u001b[A"
     ]
    },
    {
     "name": "stdout",
     "output_type": "stream",
     "text": [
      "Could not train or predict with GaussianProcessClassifier: Unable to allocate 3.83 TiB for an array with shape (725840, 725840) and data type float64\n",
      "Training GradientBoostingClassifier...\n",
      "Took: 343.8682110309601 seconds\n",
      "predicting...\n",
      "Took: 0.3475008010864258 seconds\n",
      "\n",
      "\n",
      "Evaluation of GradientBoostingClassifier\n",
      "Confusion Matrix:\n",
      " [[94213 12934]\n",
      " [ 2318 71995]]\n",
      "Accuracy: 0.91594842\n",
      "Recall: 0.96880761\n",
      "Precision: 0.84770809\n",
      "F1 Score: 0.90422125\n",
      "Classification Report:\n",
      "               precision    recall  f1-score   support\n",
      "\n",
      "         0.0       0.98      0.88      0.93    107147\n",
      "         1.0       0.85      0.97      0.90     74313\n",
      "\n",
      "    accuracy                           0.92    181460\n",
      "   macro avg       0.91      0.92      0.91    181460\n",
      "weighted avg       0.92      0.92      0.92    181460\n",
      "\n",
      "Mean Squared Error: 0.08405158\n",
      "\n",
      "ROC data saved to eFEX_with_newest_Topo_files_99_supercells\\roc\\roc_99_supercells_GradientBoostingClassifier.json\n"
     ]
    },
    {
     "name": "stderr",
     "output_type": "stream",
     "text": [
      "\n",
      "\u001b[A"
     ]
    },
    {
     "name": "stdout",
     "output_type": "stream",
     "text": [
      "Precision-Recall data saved to eFEX_with_newest_Topo_files_99_supercells\\precision_recall\\precision_recall_99_supercells_GradientBoostingClassifier.json\n",
      "Efficiency vs Electron PT data saved to eFEX_with_newest_Topo_files_99_supercells\\efficiency_vs_ele_pt\\efficiency_vs_ele_pt_99_supercells_GradientBoostingClassifier.json\n",
      "Training HistGradientBoostingClassifier...\n",
      "Took: 9.460796594619751 seconds\n",
      "predicting...\n",
      "Took: 0.8597412109375 seconds\n",
      "\n",
      "\n",
      "Evaluation of HistGradientBoostingClassifier\n",
      "Confusion Matrix:\n",
      " [[98344  8803]\n",
      " [ 2345 71968]]\n",
      "Accuracy: 0.93856497\n",
      "Recall: 0.96844428\n",
      "Precision: 0.89101286\n",
      "F1 Score: 0.92811638\n",
      "Classification Report:\n",
      "               precision    recall  f1-score   support\n",
      "\n",
      "         0.0       0.98      0.92      0.95    107147\n",
      "         1.0       0.89      0.97      0.93     74313\n",
      "\n",
      "    accuracy                           0.94    181460\n",
      "   macro avg       0.93      0.94      0.94    181460\n",
      "weighted avg       0.94      0.94      0.94    181460\n",
      "\n",
      "Mean Squared Error: 0.06143503\n",
      "\n",
      "ROC data saved to eFEX_with_newest_Topo_files_99_supercells\\roc\\roc_99_supercells_HistGradientBoostingClassifier.json\n"
     ]
    },
    {
     "name": "stderr",
     "output_type": "stream",
     "text": [
      "\n",
      "\u001b[A"
     ]
    },
    {
     "name": "stdout",
     "output_type": "stream",
     "text": [
      "Precision-Recall data saved to eFEX_with_newest_Topo_files_99_supercells\\precision_recall\\precision_recall_99_supercells_HistGradientBoostingClassifier.json\n",
      "Efficiency vs Electron PT data saved to eFEX_with_newest_Topo_files_99_supercells\\efficiency_vs_ele_pt\\efficiency_vs_ele_pt_99_supercells_HistGradientBoostingClassifier.json\n",
      "Training KNeighborsClassifier...\n",
      "Took: 0.10774016380310059 seconds\n",
      "predicting...\n",
      "Took: 107.31006360054016 seconds\n",
      "\n",
      "\n",
      "Evaluation of KNeighborsClassifier\n",
      "Confusion Matrix:\n",
      " [[85445 21702]\n",
      " [ 1361 72952]]\n",
      "Accuracy: 0.87290312\n",
      "Recall: 0.98168557\n",
      "Precision: 0.77072284\n",
      "F1 Score: 0.86350589\n",
      "Classification Report:\n",
      "               precision    recall  f1-score   support\n",
      "\n",
      "         0.0       0.98      0.80      0.88    107147\n",
      "         1.0       0.77      0.98      0.86     74313\n",
      "\n",
      "    accuracy                           0.87    181460\n",
      "   macro avg       0.88      0.89      0.87    181460\n",
      "weighted avg       0.90      0.87      0.87    181460\n",
      "\n",
      "Mean Squared Error: 0.12709688\n",
      "\n",
      "ROC data saved to eFEX_with_newest_Topo_files_99_supercells\\roc\\roc_99_supercells_KNeighborsClassifier.json\n"
     ]
    },
    {
     "name": "stderr",
     "output_type": "stream",
     "text": [
      "\n",
      "\u001b[A"
     ]
    },
    {
     "name": "stdout",
     "output_type": "stream",
     "text": [
      "Precision-Recall data saved to eFEX_with_newest_Topo_files_99_supercells\\precision_recall\\precision_recall_99_supercells_KNeighborsClassifier.json\n",
      "Efficiency vs Electron PT data saved to eFEX_with_newest_Topo_files_99_supercells\\efficiency_vs_ele_pt\\efficiency_vs_ele_pt_99_supercells_KNeighborsClassifier.json\n",
      "Training LabelPropagation...\n"
     ]
    },
    {
     "name": "stderr",
     "output_type": "stream",
     "text": [
      "\n",
      "\u001b[A"
     ]
    },
    {
     "name": "stdout",
     "output_type": "stream",
     "text": [
      "Could not train or predict with LabelPropagation: Unable to allocate 3.83 TiB for an array with shape (725840, 725840) and data type float64\n",
      "Training LabelSpreading...\n"
     ]
    },
    {
     "name": "stderr",
     "output_type": "stream",
     "text": [
      "\n",
      "\u001b[A"
     ]
    },
    {
     "name": "stdout",
     "output_type": "stream",
     "text": [
      "Could not train or predict with LabelSpreading: Unable to allocate 3.83 TiB for an array with shape (725840, 725840) and data type float64\n",
      "Training LinearDiscriminantAnalysis...\n",
      "Took: 6.900027275085449 seconds\n",
      "predicting...\n",
      "Took: 0.022019624710083008 seconds\n",
      "\n",
      "\n",
      "Evaluation of LinearDiscriminantAnalysis\n",
      "Confusion Matrix:\n",
      " [[85602 21545]\n",
      " [12023 62290]]\n",
      "Accuracy: 0.81501157\n",
      "Recall: 0.83821135\n",
      "Precision: 0.74300710\n",
      "F1 Score: 0.78774313\n",
      "Classification Report:\n",
      "               precision    recall  f1-score   support\n",
      "\n",
      "         0.0       0.88      0.80      0.84    107147\n",
      "         1.0       0.74      0.84      0.79     74313\n",
      "\n",
      "    accuracy                           0.82    181460\n",
      "   macro avg       0.81      0.82      0.81    181460\n",
      "weighted avg       0.82      0.82      0.82    181460\n",
      "\n",
      "Mean Squared Error: 0.18498843\n",
      "\n",
      "ROC data saved to eFEX_with_newest_Topo_files_99_supercells\\roc\\roc_99_supercells_LinearDiscriminantAnalysis.json\n"
     ]
    },
    {
     "name": "stderr",
     "output_type": "stream",
     "text": [
      "\n",
      "\u001b[A"
     ]
    },
    {
     "name": "stdout",
     "output_type": "stream",
     "text": [
      "Precision-Recall data saved to eFEX_with_newest_Topo_files_99_supercells\\precision_recall\\precision_recall_99_supercells_LinearDiscriminantAnalysis.json\n",
      "Efficiency vs Electron PT data saved to eFEX_with_newest_Topo_files_99_supercells\\efficiency_vs_ele_pt\\efficiency_vs_ele_pt_99_supercells_LinearDiscriminantAnalysis.json\n",
      "Training LinearSVC...\n",
      "Took: 9.084038019180298 seconds\n",
      "predicting...\n",
      "Took: 0.021611928939819336 seconds\n",
      "\n",
      "\n",
      "Evaluation of LinearSVC\n",
      "Confusion Matrix:\n",
      " [[92435 14712]\n",
      " [ 3150 71163]]\n",
      "Accuracy: 0.90156508\n",
      "Recall: 0.95761172\n",
      "Precision: 0.82868122\n",
      "F1 Score: 0.88849352\n",
      "Classification Report:\n",
      "               precision    recall  f1-score   support\n",
      "\n",
      "         0.0       0.97      0.86      0.91    107147\n",
      "         1.0       0.83      0.96      0.89     74313\n",
      "\n",
      "    accuracy                           0.90    181460\n",
      "   macro avg       0.90      0.91      0.90    181460\n",
      "weighted avg       0.91      0.90      0.90    181460\n",
      "\n",
      "Mean Squared Error: 0.09843492\n",
      "\n",
      "ROC data saved to eFEX_with_newest_Topo_files_99_supercells\\roc\\roc_99_supercells_LinearSVC.json\n"
     ]
    },
    {
     "name": "stderr",
     "output_type": "stream",
     "text": [
      "\n",
      "\u001b[A"
     ]
    },
    {
     "name": "stdout",
     "output_type": "stream",
     "text": [
      "Precision-Recall data saved to eFEX_with_newest_Topo_files_99_supercells\\precision_recall\\precision_recall_99_supercells_LinearSVC.json\n",
      "Efficiency vs Electron PT data saved to eFEX_with_newest_Topo_files_99_supercells\\efficiency_vs_ele_pt\\efficiency_vs_ele_pt_99_supercells_LinearSVC.json\n",
      "Training LogisticRegression...\n"
     ]
    },
    {
     "name": "stderr",
     "output_type": "stream",
     "text": [
      "c:\\Users\\Me\\AppData\\Local\\Programs\\Python\\Python312\\Lib\\site-packages\\sklearn\\linear_model\\_logistic.py:465: ConvergenceWarning: lbfgs failed to converge (status=1):\n",
      "STOP: TOTAL NO. OF ITERATIONS REACHED LIMIT.\n",
      "\n",
      "Increase the number of iterations (max_iter) or scale the data as shown in:\n",
      "    https://scikit-learn.org/stable/modules/preprocessing.html\n",
      "Please also refer to the documentation for alternative solver options:\n",
      "    https://scikit-learn.org/stable/modules/linear_model.html#logistic-regression\n",
      "  n_iter_i = _check_optimize_result(\n"
     ]
    },
    {
     "name": "stdout",
     "output_type": "stream",
     "text": [
      "Took: 8.638680458068848 seconds\n",
      "predicting...\n",
      "Took: 0.02302098274230957 seconds\n",
      "\n",
      "\n",
      "Evaluation of LogisticRegression\n",
      "Confusion Matrix:\n",
      " [[92995 14152]\n",
      " [ 3743 70570]]\n",
      "Accuracy: 0.90138322\n",
      "Recall: 0.94963196\n",
      "Precision: 0.83295956\n",
      "F1 Score: 0.88747760\n",
      "Classification Report:\n",
      "               precision    recall  f1-score   support\n",
      "\n",
      "         0.0       0.96      0.87      0.91    107147\n",
      "         1.0       0.83      0.95      0.89     74313\n",
      "\n",
      "    accuracy                           0.90    181460\n",
      "   macro avg       0.90      0.91      0.90    181460\n",
      "weighted avg       0.91      0.90      0.90    181460\n",
      "\n",
      "Mean Squared Error: 0.09861678\n",
      "\n",
      "ROC data saved to eFEX_with_newest_Topo_files_99_supercells\\roc\\roc_99_supercells_LogisticRegression.json\n"
     ]
    },
    {
     "name": "stderr",
     "output_type": "stream",
     "text": [
      "\n",
      "\u001b[A"
     ]
    },
    {
     "name": "stdout",
     "output_type": "stream",
     "text": [
      "Precision-Recall data saved to eFEX_with_newest_Topo_files_99_supercells\\precision_recall\\precision_recall_99_supercells_LogisticRegression.json\n",
      "Efficiency vs Electron PT data saved to eFEX_with_newest_Topo_files_99_supercells\\efficiency_vs_ele_pt\\efficiency_vs_ele_pt_99_supercells_LogisticRegression.json\n",
      "Training LogisticRegressionCV...\n"
     ]
    },
    {
     "name": "stderr",
     "output_type": "stream",
     "text": [
      "c:\\Users\\Me\\AppData\\Local\\Programs\\Python\\Python312\\Lib\\site-packages\\sklearn\\linear_model\\_logistic.py:465: ConvergenceWarning: lbfgs failed to converge (status=1):\n",
      "STOP: TOTAL NO. OF ITERATIONS REACHED LIMIT.\n",
      "\n",
      "Increase the number of iterations (max_iter) or scale the data as shown in:\n",
      "    https://scikit-learn.org/stable/modules/preprocessing.html\n",
      "Please also refer to the documentation for alternative solver options:\n",
      "    https://scikit-learn.org/stable/modules/linear_model.html#logistic-regression\n",
      "  n_iter_i = _check_optimize_result(\n",
      "c:\\Users\\Me\\AppData\\Local\\Programs\\Python\\Python312\\Lib\\site-packages\\sklearn\\linear_model\\_logistic.py:465: ConvergenceWarning: lbfgs failed to converge (status=1):\n",
      "STOP: TOTAL NO. OF ITERATIONS REACHED LIMIT.\n",
      "\n",
      "Increase the number of iterations (max_iter) or scale the data as shown in:\n",
      "    https://scikit-learn.org/stable/modules/preprocessing.html\n",
      "Please also refer to the documentation for alternative solver options:\n",
      "    https://scikit-learn.org/stable/modules/linear_model.html#logistic-regression\n",
      "  n_iter_i = _check_optimize_result(\n",
      "c:\\Users\\Me\\AppData\\Local\\Programs\\Python\\Python312\\Lib\\site-packages\\sklearn\\linear_model\\_logistic.py:465: ConvergenceWarning: lbfgs failed to converge (status=1):\n",
      "STOP: TOTAL NO. OF ITERATIONS REACHED LIMIT.\n",
      "\n",
      "Increase the number of iterations (max_iter) or scale the data as shown in:\n",
      "    https://scikit-learn.org/stable/modules/preprocessing.html\n",
      "Please also refer to the documentation for alternative solver options:\n",
      "    https://scikit-learn.org/stable/modules/linear_model.html#logistic-regression\n",
      "  n_iter_i = _check_optimize_result(\n",
      "c:\\Users\\Me\\AppData\\Local\\Programs\\Python\\Python312\\Lib\\site-packages\\sklearn\\linear_model\\_logistic.py:465: ConvergenceWarning: lbfgs failed to converge (status=1):\n",
      "STOP: TOTAL NO. OF ITERATIONS REACHED LIMIT.\n",
      "\n",
      "Increase the number of iterations (max_iter) or scale the data as shown in:\n",
      "    https://scikit-learn.org/stable/modules/preprocessing.html\n",
      "Please also refer to the documentation for alternative solver options:\n",
      "    https://scikit-learn.org/stable/modules/linear_model.html#logistic-regression\n",
      "  n_iter_i = _check_optimize_result(\n",
      "c:\\Users\\Me\\AppData\\Local\\Programs\\Python\\Python312\\Lib\\site-packages\\sklearn\\linear_model\\_logistic.py:465: ConvergenceWarning: lbfgs failed to converge (status=1):\n",
      "STOP: TOTAL NO. OF ITERATIONS REACHED LIMIT.\n",
      "\n",
      "Increase the number of iterations (max_iter) or scale the data as shown in:\n",
      "    https://scikit-learn.org/stable/modules/preprocessing.html\n",
      "Please also refer to the documentation for alternative solver options:\n",
      "    https://scikit-learn.org/stable/modules/linear_model.html#logistic-regression\n",
      "  n_iter_i = _check_optimize_result(\n"
     ]
    },
    {
     "name": "stdout",
     "output_type": "stream",
     "text": [
      "Took: 200.75219058990479 seconds\n",
      "predicting...\n",
      "Took: 0.025022506713867188 seconds\n",
      "\n",
      "\n",
      "Evaluation of LogisticRegressionCV\n",
      "Confusion Matrix:\n",
      " [[93375 13772]\n",
      " [ 3921 70392]]\n",
      "Accuracy: 0.90249642\n",
      "Recall: 0.94723669\n",
      "Precision: 0.83636709\n",
      "F1 Score: 0.88835604\n",
      "Classification Report:\n",
      "               precision    recall  f1-score   support\n",
      "\n",
      "         0.0       0.96      0.87      0.91    107147\n",
      "         1.0       0.84      0.95      0.89     74313\n",
      "\n",
      "    accuracy                           0.90    181460\n",
      "   macro avg       0.90      0.91      0.90    181460\n",
      "weighted avg       0.91      0.90      0.90    181460\n",
      "\n",
      "Mean Squared Error: 0.09750358\n",
      "\n",
      "ROC data saved to eFEX_with_newest_Topo_files_99_supercells\\roc\\roc_99_supercells_LogisticRegressionCV.json\n"
     ]
    },
    {
     "name": "stderr",
     "output_type": "stream",
     "text": [
      "\n",
      "\u001b[A"
     ]
    },
    {
     "name": "stdout",
     "output_type": "stream",
     "text": [
      "Precision-Recall data saved to eFEX_with_newest_Topo_files_99_supercells\\precision_recall\\precision_recall_99_supercells_LogisticRegressionCV.json\n",
      "Efficiency vs Electron PT data saved to eFEX_with_newest_Topo_files_99_supercells\\efficiency_vs_ele_pt\\efficiency_vs_ele_pt_99_supercells_LogisticRegressionCV.json\n",
      "Training MLPClassifier...\n",
      "Took: 231.7526409626007 seconds\n",
      "predicting...\n",
      "Took: 0.09717464447021484 seconds\n",
      "\n",
      "\n",
      "Evaluation of MLPClassifier\n",
      "Confusion Matrix:\n",
      " [[99763  7384]\n",
      " [ 2289 72024]]\n",
      "Accuracy: 0.94669349\n",
      "Recall: 0.96919785\n",
      "Precision: 0.90701189\n",
      "F1 Score: 0.93707431\n",
      "Classification Report:\n",
      "               precision    recall  f1-score   support\n",
      "\n",
      "         0.0       0.98      0.93      0.95    107147\n",
      "         1.0       0.91      0.97      0.94     74313\n",
      "\n",
      "    accuracy                           0.95    181460\n",
      "   macro avg       0.94      0.95      0.95    181460\n",
      "weighted avg       0.95      0.95      0.95    181460\n",
      "\n",
      "Mean Squared Error: 0.05330651\n",
      "\n",
      "ROC data saved to eFEX_with_newest_Topo_files_99_supercells\\roc\\roc_99_supercells_MLPClassifier.json\n"
     ]
    },
    {
     "name": "stderr",
     "output_type": "stream",
     "text": [
      "\n",
      "\u001b[A"
     ]
    },
    {
     "name": "stdout",
     "output_type": "stream",
     "text": [
      "Precision-Recall data saved to eFEX_with_newest_Topo_files_99_supercells\\precision_recall\\precision_recall_99_supercells_MLPClassifier.json\n",
      "Efficiency vs Electron PT data saved to eFEX_with_newest_Topo_files_99_supercells\\efficiency_vs_ele_pt\\efficiency_vs_ele_pt_99_supercells_MLPClassifier.json\n",
      "Training MultiOutputClassifier...\n",
      "Could not train or predict with MultiOutputClassifier: y must have at least two dimensions for multi-output regression but has only one.\n",
      "Training MultinomialNB...\n",
      "Took: 0.19250750541687012 seconds\n",
      "predicting...\n",
      "Took: 0.031089305877685547 seconds\n",
      "\n",
      "\n",
      "Evaluation of MultinomialNB\n",
      "Confusion Matrix:\n",
      " [[82618 24529]\n",
      " [ 2744 71569]]\n",
      "Accuracy: 0.84970241\n",
      "Recall: 0.96307510\n",
      "Precision: 0.74475015\n",
      "F1 Score: 0.83995751\n",
      "Classification Report:\n",
      "               precision    recall  f1-score   support\n",
      "\n",
      "         0.0       0.97      0.77      0.86    107147\n",
      "         1.0       0.74      0.96      0.84     74313\n",
      "\n",
      "    accuracy                           0.85    181460\n",
      "   macro avg       0.86      0.87      0.85    181460\n",
      "weighted avg       0.88      0.85      0.85    181460\n",
      "\n",
      "Mean Squared Error: 0.15029759\n",
      "\n",
      "ROC data saved to eFEX_with_newest_Topo_files_99_supercells\\roc\\roc_99_supercells_MultinomialNB.json\n"
     ]
    },
    {
     "name": "stderr",
     "output_type": "stream",
     "text": [
      "\n",
      "\u001b[A"
     ]
    },
    {
     "name": "stdout",
     "output_type": "stream",
     "text": [
      "Precision-Recall data saved to eFEX_with_newest_Topo_files_99_supercells\\precision_recall\\precision_recall_99_supercells_MultinomialNB.json\n",
      "Efficiency vs Electron PT data saved to eFEX_with_newest_Topo_files_99_supercells\\efficiency_vs_ele_pt\\efficiency_vs_ele_pt_99_supercells_MultinomialNB.json\n",
      "Training NearestCentroid...\n",
      "Took: 0.7171986103057861 seconds\n",
      "predicting...\n",
      "Took: 0.0420377254486084 seconds\n",
      "\n",
      "\n",
      "Evaluation of NearestCentroid\n",
      "Confusion Matrix:\n",
      " [[52724 54423]\n",
      " [ 1749 72564]]\n",
      "Accuracy: 0.69044418\n",
      "Recall: 0.97646441\n",
      "Precision: 0.57142857\n",
      "F1 Score: 0.72095380\n",
      "Classification Report:\n",
      "               precision    recall  f1-score   support\n",
      "\n",
      "         0.0       0.97      0.49      0.65    107147\n",
      "         1.0       0.57      0.98      0.72     74313\n",
      "\n",
      "    accuracy                           0.69    181460\n",
      "   macro avg       0.77      0.73      0.69    181460\n",
      "weighted avg       0.81      0.69      0.68    181460\n",
      "\n",
      "Mean Squared Error: 0.30955582\n",
      "\n",
      "ROC data saved to eFEX_with_newest_Topo_files_99_supercells\\roc\\roc_99_supercells_NearestCentroid.json\n"
     ]
    },
    {
     "name": "stderr",
     "output_type": "stream",
     "text": [
      "\n",
      "\u001b[A"
     ]
    },
    {
     "name": "stdout",
     "output_type": "stream",
     "text": [
      "Precision-Recall data saved to eFEX_with_newest_Topo_files_99_supercells\\precision_recall\\precision_recall_99_supercells_NearestCentroid.json\n",
      "Efficiency vs Electron PT data saved to eFEX_with_newest_Topo_files_99_supercells\\efficiency_vs_ele_pt\\efficiency_vs_ele_pt_99_supercells_NearestCentroid.json\n",
      "Training OneVsOneClassifier...\n"
     ]
    },
    {
     "name": "stderr",
     "output_type": "stream",
     "text": [
      "c:\\Users\\Me\\AppData\\Local\\Programs\\Python\\Python312\\Lib\\site-packages\\sklearn\\linear_model\\_logistic.py:465: ConvergenceWarning: lbfgs failed to converge (status=1):\n",
      "STOP: TOTAL NO. OF ITERATIONS REACHED LIMIT.\n",
      "\n",
      "Increase the number of iterations (max_iter) or scale the data as shown in:\n",
      "    https://scikit-learn.org/stable/modules/preprocessing.html\n",
      "Please also refer to the documentation for alternative solver options:\n",
      "    https://scikit-learn.org/stable/modules/linear_model.html#logistic-regression\n",
      "  n_iter_i = _check_optimize_result(\n"
     ]
    },
    {
     "name": "stdout",
     "output_type": "stream",
     "text": [
      "Took: 9.029468297958374 seconds\n",
      "predicting...\n",
      "Took: 0.05104708671569824 seconds\n",
      "\n",
      "\n",
      "Evaluation of OneVsOneClassifier\n",
      "Confusion Matrix:\n",
      " [[92995 14152]\n",
      " [ 3743 70570]]\n",
      "Accuracy: 0.90138322\n",
      "Recall: 0.94963196\n",
      "Precision: 0.83295956\n",
      "F1 Score: 0.88747760\n",
      "Classification Report:\n",
      "               precision    recall  f1-score   support\n",
      "\n",
      "         0.0       0.96      0.87      0.91    107147\n",
      "         1.0       0.83      0.95      0.89     74313\n",
      "\n",
      "    accuracy                           0.90    181460\n",
      "   macro avg       0.90      0.91      0.90    181460\n",
      "weighted avg       0.91      0.90      0.90    181460\n",
      "\n",
      "Mean Squared Error: 0.09861678\n",
      "\n",
      "ROC data saved to eFEX_with_newest_Topo_files_99_supercells\\roc\\roc_99_supercells_OneVsOneClassifier.json\n"
     ]
    },
    {
     "name": "stderr",
     "output_type": "stream",
     "text": [
      "\n",
      "\u001b[A"
     ]
    },
    {
     "name": "stdout",
     "output_type": "stream",
     "text": [
      "Precision-Recall data saved to eFEX_with_newest_Topo_files_99_supercells\\precision_recall\\precision_recall_99_supercells_OneVsOneClassifier.json\n",
      "Efficiency vs Electron PT data saved to eFEX_with_newest_Topo_files_99_supercells\\efficiency_vs_ele_pt\\efficiency_vs_ele_pt_99_supercells_OneVsOneClassifier.json\n",
      "Training OneVsRestClassifier...\n"
     ]
    },
    {
     "name": "stderr",
     "output_type": "stream",
     "text": [
      "c:\\Users\\Me\\AppData\\Local\\Programs\\Python\\Python312\\Lib\\site-packages\\sklearn\\linear_model\\_logistic.py:465: ConvergenceWarning: lbfgs failed to converge (status=1):\n",
      "STOP: TOTAL NO. OF ITERATIONS REACHED LIMIT.\n",
      "\n",
      "Increase the number of iterations (max_iter) or scale the data as shown in:\n",
      "    https://scikit-learn.org/stable/modules/preprocessing.html\n",
      "Please also refer to the documentation for alternative solver options:\n",
      "    https://scikit-learn.org/stable/modules/linear_model.html#logistic-regression\n",
      "  n_iter_i = _check_optimize_result(\n"
     ]
    },
    {
     "name": "stdout",
     "output_type": "stream",
     "text": [
      "Took: 9.141146898269653 seconds\n",
      "predicting...\n",
      "Took: 0.03227519989013672 seconds\n",
      "\n",
      "\n",
      "Evaluation of OneVsRestClassifier\n",
      "Confusion Matrix:\n",
      " [[92995 14152]\n",
      " [ 3743 70570]]\n",
      "Accuracy: 0.90138322\n",
      "Recall: 0.94963196\n",
      "Precision: 0.83295956\n",
      "F1 Score: 0.88747760\n",
      "Classification Report:\n",
      "               precision    recall  f1-score   support\n",
      "\n",
      "         0.0       0.96      0.87      0.91    107147\n",
      "         1.0       0.83      0.95      0.89     74313\n",
      "\n",
      "    accuracy                           0.90    181460\n",
      "   macro avg       0.90      0.91      0.90    181460\n",
      "weighted avg       0.91      0.90      0.90    181460\n",
      "\n",
      "Mean Squared Error: 0.09861678\n",
      "\n",
      "ROC data saved to eFEX_with_newest_Topo_files_99_supercells\\roc\\roc_99_supercells_OneVsRestClassifier.json\n"
     ]
    },
    {
     "name": "stderr",
     "output_type": "stream",
     "text": [
      "\n",
      "\u001b[A"
     ]
    },
    {
     "name": "stdout",
     "output_type": "stream",
     "text": [
      "Precision-Recall data saved to eFEX_with_newest_Topo_files_99_supercells\\precision_recall\\precision_recall_99_supercells_OneVsRestClassifier.json\n",
      "Efficiency vs Electron PT data saved to eFEX_with_newest_Topo_files_99_supercells\\efficiency_vs_ele_pt\\efficiency_vs_ele_pt_99_supercells_OneVsRestClassifier.json\n",
      "Training OutputCodeClassifier...\n"
     ]
    },
    {
     "name": "stderr",
     "output_type": "stream",
     "text": [
      "c:\\Users\\Me\\AppData\\Local\\Programs\\Python\\Python312\\Lib\\site-packages\\sklearn\\linear_model\\_logistic.py:465: ConvergenceWarning: lbfgs failed to converge (status=1):\n",
      "STOP: TOTAL NO. OF ITERATIONS REACHED LIMIT.\n",
      "\n",
      "Increase the number of iterations (max_iter) or scale the data as shown in:\n",
      "    https://scikit-learn.org/stable/modules/preprocessing.html\n",
      "Please also refer to the documentation for alternative solver options:\n",
      "    https://scikit-learn.org/stable/modules/linear_model.html#logistic-regression\n",
      "  n_iter_i = _check_optimize_result(\n"
     ]
    },
    {
     "name": "stdout",
     "output_type": "stream",
     "text": [
      "Took: 9.352053880691528 seconds\n",
      "predicting...\n",
      "Took: 0.027083635330200195 seconds\n",
      "\n",
      "\n",
      "Evaluation of OutputCodeClassifier\n",
      "Confusion Matrix:\n",
      " [[92995 14152]\n",
      " [ 3743 70570]]\n",
      "Accuracy: 0.90138322\n",
      "Recall: 0.94963196\n"
     ]
    },
    {
     "name": "stderr",
     "output_type": "stream",
     "text": [
      "\n",
      "\u001b[A"
     ]
    },
    {
     "name": "stdout",
     "output_type": "stream",
     "text": [
      "Precision: 0.83295956\n",
      "F1 Score: 0.88747760\n",
      "Classification Report:\n",
      "               precision    recall  f1-score   support\n",
      "\n",
      "         0.0       0.96      0.87      0.91    107147\n",
      "         1.0       0.83      0.95      0.89     74313\n",
      "\n",
      "    accuracy                           0.90    181460\n",
      "   macro avg       0.90      0.91      0.90    181460\n",
      "weighted avg       0.91      0.90      0.90    181460\n",
      "\n",
      "Mean Squared Error: 0.09861678\n",
      "\n",
      "Failed ROC computation for OutputCodeClassifier: Model must have either a decision_function or predict_proba method.\n",
      "Failed Precision-Recall computation for OutputCodeClassifier: Model must have either a decision_function or predict_proba method.\n",
      "Efficiency vs Electron PT data saved to eFEX_with_newest_Topo_files_99_supercells\\efficiency_vs_ele_pt\\efficiency_vs_ele_pt_99_supercells_OutputCodeClassifier.json\n",
      "Training PassiveAggressiveClassifier...\n",
      "Took: 1.577434778213501 seconds\n",
      "predicting...\n",
      "Took: 0.029132366180419922 seconds\n",
      "\n",
      "\n",
      "Evaluation of PassiveAggressiveClassifier\n",
      "Confusion Matrix:\n",
      " [[101463   5684]\n",
      " [ 39109  35204]]\n",
      "Accuracy: 0.75315221\n",
      "Recall: 0.47372600\n",
      "Precision: 0.86098611\n",
      "F1 Score: 0.61117525\n",
      "Classification Report:\n",
      "               precision    recall  f1-score   support\n",
      "\n",
      "         0.0       0.72      0.95      0.82    107147\n",
      "         1.0       0.86      0.47      0.61     74313\n",
      "\n",
      "    accuracy                           0.75    181460\n",
      "   macro avg       0.79      0.71      0.72    181460\n",
      "weighted avg       0.78      0.75      0.73    181460\n",
      "\n",
      "Mean Squared Error: 0.24684779\n",
      "\n",
      "ROC data saved to eFEX_with_newest_Topo_files_99_supercells\\roc\\roc_99_supercells_PassiveAggressiveClassifier.json\n"
     ]
    },
    {
     "name": "stderr",
     "output_type": "stream",
     "text": [
      "\n",
      "\u001b[A"
     ]
    },
    {
     "name": "stdout",
     "output_type": "stream",
     "text": [
      "Precision-Recall data saved to eFEX_with_newest_Topo_files_99_supercells\\precision_recall\\precision_recall_99_supercells_PassiveAggressiveClassifier.json\n",
      "Efficiency vs Electron PT data saved to eFEX_with_newest_Topo_files_99_supercells\\efficiency_vs_ele_pt\\efficiency_vs_ele_pt_99_supercells_PassiveAggressiveClassifier.json\n",
      "Training Perceptron...\n",
      "Took: 2.6554009914398193 seconds\n",
      "predicting...\n",
      "Took: 0.022020339965820312 seconds\n",
      "\n",
      "\n",
      "Evaluation of Perceptron\n",
      "Confusion Matrix:\n",
      " [[94865 12282]\n",
      " [19804 54509]]\n",
      "Accuracy: 0.82317866\n",
      "Recall: 0.73350558\n",
      "Precision: 0.81611295\n",
      "F1 Score: 0.77260744\n",
      "Classification Report:\n",
      "               precision    recall  f1-score   support\n",
      "\n",
      "         0.0       0.83      0.89      0.86    107147\n",
      "         1.0       0.82      0.73      0.77     74313\n",
      "\n",
      "    accuracy                           0.82    181460\n",
      "   macro avg       0.82      0.81      0.81    181460\n",
      "weighted avg       0.82      0.82      0.82    181460\n",
      "\n",
      "Mean Squared Error: 0.17682134\n",
      "\n",
      "ROC data saved to eFEX_with_newest_Topo_files_99_supercells\\roc\\roc_99_supercells_Perceptron.json\n"
     ]
    },
    {
     "name": "stderr",
     "output_type": "stream",
     "text": [
      "\n",
      "\u001b[A"
     ]
    },
    {
     "name": "stdout",
     "output_type": "stream",
     "text": [
      "Precision-Recall data saved to eFEX_with_newest_Topo_files_99_supercells\\precision_recall\\precision_recall_99_supercells_Perceptron.json\n",
      "Efficiency vs Electron PT data saved to eFEX_with_newest_Topo_files_99_supercells\\efficiency_vs_ele_pt\\efficiency_vs_ele_pt_99_supercells_Perceptron.json\n",
      "Training QuadraticDiscriminantAnalysis...\n",
      "Took: 5.811202049255371 seconds\n",
      "predicting...\n",
      "Took: 0.28922462463378906 seconds\n",
      "\n",
      "\n",
      "Evaluation of QuadraticDiscriminantAnalysis\n",
      "Confusion Matrix:\n",
      " [[89739 17408]\n",
      " [ 3429 70884]]\n",
      "Accuracy: 0.88517029\n",
      "Recall: 0.95385733\n",
      "Precision: 0.80283604\n",
      "F1 Score: 0.87185511\n",
      "Classification Report:\n",
      "               precision    recall  f1-score   support\n",
      "\n",
      "         0.0       0.96      0.84      0.90    107147\n",
      "         1.0       0.80      0.95      0.87     74313\n",
      "\n",
      "    accuracy                           0.89    181460\n",
      "   macro avg       0.88      0.90      0.88    181460\n",
      "weighted avg       0.90      0.89      0.89    181460\n",
      "\n",
      "Mean Squared Error: 0.11482971\n",
      "\n",
      "ROC data saved to eFEX_with_newest_Topo_files_99_supercells\\roc\\roc_99_supercells_QuadraticDiscriminantAnalysis.json\n"
     ]
    },
    {
     "name": "stderr",
     "output_type": "stream",
     "text": [
      "\n",
      "\u001b[A"
     ]
    },
    {
     "name": "stdout",
     "output_type": "stream",
     "text": [
      "Precision-Recall data saved to eFEX_with_newest_Topo_files_99_supercells\\precision_recall\\precision_recall_99_supercells_QuadraticDiscriminantAnalysis.json\n",
      "Efficiency vs Electron PT data saved to eFEX_with_newest_Topo_files_99_supercells\\efficiency_vs_ele_pt\\efficiency_vs_ele_pt_99_supercells_QuadraticDiscriminantAnalysis.json\n",
      "Training RadiusNeighborsClassifier...\n",
      "Took: 0.09657144546508789 seconds\n",
      "predicting...\n"
     ]
    },
    {
     "name": "stderr",
     "output_type": "stream",
     "text": [
      "\n",
      "\u001b[A"
     ]
    },
    {
     "name": "stdout",
     "output_type": "stream",
     "text": [
      "Could not train or predict with RadiusNeighborsClassifier: No neighbors found for test samples array([     0,      1,      2, ..., 181457, 181458, 181459], dtype=int64), you can try using larger radius, giving a label for outliers, or considering removing them from your dataset.\n",
      "Training RandomForestClassifier...\n",
      "Took: 201.12763094902039 seconds\n",
      "predicting...\n",
      "Took: 3.233935832977295 seconds\n",
      "\n",
      "\n",
      "Evaluation of RandomForestClassifier\n",
      "Confusion Matrix:\n",
      " [[99018  8129]\n",
      " [ 2616 71697]]\n",
      "Accuracy: 0.94078585\n",
      "Recall: 0.96479755\n",
      "Precision: 0.89816601\n",
      "F1 Score: 0.93029019\n",
      "Classification Report:\n",
      "               precision    recall  f1-score   support\n",
      "\n",
      "         0.0       0.97      0.92      0.95    107147\n",
      "         1.0       0.90      0.96      0.93     74313\n",
      "\n",
      "    accuracy                           0.94    181460\n",
      "   macro avg       0.94      0.94      0.94    181460\n",
      "weighted avg       0.94      0.94      0.94    181460\n",
      "\n",
      "Mean Squared Error: 0.05921415\n",
      "\n",
      "ROC data saved to eFEX_with_newest_Topo_files_99_supercells\\roc\\roc_99_supercells_RandomForestClassifier.json\n"
     ]
    },
    {
     "name": "stderr",
     "output_type": "stream",
     "text": [
      "\n",
      "\u001b[A"
     ]
    },
    {
     "name": "stdout",
     "output_type": "stream",
     "text": [
      "Precision-Recall data saved to eFEX_with_newest_Topo_files_99_supercells\\precision_recall\\precision_recall_99_supercells_RandomForestClassifier.json\n",
      "Efficiency vs Electron PT data saved to eFEX_with_newest_Topo_files_99_supercells\\efficiency_vs_ele_pt\\efficiency_vs_ele_pt_99_supercells_RandomForestClassifier.json\n",
      "Training RidgeClassifier...\n",
      "Took: 0.8763923645019531 seconds\n",
      "predicting...\n",
      "Took: 0.024021625518798828 seconds\n",
      "\n",
      "\n",
      "Evaluation of RidgeClassifier\n",
      "Confusion Matrix:\n",
      " [[85866 21281]\n",
      " [12227 62086]]\n",
      "Accuracy: 0.81534222\n",
      "Recall: 0.83546620\n",
      "Precision: 0.74473113\n",
      "F1 Score: 0.78749366\n",
      "Classification Report:\n",
      "               precision    recall  f1-score   support\n",
      "\n",
      "         0.0       0.88      0.80      0.84    107147\n",
      "         1.0       0.74      0.84      0.79     74313\n",
      "\n",
      "    accuracy                           0.82    181460\n",
      "   macro avg       0.81      0.82      0.81    181460\n",
      "weighted avg       0.82      0.82      0.82    181460\n",
      "\n",
      "Mean Squared Error: 0.18465778\n",
      "\n",
      "ROC data saved to eFEX_with_newest_Topo_files_99_supercells\\roc\\roc_99_supercells_RidgeClassifier.json\n"
     ]
    },
    {
     "name": "stderr",
     "output_type": "stream",
     "text": [
      "\n",
      "\u001b[A"
     ]
    },
    {
     "name": "stdout",
     "output_type": "stream",
     "text": [
      "Precision-Recall data saved to eFEX_with_newest_Topo_files_99_supercells\\precision_recall\\precision_recall_99_supercells_RidgeClassifier.json\n",
      "Efficiency vs Electron PT data saved to eFEX_with_newest_Topo_files_99_supercells\\efficiency_vs_ele_pt\\efficiency_vs_ele_pt_99_supercells_RidgeClassifier.json\n",
      "Training RidgeClassifierCV...\n",
      "Took: 7.407531499862671 seconds\n",
      "predicting...\n",
      "Took: 0.023522615432739258 seconds\n",
      "\n",
      "\n",
      "Evaluation of RidgeClassifierCV\n",
      "Confusion Matrix:\n",
      " [[85865 21282]\n",
      " [12227 62086]]\n",
      "Accuracy: 0.81533671\n",
      "Recall: 0.83546620\n",
      "Precision: 0.74472220\n",
      "F1 Score: 0.78748866\n",
      "Classification Report:\n",
      "               precision    recall  f1-score   support\n",
      "\n",
      "         0.0       0.88      0.80      0.84    107147\n",
      "         1.0       0.74      0.84      0.79     74313\n",
      "\n",
      "    accuracy                           0.82    181460\n",
      "   macro avg       0.81      0.82      0.81    181460\n",
      "weighted avg       0.82      0.82      0.82    181460\n",
      "\n",
      "Mean Squared Error: 0.18466329\n",
      "\n",
      "ROC data saved to eFEX_with_newest_Topo_files_99_supercells\\roc\\roc_99_supercells_RidgeClassifierCV.json\n"
     ]
    },
    {
     "name": "stderr",
     "output_type": "stream",
     "text": [
      "\n",
      "\u001b[A"
     ]
    },
    {
     "name": "stdout",
     "output_type": "stream",
     "text": [
      "Precision-Recall data saved to eFEX_with_newest_Topo_files_99_supercells\\precision_recall\\precision_recall_99_supercells_RidgeClassifierCV.json\n",
      "Efficiency vs Electron PT data saved to eFEX_with_newest_Topo_files_99_supercells\\efficiency_vs_ele_pt\\efficiency_vs_ele_pt_99_supercells_RidgeClassifierCV.json\n",
      "Training SGDClassifier...\n",
      "Took: 4.3340818881988525 seconds\n",
      "predicting...\n",
      "Took: 0.022487640380859375 seconds\n",
      "\n",
      "\n",
      "Evaluation of SGDClassifier\n",
      "Confusion Matrix:\n",
      " [[91767 15380]\n",
      " [ 2871 71442]]\n",
      "Accuracy: 0.89942136\n",
      "Recall: 0.96136611\n",
      "Precision: 0.82285596\n",
      "F1 Score: 0.88673473\n",
      "Classification Report:\n",
      "               precision    recall  f1-score   support\n",
      "\n",
      "         0.0       0.97      0.86      0.91    107147\n",
      "         1.0       0.82      0.96      0.89     74313\n",
      "\n",
      "    accuracy                           0.90    181460\n",
      "   macro avg       0.90      0.91      0.90    181460\n",
      "weighted avg       0.91      0.90      0.90    181460\n",
      "\n",
      "Mean Squared Error: 0.10057864\n",
      "\n",
      "ROC data saved to eFEX_with_newest_Topo_files_99_supercells\\roc\\roc_99_supercells_SGDClassifier.json\n"
     ]
    },
    {
     "name": "stderr",
     "output_type": "stream",
     "text": [
      "\n",
      "\u001b[A"
     ]
    },
    {
     "name": "stdout",
     "output_type": "stream",
     "text": [
      "Precision-Recall data saved to eFEX_with_newest_Topo_files_99_supercells\\precision_recall\\precision_recall_99_supercells_SGDClassifier.json\n",
      "Efficiency vs Electron PT data saved to eFEX_with_newest_Topo_files_99_supercells\\efficiency_vs_ele_pt\\efficiency_vs_ele_pt_99_supercells_SGDClassifier.json\n",
      "Training TunedThresholdClassifierCV...\n"
     ]
    },
    {
     "name": "stderr",
     "output_type": "stream",
     "text": [
      "c:\\Users\\Me\\AppData\\Local\\Programs\\Python\\Python312\\Lib\\site-packages\\sklearn\\linear_model\\_logistic.py:465: ConvergenceWarning: lbfgs failed to converge (status=1):\n",
      "STOP: TOTAL NO. OF ITERATIONS REACHED LIMIT.\n",
      "\n",
      "Increase the number of iterations (max_iter) or scale the data as shown in:\n",
      "    https://scikit-learn.org/stable/modules/preprocessing.html\n",
      "Please also refer to the documentation for alternative solver options:\n",
      "    https://scikit-learn.org/stable/modules/linear_model.html#logistic-regression\n",
      "  n_iter_i = _check_optimize_result(\n",
      "c:\\Users\\Me\\AppData\\Local\\Programs\\Python\\Python312\\Lib\\site-packages\\sklearn\\linear_model\\_logistic.py:465: ConvergenceWarning: lbfgs failed to converge (status=1):\n",
      "STOP: TOTAL NO. OF ITERATIONS REACHED LIMIT.\n",
      "\n",
      "Increase the number of iterations (max_iter) or scale the data as shown in:\n",
      "    https://scikit-learn.org/stable/modules/preprocessing.html\n",
      "Please also refer to the documentation for alternative solver options:\n",
      "    https://scikit-learn.org/stable/modules/linear_model.html#logistic-regression\n",
      "  n_iter_i = _check_optimize_result(\n",
      "c:\\Users\\Me\\AppData\\Local\\Programs\\Python\\Python312\\Lib\\site-packages\\sklearn\\linear_model\\_logistic.py:465: ConvergenceWarning: lbfgs failed to converge (status=1):\n",
      "STOP: TOTAL NO. OF ITERATIONS REACHED LIMIT.\n",
      "\n",
      "Increase the number of iterations (max_iter) or scale the data as shown in:\n",
      "    https://scikit-learn.org/stable/modules/preprocessing.html\n",
      "Please also refer to the documentation for alternative solver options:\n",
      "    https://scikit-learn.org/stable/modules/linear_model.html#logistic-regression\n",
      "  n_iter_i = _check_optimize_result(\n",
      "c:\\Users\\Me\\AppData\\Local\\Programs\\Python\\Python312\\Lib\\site-packages\\sklearn\\linear_model\\_logistic.py:465: ConvergenceWarning: lbfgs failed to converge (status=1):\n",
      "STOP: TOTAL NO. OF ITERATIONS REACHED LIMIT.\n",
      "\n",
      "Increase the number of iterations (max_iter) or scale the data as shown in:\n",
      "    https://scikit-learn.org/stable/modules/preprocessing.html\n",
      "Please also refer to the documentation for alternative solver options:\n",
      "    https://scikit-learn.org/stable/modules/linear_model.html#logistic-regression\n",
      "  n_iter_i = _check_optimize_result(\n",
      "c:\\Users\\Me\\AppData\\Local\\Programs\\Python\\Python312\\Lib\\site-packages\\sklearn\\linear_model\\_logistic.py:465: ConvergenceWarning: lbfgs failed to converge (status=1):\n",
      "STOP: TOTAL NO. OF ITERATIONS REACHED LIMIT.\n",
      "\n",
      "Increase the number of iterations (max_iter) or scale the data as shown in:\n",
      "    https://scikit-learn.org/stable/modules/preprocessing.html\n",
      "Please also refer to the documentation for alternative solver options:\n",
      "    https://scikit-learn.org/stable/modules/linear_model.html#logistic-regression\n",
      "  n_iter_i = _check_optimize_result(\n",
      "c:\\Users\\Me\\AppData\\Local\\Programs\\Python\\Python312\\Lib\\site-packages\\sklearn\\linear_model\\_logistic.py:465: ConvergenceWarning: lbfgs failed to converge (status=1):\n",
      "STOP: TOTAL NO. OF ITERATIONS REACHED LIMIT.\n",
      "\n",
      "Increase the number of iterations (max_iter) or scale the data as shown in:\n",
      "    https://scikit-learn.org/stable/modules/preprocessing.html\n",
      "Please also refer to the documentation for alternative solver options:\n",
      "    https://scikit-learn.org/stable/modules/linear_model.html#logistic-regression\n",
      "  n_iter_i = _check_optimize_result(\n"
     ]
    },
    {
     "name": "stdout",
     "output_type": "stream",
     "text": [
      "Took: 64.66507244110107 seconds\n",
      "predicting...\n",
      "Took: 0.029619932174682617 seconds\n",
      "\n",
      "\n",
      "Evaluation of TunedThresholdClassifierCV\n",
      "Confusion Matrix:\n",
      " [[91861 15286]\n",
      " [ 2809 71504]]\n",
      "Accuracy: 0.90028105\n",
      "Recall: 0.96220042\n",
      "Precision: 0.82387372\n",
      "F1 Score: 0.88768055\n",
      "Classification Report:\n",
      "               precision    recall  f1-score   support\n",
      "\n",
      "         0.0       0.97      0.86      0.91    107147\n",
      "         1.0       0.82      0.96      0.89     74313\n",
      "\n",
      "    accuracy                           0.90    181460\n",
      "   macro avg       0.90      0.91      0.90    181460\n",
      "weighted avg       0.91      0.90      0.90    181460\n",
      "\n",
      "Mean Squared Error: 0.09971895\n",
      "\n",
      "ROC data saved to eFEX_with_newest_Topo_files_99_supercells\\roc\\roc_99_supercells_TunedThresholdClassifierCV.json\n"
     ]
    },
    {
     "name": "stderr",
     "output_type": "stream",
     "text": [
      "\n",
      "\u001b[A"
     ]
    },
    {
     "name": "stdout",
     "output_type": "stream",
     "text": [
      "Precision-Recall data saved to eFEX_with_newest_Topo_files_99_supercells\\precision_recall\\precision_recall_99_supercells_TunedThresholdClassifierCV.json\n",
      "Efficiency vs Electron PT data saved to eFEX_with_newest_Topo_files_99_supercells\\efficiency_vs_ele_pt\\efficiency_vs_ele_pt_99_supercells_TunedThresholdClassifierCV.json\n",
      "Training VotingClassifier...\n"
     ]
    },
    {
     "name": "stderr",
     "output_type": "stream",
     "text": [
      "c:\\Users\\Me\\AppData\\Local\\Programs\\Python\\Python312\\Lib\\site-packages\\sklearn\\linear_model\\_logistic.py:465: ConvergenceWarning: lbfgs failed to converge (status=1):\n",
      "STOP: TOTAL NO. OF ITERATIONS REACHED LIMIT.\n",
      "\n",
      "Increase the number of iterations (max_iter) or scale the data as shown in:\n",
      "    https://scikit-learn.org/stable/modules/preprocessing.html\n",
      "Please also refer to the documentation for alternative solver options:\n",
      "    https://scikit-learn.org/stable/modules/linear_model.html#logistic-regression\n",
      "  n_iter_i = _check_optimize_result(\n"
     ]
    },
    {
     "name": "stdout",
     "output_type": "stream",
     "text": [
      "Took: 208.54648804664612 seconds\n",
      "predicting...\n",
      "Took: 3.8182895183563232 seconds\n",
      "\n",
      "\n",
      "Evaluation of VotingClassifier\n",
      "Confusion Matrix:\n",
      " [[99907  7240]\n",
      " [ 5005 69308]]\n",
      "Accuracy: 0.93251956\n",
      "Recall: 0.93264974\n",
      "Precision: 0.90541882\n",
      "F1 Score: 0.91883257\n"
     ]
    },
    {
     "name": "stderr",
     "output_type": "stream",
     "text": [
      "\n",
      "\u001b[A"
     ]
    },
    {
     "name": "stdout",
     "output_type": "stream",
     "text": [
      "Classification Report:\n",
      "               precision    recall  f1-score   support\n",
      "\n",
      "         0.0       0.95      0.93      0.94    107147\n",
      "         1.0       0.91      0.93      0.92     74313\n",
      "\n",
      "    accuracy                           0.93    181460\n",
      "   macro avg       0.93      0.93      0.93    181460\n",
      "weighted avg       0.93      0.93      0.93    181460\n",
      "\n",
      "Mean Squared Error: 0.06748044\n",
      "\n",
      "Failed ROC computation for VotingClassifier: Model must have either a decision_function or predict_proba method.\n",
      "Failed Precision-Recall computation for VotingClassifier: Model must have either a decision_function or predict_proba method.\n",
      "Efficiency vs Electron PT data saved to eFEX_with_newest_Topo_files_99_supercells\\efficiency_vs_ele_pt\\efficiency_vs_ele_pt_99_supercells_VotingClassifier.json\n",
      "Training XGBClassifier...\n",
      "Took: 3.232257604598999 seconds\n",
      "predicting...\n",
      "Took: 0.07220745086669922 seconds\n",
      "\n",
      "\n",
      "Evaluation of XGBClassifier\n",
      "Confusion Matrix:\n",
      " [[98351  8796]\n",
      " [ 1918 72395]]\n",
      "Accuracy: 0.94095668\n",
      "Recall: 0.97419025\n",
      "Precision: 0.89166287\n",
      "F1 Score: 0.93110145\n",
      "Classification Report:\n",
      "               precision    recall  f1-score   support\n",
      "\n",
      "         0.0       0.98      0.92      0.95    107147\n",
      "         1.0       0.89      0.97      0.93     74313\n",
      "\n",
      "    accuracy                           0.94    181460\n",
      "   macro avg       0.94      0.95      0.94    181460\n",
      "weighted avg       0.94      0.94      0.94    181460\n",
      "\n",
      "Mean Squared Error: 0.05904332\n",
      "\n",
      "ROC data saved to eFEX_with_newest_Topo_files_99_supercells\\roc\\roc_99_supercells_XGBClassifier.json\n"
     ]
    },
    {
     "name": "stderr",
     "output_type": "stream",
     "text": [
      "\n",
      "100%|██████████| 41/41 [41:19<00:00, 60.48s/it]\n"
     ]
    },
    {
     "name": "stdout",
     "output_type": "stream",
     "text": [
      "Precision-Recall data saved to eFEX_with_newest_Topo_files_99_supercells\\precision_recall\\precision_recall_99_supercells_XGBClassifier.json\n",
      "Efficiency vs Electron PT data saved to eFEX_with_newest_Topo_files_99_supercells\\efficiency_vs_ele_pt\\efficiency_vs_ele_pt_99_supercells_XGBClassifier.json\n",
      "Results saved to eFEX_with_newest_Topo_files_99_supercells/eFEX_with_newest_Topo_files_99_supercells_99_supercells_all.csv\n",
      "Log saved to ..\\data\\eFEX_with_newest_Topo_files_88_reduced\\log.json\n",
      "preprepared data in ..\\data\\eFEX_with_newest_Topo_files_88_reduced is missing, preparing and saving here\n",
      "found data preparation log in ..\\data\\eFEX_with_newest_Topo_files_88_reduced\\log.json\n",
      "Log saved to eFEX_with_newest_Topo_files_88_reduced\\log.json\n"
     ]
    },
    {
     "name": "stderr",
     "output_type": "stream",
     "text": [
      "\n",
      "\u001b[A"
     ]
    },
    {
     "name": "stdout",
     "output_type": "stream",
     "text": [
      "Training AdaBoostClassifier...\n",
      "Took: 64.91211676597595 seconds\n",
      "predicting...\n",
      "Took: 1.706866979598999 seconds\n",
      "\n",
      "\n",
      "Evaluation of AdaBoostClassifier\n",
      "Confusion Matrix:\n",
      " [[84083 23064]\n",
      " [ 4507 69806]]\n",
      "Accuracy: 0.84806018\n",
      "Recall: 0.93935112\n",
      "Precision: 0.75165285\n",
      "F1 Score: 0.83508491\n",
      "Classification Report:\n",
      "               precision    recall  f1-score   support\n",
      "\n",
      "         0.0       0.95      0.78      0.86    107147\n",
      "         1.0       0.75      0.94      0.84     74313\n",
      "\n",
      "    accuracy                           0.85    181460\n",
      "   macro avg       0.85      0.86      0.85    181460\n",
      "weighted avg       0.87      0.85      0.85    181460\n",
      "\n",
      "Mean Squared Error: 0.15193982\n",
      "\n",
      "ROC data saved to eFEX_with_newest_Topo_files_88_reduced\\roc\\roc_88_reduced_AdaBoostClassifier.json\n"
     ]
    },
    {
     "name": "stderr",
     "output_type": "stream",
     "text": [
      "\n",
      "\u001b[A"
     ]
    },
    {
     "name": "stdout",
     "output_type": "stream",
     "text": [
      "Precision-Recall data saved to eFEX_with_newest_Topo_files_88_reduced\\precision_recall\\precision_recall_88_reduced_AdaBoostClassifier.json\n",
      "Efficiency vs Electron PT data saved to eFEX_with_newest_Topo_files_88_reduced\\efficiency_vs_ele_pt\\efficiency_vs_ele_pt_88_reduced_AdaBoostClassifier.json\n",
      "Training BaggingClassifier...\n",
      "Took: 142.15253686904907 seconds\n",
      "predicting...\n",
      "Took: 1.1883106231689453 seconds\n",
      "\n",
      "\n",
      "Evaluation of BaggingClassifier\n",
      "Confusion Matrix:\n",
      " [[97331  9816]\n",
      " [ 7299 67014]]\n",
      "Accuracy: 0.90568169\n",
      "Recall: 0.90178031\n",
      "Precision: 0.87223741\n",
      "F1 Score: 0.88676287\n",
      "Classification Report:\n",
      "               precision    recall  f1-score   support\n",
      "\n",
      "         0.0       0.93      0.91      0.92    107147\n",
      "         1.0       0.87      0.90      0.89     74313\n",
      "\n",
      "    accuracy                           0.91    181460\n",
      "   macro avg       0.90      0.91      0.90    181460\n",
      "weighted avg       0.91      0.91      0.91    181460\n",
      "\n",
      "Mean Squared Error: 0.09431831\n",
      "\n",
      "ROC data saved to eFEX_with_newest_Topo_files_88_reduced\\roc\\roc_88_reduced_BaggingClassifier.json\n"
     ]
    },
    {
     "name": "stderr",
     "output_type": "stream",
     "text": [
      "\n",
      "\u001b[A"
     ]
    },
    {
     "name": "stdout",
     "output_type": "stream",
     "text": [
      "Precision-Recall data saved to eFEX_with_newest_Topo_files_88_reduced\\precision_recall\\precision_recall_88_reduced_BaggingClassifier.json\n",
      "Efficiency vs Electron PT data saved to eFEX_with_newest_Topo_files_88_reduced\\efficiency_vs_ele_pt\\efficiency_vs_ele_pt_88_reduced_BaggingClassifier.json\n",
      "Training BernoulliNB...\n",
      "Took: 0.5045197010040283 seconds\n",
      "predicting...\n",
      "Took: 0.1188657283782959 seconds\n",
      "\n",
      "\n",
      "Evaluation of BernoulliNB\n",
      "Confusion Matrix:\n",
      " [[85443 21704]\n",
      " [ 4490 69823]]\n",
      "Accuracy: 0.85564863\n",
      "Recall: 0.93957989\n",
      "Precision: 0.76286779\n",
      "F1 Score: 0.84205258\n",
      "Classification Report:\n",
      "               precision    recall  f1-score   support\n",
      "\n",
      "         0.0       0.95      0.80      0.87    107147\n",
      "         1.0       0.76      0.94      0.84     74313\n",
      "\n",
      "    accuracy                           0.86    181460\n",
      "   macro avg       0.86      0.87      0.85    181460\n",
      "weighted avg       0.87      0.86      0.86    181460\n",
      "\n",
      "Mean Squared Error: 0.14435137\n",
      "\n",
      "ROC data saved to eFEX_with_newest_Topo_files_88_reduced\\roc\\roc_88_reduced_BernoulliNB.json\n"
     ]
    },
    {
     "name": "stderr",
     "output_type": "stream",
     "text": [
      "\n",
      "\u001b[A"
     ]
    },
    {
     "name": "stdout",
     "output_type": "stream",
     "text": [
      "Precision-Recall data saved to eFEX_with_newest_Topo_files_88_reduced\\precision_recall\\precision_recall_88_reduced_BernoulliNB.json\n",
      "Efficiency vs Electron PT data saved to eFEX_with_newest_Topo_files_88_reduced\\efficiency_vs_ele_pt\\efficiency_vs_ele_pt_88_reduced_BernoulliNB.json\n",
      "Training CalibratedClassifierCV...\n",
      "Took: 28.403441429138184 seconds\n",
      "predicting...\n",
      "Took: 0.12978363037109375 seconds\n",
      "\n",
      "\n",
      "Evaluation of CalibratedClassifierCV\n",
      "Confusion Matrix:\n",
      " [[91012 16135]\n",
      " [ 5168 69145]]\n",
      "Accuracy: 0.88260223\n",
      "Recall: 0.93045631\n",
      "Precision: 0.81079972\n",
      "F1 Score: 0.86651670\n",
      "Classification Report:\n",
      "               precision    recall  f1-score   support\n",
      "\n",
      "         0.0       0.95      0.85      0.90    107147\n",
      "         1.0       0.81      0.93      0.87     74313\n",
      "\n",
      "    accuracy                           0.88    181460\n",
      "   macro avg       0.88      0.89      0.88    181460\n",
      "weighted avg       0.89      0.88      0.88    181460\n",
      "\n",
      "Mean Squared Error: 0.11739777\n",
      "\n",
      "ROC data saved to eFEX_with_newest_Topo_files_88_reduced\\roc\\roc_88_reduced_CalibratedClassifierCV.json\n"
     ]
    },
    {
     "name": "stderr",
     "output_type": "stream",
     "text": [
      "\n",
      "\u001b[A"
     ]
    },
    {
     "name": "stdout",
     "output_type": "stream",
     "text": [
      "Precision-Recall data saved to eFEX_with_newest_Topo_files_88_reduced\\precision_recall\\precision_recall_88_reduced_CalibratedClassifierCV.json\n",
      "Efficiency vs Electron PT data saved to eFEX_with_newest_Topo_files_88_reduced\\efficiency_vs_ele_pt\\efficiency_vs_ele_pt_88_reduced_CalibratedClassifierCV.json\n",
      "Training CategoricalNB...\n"
     ]
    },
    {
     "name": "stderr",
     "output_type": "stream",
     "text": [
      "\n",
      "\u001b[A"
     ]
    },
    {
     "name": "stdout",
     "output_type": "stream",
     "text": [
      "Took: 1.8832366466522217 seconds\n",
      "predicting...\n",
      "Could not train or predict with CategoricalNB: index 33 is out of bounds for axis 1 with size 30\n",
      "Training ClassifierChain...\n",
      "Could not train or predict with ClassifierChain: tuple index out of range\n",
      "Training ComplementNB...\n",
      "Took: 0.16355514526367188 seconds\n",
      "predicting...\n",
      "Took: 0.02702617645263672 seconds\n",
      "\n",
      "\n",
      "Evaluation of ComplementNB\n",
      "Confusion Matrix:\n",
      " [[82177 24970]\n",
      " [16679 57634]]\n",
      "Accuracy: 0.77047834\n",
      "Recall: 0.77555744\n",
      "Precision: 0.69771440\n",
      "F1 Score: 0.73457943\n",
      "Classification Report:\n",
      "               precision    recall  f1-score   support\n",
      "\n",
      "         0.0       0.83      0.77      0.80    107147\n",
      "         1.0       0.70      0.78      0.73     74313\n",
      "\n",
      "    accuracy                           0.77    181460\n",
      "   macro avg       0.76      0.77      0.77    181460\n",
      "weighted avg       0.78      0.77      0.77    181460\n",
      "\n",
      "Mean Squared Error: 0.22952166\n",
      "\n",
      "ROC data saved to eFEX_with_newest_Topo_files_88_reduced\\roc\\roc_88_reduced_ComplementNB.json\n"
     ]
    },
    {
     "name": "stderr",
     "output_type": "stream",
     "text": [
      "\n",
      "\u001b[A"
     ]
    },
    {
     "name": "stdout",
     "output_type": "stream",
     "text": [
      "Precision-Recall data saved to eFEX_with_newest_Topo_files_88_reduced\\precision_recall\\precision_recall_88_reduced_ComplementNB.json\n",
      "Efficiency vs Electron PT data saved to eFEX_with_newest_Topo_files_88_reduced\\efficiency_vs_ele_pt\\efficiency_vs_ele_pt_88_reduced_ComplementNB.json\n",
      "Training DecisionTreeClassifier...\n",
      "Took: 22.249658823013306 seconds\n",
      "predicting...\n",
      "Took: 0.0641777515411377 seconds\n",
      "\n",
      "\n",
      "Evaluation of DecisionTreeClassifier\n",
      "Confusion Matrix:\n",
      " [[94923 12224]\n",
      " [11358 62955]]\n",
      "Accuracy: 0.87004298\n",
      "Recall: 0.84715999\n",
      "Precision: 0.83740140\n",
      "F1 Score: 0.84225243\n",
      "Classification Report:\n",
      "               precision    recall  f1-score   support\n",
      "\n",
      "         0.0       0.89      0.89      0.89    107147\n",
      "         1.0       0.84      0.85      0.84     74313\n",
      "\n",
      "    accuracy                           0.87    181460\n",
      "   macro avg       0.87      0.87      0.87    181460\n",
      "weighted avg       0.87      0.87      0.87    181460\n",
      "\n",
      "Mean Squared Error: 0.12995702\n",
      "\n",
      "ROC data saved to eFEX_with_newest_Topo_files_88_reduced\\roc\\roc_88_reduced_DecisionTreeClassifier.json\n"
     ]
    },
    {
     "name": "stderr",
     "output_type": "stream",
     "text": [
      "\n",
      "\u001b[A"
     ]
    },
    {
     "name": "stdout",
     "output_type": "stream",
     "text": [
      "Precision-Recall data saved to eFEX_with_newest_Topo_files_88_reduced\\precision_recall\\precision_recall_88_reduced_DecisionTreeClassifier.json\n",
      "Efficiency vs Electron PT data saved to eFEX_with_newest_Topo_files_88_reduced\\efficiency_vs_ele_pt\\efficiency_vs_ele_pt_88_reduced_DecisionTreeClassifier.json\n",
      "Training DummyClassifier...\n",
      "Took: 0.02202010154724121 seconds\n",
      "predicting...\n",
      "Took: 0.001001119613647461 seconds\n",
      "\n",
      "\n",
      "Evaluation of DummyClassifier\n",
      "Confusion Matrix:\n",
      " [[107147      0]\n",
      " [ 74313      0]]\n",
      "Accuracy: 0.59047173\n",
      "Recall: 0.00000000\n"
     ]
    },
    {
     "name": "stderr",
     "output_type": "stream",
     "text": [
      "c:\\Users\\Me\\AppData\\Local\\Programs\\Python\\Python312\\Lib\\site-packages\\sklearn\\metrics\\_classification.py:1565: UndefinedMetricWarning: Precision is ill-defined and being set to 0.0 due to no predicted samples. Use `zero_division` parameter to control this behavior.\n",
      "  _warn_prf(average, modifier, f\"{metric.capitalize()} is\", len(result))\n",
      "c:\\Users\\Me\\AppData\\Local\\Programs\\Python\\Python312\\Lib\\site-packages\\sklearn\\metrics\\_classification.py:1565: UndefinedMetricWarning: Precision is ill-defined and being set to 0.0 in labels with no predicted samples. Use `zero_division` parameter to control this behavior.\n",
      "  _warn_prf(average, modifier, f\"{metric.capitalize()} is\", len(result))\n",
      "c:\\Users\\Me\\AppData\\Local\\Programs\\Python\\Python312\\Lib\\site-packages\\sklearn\\metrics\\_classification.py:1565: UndefinedMetricWarning: Precision is ill-defined and being set to 0.0 in labels with no predicted samples. Use `zero_division` parameter to control this behavior.\n",
      "  _warn_prf(average, modifier, f\"{metric.capitalize()} is\", len(result))\n",
      "c:\\Users\\Me\\AppData\\Local\\Programs\\Python\\Python312\\Lib\\site-packages\\sklearn\\metrics\\_classification.py:1565: UndefinedMetricWarning: Precision is ill-defined and being set to 0.0 in labels with no predicted samples. Use `zero_division` parameter to control this behavior.\n",
      "  _warn_prf(average, modifier, f\"{metric.capitalize()} is\", len(result))\n",
      "\n",
      "\u001b[A"
     ]
    },
    {
     "name": "stdout",
     "output_type": "stream",
     "text": [
      "Precision: 0.00000000\n",
      "F1 Score: 0.00000000\n",
      "Classification Report:\n",
      "               precision    recall  f1-score   support\n",
      "\n",
      "         0.0       0.59      1.00      0.74    107147\n",
      "         1.0       0.00      0.00      0.00     74313\n",
      "\n",
      "    accuracy                           0.59    181460\n",
      "   macro avg       0.30      0.50      0.37    181460\n",
      "weighted avg       0.35      0.59      0.44    181460\n",
      "\n",
      "Mean Squared Error: 0.40952827\n",
      "\n",
      "ROC data saved to eFEX_with_newest_Topo_files_88_reduced\\roc\\roc_88_reduced_DummyClassifier.json\n",
      "Precision-Recall data saved to eFEX_with_newest_Topo_files_88_reduced\\precision_recall\\precision_recall_88_reduced_DummyClassifier.json\n",
      "Efficiency vs Electron PT data saved to eFEX_with_newest_Topo_files_88_reduced\\efficiency_vs_ele_pt\\efficiency_vs_ele_pt_88_reduced_DummyClassifier.json\n",
      "Training ExtraTreeClassifier...\n",
      "Took: 3.04988956451416 seconds\n",
      "predicting...\n",
      "Took: 0.08642077445983887 seconds\n",
      "\n",
      "\n",
      "Evaluation of ExtraTreeClassifier\n",
      "Confusion Matrix:\n",
      " [[92468 14679]\n",
      " [11812 62501]]\n",
      "Accuracy: 0.85401190\n",
      "Recall: 0.84105069\n",
      "Precision: 0.80980824\n",
      "F1 Score: 0.82513383\n",
      "Classification Report:\n",
      "               precision    recall  f1-score   support\n",
      "\n",
      "         0.0       0.89      0.86      0.87    107147\n",
      "         1.0       0.81      0.84      0.83     74313\n",
      "\n",
      "    accuracy                           0.85    181460\n",
      "   macro avg       0.85      0.85      0.85    181460\n",
      "weighted avg       0.86      0.85      0.85    181460\n",
      "\n",
      "Mean Squared Error: 0.14598810\n",
      "\n",
      "ROC data saved to eFEX_with_newest_Topo_files_88_reduced\\roc\\roc_88_reduced_ExtraTreeClassifier.json\n"
     ]
    },
    {
     "name": "stderr",
     "output_type": "stream",
     "text": [
      "\n",
      "\u001b[A"
     ]
    },
    {
     "name": "stdout",
     "output_type": "stream",
     "text": [
      "Precision-Recall data saved to eFEX_with_newest_Topo_files_88_reduced\\precision_recall\\precision_recall_88_reduced_ExtraTreeClassifier.json\n",
      "Efficiency vs Electron PT data saved to eFEX_with_newest_Topo_files_88_reduced\\efficiency_vs_ele_pt\\efficiency_vs_ele_pt_88_reduced_ExtraTreeClassifier.json\n",
      "Training ExtraTreesClassifier...\n",
      "Took: 294.93640327453613 seconds\n",
      "predicting...\n",
      "Took: 5.4963603019714355 seconds\n",
      "\n",
      "\n",
      "Evaluation of ExtraTreesClassifier\n",
      "Confusion Matrix:\n",
      " [[96736 10411]\n",
      " [ 3971 70342]]\n",
      "Accuracy: 0.92074286\n",
      "Recall: 0.94656386\n",
      "Precision: 0.87107600\n",
      "F1 Score: 0.90725240\n",
      "Classification Report:\n",
      "               precision    recall  f1-score   support\n",
      "\n",
      "         0.0       0.96      0.90      0.93    107147\n",
      "         1.0       0.87      0.95      0.91     74313\n",
      "\n",
      "    accuracy                           0.92    181460\n",
      "   macro avg       0.92      0.92      0.92    181460\n",
      "weighted avg       0.92      0.92      0.92    181460\n",
      "\n",
      "Mean Squared Error: 0.07925714\n",
      "\n",
      "ROC data saved to eFEX_with_newest_Topo_files_88_reduced\\roc\\roc_88_reduced_ExtraTreesClassifier.json\n"
     ]
    },
    {
     "name": "stderr",
     "output_type": "stream",
     "text": [
      "\n",
      "\u001b[A"
     ]
    },
    {
     "name": "stdout",
     "output_type": "stream",
     "text": [
      "Precision-Recall data saved to eFEX_with_newest_Topo_files_88_reduced\\precision_recall\\precision_recall_88_reduced_ExtraTreesClassifier.json\n",
      "Efficiency vs Electron PT data saved to eFEX_with_newest_Topo_files_88_reduced\\efficiency_vs_ele_pt\\efficiency_vs_ele_pt_88_reduced_ExtraTreesClassifier.json\n",
      "Training FixedThresholdClassifier...\n"
     ]
    },
    {
     "name": "stderr",
     "output_type": "stream",
     "text": [
      "c:\\Users\\Me\\AppData\\Local\\Programs\\Python\\Python312\\Lib\\site-packages\\sklearn\\linear_model\\_logistic.py:465: ConvergenceWarning: lbfgs failed to converge (status=1):\n",
      "STOP: TOTAL NO. OF ITERATIONS REACHED LIMIT.\n",
      "\n",
      "Increase the number of iterations (max_iter) or scale the data as shown in:\n",
      "    https://scikit-learn.org/stable/modules/preprocessing.html\n",
      "Please also refer to the documentation for alternative solver options:\n",
      "    https://scikit-learn.org/stable/modules/linear_model.html#logistic-regression\n",
      "  n_iter_i = _check_optimize_result(\n"
     ]
    },
    {
     "name": "stdout",
     "output_type": "stream",
     "text": [
      "Took: 7.784077882766724 seconds\n",
      "predicting...\n",
      "Took: 0.025022506713867188 seconds\n",
      "\n",
      "\n",
      "Evaluation of FixedThresholdClassifier\n",
      "Confusion Matrix:\n",
      " [[90968 16179]\n",
      " [ 5052 69261]]\n",
      "Accuracy: 0.88299901\n",
      "Recall: 0.93201728\n",
      "Precision: 0.81063904\n",
      "F1 Score: 0.86710109\n",
      "Classification Report:\n",
      "               precision    recall  f1-score   support\n",
      "\n",
      "         0.0       0.95      0.85      0.90    107147\n",
      "         1.0       0.81      0.93      0.87     74313\n",
      "\n",
      "    accuracy                           0.88    181460\n",
      "   macro avg       0.88      0.89      0.88    181460\n",
      "weighted avg       0.89      0.88      0.88    181460\n",
      "\n",
      "Mean Squared Error: 0.11700099\n",
      "\n",
      "ROC data saved to eFEX_with_newest_Topo_files_88_reduced\\roc\\roc_88_reduced_FixedThresholdClassifier.json\n"
     ]
    },
    {
     "name": "stderr",
     "output_type": "stream",
     "text": [
      "\n",
      "\u001b[A"
     ]
    },
    {
     "name": "stdout",
     "output_type": "stream",
     "text": [
      "Precision-Recall data saved to eFEX_with_newest_Topo_files_88_reduced\\precision_recall\\precision_recall_88_reduced_FixedThresholdClassifier.json\n",
      "Efficiency vs Electron PT data saved to eFEX_with_newest_Topo_files_88_reduced\\efficiency_vs_ele_pt\\efficiency_vs_ele_pt_88_reduced_FixedThresholdClassifier.json\n",
      "Training GaussianNB...\n",
      "Took: 0.5714616775512695 seconds\n",
      "predicting...\n",
      "Took: 0.17571449279785156 seconds\n",
      "\n",
      "\n",
      "Evaluation of GaussianNB\n",
      "Confusion Matrix:\n",
      " [[84083 23064]\n",
      " [ 3160 71153]]\n",
      "Accuracy: 0.85548330\n",
      "Recall: 0.95747716\n",
      "Precision: 0.75520341\n",
      "F1 Score: 0.84439566\n",
      "Classification Report:\n",
      "               precision    recall  f1-score   support\n",
      "\n",
      "         0.0       0.96      0.78      0.87    107147\n",
      "         1.0       0.76      0.96      0.84     74313\n",
      "\n",
      "    accuracy                           0.86    181460\n",
      "   macro avg       0.86      0.87      0.85    181460\n",
      "weighted avg       0.88      0.86      0.86    181460\n",
      "\n",
      "Mean Squared Error: 0.14451670\n",
      "\n",
      "ROC data saved to eFEX_with_newest_Topo_files_88_reduced\\roc\\roc_88_reduced_GaussianNB.json\n"
     ]
    },
    {
     "name": "stderr",
     "output_type": "stream",
     "text": [
      "\n",
      "\u001b[A"
     ]
    },
    {
     "name": "stdout",
     "output_type": "stream",
     "text": [
      "Precision-Recall data saved to eFEX_with_newest_Topo_files_88_reduced\\precision_recall\\precision_recall_88_reduced_GaussianNB.json\n",
      "Efficiency vs Electron PT data saved to eFEX_with_newest_Topo_files_88_reduced\\efficiency_vs_ele_pt\\efficiency_vs_ele_pt_88_reduced_GaussianNB.json\n",
      "Training GaussianProcessClassifier...\n",
      "Could not train or predict with GaussianProcessClassifier: Unable to allocate 3.83 TiB for an array with shape (725840, 725840) and data type float64\n"
     ]
    },
    {
     "name": "stderr",
     "output_type": "stream",
     "text": [
      "\n",
      "\u001b[A"
     ]
    },
    {
     "name": "stdout",
     "output_type": "stream",
     "text": [
      "Training GradientBoostingClassifier...\n",
      "Took: 260.8797779083252 seconds\n",
      "predicting...\n",
      "Took: 0.28801512718200684 seconds\n",
      "\n",
      "\n",
      "Evaluation of GradientBoostingClassifier\n",
      "Confusion Matrix:\n",
      " [[92520 14627]\n",
      " [ 3797 70516]]\n",
      "Accuracy: 0.89846798\n",
      "Recall: 0.94890531\n",
      "Precision: 0.82820666\n",
      "F1 Score: 0.88445715\n",
      "Classification Report:\n",
      "               precision    recall  f1-score   support\n",
      "\n",
      "         0.0       0.96      0.86      0.91    107147\n",
      "         1.0       0.83      0.95      0.88     74313\n",
      "\n",
      "    accuracy                           0.90    181460\n",
      "   macro avg       0.89      0.91      0.90    181460\n",
      "weighted avg       0.91      0.90      0.90    181460\n",
      "\n",
      "Mean Squared Error: 0.10153202\n",
      "\n",
      "ROC data saved to eFEX_with_newest_Topo_files_88_reduced\\roc\\roc_88_reduced_GradientBoostingClassifier.json\n"
     ]
    },
    {
     "name": "stderr",
     "output_type": "stream",
     "text": [
      "\n",
      "\u001b[A"
     ]
    },
    {
     "name": "stdout",
     "output_type": "stream",
     "text": [
      "Precision-Recall data saved to eFEX_with_newest_Topo_files_88_reduced\\precision_recall\\precision_recall_88_reduced_GradientBoostingClassifier.json\n",
      "Efficiency vs Electron PT data saved to eFEX_with_newest_Topo_files_88_reduced\\efficiency_vs_ele_pt\\efficiency_vs_ele_pt_88_reduced_GradientBoostingClassifier.json\n",
      "Training HistGradientBoostingClassifier...\n",
      "Took: 7.325182199478149 seconds\n",
      "predicting...\n",
      "Took: 0.6218864917755127 seconds\n",
      "\n",
      "\n",
      "Evaluation of HistGradientBoostingClassifier\n",
      "Confusion Matrix:\n",
      " [[95895 11252]\n",
      " [ 3647 70666]]\n",
      "Accuracy: 0.91789375\n",
      "Recall: 0.95092380\n",
      "Precision: 0.86264313\n",
      "F1 Score: 0.90463480\n",
      "Classification Report:\n",
      "               precision    recall  f1-score   support\n",
      "\n",
      "         0.0       0.96      0.89      0.93    107147\n",
      "         1.0       0.86      0.95      0.90     74313\n",
      "\n",
      "    accuracy                           0.92    181460\n",
      "   macro avg       0.91      0.92      0.92    181460\n",
      "weighted avg       0.92      0.92      0.92    181460\n",
      "\n",
      "Mean Squared Error: 0.08210625\n",
      "\n",
      "ROC data saved to eFEX_with_newest_Topo_files_88_reduced\\roc\\roc_88_reduced_HistGradientBoostingClassifier.json\n"
     ]
    },
    {
     "name": "stderr",
     "output_type": "stream",
     "text": [
      "\n",
      "\u001b[A"
     ]
    },
    {
     "name": "stdout",
     "output_type": "stream",
     "text": [
      "Precision-Recall data saved to eFEX_with_newest_Topo_files_88_reduced\\precision_recall\\precision_recall_88_reduced_HistGradientBoostingClassifier.json\n",
      "Efficiency vs Electron PT data saved to eFEX_with_newest_Topo_files_88_reduced\\efficiency_vs_ele_pt\\efficiency_vs_ele_pt_88_reduced_HistGradientBoostingClassifier.json\n",
      "Training KNeighborsClassifier...\n",
      "Took: 0.08715462684631348 seconds\n",
      "predicting...\n",
      "Took: 94.84422993659973 seconds\n",
      "\n",
      "\n",
      "Evaluation of KNeighborsClassifier\n",
      "Confusion Matrix:\n",
      " [[83736 23411]\n",
      " [ 1751 72562]]\n",
      "Accuracy: 0.86133583\n",
      "Recall: 0.97643750\n",
      "Precision: 0.75606681\n",
      "F1 Score: 0.85223683\n",
      "Classification Report:\n",
      "               precision    recall  f1-score   support\n",
      "\n",
      "         0.0       0.98      0.78      0.87    107147\n",
      "         1.0       0.76      0.98      0.85     74313\n",
      "\n",
      "    accuracy                           0.86    181460\n",
      "   macro avg       0.87      0.88      0.86    181460\n",
      "weighted avg       0.89      0.86      0.86    181460\n",
      "\n",
      "Mean Squared Error: 0.13866417\n",
      "\n",
      "ROC data saved to eFEX_with_newest_Topo_files_88_reduced\\roc\\roc_88_reduced_KNeighborsClassifier.json\n"
     ]
    },
    {
     "name": "stderr",
     "output_type": "stream",
     "text": [
      "\n",
      "\u001b[A"
     ]
    },
    {
     "name": "stdout",
     "output_type": "stream",
     "text": [
      "Precision-Recall data saved to eFEX_with_newest_Topo_files_88_reduced\\precision_recall\\precision_recall_88_reduced_KNeighborsClassifier.json\n",
      "Efficiency vs Electron PT data saved to eFEX_with_newest_Topo_files_88_reduced\\efficiency_vs_ele_pt\\efficiency_vs_ele_pt_88_reduced_KNeighborsClassifier.json\n",
      "Training LabelPropagation...\n"
     ]
    },
    {
     "name": "stderr",
     "output_type": "stream",
     "text": [
      "\n",
      "\u001b[A"
     ]
    },
    {
     "name": "stdout",
     "output_type": "stream",
     "text": [
      "Could not train or predict with LabelPropagation: Unable to allocate 3.83 TiB for an array with shape (725840, 725840) and data type float64\n",
      "Training LabelSpreading...\n",
      "Could not train or predict with LabelSpreading: Unable to allocate 3.83 TiB for an array with shape (725840, 725840) and data type float64\n"
     ]
    },
    {
     "name": "stderr",
     "output_type": "stream",
     "text": [
      "\n",
      "\u001b[A"
     ]
    },
    {
     "name": "stdout",
     "output_type": "stream",
     "text": [
      "Training LinearDiscriminantAnalysis...\n",
      "Took: 4.97071385383606 seconds\n",
      "predicting...\n",
      "Took: 0.019015789031982422 seconds\n",
      "\n",
      "\n",
      "Evaluation of LinearDiscriminantAnalysis\n",
      "Confusion Matrix:\n",
      " [[85986 21161]\n",
      " [13372 60941]]\n",
      "Accuracy: 0.80969360\n",
      "Recall: 0.82005840\n",
      "Precision: 0.74225963\n",
      "F1 Score: 0.77922194\n",
      "Classification Report:\n",
      "               precision    recall  f1-score   support\n",
      "\n",
      "         0.0       0.87      0.80      0.83    107147\n",
      "         1.0       0.74      0.82      0.78     74313\n",
      "\n",
      "    accuracy                           0.81    181460\n",
      "   macro avg       0.80      0.81      0.81    181460\n",
      "weighted avg       0.81      0.81      0.81    181460\n",
      "\n",
      "Mean Squared Error: 0.19030640\n",
      "\n",
      "ROC data saved to eFEX_with_newest_Topo_files_88_reduced\\roc\\roc_88_reduced_LinearDiscriminantAnalysis.json\n"
     ]
    },
    {
     "name": "stderr",
     "output_type": "stream",
     "text": [
      "\n",
      "\u001b[A"
     ]
    },
    {
     "name": "stdout",
     "output_type": "stream",
     "text": [
      "Precision-Recall data saved to eFEX_with_newest_Topo_files_88_reduced\\precision_recall\\precision_recall_88_reduced_LinearDiscriminantAnalysis.json\n",
      "Efficiency vs Electron PT data saved to eFEX_with_newest_Topo_files_88_reduced\\efficiency_vs_ele_pt\\efficiency_vs_ele_pt_88_reduced_LinearDiscriminantAnalysis.json\n",
      "Training LinearSVC...\n",
      "Took: 7.532495498657227 seconds\n",
      "predicting...\n",
      "Took: 0.020108938217163086 seconds\n",
      "\n",
      "\n",
      "Evaluation of LinearSVC\n",
      "Confusion Matrix:\n",
      " [[90095 17052]\n",
      " [ 4308 70005]]\n",
      "Accuracy: 0.88228811\n",
      "Recall: 0.94202899\n",
      "Precision: 0.80412833\n",
      "F1 Score: 0.86763339\n",
      "Classification Report:\n",
      "               precision    recall  f1-score   support\n",
      "\n",
      "         0.0       0.95      0.84      0.89    107147\n",
      "         1.0       0.80      0.94      0.87     74313\n",
      "\n",
      "    accuracy                           0.88    181460\n",
      "   macro avg       0.88      0.89      0.88    181460\n",
      "weighted avg       0.89      0.88      0.88    181460\n",
      "\n",
      "Mean Squared Error: 0.11771189\n",
      "\n",
      "ROC data saved to eFEX_with_newest_Topo_files_88_reduced\\roc\\roc_88_reduced_LinearSVC.json\n"
     ]
    },
    {
     "name": "stderr",
     "output_type": "stream",
     "text": [
      "\n",
      "\u001b[A"
     ]
    },
    {
     "name": "stdout",
     "output_type": "stream",
     "text": [
      "Precision-Recall data saved to eFEX_with_newest_Topo_files_88_reduced\\precision_recall\\precision_recall_88_reduced_LinearSVC.json\n",
      "Efficiency vs Electron PT data saved to eFEX_with_newest_Topo_files_88_reduced\\efficiency_vs_ele_pt\\efficiency_vs_ele_pt_88_reduced_LinearSVC.json\n",
      "Training LogisticRegression...\n"
     ]
    },
    {
     "name": "stderr",
     "output_type": "stream",
     "text": [
      "c:\\Users\\Me\\AppData\\Local\\Programs\\Python\\Python312\\Lib\\site-packages\\sklearn\\linear_model\\_logistic.py:465: ConvergenceWarning: lbfgs failed to converge (status=1):\n",
      "STOP: TOTAL NO. OF ITERATIONS REACHED LIMIT.\n",
      "\n",
      "Increase the number of iterations (max_iter) or scale the data as shown in:\n",
      "    https://scikit-learn.org/stable/modules/preprocessing.html\n",
      "Please also refer to the documentation for alternative solver options:\n",
      "    https://scikit-learn.org/stable/modules/linear_model.html#logistic-regression\n",
      "  n_iter_i = _check_optimize_result(\n"
     ]
    },
    {
     "name": "stdout",
     "output_type": "stream",
     "text": [
      "Took: 8.038041591644287 seconds\n",
      "predicting...\n",
      "Took: 0.01901721954345703 seconds\n",
      "\n",
      "\n",
      "Evaluation of LogisticRegression\n",
      "Confusion Matrix:\n",
      " [[90968 16179]\n",
      " [ 5052 69261]]\n",
      "Accuracy: 0.88299901\n",
      "Recall: 0.93201728\n",
      "Precision: 0.81063904\n",
      "F1 Score: 0.86710109\n",
      "Classification Report:\n",
      "               precision    recall  f1-score   support\n",
      "\n",
      "         0.0       0.95      0.85      0.90    107147\n",
      "         1.0       0.81      0.93      0.87     74313\n",
      "\n",
      "    accuracy                           0.88    181460\n",
      "   macro avg       0.88      0.89      0.88    181460\n",
      "weighted avg       0.89      0.88      0.88    181460\n",
      "\n",
      "Mean Squared Error: 0.11700099\n",
      "\n",
      "ROC data saved to eFEX_with_newest_Topo_files_88_reduced\\roc\\roc_88_reduced_LogisticRegression.json\n"
     ]
    },
    {
     "name": "stderr",
     "output_type": "stream",
     "text": [
      "\n",
      "\u001b[A"
     ]
    },
    {
     "name": "stdout",
     "output_type": "stream",
     "text": [
      "Precision-Recall data saved to eFEX_with_newest_Topo_files_88_reduced\\precision_recall\\precision_recall_88_reduced_LogisticRegression.json\n",
      "Efficiency vs Electron PT data saved to eFEX_with_newest_Topo_files_88_reduced\\efficiency_vs_ele_pt\\efficiency_vs_ele_pt_88_reduced_LogisticRegression.json\n",
      "Training LogisticRegressionCV...\n"
     ]
    },
    {
     "name": "stderr",
     "output_type": "stream",
     "text": [
      "c:\\Users\\Me\\AppData\\Local\\Programs\\Python\\Python312\\Lib\\site-packages\\sklearn\\linear_model\\_logistic.py:465: ConvergenceWarning: lbfgs failed to converge (status=1):\n",
      "STOP: TOTAL NO. OF ITERATIONS REACHED LIMIT.\n",
      "\n",
      "Increase the number of iterations (max_iter) or scale the data as shown in:\n",
      "    https://scikit-learn.org/stable/modules/preprocessing.html\n",
      "Please also refer to the documentation for alternative solver options:\n",
      "    https://scikit-learn.org/stable/modules/linear_model.html#logistic-regression\n",
      "  n_iter_i = _check_optimize_result(\n",
      "c:\\Users\\Me\\AppData\\Local\\Programs\\Python\\Python312\\Lib\\site-packages\\sklearn\\linear_model\\_logistic.py:465: ConvergenceWarning: lbfgs failed to converge (status=1):\n",
      "STOP: TOTAL NO. OF ITERATIONS REACHED LIMIT.\n",
      "\n",
      "Increase the number of iterations (max_iter) or scale the data as shown in:\n",
      "    https://scikit-learn.org/stable/modules/preprocessing.html\n",
      "Please also refer to the documentation for alternative solver options:\n",
      "    https://scikit-learn.org/stable/modules/linear_model.html#logistic-regression\n",
      "  n_iter_i = _check_optimize_result(\n",
      "c:\\Users\\Me\\AppData\\Local\\Programs\\Python\\Python312\\Lib\\site-packages\\sklearn\\linear_model\\_logistic.py:465: ConvergenceWarning: lbfgs failed to converge (status=1):\n",
      "STOP: TOTAL NO. OF ITERATIONS REACHED LIMIT.\n",
      "\n",
      "Increase the number of iterations (max_iter) or scale the data as shown in:\n",
      "    https://scikit-learn.org/stable/modules/preprocessing.html\n",
      "Please also refer to the documentation for alternative solver options:\n",
      "    https://scikit-learn.org/stable/modules/linear_model.html#logistic-regression\n",
      "  n_iter_i = _check_optimize_result(\n",
      "c:\\Users\\Me\\AppData\\Local\\Programs\\Python\\Python312\\Lib\\site-packages\\sklearn\\linear_model\\_logistic.py:465: ConvergenceWarning: lbfgs failed to converge (status=1):\n",
      "STOP: TOTAL NO. OF ITERATIONS REACHED LIMIT.\n",
      "\n",
      "Increase the number of iterations (max_iter) or scale the data as shown in:\n",
      "    https://scikit-learn.org/stable/modules/preprocessing.html\n",
      "Please also refer to the documentation for alternative solver options:\n",
      "    https://scikit-learn.org/stable/modules/linear_model.html#logistic-regression\n",
      "  n_iter_i = _check_optimize_result(\n",
      "c:\\Users\\Me\\AppData\\Local\\Programs\\Python\\Python312\\Lib\\site-packages\\sklearn\\linear_model\\_logistic.py:465: ConvergenceWarning: lbfgs failed to converge (status=1):\n",
      "STOP: TOTAL NO. OF ITERATIONS REACHED LIMIT.\n",
      "\n",
      "Increase the number of iterations (max_iter) or scale the data as shown in:\n",
      "    https://scikit-learn.org/stable/modules/preprocessing.html\n",
      "Please also refer to the documentation for alternative solver options:\n",
      "    https://scikit-learn.org/stable/modules/linear_model.html#logistic-regression\n",
      "  n_iter_i = _check_optimize_result(\n"
     ]
    },
    {
     "name": "stdout",
     "output_type": "stream",
     "text": [
      "Took: 118.78585600852966 seconds\n",
      "predicting...\n",
      "Took: 0.018016338348388672 seconds\n",
      "\n",
      "\n",
      "Evaluation of LogisticRegressionCV\n",
      "Confusion Matrix:\n",
      " [[90971 16176]\n",
      " [ 5064 69249]]\n",
      "Accuracy: 0.88294941\n",
      "Recall: 0.93185580\n",
      "Precision: 0.81064091\n",
      "F1 Score: 0.86703227\n",
      "Classification Report:\n",
      "               precision    recall  f1-score   support\n",
      "\n",
      "         0.0       0.95      0.85      0.90    107147\n",
      "         1.0       0.81      0.93      0.87     74313\n",
      "\n",
      "    accuracy                           0.88    181460\n",
      "   macro avg       0.88      0.89      0.88    181460\n",
      "weighted avg       0.89      0.88      0.88    181460\n",
      "\n",
      "Mean Squared Error: 0.11705059\n",
      "\n",
      "ROC data saved to eFEX_with_newest_Topo_files_88_reduced\\roc\\roc_88_reduced_LogisticRegressionCV.json\n"
     ]
    },
    {
     "name": "stderr",
     "output_type": "stream",
     "text": [
      "\n",
      "\u001b[A"
     ]
    },
    {
     "name": "stdout",
     "output_type": "stream",
     "text": [
      "Precision-Recall data saved to eFEX_with_newest_Topo_files_88_reduced\\precision_recall\\precision_recall_88_reduced_LogisticRegressionCV.json\n",
      "Efficiency vs Electron PT data saved to eFEX_with_newest_Topo_files_88_reduced\\efficiency_vs_ele_pt\\efficiency_vs_ele_pt_88_reduced_LogisticRegressionCV.json\n",
      "Training MLPClassifier...\n",
      "Took: 155.38528323173523 seconds\n",
      "predicting...\n",
      "Took: 0.09483981132507324 seconds\n",
      "\n",
      "\n",
      "Evaluation of MLPClassifier\n",
      "Confusion Matrix:\n",
      " [[96906 10241]\n",
      " [ 3620 70693]]\n",
      "Accuracy: 0.92361402\n",
      "Recall: 0.95128712\n",
      "Precision: 0.87346480\n",
      "F1 Score: 0.91071647\n",
      "Classification Report:\n",
      "               precision    recall  f1-score   support\n",
      "\n",
      "         0.0       0.96      0.90      0.93    107147\n",
      "         1.0       0.87      0.95      0.91     74313\n",
      "\n",
      "    accuracy                           0.92    181460\n",
      "   macro avg       0.92      0.93      0.92    181460\n",
      "weighted avg       0.93      0.92      0.92    181460\n",
      "\n",
      "Mean Squared Error: 0.07638598\n",
      "\n",
      "ROC data saved to eFEX_with_newest_Topo_files_88_reduced\\roc\\roc_88_reduced_MLPClassifier.json\n"
     ]
    },
    {
     "name": "stderr",
     "output_type": "stream",
     "text": [
      "\n",
      "\u001b[A"
     ]
    },
    {
     "name": "stdout",
     "output_type": "stream",
     "text": [
      "Precision-Recall data saved to eFEX_with_newest_Topo_files_88_reduced\\precision_recall\\precision_recall_88_reduced_MLPClassifier.json\n",
      "Efficiency vs Electron PT data saved to eFEX_with_newest_Topo_files_88_reduced\\efficiency_vs_ele_pt\\efficiency_vs_ele_pt_88_reduced_MLPClassifier.json\n",
      "Training MultiOutputClassifier...\n",
      "Could not train or predict with MultiOutputClassifier: y must have at least two dimensions for multi-output regression but has only one.\n",
      "Training MultinomialNB...\n",
      "Took: 0.16930508613586426 seconds\n",
      "predicting...\n",
      "Took: 0.027024269104003906 seconds\n",
      "\n",
      "\n",
      "Evaluation of MultinomialNB\n",
      "Confusion Matrix:\n",
      " [[82944 24203]\n",
      " [17995 56318]]\n",
      "Accuracy: 0.76745288\n",
      "Recall: 0.75784856\n",
      "Precision: 0.69942003\n",
      "F1 Score: 0.72746296\n",
      "Classification Report:\n",
      "               precision    recall  f1-score   support\n",
      "\n",
      "         0.0       0.82      0.77      0.80    107147\n",
      "         1.0       0.70      0.76      0.73     74313\n",
      "\n",
      "    accuracy                           0.77    181460\n",
      "   macro avg       0.76      0.77      0.76    181460\n",
      "weighted avg       0.77      0.77      0.77    181460\n",
      "\n",
      "Mean Squared Error: 0.23254712\n",
      "\n",
      "ROC data saved to eFEX_with_newest_Topo_files_88_reduced\\roc\\roc_88_reduced_MultinomialNB.json\n"
     ]
    },
    {
     "name": "stderr",
     "output_type": "stream",
     "text": [
      "\n",
      "\u001b[A"
     ]
    },
    {
     "name": "stdout",
     "output_type": "stream",
     "text": [
      "Precision-Recall data saved to eFEX_with_newest_Topo_files_88_reduced\\precision_recall\\precision_recall_88_reduced_MultinomialNB.json\n",
      "Efficiency vs Electron PT data saved to eFEX_with_newest_Topo_files_88_reduced\\efficiency_vs_ele_pt\\efficiency_vs_ele_pt_88_reduced_MultinomialNB.json\n",
      "Training NearestCentroid...\n",
      "Took: 0.6004841327667236 seconds\n",
      "predicting...\n",
      "Took: 0.03803515434265137 seconds\n",
      "\n",
      "\n",
      "Evaluation of NearestCentroid\n",
      "Confusion Matrix:\n",
      " [[57245 49902]\n",
      " [ 8912 65401]]\n",
      "Accuracy: 0.67588449\n",
      "Recall: 0.88007482\n",
      "Precision: 0.56720987\n",
      "F1 Score: 0.68982575\n",
      "Classification Report:\n",
      "               precision    recall  f1-score   support\n",
      "\n",
      "         0.0       0.87      0.53      0.66    107147\n",
      "         1.0       0.57      0.88      0.69     74313\n",
      "\n",
      "    accuracy                           0.68    181460\n",
      "   macro avg       0.72      0.71      0.68    181460\n",
      "weighted avg       0.74      0.68      0.67    181460\n",
      "\n",
      "Mean Squared Error: 0.32411551\n",
      "\n",
      "ROC data saved to eFEX_with_newest_Topo_files_88_reduced\\roc\\roc_88_reduced_NearestCentroid.json\n"
     ]
    },
    {
     "name": "stderr",
     "output_type": "stream",
     "text": [
      "\n",
      "\u001b[A"
     ]
    },
    {
     "name": "stdout",
     "output_type": "stream",
     "text": [
      "Precision-Recall data saved to eFEX_with_newest_Topo_files_88_reduced\\precision_recall\\precision_recall_88_reduced_NearestCentroid.json\n",
      "Efficiency vs Electron PT data saved to eFEX_with_newest_Topo_files_88_reduced\\efficiency_vs_ele_pt\\efficiency_vs_ele_pt_88_reduced_NearestCentroid.json\n",
      "Training OneVsOneClassifier...\n"
     ]
    },
    {
     "name": "stderr",
     "output_type": "stream",
     "text": [
      "c:\\Users\\Me\\AppData\\Local\\Programs\\Python\\Python312\\Lib\\site-packages\\sklearn\\linear_model\\_logistic.py:465: ConvergenceWarning: lbfgs failed to converge (status=1):\n",
      "STOP: TOTAL NO. OF ITERATIONS REACHED LIMIT.\n",
      "\n",
      "Increase the number of iterations (max_iter) or scale the data as shown in:\n",
      "    https://scikit-learn.org/stable/modules/preprocessing.html\n",
      "Please also refer to the documentation for alternative solver options:\n",
      "    https://scikit-learn.org/stable/modules/linear_model.html#logistic-regression\n",
      "  n_iter_i = _check_optimize_result(\n"
     ]
    },
    {
     "name": "stdout",
     "output_type": "stream",
     "text": [
      "Took: 7.83966326713562 seconds\n",
      "predicting...\n",
      "Took: 0.04804396629333496 seconds\n",
      "\n",
      "\n",
      "Evaluation of OneVsOneClassifier\n",
      "Confusion Matrix:\n",
      " [[90968 16179]\n",
      " [ 5052 69261]]\n",
      "Accuracy: 0.88299901\n",
      "Recall: 0.93201728\n",
      "Precision: 0.81063904\n",
      "F1 Score: 0.86710109\n",
      "Classification Report:\n",
      "               precision    recall  f1-score   support\n",
      "\n",
      "         0.0       0.95      0.85      0.90    107147\n",
      "         1.0       0.81      0.93      0.87     74313\n",
      "\n",
      "    accuracy                           0.88    181460\n",
      "   macro avg       0.88      0.89      0.88    181460\n",
      "weighted avg       0.89      0.88      0.88    181460\n",
      "\n",
      "Mean Squared Error: 0.11700099\n",
      "\n",
      "ROC data saved to eFEX_with_newest_Topo_files_88_reduced\\roc\\roc_88_reduced_OneVsOneClassifier.json\n"
     ]
    },
    {
     "name": "stderr",
     "output_type": "stream",
     "text": [
      "\n",
      "\u001b[A"
     ]
    },
    {
     "name": "stdout",
     "output_type": "stream",
     "text": [
      "Precision-Recall data saved to eFEX_with_newest_Topo_files_88_reduced\\precision_recall\\precision_recall_88_reduced_OneVsOneClassifier.json\n",
      "Efficiency vs Electron PT data saved to eFEX_with_newest_Topo_files_88_reduced\\efficiency_vs_ele_pt\\efficiency_vs_ele_pt_88_reduced_OneVsOneClassifier.json\n",
      "Training OneVsRestClassifier...\n"
     ]
    },
    {
     "name": "stderr",
     "output_type": "stream",
     "text": [
      "c:\\Users\\Me\\AppData\\Local\\Programs\\Python\\Python312\\Lib\\site-packages\\sklearn\\linear_model\\_logistic.py:465: ConvergenceWarning: lbfgs failed to converge (status=1):\n",
      "STOP: TOTAL NO. OF ITERATIONS REACHED LIMIT.\n",
      "\n",
      "Increase the number of iterations (max_iter) or scale the data as shown in:\n",
      "    https://scikit-learn.org/stable/modules/preprocessing.html\n",
      "Please also refer to the documentation for alternative solver options:\n",
      "    https://scikit-learn.org/stable/modules/linear_model.html#logistic-regression\n",
      "  n_iter_i = _check_optimize_result(\n"
     ]
    },
    {
     "name": "stdout",
     "output_type": "stream",
     "text": [
      "Took: 7.720160961151123 seconds\n",
      "predicting...\n",
      "Took: 0.03002643585205078 seconds\n",
      "\n",
      "\n",
      "Evaluation of OneVsRestClassifier\n",
      "Confusion Matrix:\n",
      " [[90968 16179]\n",
      " [ 5052 69261]]\n",
      "Accuracy: 0.88299901\n",
      "Recall: 0.93201728\n",
      "Precision: 0.81063904\n",
      "F1 Score: 0.86710109\n",
      "Classification Report:\n",
      "               precision    recall  f1-score   support\n",
      "\n",
      "         0.0       0.95      0.85      0.90    107147\n",
      "         1.0       0.81      0.93      0.87     74313\n",
      "\n",
      "    accuracy                           0.88    181460\n",
      "   macro avg       0.88      0.89      0.88    181460\n",
      "weighted avg       0.89      0.88      0.88    181460\n",
      "\n",
      "Mean Squared Error: 0.11700099\n",
      "\n",
      "ROC data saved to eFEX_with_newest_Topo_files_88_reduced\\roc\\roc_88_reduced_OneVsRestClassifier.json\n"
     ]
    },
    {
     "name": "stderr",
     "output_type": "stream",
     "text": [
      "\n",
      "\u001b[A"
     ]
    },
    {
     "name": "stdout",
     "output_type": "stream",
     "text": [
      "Precision-Recall data saved to eFEX_with_newest_Topo_files_88_reduced\\precision_recall\\precision_recall_88_reduced_OneVsRestClassifier.json\n",
      "Efficiency vs Electron PT data saved to eFEX_with_newest_Topo_files_88_reduced\\efficiency_vs_ele_pt\\efficiency_vs_ele_pt_88_reduced_OneVsRestClassifier.json\n",
      "Training OutputCodeClassifier...\n"
     ]
    },
    {
     "name": "stderr",
     "output_type": "stream",
     "text": [
      "c:\\Users\\Me\\AppData\\Local\\Programs\\Python\\Python312\\Lib\\site-packages\\sklearn\\linear_model\\_logistic.py:465: ConvergenceWarning: lbfgs failed to converge (status=1):\n",
      "STOP: TOTAL NO. OF ITERATIONS REACHED LIMIT.\n",
      "\n",
      "Increase the number of iterations (max_iter) or scale the data as shown in:\n",
      "    https://scikit-learn.org/stable/modules/preprocessing.html\n",
      "Please also refer to the documentation for alternative solver options:\n",
      "    https://scikit-learn.org/stable/modules/linear_model.html#logistic-regression\n",
      "  n_iter_i = _check_optimize_result(\n",
      "c:\\Users\\Me\\AppData\\Local\\Programs\\Python\\Python312\\Lib\\site-packages\\sklearn\\linear_model\\_logistic.py:465: ConvergenceWarning: lbfgs failed to converge (status=1):\n",
      "STOP: TOTAL NO. OF ITERATIONS REACHED LIMIT.\n",
      "\n",
      "Increase the number of iterations (max_iter) or scale the data as shown in:\n",
      "    https://scikit-learn.org/stable/modules/preprocessing.html\n",
      "Please also refer to the documentation for alternative solver options:\n",
      "    https://scikit-learn.org/stable/modules/linear_model.html#logistic-regression\n",
      "  n_iter_i = _check_optimize_result(\n"
     ]
    },
    {
     "name": "stdout",
     "output_type": "stream",
     "text": [
      "Took: 15.67780876159668 seconds\n",
      "predicting...\n",
      "Took: 0.042412519454956055 seconds\n",
      "\n",
      "\n",
      "Evaluation of OutputCodeClassifier\n",
      "Confusion Matrix:\n",
      " [[90968 16179]\n",
      " [ 5052 69261]]\n",
      "Accuracy: 0.88299901\n"
     ]
    },
    {
     "name": "stderr",
     "output_type": "stream",
     "text": [
      "\n",
      "\u001b[A"
     ]
    },
    {
     "name": "stdout",
     "output_type": "stream",
     "text": [
      "Recall: 0.93201728\n",
      "Precision: 0.81063904\n",
      "F1 Score: 0.86710109\n",
      "Classification Report:\n",
      "               precision    recall  f1-score   support\n",
      "\n",
      "         0.0       0.95      0.85      0.90    107147\n",
      "         1.0       0.81      0.93      0.87     74313\n",
      "\n",
      "    accuracy                           0.88    181460\n",
      "   macro avg       0.88      0.89      0.88    181460\n",
      "weighted avg       0.89      0.88      0.88    181460\n",
      "\n",
      "Mean Squared Error: 0.11700099\n",
      "\n",
      "Failed ROC computation for OutputCodeClassifier: Model must have either a decision_function or predict_proba method.\n",
      "Failed Precision-Recall computation for OutputCodeClassifier: Model must have either a decision_function or predict_proba method.\n",
      "Efficiency vs Electron PT data saved to eFEX_with_newest_Topo_files_88_reduced\\efficiency_vs_ele_pt\\efficiency_vs_ele_pt_88_reduced_OutputCodeClassifier.json\n",
      "Training PassiveAggressiveClassifier...\n",
      "Took: 1.3413546085357666 seconds\n",
      "predicting...\n",
      "Took: 0.01801609992980957 seconds\n",
      "\n",
      "\n",
      "Evaluation of PassiveAggressiveClassifier\n",
      "Confusion Matrix:\n",
      " [[95998 11149]\n",
      " [38149 36164]]\n",
      "Accuracy: 0.72832580\n",
      "Recall: 0.48664433\n",
      "Precision: 0.76435652\n",
      "F1 Score: 0.59467548\n",
      "Classification Report:\n",
      "               precision    recall  f1-score   support\n",
      "\n",
      "         0.0       0.72      0.90      0.80    107147\n",
      "         1.0       0.76      0.49      0.59     74313\n",
      "\n",
      "    accuracy                           0.73    181460\n",
      "   macro avg       0.74      0.69      0.70    181460\n",
      "weighted avg       0.74      0.73      0.71    181460\n",
      "\n",
      "Mean Squared Error: 0.27167420\n",
      "\n",
      "ROC data saved to eFEX_with_newest_Topo_files_88_reduced\\roc\\roc_88_reduced_PassiveAggressiveClassifier.json\n"
     ]
    },
    {
     "name": "stderr",
     "output_type": "stream",
     "text": [
      "\n",
      "\u001b[A"
     ]
    },
    {
     "name": "stdout",
     "output_type": "stream",
     "text": [
      "Precision-Recall data saved to eFEX_with_newest_Topo_files_88_reduced\\precision_recall\\precision_recall_88_reduced_PassiveAggressiveClassifier.json\n",
      "Efficiency vs Electron PT data saved to eFEX_with_newest_Topo_files_88_reduced\\efficiency_vs_ele_pt\\efficiency_vs_ele_pt_88_reduced_PassiveAggressiveClassifier.json\n",
      "Training Perceptron...\n",
      "Took: 1.3682594299316406 seconds\n",
      "predicting...\n",
      "Took: 0.017375469207763672 seconds\n",
      "\n",
      "\n",
      "Evaluation of Perceptron\n",
      "Confusion Matrix:\n",
      " [[90312 16835]\n",
      " [ 7697 66616]]\n",
      "Accuracy: 0.86480767\n",
      "Recall: 0.89642458\n",
      "Precision: 0.79826485\n",
      "F1 Score: 0.84450191\n",
      "Classification Report:\n",
      "               precision    recall  f1-score   support\n",
      "\n",
      "         0.0       0.92      0.84      0.88    107147\n",
      "         1.0       0.80      0.90      0.84     74313\n",
      "\n",
      "    accuracy                           0.86    181460\n",
      "   macro avg       0.86      0.87      0.86    181460\n",
      "weighted avg       0.87      0.86      0.87    181460\n",
      "\n",
      "Mean Squared Error: 0.13519233\n",
      "\n",
      "ROC data saved to eFEX_with_newest_Topo_files_88_reduced\\roc\\roc_88_reduced_Perceptron.json\n"
     ]
    },
    {
     "name": "stderr",
     "output_type": "stream",
     "text": [
      "\n",
      "\u001b[A"
     ]
    },
    {
     "name": "stdout",
     "output_type": "stream",
     "text": [
      "Precision-Recall data saved to eFEX_with_newest_Topo_files_88_reduced\\precision_recall\\precision_recall_88_reduced_Perceptron.json\n",
      "Efficiency vs Electron PT data saved to eFEX_with_newest_Topo_files_88_reduced\\efficiency_vs_ele_pt\\efficiency_vs_ele_pt_88_reduced_Perceptron.json\n",
      "Training QuadraticDiscriminantAnalysis...\n",
      "Took: 3.9980509281158447 seconds\n",
      "predicting...\n",
      "Took: 0.250211238861084 seconds\n",
      "\n",
      "\n",
      "Evaluation of QuadraticDiscriminantAnalysis\n",
      "Confusion Matrix:\n",
      " [[84877 22270]\n",
      " [ 3322 70991]]\n",
      "Accuracy: 0.85896616\n",
      "Recall: 0.95529719\n",
      "Precision: 0.76120779\n",
      "F1 Score: 0.84727941\n",
      "Classification Report:\n",
      "               precision    recall  f1-score   support\n",
      "\n",
      "         0.0       0.96      0.79      0.87    107147\n",
      "         1.0       0.76      0.96      0.85     74313\n",
      "\n",
      "    accuracy                           0.86    181460\n",
      "   macro avg       0.86      0.87      0.86    181460\n",
      "weighted avg       0.88      0.86      0.86    181460\n",
      "\n",
      "Mean Squared Error: 0.14103384\n",
      "\n",
      "ROC data saved to eFEX_with_newest_Topo_files_88_reduced\\roc\\roc_88_reduced_QuadraticDiscriminantAnalysis.json\n"
     ]
    },
    {
     "name": "stderr",
     "output_type": "stream",
     "text": [
      "\n",
      "\u001b[A"
     ]
    },
    {
     "name": "stdout",
     "output_type": "stream",
     "text": [
      "Precision-Recall data saved to eFEX_with_newest_Topo_files_88_reduced\\precision_recall\\precision_recall_88_reduced_QuadraticDiscriminantAnalysis.json\n",
      "Efficiency vs Electron PT data saved to eFEX_with_newest_Topo_files_88_reduced\\efficiency_vs_ele_pt\\efficiency_vs_ele_pt_88_reduced_QuadraticDiscriminantAnalysis.json\n",
      "Training RadiusNeighborsClassifier...\n",
      "Took: 0.08436965942382812 seconds\n",
      "predicting...\n",
      "Could not train or predict with RadiusNeighborsClassifier: No neighbors found for test samples array([     0,      1,      2, ..., 181456, 181457, 181458], dtype=int64), you can try using larger radius, giving a label for outliers, or considering removing them from your dataset.\n"
     ]
    },
    {
     "name": "stderr",
     "output_type": "stream",
     "text": [
      "\n",
      "\u001b[A"
     ]
    },
    {
     "name": "stdout",
     "output_type": "stream",
     "text": [
      "Training RandomForestClassifier...\n",
      "Took: 191.8013243675232 seconds\n",
      "predicting...\n",
      "Took: 3.5696604251861572 seconds\n",
      "\n",
      "\n",
      "Evaluation of RandomForestClassifier\n",
      "Confusion Matrix:\n",
      " [[96961 10186]\n",
      " [ 4162 70151]]\n",
      "Accuracy: 0.92093023\n",
      "Recall: 0.94399365\n",
      "Precision: 0.87320911\n",
      "F1 Score: 0.90722276\n",
      "Classification Report:\n",
      "               precision    recall  f1-score   support\n",
      "\n",
      "         0.0       0.96      0.90      0.93    107147\n",
      "         1.0       0.87      0.94      0.91     74313\n",
      "\n",
      "    accuracy                           0.92    181460\n",
      "   macro avg       0.92      0.92      0.92    181460\n",
      "weighted avg       0.92      0.92      0.92    181460\n",
      "\n",
      "Mean Squared Error: 0.07906977\n",
      "\n",
      "ROC data saved to eFEX_with_newest_Topo_files_88_reduced\\roc\\roc_88_reduced_RandomForestClassifier.json\n"
     ]
    },
    {
     "name": "stderr",
     "output_type": "stream",
     "text": [
      "\n",
      "\u001b[A"
     ]
    },
    {
     "name": "stdout",
     "output_type": "stream",
     "text": [
      "Precision-Recall data saved to eFEX_with_newest_Topo_files_88_reduced\\precision_recall\\precision_recall_88_reduced_RandomForestClassifier.json\n",
      "Efficiency vs Electron PT data saved to eFEX_with_newest_Topo_files_88_reduced\\efficiency_vs_ele_pt\\efficiency_vs_ele_pt_88_reduced_RandomForestClassifier.json\n",
      "Training RidgeClassifier...\n",
      "Took: 0.7183406352996826 seconds\n",
      "predicting...\n",
      "Took: 0.018016576766967773 seconds\n",
      "\n",
      "\n",
      "Evaluation of RidgeClassifier\n",
      "Confusion Matrix:\n",
      " [[86246 20901]\n",
      " [13687 60626]]\n",
      "Accuracy: 0.80939050\n",
      "Recall: 0.81581957\n",
      "Precision: 0.74363094\n",
      "F1 Score: 0.77805441\n",
      "Classification Report:\n",
      "               precision    recall  f1-score   support\n",
      "\n",
      "         0.0       0.86      0.80      0.83    107147\n",
      "         1.0       0.74      0.82      0.78     74313\n",
      "\n",
      "    accuracy                           0.81    181460\n",
      "   macro avg       0.80      0.81      0.81    181460\n",
      "weighted avg       0.81      0.81      0.81    181460\n",
      "\n",
      "Mean Squared Error: 0.19060950\n",
      "\n",
      "ROC data saved to eFEX_with_newest_Topo_files_88_reduced\\roc\\roc_88_reduced_RidgeClassifier.json\n"
     ]
    },
    {
     "name": "stderr",
     "output_type": "stream",
     "text": [
      "\n",
      "\u001b[A"
     ]
    },
    {
     "name": "stdout",
     "output_type": "stream",
     "text": [
      "Precision-Recall data saved to eFEX_with_newest_Topo_files_88_reduced\\precision_recall\\precision_recall_88_reduced_RidgeClassifier.json\n",
      "Efficiency vs Electron PT data saved to eFEX_with_newest_Topo_files_88_reduced\\efficiency_vs_ele_pt\\efficiency_vs_ele_pt_88_reduced_RidgeClassifier.json\n",
      "Training RidgeClassifierCV...\n",
      "Took: 5.332368850708008 seconds\n",
      "predicting...\n",
      "Took: 0.02001786231994629 seconds\n",
      "\n",
      "\n",
      "Evaluation of RidgeClassifierCV\n",
      "Confusion Matrix:\n",
      " [[86246 20901]\n",
      " [13687 60626]]\n",
      "Accuracy: 0.80939050\n",
      "Recall: 0.81581957\n",
      "Precision: 0.74363094\n",
      "F1 Score: 0.77805441\n",
      "Classification Report:\n",
      "               precision    recall  f1-score   support\n",
      "\n",
      "         0.0       0.86      0.80      0.83    107147\n",
      "         1.0       0.74      0.82      0.78     74313\n",
      "\n",
      "    accuracy                           0.81    181460\n",
      "   macro avg       0.80      0.81      0.81    181460\n",
      "weighted avg       0.81      0.81      0.81    181460\n",
      "\n",
      "Mean Squared Error: 0.19060950\n",
      "\n",
      "ROC data saved to eFEX_with_newest_Topo_files_88_reduced\\roc\\roc_88_reduced_RidgeClassifierCV.json\n"
     ]
    },
    {
     "name": "stderr",
     "output_type": "stream",
     "text": [
      "\n",
      "\u001b[A"
     ]
    },
    {
     "name": "stdout",
     "output_type": "stream",
     "text": [
      "Precision-Recall data saved to eFEX_with_newest_Topo_files_88_reduced\\precision_recall\\precision_recall_88_reduced_RidgeClassifierCV.json\n",
      "Efficiency vs Electron PT data saved to eFEX_with_newest_Topo_files_88_reduced\\efficiency_vs_ele_pt\\efficiency_vs_ele_pt_88_reduced_RidgeClassifierCV.json\n",
      "Training SGDClassifier...\n",
      "Took: 3.387977361679077 seconds\n",
      "predicting...\n",
      "Took: 0.025022029876708984 seconds\n",
      "\n",
      "\n",
      "Evaluation of SGDClassifier\n",
      "Confusion Matrix:\n",
      " [[89980 17167]\n",
      " [ 4279 70034]]\n",
      "Accuracy: 0.88181417\n",
      "Recall: 0.94241923\n",
      "Precision: 0.80313299\n",
      "F1 Score: 0.86721894\n",
      "Classification Report:\n",
      "               precision    recall  f1-score   support\n",
      "\n",
      "         0.0       0.95      0.84      0.89    107147\n",
      "         1.0       0.80      0.94      0.87     74313\n",
      "\n",
      "    accuracy                           0.88    181460\n",
      "   macro avg       0.88      0.89      0.88    181460\n",
      "weighted avg       0.89      0.88      0.88    181460\n",
      "\n",
      "Mean Squared Error: 0.11818583\n",
      "\n",
      "ROC data saved to eFEX_with_newest_Topo_files_88_reduced\\roc\\roc_88_reduced_SGDClassifier.json\n"
     ]
    },
    {
     "name": "stderr",
     "output_type": "stream",
     "text": [
      "\n",
      "\u001b[A"
     ]
    },
    {
     "name": "stdout",
     "output_type": "stream",
     "text": [
      "Precision-Recall data saved to eFEX_with_newest_Topo_files_88_reduced\\precision_recall\\precision_recall_88_reduced_SGDClassifier.json\n",
      "Efficiency vs Electron PT data saved to eFEX_with_newest_Topo_files_88_reduced\\efficiency_vs_ele_pt\\efficiency_vs_ele_pt_88_reduced_SGDClassifier.json\n",
      "Training TunedThresholdClassifierCV...\n"
     ]
    },
    {
     "name": "stderr",
     "output_type": "stream",
     "text": [
      "c:\\Users\\Me\\AppData\\Local\\Programs\\Python\\Python312\\Lib\\site-packages\\sklearn\\linear_model\\_logistic.py:465: ConvergenceWarning: lbfgs failed to converge (status=1):\n",
      "STOP: TOTAL NO. OF ITERATIONS REACHED LIMIT.\n",
      "\n",
      "Increase the number of iterations (max_iter) or scale the data as shown in:\n",
      "    https://scikit-learn.org/stable/modules/preprocessing.html\n",
      "Please also refer to the documentation for alternative solver options:\n",
      "    https://scikit-learn.org/stable/modules/linear_model.html#logistic-regression\n",
      "  n_iter_i = _check_optimize_result(\n",
      "c:\\Users\\Me\\AppData\\Local\\Programs\\Python\\Python312\\Lib\\site-packages\\sklearn\\linear_model\\_logistic.py:465: ConvergenceWarning: lbfgs failed to converge (status=1):\n",
      "STOP: TOTAL NO. OF ITERATIONS REACHED LIMIT.\n",
      "\n",
      "Increase the number of iterations (max_iter) or scale the data as shown in:\n",
      "    https://scikit-learn.org/stable/modules/preprocessing.html\n",
      "Please also refer to the documentation for alternative solver options:\n",
      "    https://scikit-learn.org/stable/modules/linear_model.html#logistic-regression\n",
      "  n_iter_i = _check_optimize_result(\n",
      "c:\\Users\\Me\\AppData\\Local\\Programs\\Python\\Python312\\Lib\\site-packages\\sklearn\\linear_model\\_logistic.py:465: ConvergenceWarning: lbfgs failed to converge (status=1):\n",
      "STOP: TOTAL NO. OF ITERATIONS REACHED LIMIT.\n",
      "\n",
      "Increase the number of iterations (max_iter) or scale the data as shown in:\n",
      "    https://scikit-learn.org/stable/modules/preprocessing.html\n",
      "Please also refer to the documentation for alternative solver options:\n",
      "    https://scikit-learn.org/stable/modules/linear_model.html#logistic-regression\n",
      "  n_iter_i = _check_optimize_result(\n",
      "c:\\Users\\Me\\AppData\\Local\\Programs\\Python\\Python312\\Lib\\site-packages\\sklearn\\linear_model\\_logistic.py:465: ConvergenceWarning: lbfgs failed to converge (status=1):\n",
      "STOP: TOTAL NO. OF ITERATIONS REACHED LIMIT.\n",
      "\n",
      "Increase the number of iterations (max_iter) or scale the data as shown in:\n",
      "    https://scikit-learn.org/stable/modules/preprocessing.html\n",
      "Please also refer to the documentation for alternative solver options:\n",
      "    https://scikit-learn.org/stable/modules/linear_model.html#logistic-regression\n",
      "  n_iter_i = _check_optimize_result(\n",
      "c:\\Users\\Me\\AppData\\Local\\Programs\\Python\\Python312\\Lib\\site-packages\\sklearn\\linear_model\\_logistic.py:465: ConvergenceWarning: lbfgs failed to converge (status=1):\n",
      "STOP: TOTAL NO. OF ITERATIONS REACHED LIMIT.\n",
      "\n",
      "Increase the number of iterations (max_iter) or scale the data as shown in:\n",
      "    https://scikit-learn.org/stable/modules/preprocessing.html\n",
      "Please also refer to the documentation for alternative solver options:\n",
      "    https://scikit-learn.org/stable/modules/linear_model.html#logistic-regression\n",
      "  n_iter_i = _check_optimize_result(\n",
      "c:\\Users\\Me\\AppData\\Local\\Programs\\Python\\Python312\\Lib\\site-packages\\sklearn\\linear_model\\_logistic.py:465: ConvergenceWarning: lbfgs failed to converge (status=1):\n",
      "STOP: TOTAL NO. OF ITERATIONS REACHED LIMIT.\n",
      "\n",
      "Increase the number of iterations (max_iter) or scale the data as shown in:\n",
      "    https://scikit-learn.org/stable/modules/preprocessing.html\n",
      "Please also refer to the documentation for alternative solver options:\n",
      "    https://scikit-learn.org/stable/modules/linear_model.html#logistic-regression\n",
      "  n_iter_i = _check_optimize_result(\n"
     ]
    },
    {
     "name": "stdout",
     "output_type": "stream",
     "text": [
      "Took: 66.19613289833069 seconds\n",
      "predicting...\n",
      "Took: 0.024556636810302734 seconds\n",
      "\n",
      "\n",
      "Evaluation of TunedThresholdClassifierCV\n",
      "Confusion Matrix:\n",
      " [[89381 17766]\n",
      " [ 3658 70655]]\n",
      "Accuracy: 0.88193541\n",
      "Recall: 0.95077577\n",
      "Precision: 0.79907488\n",
      "F1 Score: 0.86834958\n",
      "Classification Report:\n",
      "               precision    recall  f1-score   support\n",
      "\n",
      "         0.0       0.96      0.83      0.89    107147\n",
      "         1.0       0.80      0.95      0.87     74313\n",
      "\n",
      "    accuracy                           0.88    181460\n",
      "   macro avg       0.88      0.89      0.88    181460\n",
      "weighted avg       0.89      0.88      0.88    181460\n",
      "\n",
      "Mean Squared Error: 0.11806459\n",
      "\n",
      "ROC data saved to eFEX_with_newest_Topo_files_88_reduced\\roc\\roc_88_reduced_TunedThresholdClassifierCV.json\n"
     ]
    },
    {
     "name": "stderr",
     "output_type": "stream",
     "text": [
      "\n",
      "\u001b[A"
     ]
    },
    {
     "name": "stdout",
     "output_type": "stream",
     "text": [
      "Precision-Recall data saved to eFEX_with_newest_Topo_files_88_reduced\\precision_recall\\precision_recall_88_reduced_TunedThresholdClassifierCV.json\n",
      "Efficiency vs Electron PT data saved to eFEX_with_newest_Topo_files_88_reduced\\efficiency_vs_ele_pt\\efficiency_vs_ele_pt_88_reduced_TunedThresholdClassifierCV.json\n",
      "Training VotingClassifier...\n"
     ]
    },
    {
     "name": "stderr",
     "output_type": "stream",
     "text": [
      "c:\\Users\\Me\\AppData\\Local\\Programs\\Python\\Python312\\Lib\\site-packages\\sklearn\\linear_model\\_logistic.py:465: ConvergenceWarning: lbfgs failed to converge (status=1):\n",
      "STOP: TOTAL NO. OF ITERATIONS REACHED LIMIT.\n",
      "\n",
      "Increase the number of iterations (max_iter) or scale the data as shown in:\n",
      "    https://scikit-learn.org/stable/modules/preprocessing.html\n",
      "Please also refer to the documentation for alternative solver options:\n",
      "    https://scikit-learn.org/stable/modules/linear_model.html#logistic-regression\n",
      "  n_iter_i = _check_optimize_result(\n"
     ]
    },
    {
     "name": "stdout",
     "output_type": "stream",
     "text": [
      "Took: 213.19185853004456 seconds\n",
      "predicting...\n",
      "Took: 4.161492586135864 seconds\n",
      "\n",
      "\n",
      "Evaluation of VotingClassifier\n",
      "Confusion Matrix:\n",
      " [[97980  9167]\n",
      " [ 7306 67007]]\n",
      "Accuracy: 0.90921966\n",
      "Recall: 0.90168611\n",
      "Precision: 0.87965710\n"
     ]
    },
    {
     "name": "stderr",
     "output_type": "stream",
     "text": [
      "\n",
      "\u001b[A"
     ]
    },
    {
     "name": "stdout",
     "output_type": "stream",
     "text": [
      "F1 Score: 0.89053540\n",
      "Classification Report:\n",
      "               precision    recall  f1-score   support\n",
      "\n",
      "         0.0       0.93      0.91      0.92    107147\n",
      "         1.0       0.88      0.90      0.89     74313\n",
      "\n",
      "    accuracy                           0.91    181460\n",
      "   macro avg       0.91      0.91      0.91    181460\n",
      "weighted avg       0.91      0.91      0.91    181460\n",
      "\n",
      "Mean Squared Error: 0.09078034\n",
      "\n",
      "Failed ROC computation for VotingClassifier: Model must have either a decision_function or predict_proba method.\n",
      "Failed Precision-Recall computation for VotingClassifier: Model must have either a decision_function or predict_proba method.\n",
      "Efficiency vs Electron PT data saved to eFEX_with_newest_Topo_files_88_reduced\\efficiency_vs_ele_pt\\efficiency_vs_ele_pt_88_reduced_VotingClassifier.json\n",
      "Training XGBClassifier...\n",
      "Took: 2.4885342121124268 seconds\n",
      "predicting...\n",
      "Took: 0.05635333061218262 seconds\n",
      "\n",
      "\n",
      "Evaluation of XGBClassifier\n",
      "Confusion Matrix:\n",
      " [[95789 11358]\n",
      " [ 2938 71375]]\n",
      "Accuracy: 0.92121680\n",
      "Recall: 0.96046452\n",
      "Precision: 0.86271500\n",
      "F1 Score: 0.90896935\n",
      "Classification Report:\n",
      "               precision    recall  f1-score   support\n",
      "\n",
      "         0.0       0.97      0.89      0.93    107147\n",
      "         1.0       0.86      0.96      0.91     74313\n",
      "\n",
      "    accuracy                           0.92    181460\n",
      "   macro avg       0.92      0.93      0.92    181460\n",
      "weighted avg       0.93      0.92      0.92    181460\n",
      "\n",
      "Mean Squared Error: 0.07878320\n",
      "\n",
      "ROC data saved to eFEX_with_newest_Topo_files_88_reduced\\roc\\roc_88_reduced_XGBClassifier.json\n"
     ]
    },
    {
     "name": "stderr",
     "output_type": "stream",
     "text": [
      "\n",
      "100%|██████████| 41/41 [34:48<00:00, 50.94s/it]\n"
     ]
    },
    {
     "name": "stdout",
     "output_type": "stream",
     "text": [
      "Precision-Recall data saved to eFEX_with_newest_Topo_files_88_reduced\\precision_recall\\precision_recall_88_reduced_XGBClassifier.json\n",
      "Efficiency vs Electron PT data saved to eFEX_with_newest_Topo_files_88_reduced\\efficiency_vs_ele_pt\\efficiency_vs_ele_pt_88_reduced_XGBClassifier.json\n",
      "Results saved to eFEX_with_newest_Topo_files_88_reduced/eFEX_with_newest_Topo_files_88_reduced_88_reduced_all.csv\n",
      "Log saved to ..\\data\\eFEX_with_newest_Topo_files_iso\\log.json\n",
      "preprepared data in ..\\data\\eFEX_with_newest_Topo_files_iso is missing, preparing and saving here\n",
      "found data preparation log in ..\\data\\eFEX_with_newest_Topo_files_iso\\log.json\n",
      "Log saved to eFEX_with_newest_Topo_files_iso\\log.json\n"
     ]
    },
    {
     "name": "stderr",
     "output_type": "stream",
     "text": [
      "\n",
      "\u001b[A"
     ]
    },
    {
     "name": "stdout",
     "output_type": "stream",
     "text": [
      "Training AdaBoostClassifier...\n",
      "Took: 17.01694416999817 seconds\n",
      "predicting...\n",
      "Took: 0.32967114448547363 seconds\n",
      "\n",
      "\n",
      "Evaluation of AdaBoostClassifier\n",
      "Confusion Matrix:\n",
      " [[95398 11749]\n",
      " [ 5288 69025]]\n",
      "Accuracy: 0.90611154\n",
      "Recall: 0.92884152\n",
      "Precision: 0.85454478\n",
      "F1 Score: 0.89014553\n",
      "Classification Report:\n",
      "               precision    recall  f1-score   support\n",
      "\n",
      "         0.0       0.95      0.89      0.92    107147\n",
      "         1.0       0.85      0.93      0.89     74313\n",
      "\n",
      "    accuracy                           0.91    181460\n",
      "   macro avg       0.90      0.91      0.90    181460\n",
      "weighted avg       0.91      0.91      0.91    181460\n",
      "\n",
      "Mean Squared Error: 0.09388846\n",
      "\n",
      "ROC data saved to eFEX_with_newest_Topo_files_iso\\roc\\roc_iso_AdaBoostClassifier.json\n"
     ]
    },
    {
     "name": "stderr",
     "output_type": "stream",
     "text": [
      "\n",
      "\u001b[A"
     ]
    },
    {
     "name": "stdout",
     "output_type": "stream",
     "text": [
      "Precision-Recall data saved to eFEX_with_newest_Topo_files_iso\\precision_recall\\precision_recall_iso_AdaBoostClassifier.json\n",
      "Efficiency vs Electron PT data saved to eFEX_with_newest_Topo_files_iso\\efficiency_vs_ele_pt\\efficiency_vs_ele_pt_iso_AdaBoostClassifier.json\n",
      "Training BaggingClassifier...\n",
      "Took: 25.60761785507202 seconds\n",
      "predicting...\n",
      "Took: 0.2562129497528076 seconds\n",
      "\n",
      "\n",
      "Evaluation of BaggingClassifier\n",
      "Confusion Matrix:\n",
      " [[97898  9249]\n",
      " [ 6705 67608]]\n",
      "Accuracy: 0.91207980\n",
      "Recall: 0.90977353\n",
      "Precision: 0.87965963\n",
      "F1 Score: 0.89446319\n",
      "Classification Report:\n",
      "               precision    recall  f1-score   support\n",
      "\n",
      "         0.0       0.94      0.91      0.92    107147\n",
      "         1.0       0.88      0.91      0.89     74313\n",
      "\n",
      "    accuracy                           0.91    181460\n",
      "   macro avg       0.91      0.91      0.91    181460\n",
      "weighted avg       0.91      0.91      0.91    181460\n",
      "\n",
      "Mean Squared Error: 0.08792020\n",
      "\n",
      "ROC data saved to eFEX_with_newest_Topo_files_iso\\roc\\roc_iso_BaggingClassifier.json\n"
     ]
    },
    {
     "name": "stderr",
     "output_type": "stream",
     "text": [
      "\n",
      "\u001b[A"
     ]
    },
    {
     "name": "stdout",
     "output_type": "stream",
     "text": [
      "Precision-Recall data saved to eFEX_with_newest_Topo_files_iso\\precision_recall\\precision_recall_iso_BaggingClassifier.json\n",
      "Efficiency vs Electron PT data saved to eFEX_with_newest_Topo_files_iso\\efficiency_vs_ele_pt\\efficiency_vs_ele_pt_iso_BaggingClassifier.json\n",
      "Training BernoulliNB...\n",
      "Took: 0.11526775360107422 seconds\n",
      "predicting...\n",
      "Took: 0.014012575149536133 seconds\n",
      "\n",
      "\n",
      "Evaluation of BernoulliNB\n",
      "Confusion Matrix:\n",
      " [[100382   6765]\n",
      " [ 26238  48075]]\n",
      "Accuracy: 0.81812521\n",
      "Recall: 0.64692584\n",
      "Precision: 0.87664114\n",
      "F1 Score: 0.74446587\n",
      "Classification Report:\n",
      "               precision    recall  f1-score   support\n",
      "\n",
      "         0.0       0.79      0.94      0.86    107147\n",
      "         1.0       0.88      0.65      0.74     74313\n",
      "\n",
      "    accuracy                           0.82    181460\n",
      "   macro avg       0.83      0.79      0.80    181460\n",
      "weighted avg       0.83      0.82      0.81    181460\n",
      "\n",
      "Mean Squared Error: 0.18187479\n",
      "\n",
      "ROC data saved to eFEX_with_newest_Topo_files_iso\\roc\\roc_iso_BernoulliNB.json\n"
     ]
    },
    {
     "name": "stderr",
     "output_type": "stream",
     "text": [
      "\n",
      "\u001b[A"
     ]
    },
    {
     "name": "stdout",
     "output_type": "stream",
     "text": [
      "Precision-Recall data saved to eFEX_with_newest_Topo_files_iso\\precision_recall\\precision_recall_iso_BernoulliNB.json\n",
      "Efficiency vs Electron PT data saved to eFEX_with_newest_Topo_files_iso\\efficiency_vs_ele_pt\\efficiency_vs_ele_pt_iso_BernoulliNB.json\n",
      "Training CalibratedClassifierCV...\n",
      "Took: 5.8851401805877686 seconds\n",
      "predicting...\n",
      "Took: 0.06005454063415527 seconds\n",
      "\n",
      "\n",
      "Evaluation of CalibratedClassifierCV\n",
      "Confusion Matrix:\n",
      " [[94039 13108]\n",
      " [ 3603 70710]]\n",
      "Accuracy: 0.90790808\n",
      "Recall: 0.95151589\n",
      "Precision: 0.84361354\n",
      "F1 Score: 0.89432180\n",
      "Classification Report:\n",
      "               precision    recall  f1-score   support\n",
      "\n",
      "         0.0       0.96      0.88      0.92    107147\n",
      "         1.0       0.84      0.95      0.89     74313\n",
      "\n",
      "    accuracy                           0.91    181460\n",
      "   macro avg       0.90      0.91      0.91    181460\n",
      "weighted avg       0.91      0.91      0.91    181460\n",
      "\n",
      "Mean Squared Error: 0.09209192\n",
      "\n",
      "ROC data saved to eFEX_with_newest_Topo_files_iso\\roc\\roc_iso_CalibratedClassifierCV.json\n"
     ]
    },
    {
     "name": "stderr",
     "output_type": "stream",
     "text": [
      "\n",
      "\u001b[A"
     ]
    },
    {
     "name": "stdout",
     "output_type": "stream",
     "text": [
      "Precision-Recall data saved to eFEX_with_newest_Topo_files_iso\\precision_recall\\precision_recall_iso_CalibratedClassifierCV.json\n",
      "Efficiency vs Electron PT data saved to eFEX_with_newest_Topo_files_iso\\efficiency_vs_ele_pt\\efficiency_vs_ele_pt_iso_CalibratedClassifierCV.json\n",
      "Training CategoricalNB...\n",
      "Took: 0.18505477905273438 seconds\n",
      "predicting...\n",
      "Took: 0.016714096069335938 seconds\n",
      "\n",
      "\n",
      "Evaluation of CategoricalNB\n",
      "Confusion Matrix:\n",
      " [[92673 14474]\n",
      " [ 2442 71871]]\n",
      "Accuracy: 0.90677835\n",
      "Recall: 0.96713899\n",
      "Precision: 0.83237014\n",
      "F1 Score: 0.89470801\n",
      "Classification Report:\n",
      "               precision    recall  f1-score   support\n",
      "\n",
      "         0.0       0.97      0.86      0.92    107147\n",
      "         1.0       0.83      0.97      0.89     74313\n",
      "\n",
      "    accuracy                           0.91    181460\n",
      "   macro avg       0.90      0.92      0.91    181460\n",
      "weighted avg       0.92      0.91      0.91    181460\n",
      "\n",
      "Mean Squared Error: 0.09322165\n",
      "\n",
      "ROC data saved to eFEX_with_newest_Topo_files_iso\\roc\\roc_iso_CategoricalNB.json\n"
     ]
    },
    {
     "name": "stderr",
     "output_type": "stream",
     "text": [
      "\n",
      "\u001b[A"
     ]
    },
    {
     "name": "stdout",
     "output_type": "stream",
     "text": [
      "Precision-Recall data saved to eFEX_with_newest_Topo_files_iso\\precision_recall\\precision_recall_iso_CategoricalNB.json\n",
      "Efficiency vs Electron PT data saved to eFEX_with_newest_Topo_files_iso\\efficiency_vs_ele_pt\\efficiency_vs_ele_pt_iso_CategoricalNB.json\n",
      "Training ClassifierChain...\n",
      "Could not train or predict with ClassifierChain: tuple index out of range\n",
      "Training ComplementNB...\n",
      "Took: 0.08763885498046875 seconds\n",
      "predicting...\n",
      "Took: 0.007005929946899414 seconds\n",
      "\n",
      "\n",
      "Evaluation of ComplementNB\n",
      "Confusion Matrix:\n",
      " [[82054 25093]\n",
      " [ 1106 73207]]\n",
      "Accuracy: 0.85562107\n",
      "Recall: 0.98511701\n",
      "Precision: 0.74473042\n",
      "F1 Score: 0.84822117\n",
      "Classification Report:\n",
      "               precision    recall  f1-score   support\n",
      "\n",
      "         0.0       0.99      0.77      0.86    107147\n",
      "         1.0       0.74      0.99      0.85     74313\n",
      "\n",
      "    accuracy                           0.86    181460\n",
      "   macro avg       0.87      0.88      0.86    181460\n",
      "weighted avg       0.89      0.86      0.86    181460\n",
      "\n",
      "Mean Squared Error: 0.14437893\n",
      "\n",
      "ROC data saved to eFEX_with_newest_Topo_files_iso\\roc\\roc_iso_ComplementNB.json\n"
     ]
    },
    {
     "name": "stderr",
     "output_type": "stream",
     "text": [
      "\n",
      "\u001b[A"
     ]
    },
    {
     "name": "stdout",
     "output_type": "stream",
     "text": [
      "Precision-Recall data saved to eFEX_with_newest_Topo_files_iso\\precision_recall\\precision_recall_iso_ComplementNB.json\n",
      "Efficiency vs Electron PT data saved to eFEX_with_newest_Topo_files_iso\\efficiency_vs_ele_pt\\efficiency_vs_ele_pt_iso_ComplementNB.json\n",
      "Training DecisionTreeClassifier...\n",
      "Took: 3.9997308254241943 seconds\n",
      "predicting...\n",
      "Took: 0.031028032302856445 seconds\n",
      "\n",
      "\n",
      "Evaluation of DecisionTreeClassifier\n",
      "Confusion Matrix:\n",
      " [[96943 10204]\n",
      " [11028 63285]]\n",
      "Accuracy: 0.88299350\n",
      "Recall: 0.85160066\n",
      "Precision: 0.86114929\n",
      "F1 Score: 0.85634836\n",
      "Classification Report:\n",
      "               precision    recall  f1-score   support\n",
      "\n",
      "         0.0       0.90      0.90      0.90    107147\n",
      "         1.0       0.86      0.85      0.86     74313\n",
      "\n",
      "    accuracy                           0.88    181460\n",
      "   macro avg       0.88      0.88      0.88    181460\n",
      "weighted avg       0.88      0.88      0.88    181460\n",
      "\n",
      "Mean Squared Error: 0.11700650\n",
      "\n",
      "ROC data saved to eFEX_with_newest_Topo_files_iso\\roc\\roc_iso_DecisionTreeClassifier.json\n",
      "Precision-Recall data saved to eFEX_with_newest_Topo_files_iso\\precision_recall\\precision_recall_iso_DecisionTreeClassifier.json\n",
      "Efficiency vs Electron PT data saved to eFEX_with_newest_Topo_files_iso\\efficiency_vs_ele_pt\\efficiency_vs_ele_pt_iso_DecisionTreeClassifier.json\n"
     ]
    },
    {
     "name": "stderr",
     "output_type": "stream",
     "text": [
      "\n",
      "\u001b[Ac:\\Users\\Me\\AppData\\Local\\Programs\\Python\\Python312\\Lib\\site-packages\\sklearn\\metrics\\_classification.py:1565: UndefinedMetricWarning: Precision is ill-defined and being set to 0.0 due to no predicted samples. Use `zero_division` parameter to control this behavior.\n",
      "  _warn_prf(average, modifier, f\"{metric.capitalize()} is\", len(result))\n"
     ]
    },
    {
     "name": "stdout",
     "output_type": "stream",
     "text": [
      "Training DummyClassifier...\n",
      "Took: 0.02702474594116211 seconds\n",
      "predicting...\n",
      "Took: 0.0010004043579101562 seconds\n",
      "\n",
      "\n",
      "Evaluation of DummyClassifier\n",
      "Confusion Matrix:\n",
      " [[107147      0]\n",
      " [ 74313      0]]\n",
      "Accuracy: 0.59047173\n",
      "Recall: 0.00000000\n",
      "Precision: 0.00000000\n"
     ]
    },
    {
     "name": "stderr",
     "output_type": "stream",
     "text": [
      "c:\\Users\\Me\\AppData\\Local\\Programs\\Python\\Python312\\Lib\\site-packages\\sklearn\\metrics\\_classification.py:1565: UndefinedMetricWarning: Precision is ill-defined and being set to 0.0 in labels with no predicted samples. Use `zero_division` parameter to control this behavior.\n",
      "  _warn_prf(average, modifier, f\"{metric.capitalize()} is\", len(result))\n",
      "c:\\Users\\Me\\AppData\\Local\\Programs\\Python\\Python312\\Lib\\site-packages\\sklearn\\metrics\\_classification.py:1565: UndefinedMetricWarning: Precision is ill-defined and being set to 0.0 in labels with no predicted samples. Use `zero_division` parameter to control this behavior.\n",
      "  _warn_prf(average, modifier, f\"{metric.capitalize()} is\", len(result))\n",
      "c:\\Users\\Me\\AppData\\Local\\Programs\\Python\\Python312\\Lib\\site-packages\\sklearn\\metrics\\_classification.py:1565: UndefinedMetricWarning: Precision is ill-defined and being set to 0.0 in labels with no predicted samples. Use `zero_division` parameter to control this behavior.\n",
      "  _warn_prf(average, modifier, f\"{metric.capitalize()} is\", len(result))\n",
      "\n",
      "\u001b[A"
     ]
    },
    {
     "name": "stdout",
     "output_type": "stream",
     "text": [
      "F1 Score: 0.00000000\n",
      "Classification Report:\n",
      "               precision    recall  f1-score   support\n",
      "\n",
      "         0.0       0.59      1.00      0.74    107147\n",
      "         1.0       0.00      0.00      0.00     74313\n",
      "\n",
      "    accuracy                           0.59    181460\n",
      "   macro avg       0.30      0.50      0.37    181460\n",
      "weighted avg       0.35      0.59      0.44    181460\n",
      "\n",
      "Mean Squared Error: 0.40952827\n",
      "\n",
      "ROC data saved to eFEX_with_newest_Topo_files_iso\\roc\\roc_iso_DummyClassifier.json\n",
      "Precision-Recall data saved to eFEX_with_newest_Topo_files_iso\\precision_recall\\precision_recall_iso_DummyClassifier.json\n",
      "Efficiency vs Electron PT data saved to eFEX_with_newest_Topo_files_iso\\efficiency_vs_ele_pt\\efficiency_vs_ele_pt_iso_DummyClassifier.json\n",
      "Training ExtraTreeClassifier...\n",
      "Took: 0.3964810371398926 seconds\n",
      "predicting...\n",
      "Took: 0.043039560317993164 seconds\n",
      "\n",
      "\n",
      "Evaluation of ExtraTreeClassifier\n",
      "Confusion Matrix:\n",
      " [[96528 10619]\n",
      " [10970 63343]]\n",
      "Accuracy: 0.88102612\n",
      "Recall: 0.85238114\n",
      "Precision: 0.85642627\n",
      "F1 Score: 0.85439892\n",
      "Classification Report:\n",
      "               precision    recall  f1-score   support\n",
      "\n",
      "         0.0       0.90      0.90      0.90    107147\n",
      "         1.0       0.86      0.85      0.85     74313\n",
      "\n",
      "    accuracy                           0.88    181460\n",
      "   macro avg       0.88      0.88      0.88    181460\n",
      "weighted avg       0.88      0.88      0.88    181460\n",
      "\n",
      "Mean Squared Error: 0.11897388\n",
      "\n",
      "ROC data saved to eFEX_with_newest_Topo_files_iso\\roc\\roc_iso_ExtraTreeClassifier.json\n",
      "Precision-Recall data saved to eFEX_with_newest_Topo_files_iso\\precision_recall\\precision_recall_iso_ExtraTreeClassifier.json\n",
      "Efficiency vs Electron PT data saved to eFEX_with_newest_Topo_files_iso\\efficiency_vs_ele_pt\\efficiency_vs_ele_pt_iso_ExtraTreeClassifier.json\n"
     ]
    },
    {
     "name": "stderr",
     "output_type": "stream",
     "text": [
      "\n",
      "\u001b[A"
     ]
    },
    {
     "name": "stdout",
     "output_type": "stream",
     "text": [
      "Training ExtraTreesClassifier...\n",
      "Took: 45.2291374206543 seconds\n",
      "predicting...\n",
      "Took: 3.870004415512085 seconds\n",
      "\n",
      "\n",
      "Evaluation of ExtraTreesClassifier\n",
      "Confusion Matrix:\n",
      " [[97310  9837]\n",
      " [ 4304 70009]]\n",
      "Accuracy: 0.92207098\n",
      "Recall: 0.94208281\n",
      "Precision: 0.87680034\n",
      "F1 Score: 0.90827003\n",
      "Classification Report:\n",
      "               precision    recall  f1-score   support\n",
      "\n",
      "         0.0       0.96      0.91      0.93    107147\n",
      "         1.0       0.88      0.94      0.91     74313\n",
      "\n",
      "    accuracy                           0.92    181460\n",
      "   macro avg       0.92      0.93      0.92    181460\n",
      "weighted avg       0.92      0.92      0.92    181460\n",
      "\n",
      "Mean Squared Error: 0.07792902\n",
      "\n",
      "ROC data saved to eFEX_with_newest_Topo_files_iso\\roc\\roc_iso_ExtraTreesClassifier.json\n"
     ]
    },
    {
     "name": "stderr",
     "output_type": "stream",
     "text": [
      "\n",
      "\u001b[A"
     ]
    },
    {
     "name": "stdout",
     "output_type": "stream",
     "text": [
      "Precision-Recall data saved to eFEX_with_newest_Topo_files_iso\\precision_recall\\precision_recall_iso_ExtraTreesClassifier.json\n",
      "Efficiency vs Electron PT data saved to eFEX_with_newest_Topo_files_iso\\efficiency_vs_ele_pt\\efficiency_vs_ele_pt_iso_ExtraTreesClassifier.json\n",
      "Training FixedThresholdClassifier...\n",
      "Took: 1.3629646301269531 seconds\n",
      "predicting...\n",
      "Took: 0.011010885238647461 seconds\n",
      "\n",
      "\n",
      "Evaluation of FixedThresholdClassifier\n",
      "Confusion Matrix:\n",
      " [[94060 13087]\n",
      " [ 3635 70678]]\n",
      "Accuracy: 0.90784746\n",
      "Recall: 0.95108527\n",
      "Precision: 0.84376530\n",
      "F1 Score: 0.89421678\n",
      "Classification Report:\n",
      "               precision    recall  f1-score   support\n",
      "\n",
      "         0.0       0.96      0.88      0.92    107147\n",
      "         1.0       0.84      0.95      0.89     74313\n",
      "\n",
      "    accuracy                           0.91    181460\n",
      "   macro avg       0.90      0.91      0.91    181460\n",
      "weighted avg       0.91      0.91      0.91    181460\n",
      "\n",
      "Mean Squared Error: 0.09215254\n",
      "\n",
      "ROC data saved to eFEX_with_newest_Topo_files_iso\\roc\\roc_iso_FixedThresholdClassifier.json\n"
     ]
    },
    {
     "name": "stderr",
     "output_type": "stream",
     "text": [
      "\n",
      "\u001b[A"
     ]
    },
    {
     "name": "stdout",
     "output_type": "stream",
     "text": [
      "Precision-Recall data saved to eFEX_with_newest_Topo_files_iso\\precision_recall\\precision_recall_iso_FixedThresholdClassifier.json\n",
      "Efficiency vs Electron PT data saved to eFEX_with_newest_Topo_files_iso\\efficiency_vs_ele_pt\\efficiency_vs_ele_pt_iso_FixedThresholdClassifier.json\n",
      "Training GaussianNB...\n",
      "Took: 0.08756542205810547 seconds\n",
      "predicting...\n",
      "Took: 0.023941755294799805 seconds\n",
      "\n",
      "\n",
      "Evaluation of GaussianNB\n",
      "Confusion Matrix:\n",
      " [[90199 16948]\n",
      " [ 2011 72302]]\n",
      "Accuracy: 0.89551967\n",
      "Recall: 0.97293879\n",
      "Precision: 0.81010644\n",
      "F1 Score: 0.88408748\n",
      "Classification Report:\n",
      "               precision    recall  f1-score   support\n",
      "\n",
      "         0.0       0.98      0.84      0.90    107147\n",
      "         1.0       0.81      0.97      0.88     74313\n",
      "\n",
      "    accuracy                           0.90    181460\n",
      "   macro avg       0.89      0.91      0.89    181460\n",
      "weighted avg       0.91      0.90      0.90    181460\n",
      "\n",
      "Mean Squared Error: 0.10448033\n",
      "\n",
      "ROC data saved to eFEX_with_newest_Topo_files_iso\\roc\\roc_iso_GaussianNB.json\n"
     ]
    },
    {
     "name": "stderr",
     "output_type": "stream",
     "text": [
      "\n",
      "\u001b[A"
     ]
    },
    {
     "name": "stdout",
     "output_type": "stream",
     "text": [
      "Precision-Recall data saved to eFEX_with_newest_Topo_files_iso\\precision_recall\\precision_recall_iso_GaussianNB.json\n",
      "Efficiency vs Electron PT data saved to eFEX_with_newest_Topo_files_iso\\efficiency_vs_ele_pt\\efficiency_vs_ele_pt_iso_GaussianNB.json\n",
      "Training GaussianProcessClassifier...\n",
      "Could not train or predict with GaussianProcessClassifier: Unable to allocate 3.83 TiB for an array with shape (725840, 725840) and data type float64\n",
      "Training GradientBoostingClassifier...\n",
      "Took: 73.41003704071045 seconds\n",
      "predicting...\n",
      "Took: 0.2109518051147461 seconds\n",
      "\n",
      "\n",
      "Evaluation of GradientBoostingClassifier\n",
      "Confusion Matrix:\n",
      " [[96767 10380]\n",
      " [ 3834 70479]]\n",
      "Accuracy: 0.92166869\n",
      "Recall: 0.94840741\n",
      "Precision: 0.87162839\n",
      "F1 Score: 0.90839842\n",
      "Classification Report:\n",
      "               precision    recall  f1-score   support\n",
      "\n",
      "         0.0       0.96      0.90      0.93    107147\n",
      "         1.0       0.87      0.95      0.91     74313\n",
      "\n",
      "    accuracy                           0.92    181460\n",
      "   macro avg       0.92      0.93      0.92    181460\n",
      "weighted avg       0.92      0.92      0.92    181460\n",
      "\n",
      "Mean Squared Error: 0.07833131\n",
      "\n",
      "ROC data saved to eFEX_with_newest_Topo_files_iso\\roc\\roc_iso_GradientBoostingClassifier.json\n"
     ]
    },
    {
     "name": "stderr",
     "output_type": "stream",
     "text": [
      "\n",
      "\u001b[A"
     ]
    },
    {
     "name": "stdout",
     "output_type": "stream",
     "text": [
      "Precision-Recall data saved to eFEX_with_newest_Topo_files_iso\\precision_recall\\precision_recall_iso_GradientBoostingClassifier.json\n",
      "Efficiency vs Electron PT data saved to eFEX_with_newest_Topo_files_iso\\efficiency_vs_ele_pt\\efficiency_vs_ele_pt_iso_GradientBoostingClassifier.json\n",
      "Training HistGradientBoostingClassifier...\n",
      "Took: 1.9607853889465332 seconds\n",
      "predicting...\n",
      "Took: 0.22934651374816895 seconds\n",
      "\n",
      "\n",
      "Evaluation of HistGradientBoostingClassifier\n",
      "Confusion Matrix:\n",
      " [[97012 10135]\n",
      " [ 3535 70778]]\n",
      "Accuracy: 0.92466659\n",
      "Recall: 0.95243093\n",
      "Precision: 0.87474201\n",
      "F1 Score: 0.91193486\n",
      "Classification Report:\n",
      "               precision    recall  f1-score   support\n",
      "\n",
      "         0.0       0.96      0.91      0.93    107147\n",
      "         1.0       0.87      0.95      0.91     74313\n",
      "\n",
      "    accuracy                           0.92    181460\n",
      "   macro avg       0.92      0.93      0.92    181460\n",
      "weighted avg       0.93      0.92      0.93    181460\n",
      "\n",
      "Mean Squared Error: 0.07533341\n",
      "\n",
      "ROC data saved to eFEX_with_newest_Topo_files_iso\\roc\\roc_iso_HistGradientBoostingClassifier.json\n"
     ]
    },
    {
     "name": "stderr",
     "output_type": "stream",
     "text": [
      "\n",
      "\u001b[A"
     ]
    },
    {
     "name": "stdout",
     "output_type": "stream",
     "text": [
      "Precision-Recall data saved to eFEX_with_newest_Topo_files_iso\\precision_recall\\precision_recall_iso_HistGradientBoostingClassifier.json\n",
      "Efficiency vs Electron PT data saved to eFEX_with_newest_Topo_files_iso\\efficiency_vs_ele_pt\\efficiency_vs_ele_pt_iso_HistGradientBoostingClassifier.json\n",
      "Training KNeighborsClassifier...\n",
      "Took: 1.7356009483337402 seconds\n",
      "predicting...\n",
      "Took: 12.427256107330322 seconds\n",
      "\n",
      "\n",
      "Evaluation of KNeighborsClassifier\n",
      "Confusion Matrix:\n",
      " [[96490 10657]\n",
      " [ 4602 69711]]\n",
      "Accuracy: 0.91590984\n",
      "Recall: 0.93807275\n",
      "Precision: 0.86739747\n",
      "F1 Score: 0.90135181\n",
      "Classification Report:\n",
      "               precision    recall  f1-score   support\n",
      "\n",
      "         0.0       0.95      0.90      0.93    107147\n",
      "         1.0       0.87      0.94      0.90     74313\n",
      "\n",
      "    accuracy                           0.92    181460\n",
      "   macro avg       0.91      0.92      0.91    181460\n",
      "weighted avg       0.92      0.92      0.92    181460\n",
      "\n",
      "Mean Squared Error: 0.08409016\n",
      "\n",
      "ROC data saved to eFEX_with_newest_Topo_files_iso\\roc\\roc_iso_KNeighborsClassifier.json\n"
     ]
    },
    {
     "name": "stderr",
     "output_type": "stream",
     "text": [
      "\n",
      "\u001b[A"
     ]
    },
    {
     "name": "stdout",
     "output_type": "stream",
     "text": [
      "Precision-Recall data saved to eFEX_with_newest_Topo_files_iso\\precision_recall\\precision_recall_iso_KNeighborsClassifier.json\n",
      "Efficiency vs Electron PT data saved to eFEX_with_newest_Topo_files_iso\\efficiency_vs_ele_pt\\efficiency_vs_ele_pt_iso_KNeighborsClassifier.json\n",
      "Training LabelPropagation...\n",
      "Could not train or predict with LabelPropagation: Unable to allocate 1.92 TiB for an array with shape (725840, 725840) and data type float32\n",
      "Training LabelSpreading...\n",
      "Could not train or predict with LabelSpreading: Unable to allocate 1.92 TiB for an array with shape (725840, 725840) and data type float32\n",
      "Training LinearDiscriminantAnalysis...\n",
      "Took: 0.16806292533874512 seconds\n",
      "predicting...\n",
      "Took: 0.003003358840942383 seconds\n",
      "\n",
      "\n",
      "Evaluation of LinearDiscriminantAnalysis\n",
      "Confusion Matrix:\n",
      " [[85962 21185]\n",
      " [ 6163 68150]]\n",
      "Accuracy: 0.84928910\n",
      "Recall: 0.91706700\n",
      "Precision: 0.76285890\n",
      "F1 Score: 0.83288522\n",
      "Classification Report:\n",
      "               precision    recall  f1-score   support\n",
      "\n",
      "         0.0       0.93      0.80      0.86    107147\n",
      "         1.0       0.76      0.92      0.83     74313\n",
      "\n",
      "    accuracy                           0.85    181460\n",
      "   macro avg       0.85      0.86      0.85    181460\n",
      "weighted avg       0.86      0.85      0.85    181460\n",
      "\n",
      "Mean Squared Error: 0.15071090\n",
      "\n",
      "ROC data saved to eFEX_with_newest_Topo_files_iso\\roc\\roc_iso_LinearDiscriminantAnalysis.json\n"
     ]
    },
    {
     "name": "stderr",
     "output_type": "stream",
     "text": [
      "\n",
      "\u001b[A"
     ]
    },
    {
     "name": "stdout",
     "output_type": "stream",
     "text": [
      "Precision-Recall data saved to eFEX_with_newest_Topo_files_iso\\precision_recall\\precision_recall_iso_LinearDiscriminantAnalysis.json\n",
      "Efficiency vs Electron PT data saved to eFEX_with_newest_Topo_files_iso\\efficiency_vs_ele_pt\\efficiency_vs_ele_pt_iso_LinearDiscriminantAnalysis.json\n",
      "Training LinearSVC...\n",
      "Took: 1.3718805313110352 seconds\n",
      "predicting...\n",
      "Took: 0.005003452301025391 seconds\n",
      "\n",
      "\n",
      "Evaluation of LinearSVC\n",
      "Confusion Matrix:\n",
      " [[93300 13847]\n",
      " [ 2939 71374]]\n",
      "Accuracy: 0.90749476\n",
      "Recall: 0.96045107\n",
      "Precision: 0.83751657\n",
      "F1 Score: 0.89478105\n",
      "Classification Report:\n",
      "               precision    recall  f1-score   support\n",
      "\n",
      "         0.0       0.97      0.87      0.92    107147\n",
      "         1.0       0.84      0.96      0.89     74313\n",
      "\n",
      "    accuracy                           0.91    181460\n",
      "   macro avg       0.90      0.92      0.91    181460\n",
      "weighted avg       0.92      0.91      0.91    181460\n",
      "\n",
      "Mean Squared Error: 0.09250524\n",
      "\n",
      "ROC data saved to eFEX_with_newest_Topo_files_iso\\roc\\roc_iso_LinearSVC.json\n"
     ]
    },
    {
     "name": "stderr",
     "output_type": "stream",
     "text": [
      "\n",
      "\u001b[A"
     ]
    },
    {
     "name": "stdout",
     "output_type": "stream",
     "text": [
      "Precision-Recall data saved to eFEX_with_newest_Topo_files_iso\\precision_recall\\precision_recall_iso_LinearSVC.json\n",
      "Efficiency vs Electron PT data saved to eFEX_with_newest_Topo_files_iso\\efficiency_vs_ele_pt\\efficiency_vs_ele_pt_iso_LinearSVC.json\n",
      "Training LogisticRegression...\n",
      "Took: 1.3243763446807861 seconds\n",
      "predicting...\n",
      "Took: 0.005005359649658203 seconds\n",
      "\n",
      "\n",
      "Evaluation of LogisticRegression\n",
      "Confusion Matrix:\n",
      " [[94060 13087]\n",
      " [ 3635 70678]]\n",
      "Accuracy: 0.90784746\n",
      "Recall: 0.95108527\n",
      "Precision: 0.84376530\n",
      "F1 Score: 0.89421678\n",
      "Classification Report:\n",
      "               precision    recall  f1-score   support\n",
      "\n",
      "         0.0       0.96      0.88      0.92    107147\n",
      "         1.0       0.84      0.95      0.89     74313\n",
      "\n",
      "    accuracy                           0.91    181460\n",
      "   macro avg       0.90      0.91      0.91    181460\n",
      "weighted avg       0.91      0.91      0.91    181460\n",
      "\n",
      "Mean Squared Error: 0.09215254\n",
      "\n",
      "ROC data saved to eFEX_with_newest_Topo_files_iso\\roc\\roc_iso_LogisticRegression.json\n"
     ]
    },
    {
     "name": "stderr",
     "output_type": "stream",
     "text": [
      "\n",
      "\u001b[A"
     ]
    },
    {
     "name": "stdout",
     "output_type": "stream",
     "text": [
      "Precision-Recall data saved to eFEX_with_newest_Topo_files_iso\\precision_recall\\precision_recall_iso_LogisticRegression.json\n",
      "Efficiency vs Electron PT data saved to eFEX_with_newest_Topo_files_iso\\efficiency_vs_ele_pt\\efficiency_vs_ele_pt_iso_LogisticRegression.json\n",
      "Training LogisticRegressionCV...\n",
      "Took: 15.952044248580933 seconds\n",
      "predicting...\n",
      "Took: 0.0040035247802734375 seconds\n",
      "\n",
      "\n",
      "Evaluation of LogisticRegressionCV\n",
      "Confusion Matrix:\n",
      " [[94028 13119]\n",
      " [ 3597 70716]]\n",
      "Accuracy: 0.90788052\n",
      "Recall: 0.95159663\n",
      "Precision: 0.84351405\n",
      "F1 Score: 0.89430154\n",
      "Classification Report:\n",
      "               precision    recall  f1-score   support\n",
      "\n",
      "         0.0       0.96      0.88      0.92    107147\n",
      "         1.0       0.84      0.95      0.89     74313\n",
      "\n",
      "    accuracy                           0.91    181460\n",
      "   macro avg       0.90      0.91      0.91    181460\n",
      "weighted avg       0.91      0.91      0.91    181460\n",
      "\n",
      "Mean Squared Error: 0.09211948\n",
      "\n",
      "ROC data saved to eFEX_with_newest_Topo_files_iso\\roc\\roc_iso_LogisticRegressionCV.json\n"
     ]
    },
    {
     "name": "stderr",
     "output_type": "stream",
     "text": [
      "\n",
      "\u001b[A"
     ]
    },
    {
     "name": "stdout",
     "output_type": "stream",
     "text": [
      "Precision-Recall data saved to eFEX_with_newest_Topo_files_iso\\precision_recall\\precision_recall_iso_LogisticRegressionCV.json\n",
      "Efficiency vs Electron PT data saved to eFEX_with_newest_Topo_files_iso\\efficiency_vs_ele_pt\\efficiency_vs_ele_pt_iso_LogisticRegressionCV.json\n",
      "Training MLPClassifier...\n",
      "Took: 71.5171217918396 seconds\n",
      "predicting...\n",
      "Took: 0.03958535194396973 seconds\n",
      "\n",
      "\n",
      "Evaluation of MLPClassifier\n",
      "Confusion Matrix:\n",
      " [[97416  9731]\n",
      " [ 3889 70424]]\n",
      "Accuracy: 0.92494214\n",
      "Recall: 0.94766730\n",
      "Precision: 0.87859772\n",
      "F1 Score: 0.91182640\n",
      "Classification Report:\n",
      "               precision    recall  f1-score   support\n",
      "\n",
      "         0.0       0.96      0.91      0.93    107147\n",
      "         1.0       0.88      0.95      0.91     74313\n",
      "\n",
      "    accuracy                           0.92    181460\n",
      "   macro avg       0.92      0.93      0.92    181460\n",
      "weighted avg       0.93      0.92      0.93    181460\n",
      "\n",
      "Mean Squared Error: 0.07505786\n",
      "\n",
      "ROC data saved to eFEX_with_newest_Topo_files_iso\\roc\\roc_iso_MLPClassifier.json\n"
     ]
    },
    {
     "name": "stderr",
     "output_type": "stream",
     "text": [
      "\n",
      "\u001b[A"
     ]
    },
    {
     "name": "stdout",
     "output_type": "stream",
     "text": [
      "Precision-Recall data saved to eFEX_with_newest_Topo_files_iso\\precision_recall\\precision_recall_iso_MLPClassifier.json\n",
      "Efficiency vs Electron PT data saved to eFEX_with_newest_Topo_files_iso\\efficiency_vs_ele_pt\\efficiency_vs_ele_pt_iso_MLPClassifier.json\n",
      "Training MultiOutputClassifier...\n",
      "Could not train or predict with MultiOutputClassifier: y must have at least two dimensions for multi-output regression but has only one.\n",
      "Training MultinomialNB...\n",
      "Took: 0.09063315391540527 seconds\n",
      "predicting...\n",
      "Took: 0.007632017135620117 seconds\n",
      "\n",
      "\n",
      "Evaluation of MultinomialNB\n",
      "Confusion Matrix:\n",
      " [[82510 24637]\n",
      " [ 1190 73123]]\n",
      "Accuracy: 0.85767111\n",
      "Recall: 0.98398665\n",
      "Precision: 0.74798486\n",
      "F1 Score: 0.84990673\n",
      "Classification Report:\n",
      "               precision    recall  f1-score   support\n",
      "\n",
      "         0.0       0.99      0.77      0.86    107147\n",
      "         1.0       0.75      0.98      0.85     74313\n",
      "\n",
      "    accuracy                           0.86    181460\n",
      "   macro avg       0.87      0.88      0.86    181460\n",
      "weighted avg       0.89      0.86      0.86    181460\n",
      "\n",
      "Mean Squared Error: 0.14232889\n",
      "\n",
      "ROC data saved to eFEX_with_newest_Topo_files_iso\\roc\\roc_iso_MultinomialNB.json\n"
     ]
    },
    {
     "name": "stderr",
     "output_type": "stream",
     "text": [
      "\n",
      "\u001b[A"
     ]
    },
    {
     "name": "stdout",
     "output_type": "stream",
     "text": [
      "Precision-Recall data saved to eFEX_with_newest_Topo_files_iso\\precision_recall\\precision_recall_iso_MultinomialNB.json\n",
      "Efficiency vs Electron PT data saved to eFEX_with_newest_Topo_files_iso\\efficiency_vs_ele_pt\\efficiency_vs_ele_pt_iso_MultinomialNB.json\n",
      "Training NearestCentroid...\n",
      "Took: 0.1267833709716797 seconds\n",
      "predicting...\n",
      "Took: 0.007006645202636719 seconds\n",
      "\n",
      "\n",
      "Evaluation of NearestCentroid\n",
      "Confusion Matrix:\n",
      " [[55861 51286]\n",
      " [ 2911 71402]]\n",
      "Accuracy: 0.70132812\n",
      "Recall: 0.96082785\n",
      "Precision: 0.58198031\n",
      "F1 Score: 0.72488972\n",
      "Classification Report:\n",
      "               precision    recall  f1-score   support\n",
      "\n",
      "         0.0       0.95      0.52      0.67    107147\n",
      "         1.0       0.58      0.96      0.72     74313\n",
      "\n",
      "    accuracy                           0.70    181460\n",
      "   macro avg       0.77      0.74      0.70    181460\n",
      "weighted avg       0.80      0.70      0.69    181460\n",
      "\n",
      "Mean Squared Error: 0.29867188\n",
      "\n",
      "ROC data saved to eFEX_with_newest_Topo_files_iso\\roc\\roc_iso_NearestCentroid.json\n"
     ]
    },
    {
     "name": "stderr",
     "output_type": "stream",
     "text": [
      "\n",
      "\u001b[A"
     ]
    },
    {
     "name": "stdout",
     "output_type": "stream",
     "text": [
      "Precision-Recall data saved to eFEX_with_newest_Topo_files_iso\\precision_recall\\precision_recall_iso_NearestCentroid.json\n",
      "Efficiency vs Electron PT data saved to eFEX_with_newest_Topo_files_iso\\efficiency_vs_ele_pt\\efficiency_vs_ele_pt_iso_NearestCentroid.json\n",
      "Training OneVsOneClassifier...\n",
      "Took: 1.3412885665893555 seconds\n",
      "predicting...\n",
      "Took: 0.015013456344604492 seconds\n",
      "\n",
      "\n",
      "Evaluation of OneVsOneClassifier\n",
      "Confusion Matrix:\n",
      " [[94060 13087]\n",
      " [ 3635 70678]]\n",
      "Accuracy: 0.90784746\n",
      "Recall: 0.95108527\n",
      "Precision: 0.84376530\n",
      "F1 Score: 0.89421678\n",
      "Classification Report:\n",
      "               precision    recall  f1-score   support\n",
      "\n",
      "         0.0       0.96      0.88      0.92    107147\n",
      "         1.0       0.84      0.95      0.89     74313\n",
      "\n",
      "    accuracy                           0.91    181460\n",
      "   macro avg       0.90      0.91      0.91    181460\n",
      "weighted avg       0.91      0.91      0.91    181460\n",
      "\n",
      "Mean Squared Error: 0.09215254\n",
      "\n",
      "ROC data saved to eFEX_with_newest_Topo_files_iso\\roc\\roc_iso_OneVsOneClassifier.json\n"
     ]
    },
    {
     "name": "stderr",
     "output_type": "stream",
     "text": [
      "\n",
      "\u001b[A"
     ]
    },
    {
     "name": "stdout",
     "output_type": "stream",
     "text": [
      "Precision-Recall data saved to eFEX_with_newest_Topo_files_iso\\precision_recall\\precision_recall_iso_OneVsOneClassifier.json\n",
      "Efficiency vs Electron PT data saved to eFEX_with_newest_Topo_files_iso\\efficiency_vs_ele_pt\\efficiency_vs_ele_pt_iso_OneVsOneClassifier.json\n",
      "Training OneVsRestClassifier...\n",
      "Took: 1.3722028732299805 seconds\n",
      "predicting...\n",
      "Took: 0.012011051177978516 seconds\n",
      "\n",
      "\n",
      "Evaluation of OneVsRestClassifier\n",
      "Confusion Matrix:\n",
      " [[94060 13087]\n",
      " [ 3635 70678]]\n",
      "Accuracy: 0.90784746\n",
      "Recall: 0.95108527\n",
      "Precision: 0.84376530\n",
      "F1 Score: 0.89421678\n",
      "Classification Report:\n",
      "               precision    recall  f1-score   support\n",
      "\n",
      "         0.0       0.96      0.88      0.92    107147\n",
      "         1.0       0.84      0.95      0.89     74313\n",
      "\n",
      "    accuracy                           0.91    181460\n",
      "   macro avg       0.90      0.91      0.91    181460\n",
      "weighted avg       0.91      0.91      0.91    181460\n",
      "\n",
      "Mean Squared Error: 0.09215254\n",
      "\n",
      "ROC data saved to eFEX_with_newest_Topo_files_iso\\roc\\roc_iso_OneVsRestClassifier.json\n"
     ]
    },
    {
     "name": "stderr",
     "output_type": "stream",
     "text": [
      "\n",
      "\u001b[A"
     ]
    },
    {
     "name": "stdout",
     "output_type": "stream",
     "text": [
      "Precision-Recall data saved to eFEX_with_newest_Topo_files_iso\\precision_recall\\precision_recall_iso_OneVsRestClassifier.json\n",
      "Efficiency vs Electron PT data saved to eFEX_with_newest_Topo_files_iso\\efficiency_vs_ele_pt\\efficiency_vs_ele_pt_iso_OneVsRestClassifier.json\n",
      "Training OutputCodeClassifier...\n",
      "Took: 4.496098279953003 seconds\n",
      "predicting...\n",
      "Took: 0.014013290405273438 seconds\n",
      "\n",
      "\n",
      "Evaluation of OutputCodeClassifier\n",
      "Confusion Matrix:\n",
      " [[94060 13087]\n",
      " [ 3635 70678]]\n",
      "Accuracy: 0.90784746\n",
      "Recall: 0.95108527\n",
      "Precision: 0.84376530\n"
     ]
    },
    {
     "name": "stderr",
     "output_type": "stream",
     "text": [
      "\n",
      "\u001b[A"
     ]
    },
    {
     "name": "stdout",
     "output_type": "stream",
     "text": [
      "F1 Score: 0.89421678\n",
      "Classification Report:\n",
      "               precision    recall  f1-score   support\n",
      "\n",
      "         0.0       0.96      0.88      0.92    107147\n",
      "         1.0       0.84      0.95      0.89     74313\n",
      "\n",
      "    accuracy                           0.91    181460\n",
      "   macro avg       0.90      0.91      0.91    181460\n",
      "weighted avg       0.91      0.91      0.91    181460\n",
      "\n",
      "Mean Squared Error: 0.09215254\n",
      "\n",
      "Failed ROC computation for OutputCodeClassifier: Model must have either a decision_function or predict_proba method.\n",
      "Failed Precision-Recall computation for OutputCodeClassifier: Model must have either a decision_function or predict_proba method.\n",
      "Efficiency vs Electron PT data saved to eFEX_with_newest_Topo_files_iso\\efficiency_vs_ele_pt\\efficiency_vs_ele_pt_iso_OutputCodeClassifier.json\n",
      "Training PassiveAggressiveClassifier...\n",
      "Took: 0.4976677894592285 seconds\n",
      "predicting...\n",
      "Took: 0.0030014514923095703 seconds\n",
      "\n",
      "\n",
      "Evaluation of PassiveAggressiveClassifier\n",
      "Confusion Matrix:\n",
      " [[96015 11132]\n",
      " [ 7620 66693]]\n",
      "Accuracy: 0.89666042\n",
      "Recall: 0.89746074\n",
      "Precision: 0.85696113\n",
      "F1 Score: 0.87674348\n",
      "Classification Report:\n",
      "               precision    recall  f1-score   support\n",
      "\n",
      "         0.0       0.93      0.90      0.91    107147\n",
      "         1.0       0.86      0.90      0.88     74313\n",
      "\n",
      "    accuracy                           0.90    181460\n",
      "   macro avg       0.89      0.90      0.89    181460\n",
      "weighted avg       0.90      0.90      0.90    181460\n",
      "\n",
      "Mean Squared Error: 0.10333958\n",
      "\n",
      "ROC data saved to eFEX_with_newest_Topo_files_iso\\roc\\roc_iso_PassiveAggressiveClassifier.json\n"
     ]
    },
    {
     "name": "stderr",
     "output_type": "stream",
     "text": [
      "\n",
      "\u001b[A"
     ]
    },
    {
     "name": "stdout",
     "output_type": "stream",
     "text": [
      "Precision-Recall data saved to eFEX_with_newest_Topo_files_iso\\precision_recall\\precision_recall_iso_PassiveAggressiveClassifier.json\n",
      "Efficiency vs Electron PT data saved to eFEX_with_newest_Topo_files_iso\\efficiency_vs_ele_pt\\efficiency_vs_ele_pt_iso_PassiveAggressiveClassifier.json\n",
      "Training Perceptron...\n",
      "Took: 1.1062140464782715 seconds\n",
      "predicting...\n",
      "Took: 0.002002239227294922 seconds\n",
      "\n",
      "\n",
      "Evaluation of Perceptron\n",
      "Confusion Matrix:\n",
      " [[97320  9827]\n",
      " [ 9414 64899]]\n",
      "Accuracy: 0.89396561\n",
      "Recall: 0.87331961\n",
      "Precision: 0.86849289\n",
      "F1 Score: 0.87089956\n",
      "Classification Report:\n",
      "               precision    recall  f1-score   support\n",
      "\n",
      "         0.0       0.91      0.91      0.91    107147\n",
      "         1.0       0.87      0.87      0.87     74313\n",
      "\n",
      "    accuracy                           0.89    181460\n",
      "   macro avg       0.89      0.89      0.89    181460\n",
      "weighted avg       0.89      0.89      0.89    181460\n",
      "\n",
      "Mean Squared Error: 0.10603439\n",
      "\n",
      "ROC data saved to eFEX_with_newest_Topo_files_iso\\roc\\roc_iso_Perceptron.json\n"
     ]
    },
    {
     "name": "stderr",
     "output_type": "stream",
     "text": [
      "\n",
      "\u001b[A"
     ]
    },
    {
     "name": "stdout",
     "output_type": "stream",
     "text": [
      "Precision-Recall data saved to eFEX_with_newest_Topo_files_iso\\precision_recall\\precision_recall_iso_Perceptron.json\n",
      "Efficiency vs Electron PT data saved to eFEX_with_newest_Topo_files_iso\\efficiency_vs_ele_pt\\efficiency_vs_ele_pt_iso_Perceptron.json\n",
      "Training QuadraticDiscriminantAnalysis...\n",
      "Took: 0.11620402336120605 seconds\n",
      "predicting...\n",
      "Took: 0.025022506713867188 seconds\n",
      "\n",
      "\n",
      "Evaluation of QuadraticDiscriminantAnalysis\n",
      "Confusion Matrix:\n",
      " [[91264 15883]\n",
      " [ 2562 71751]]\n",
      "Accuracy: 0.89835225\n",
      "Recall: 0.96552420\n",
      "Precision: 0.81875756\n",
      "F1 Score: 0.88610471\n",
      "Classification Report:\n",
      "               precision    recall  f1-score   support\n",
      "\n",
      "         0.0       0.97      0.85      0.91    107147\n",
      "         1.0       0.82      0.97      0.89     74313\n",
      "\n",
      "    accuracy                           0.90    181460\n",
      "   macro avg       0.90      0.91      0.90    181460\n",
      "weighted avg       0.91      0.90      0.90    181460\n",
      "\n",
      "Mean Squared Error: 0.10164775\n",
      "\n",
      "ROC data saved to eFEX_with_newest_Topo_files_iso\\roc\\roc_iso_QuadraticDiscriminantAnalysis.json\n"
     ]
    },
    {
     "name": "stderr",
     "output_type": "stream",
     "text": [
      "\n",
      "\u001b[A"
     ]
    },
    {
     "name": "stdout",
     "output_type": "stream",
     "text": [
      "Precision-Recall data saved to eFEX_with_newest_Topo_files_iso\\precision_recall\\precision_recall_iso_QuadraticDiscriminantAnalysis.json\n",
      "Efficiency vs Electron PT data saved to eFEX_with_newest_Topo_files_iso\\efficiency_vs_ele_pt\\efficiency_vs_ele_pt_iso_QuadraticDiscriminantAnalysis.json\n",
      "Training RadiusNeighborsClassifier...\n",
      "Took: 1.752668857574463 seconds\n",
      "predicting...\n"
     ]
    },
    {
     "name": "stderr",
     "output_type": "stream",
     "text": [
      "\n",
      "\u001b[A"
     ]
    },
    {
     "name": "stdout",
     "output_type": "stream",
     "text": [
      "Could not train or predict with RadiusNeighborsClassifier: No neighbors found for test samples array([     0,      2,      4, ..., 181454, 181456, 181457], dtype=int64), you can try using larger radius, giving a label for outliers, or considering removing them from your dataset.\n",
      "Training RandomForestClassifier...\n",
      "Took: 100.64007139205933 seconds\n",
      "predicting...\n",
      "Took: 2.541536808013916 seconds\n",
      "\n",
      "\n",
      "Evaluation of RandomForestClassifier\n",
      "Confusion Matrix:\n",
      " [[97219  9928]\n",
      " [ 4148 70165]]\n",
      "Accuracy: 0.92242919\n",
      "Recall: 0.94418204\n",
      "Precision: 0.87604410\n",
      "F1 Score: 0.90883774\n",
      "Classification Report:\n",
      "               precision    recall  f1-score   support\n",
      "\n",
      "         0.0       0.96      0.91      0.93    107147\n",
      "         1.0       0.88      0.94      0.91     74313\n",
      "\n",
      "    accuracy                           0.92    181460\n",
      "   macro avg       0.92      0.93      0.92    181460\n",
      "weighted avg       0.93      0.92      0.92    181460\n",
      "\n",
      "Mean Squared Error: 0.07757081\n",
      "\n",
      "ROC data saved to eFEX_with_newest_Topo_files_iso\\roc\\roc_iso_RandomForestClassifier.json\n"
     ]
    },
    {
     "name": "stderr",
     "output_type": "stream",
     "text": [
      "\n",
      "\u001b[A"
     ]
    },
    {
     "name": "stdout",
     "output_type": "stream",
     "text": [
      "Precision-Recall data saved to eFEX_with_newest_Topo_files_iso\\precision_recall\\precision_recall_iso_RandomForestClassifier.json\n",
      "Efficiency vs Electron PT data saved to eFEX_with_newest_Topo_files_iso\\efficiency_vs_ele_pt\\efficiency_vs_ele_pt_iso_RandomForestClassifier.json\n",
      "Training RidgeClassifier...\n",
      "Took: 0.13304662704467773 seconds\n",
      "predicting...\n",
      "Took: 0.002002239227294922 seconds\n",
      "\n",
      "\n",
      "Evaluation of RidgeClassifier\n",
      "Confusion Matrix:\n",
      " [[86251 20896]\n",
      " [ 6381 67932]]\n",
      "Accuracy: 0.84968037\n",
      "Recall: 0.91413346\n",
      "Precision: 0.76475886\n",
      "F1 Score: 0.83280107\n",
      "Classification Report:\n",
      "               precision    recall  f1-score   support\n",
      "\n",
      "         0.0       0.93      0.80      0.86    107147\n",
      "         1.0       0.76      0.91      0.83     74313\n",
      "\n",
      "    accuracy                           0.85    181460\n",
      "   macro avg       0.85      0.86      0.85    181460\n",
      "weighted avg       0.86      0.85      0.85    181460\n",
      "\n",
      "Mean Squared Error: 0.15031963\n",
      "\n",
      "ROC data saved to eFEX_with_newest_Topo_files_iso\\roc\\roc_iso_RidgeClassifier.json\n"
     ]
    },
    {
     "name": "stderr",
     "output_type": "stream",
     "text": [
      "\n",
      "\u001b[A"
     ]
    },
    {
     "name": "stdout",
     "output_type": "stream",
     "text": [
      "Precision-Recall data saved to eFEX_with_newest_Topo_files_iso\\precision_recall\\precision_recall_iso_RidgeClassifier.json\n",
      "Efficiency vs Electron PT data saved to eFEX_with_newest_Topo_files_iso\\efficiency_vs_ele_pt\\efficiency_vs_ele_pt_iso_RidgeClassifier.json\n",
      "Training RidgeClassifierCV...\n",
      "Took: 0.3070361614227295 seconds\n",
      "predicting...\n",
      "Took: 0.004003763198852539 seconds\n",
      "\n",
      "\n",
      "Evaluation of RidgeClassifierCV\n",
      "Confusion Matrix:\n",
      " [[86250 20897]\n",
      " [ 6381 67932]]\n",
      "Accuracy: 0.84967486\n",
      "Recall: 0.91413346\n",
      "Precision: 0.76475025\n",
      "F1 Score: 0.83279597\n",
      "Classification Report:\n",
      "               precision    recall  f1-score   support\n",
      "\n",
      "         0.0       0.93      0.80      0.86    107147\n",
      "         1.0       0.76      0.91      0.83     74313\n",
      "\n",
      "    accuracy                           0.85    181460\n",
      "   macro avg       0.85      0.86      0.85    181460\n",
      "weighted avg       0.86      0.85      0.85    181460\n",
      "\n",
      "Mean Squared Error: 0.15032514\n",
      "\n",
      "ROC data saved to eFEX_with_newest_Topo_files_iso\\roc\\roc_iso_RidgeClassifierCV.json\n"
     ]
    },
    {
     "name": "stderr",
     "output_type": "stream",
     "text": [
      "\n",
      "\u001b[A"
     ]
    },
    {
     "name": "stdout",
     "output_type": "stream",
     "text": [
      "Precision-Recall data saved to eFEX_with_newest_Topo_files_iso\\precision_recall\\precision_recall_iso_RidgeClassifierCV.json\n",
      "Efficiency vs Electron PT data saved to eFEX_with_newest_Topo_files_iso\\efficiency_vs_ele_pt\\efficiency_vs_ele_pt_iso_RidgeClassifierCV.json\n",
      "Training SGDClassifier...\n",
      "Took: 3.5720298290252686 seconds\n",
      "predicting...\n",
      "Took: 0.0020020008087158203 seconds\n",
      "\n",
      "\n",
      "Evaluation of SGDClassifier\n",
      "Confusion Matrix:\n",
      " [[92097 15050]\n",
      " [ 2190 72123]]\n",
      "Accuracy: 0.90499284\n",
      "Recall: 0.97053006\n",
      "Precision: 0.82735480\n",
      "F1 Score: 0.89324152\n",
      "Classification Report:\n",
      "               precision    recall  f1-score   support\n",
      "\n",
      "         0.0       0.98      0.86      0.91    107147\n",
      "         1.0       0.83      0.97      0.89     74313\n",
      "\n",
      "    accuracy                           0.90    181460\n",
      "   macro avg       0.90      0.92      0.90    181460\n",
      "weighted avg       0.92      0.90      0.91    181460\n",
      "\n",
      "Mean Squared Error: 0.09500716\n",
      "\n",
      "ROC data saved to eFEX_with_newest_Topo_files_iso\\roc\\roc_iso_SGDClassifier.json\n"
     ]
    },
    {
     "name": "stderr",
     "output_type": "stream",
     "text": [
      "\n",
      "\u001b[A"
     ]
    },
    {
     "name": "stdout",
     "output_type": "stream",
     "text": [
      "Precision-Recall data saved to eFEX_with_newest_Topo_files_iso\\precision_recall\\precision_recall_iso_SGDClassifier.json\n",
      "Efficiency vs Electron PT data saved to eFEX_with_newest_Topo_files_iso\\efficiency_vs_ele_pt\\efficiency_vs_ele_pt_iso_SGDClassifier.json\n",
      "Training TunedThresholdClassifierCV...\n",
      "Took: 28.330950021743774 seconds\n",
      "predicting...\n",
      "Took: 0.010009288787841797 seconds\n",
      "\n",
      "\n",
      "Evaluation of TunedThresholdClassifierCV\n",
      "Confusion Matrix:\n",
      " [[92906 14241]\n",
      " [ 2656 71657]]\n",
      "Accuracy: 0.90688306\n",
      "Recall: 0.96425928\n",
      "Precision: 0.83421034\n",
      "F1 Score: 0.89453283\n",
      "Classification Report:\n",
      "               precision    recall  f1-score   support\n",
      "\n",
      "         0.0       0.97      0.87      0.92    107147\n",
      "         1.0       0.83      0.96      0.89     74313\n",
      "\n",
      "    accuracy                           0.91    181460\n",
      "   macro avg       0.90      0.92      0.91    181460\n",
      "weighted avg       0.92      0.91      0.91    181460\n",
      "\n",
      "Mean Squared Error: 0.09311694\n",
      "\n",
      "ROC data saved to eFEX_with_newest_Topo_files_iso\\roc\\roc_iso_TunedThresholdClassifierCV.json\n"
     ]
    },
    {
     "name": "stderr",
     "output_type": "stream",
     "text": [
      "\n",
      "\u001b[A"
     ]
    },
    {
     "name": "stdout",
     "output_type": "stream",
     "text": [
      "Precision-Recall data saved to eFEX_with_newest_Topo_files_iso\\precision_recall\\precision_recall_iso_TunedThresholdClassifierCV.json\n",
      "Efficiency vs Electron PT data saved to eFEX_with_newest_Topo_files_iso\\efficiency_vs_ele_pt\\efficiency_vs_ele_pt_iso_TunedThresholdClassifierCV.json\n",
      "Training VotingClassifier...\n",
      "Took: 102.84957695007324 seconds\n",
      "predicting...\n",
      "Took: 3.0649900436401367 seconds\n",
      "\n",
      "\n",
      "Evaluation of VotingClassifier\n",
      "Confusion Matrix:\n",
      " [[98022  9125]\n",
      " [ 6102 68211]]\n",
      "Accuracy: 0.91608619\n",
      "Recall: 0.91788785\n",
      "Precision: 0.88200838\n",
      "F1 Score: 0.89959050\n"
     ]
    },
    {
     "name": "stderr",
     "output_type": "stream",
     "text": [
      "\n",
      "\u001b[A"
     ]
    },
    {
     "name": "stdout",
     "output_type": "stream",
     "text": [
      "Classification Report:\n",
      "               precision    recall  f1-score   support\n",
      "\n",
      "         0.0       0.94      0.91      0.93    107147\n",
      "         1.0       0.88      0.92      0.90     74313\n",
      "\n",
      "    accuracy                           0.92    181460\n",
      "   macro avg       0.91      0.92      0.91    181460\n",
      "weighted avg       0.92      0.92      0.92    181460\n",
      "\n",
      "Mean Squared Error: 0.08391381\n",
      "\n",
      "Failed ROC computation for VotingClassifier: Model must have either a decision_function or predict_proba method.\n",
      "Failed Precision-Recall computation for VotingClassifier: Model must have either a decision_function or predict_proba method.\n",
      "Efficiency vs Electron PT data saved to eFEX_with_newest_Topo_files_iso\\efficiency_vs_ele_pt\\efficiency_vs_ele_pt_iso_VotingClassifier.json\n",
      "Training XGBClassifier...\n",
      "Took: 0.7937219142913818 seconds\n",
      "predicting...\n",
      "Took: 0.03641557693481445 seconds\n",
      "\n",
      "\n",
      "Evaluation of XGBClassifier\n",
      "Confusion Matrix:\n",
      " [[96944 10203]\n",
      " [ 3460 70853]]\n",
      "Accuracy: 0.92470517\n",
      "Recall: 0.95344018\n",
      "Precision: 0.87412406\n",
      "F1 Score: 0.91206096\n",
      "Classification Report:\n",
      "               precision    recall  f1-score   support\n",
      "\n",
      "         0.0       0.97      0.90      0.93    107147\n",
      "         1.0       0.87      0.95      0.91     74313\n",
      "\n",
      "    accuracy                           0.92    181460\n",
      "   macro avg       0.92      0.93      0.92    181460\n",
      "weighted avg       0.93      0.92      0.93    181460\n",
      "\n",
      "Mean Squared Error: 0.07529483\n",
      "\n",
      "ROC data saved to eFEX_with_newest_Topo_files_iso\\roc\\roc_iso_XGBClassifier.json\n"
     ]
    },
    {
     "name": "stderr",
     "output_type": "stream",
     "text": [
      "\n",
      "100%|██████████| 41/41 [10:10<00:00, 14.88s/it]\n",
      "100%|██████████| 3/3 [1:33:04<00:00, 1861.36s/it]\n",
      "100%|██████████| 2/2 [1:33:04<00:00, 2792.30s/it]"
     ]
    },
    {
     "name": "stdout",
     "output_type": "stream",
     "text": [
      "Precision-Recall data saved to eFEX_with_newest_Topo_files_iso\\precision_recall\\precision_recall_iso_XGBClassifier.json\n",
      "Efficiency vs Electron PT data saved to eFEX_with_newest_Topo_files_iso\\efficiency_vs_ele_pt\\efficiency_vs_ele_pt_iso_XGBClassifier.json\n",
      "Results saved to eFEX_with_newest_Topo_files_iso/eFEX_with_newest_Topo_files_iso_iso_all.csv\n"
     ]
    },
    {
     "name": "stderr",
     "output_type": "stream",
     "text": [
      "\n"
     ]
    },
    {
     "data": {
      "text/plain": [
       "<Figure size 640x480 with 0 Axes>"
      ]
     },
     "metadata": {},
     "output_type": "display_data"
    }
   ],
   "source": [
    "\n",
    "# binary_classifiers= dict(list(binary_classifiers.items())[:1])\n",
    "if 'NuSVC' in binary_classifiers:\n",
    "    del binary_classifiers['NuSVC']\n",
    "    print(\"NuSVC removed\")\n",
    "if 'SVC' in binary_classifiers:\n",
    "    del binary_classifiers['SVC']\n",
    "    print(\"SVC removed\")\n",
    "\n",
    "for i in tqdm(range(len(data_subdir))):\n",
    "    for j in tqdm(range(len(description))):\n",
    "        id = f\"{data_subdir[i]}_{description[j]}\"\n",
    "        X_train, X_test, y_train, y_test, pd_passthrough_train, pd_passthrough_test = prepare_data(accept_data_filename = accept_data_filename[i], reject_data_filename = reject_data_filename[i], data_subdir = id, format_mode = format_mode[j], get_pT=True)\n",
    "        results = train_evaluate_all_classifiers(binary_classifiers, X_train, X_test, y_train, y_test, pd_passthrough_train, pd_passthrough_test, description[j], id)\n",
    "        # plot_all_results(binary_classifiers.keys(), description, data_subdir)"
   ]
  },
  {
   "cell_type": "code",
   "execution_count": 4,
   "metadata": {},
   "outputs": [
    {
     "ename": "TypeError",
     "evalue": "expected str, bytes or os.PathLike object, not list",
     "output_type": "error",
     "traceback": [
      "\u001b[1;31m---------------------------------------------------------------------------\u001b[0m",
      "\u001b[1;31mTypeError\u001b[0m                                 Traceback (most recent call last)",
      "Cell \u001b[1;32mIn[4], line 1\u001b[0m\n\u001b[1;32m----> 1\u001b[0m \u001b[43mplot_all_results\u001b[49m\u001b[43m(\u001b[49m\u001b[43mbinary_classifiers\u001b[49m\u001b[38;5;241;43m.\u001b[39;49m\u001b[43mkeys\u001b[49m\u001b[43m(\u001b[49m\u001b[43m)\u001b[49m\u001b[43m,\u001b[49m\u001b[43m \u001b[49m\u001b[43mdescription\u001b[49m\u001b[43m,\u001b[49m\u001b[43m \u001b[49m\u001b[43mdata_subdir\u001b[49m\u001b[43m)\u001b[49m\n",
      "File \u001b[1;32mc:\\Users\\Me\\Documents\\Y5 Project code\\ATLAS-L1-Trigger-Y4-Project\\utilities_new.py:713\u001b[0m, in \u001b[0;36mplot_all_results\u001b[1;34m(binary_classifier_names, description, data_subdir)\u001b[0m\n\u001b[0;32m    711\u001b[0m \u001b[38;5;28;01mdef\u001b[39;00m\u001b[38;5;250m \u001b[39m\u001b[38;5;21mplot_all_results\u001b[39m(binary_classifier_names, description, data_subdir):\n\u001b[0;32m    712\u001b[0m     \u001b[38;5;28;01mfor\u001b[39;00m classifier_name \u001b[38;5;129;01min\u001b[39;00m binary_classifier_names:\n\u001b[1;32m--> 713\u001b[0m         fpr, tpr, roc_auc \u001b[38;5;241m=\u001b[39m \u001b[43mread_roc\u001b[49m\u001b[43m(\u001b[49m\u001b[43mclassifier_name\u001b[49m\u001b[43m,\u001b[49m\u001b[43m \u001b[49m\u001b[43mdescription\u001b[49m\u001b[43m,\u001b[49m\u001b[43m \u001b[49m\u001b[43mdata_subdir\u001b[49m\u001b[43m)\u001b[49m\n\u001b[0;32m    714\u001b[0m         precision, recall, pr_auc, chance_level \u001b[38;5;241m=\u001b[39m read_precision_recall(classifier_name, description, data_subdir)\n\u001b[0;32m    715\u001b[0m         bins, electrons_efficiency \u001b[38;5;241m=\u001b[39m read_efficiency_vs_ele_PT(classifier_name, description, data_subdir)\n",
      "File \u001b[1;32mc:\\Users\\Me\\Documents\\Y5 Project code\\ATLAS-L1-Trigger-Y4-Project\\utilities_new.py:682\u001b[0m, in \u001b[0;36mread_roc\u001b[1;34m(classifier_name, description, data_subdir)\u001b[0m\n\u001b[0;32m    681\u001b[0m \u001b[38;5;28;01mdef\u001b[39;00m\u001b[38;5;250m \u001b[39m\u001b[38;5;21mread_roc\u001b[39m(classifier_name, description, data_subdir):\n\u001b[1;32m--> 682\u001b[0m     filename \u001b[38;5;241m=\u001b[39m \u001b[43mos\u001b[49m\u001b[38;5;241;43m.\u001b[39;49m\u001b[43mpath\u001b[49m\u001b[38;5;241;43m.\u001b[39;49m\u001b[43mjoin\u001b[49m\u001b[43m(\u001b[49m\u001b[43mdata_subdir\u001b[49m\u001b[43m,\u001b[49m\u001b[43m \u001b[49m\u001b[38;5;124;43m\"\u001b[39;49m\u001b[38;5;124;43mroc\u001b[39;49m\u001b[38;5;124;43m\"\u001b[39;49m\u001b[43m,\u001b[49m\u001b[43m \u001b[49m\u001b[38;5;124;43mf\u001b[39;49m\u001b[38;5;124;43m\"\u001b[39;49m\u001b[38;5;124;43mroc_\u001b[39;49m\u001b[38;5;132;43;01m{\u001b[39;49;00m\u001b[43mdescription\u001b[49m\u001b[38;5;132;43;01m}\u001b[39;49;00m\u001b[38;5;124;43m_\u001b[39;49m\u001b[38;5;132;43;01m{\u001b[39;49;00m\u001b[43mclassifier_name\u001b[49m\u001b[38;5;132;43;01m}\u001b[39;49;00m\u001b[38;5;124;43m.json\u001b[39;49m\u001b[38;5;124;43m\"\u001b[39;49m\u001b[43m)\u001b[49m\n\u001b[0;32m    683\u001b[0m     \u001b[38;5;28;01mtry\u001b[39;00m:\n\u001b[0;32m    684\u001b[0m         \u001b[38;5;28;01mwith\u001b[39;00m \u001b[38;5;28mopen\u001b[39m(filename, \u001b[38;5;124m\"\u001b[39m\u001b[38;5;124mr\u001b[39m\u001b[38;5;124m\"\u001b[39m) \u001b[38;5;28;01mas\u001b[39;00m file:\n",
      "File \u001b[1;32m<frozen ntpath>:108\u001b[0m, in \u001b[0;36mjoin\u001b[1;34m(path, *paths)\u001b[0m\n",
      "\u001b[1;31mTypeError\u001b[0m: expected str, bytes or os.PathLike object, not list"
     ]
    }
   ],
   "source": [
    "plot_all_results(binary_classifiers.keys(), description, data_subdir)"
   ]
  }
 ],
 "metadata": {
  "kernelspec": {
   "display_name": "Python 3",
   "language": "python",
   "name": "python3"
  },
  "language_info": {
   "codemirror_mode": {
    "name": "ipython",
    "version": 3
   },
   "file_extension": ".py",
   "mimetype": "text/x-python",
   "name": "python",
   "nbconvert_exporter": "python",
   "pygments_lexer": "ipython3",
   "version": "3.12.3"
  }
 },
 "nbformat": 4,
 "nbformat_minor": 2
}
