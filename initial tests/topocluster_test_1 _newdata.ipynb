{
 "cells": [
  {
   "cell_type": "code",
   "execution_count": 1,
   "metadata": {},
   "outputs": [],
   "source": [
    "import os\n",
    "import math\n",
    "import uproot\n",
    "import pandas as pd\n",
    "import numpy as np\n",
    "import matplotlib.pyplot as plt\n",
    "from utilities import *\n",
    "import math"
   ]
  },
  {
   "cell_type": "code",
   "execution_count": 8,
   "metadata": {},
   "outputs": [
    {
     "name": "stdout",
     "output_type": "stream",
     "text": [
      "(21701, 27) Index(['TOB_ET', 'TOB_eta', 'TOB_ieta', 'TOB_ietabin', 'TOB_phi',\n",
      "       'offline_ele_pt', 'offline_ele_eta', 'offline_ele_eta_cal',\n",
      "       'offline_ele_phi', 'offline_ele_phi_cal', 'eFEX_Clus_SCETs',\n",
      "       'legacy_ET', 'eFEX_ReC', 'eFEX_ReE', 'eFEX_RhE', 'eFEX_RhH', 'eFEX_WsN',\n",
      "       'eFEX_WsD', 'ID', 'SuperCell_ET', 'lumiBlock', 'averageMu',\n",
      "       'EventNumber', 'BDTScore', 'TopoCluster_ET', 'TopoCluster_eta',\n",
      "       'TopoCluster_phi'],\n",
      "      dtype='object')\n",
      "(371765, 26) Index(['TOB_ET', 'TOB_eta', 'TOB_ieta', 'TOB_ietabin', 'TOB_phi',\n",
      "       'offline_ele_pt', 'offline_ele_eta', 'offline_ele_eta_cal',\n",
      "       'offline_ele_phi', 'offline_ele_phi_cal', 'eFEX_Clus_ETs', 'legacy_ET',\n",
      "       'eFEX_ReC', 'eFEX_ReE', 'eFEX_RhE', 'eFEX_RhH', 'eFEX_WsN', 'eFEX_WsD',\n",
      "       'ID', 'SuperCell_ET', 'lumiBlock', 'averageMu', 'BDTScore',\n",
      "       'TopoCluster_ET', 'TopoCluster_eta', 'TopoCluster_phi'],\n",
      "      dtype='object')\n"
     ]
    }
   ],
   "source": [
    "Files= [\"l1calo_hist_ZB_EN.root\",\"l1calo_topocluster_test_Zee.root\"] # \"extended\" includes isolation vars and extended_new trigger decision\n",
    "DFs = []\n",
    "\n",
    "for i in range (0,len(Files)):\n",
    "  File = uproot.open(os.path.join(os.path.pardir, \"data\", Files[i]))\n",
    "  Tree = File[\"tree_DMC\"]\n",
    "  DFs.append(Tree.arrays(library=\"pd\"))\n",
    "  print (DFs[i].shape, DFs[i].columns)"
   ]
  },
  {
   "cell_type": "code",
   "execution_count": 5,
   "metadata": {},
   "outputs": [
    {
     "data": {
      "application/vnd.plotly.v1+json": {
       "config": {
        "plotlyServerURL": "https://plot.ly"
       },
       "data": [
        {
         "hovertemplate": "eta=%{x}<br>phi=%{y}<br>r=%{z}<br>value=%{marker.color}<extra></extra>",
         "legendgroup": "",
         "marker": {
          "color": [
           0,
           0,
           0,
           0,
           2.125,
           0,
           0,
           0,
           0,
           0,
           0,
           0,
           0,
           0,
           0,
           0.4749999940395355,
           0,
           0,
           0,
           0,
           0,
           0,
           0,
           0,
           0,
           0,
           1.274999976158142,
           4,
           1.024999976158142,
           0,
           0,
           0,
           0,
           0,
           0,
           0,
           0,
           0,
           0,
           0,
           0,
           0,
           0,
           0,
           0,
           0,
           0,
           0,
           0,
           1.774999976158142,
           2.575000047683716,
           1.1749999523162842,
           0,
           0,
           0,
           0,
           0,
           0,
           0,
           0,
           0,
           1.274999976158142,
           2.9749999046325684,
           10.050000190734863,
           1.5750000476837158,
           0,
           0,
           0,
           0,
           0,
           0,
           0,
           0,
           0,
           0,
           0,
           0,
           0,
           0,
           0,
           0,
           0,
           0,
           0,
           0,
           0,
           0,
           0,
           0,
           0,
           2,
           0,
           0,
           3,
           6.5,
           0,
           1.5,
           0,
           0
          ],
          "coloraxis": "coloraxis",
          "symbol": "circle"
         },
         "mode": "markers",
         "name": "",
         "scene": "scene",
         "showlegend": false,
         "type": "scatter3d",
         "x": [
          1.5,
          0,
          1,
          2,
          3,
          0,
          1,
          2,
          3,
          1.5,
          1.5,
          5.5,
          4,
          5,
          6,
          7,
          4,
          5,
          6,
          7,
          5.5,
          5.5,
          9.5,
          8,
          9,
          10,
          11,
          8,
          9,
          10,
          11,
          9.5,
          9.5,
          1.5,
          0,
          1,
          2,
          3,
          0,
          1,
          2,
          3,
          1.5,
          1.5,
          5.5,
          4,
          5,
          6,
          7,
          4,
          5,
          6,
          7,
          5.5,
          5.5,
          9.5,
          8,
          9,
          10,
          11,
          8,
          9,
          10,
          11,
          9.5,
          9.5,
          1.5,
          0,
          1,
          2,
          3,
          0,
          1,
          2,
          3,
          1.5,
          1.5,
          5.5,
          4,
          5,
          6,
          7,
          4,
          5,
          6,
          7,
          5.5,
          5.5,
          9.5,
          8,
          9,
          10,
          11,
          8,
          9,
          10,
          11,
          9.5,
          9.5
         ],
         "y": [
          0,
          0,
          0,
          0,
          0,
          0,
          0,
          0,
          0,
          0,
          0,
          0,
          0,
          0,
          0,
          0,
          0,
          0,
          0,
          0,
          0,
          0,
          0,
          0,
          0,
          0,
          0,
          0,
          0,
          0,
          0,
          0,
          0,
          1,
          1,
          1,
          1,
          1,
          1,
          1,
          1,
          1,
          1,
          1,
          1,
          1,
          1,
          1,
          1,
          1,
          1,
          1,
          1,
          1,
          1,
          1,
          1,
          1,
          1,
          1,
          1,
          1,
          1,
          1,
          1,
          1,
          2,
          2,
          2,
          2,
          2,
          2,
          2,
          2,
          2,
          2,
          2,
          2,
          2,
          2,
          2,
          2,
          2,
          2,
          2,
          2,
          2,
          2,
          2,
          2,
          2,
          2,
          2,
          2,
          2,
          2,
          2,
          2,
          2
         ],
         "z": [
          0,
          1,
          1,
          1,
          1,
          2,
          2,
          2,
          2,
          3,
          4,
          0,
          1,
          1,
          1,
          1,
          2,
          2,
          2,
          2,
          3,
          4,
          0,
          1,
          1,
          1,
          1,
          2,
          2,
          2,
          2,
          3,
          4,
          0,
          1,
          1,
          1,
          1,
          2,
          2,
          2,
          2,
          3,
          4,
          0,
          1,
          1,
          1,
          1,
          2,
          2,
          2,
          2,
          3,
          4,
          0,
          1,
          1,
          1,
          1,
          2,
          2,
          2,
          2,
          3,
          4,
          0,
          1,
          1,
          1,
          1,
          2,
          2,
          2,
          2,
          3,
          4,
          0,
          1,
          1,
          1,
          1,
          2,
          2,
          2,
          2,
          3,
          4,
          0,
          1,
          1,
          1,
          1,
          2,
          2,
          2,
          2,
          3,
          4
         ]
        }
       ],
       "layout": {
        "coloraxis": {
         "colorbar": {
          "title": {
           "text": "value"
          }
         },
         "colorscale": [
          [
           0,
           "#0d0887"
          ],
          [
           0.1111111111111111,
           "#46039f"
          ],
          [
           0.2222222222222222,
           "#7201a8"
          ],
          [
           0.3333333333333333,
           "#9c179e"
          ],
          [
           0.4444444444444444,
           "#bd3786"
          ],
          [
           0.5555555555555556,
           "#d8576b"
          ],
          [
           0.6666666666666666,
           "#ed7953"
          ],
          [
           0.7777777777777778,
           "#fb9f3a"
          ],
          [
           0.8888888888888888,
           "#fdca26"
          ],
          [
           1,
           "#f0f921"
          ]
         ]
        },
        "legend": {
         "tracegroupgap": 0
        },
        "margin": {
         "t": 60
        },
        "scene": {
         "domain": {
          "x": [
           0,
           1
          ],
          "y": [
           0,
           1
          ]
         },
         "xaxis": {
          "title": {
           "text": "eta"
          }
         },
         "yaxis": {
          "title": {
           "text": "phi"
          }
         },
         "zaxis": {
          "title": {
           "text": "r"
          }
         }
        },
        "template": {
         "data": {
          "bar": [
           {
            "error_x": {
             "color": "#2a3f5f"
            },
            "error_y": {
             "color": "#2a3f5f"
            },
            "marker": {
             "line": {
              "color": "#E5ECF6",
              "width": 0.5
             },
             "pattern": {
              "fillmode": "overlay",
              "size": 10,
              "solidity": 0.2
             }
            },
            "type": "bar"
           }
          ],
          "barpolar": [
           {
            "marker": {
             "line": {
              "color": "#E5ECF6",
              "width": 0.5
             },
             "pattern": {
              "fillmode": "overlay",
              "size": 10,
              "solidity": 0.2
             }
            },
            "type": "barpolar"
           }
          ],
          "carpet": [
           {
            "aaxis": {
             "endlinecolor": "#2a3f5f",
             "gridcolor": "white",
             "linecolor": "white",
             "minorgridcolor": "white",
             "startlinecolor": "#2a3f5f"
            },
            "baxis": {
             "endlinecolor": "#2a3f5f",
             "gridcolor": "white",
             "linecolor": "white",
             "minorgridcolor": "white",
             "startlinecolor": "#2a3f5f"
            },
            "type": "carpet"
           }
          ],
          "choropleth": [
           {
            "colorbar": {
             "outlinewidth": 0,
             "ticks": ""
            },
            "type": "choropleth"
           }
          ],
          "contour": [
           {
            "colorbar": {
             "outlinewidth": 0,
             "ticks": ""
            },
            "colorscale": [
             [
              0,
              "#0d0887"
             ],
             [
              0.1111111111111111,
              "#46039f"
             ],
             [
              0.2222222222222222,
              "#7201a8"
             ],
             [
              0.3333333333333333,
              "#9c179e"
             ],
             [
              0.4444444444444444,
              "#bd3786"
             ],
             [
              0.5555555555555556,
              "#d8576b"
             ],
             [
              0.6666666666666666,
              "#ed7953"
             ],
             [
              0.7777777777777778,
              "#fb9f3a"
             ],
             [
              0.8888888888888888,
              "#fdca26"
             ],
             [
              1,
              "#f0f921"
             ]
            ],
            "type": "contour"
           }
          ],
          "contourcarpet": [
           {
            "colorbar": {
             "outlinewidth": 0,
             "ticks": ""
            },
            "type": "contourcarpet"
           }
          ],
          "heatmap": [
           {
            "colorbar": {
             "outlinewidth": 0,
             "ticks": ""
            },
            "colorscale": [
             [
              0,
              "#0d0887"
             ],
             [
              0.1111111111111111,
              "#46039f"
             ],
             [
              0.2222222222222222,
              "#7201a8"
             ],
             [
              0.3333333333333333,
              "#9c179e"
             ],
             [
              0.4444444444444444,
              "#bd3786"
             ],
             [
              0.5555555555555556,
              "#d8576b"
             ],
             [
              0.6666666666666666,
              "#ed7953"
             ],
             [
              0.7777777777777778,
              "#fb9f3a"
             ],
             [
              0.8888888888888888,
              "#fdca26"
             ],
             [
              1,
              "#f0f921"
             ]
            ],
            "type": "heatmap"
           }
          ],
          "heatmapgl": [
           {
            "colorbar": {
             "outlinewidth": 0,
             "ticks": ""
            },
            "colorscale": [
             [
              0,
              "#0d0887"
             ],
             [
              0.1111111111111111,
              "#46039f"
             ],
             [
              0.2222222222222222,
              "#7201a8"
             ],
             [
              0.3333333333333333,
              "#9c179e"
             ],
             [
              0.4444444444444444,
              "#bd3786"
             ],
             [
              0.5555555555555556,
              "#d8576b"
             ],
             [
              0.6666666666666666,
              "#ed7953"
             ],
             [
              0.7777777777777778,
              "#fb9f3a"
             ],
             [
              0.8888888888888888,
              "#fdca26"
             ],
             [
              1,
              "#f0f921"
             ]
            ],
            "type": "heatmapgl"
           }
          ],
          "histogram": [
           {
            "marker": {
             "pattern": {
              "fillmode": "overlay",
              "size": 10,
              "solidity": 0.2
             }
            },
            "type": "histogram"
           }
          ],
          "histogram2d": [
           {
            "colorbar": {
             "outlinewidth": 0,
             "ticks": ""
            },
            "colorscale": [
             [
              0,
              "#0d0887"
             ],
             [
              0.1111111111111111,
              "#46039f"
             ],
             [
              0.2222222222222222,
              "#7201a8"
             ],
             [
              0.3333333333333333,
              "#9c179e"
             ],
             [
              0.4444444444444444,
              "#bd3786"
             ],
             [
              0.5555555555555556,
              "#d8576b"
             ],
             [
              0.6666666666666666,
              "#ed7953"
             ],
             [
              0.7777777777777778,
              "#fb9f3a"
             ],
             [
              0.8888888888888888,
              "#fdca26"
             ],
             [
              1,
              "#f0f921"
             ]
            ],
            "type": "histogram2d"
           }
          ],
          "histogram2dcontour": [
           {
            "colorbar": {
             "outlinewidth": 0,
             "ticks": ""
            },
            "colorscale": [
             [
              0,
              "#0d0887"
             ],
             [
              0.1111111111111111,
              "#46039f"
             ],
             [
              0.2222222222222222,
              "#7201a8"
             ],
             [
              0.3333333333333333,
              "#9c179e"
             ],
             [
              0.4444444444444444,
              "#bd3786"
             ],
             [
              0.5555555555555556,
              "#d8576b"
             ],
             [
              0.6666666666666666,
              "#ed7953"
             ],
             [
              0.7777777777777778,
              "#fb9f3a"
             ],
             [
              0.8888888888888888,
              "#fdca26"
             ],
             [
              1,
              "#f0f921"
             ]
            ],
            "type": "histogram2dcontour"
           }
          ],
          "mesh3d": [
           {
            "colorbar": {
             "outlinewidth": 0,
             "ticks": ""
            },
            "type": "mesh3d"
           }
          ],
          "parcoords": [
           {
            "line": {
             "colorbar": {
              "outlinewidth": 0,
              "ticks": ""
             }
            },
            "type": "parcoords"
           }
          ],
          "pie": [
           {
            "automargin": true,
            "type": "pie"
           }
          ],
          "scatter": [
           {
            "fillpattern": {
             "fillmode": "overlay",
             "size": 10,
             "solidity": 0.2
            },
            "type": "scatter"
           }
          ],
          "scatter3d": [
           {
            "line": {
             "colorbar": {
              "outlinewidth": 0,
              "ticks": ""
             }
            },
            "marker": {
             "colorbar": {
              "outlinewidth": 0,
              "ticks": ""
             }
            },
            "type": "scatter3d"
           }
          ],
          "scattercarpet": [
           {
            "marker": {
             "colorbar": {
              "outlinewidth": 0,
              "ticks": ""
             }
            },
            "type": "scattercarpet"
           }
          ],
          "scattergeo": [
           {
            "marker": {
             "colorbar": {
              "outlinewidth": 0,
              "ticks": ""
             }
            },
            "type": "scattergeo"
           }
          ],
          "scattergl": [
           {
            "marker": {
             "colorbar": {
              "outlinewidth": 0,
              "ticks": ""
             }
            },
            "type": "scattergl"
           }
          ],
          "scattermapbox": [
           {
            "marker": {
             "colorbar": {
              "outlinewidth": 0,
              "ticks": ""
             }
            },
            "type": "scattermapbox"
           }
          ],
          "scatterpolar": [
           {
            "marker": {
             "colorbar": {
              "outlinewidth": 0,
              "ticks": ""
             }
            },
            "type": "scatterpolar"
           }
          ],
          "scatterpolargl": [
           {
            "marker": {
             "colorbar": {
              "outlinewidth": 0,
              "ticks": ""
             }
            },
            "type": "scatterpolargl"
           }
          ],
          "scatterternary": [
           {
            "marker": {
             "colorbar": {
              "outlinewidth": 0,
              "ticks": ""
             }
            },
            "type": "scatterternary"
           }
          ],
          "surface": [
           {
            "colorbar": {
             "outlinewidth": 0,
             "ticks": ""
            },
            "colorscale": [
             [
              0,
              "#0d0887"
             ],
             [
              0.1111111111111111,
              "#46039f"
             ],
             [
              0.2222222222222222,
              "#7201a8"
             ],
             [
              0.3333333333333333,
              "#9c179e"
             ],
             [
              0.4444444444444444,
              "#bd3786"
             ],
             [
              0.5555555555555556,
              "#d8576b"
             ],
             [
              0.6666666666666666,
              "#ed7953"
             ],
             [
              0.7777777777777778,
              "#fb9f3a"
             ],
             [
              0.8888888888888888,
              "#fdca26"
             ],
             [
              1,
              "#f0f921"
             ]
            ],
            "type": "surface"
           }
          ],
          "table": [
           {
            "cells": {
             "fill": {
              "color": "#EBF0F8"
             },
             "line": {
              "color": "white"
             }
            },
            "header": {
             "fill": {
              "color": "#C8D4E3"
             },
             "line": {
              "color": "white"
             }
            },
            "type": "table"
           }
          ]
         },
         "layout": {
          "annotationdefaults": {
           "arrowcolor": "#2a3f5f",
           "arrowhead": 0,
           "arrowwidth": 1
          },
          "autotypenumbers": "strict",
          "coloraxis": {
           "colorbar": {
            "outlinewidth": 0,
            "ticks": ""
           }
          },
          "colorscale": {
           "diverging": [
            [
             0,
             "#8e0152"
            ],
            [
             0.1,
             "#c51b7d"
            ],
            [
             0.2,
             "#de77ae"
            ],
            [
             0.3,
             "#f1b6da"
            ],
            [
             0.4,
             "#fde0ef"
            ],
            [
             0.5,
             "#f7f7f7"
            ],
            [
             0.6,
             "#e6f5d0"
            ],
            [
             0.7,
             "#b8e186"
            ],
            [
             0.8,
             "#7fbc41"
            ],
            [
             0.9,
             "#4d9221"
            ],
            [
             1,
             "#276419"
            ]
           ],
           "sequential": [
            [
             0,
             "#0d0887"
            ],
            [
             0.1111111111111111,
             "#46039f"
            ],
            [
             0.2222222222222222,
             "#7201a8"
            ],
            [
             0.3333333333333333,
             "#9c179e"
            ],
            [
             0.4444444444444444,
             "#bd3786"
            ],
            [
             0.5555555555555556,
             "#d8576b"
            ],
            [
             0.6666666666666666,
             "#ed7953"
            ],
            [
             0.7777777777777778,
             "#fb9f3a"
            ],
            [
             0.8888888888888888,
             "#fdca26"
            ],
            [
             1,
             "#f0f921"
            ]
           ],
           "sequentialminus": [
            [
             0,
             "#0d0887"
            ],
            [
             0.1111111111111111,
             "#46039f"
            ],
            [
             0.2222222222222222,
             "#7201a8"
            ],
            [
             0.3333333333333333,
             "#9c179e"
            ],
            [
             0.4444444444444444,
             "#bd3786"
            ],
            [
             0.5555555555555556,
             "#d8576b"
            ],
            [
             0.6666666666666666,
             "#ed7953"
            ],
            [
             0.7777777777777778,
             "#fb9f3a"
            ],
            [
             0.8888888888888888,
             "#fdca26"
            ],
            [
             1,
             "#f0f921"
            ]
           ]
          },
          "colorway": [
           "#636efa",
           "#EF553B",
           "#00cc96",
           "#ab63fa",
           "#FFA15A",
           "#19d3f3",
           "#FF6692",
           "#B6E880",
           "#FF97FF",
           "#FECB52"
          ],
          "font": {
           "color": "#2a3f5f"
          },
          "geo": {
           "bgcolor": "white",
           "lakecolor": "white",
           "landcolor": "#E5ECF6",
           "showlakes": true,
           "showland": true,
           "subunitcolor": "white"
          },
          "hoverlabel": {
           "align": "left"
          },
          "hovermode": "closest",
          "mapbox": {
           "style": "light"
          },
          "paper_bgcolor": "white",
          "plot_bgcolor": "#E5ECF6",
          "polar": {
           "angularaxis": {
            "gridcolor": "white",
            "linecolor": "white",
            "ticks": ""
           },
           "bgcolor": "#E5ECF6",
           "radialaxis": {
            "gridcolor": "white",
            "linecolor": "white",
            "ticks": ""
           }
          },
          "scene": {
           "xaxis": {
            "backgroundcolor": "#E5ECF6",
            "gridcolor": "white",
            "gridwidth": 2,
            "linecolor": "white",
            "showbackground": true,
            "ticks": "",
            "zerolinecolor": "white"
           },
           "yaxis": {
            "backgroundcolor": "#E5ECF6",
            "gridcolor": "white",
            "gridwidth": 2,
            "linecolor": "white",
            "showbackground": true,
            "ticks": "",
            "zerolinecolor": "white"
           },
           "zaxis": {
            "backgroundcolor": "#E5ECF6",
            "gridcolor": "white",
            "gridwidth": 2,
            "linecolor": "white",
            "showbackground": true,
            "ticks": "",
            "zerolinecolor": "white"
           }
          },
          "shapedefaults": {
           "line": {
            "color": "#2a3f5f"
           }
          },
          "ternary": {
           "aaxis": {
            "gridcolor": "white",
            "linecolor": "white",
            "ticks": ""
           },
           "baxis": {
            "gridcolor": "white",
            "linecolor": "white",
            "ticks": ""
           },
           "bgcolor": "#E5ECF6",
           "caxis": {
            "gridcolor": "white",
            "linecolor": "white",
            "ticks": ""
           }
          },
          "title": {
           "x": 0.05
          },
          "xaxis": {
           "automargin": true,
           "gridcolor": "white",
           "linecolor": "white",
           "ticks": "",
           "title": {
            "standoff": 15
           },
           "zerolinecolor": "white",
           "zerolinewidth": 2
          },
          "yaxis": {
           "automargin": true,
           "gridcolor": "white",
           "linecolor": "white",
           "ticks": "",
           "title": {
            "standoff": 15
           },
           "zerolinecolor": "white",
           "zerolinewidth": 2
          }
         }
        }
       }
      }
     },
     "metadata": {},
     "output_type": "display_data"
    },
    {
     "name": "stdout",
     "output_type": "stream",
     "text": [
      "28.9\n",
      "-0.4375\n",
      "1.030835\n",
      "[4.6e+04, 2.02e+04, 5.46e+03, 4.68e+03, 1.45e+03, 1.22e+03, 943] 7 * float32\n",
      "[-0.469, -0.478, -0.656, -0.615, -0.582, -0.459, -0.511]\n",
      "[1.04, 0.967, 0.982, 1.02, 0.816, 1.26, 0.841]\n"
     ]
    }
   ],
   "source": [
    "entry = DFs[0].loc[31]\n",
    "\n",
    "TOB_ET = entry[\"TOB_ET\"]\n",
    "TOB_eta = entry[\"TOB_eta\"]\n",
    "TOB_phi = entry[\"TOB_phi\"]\n",
    "TopoCluster_ET = entry[\"TopoCluster_ET\"]\n",
    "TopoCluster_eta = entry[\"TopoCluster_eta\"]\n",
    "TopoCluster_phi = entry[\"TopoCluster_phi\"]\n",
    "SuperCell_ET = entry[\"SuperCell_ET\"]\n",
    "\n",
    "visualise_ROI(SuperCell_ET)\n",
    "print(TOB_ET)\n",
    "print(TOB_eta)\n",
    "print(TOB_phi)\n",
    "print(TopoCluster_ET, TopoCluster_ET.type)\n",
    "print(TopoCluster_eta)\n",
    "print(TopoCluster_phi)"
   ]
  },
  {
   "cell_type": "code",
   "execution_count": null,
   "metadata": {},
   "outputs": [],
   "source": []
  },
  {
   "cell_type": "code",
   "execution_count": 33,
   "metadata": {},
   "outputs": [
    {
     "name": "stdout",
     "output_type": "stream",
     "text": [
      "topocluster_distances {0: 0.03181577904342365, 1: 0.07591069511740935, 2: 0.22357039434248396, 3: 0.17820837930427952, 4: 0.25844355136747194, 5: 0.22557045524280056, 6: 0.20345777066347168}\n",
      "n_closest {0: 0.03181577904342365, 1: 0.07591069511740935, 3: 0.17820837930427952}\n",
      "topocluster_indecies_within_threashold {0: 0.03181577904342365, 1: 0.07591069511740935, 3: 0.17820837930427952}\n"
     ]
    }
   ],
   "source": [
    "# calculating euclidean distance between phi and eta coordinates\n",
    "topocluster_distances = {}\n",
    "topocluster_indecies_within_threashold = {}\n",
    "topocluster_distance_threashold = 0.2\n",
    "topocluster_num_threashold = 1\n",
    "for i in range(len(TopoCluster_ET)):\n",
    "    topocluster_distance = math.sqrt((TopoCluster_eta[i]-TOB_eta)**2+(TopoCluster_phi[i]-TOB_phi)**2)\n",
    "    topocluster_distances[i] = topocluster_distance\n",
    "    if topocluster_distance <= topocluster_distance_threashold:\n",
    "        topocluster_indecies_within_threashold[i] = topocluster_distance\n",
    "n_closest_topoclusters = sorted(topocluster_distances.items(), key=lambda item: item[1])[0:topocluster_num_threashold]\n",
    "\n",
    "\n",
    "print(\"topocluster_distances\",topocluster_distances)\n",
    "print(\"n_closest\",topocluster_indecies_within_threashold)\n",
    "\n",
    "print(\"topocluster_indecies_within_threashold\",topocluster_indecies_within_threashold)"
   ]
  },
  {
   "cell_type": "code",
   "execution_count": 3,
   "metadata": {},
   "outputs": [
    {
     "name": "stdout",
     "output_type": "stream",
     "text": [
      "Number of rows with no non-zero elements: 8\n",
      "Maximum number of non-zero elements in any row: 27\n"
     ]
    },
    {
     "data": {
      "image/png": "[encoded data removed]",
      "text/plain": [
       "<Figure size 800x600 with 1 Axes>"
      ]
     },
     "metadata": {},
     "output_type": "display_data"
    }
   ],
   "source": [
    "df= DFs[1]\n",
    "list_lengths = df[\"TopoCluster_ET\"].apply(lambda x: np.count_nonzero(x))\n",
    "\n",
    "no_non_zero_count = df[\"TopoCluster_ET\"].apply(lambda x: np.count_nonzero(x) == 0).sum()\n",
    "\n",
    "print(f\"Number of rows with no non-zero elements: {no_non_zero_count}\")\n",
    "\n",
    "max_non_zero = df[\"TopoCluster_ET\"].apply(np.count_nonzero).max()\n",
    "\n",
    "print(f\"Maximum number of non-zero elements in any row: {max_non_zero}\")\n",
    "\n",
    "# Create a histogram\n",
    "plt.figure(figsize=(8, 6))\n",
    "plt.hist(list_lengths, bins=range(min(list_lengths), max(list_lengths) + 2), edgecolor=\"black\", align=\"left\")\n",
    "plt.title(\"Histogram of Non-Zero Elements in 'TopoCluster_ET' Column\")\n",
    "plt.xlabel(\"Number of Non-Zero Elements\")\n",
    "plt.ylabel(\"Frequency\")\n",
    "plt.grid(axis='y', alpha=0.75)\n",
    "plt.show()"
   ]
  },
  {
   "cell_type": "code",
   "execution_count": 9,
   "metadata": {},
   "outputs": [],
   "source": [
    "def truncate_or_pad(arr, target_length=6):\n",
    "    # Truncate if longer than target length\n",
    "    if len(arr) > target_length:\n",
    "        return arr[:target_length]\n",
    "    # Pad with zeros if shorter\n",
    "    elif len(arr) < target_length:\n",
    "        return np.pad(arr, (0, target_length - len(arr)), constant_values=0)\n",
    "    # Return as is if length matches\n",
    "    else:\n",
    "        return arr"
   ]
  },
  {
   "cell_type": "code",
   "execution_count": 12,
   "metadata": {},
   "outputs": [
    {
     "name": "stdout",
     "output_type": "stream",
     "text": [
      "0    [33036.92578125, 706.2421875, 597.178161621093...\n",
      "1    [37917.5390625, 1577.3807373046875, 757.399230...\n",
      "2    [28215.45703125, 6086.505859375, 1296.21374511...\n",
      "3    [41567.47265625, 3781.7685546875, 3098.0512695...\n",
      "4    [35634.875, 6042.32568359375, 2174.47143554687...\n",
      "Name: TopoCluster_ET_training, dtype: object\n"
     ]
    }
   ],
   "source": [
    "df[\"TopoCluster_ET_training\"] = df[\"TopoCluster_ET\"].apply(lambda x: truncate_or_pad(x, target_length=6))\n",
    "print(df[\"TopoCluster_ET_training\"].head())"
   ]
  },
  {
   "cell_type": "code",
   "execution_count": 11,
   "metadata": {},
   "outputs": [
    {
     "name": "stdout",
     "output_type": "stream",
     "text": [
      "Number of rows with no non-zero elements: 8\n",
      "Maximum number of non-zero elements in any row: 6\n"
     ]
    },
    {
     "data": {
      "image/png": "[encoded data removed]",
      "text/plain": [
       "<Figure size 800x600 with 1 Axes>"
      ]
     },
     "metadata": {},
     "output_type": "display_data"
    }
   ],
   "source": [
    "list_lengths = df[\"TopoCluster_ET_training\"].apply(lambda x: np.count_nonzero(x))\n",
    "\n",
    "no_non_zero_count = df[\"TopoCluster_ET_training\"].apply(lambda x: np.count_nonzero(x) == 0).sum()\n",
    "\n",
    "print(f\"Number of rows with no non-zero elements: {no_non_zero_count}\")\n",
    "\n",
    "max_non_zero = df[\"TopoCluster_ET_training\"].apply(np.count_nonzero).max()\n",
    "\n",
    "print(f\"Maximum number of non-zero elements in any row: {max_non_zero}\")\n",
    "\n",
    "# Create a histogram\n",
    "plt.figure(figsize=(8, 6))\n",
    "plt.hist(list_lengths, bins=range(min(list_lengths), max(list_lengths) + 2), edgecolor=\"black\", align=\"left\")\n",
    "plt.title(\"Histogram of Non-Zero Elements in 'TopoCluster_ET_training' Column\")\n",
    "plt.xlabel(\"Number of Non-Zero Elements\")\n",
    "plt.ylabel(\"Frequency\")\n",
    "plt.grid(axis='y', alpha=0.75)\n",
    "plt.show()"
   ]
  },
  {
   "cell_type": "code",
   "execution_count": 24,
   "metadata": {},
   "outputs": [],
   "source": [
    "def calculate_topo_barycentre(TopoCluster_ETs,TopoCluster_etas,TopoCluster_phis):\n",
    "    barycentre = [0,0]\n",
    "    ET_total = sum(TopoCluster_ETs)\n",
    "    barycentre[0] = sum(x * m for x, m in zip(TopoCluster_etas, TopoCluster_ETs)) / ET_total\n",
    "    barycentre[1] = sum(y * m for y, m in zip(TopoCluster_phis, TopoCluster_ETs)) / ET_total\n",
    "    return barycentre\n"
   ]
  },
  {
   "cell_type": "code",
   "execution_count": 25,
   "metadata": {},
   "outputs": [],
   "source": [
    "def get_distances_to_barycentre(barycentre,TopoCluster_ETs,TopoCluster_etas,TopoCluster_phis):\n",
    "    topocluster_distances = [0 for i in range(len(TopoCluster_ETs))]\n",
    "    for i in range(len(TopoCluster_ETs)):\n",
    "        topocluster_distance = math.sqrt((TopoCluster_etas[i]-barycentre[0])**2+(TopoCluster_phis[i]-barycentre[1])**2)\n",
    "        topocluster_distances[i] = topocluster_distance\n",
    "    return topocluster_distances"
   ]
  },
  {
   "cell_type": "code",
   "execution_count": 40,
   "metadata": {},
   "outputs": [],
   "source": [
    "def get_ET_distribution(distance_boundaries,topocluster_distances,TopoCluster_ETs):\n",
    "    lower_boundry = 0\n",
    "    topocluster_ET_distribution = [0 for i in range(len(distance_boundaries))]\n",
    "    for i, upper_boundry in enumerate(distance_boundaries):\n",
    "        for j, topocluster_distance in enumerate(topocluster_distances):\n",
    "            if topocluster_distance > lower_boundry and topocluster_distance <= upper_boundry:\n",
    "                topocluster_ET_distribution[i] += TopoCluster_ETs[j]\n",
    "        lower_boundry = upper_boundry\n",
    "    return np.array(topocluster_ET_distribution)\n",
    "        "
   ]
  },
  {
   "cell_type": "code",
   "execution_count": 41,
   "metadata": {},
   "outputs": [
    {
     "name": "stdout",
     "output_type": "stream",
     "text": [
      "28.9\n",
      "-0.4375\n",
      "1.030835\n",
      "[4.6e+04, 2.02e+04, 5.46e+03, 4.68e+03, 1.45e+03, 1.22e+03, 943] 7 * float32\n",
      "[-0.469, -0.478, -0.656, -0.615, -0.582, -0.459, -0.511]\n",
      "[1.04, 0.967, 0.982, 1.02, 0.816, 1.26, 0.841]\n",
      "[np.float32(-0.4948953), np.float32(1.0110786)]\n",
      "[0.036328792694067566, 0.04741035904094105, 0.1633894203847879, 0.1206674416582314, 0.2132046771665708, 0.24701509122460863, 0.17073943234299813]\n",
      "[66232.84375    11080.90234375  2668.6081543      0.        ]\n"
     ]
    }
   ],
   "source": [
    "distance_boundaries = [0.1,0.2,0.3,0.4]\n",
    "\n",
    "\n",
    "entry = DFs[0].loc[31]\n",
    "TOB_ETs = entry[\"TOB_ET\"]\n",
    "TOB_etas = entry[\"TOB_eta\"]\n",
    "TOB_phis = entry[\"TOB_phi\"]\n",
    "TopoCluster_ETs = entry[\"TopoCluster_ET\"]\n",
    "TopoCluster_etas = entry[\"TopoCluster_eta\"]\n",
    "TopoCluster_phis = entry[\"TopoCluster_phi\"]\n",
    "\n",
    "print(TOB_ET)\n",
    "print(TOB_eta)\n",
    "print(TOB_phi)\n",
    "print(TopoCluster_ETs, TopoCluster_ET.type)\n",
    "print(TopoCluster_etas)\n",
    "print(TopoCluster_phis)\n",
    "\n",
    "barycentre = calculate_topo_barycentre(TopoCluster_ETs,TopoCluster_etas,TopoCluster_phis)\n",
    "topocluster_distances = get_distances_to_barycentre(barycentre,TopoCluster_ETs,TopoCluster_etas,TopoCluster_phis)\n",
    "topocluster_ET_distribution = get_ET_distribution(distance_boundaries,topocluster_distances,TopoCluster_ETs)\n",
    "\n",
    "print(barycentre)\n",
    "print(topocluster_distances)\n",
    "print(topocluster_ET_distribution)"
   ]
  },
  {
   "cell_type": "code",
   "execution_count": null,
   "metadata": {},
   "outputs": [],
   "source": [
    "ET_distributions = [None for i in range(DFs[0].shape[0])]\n",
    "for i in range(DFs[0].shape[0]):\n",
    "    entry = DFs[0].loc[i]\n",
    "    TopoCluster_ETs = entry[\"TopoCluster_ET\"]\n",
    "    TopoCluster_etas = entry[\"TopoCluster_eta\"]\n",
    "    TopoCluster_phis = entry[\"TopoCluster_phi\"]\n",
    "    barycentre = calculate_topo_barycentre(TopoCluster_ETs,TopoCluster_etas,TopoCluster_phis)\n",
    "    topocluster_distances = get_distances_to_barycentre(barycentre,TopoCluster_ETs,TopoCluster_etas,TopoCluster_phis)\n",
    "    ET_distributions[i] = get_ET_distribution(distance_boundaries,topocluster_distances,TopoCluster_ETs)\n",
    "    \n",
    "DFs[0][\"ET_distributions\"] = ET_distributions\n",
    "\n",
    "\n"
   ]
  },
  {
   "cell_type": "code",
   "execution_count": 4,
   "metadata": {},
   "outputs": [
    {
     "name": "stdout",
     "output_type": "stream",
     "text": [
      "preprepared data in ..\\data\\topocluster_test_Z_EN is missing, preparing and saving here\n",
      "attempting to generate topo training data\n",
      "0.0 %\n",
      "0.3 %\n",
      "0.5 %\n",
      "0.8 %\n",
      "1.1 %\n",
      "1.3 %\n",
      "1.6 %\n",
      "1.9 %\n",
      "2.2 %\n",
      "2.4 %\n",
      "2.7 %\n",
      "3.0 %\n",
      "3.2 %\n",
      "3.5 %\n",
      "3.8 %\n",
      "4.0 %\n",
      "4.3 %\n",
      "4.6 %\n",
      "4.8 %\n",
      "5.1 %\n",
      "5.4 %\n",
      "5.6 %\n",
      "5.9 %\n",
      "6.2 %\n",
      "6.5 %\n",
      "6.7 %\n",
      "7.0 %\n",
      "7.3 %\n",
      "7.5 %\n",
      "7.8 %\n",
      "8.1 %\n",
      "8.3 %\n",
      "8.6 %\n",
      "8.9 %\n",
      "9.1 %\n",
      "9.4 %\n",
      "9.7 %\n",
      "10.0 %\n",
      "10.2 %\n",
      "10.5 %\n",
      "10.8 %\n",
      "11.0 %\n",
      "11.3 %\n",
      "11.6 %\n",
      "11.8 %\n",
      "12.1 %\n",
      "12.4 %\n",
      "12.6 %\n",
      "12.9 %\n",
      "13.2 %\n",
      "13.4 %\n",
      "13.7 %\n",
      "14.0 %\n",
      "14.3 %\n",
      "14.5 %\n",
      "14.8 %\n",
      "15.1 %\n",
      "15.3 %\n",
      "15.6 %\n",
      "15.9 %\n",
      "16.1 %\n",
      "16.4 %\n",
      "16.7 %\n",
      "16.9 %\n",
      "17.2 %\n",
      "17.5 %\n",
      "17.8 %\n",
      "18.0 %\n",
      "18.3 %\n",
      "18.6 %\n",
      "18.8 %\n",
      "19.1 %\n",
      "19.4 %\n",
      "19.6 %\n",
      "19.9 %\n",
      "20.2 %\n",
      "20.4 %\n",
      "20.7 %\n",
      "21.0 %\n",
      "21.2 %\n",
      "21.5 %\n",
      "21.8 %\n",
      "22.1 %\n",
      "22.3 %\n",
      "22.6 %\n",
      "22.9 %\n",
      "23.1 %\n",
      "23.4 %\n",
      "23.7 %\n",
      "23.9 %\n",
      "24.2 %\n",
      "24.5 %\n",
      "24.7 %\n",
      "25.0 %\n",
      "25.3 %\n",
      "25.6 %\n",
      "25.8 %\n",
      "26.1 %\n",
      "26.4 %\n",
      "26.6 %\n",
      "26.9 %\n",
      "27.2 %\n",
      "27.4 %\n",
      "27.7 %\n",
      "28.0 %\n",
      "28.2 %\n",
      "28.5 %\n",
      "28.8 %\n",
      "29.1 %\n",
      "29.3 %\n",
      "29.6 %\n",
      "29.9 %\n",
      "30.1 %\n",
      "30.4 %\n",
      "30.7 %\n",
      "30.9 %\n",
      "31.2 %\n",
      "31.5 %\n",
      "31.7 %\n",
      "32.0 %\n",
      "32.3 %\n",
      "32.5 %\n",
      "32.8 %\n",
      "33.1 %\n",
      "33.4 %\n",
      "33.6 %\n",
      "33.9 %\n",
      "34.2 %\n",
      "34.4 %\n",
      "34.7 %\n",
      "35.0 %\n",
      "35.2 %\n",
      "35.5 %\n",
      "35.8 %\n",
      "36.0 %\n",
      "36.3 %\n",
      "36.6 %\n",
      "36.9 %\n",
      "37.1 %\n",
      "37.4 %\n",
      "37.7 %\n",
      "37.9 %\n",
      "38.2 %\n",
      "38.5 %\n",
      "38.7 %\n",
      "39.0 %\n",
      "39.3 %\n",
      "39.5 %\n",
      "39.8 %\n",
      "40.1 %\n",
      "40.3 %\n",
      "40.6 %\n",
      "40.9 %\n",
      "41.2 %\n",
      "41.4 %\n",
      "41.7 %\n",
      "42.0 %\n",
      "42.2 %\n",
      "42.5 %\n",
      "42.8 %\n",
      "43.0 %\n",
      "43.3 %\n",
      "43.6 %\n",
      "43.8 %\n",
      "44.1 %\n",
      "44.4 %\n",
      "44.7 %\n",
      "44.9 %\n",
      "45.2 %\n",
      "45.5 %\n",
      "45.7 %\n",
      "46.0 %\n",
      "46.3 %\n",
      "46.5 %\n",
      "46.8 %\n",
      "47.1 %\n",
      "47.3 %\n",
      "47.6 %\n",
      "47.9 %\n",
      "48.1 %\n",
      "48.4 %\n",
      "48.7 %\n",
      "49.0 %\n",
      "49.2 %\n",
      "49.5 %\n",
      "49.8 %\n",
      "50.0 %\n",
      "50.3 %\n",
      "50.6 %\n",
      "50.8 %\n",
      "51.1 %\n",
      "51.4 %\n",
      "51.6 %\n",
      "51.9 %\n",
      "52.2 %\n",
      "52.5 %\n",
      "52.7 %\n",
      "53.0 %\n",
      "53.3 %\n",
      "53.5 %\n",
      "53.8 %\n",
      "54.1 %\n",
      "54.3 %\n",
      "54.6 %\n",
      "54.9 %\n",
      "55.1 %\n",
      "55.4 %\n",
      "55.7 %\n",
      "55.9 %\n",
      "56.2 %\n",
      "56.5 %\n",
      "56.8 %\n",
      "57.0 %\n",
      "57.3 %\n",
      "57.6 %\n",
      "57.8 %\n",
      "58.1 %\n",
      "58.4 %\n",
      "58.6 %\n",
      "58.9 %\n",
      "59.2 %\n",
      "59.4 %\n",
      "59.7 %\n",
      "60.0 %\n",
      "60.3 %\n",
      "60.5 %\n",
      "60.8 %\n",
      "61.1 %\n",
      "61.3 %\n",
      "61.6 %\n",
      "61.9 %\n",
      "62.1 %\n",
      "62.4 %\n",
      "62.7 %\n",
      "62.9 %\n",
      "63.2 %\n",
      "63.5 %\n",
      "63.7 %\n",
      "64.0 %\n",
      "64.3 %\n",
      "64.6 %\n",
      "64.8 %\n",
      "65.1 %\n",
      "65.4 %\n",
      "65.6 %\n",
      "65.9 %\n",
      "66.2 %\n",
      "66.4 %\n",
      "66.7 %\n",
      "67.0 %\n",
      "67.2 %\n",
      "67.5 %\n",
      "67.8 %\n",
      "68.1 %\n",
      "68.3 %\n",
      "68.6 %\n",
      "68.9 %\n",
      "69.1 %\n",
      "69.4 %\n",
      "69.7 %\n",
      "69.9 %\n",
      "70.2 %\n",
      "70.5 %\n",
      "70.7 %\n",
      "71.0 %\n",
      "71.3 %\n",
      "71.6 %\n",
      "71.8 %\n",
      "72.1 %\n",
      "72.4 %\n",
      "72.6 %\n",
      "72.9 %\n",
      "73.2 %\n",
      "73.4 %\n",
      "73.7 %\n",
      "74.0 %\n",
      "74.2 %\n",
      "74.5 %\n",
      "74.8 %\n",
      "75.0 %\n",
      "75.3 %\n",
      "75.6 %\n",
      "75.9 %\n",
      "76.1 %\n",
      "76.4 %\n",
      "76.7 %\n",
      "76.9 %\n",
      "77.2 %\n",
      "77.5 %\n",
      "77.7 %\n",
      "78.0 %\n",
      "78.3 %\n",
      "78.5 %\n",
      "78.8 %\n",
      "79.1 %\n",
      "79.4 %\n",
      "79.6 %\n",
      "79.9 %\n",
      "80.2 %\n",
      "80.4 %\n",
      "80.7 %\n",
      "81.0 %\n",
      "81.2 %\n",
      "81.5 %\n",
      "81.8 %\n",
      "82.0 %\n",
      "82.3 %\n",
      "82.6 %\n",
      "82.8 %\n",
      "83.1 %\n",
      "83.4 %\n",
      "83.7 %\n",
      "83.9 %\n",
      "84.2 %\n",
      "84.5 %\n",
      "84.7 %\n",
      "85.0 %\n",
      "85.3 %\n",
      "85.5 %\n",
      "85.8 %\n",
      "86.1 %\n",
      "86.3 %\n",
      "86.6 %\n",
      "86.9 %\n",
      "87.2 %\n",
      "87.4 %\n",
      "87.7 %\n",
      "88.0 %\n",
      "88.2 %\n",
      "88.5 %\n",
      "88.8 %\n",
      "89.0 %\n",
      "89.3 %\n",
      "89.6 %\n",
      "89.8 %\n",
      "90.1 %\n",
      "90.4 %\n",
      "90.6 %\n",
      "90.9 %\n",
      "91.2 %\n",
      "91.5 %\n",
      "91.7 %\n",
      "92.0 %\n",
      "92.3 %\n",
      "92.5 %\n",
      "92.8 %\n",
      "93.1 %\n",
      "93.3 %\n",
      "93.6 %\n",
      "93.9 %\n",
      "94.1 %\n",
      "94.4 %\n",
      "94.7 %\n",
      "95.0 %\n",
      "95.2 %\n",
      "95.5 %\n",
      "95.8 %\n",
      "96.0 %\n",
      "96.3 %\n",
      "96.6 %\n",
      "96.8 %\n",
      "97.1 %\n",
      "97.4 %\n",
      "97.6 %\n",
      "97.9 %\n",
      "98.2 %\n",
      "98.4 %\n",
      "98.7 %\n",
      "99.0 %\n",
      "99.3 %\n",
      "99.5 %\n",
      "99.8 %\n",
      "0.0 %\n",
      "4.6 %\n",
      "9.2 %\n",
      "13.8 %\n",
      "18.4 %\n",
      "23.0 %\n",
      "27.6 %\n",
      "32.3 %\n",
      "36.9 %\n",
      "41.5 %\n",
      "46.1 %\n",
      "50.7 %\n",
      "55.3 %\n",
      "59.9 %\n",
      "64.5 %\n",
      "69.1 %\n",
      "73.7 %\n",
      "78.3 %\n",
      "82.9 %\n",
      "87.6 %\n",
      "92.2 %\n",
      "96.8 %\n"
     ]
    }
   ],
   "source": [
    "X_train, X_test, y_train, y_test, pd_passthrough_train, pd_passthrough_test = prepare_data(accept_data_filename=\"l1calo_topocluster_test_Zee.root\", reject_data_filename=\"l1calo_hist_ZB_EN.root\", data_subdir=\"topocluster_test_Z_EN\", format_mode=\"topocluster_ET_boundaries\")"
   ]
  },
  {
   "cell_type": "code",
   "execution_count": 5,
   "metadata": {},
   "outputs": [
    {
     "name": "stdout",
     "output_type": "stream",
     "text": [
      "Evaluation of hinge\n",
      "Accuracy: 0.96078481\n",
      "Recall: 0.98200210\n",
      "Precision: 0.97661601\n",
      "F1 Score: 0.97930165\n",
      "Confusion Matrix:\n",
      " [[ 2604  1748]\n",
      " [ 1338 73004]]\n"
     ]
    }
   ],
   "source": [
    "from sklearn.linear_model import SGDClassifier\n",
    "hinge_sgd_clf = SGDClassifier(loss=\"hinge\", max_iter=10000, tol=1e-3, random_state=42, learning_rate=\"adaptive\",eta0=0.1)\n",
    "hinge_sgd_clf.fit(X_train, y_train)\n",
    "y_pred_hinge = hinge_sgd_clf.predict(X_test)\n",
    "pd_passthrough_test[\"pred_hinge\"] = y_pred_hinge\n",
    "evaluate_sklearn_model(y_test, y_pred_hinge, show_CR=False, show_MSE=False, model_name=\"hinge\")\n",
    "\n"
   ]
  },
  {
   "cell_type": "code",
   "execution_count": 6,
   "metadata": {},
   "outputs": [
    {
     "name": "stdout",
     "output_type": "stream",
     "text": [
      "Evaluation of hinge\n",
      "Accuracy: 0.89286350\n",
      "Recall: 0.89947809\n",
      "Precision: 0.98587583\n",
      "F1 Score: 0.94069734\n",
      "Confusion Matrix:\n",
      " [[ 3394   958]\n",
      " [ 7473 66869]]\n"
     ]
    }
   ],
   "source": [
    "#With Sample Weights\n",
    "from sklearn.utils.class_weight import compute_sample_weight\n",
    "sample_weights = compute_sample_weight(\"balanced\", y_train)\n",
    "hinge_sgd_clfw = SGDClassifier(loss=\"hinge\", max_iter=10000, tol=1e-3, random_state=42, learning_rate=\"adaptive\",eta0=0.1)\n",
    "hinge_sgd_clfw.fit(X_train, y_train, sample_weight=sample_weights)\n",
    "y_pred_hingew = hinge_sgd_clfw.predict(X_test)\n",
    "pd_passthrough_test[\"pred_hinge\"] = y_pred_hingew\n",
    "evaluate_sklearn_model(y_test, y_pred_hingew, show_CR=False, show_MSE=False, model_name=\"hinge\")\n"
   ]
  },
  {
   "cell_type": "code",
   "execution_count": 7,
   "metadata": {},
   "outputs": [
    {
     "data": {
      "image/png": "[encoded data removed]",
      "text/plain": [
       "<Figure size 1000x1000 with 1 Axes>"
      ]
     },
     "metadata": {},
     "output_type": "display_data"
    },
    {
     "data": {
      "image/png": "[encoded data removed]",
      "text/plain": [
       "<Figure size 640x480 with 1 Axes>"
      ]
     },
     "metadata": {},
     "output_type": "display_data"
    },
    {
     "data": {
      "image/png": "[encoded data removed]",
      "text/plain": [
       "<Figure size 640x480 with 1 Axes>"
      ]
     },
     "metadata": {},
     "output_type": "display_data"
    },
    {
     "data": {
      "image/png": "[encoded data removed]",
      "text/plain": [
       "<Figure size 640x480 with 1 Axes>"
      ]
     },
     "metadata": {},
     "output_type": "display_data"
    }
   ],
   "source": [
    "multi_roc({\"Unweighted Topo\":hinge_sgd_clf,\"Weighted topo\":hinge_sgd_clfw}, X_test, y_test)\n",
    "\n",
    "precision_recall(hinge_sgd_clf, X_test, y_test)\n",
    "fpr, tpr, roc_auc = compute_roc(hinge_sgd_clf, X_test, y_test)\n",
    "plot_roc(fpr, tpr, roc_auc)\n",
    "fpr, tpr, roc_auc = compute_roc(hinge_sgd_clfw, X_test, y_test)\n",
    "plot_roc(fpr, tpr, roc_auc)"
   ]
  },
  {
   "cell_type": "code",
   "execution_count": 18,
   "metadata": {},
   "outputs": [
    {
     "name": "stdout",
     "output_type": "stream",
     "text": [
      "Evaluation of svm\n",
      "Accuracy: 0.9973\n",
      "Confusion Matrix:\n",
      " [[   30   197]\n",
      " [    3 74355]]\n"
     ]
    }
   ],
   "source": [
    "from sklearn.svm import SVC\n",
    "svm_clf = SVC(kernel='rbf', C=1.0, gamma='scale', random_state=42)\n",
    "svm_clf.fit(X_train, y_train)\n",
    "y_pred = svm_clf.predict(X_test)\n",
    "pd_passthrough_test[\"pred_\"] = y_pred\n",
    "evaluate_sklearn_model(y_test, y_pred, show_CR=False, show_MSE=False, model_name=\"svm\")"
   ]
  },
  {
   "cell_type": "code",
   "execution_count": 19,
   "metadata": {},
   "outputs": [
    {
     "name": "stdout",
     "output_type": "stream",
     "text": [
      "Evaluation of svm w\n",
      "Accuracy: 0.9311\n",
      "Confusion Matrix:\n",
      " [[  172    55]\n",
      " [ 5082 69276]]\n"
     ]
    }
   ],
   "source": [
    "#With Sample Weights\n",
    "from sklearn.utils.class_weight import compute_sample_weight\n",
    "sample_weights = compute_sample_weight(\"balanced\", y_train)\n",
    "svm_clfw = SVC(kernel='rbf', C=1.0, gamma='scale', random_state=42)\n",
    "svm_clfw.fit(X_train, y_train, sample_weight=sample_weights)\n",
    "y_pred_w = svm_clfw.predict(X_test)\n",
    "pd_passthrough_test[\"pred_w\"] = y_pred_w\n",
    "evaluate_sklearn_model(y_test, y_pred_w, show_CR=False, show_MSE=False, model_name=\"svm w\")\n"
   ]
  },
  {
   "cell_type": "code",
   "execution_count": 20,
   "metadata": {},
   "outputs": [
    {
     "data": {
      "image/png": "[encoded data removed]",
      "text/plain": [
       "<Figure size 1000x1000 with 1 Axes>"
      ]
     },
     "metadata": {},
     "output_type": "display_data"
    },
    {
     "data": {
      "image/png": "[encoded data removed]",
      "text/plain": [
       "<Figure size 640x480 with 1 Axes>"
      ]
     },
     "metadata": {},
     "output_type": "display_data"
    },
    {
     "data": {
      "image/png": "[encoded data removed]",
      "text/plain": [
       "<Figure size 640x480 with 1 Axes>"
      ]
     },
     "metadata": {},
     "output_type": "display_data"
    },
    {
     "data": {
      "image/png": "[encoded data removed]",
      "text/plain": [
       "<Figure size 640x480 with 1 Axes>"
      ]
     },
     "metadata": {},
     "output_type": "display_data"
    }
   ],
   "source": [
    "multi_roc({\"Unweighted Topo SVM\":svm_clf,\"Weighted Topo SVM\":svm_clfw}, X_test, y_test)\n",
    "\n",
    "precision_recall(svm_clf, X_test, y_test)\n",
    "fpr, tpr, roc_auc = compute_roc(svm_clf, X_test, y_test)\n",
    "plot_roc(fpr, tpr, roc_auc)\n",
    "fpr, tpr, roc_auc = compute_roc(svm_clfw, X_test, y_test)\n",
    "plot_roc(fpr, tpr, roc_auc)"
   ]
  },
  {
   "cell_type": "code",
   "execution_count": 3,
   "metadata": {},
   "outputs": [
    {
     "name": "stdout",
     "output_type": "stream",
     "text": [
      "0.0 %\n",
      "86.3 %\n"
     ]
    },
    {
     "data": {
      "application/vnd.plotly.v1+json": {
       "config": {
        "plotlyServerURL": "https://plot.ly"
       },
       "data": [
        {
         "type": "surface",
         "x": [
          [
           0.0006985030454705016,
           0.0006985030454705016,
           0.0006985030454705016,
           0.0006985030454705016,
           0.0006985030454705016,
           0.0006985030454705016,
           0.0006985030454705016,
           0.0006985030454705016,
           0.0006985030454705016,
           0.0006985030454705016,
           0.0006985030454705016,
           0.0006985030454705016,
           0.0006985030454705016,
           0.0006985030454705016,
           0.0006985030454705016,
           0.0006985030454705016,
           0.0006985030454705016,
           0.0006985030454705016,
           0.0006985030454705016,
           0.0006985030454705016,
           0.0006985030454705016,
           0.0006985030454705016,
           0.0006985030454705016,
           0.0006985030454705016,
           0.0006985030454705016,
           0.0006985030454705016,
           0.0006985030454705016,
           0.0006985030454705016,
           0.0006985030454705016,
           0.0006985030454705016
          ],
          [
           0.01874981426309845,
           0.01874981426309845,
           0.01874981426309845,
           0.01874981426309845,
           0.01874981426309845,
           0.01874981426309845,
           0.01874981426309845,
           0.01874981426309845,
           0.01874981426309845,
           0.01874981426309845,
           0.01874981426309845,
           0.01874981426309845,
           0.01874981426309845,
           0.01874981426309845,
           0.01874981426309845,
           0.01874981426309845,
           0.01874981426309845,
           0.01874981426309845,
           0.01874981426309845,
           0.01874981426309845,
           0.01874981426309845,
           0.01874981426309845,
           0.01874981426309845,
           0.01874981426309845,
           0.01874981426309845,
           0.01874981426309845,
           0.01874981426309845,
           0.01874981426309845,
           0.01874981426309845,
           0.01874981426309845
          ],
          [
           0.03680112548072639,
           0.03680112548072639,
           0.03680112548072639,
           0.03680112548072639,
           0.03680112548072639,
           0.03680112548072639,
           0.03680112548072639,
           0.03680112548072639,
           0.03680112548072639,
           0.03680112548072639,
           0.03680112548072639,
           0.03680112548072639,
           0.03680112548072639,
           0.03680112548072639,
           0.03680112548072639,
           0.03680112548072639,
           0.03680112548072639,
           0.03680112548072639,
           0.03680112548072639,
           0.03680112548072639,
           0.03680112548072639,
           0.03680112548072639,
           0.03680112548072639,
           0.03680112548072639,
           0.03680112548072639,
           0.03680112548072639,
           0.03680112548072639,
           0.03680112548072639,
           0.03680112548072639,
           0.03680112548072639
          ],
          [
           0.054852436698354344,
           0.054852436698354344,
           0.054852436698354344,
           0.054852436698354344,
           0.054852436698354344,
           0.054852436698354344,
           0.054852436698354344,
           0.054852436698354344,
           0.054852436698354344,
           0.054852436698354344,
           0.054852436698354344,
           0.054852436698354344,
           0.054852436698354344,
           0.054852436698354344,
           0.054852436698354344,
           0.054852436698354344,
           0.054852436698354344,
           0.054852436698354344,
           0.054852436698354344,
           0.054852436698354344,
           0.054852436698354344,
           0.054852436698354344,
           0.054852436698354344,
           0.054852436698354344,
           0.054852436698354344,
           0.054852436698354344,
           0.054852436698354344,
           0.054852436698354344,
           0.054852436698354344,
           0.054852436698354344
          ],
          [
           0.0729037479159823,
           0.0729037479159823,
           0.0729037479159823,
           0.0729037479159823,
           0.0729037479159823,
           0.0729037479159823,
           0.0729037479159823,
           0.0729037479159823,
           0.0729037479159823,
           0.0729037479159823,
           0.0729037479159823,
           0.0729037479159823,
           0.0729037479159823,
           0.0729037479159823,
           0.0729037479159823,
           0.0729037479159823,
           0.0729037479159823,
           0.0729037479159823,
           0.0729037479159823,
           0.0729037479159823,
           0.0729037479159823,
           0.0729037479159823,
           0.0729037479159823,
           0.0729037479159823,
           0.0729037479159823,
           0.0729037479159823,
           0.0729037479159823,
           0.0729037479159823,
           0.0729037479159823,
           0.0729037479159823
          ],
          [
           0.09095505913361024,
           0.09095505913361024,
           0.09095505913361024,
           0.09095505913361024,
           0.09095505913361024,
           0.09095505913361024,
           0.09095505913361024,
           0.09095505913361024,
           0.09095505913361024,
           0.09095505913361024,
           0.09095505913361024,
           0.09095505913361024,
           0.09095505913361024,
           0.09095505913361024,
           0.09095505913361024,
           0.09095505913361024,
           0.09095505913361024,
           0.09095505913361024,
           0.09095505913361024,
           0.09095505913361024,
           0.09095505913361024,
           0.09095505913361024,
           0.09095505913361024,
           0.09095505913361024,
           0.09095505913361024,
           0.09095505913361024,
           0.09095505913361024,
           0.09095505913361024,
           0.09095505913361024,
           0.09095505913361024
          ],
          [
           0.1090063703512382,
           0.1090063703512382,
           0.1090063703512382,
           0.1090063703512382,
           0.1090063703512382,
           0.1090063703512382,
           0.1090063703512382,
           0.1090063703512382,
           0.1090063703512382,
           0.1090063703512382,
           0.1090063703512382,
           0.1090063703512382,
           0.1090063703512382,
           0.1090063703512382,
           0.1090063703512382,
           0.1090063703512382,
           0.1090063703512382,
           0.1090063703512382,
           0.1090063703512382,
           0.1090063703512382,
           0.1090063703512382,
           0.1090063703512382,
           0.1090063703512382,
           0.1090063703512382,
           0.1090063703512382,
           0.1090063703512382,
           0.1090063703512382,
           0.1090063703512382,
           0.1090063703512382,
           0.1090063703512382
          ],
          [
           0.12705768156886613,
           0.12705768156886613,
           0.12705768156886613,
           0.12705768156886613,
           0.12705768156886613,
           0.12705768156886613,
           0.12705768156886613,
           0.12705768156886613,
           0.12705768156886613,
           0.12705768156886613,
           0.12705768156886613,
           0.12705768156886613,
           0.12705768156886613,
           0.12705768156886613,
           0.12705768156886613,
           0.12705768156886613,
           0.12705768156886613,
           0.12705768156886613,
           0.12705768156886613,
           0.12705768156886613,
           0.12705768156886613,
           0.12705768156886613,
           0.12705768156886613,
           0.12705768156886613,
           0.12705768156886613,
           0.12705768156886613,
           0.12705768156886613,
           0.12705768156886613,
           0.12705768156886613,
           0.12705768156886613
          ],
          [
           0.14510899278649408,
           0.14510899278649408,
           0.14510899278649408,
           0.14510899278649408,
           0.14510899278649408,
           0.14510899278649408,
           0.14510899278649408,
           0.14510899278649408,
           0.14510899278649408,
           0.14510899278649408,
           0.14510899278649408,
           0.14510899278649408,
           0.14510899278649408,
           0.14510899278649408,
           0.14510899278649408,
           0.14510899278649408,
           0.14510899278649408,
           0.14510899278649408,
           0.14510899278649408,
           0.14510899278649408,
           0.14510899278649408,
           0.14510899278649408,
           0.14510899278649408,
           0.14510899278649408,
           0.14510899278649408,
           0.14510899278649408,
           0.14510899278649408,
           0.14510899278649408,
           0.14510899278649408,
           0.14510899278649408
          ],
          [
           0.16316030400412204,
           0.16316030400412204,
           0.16316030400412204,
           0.16316030400412204,
           0.16316030400412204,
           0.16316030400412204,
           0.16316030400412204,
           0.16316030400412204,
           0.16316030400412204,
           0.16316030400412204,
           0.16316030400412204,
           0.16316030400412204,
           0.16316030400412204,
           0.16316030400412204,
           0.16316030400412204,
           0.16316030400412204,
           0.16316030400412204,
           0.16316030400412204,
           0.16316030400412204,
           0.16316030400412204,
           0.16316030400412204,
           0.16316030400412204,
           0.16316030400412204,
           0.16316030400412204,
           0.16316030400412204,
           0.16316030400412204,
           0.16316030400412204,
           0.16316030400412204,
           0.16316030400412204,
           0.16316030400412204
          ],
          [
           0.18121161522174997,
           0.18121161522174997,
           0.18121161522174997,
           0.18121161522174997,
           0.18121161522174997,
           0.18121161522174997,
           0.18121161522174997,
           0.18121161522174997,
           0.18121161522174997,
           0.18121161522174997,
           0.18121161522174997,
           0.18121161522174997,
           0.18121161522174997,
           0.18121161522174997,
           0.18121161522174997,
           0.18121161522174997,
           0.18121161522174997,
           0.18121161522174997,
           0.18121161522174997,
           0.18121161522174997,
           0.18121161522174997,
           0.18121161522174997,
           0.18121161522174997,
           0.18121161522174997,
           0.18121161522174997,
           0.18121161522174997,
           0.18121161522174997,
           0.18121161522174997,
           0.18121161522174997,
           0.18121161522174997
          ],
          [
           0.19926292643937793,
           0.19926292643937793,
           0.19926292643937793,
           0.19926292643937793,
           0.19926292643937793,
           0.19926292643937793,
           0.19926292643937793,
           0.19926292643937793,
           0.19926292643937793,
           0.19926292643937793,
           0.19926292643937793,
           0.19926292643937793,
           0.19926292643937793,
           0.19926292643937793,
           0.19926292643937793,
           0.19926292643937793,
           0.19926292643937793,
           0.19926292643937793,
           0.19926292643937793,
           0.19926292643937793,
           0.19926292643937793,
           0.19926292643937793,
           0.19926292643937793,
           0.19926292643937793,
           0.19926292643937793,
           0.19926292643937793,
           0.19926292643937793,
           0.19926292643937793,
           0.19926292643937793,
           0.19926292643937793
          ],
          [
           0.2173142376570059,
           0.2173142376570059,
           0.2173142376570059,
           0.2173142376570059,
           0.2173142376570059,
           0.2173142376570059,
           0.2173142376570059,
           0.2173142376570059,
           0.2173142376570059,
           0.2173142376570059,
           0.2173142376570059,
           0.2173142376570059,
           0.2173142376570059,
           0.2173142376570059,
           0.2173142376570059,
           0.2173142376570059,
           0.2173142376570059,
           0.2173142376570059,
           0.2173142376570059,
           0.2173142376570059,
           0.2173142376570059,
           0.2173142376570059,
           0.2173142376570059,
           0.2173142376570059,
           0.2173142376570059,
           0.2173142376570059,
           0.2173142376570059,
           0.2173142376570059,
           0.2173142376570059,
           0.2173142376570059
          ],
          [
           0.23536554887463382,
           0.23536554887463382,
           0.23536554887463382,
           0.23536554887463382,
           0.23536554887463382,
           0.23536554887463382,
           0.23536554887463382,
           0.23536554887463382,
           0.23536554887463382,
           0.23536554887463382,
           0.23536554887463382,
           0.23536554887463382,
           0.23536554887463382,
           0.23536554887463382,
           0.23536554887463382,
           0.23536554887463382,
           0.23536554887463382,
           0.23536554887463382,
           0.23536554887463382,
           0.23536554887463382,
           0.23536554887463382,
           0.23536554887463382,
           0.23536554887463382,
           0.23536554887463382,
           0.23536554887463382,
           0.23536554887463382,
           0.23536554887463382,
           0.23536554887463382,
           0.23536554887463382,
           0.23536554887463382
          ],
          [
           0.2534168600922617,
           0.2534168600922617,
           0.2534168600922617,
           0.2534168600922617,
           0.2534168600922617,
           0.2534168600922617,
           0.2534168600922617,
           0.2534168600922617,
           0.2534168600922617,
           0.2534168600922617,
           0.2534168600922617,
           0.2534168600922617,
           0.2534168600922617,
           0.2534168600922617,
           0.2534168600922617,
           0.2534168600922617,
           0.2534168600922617,
           0.2534168600922617,
           0.2534168600922617,
           0.2534168600922617,
           0.2534168600922617,
           0.2534168600922617,
           0.2534168600922617,
           0.2534168600922617,
           0.2534168600922617,
           0.2534168600922617,
           0.2534168600922617,
           0.2534168600922617,
           0.2534168600922617,
           0.2534168600922617
          ],
          [
           0.2714681713098897,
           0.2714681713098897,
           0.2714681713098897,
           0.2714681713098897,
           0.2714681713098897,
           0.2714681713098897,
           0.2714681713098897,
           0.2714681713098897,
           0.2714681713098897,
           0.2714681713098897,
           0.2714681713098897,
           0.2714681713098897,
           0.2714681713098897,
           0.2714681713098897,
           0.2714681713098897,
           0.2714681713098897,
           0.2714681713098897,
           0.2714681713098897,
           0.2714681713098897,
           0.2714681713098897,
           0.2714681713098897,
           0.2714681713098897,
           0.2714681713098897,
           0.2714681713098897,
           0.2714681713098897,
           0.2714681713098897,
           0.2714681713098897,
           0.2714681713098897,
           0.2714681713098897,
           0.2714681713098897
          ],
          [
           0.28951948252751764,
           0.28951948252751764,
           0.28951948252751764,
           0.28951948252751764,
           0.28951948252751764,
           0.28951948252751764,
           0.28951948252751764,
           0.28951948252751764,
           0.28951948252751764,
           0.28951948252751764,
           0.28951948252751764,
           0.28951948252751764,
           0.28951948252751764,
           0.28951948252751764,
           0.28951948252751764,
           0.28951948252751764,
           0.28951948252751764,
           0.28951948252751764,
           0.28951948252751764,
           0.28951948252751764,
           0.28951948252751764,
           0.28951948252751764,
           0.28951948252751764,
           0.28951948252751764,
           0.28951948252751764,
           0.28951948252751764,
           0.28951948252751764,
           0.28951948252751764,
           0.28951948252751764,
           0.28951948252751764
          ],
          [
           0.30757079374514557,
           0.30757079374514557,
           0.30757079374514557,
           0.30757079374514557,
           0.30757079374514557,
           0.30757079374514557,
           0.30757079374514557,
           0.30757079374514557,
           0.30757079374514557,
           0.30757079374514557,
           0.30757079374514557,
           0.30757079374514557,
           0.30757079374514557,
           0.30757079374514557,
           0.30757079374514557,
           0.30757079374514557,
           0.30757079374514557,
           0.30757079374514557,
           0.30757079374514557,
           0.30757079374514557,
           0.30757079374514557,
           0.30757079374514557,
           0.30757079374514557,
           0.30757079374514557,
           0.30757079374514557,
           0.30757079374514557,
           0.30757079374514557,
           0.30757079374514557,
           0.30757079374514557,
           0.30757079374514557
          ],
          [
           0.32562210496277355,
           0.32562210496277355,
           0.32562210496277355,
           0.32562210496277355,
           0.32562210496277355,
           0.32562210496277355,
           0.32562210496277355,
           0.32562210496277355,
           0.32562210496277355,
           0.32562210496277355,
           0.32562210496277355,
           0.32562210496277355,
           0.32562210496277355,
           0.32562210496277355,
           0.32562210496277355,
           0.32562210496277355,
           0.32562210496277355,
           0.32562210496277355,
           0.32562210496277355,
           0.32562210496277355,
           0.32562210496277355,
           0.32562210496277355,
           0.32562210496277355,
           0.32562210496277355,
           0.32562210496277355,
           0.32562210496277355,
           0.32562210496277355,
           0.32562210496277355,
           0.32562210496277355,
           0.32562210496277355
          ],
          [
           0.3436734161804015,
           0.3436734161804015,
           0.3436734161804015,
           0.3436734161804015,
           0.3436734161804015,
           0.3436734161804015,
           0.3436734161804015,
           0.3436734161804015,
           0.3436734161804015,
           0.3436734161804015,
           0.3436734161804015,
           0.3436734161804015,
           0.3436734161804015,
           0.3436734161804015,
           0.3436734161804015,
           0.3436734161804015,
           0.3436734161804015,
           0.3436734161804015,
           0.3436734161804015,
           0.3436734161804015,
           0.3436734161804015,
           0.3436734161804015,
           0.3436734161804015,
           0.3436734161804015,
           0.3436734161804015,
           0.3436734161804015,
           0.3436734161804015,
           0.3436734161804015,
           0.3436734161804015,
           0.3436734161804015
          ],
          [
           0.3617247273980294,
           0.3617247273980294,
           0.3617247273980294,
           0.3617247273980294,
           0.3617247273980294,
           0.3617247273980294,
           0.3617247273980294,
           0.3617247273980294,
           0.3617247273980294,
           0.3617247273980294,
           0.3617247273980294,
           0.3617247273980294,
           0.3617247273980294,
           0.3617247273980294,
           0.3617247273980294,
           0.3617247273980294,
           0.3617247273980294,
           0.3617247273980294,
           0.3617247273980294,
           0.3617247273980294,
           0.3617247273980294,
           0.3617247273980294,
           0.3617247273980294,
           0.3617247273980294,
           0.3617247273980294,
           0.3617247273980294,
           0.3617247273980294,
           0.3617247273980294,
           0.3617247273980294,
           0.3617247273980294
          ],
          [
           0.3797760386156574,
           0.3797760386156574,
           0.3797760386156574,
           0.3797760386156574,
           0.3797760386156574,
           0.3797760386156574,
           0.3797760386156574,
           0.3797760386156574,
           0.3797760386156574,
           0.3797760386156574,
           0.3797760386156574,
           0.3797760386156574,
           0.3797760386156574,
           0.3797760386156574,
           0.3797760386156574,
           0.3797760386156574,
           0.3797760386156574,
           0.3797760386156574,
           0.3797760386156574,
           0.3797760386156574,
           0.3797760386156574,
           0.3797760386156574,
           0.3797760386156574,
           0.3797760386156574,
           0.3797760386156574,
           0.3797760386156574,
           0.3797760386156574,
           0.3797760386156574,
           0.3797760386156574,
           0.3797760386156574
          ],
          [
           0.3978273498332853,
           0.3978273498332853,
           0.3978273498332853,
           0.3978273498332853,
           0.3978273498332853,
           0.3978273498332853,
           0.3978273498332853,
           0.3978273498332853,
           0.3978273498332853,
           0.3978273498332853,
           0.3978273498332853,
           0.3978273498332853,
           0.3978273498332853,
           0.3978273498332853,
           0.3978273498332853,
           0.3978273498332853,
           0.3978273498332853,
           0.3978273498332853,
           0.3978273498332853,
           0.3978273498332853,
           0.3978273498332853,
           0.3978273498332853,
           0.3978273498332853,
           0.3978273498332853,
           0.3978273498332853,
           0.3978273498332853,
           0.3978273498332853,
           0.3978273498332853,
           0.3978273498332853,
           0.3978273498332853
          ],
          [
           0.41587866105091326,
           0.41587866105091326,
           0.41587866105091326,
           0.41587866105091326,
           0.41587866105091326,
           0.41587866105091326,
           0.41587866105091326,
           0.41587866105091326,
           0.41587866105091326,
           0.41587866105091326,
           0.41587866105091326,
           0.41587866105091326,
           0.41587866105091326,
           0.41587866105091326,
           0.41587866105091326,
           0.41587866105091326,
           0.41587866105091326,
           0.41587866105091326,
           0.41587866105091326,
           0.41587866105091326,
           0.41587866105091326,
           0.41587866105091326,
           0.41587866105091326,
           0.41587866105091326,
           0.41587866105091326,
           0.41587866105091326,
           0.41587866105091326,
           0.41587866105091326,
           0.41587866105091326,
           0.41587866105091326
          ],
          [
           0.43392997226854124,
           0.43392997226854124,
           0.43392997226854124,
           0.43392997226854124,
           0.43392997226854124,
           0.43392997226854124,
           0.43392997226854124,
           0.43392997226854124,
           0.43392997226854124,
           0.43392997226854124,
           0.43392997226854124,
           0.43392997226854124,
           0.43392997226854124,
           0.43392997226854124,
           0.43392997226854124,
           0.43392997226854124,
           0.43392997226854124,
           0.43392997226854124,
           0.43392997226854124,
           0.43392997226854124,
           0.43392997226854124,
           0.43392997226854124,
           0.43392997226854124,
           0.43392997226854124,
           0.43392997226854124,
           0.43392997226854124,
           0.43392997226854124,
           0.43392997226854124,
           0.43392997226854124,
           0.43392997226854124
          ],
          [
           0.45198128348616917,
           0.45198128348616917,
           0.45198128348616917,
           0.45198128348616917,
           0.45198128348616917,
           0.45198128348616917,
           0.45198128348616917,
           0.45198128348616917,
           0.45198128348616917,
           0.45198128348616917,
           0.45198128348616917,
           0.45198128348616917,
           0.45198128348616917,
           0.45198128348616917,
           0.45198128348616917,
           0.45198128348616917,
           0.45198128348616917,
           0.45198128348616917,
           0.45198128348616917,
           0.45198128348616917,
           0.45198128348616917,
           0.45198128348616917,
           0.45198128348616917,
           0.45198128348616917,
           0.45198128348616917,
           0.45198128348616917,
           0.45198128348616917,
           0.45198128348616917,
           0.45198128348616917,
           0.45198128348616917
          ],
          [
           0.4700325947037971,
           0.4700325947037971,
           0.4700325947037971,
           0.4700325947037971,
           0.4700325947037971,
           0.4700325947037971,
           0.4700325947037971,
           0.4700325947037971,
           0.4700325947037971,
           0.4700325947037971,
           0.4700325947037971,
           0.4700325947037971,
           0.4700325947037971,
           0.4700325947037971,
           0.4700325947037971,
           0.4700325947037971,
           0.4700325947037971,
           0.4700325947037971,
           0.4700325947037971,
           0.4700325947037971,
           0.4700325947037971,
           0.4700325947037971,
           0.4700325947037971,
           0.4700325947037971,
           0.4700325947037971,
           0.4700325947037971,
           0.4700325947037971,
           0.4700325947037971,
           0.4700325947037971,
           0.4700325947037971
          ],
          [
           0.48808390592142503,
           0.48808390592142503,
           0.48808390592142503,
           0.48808390592142503,
           0.48808390592142503,
           0.48808390592142503,
           0.48808390592142503,
           0.48808390592142503,
           0.48808390592142503,
           0.48808390592142503,
           0.48808390592142503,
           0.48808390592142503,
           0.48808390592142503,
           0.48808390592142503,
           0.48808390592142503,
           0.48808390592142503,
           0.48808390592142503,
           0.48808390592142503,
           0.48808390592142503,
           0.48808390592142503,
           0.48808390592142503,
           0.48808390592142503,
           0.48808390592142503,
           0.48808390592142503,
           0.48808390592142503,
           0.48808390592142503,
           0.48808390592142503,
           0.48808390592142503,
           0.48808390592142503,
           0.48808390592142503
          ],
          [
           0.506135217139053,
           0.506135217139053,
           0.506135217139053,
           0.506135217139053,
           0.506135217139053,
           0.506135217139053,
           0.506135217139053,
           0.506135217139053,
           0.506135217139053,
           0.506135217139053,
           0.506135217139053,
           0.506135217139053,
           0.506135217139053,
           0.506135217139053,
           0.506135217139053,
           0.506135217139053,
           0.506135217139053,
           0.506135217139053,
           0.506135217139053,
           0.506135217139053,
           0.506135217139053,
           0.506135217139053,
           0.506135217139053,
           0.506135217139053,
           0.506135217139053,
           0.506135217139053,
           0.506135217139053,
           0.506135217139053,
           0.506135217139053,
           0.506135217139053
          ],
          [
           0.524186528356681,
           0.524186528356681,
           0.524186528356681,
           0.524186528356681,
           0.524186528356681,
           0.524186528356681,
           0.524186528356681,
           0.524186528356681,
           0.524186528356681,
           0.524186528356681,
           0.524186528356681,
           0.524186528356681,
           0.524186528356681,
           0.524186528356681,
           0.524186528356681,
           0.524186528356681,
           0.524186528356681,
           0.524186528356681,
           0.524186528356681,
           0.524186528356681,
           0.524186528356681,
           0.524186528356681,
           0.524186528356681,
           0.524186528356681,
           0.524186528356681,
           0.524186528356681,
           0.524186528356681,
           0.524186528356681,
           0.524186528356681,
           0.524186528356681
          ]
         ],
         "y": [
          [
           -3476.3603515625,
           2954.670930989583,
           9385.702213541666,
           15816.733496093751,
           22247.764778645833,
           28678.796061197914,
           35109.82734375,
           41540.858626302084,
           47971.889908854166,
           54402.92119140625,
           60833.95247395833,
           67264.98375651041,
           73696.0150390625,
           80127.04632161459,
           86558.07760416667,
           92989.10888671875,
           99420.14016927083,
           105851.17145182291,
           112282.202734375,
           118713.23401692708,
           125144.26529947916,
           131575.29658203124,
           138006.32786458332,
           144437.3591471354,
           150868.3904296875,
           157299.4217122396,
           163730.45299479167,
           170161.48427734376,
           176592.51555989584,
           183023.54684244792
          ],
          [
           -3476.3603515625,
           2954.670930989583,
           9385.702213541666,
           15816.733496093751,
           22247.764778645833,
           28678.796061197914,
           35109.82734375,
           41540.858626302084,
           47971.889908854166,
           54402.92119140625,
           60833.95247395833,
           67264.98375651041,
           73696.0150390625,
           80127.04632161459,
           86558.07760416667,
           92989.10888671875,
           99420.14016927083,
           105851.17145182291,
           112282.202734375,
           118713.23401692708,
           125144.26529947916,
           131575.29658203124,
           138006.32786458332,
           144437.3591471354,
           150868.3904296875,
           157299.4217122396,
           163730.45299479167,
           170161.48427734376,
           176592.51555989584,
           183023.54684244792
          ],
          [
           -3476.3603515625,
           2954.670930989583,
           9385.702213541666,
           15816.733496093751,
           22247.764778645833,
           28678.796061197914,
           35109.82734375,
           41540.858626302084,
           47971.889908854166,
           54402.92119140625,
           60833.95247395833,
           67264.98375651041,
           73696.0150390625,
           80127.04632161459,
           86558.07760416667,
           92989.10888671875,
           99420.14016927083,
           105851.17145182291,
           112282.202734375,
           118713.23401692708,
           125144.26529947916,
           131575.29658203124,
           138006.32786458332,
           144437.3591471354,
           150868.3904296875,
           157299.4217122396,
           163730.45299479167,
           170161.48427734376,
           176592.51555989584,
           183023.54684244792
          ],
          [
           -3476.3603515625,
           2954.670930989583,
           9385.702213541666,
           15816.733496093751,
           22247.764778645833,
           28678.796061197914,
           35109.82734375,
           41540.858626302084,
           47971.889908854166,
           54402.92119140625,
           60833.95247395833,
           67264.98375651041,
           73696.0150390625,
           80127.04632161459,
           86558.07760416667,
           92989.10888671875,
           99420.14016927083,
           105851.17145182291,
           112282.202734375,
           118713.23401692708,
           125144.26529947916,
           131575.29658203124,
           138006.32786458332,
           144437.3591471354,
           150868.3904296875,
           157299.4217122396,
           163730.45299479167,
           170161.48427734376,
           176592.51555989584,
           183023.54684244792
          ],
          [
           -3476.3603515625,
           2954.670930989583,
           9385.702213541666,
           15816.733496093751,
           22247.764778645833,
           28678.796061197914,
           35109.82734375,
           41540.858626302084,
           47971.889908854166,
           54402.92119140625,
           60833.95247395833,
           67264.98375651041,
           73696.0150390625,
           80127.04632161459,
           86558.07760416667,
           92989.10888671875,
           99420.14016927083,
           105851.17145182291,
           112282.202734375,
           118713.23401692708,
           125144.26529947916,
           131575.29658203124,
           138006.32786458332,
           144437.3591471354,
           150868.3904296875,
           157299.4217122396,
           163730.45299479167,
           170161.48427734376,
           176592.51555989584,
           183023.54684244792
          ],
          [
           -3476.3603515625,
           2954.670930989583,
           9385.702213541666,
           15816.733496093751,
           22247.764778645833,
           28678.796061197914,
           35109.82734375,
           41540.858626302084,
           47971.889908854166,
           54402.92119140625,
           60833.95247395833,
           67264.98375651041,
           73696.0150390625,
           80127.04632161459,
           86558.07760416667,
           92989.10888671875,
           99420.14016927083,
           105851.17145182291,
           112282.202734375,
           118713.23401692708,
           125144.26529947916,
           131575.29658203124,
           138006.32786458332,
           144437.3591471354,
           150868.3904296875,
           157299.4217122396,
           163730.45299479167,
           170161.48427734376,
           176592.51555989584,
           183023.54684244792
          ],
          [
           -3476.3603515625,
           2954.670930989583,
           9385.702213541666,
           15816.733496093751,
           22247.764778645833,
           28678.796061197914,
           35109.82734375,
           41540.858626302084,
           47971.889908854166,
           54402.92119140625,
           60833.95247395833,
           67264.98375651041,
           73696.0150390625,
           80127.04632161459,
           86558.07760416667,
           92989.10888671875,
           99420.14016927083,
           105851.17145182291,
           112282.202734375,
           118713.23401692708,
           125144.26529947916,
           131575.29658203124,
           138006.32786458332,
           144437.3591471354,
           150868.3904296875,
           157299.4217122396,
           163730.45299479167,
           170161.48427734376,
           176592.51555989584,
           183023.54684244792
          ],
          [
           -3476.3603515625,
           2954.670930989583,
           9385.702213541666,
           15816.733496093751,
           22247.764778645833,
           28678.796061197914,
           35109.82734375,
           41540.858626302084,
           47971.889908854166,
           54402.92119140625,
           60833.95247395833,
           67264.98375651041,
           73696.0150390625,
           80127.04632161459,
           86558.07760416667,
           92989.10888671875,
           99420.14016927083,
           105851.17145182291,
           112282.202734375,
           118713.23401692708,
           125144.26529947916,
           131575.29658203124,
           138006.32786458332,
           144437.3591471354,
           150868.3904296875,
           157299.4217122396,
           163730.45299479167,
           170161.48427734376,
           176592.51555989584,
           183023.54684244792
          ],
          [
           -3476.3603515625,
           2954.670930989583,
           9385.702213541666,
           15816.733496093751,
           22247.764778645833,
           28678.796061197914,
           35109.82734375,
           41540.858626302084,
           47971.889908854166,
           54402.92119140625,
           60833.95247395833,
           67264.98375651041,
           73696.0150390625,
           80127.04632161459,
           86558.07760416667,
           92989.10888671875,
           99420.14016927083,
           105851.17145182291,
           112282.202734375,
           118713.23401692708,
           125144.26529947916,
           131575.29658203124,
           138006.32786458332,
           144437.3591471354,
           150868.3904296875,
           157299.4217122396,
           163730.45299479167,
           170161.48427734376,
           176592.51555989584,
           183023.54684244792
          ],
          [
           -3476.3603515625,
           2954.670930989583,
           9385.702213541666,
           15816.733496093751,
           22247.764778645833,
           28678.796061197914,
           35109.82734375,
           41540.858626302084,
           47971.889908854166,
           54402.92119140625,
           60833.95247395833,
           67264.98375651041,
           73696.0150390625,
           80127.04632161459,
           86558.07760416667,
           92989.10888671875,
           99420.14016927083,
           105851.17145182291,
           112282.202734375,
           118713.23401692708,
           125144.26529947916,
           131575.29658203124,
           138006.32786458332,
           144437.3591471354,
           150868.3904296875,
           157299.4217122396,
           163730.45299479167,
           170161.48427734376,
           176592.51555989584,
           183023.54684244792
          ],
          [
           -3476.3603515625,
           2954.670930989583,
           9385.702213541666,
           15816.733496093751,
           22247.764778645833,
           28678.796061197914,
           35109.82734375,
           41540.858626302084,
           47971.889908854166,
           54402.92119140625,
           60833.95247395833,
           67264.98375651041,
           73696.0150390625,
           80127.04632161459,
           86558.07760416667,
           92989.10888671875,
           99420.14016927083,
           105851.17145182291,
           112282.202734375,
           118713.23401692708,
           125144.26529947916,
           131575.29658203124,
           138006.32786458332,
           144437.3591471354,
           150868.3904296875,
           157299.4217122396,
           163730.45299479167,
           170161.48427734376,
           176592.51555989584,
           183023.54684244792
          ],
          [
           -3476.3603515625,
           2954.670930989583,
           9385.702213541666,
           15816.733496093751,
           22247.764778645833,
           28678.796061197914,
           35109.82734375,
           41540.858626302084,
           47971.889908854166,
           54402.92119140625,
           60833.95247395833,
           67264.98375651041,
           73696.0150390625,
           80127.04632161459,
           86558.07760416667,
           92989.10888671875,
           99420.14016927083,
           105851.17145182291,
           112282.202734375,
           118713.23401692708,
           125144.26529947916,
           131575.29658203124,
           138006.32786458332,
           144437.3591471354,
           150868.3904296875,
           157299.4217122396,
           163730.45299479167,
           170161.48427734376,
           176592.51555989584,
           183023.54684244792
          ],
          [
           -3476.3603515625,
           2954.670930989583,
           9385.702213541666,
           15816.733496093751,
           22247.764778645833,
           28678.796061197914,
           35109.82734375,
           41540.858626302084,
           47971.889908854166,
           54402.92119140625,
           60833.95247395833,
           67264.98375651041,
           73696.0150390625,
           80127.04632161459,
           86558.07760416667,
           92989.10888671875,
           99420.14016927083,
           105851.17145182291,
           112282.202734375,
           118713.23401692708,
           125144.26529947916,
           131575.29658203124,
           138006.32786458332,
           144437.3591471354,
           150868.3904296875,
           157299.4217122396,
           163730.45299479167,
           170161.48427734376,
           176592.51555989584,
           183023.54684244792
          ],
          [
           -3476.3603515625,
           2954.670930989583,
           9385.702213541666,
           15816.733496093751,
           22247.764778645833,
           28678.796061197914,
           35109.82734375,
           41540.858626302084,
           47971.889908854166,
           54402.92119140625,
           60833.95247395833,
           67264.98375651041,
           73696.0150390625,
           80127.04632161459,
           86558.07760416667,
           92989.10888671875,
           99420.14016927083,
           105851.17145182291,
           112282.202734375,
           118713.23401692708,
           125144.26529947916,
           131575.29658203124,
           138006.32786458332,
           144437.3591471354,
           150868.3904296875,
           157299.4217122396,
           163730.45299479167,
           170161.48427734376,
           176592.51555989584,
           183023.54684244792
          ],
          [
           -3476.3603515625,
           2954.670930989583,
           9385.702213541666,
           15816.733496093751,
           22247.764778645833,
           28678.796061197914,
           35109.82734375,
           41540.858626302084,
           47971.889908854166,
           54402.92119140625,
           60833.95247395833,
           67264.98375651041,
           73696.0150390625,
           80127.04632161459,
           86558.07760416667,
           92989.10888671875,
           99420.14016927083,
           105851.17145182291,
           112282.202734375,
           118713.23401692708,
           125144.26529947916,
           131575.29658203124,
           138006.32786458332,
           144437.3591471354,
           150868.3904296875,
           157299.4217122396,
           163730.45299479167,
           170161.48427734376,
           176592.51555989584,
           183023.54684244792
          ],
          [
           -3476.3603515625,
           2954.670930989583,
           9385.702213541666,
           15816.733496093751,
           22247.764778645833,
           28678.796061197914,
           35109.82734375,
           41540.858626302084,
           47971.889908854166,
           54402.92119140625,
           60833.95247395833,
           67264.98375651041,
           73696.0150390625,
           80127.04632161459,
           86558.07760416667,
           92989.10888671875,
           99420.14016927083,
           105851.17145182291,
           112282.202734375,
           118713.23401692708,
           125144.26529947916,
           131575.29658203124,
           138006.32786458332,
           144437.3591471354,
           150868.3904296875,
           157299.4217122396,
           163730.45299479167,
           170161.48427734376,
           176592.51555989584,
           183023.54684244792
          ],
          [
           -3476.3603515625,
           2954.670930989583,
           9385.702213541666,
           15816.733496093751,
           22247.764778645833,
           28678.796061197914,
           35109.82734375,
           41540.858626302084,
           47971.889908854166,
           54402.92119140625,
           60833.95247395833,
           67264.98375651041,
           73696.0150390625,
           80127.04632161459,
           86558.07760416667,
           92989.10888671875,
           99420.14016927083,
           105851.17145182291,
           112282.202734375,
           118713.23401692708,
           125144.26529947916,
           131575.29658203124,
           138006.32786458332,
           144437.3591471354,
           150868.3904296875,
           157299.4217122396,
           163730.45299479167,
           170161.48427734376,
           176592.51555989584,
           183023.54684244792
          ],
          [
           -3476.3603515625,
           2954.670930989583,
           9385.702213541666,
           15816.733496093751,
           22247.764778645833,
           28678.796061197914,
           35109.82734375,
           41540.858626302084,
           47971.889908854166,
           54402.92119140625,
           60833.95247395833,
           67264.98375651041,
           73696.0150390625,
           80127.04632161459,
           86558.07760416667,
           92989.10888671875,
           99420.14016927083,
           105851.17145182291,
           112282.202734375,
           118713.23401692708,
           125144.26529947916,
           131575.29658203124,
           138006.32786458332,
           144437.3591471354,
           150868.3904296875,
           157299.4217122396,
           163730.45299479167,
           170161.48427734376,
           176592.51555989584,
           183023.54684244792
          ],
          [
           -3476.3603515625,
           2954.670930989583,
           9385.702213541666,
           15816.733496093751,
           22247.764778645833,
           28678.796061197914,
           35109.82734375,
           41540.858626302084,
           47971.889908854166,
           54402.92119140625,
           60833.95247395833,
           67264.98375651041,
           73696.0150390625,
           80127.04632161459,
           86558.07760416667,
           92989.10888671875,
           99420.14016927083,
           105851.17145182291,
           112282.202734375,
           118713.23401692708,
           125144.26529947916,
           131575.29658203124,
           138006.32786458332,
           144437.3591471354,
           150868.3904296875,
           157299.4217122396,
           163730.45299479167,
           170161.48427734376,
           176592.51555989584,
           183023.54684244792
          ],
          [
           -3476.3603515625,
           2954.670930989583,
           9385.702213541666,
           15816.733496093751,
           22247.764778645833,
           28678.796061197914,
           35109.82734375,
           41540.858626302084,
           47971.889908854166,
           54402.92119140625,
           60833.95247395833,
           67264.98375651041,
           73696.0150390625,
           80127.04632161459,
           86558.07760416667,
           92989.10888671875,
           99420.14016927083,
           105851.17145182291,
           112282.202734375,
           118713.23401692708,
           125144.26529947916,
           131575.29658203124,
           138006.32786458332,
           144437.3591471354,
           150868.3904296875,
           157299.4217122396,
           163730.45299479167,
           170161.48427734376,
           176592.51555989584,
           183023.54684244792
          ],
          [
           -3476.3603515625,
           2954.670930989583,
           9385.702213541666,
           15816.733496093751,
           22247.764778645833,
           28678.796061197914,
           35109.82734375,
           41540.858626302084,
           47971.889908854166,
           54402.92119140625,
           60833.95247395833,
           67264.98375651041,
           73696.0150390625,
           80127.04632161459,
           86558.07760416667,
           92989.10888671875,
           99420.14016927083,
           105851.17145182291,
           112282.202734375,
           118713.23401692708,
           125144.26529947916,
           131575.29658203124,
           138006.32786458332,
           144437.3591471354,
           150868.3904296875,
           157299.4217122396,
           163730.45299479167,
           170161.48427734376,
           176592.51555989584,
           183023.54684244792
          ],
          [
           -3476.3603515625,
           2954.670930989583,
           9385.702213541666,
           15816.733496093751,
           22247.764778645833,
           28678.796061197914,
           35109.82734375,
           41540.858626302084,
           47971.889908854166,
           54402.92119140625,
           60833.95247395833,
           67264.98375651041,
           73696.0150390625,
           80127.04632161459,
           86558.07760416667,
           92989.10888671875,
           99420.14016927083,
           105851.17145182291,
           112282.202734375,
           118713.23401692708,
           125144.26529947916,
           131575.29658203124,
           138006.32786458332,
           144437.3591471354,
           150868.3904296875,
           157299.4217122396,
           163730.45299479167,
           170161.48427734376,
           176592.51555989584,
           183023.54684244792
          ],
          [
           -3476.3603515625,
           2954.670930989583,
           9385.702213541666,
           15816.733496093751,
           22247.764778645833,
           28678.796061197914,
           35109.82734375,
           41540.858626302084,
           47971.889908854166,
           54402.92119140625,
           60833.95247395833,
           67264.98375651041,
           73696.0150390625,
           80127.04632161459,
           86558.07760416667,
           92989.10888671875,
           99420.14016927083,
           105851.17145182291,
           112282.202734375,
           118713.23401692708,
           125144.26529947916,
           131575.29658203124,
           138006.32786458332,
           144437.3591471354,
           150868.3904296875,
           157299.4217122396,
           163730.45299479167,
           170161.48427734376,
           176592.51555989584,
           183023.54684244792
          ],
          [
           -3476.3603515625,
           2954.670930989583,
           9385.702213541666,
           15816.733496093751,
           22247.764778645833,
           28678.796061197914,
           35109.82734375,
           41540.858626302084,
           47971.889908854166,
           54402.92119140625,
           60833.95247395833,
           67264.98375651041,
           73696.0150390625,
           80127.04632161459,
           86558.07760416667,
           92989.10888671875,
           99420.14016927083,
           105851.17145182291,
           112282.202734375,
           118713.23401692708,
           125144.26529947916,
           131575.29658203124,
           138006.32786458332,
           144437.3591471354,
           150868.3904296875,
           157299.4217122396,
           163730.45299479167,
           170161.48427734376,
           176592.51555989584,
           183023.54684244792
          ],
          [
           -3476.3603515625,
           2954.670930989583,
           9385.702213541666,
           15816.733496093751,
           22247.764778645833,
           28678.796061197914,
           35109.82734375,
           41540.858626302084,
           47971.889908854166,
           54402.92119140625,
           60833.95247395833,
           67264.98375651041,
           73696.0150390625,
           80127.04632161459,
           86558.07760416667,
           92989.10888671875,
           99420.14016927083,
           105851.17145182291,
           112282.202734375,
           118713.23401692708,
           125144.26529947916,
           131575.29658203124,
           138006.32786458332,
           144437.3591471354,
           150868.3904296875,
           157299.4217122396,
           163730.45299479167,
           170161.48427734376,
           176592.51555989584,
           183023.54684244792
          ],
          [
           -3476.3603515625,
           2954.670930989583,
           9385.702213541666,
           15816.733496093751,
           22247.764778645833,
           28678.796061197914,
           35109.82734375,
           41540.858626302084,
           47971.889908854166,
           54402.92119140625,
           60833.95247395833,
           67264.98375651041,
           73696.0150390625,
           80127.04632161459,
           86558.07760416667,
           92989.10888671875,
           99420.14016927083,
           105851.17145182291,
           112282.202734375,
           118713.23401692708,
           125144.26529947916,
           131575.29658203124,
           138006.32786458332,
           144437.3591471354,
           150868.3904296875,
           157299.4217122396,
           163730.45299479167,
           170161.48427734376,
           176592.51555989584,
           183023.54684244792
          ],
          [
           -3476.3603515625,
           2954.670930989583,
           9385.702213541666,
           15816.733496093751,
           22247.764778645833,
           28678.796061197914,
           35109.82734375,
           41540.858626302084,
           47971.889908854166,
           54402.92119140625,
           60833.95247395833,
           67264.98375651041,
           73696.0150390625,
           80127.04632161459,
           86558.07760416667,
           92989.10888671875,
           99420.14016927083,
           105851.17145182291,
           112282.202734375,
           118713.23401692708,
           125144.26529947916,
           131575.29658203124,
           138006.32786458332,
           144437.3591471354,
           150868.3904296875,
           157299.4217122396,
           163730.45299479167,
           170161.48427734376,
           176592.51555989584,
           183023.54684244792
          ],
          [
           -3476.3603515625,
           2954.670930989583,
           9385.702213541666,
           15816.733496093751,
           22247.764778645833,
           28678.796061197914,
           35109.82734375,
           41540.858626302084,
           47971.889908854166,
           54402.92119140625,
           60833.95247395833,
           67264.98375651041,
           73696.0150390625,
           80127.04632161459,
           86558.07760416667,
           92989.10888671875,
           99420.14016927083,
           105851.17145182291,
           112282.202734375,
           118713.23401692708,
           125144.26529947916,
           131575.29658203124,
           138006.32786458332,
           144437.3591471354,
           150868.3904296875,
           157299.4217122396,
           163730.45299479167,
           170161.48427734376,
           176592.51555989584,
           183023.54684244792
          ],
          [
           -3476.3603515625,
           2954.670930989583,
           9385.702213541666,
           15816.733496093751,
           22247.764778645833,
           28678.796061197914,
           35109.82734375,
           41540.858626302084,
           47971.889908854166,
           54402.92119140625,
           60833.95247395833,
           67264.98375651041,
           73696.0150390625,
           80127.04632161459,
           86558.07760416667,
           92989.10888671875,
           99420.14016927083,
           105851.17145182291,
           112282.202734375,
           118713.23401692708,
           125144.26529947916,
           131575.29658203124,
           138006.32786458332,
           144437.3591471354,
           150868.3904296875,
           157299.4217122396,
           163730.45299479167,
           170161.48427734376,
           176592.51555989584,
           183023.54684244792
          ],
          [
           -3476.3603515625,
           2954.670930989583,
           9385.702213541666,
           15816.733496093751,
           22247.764778645833,
           28678.796061197914,
           35109.82734375,
           41540.858626302084,
           47971.889908854166,
           54402.92119140625,
           60833.95247395833,
           67264.98375651041,
           73696.0150390625,
           80127.04632161459,
           86558.07760416667,
           92989.10888671875,
           99420.14016927083,
           105851.17145182291,
           112282.202734375,
           118713.23401692708,
           125144.26529947916,
           131575.29658203124,
           138006.32786458332,
           144437.3591471354,
           150868.3904296875,
           157299.4217122396,
           163730.45299479167,
           170161.48427734376,
           176592.51555989584,
           183023.54684244792
          ]
         ],
         "z": [
          [
           3,
           22,
           30,
           31,
           54,
           59,
           36,
           40,
           28,
           20,
           15,
           9,
           9,
           10,
           7,
           6,
           2,
           1,
           0,
           2,
           1,
           1,
           1,
           0,
           0,
           0,
           1,
           0,
           0,
           1
          ],
          [
           19,
           48,
           59,
           80,
           83,
           110,
           91,
           47,
           46,
           23,
           18,
           15,
           10,
           5,
           7,
           2,
           2,
           1,
           3,
           0,
           0,
           0,
           0,
           0,
           0,
           0,
           1,
           0,
           0,
           0
          ],
          [
           37,
           100,
           107,
           94,
           92,
           85,
           44,
           36,
           18,
           13,
           6,
           1,
           2,
           2,
           0,
           0,
           0,
           0,
           0,
           1,
           0,
           0,
           0,
           0,
           1,
           0,
           0,
           0,
           0,
           0
          ],
          [
           63,
           185,
           132,
           95,
           64,
           47,
           18,
           9,
           3,
           4,
           1,
           1,
           0,
           0,
           0,
           0,
           0,
           0,
           0,
           0,
           0,
           0,
           0,
           0,
           0,
           0,
           0,
           0,
           0,
           0
          ],
          [
           141,
           233,
           141,
           49,
           26,
           12,
           10,
           5,
           5,
           1,
           0,
           1,
           0,
           0,
           0,
           0,
           0,
           0,
           0,
           0,
           0,
           0,
           0,
           0,
           0,
           0,
           0,
           0,
           0,
           0
          ],
          [
           176,
           266,
           121,
           35,
           12,
           10,
           3,
           2,
           0,
           2,
           0,
           0,
           0,
           0,
           0,
           0,
           0,
           0,
           0,
           0,
           0,
           0,
           0,
           0,
           0,
           0,
           0,
           0,
           0,
           0
          ],
          [
           220,
           258,
           71,
           25,
           6,
           4,
           3,
           0,
           0,
           0,
           0,
           0,
           0,
           0,
           0,
           0,
           0,
           0,
           0,
           0,
           0,
           0,
           0,
           0,
           0,
           0,
           0,
           0,
           0,
           0
          ],
          [
           275,
           208,
           67,
           17,
           5,
           2,
           2,
           1,
           0,
           1,
           0,
           1,
           0,
           0,
           0,
           0,
           0,
           0,
           0,
           0,
           0,
           0,
           0,
           0,
           0,
           0,
           0,
           0,
           0,
           0
          ],
          [
           320,
           216,
           42,
           11,
           3,
           0,
           0,
           0,
           0,
           0,
           0,
           0,
           0,
           0,
           0,
           0,
           0,
           0,
           0,
           0,
           0,
           0,
           0,
           0,
           0,
           0,
           0,
           0,
           0,
           0
          ],
          [
           381,
           199,
           28,
           3,
           3,
           0,
           0,
           0,
           0,
           0,
           0,
           0,
           0,
           0,
           0,
           0,
           0,
           0,
           0,
           0,
           0,
           0,
           0,
           0,
           0,
           0,
           0,
           0,
           0,
           0
          ],
          [
           444,
           152,
           19,
           8,
           1,
           0,
           0,
           0,
           0,
           0,
           0,
           0,
           0,
           0,
           0,
           0,
           0,
           0,
           0,
           0,
           0,
           0,
           0,
           0,
           0,
           0,
           0,
           0,
           0,
           0
          ],
          [
           428,
           172,
           20,
           2,
           0,
           0,
           0,
           0,
           0,
           0,
           0,
           0,
           0,
           0,
           0,
           0,
           0,
           0,
           0,
           0,
           0,
           0,
           0,
           0,
           0,
           0,
           0,
           0,
           0,
           0
          ],
          [
           502,
           136,
           11,
           1,
           1,
           0,
           1,
           0,
           0,
           0,
           0,
           0,
           0,
           0,
           0,
           0,
           0,
           0,
           0,
           0,
           0,
           0,
           0,
           0,
           0,
           0,
           0,
           0,
           0,
           0
          ],
          [
           540,
           139,
           7,
           5,
           0,
           1,
           1,
           0,
           0,
           0,
           0,
           0,
           0,
           0,
           0,
           0,
           0,
           0,
           0,
           0,
           0,
           0,
           0,
           0,
           0,
           0,
           0,
           0,
           0,
           0
          ],
          [
           548,
           109,
           11,
           0,
           0,
           0,
           0,
           0,
           0,
           0,
           0,
           0,
           0,
           0,
           0,
           0,
           0,
           0,
           0,
           0,
           0,
           0,
           0,
           0,
           0,
           0,
           0,
           0,
           0,
           0
          ],
          [
           544,
           110,
           5,
           1,
           1,
           0,
           0,
           0,
           0,
           0,
           0,
           0,
           0,
           0,
           0,
           0,
           0,
           0,
           0,
           0,
           0,
           0,
           0,
           0,
           0,
           0,
           0,
           0,
           0,
           0
          ],
          [
           567,
           93,
           5,
           0,
           0,
           0,
           0,
           0,
           0,
           0,
           0,
           0,
           0,
           0,
           0,
           0,
           0,
           0,
           0,
           0,
           0,
           0,
           0,
           0,
           0,
           0,
           0,
           0,
           0,
           0
          ],
          [
           576,
           101,
           3,
           1,
           0,
           0,
           0,
           0,
           0,
           0,
           0,
           0,
           0,
           0,
           0,
           0,
           0,
           0,
           0,
           0,
           0,
           0,
           0,
           0,
           0,
           0,
           0,
           0,
           0,
           0
          ],
          [
           545,
           87,
           3,
           0,
           0,
           0,
           0,
           0,
           0,
           0,
           0,
           0,
           0,
           0,
           0,
           0,
           0,
           0,
           0,
           0,
           0,
           0,
           0,
           0,
           0,
           0,
           0,
           0,
           0,
           0
          ],
          [
           576,
           78,
           0,
           1,
           0,
           0,
           0,
           0,
           0,
           0,
           0,
           0,
           0,
           0,
           0,
           0,
           0,
           0,
           0,
           0,
           0,
           0,
           0,
           0,
           0,
           0,
           0,
           0,
           0,
           0
          ],
          [
           488,
           55,
           1,
           0,
           0,
           0,
           0,
           0,
           0,
           0,
           0,
           0,
           0,
           0,
           0,
           0,
           0,
           0,
           0,
           0,
           0,
           0,
           0,
           0,
           0,
           0,
           0,
           0,
           0,
           0
          ],
          [
           372,
           24,
           0,
           0,
           0,
           0,
           0,
           0,
           0,
           0,
           0,
           0,
           0,
           0,
           0,
           0,
           0,
           0,
           0,
           0,
           0,
           0,
           0,
           0,
           0,
           0,
           0,
           0,
           0,
           0
          ],
          [
           195,
           16,
           0,
           0,
           0,
           0,
           0,
           0,
           0,
           0,
           0,
           0,
           0,
           0,
           0,
           0,
           0,
           0,
           0,
           0,
           0,
           0,
           0,
           0,
           0,
           0,
           0,
           0,
           0,
           0
          ],
          [
           111,
           6,
           0,
           0,
           0,
           0,
           0,
           0,
           0,
           0,
           0,
           0,
           0,
           0,
           0,
           0,
           0,
           0,
           0,
           0,
           0,
           0,
           0,
           0,
           0,
           0,
           0,
           0,
           0,
           0
          ],
          [
           46,
           0,
           0,
           0,
           0,
           0,
           0,
           0,
           0,
           0,
           0,
           0,
           0,
           0,
           0,
           0,
           0,
           0,
           0,
           0,
           0,
           0,
           0,
           0,
           0,
           0,
           0,
           0,
           0,
           0
          ],
          [
           18,
           1,
           0,
           0,
           0,
           0,
           0,
           0,
           0,
           0,
           0,
           0,
           0,
           0,
           0,
           0,
           0,
           0,
           0,
           0,
           0,
           0,
           0,
           0,
           0,
           0,
           0,
           0,
           0,
           0
          ],
          [
           13,
           0,
           0,
           0,
           0,
           0,
           0,
           0,
           0,
           0,
           0,
           0,
           0,
           0,
           0,
           0,
           0,
           0,
           0,
           0,
           0,
           0,
           0,
           0,
           0,
           0,
           0,
           0,
           0,
           0
          ],
          [
           6,
           0,
           0,
           0,
           0,
           0,
           0,
           0,
           0,
           0,
           0,
           0,
           0,
           0,
           0,
           0,
           0,
           0,
           0,
           0,
           0,
           0,
           0,
           0,
           0,
           0,
           0,
           0,
           0,
           0
          ],
          [
           1,
           0,
           0,
           0,
           0,
           0,
           0,
           0,
           0,
           0,
           0,
           0,
           0,
           0,
           0,
           0,
           0,
           0,
           0,
           0,
           0,
           0,
           0,
           0,
           0,
           0,
           0,
           0,
           0,
           0
          ],
          [
           1,
           2,
           0,
           0,
           0,
           0,
           0,
           0,
           0,
           0,
           0,
           0,
           0,
           0,
           0,
           0,
           0,
           0,
           0,
           0,
           0,
           0,
           0,
           0,
           0,
           0,
           0,
           0,
           0,
           0
          ]
         ]
        }
       ],
       "layout": {
        "scene": {
         "xaxis": {
          "title": {
           "text": "X (Distance)"
          }
         },
         "yaxis": {
          "title": {
           "text": "Y (Et)"
          }
         },
         "zaxis": {
          "title": {
           "text": "Frequency"
          }
         }
        },
        "template": {
         "data": {
          "bar": [
           {
            "error_x": {
             "color": "#2a3f5f"
            },
            "error_y": {
             "color": "#2a3f5f"
            },
            "marker": {
             "line": {
              "color": "#E5ECF6",
              "width": 0.5
             },
             "pattern": {
              "fillmode": "overlay",
              "size": 10,
              "solidity": 0.2
             }
            },
            "type": "bar"
           }
          ],
          "barpolar": [
           {
            "marker": {
             "line": {
              "color": "#E5ECF6",
              "width": 0.5
             },
             "pattern": {
              "fillmode": "overlay",
              "size": 10,
              "solidity": 0.2
             }
            },
            "type": "barpolar"
           }
          ],
          "carpet": [
           {
            "aaxis": {
             "endlinecolor": "#2a3f5f",
             "gridcolor": "white",
             "linecolor": "white",
             "minorgridcolor": "white",
             "startlinecolor": "#2a3f5f"
            },
            "baxis": {
             "endlinecolor": "#2a3f5f",
             "gridcolor": "white",
             "linecolor": "white",
             "minorgridcolor": "white",
             "startlinecolor": "#2a3f5f"
            },
            "type": "carpet"
           }
          ],
          "choropleth": [
           {
            "colorbar": {
             "outlinewidth": 0,
             "ticks": ""
            },
            "type": "choropleth"
           }
          ],
          "contour": [
           {
            "colorbar": {
             "outlinewidth": 0,
             "ticks": ""
            },
            "colorscale": [
             [
              0,
              "#0d0887"
             ],
             [
              0.1111111111111111,
              "#46039f"
             ],
             [
              0.2222222222222222,
              "#7201a8"
             ],
             [
              0.3333333333333333,
              "#9c179e"
             ],
             [
              0.4444444444444444,
              "#bd3786"
             ],
             [
              0.5555555555555556,
              "#d8576b"
             ],
             [
              0.6666666666666666,
              "#ed7953"
             ],
             [
              0.7777777777777778,
              "#fb9f3a"
             ],
             [
              0.8888888888888888,
              "#fdca26"
             ],
             [
              1,
              "#f0f921"
             ]
            ],
            "type": "contour"
           }
          ],
          "contourcarpet": [
           {
            "colorbar": {
             "outlinewidth": 0,
             "ticks": ""
            },
            "type": "contourcarpet"
           }
          ],
          "heatmap": [
           {
            "colorbar": {
             "outlinewidth": 0,
             "ticks": ""
            },
            "colorscale": [
             [
              0,
              "#0d0887"
             ],
             [
              0.1111111111111111,
              "#46039f"
             ],
             [
              0.2222222222222222,
              "#7201a8"
             ],
             [
              0.3333333333333333,
              "#9c179e"
             ],
             [
              0.4444444444444444,
              "#bd3786"
             ],
             [
              0.5555555555555556,
              "#d8576b"
             ],
             [
              0.6666666666666666,
              "#ed7953"
             ],
             [
              0.7777777777777778,
              "#fb9f3a"
             ],
             [
              0.8888888888888888,
              "#fdca26"
             ],
             [
              1,
              "#f0f921"
             ]
            ],
            "type": "heatmap"
           }
          ],
          "heatmapgl": [
           {
            "colorbar": {
             "outlinewidth": 0,
             "ticks": ""
            },
            "colorscale": [
             [
              0,
              "#0d0887"
             ],
             [
              0.1111111111111111,
              "#46039f"
             ],
             [
              0.2222222222222222,
              "#7201a8"
             ],
             [
              0.3333333333333333,
              "#9c179e"
             ],
             [
              0.4444444444444444,
              "#bd3786"
             ],
             [
              0.5555555555555556,
              "#d8576b"
             ],
             [
              0.6666666666666666,
              "#ed7953"
             ],
             [
              0.7777777777777778,
              "#fb9f3a"
             ],
             [
              0.8888888888888888,
              "#fdca26"
             ],
             [
              1,
              "#f0f921"
             ]
            ],
            "type": "heatmapgl"
           }
          ],
          "histogram": [
           {
            "marker": {
             "pattern": {
              "fillmode": "overlay",
              "size": 10,
              "solidity": 0.2
             }
            },
            "type": "histogram"
           }
          ],
          "histogram2d": [
           {
            "colorbar": {
             "outlinewidth": 0,
             "ticks": ""
            },
            "colorscale": [
             [
              0,
              "#0d0887"
             ],
             [
              0.1111111111111111,
              "#46039f"
             ],
             [
              0.2222222222222222,
              "#7201a8"
             ],
             [
              0.3333333333333333,
              "#9c179e"
             ],
             [
              0.4444444444444444,
              "#bd3786"
             ],
             [
              0.5555555555555556,
              "#d8576b"
             ],
             [
              0.6666666666666666,
              "#ed7953"
             ],
             [
              0.7777777777777778,
              "#fb9f3a"
             ],
             [
              0.8888888888888888,
              "#fdca26"
             ],
             [
              1,
              "#f0f921"
             ]
            ],
            "type": "histogram2d"
           }
          ],
          "histogram2dcontour": [
           {
            "colorbar": {
             "outlinewidth": 0,
             "ticks": ""
            },
            "colorscale": [
             [
              0,
              "#0d0887"
             ],
             [
              0.1111111111111111,
              "#46039f"
             ],
             [
              0.2222222222222222,
              "#7201a8"
             ],
             [
              0.3333333333333333,
              "#9c179e"
             ],
             [
              0.4444444444444444,
              "#bd3786"
             ],
             [
              0.5555555555555556,
              "#d8576b"
             ],
             [
              0.6666666666666666,
              "#ed7953"
             ],
             [
              0.7777777777777778,
              "#fb9f3a"
             ],
             [
              0.8888888888888888,
              "#fdca26"
             ],
             [
              1,
              "#f0f921"
             ]
            ],
            "type": "histogram2dcontour"
           }
          ],
          "mesh3d": [
           {
            "colorbar": {
             "outlinewidth": 0,
             "ticks": ""
            },
            "type": "mesh3d"
           }
          ],
          "parcoords": [
           {
            "line": {
             "colorbar": {
              "outlinewidth": 0,
              "ticks": ""
             }
            },
            "type": "parcoords"
           }
          ],
          "pie": [
           {
            "automargin": true,
            "type": "pie"
           }
          ],
          "scatter": [
           {
            "fillpattern": {
             "fillmode": "overlay",
             "size": 10,
             "solidity": 0.2
            },
            "type": "scatter"
           }
          ],
          "scatter3d": [
           {
            "line": {
             "colorbar": {
              "outlinewidth": 0,
              "ticks": ""
             }
            },
            "marker": {
             "colorbar": {
              "outlinewidth": 0,
              "ticks": ""
             }
            },
            "type": "scatter3d"
           }
          ],
          "scattercarpet": [
           {
            "marker": {
             "colorbar": {
              "outlinewidth": 0,
              "ticks": ""
             }
            },
            "type": "scattercarpet"
           }
          ],
          "scattergeo": [
           {
            "marker": {
             "colorbar": {
              "outlinewidth": 0,
              "ticks": ""
             }
            },
            "type": "scattergeo"
           }
          ],
          "scattergl": [
           {
            "marker": {
             "colorbar": {
              "outlinewidth": 0,
              "ticks": ""
             }
            },
            "type": "scattergl"
           }
          ],
          "scattermapbox": [
           {
            "marker": {
             "colorbar": {
              "outlinewidth": 0,
              "ticks": ""
             }
            },
            "type": "scattermapbox"
           }
          ],
          "scatterpolar": [
           {
            "marker": {
             "colorbar": {
              "outlinewidth": 0,
              "ticks": ""
             }
            },
            "type": "scatterpolar"
           }
          ],
          "scatterpolargl": [
           {
            "marker": {
             "colorbar": {
              "outlinewidth": 0,
              "ticks": ""
             }
            },
            "type": "scatterpolargl"
           }
          ],
          "scatterternary": [
           {
            "marker": {
             "colorbar": {
              "outlinewidth": 0,
              "ticks": ""
             }
            },
            "type": "scatterternary"
           }
          ],
          "surface": [
           {
            "colorbar": {
             "outlinewidth": 0,
             "ticks": ""
            },
            "colorscale": [
             [
              0,
              "#0d0887"
             ],
             [
              0.1111111111111111,
              "#46039f"
             ],
             [
              0.2222222222222222,
              "#7201a8"
             ],
             [
              0.3333333333333333,
              "#9c179e"
             ],
             [
              0.4444444444444444,
              "#bd3786"
             ],
             [
              0.5555555555555556,
              "#d8576b"
             ],
             [
              0.6666666666666666,
              "#ed7953"
             ],
             [
              0.7777777777777778,
              "#fb9f3a"
             ],
             [
              0.8888888888888888,
              "#fdca26"
             ],
             [
              1,
              "#f0f921"
             ]
            ],
            "type": "surface"
           }
          ],
          "table": [
           {
            "cells": {
             "fill": {
              "color": "#EBF0F8"
             },
             "line": {
              "color": "white"
             }
            },
            "header": {
             "fill": {
              "color": "#C8D4E3"
             },
             "line": {
              "color": "white"
             }
            },
            "type": "table"
           }
          ]
         },
         "layout": {
          "annotationdefaults": {
           "arrowcolor": "#2a3f5f",
           "arrowhead": 0,
           "arrowwidth": 1
          },
          "autotypenumbers": "strict",
          "coloraxis": {
           "colorbar": {
            "outlinewidth": 0,
            "ticks": ""
           }
          },
          "colorscale": {
           "diverging": [
            [
             0,
             "#8e0152"
            ],
            [
             0.1,
             "#c51b7d"
            ],
            [
             0.2,
             "#de77ae"
            ],
            [
             0.3,
             "#f1b6da"
            ],
            [
             0.4,
             "#fde0ef"
            ],
            [
             0.5,
             "#f7f7f7"
            ],
            [
             0.6,
             "#e6f5d0"
            ],
            [
             0.7,
             "#b8e186"
            ],
            [
             0.8,
             "#7fbc41"
            ],
            [
             0.9,
             "#4d9221"
            ],
            [
             1,
             "#276419"
            ]
           ],
           "sequential": [
            [
             0,
             "#0d0887"
            ],
            [
             0.1111111111111111,
             "#46039f"
            ],
            [
             0.2222222222222222,
             "#7201a8"
            ],
            [
             0.3333333333333333,
             "#9c179e"
            ],
            [
             0.4444444444444444,
             "#bd3786"
            ],
            [
             0.5555555555555556,
             "#d8576b"
            ],
            [
             0.6666666666666666,
             "#ed7953"
            ],
            [
             0.7777777777777778,
             "#fb9f3a"
            ],
            [
             0.8888888888888888,
             "#fdca26"
            ],
            [
             1,
             "#f0f921"
            ]
           ],
           "sequentialminus": [
            [
             0,
             "#0d0887"
            ],
            [
             0.1111111111111111,
             "#46039f"
            ],
            [
             0.2222222222222222,
             "#7201a8"
            ],
            [
             0.3333333333333333,
             "#9c179e"
            ],
            [
             0.4444444444444444,
             "#bd3786"
            ],
            [
             0.5555555555555556,
             "#d8576b"
            ],
            [
             0.6666666666666666,
             "#ed7953"
            ],
            [
             0.7777777777777778,
             "#fb9f3a"
            ],
            [
             0.8888888888888888,
             "#fdca26"
            ],
            [
             1,
             "#f0f921"
            ]
           ]
          },
          "colorway": [
           "#636efa",
           "#EF553B",
           "#00cc96",
           "#ab63fa",
           "#FFA15A",
           "#19d3f3",
           "#FF6692",
           "#B6E880",
           "#FF97FF",
           "#FECB52"
          ],
          "font": {
           "color": "#2a3f5f"
          },
          "geo": {
           "bgcolor": "white",
           "lakecolor": "white",
           "landcolor": "#E5ECF6",
           "showlakes": true,
           "showland": true,
           "subunitcolor": "white"
          },
          "hoverlabel": {
           "align": "left"
          },
          "hovermode": "closest",
          "mapbox": {
           "style": "light"
          },
          "paper_bgcolor": "white",
          "plot_bgcolor": "#E5ECF6",
          "polar": {
           "angularaxis": {
            "gridcolor": "white",
            "linecolor": "white",
            "ticks": ""
           },
           "bgcolor": "#E5ECF6",
           "radialaxis": {
            "gridcolor": "white",
            "linecolor": "white",
            "ticks": ""
           }
          },
          "scene": {
           "xaxis": {
            "backgroundcolor": "#E5ECF6",
            "gridcolor": "white",
            "gridwidth": 2,
            "linecolor": "white",
            "showbackground": true,
            "ticks": "",
            "zerolinecolor": "white"
           },
           "yaxis": {
            "backgroundcolor": "#E5ECF6",
            "gridcolor": "white",
            "gridwidth": 2,
            "linecolor": "white",
            "showbackground": true,
            "ticks": "",
            "zerolinecolor": "white"
           },
           "zaxis": {
            "backgroundcolor": "#E5ECF6",
            "gridcolor": "white",
            "gridwidth": 2,
            "linecolor": "white",
            "showbackground": true,
            "ticks": "",
            "zerolinecolor": "white"
           }
          },
          "shapedefaults": {
           "line": {
            "color": "#2a3f5f"
           }
          },
          "ternary": {
           "aaxis": {
            "gridcolor": "white",
            "linecolor": "white",
            "ticks": ""
           },
           "baxis": {
            "gridcolor": "white",
            "linecolor": "white",
            "ticks": ""
           },
           "bgcolor": "#E5ECF6",
           "caxis": {
            "gridcolor": "white",
            "linecolor": "white",
            "ticks": ""
           }
          },
          "title": {
           "x": 0.05
          },
          "xaxis": {
           "automargin": true,
           "gridcolor": "white",
           "linecolor": "white",
           "ticks": "",
           "title": {
            "standoff": 15
           },
           "zerolinecolor": "white",
           "zerolinewidth": 2
          },
          "yaxis": {
           "automargin": true,
           "gridcolor": "white",
           "linecolor": "white",
           "ticks": "",
           "title": {
            "standoff": 15
           },
           "zerolinecolor": "white",
           "zerolinewidth": 2
          }
         }
        },
        "title": {
         "text": "Interactive 3D Histogram"
        }
       }
      }
     },
     "metadata": {},
     "output_type": "display_data"
    }
   ],
   "source": [
    "visualise_topocluster_ETs(DFs[0])\n"
   ]
  },
  {
   "cell_type": "code",
   "execution_count": 4,
   "metadata": {},
   "outputs": [
    {
     "name": "stdout",
     "output_type": "stream",
     "text": [
      "0.0 %\n",
      "0.3 %\n",
      "0.5 %\n",
      "0.8 %\n",
      "1.1 %\n",
      "1.3 %\n",
      "1.6 %\n",
      "1.9 %\n",
      "2.2 %\n",
      "2.4 %\n",
      "2.7 %\n",
      "3.0 %\n",
      "3.2 %\n",
      "3.5 %\n",
      "3.8 %\n",
      "4.0 %\n",
      "4.3 %\n",
      "4.6 %\n",
      "4.8 %\n",
      "5.1 %\n",
      "5.4 %\n",
      "5.6 %\n",
      "5.9 %\n",
      "6.2 %\n",
      "6.5 %\n",
      "6.7 %\n",
      "7.0 %\n",
      "7.3 %\n",
      "7.5 %\n",
      "7.8 %\n",
      "8.1 %\n",
      "8.3 %\n",
      "8.6 %\n",
      "8.9 %\n",
      "9.1 %\n",
      "9.4 %\n",
      "9.7 %\n",
      "10.0 %\n",
      "10.2 %\n",
      "10.5 %\n",
      "10.8 %\n",
      "11.0 %\n",
      "11.3 %\n",
      "11.6 %\n",
      "11.8 %\n",
      "12.1 %\n",
      "12.4 %\n",
      "12.6 %\n",
      "12.9 %\n",
      "13.2 %\n",
      "13.4 %\n",
      "13.7 %\n",
      "14.0 %\n",
      "14.3 %\n",
      "14.5 %\n",
      "14.8 %\n",
      "15.1 %\n",
      "15.3 %\n",
      "15.6 %\n",
      "15.9 %\n",
      "16.1 %\n",
      "16.4 %\n",
      "16.7 %\n",
      "16.9 %\n",
      "17.2 %\n",
      "17.5 %\n",
      "17.8 %\n",
      "18.0 %\n",
      "18.3 %\n",
      "18.6 %\n",
      "18.8 %\n",
      "19.1 %\n",
      "19.4 %\n",
      "19.6 %\n",
      "19.9 %\n",
      "20.2 %\n",
      "20.4 %\n",
      "20.7 %\n",
      "21.0 %\n",
      "21.2 %\n",
      "21.5 %\n",
      "21.8 %\n",
      "22.1 %\n",
      "22.3 %\n",
      "22.6 %\n",
      "22.9 %\n",
      "23.1 %\n",
      "23.4 %\n",
      "23.7 %\n",
      "23.9 %\n",
      "24.2 %\n",
      "24.5 %\n",
      "24.7 %\n",
      "25.0 %\n",
      "25.3 %\n",
      "25.6 %\n",
      "25.8 %\n",
      "26.1 %\n",
      "26.4 %\n",
      "26.6 %\n",
      "26.9 %\n",
      "27.2 %\n",
      "27.4 %\n",
      "27.7 %\n",
      "28.0 %\n",
      "28.2 %\n",
      "28.5 %\n",
      "28.8 %\n",
      "29.1 %\n",
      "29.3 %\n",
      "29.6 %\n",
      "29.9 %\n",
      "30.1 %\n",
      "30.4 %\n",
      "30.7 %\n",
      "30.9 %\n",
      "31.2 %\n",
      "31.5 %\n",
      "31.7 %\n",
      "32.0 %\n",
      "32.3 %\n",
      "32.5 %\n",
      "32.8 %\n",
      "33.1 %\n",
      "33.4 %\n",
      "33.6 %\n",
      "33.9 %\n",
      "34.2 %\n",
      "34.4 %\n",
      "34.7 %\n",
      "35.0 %\n",
      "35.2 %\n",
      "35.5 %\n",
      "35.8 %\n",
      "36.0 %\n",
      "36.3 %\n",
      "36.6 %\n",
      "36.9 %\n",
      "37.1 %\n",
      "37.4 %\n",
      "37.7 %\n",
      "37.9 %\n",
      "38.2 %\n",
      "38.5 %\n",
      "38.7 %\n",
      "39.0 %\n",
      "39.3 %\n",
      "39.5 %\n",
      "39.8 %\n",
      "40.1 %\n",
      "40.3 %\n",
      "40.6 %\n",
      "40.9 %\n",
      "41.2 %\n",
      "41.4 %\n",
      "41.7 %\n",
      "42.0 %\n",
      "42.2 %\n",
      "42.5 %\n",
      "42.8 %\n",
      "43.0 %\n",
      "43.3 %\n",
      "43.6 %\n",
      "43.8 %\n",
      "44.1 %\n",
      "44.4 %\n",
      "44.7 %\n",
      "44.9 %\n",
      "45.2 %\n",
      "45.5 %\n",
      "45.7 %\n",
      "46.0 %\n",
      "46.3 %\n",
      "46.5 %\n",
      "46.8 %\n",
      "47.1 %\n",
      "47.3 %\n",
      "47.6 %\n",
      "47.9 %\n",
      "48.1 %\n",
      "48.4 %\n",
      "48.7 %\n",
      "49.0 %\n",
      "49.2 %\n",
      "49.5 %\n",
      "49.8 %\n",
      "50.0 %\n",
      "50.3 %\n",
      "50.6 %\n",
      "50.8 %\n",
      "51.1 %\n",
      "51.4 %\n",
      "51.6 %\n",
      "51.9 %\n",
      "52.2 %\n",
      "52.5 %\n",
      "52.7 %\n",
      "53.0 %\n",
      "53.3 %\n",
      "53.5 %\n",
      "53.8 %\n",
      "54.1 %\n",
      "54.3 %\n",
      "54.6 %\n",
      "54.9 %\n",
      "55.1 %\n",
      "55.4 %\n",
      "55.7 %\n",
      "55.9 %\n",
      "56.2 %\n",
      "56.5 %\n",
      "56.8 %\n",
      "57.0 %\n",
      "57.3 %\n",
      "57.6 %\n",
      "57.8 %\n",
      "58.1 %\n",
      "58.4 %\n",
      "58.6 %\n",
      "58.9 %\n",
      "59.2 %\n",
      "59.4 %\n",
      "59.7 %\n",
      "60.0 %\n",
      "60.3 %\n",
      "60.5 %\n",
      "60.8 %\n",
      "61.1 %\n",
      "61.3 %\n",
      "61.6 %\n",
      "61.9 %\n",
      "62.1 %\n",
      "62.4 %\n",
      "62.7 %\n",
      "62.9 %\n",
      "63.2 %\n",
      "63.5 %\n",
      "63.7 %\n",
      "64.0 %\n",
      "64.3 %\n",
      "64.6 %\n",
      "64.8 %\n",
      "65.1 %\n",
      "65.4 %\n",
      "65.6 %\n",
      "65.9 %\n",
      "66.2 %\n",
      "66.4 %\n",
      "66.7 %\n",
      "67.0 %\n",
      "67.2 %\n",
      "67.5 %\n",
      "67.8 %\n",
      "68.1 %\n",
      "68.3 %\n",
      "68.6 %\n",
      "68.9 %\n",
      "69.1 %\n",
      "69.4 %\n",
      "69.7 %\n",
      "69.9 %\n",
      "70.2 %\n",
      "70.5 %\n",
      "70.7 %\n",
      "71.0 %\n",
      "71.3 %\n",
      "71.6 %\n",
      "71.8 %\n",
      "72.1 %\n",
      "72.4 %\n",
      "72.6 %\n",
      "72.9 %\n",
      "73.2 %\n",
      "73.4 %\n",
      "73.7 %\n",
      "74.0 %\n",
      "74.2 %\n",
      "74.5 %\n",
      "74.8 %\n",
      "75.0 %\n",
      "75.3 %\n",
      "75.6 %\n",
      "75.9 %\n",
      "76.1 %\n",
      "76.4 %\n",
      "76.7 %\n",
      "76.9 %\n",
      "77.2 %\n",
      "77.5 %\n",
      "77.7 %\n",
      "78.0 %\n",
      "78.3 %\n",
      "78.5 %\n",
      "78.8 %\n",
      "79.1 %\n",
      "79.4 %\n",
      "79.6 %\n",
      "79.9 %\n",
      "80.2 %\n",
      "80.4 %\n",
      "80.7 %\n",
      "81.0 %\n",
      "81.2 %\n",
      "81.5 %\n",
      "81.8 %\n",
      "82.0 %\n",
      "82.3 %\n",
      "82.6 %\n",
      "82.8 %\n",
      "83.1 %\n",
      "83.4 %\n",
      "83.7 %\n",
      "83.9 %\n",
      "84.2 %\n",
      "84.5 %\n",
      "84.7 %\n",
      "85.0 %\n",
      "85.3 %\n",
      "85.5 %\n",
      "85.8 %\n",
      "86.1 %\n",
      "86.3 %\n",
      "86.6 %\n",
      "86.9 %\n",
      "87.2 %\n",
      "87.4 %\n",
      "87.7 %\n",
      "88.0 %\n",
      "88.2 %\n",
      "88.5 %\n",
      "88.8 %\n",
      "89.0 %\n",
      "89.3 %\n",
      "89.6 %\n",
      "89.8 %\n",
      "90.1 %\n",
      "90.4 %\n",
      "90.6 %\n",
      "90.9 %\n",
      "91.2 %\n",
      "91.5 %\n",
      "91.7 %\n",
      "92.0 %\n",
      "92.3 %\n",
      "92.5 %\n",
      "92.8 %\n",
      "93.1 %\n",
      "93.3 %\n",
      "93.6 %\n",
      "93.9 %\n",
      "94.1 %\n",
      "94.4 %\n",
      "94.7 %\n",
      "95.0 %\n",
      "95.2 %\n",
      "95.5 %\n",
      "95.8 %\n",
      "96.0 %\n",
      "96.3 %\n",
      "96.6 %\n",
      "96.8 %\n",
      "97.1 %\n",
      "97.4 %\n",
      "97.6 %\n",
      "97.9 %\n",
      "98.2 %\n",
      "98.4 %\n",
      "98.7 %\n",
      "99.0 %\n",
      "99.3 %\n",
      "99.5 %\n",
      "99.8 %\n"
     ]
    },
    {
     "data": {
      "application/vnd.plotly.v1+json": {
       "config": {
        "plotlyServerURL": "https://plot.ly"
       },
       "data": [
        {
         "type": "surface",
         "x": [
          [
           0,
           0,
           0,
           0,
           0,
           0,
           0,
           0,
           0,
           0,
           0,
           0,
           0,
           0,
           0,
           0,
           0,
           0,
           0,
           0,
           0,
           0,
           0,
           0,
           0,
           0,
           0,
           0,
           0,
           0
          ],
          [
           0.11683188048151871,
           0.11683188048151871,
           0.11683188048151871,
           0.11683188048151871,
           0.11683188048151871,
           0.11683188048151871,
           0.11683188048151871,
           0.11683188048151871,
           0.11683188048151871,
           0.11683188048151871,
           0.11683188048151871,
           0.11683188048151871,
           0.11683188048151871,
           0.11683188048151871,
           0.11683188048151871,
           0.11683188048151871,
           0.11683188048151871,
           0.11683188048151871,
           0.11683188048151871,
           0.11683188048151871,
           0.11683188048151871,
           0.11683188048151871,
           0.11683188048151871,
           0.11683188048151871,
           0.11683188048151871,
           0.11683188048151871,
           0.11683188048151871,
           0.11683188048151871,
           0.11683188048151871,
           0.11683188048151871
          ],
          [
           0.23366376096303743,
           0.23366376096303743,
           0.23366376096303743,
           0.23366376096303743,
           0.23366376096303743,
           0.23366376096303743,
           0.23366376096303743,
           0.23366376096303743,
           0.23366376096303743,
           0.23366376096303743,
           0.23366376096303743,
           0.23366376096303743,
           0.23366376096303743,
           0.23366376096303743,
           0.23366376096303743,
           0.23366376096303743,
           0.23366376096303743,
           0.23366376096303743,
           0.23366376096303743,
           0.23366376096303743,
           0.23366376096303743,
           0.23366376096303743,
           0.23366376096303743,
           0.23366376096303743,
           0.23366376096303743,
           0.23366376096303743,
           0.23366376096303743,
           0.23366376096303743,
           0.23366376096303743,
           0.23366376096303743
          ],
          [
           0.35049564144455614,
           0.35049564144455614,
           0.35049564144455614,
           0.35049564144455614,
           0.35049564144455614,
           0.35049564144455614,
           0.35049564144455614,
           0.35049564144455614,
           0.35049564144455614,
           0.35049564144455614,
           0.35049564144455614,
           0.35049564144455614,
           0.35049564144455614,
           0.35049564144455614,
           0.35049564144455614,
           0.35049564144455614,
           0.35049564144455614,
           0.35049564144455614,
           0.35049564144455614,
           0.35049564144455614,
           0.35049564144455614,
           0.35049564144455614,
           0.35049564144455614,
           0.35049564144455614,
           0.35049564144455614,
           0.35049564144455614,
           0.35049564144455614,
           0.35049564144455614,
           0.35049564144455614,
           0.35049564144455614
          ],
          [
           0.46732752192607485,
           0.46732752192607485,
           0.46732752192607485,
           0.46732752192607485,
           0.46732752192607485,
           0.46732752192607485,
           0.46732752192607485,
           0.46732752192607485,
           0.46732752192607485,
           0.46732752192607485,
           0.46732752192607485,
           0.46732752192607485,
           0.46732752192607485,
           0.46732752192607485,
           0.46732752192607485,
           0.46732752192607485,
           0.46732752192607485,
           0.46732752192607485,
           0.46732752192607485,
           0.46732752192607485,
           0.46732752192607485,
           0.46732752192607485,
           0.46732752192607485,
           0.46732752192607485,
           0.46732752192607485,
           0.46732752192607485,
           0.46732752192607485,
           0.46732752192607485,
           0.46732752192607485,
           0.46732752192607485
          ],
          [
           0.5841594024075936,
           0.5841594024075936,
           0.5841594024075936,
           0.5841594024075936,
           0.5841594024075936,
           0.5841594024075936,
           0.5841594024075936,
           0.5841594024075936,
           0.5841594024075936,
           0.5841594024075936,
           0.5841594024075936,
           0.5841594024075936,
           0.5841594024075936,
           0.5841594024075936,
           0.5841594024075936,
           0.5841594024075936,
           0.5841594024075936,
           0.5841594024075936,
           0.5841594024075936,
           0.5841594024075936,
           0.5841594024075936,
           0.5841594024075936,
           0.5841594024075936,
           0.5841594024075936,
           0.5841594024075936,
           0.5841594024075936,
           0.5841594024075936,
           0.5841594024075936,
           0.5841594024075936,
           0.5841594024075936
          ],
          [
           0.7009912828891123,
           0.7009912828891123,
           0.7009912828891123,
           0.7009912828891123,
           0.7009912828891123,
           0.7009912828891123,
           0.7009912828891123,
           0.7009912828891123,
           0.7009912828891123,
           0.7009912828891123,
           0.7009912828891123,
           0.7009912828891123,
           0.7009912828891123,
           0.7009912828891123,
           0.7009912828891123,
           0.7009912828891123,
           0.7009912828891123,
           0.7009912828891123,
           0.7009912828891123,
           0.7009912828891123,
           0.7009912828891123,
           0.7009912828891123,
           0.7009912828891123,
           0.7009912828891123,
           0.7009912828891123,
           0.7009912828891123,
           0.7009912828891123,
           0.7009912828891123,
           0.7009912828891123,
           0.7009912828891123
          ],
          [
           0.817823163370631,
           0.817823163370631,
           0.817823163370631,
           0.817823163370631,
           0.817823163370631,
           0.817823163370631,
           0.817823163370631,
           0.817823163370631,
           0.817823163370631,
           0.817823163370631,
           0.817823163370631,
           0.817823163370631,
           0.817823163370631,
           0.817823163370631,
           0.817823163370631,
           0.817823163370631,
           0.817823163370631,
           0.817823163370631,
           0.817823163370631,
           0.817823163370631,
           0.817823163370631,
           0.817823163370631,
           0.817823163370631,
           0.817823163370631,
           0.817823163370631,
           0.817823163370631,
           0.817823163370631,
           0.817823163370631,
           0.817823163370631,
           0.817823163370631
          ],
          [
           0.9346550438521497,
           0.9346550438521497,
           0.9346550438521497,
           0.9346550438521497,
           0.9346550438521497,
           0.9346550438521497,
           0.9346550438521497,
           0.9346550438521497,
           0.9346550438521497,
           0.9346550438521497,
           0.9346550438521497,
           0.9346550438521497,
           0.9346550438521497,
           0.9346550438521497,
           0.9346550438521497,
           0.9346550438521497,
           0.9346550438521497,
           0.9346550438521497,
           0.9346550438521497,
           0.9346550438521497,
           0.9346550438521497,
           0.9346550438521497,
           0.9346550438521497,
           0.9346550438521497,
           0.9346550438521497,
           0.9346550438521497,
           0.9346550438521497,
           0.9346550438521497,
           0.9346550438521497,
           0.9346550438521497
          ],
          [
           1.0514869243336684,
           1.0514869243336684,
           1.0514869243336684,
           1.0514869243336684,
           1.0514869243336684,
           1.0514869243336684,
           1.0514869243336684,
           1.0514869243336684,
           1.0514869243336684,
           1.0514869243336684,
           1.0514869243336684,
           1.0514869243336684,
           1.0514869243336684,
           1.0514869243336684,
           1.0514869243336684,
           1.0514869243336684,
           1.0514869243336684,
           1.0514869243336684,
           1.0514869243336684,
           1.0514869243336684,
           1.0514869243336684,
           1.0514869243336684,
           1.0514869243336684,
           1.0514869243336684,
           1.0514869243336684,
           1.0514869243336684,
           1.0514869243336684,
           1.0514869243336684,
           1.0514869243336684,
           1.0514869243336684
          ],
          [
           1.1683188048151871,
           1.1683188048151871,
           1.1683188048151871,
           1.1683188048151871,
           1.1683188048151871,
           1.1683188048151871,
           1.1683188048151871,
           1.1683188048151871,
           1.1683188048151871,
           1.1683188048151871,
           1.1683188048151871,
           1.1683188048151871,
           1.1683188048151871,
           1.1683188048151871,
           1.1683188048151871,
           1.1683188048151871,
           1.1683188048151871,
           1.1683188048151871,
           1.1683188048151871,
           1.1683188048151871,
           1.1683188048151871,
           1.1683188048151871,
           1.1683188048151871,
           1.1683188048151871,
           1.1683188048151871,
           1.1683188048151871,
           1.1683188048151871,
           1.1683188048151871,
           1.1683188048151871,
           1.1683188048151871
          ],
          [
           1.2851506852967058,
           1.2851506852967058,
           1.2851506852967058,
           1.2851506852967058,
           1.2851506852967058,
           1.2851506852967058,
           1.2851506852967058,
           1.2851506852967058,
           1.2851506852967058,
           1.2851506852967058,
           1.2851506852967058,
           1.2851506852967058,
           1.2851506852967058,
           1.2851506852967058,
           1.2851506852967058,
           1.2851506852967058,
           1.2851506852967058,
           1.2851506852967058,
           1.2851506852967058,
           1.2851506852967058,
           1.2851506852967058,
           1.2851506852967058,
           1.2851506852967058,
           1.2851506852967058,
           1.2851506852967058,
           1.2851506852967058,
           1.2851506852967058,
           1.2851506852967058,
           1.2851506852967058,
           1.2851506852967058
          ],
          [
           1.4019825657782246,
           1.4019825657782246,
           1.4019825657782246,
           1.4019825657782246,
           1.4019825657782246,
           1.4019825657782246,
           1.4019825657782246,
           1.4019825657782246,
           1.4019825657782246,
           1.4019825657782246,
           1.4019825657782246,
           1.4019825657782246,
           1.4019825657782246,
           1.4019825657782246,
           1.4019825657782246,
           1.4019825657782246,
           1.4019825657782246,
           1.4019825657782246,
           1.4019825657782246,
           1.4019825657782246,
           1.4019825657782246,
           1.4019825657782246,
           1.4019825657782246,
           1.4019825657782246,
           1.4019825657782246,
           1.4019825657782246,
           1.4019825657782246,
           1.4019825657782246,
           1.4019825657782246,
           1.4019825657782246
          ],
          [
           1.5188144462597433,
           1.5188144462597433,
           1.5188144462597433,
           1.5188144462597433,
           1.5188144462597433,
           1.5188144462597433,
           1.5188144462597433,
           1.5188144462597433,
           1.5188144462597433,
           1.5188144462597433,
           1.5188144462597433,
           1.5188144462597433,
           1.5188144462597433,
           1.5188144462597433,
           1.5188144462597433,
           1.5188144462597433,
           1.5188144462597433,
           1.5188144462597433,
           1.5188144462597433,
           1.5188144462597433,
           1.5188144462597433,
           1.5188144462597433,
           1.5188144462597433,
           1.5188144462597433,
           1.5188144462597433,
           1.5188144462597433,
           1.5188144462597433,
           1.5188144462597433,
           1.5188144462597433,
           1.5188144462597433
          ],
          [
           1.635646326741262,
           1.635646326741262,
           1.635646326741262,
           1.635646326741262,
           1.635646326741262,
           1.635646326741262,
           1.635646326741262,
           1.635646326741262,
           1.635646326741262,
           1.635646326741262,
           1.635646326741262,
           1.635646326741262,
           1.635646326741262,
           1.635646326741262,
           1.635646326741262,
           1.635646326741262,
           1.635646326741262,
           1.635646326741262,
           1.635646326741262,
           1.635646326741262,
           1.635646326741262,
           1.635646326741262,
           1.635646326741262,
           1.635646326741262,
           1.635646326741262,
           1.635646326741262,
           1.635646326741262,
           1.635646326741262,
           1.635646326741262,
           1.635646326741262
          ],
          [
           1.7524782072227807,
           1.7524782072227807,
           1.7524782072227807,
           1.7524782072227807,
           1.7524782072227807,
           1.7524782072227807,
           1.7524782072227807,
           1.7524782072227807,
           1.7524782072227807,
           1.7524782072227807,
           1.7524782072227807,
           1.7524782072227807,
           1.7524782072227807,
           1.7524782072227807,
           1.7524782072227807,
           1.7524782072227807,
           1.7524782072227807,
           1.7524782072227807,
           1.7524782072227807,
           1.7524782072227807,
           1.7524782072227807,
           1.7524782072227807,
           1.7524782072227807,
           1.7524782072227807,
           1.7524782072227807,
           1.7524782072227807,
           1.7524782072227807,
           1.7524782072227807,
           1.7524782072227807,
           1.7524782072227807
          ],
          [
           1.8693100877042994,
           1.8693100877042994,
           1.8693100877042994,
           1.8693100877042994,
           1.8693100877042994,
           1.8693100877042994,
           1.8693100877042994,
           1.8693100877042994,
           1.8693100877042994,
           1.8693100877042994,
           1.8693100877042994,
           1.8693100877042994,
           1.8693100877042994,
           1.8693100877042994,
           1.8693100877042994,
           1.8693100877042994,
           1.8693100877042994,
           1.8693100877042994,
           1.8693100877042994,
           1.8693100877042994,
           1.8693100877042994,
           1.8693100877042994,
           1.8693100877042994,
           1.8693100877042994,
           1.8693100877042994,
           1.8693100877042994,
           1.8693100877042994,
           1.8693100877042994,
           1.8693100877042994,
           1.8693100877042994
          ],
          [
           1.9861419681858181,
           1.9861419681858181,
           1.9861419681858181,
           1.9861419681858181,
           1.9861419681858181,
           1.9861419681858181,
           1.9861419681858181,
           1.9861419681858181,
           1.9861419681858181,
           1.9861419681858181,
           1.9861419681858181,
           1.9861419681858181,
           1.9861419681858181,
           1.9861419681858181,
           1.9861419681858181,
           1.9861419681858181,
           1.9861419681858181,
           1.9861419681858181,
           1.9861419681858181,
           1.9861419681858181,
           1.9861419681858181,
           1.9861419681858181,
           1.9861419681858181,
           1.9861419681858181,
           1.9861419681858181,
           1.9861419681858181,
           1.9861419681858181,
           1.9861419681858181,
           1.9861419681858181,
           1.9861419681858181
          ],
          [
           2.102973848667337,
           2.102973848667337,
           2.102973848667337,
           2.102973848667337,
           2.102973848667337,
           2.102973848667337,
           2.102973848667337,
           2.102973848667337,
           2.102973848667337,
           2.102973848667337,
           2.102973848667337,
           2.102973848667337,
           2.102973848667337,
           2.102973848667337,
           2.102973848667337,
           2.102973848667337,
           2.102973848667337,
           2.102973848667337,
           2.102973848667337,
           2.102973848667337,
           2.102973848667337,
           2.102973848667337,
           2.102973848667337,
           2.102973848667337,
           2.102973848667337,
           2.102973848667337,
           2.102973848667337,
           2.102973848667337,
           2.102973848667337,
           2.102973848667337
          ],
          [
           2.2198057291488555,
           2.2198057291488555,
           2.2198057291488555,
           2.2198057291488555,
           2.2198057291488555,
           2.2198057291488555,
           2.2198057291488555,
           2.2198057291488555,
           2.2198057291488555,
           2.2198057291488555,
           2.2198057291488555,
           2.2198057291488555,
           2.2198057291488555,
           2.2198057291488555,
           2.2198057291488555,
           2.2198057291488555,
           2.2198057291488555,
           2.2198057291488555,
           2.2198057291488555,
           2.2198057291488555,
           2.2198057291488555,
           2.2198057291488555,
           2.2198057291488555,
           2.2198057291488555,
           2.2198057291488555,
           2.2198057291488555,
           2.2198057291488555,
           2.2198057291488555,
           2.2198057291488555,
           2.2198057291488555
          ],
          [
           2.3366376096303743,
           2.3366376096303743,
           2.3366376096303743,
           2.3366376096303743,
           2.3366376096303743,
           2.3366376096303743,
           2.3366376096303743,
           2.3366376096303743,
           2.3366376096303743,
           2.3366376096303743,
           2.3366376096303743,
           2.3366376096303743,
           2.3366376096303743,
           2.3366376096303743,
           2.3366376096303743,
           2.3366376096303743,
           2.3366376096303743,
           2.3366376096303743,
           2.3366376096303743,
           2.3366376096303743,
           2.3366376096303743,
           2.3366376096303743,
           2.3366376096303743,
           2.3366376096303743,
           2.3366376096303743,
           2.3366376096303743,
           2.3366376096303743,
           2.3366376096303743,
           2.3366376096303743,
           2.3366376096303743
          ],
          [
           2.453469490111893,
           2.453469490111893,
           2.453469490111893,
           2.453469490111893,
           2.453469490111893,
           2.453469490111893,
           2.453469490111893,
           2.453469490111893,
           2.453469490111893,
           2.453469490111893,
           2.453469490111893,
           2.453469490111893,
           2.453469490111893,
           2.453469490111893,
           2.453469490111893,
           2.453469490111893,
           2.453469490111893,
           2.453469490111893,
           2.453469490111893,
           2.453469490111893,
           2.453469490111893,
           2.453469490111893,
           2.453469490111893,
           2.453469490111893,
           2.453469490111893,
           2.453469490111893,
           2.453469490111893,
           2.453469490111893,
           2.453469490111893,
           2.453469490111893
          ],
          [
           2.5703013705934117,
           2.5703013705934117,
           2.5703013705934117,
           2.5703013705934117,
           2.5703013705934117,
           2.5703013705934117,
           2.5703013705934117,
           2.5703013705934117,
           2.5703013705934117,
           2.5703013705934117,
           2.5703013705934117,
           2.5703013705934117,
           2.5703013705934117,
           2.5703013705934117,
           2.5703013705934117,
           2.5703013705934117,
           2.5703013705934117,
           2.5703013705934117,
           2.5703013705934117,
           2.5703013705934117,
           2.5703013705934117,
           2.5703013705934117,
           2.5703013705934117,
           2.5703013705934117,
           2.5703013705934117,
           2.5703013705934117,
           2.5703013705934117,
           2.5703013705934117,
           2.5703013705934117,
           2.5703013705934117
          ],
          [
           2.6871332510749304,
           2.6871332510749304,
           2.6871332510749304,
           2.6871332510749304,
           2.6871332510749304,
           2.6871332510749304,
           2.6871332510749304,
           2.6871332510749304,
           2.6871332510749304,
           2.6871332510749304,
           2.6871332510749304,
           2.6871332510749304,
           2.6871332510749304,
           2.6871332510749304,
           2.6871332510749304,
           2.6871332510749304,
           2.6871332510749304,
           2.6871332510749304,
           2.6871332510749304,
           2.6871332510749304,
           2.6871332510749304,
           2.6871332510749304,
           2.6871332510749304,
           2.6871332510749304,
           2.6871332510749304,
           2.6871332510749304,
           2.6871332510749304,
           2.6871332510749304,
           2.6871332510749304,
           2.6871332510749304
          ],
          [
           2.803965131556449,
           2.803965131556449,
           2.803965131556449,
           2.803965131556449,
           2.803965131556449,
           2.803965131556449,
           2.803965131556449,
           2.803965131556449,
           2.803965131556449,
           2.803965131556449,
           2.803965131556449,
           2.803965131556449,
           2.803965131556449,
           2.803965131556449,
           2.803965131556449,
           2.803965131556449,
           2.803965131556449,
           2.803965131556449,
           2.803965131556449,
           2.803965131556449,
           2.803965131556449,
           2.803965131556449,
           2.803965131556449,
           2.803965131556449,
           2.803965131556449,
           2.803965131556449,
           2.803965131556449,
           2.803965131556449,
           2.803965131556449,
           2.803965131556449
          ],
          [
           2.920797012037968,
           2.920797012037968,
           2.920797012037968,
           2.920797012037968,
           2.920797012037968,
           2.920797012037968,
           2.920797012037968,
           2.920797012037968,
           2.920797012037968,
           2.920797012037968,
           2.920797012037968,
           2.920797012037968,
           2.920797012037968,
           2.920797012037968,
           2.920797012037968,
           2.920797012037968,
           2.920797012037968,
           2.920797012037968,
           2.920797012037968,
           2.920797012037968,
           2.920797012037968,
           2.920797012037968,
           2.920797012037968,
           2.920797012037968,
           2.920797012037968,
           2.920797012037968,
           2.920797012037968,
           2.920797012037968,
           2.920797012037968,
           2.920797012037968
          ],
          [
           3.0376288925194865,
           3.0376288925194865,
           3.0376288925194865,
           3.0376288925194865,
           3.0376288925194865,
           3.0376288925194865,
           3.0376288925194865,
           3.0376288925194865,
           3.0376288925194865,
           3.0376288925194865,
           3.0376288925194865,
           3.0376288925194865,
           3.0376288925194865,
           3.0376288925194865,
           3.0376288925194865,
           3.0376288925194865,
           3.0376288925194865,
           3.0376288925194865,
           3.0376288925194865,
           3.0376288925194865,
           3.0376288925194865,
           3.0376288925194865,
           3.0376288925194865,
           3.0376288925194865,
           3.0376288925194865,
           3.0376288925194865,
           3.0376288925194865,
           3.0376288925194865,
           3.0376288925194865,
           3.0376288925194865
          ],
          [
           3.1544607730010052,
           3.1544607730010052,
           3.1544607730010052,
           3.1544607730010052,
           3.1544607730010052,
           3.1544607730010052,
           3.1544607730010052,
           3.1544607730010052,
           3.1544607730010052,
           3.1544607730010052,
           3.1544607730010052,
           3.1544607730010052,
           3.1544607730010052,
           3.1544607730010052,
           3.1544607730010052,
           3.1544607730010052,
           3.1544607730010052,
           3.1544607730010052,
           3.1544607730010052,
           3.1544607730010052,
           3.1544607730010052,
           3.1544607730010052,
           3.1544607730010052,
           3.1544607730010052,
           3.1544607730010052,
           3.1544607730010052,
           3.1544607730010052,
           3.1544607730010052,
           3.1544607730010052,
           3.1544607730010052
          ],
          [
           3.271292653482524,
           3.271292653482524,
           3.271292653482524,
           3.271292653482524,
           3.271292653482524,
           3.271292653482524,
           3.271292653482524,
           3.271292653482524,
           3.271292653482524,
           3.271292653482524,
           3.271292653482524,
           3.271292653482524,
           3.271292653482524,
           3.271292653482524,
           3.271292653482524,
           3.271292653482524,
           3.271292653482524,
           3.271292653482524,
           3.271292653482524,
           3.271292653482524,
           3.271292653482524,
           3.271292653482524,
           3.271292653482524,
           3.271292653482524,
           3.271292653482524,
           3.271292653482524,
           3.271292653482524,
           3.271292653482524,
           3.271292653482524,
           3.271292653482524
          ],
          [
           3.3881245339640427,
           3.3881245339640427,
           3.3881245339640427,
           3.3881245339640427,
           3.3881245339640427,
           3.3881245339640427,
           3.3881245339640427,
           3.3881245339640427,
           3.3881245339640427,
           3.3881245339640427,
           3.3881245339640427,
           3.3881245339640427,
           3.3881245339640427,
           3.3881245339640427,
           3.3881245339640427,
           3.3881245339640427,
           3.3881245339640427,
           3.3881245339640427,
           3.3881245339640427,
           3.3881245339640427,
           3.3881245339640427,
           3.3881245339640427,
           3.3881245339640427,
           3.3881245339640427,
           3.3881245339640427,
           3.3881245339640427,
           3.3881245339640427,
           3.3881245339640427,
           3.3881245339640427,
           3.3881245339640427
          ]
         ],
         "y": [
          [
           -30761.509765625,
           -4528.571940104168,
           21704.365885416664,
           47937.3037109375,
           74170.24153645833,
           100403.17936197916,
           126636.1171875,
           152869.0550130208,
           179101.99283854166,
           205334.9306640625,
           231567.8684895833,
           257800.80631510413,
           284033.744140625,
           310266.6819661458,
           336499.6197916666,
           362732.5576171875,
           388965.4954427083,
           415198.4332682291,
           441431.37109375,
           467664.3089192708,
           493897.2467447916,
           520130.1845703125,
           546363.1223958333,
           572596.0602213541,
           598828.998046875,
           625061.9358723958,
           651294.8736979166,
           677527.8115234375,
           703760.7493489583,
           729993.6871744791
          ],
          [
           -30761.509765625,
           -4528.571940104168,
           21704.365885416664,
           47937.3037109375,
           74170.24153645833,
           100403.17936197916,
           126636.1171875,
           152869.0550130208,
           179101.99283854166,
           205334.9306640625,
           231567.8684895833,
           257800.80631510413,
           284033.744140625,
           310266.6819661458,
           336499.6197916666,
           362732.5576171875,
           388965.4954427083,
           415198.4332682291,
           441431.37109375,
           467664.3089192708,
           493897.2467447916,
           520130.1845703125,
           546363.1223958333,
           572596.0602213541,
           598828.998046875,
           625061.9358723958,
           651294.8736979166,
           677527.8115234375,
           703760.7493489583,
           729993.6871744791
          ],
          [
           -30761.509765625,
           -4528.571940104168,
           21704.365885416664,
           47937.3037109375,
           74170.24153645833,
           100403.17936197916,
           126636.1171875,
           152869.0550130208,
           179101.99283854166,
           205334.9306640625,
           231567.8684895833,
           257800.80631510413,
           284033.744140625,
           310266.6819661458,
           336499.6197916666,
           362732.5576171875,
           388965.4954427083,
           415198.4332682291,
           441431.37109375,
           467664.3089192708,
           493897.2467447916,
           520130.1845703125,
           546363.1223958333,
           572596.0602213541,
           598828.998046875,
           625061.9358723958,
           651294.8736979166,
           677527.8115234375,
           703760.7493489583,
           729993.6871744791
          ],
          [
           -30761.509765625,
           -4528.571940104168,
           21704.365885416664,
           47937.3037109375,
           74170.24153645833,
           100403.17936197916,
           126636.1171875,
           152869.0550130208,
           179101.99283854166,
           205334.9306640625,
           231567.8684895833,
           257800.80631510413,
           284033.744140625,
           310266.6819661458,
           336499.6197916666,
           362732.5576171875,
           388965.4954427083,
           415198.4332682291,
           441431.37109375,
           467664.3089192708,
           493897.2467447916,
           520130.1845703125,
           546363.1223958333,
           572596.0602213541,
           598828.998046875,
           625061.9358723958,
           651294.8736979166,
           677527.8115234375,
           703760.7493489583,
           729993.6871744791
          ],
          [
           -30761.509765625,
           -4528.571940104168,
           21704.365885416664,
           47937.3037109375,
           74170.24153645833,
           100403.17936197916,
           126636.1171875,
           152869.0550130208,
           179101.99283854166,
           205334.9306640625,
           231567.8684895833,
           257800.80631510413,
           284033.744140625,
           310266.6819661458,
           336499.6197916666,
           362732.5576171875,
           388965.4954427083,
           415198.4332682291,
           441431.37109375,
           467664.3089192708,
           493897.2467447916,
           520130.1845703125,
           546363.1223958333,
           572596.0602213541,
           598828.998046875,
           625061.9358723958,
           651294.8736979166,
           677527.8115234375,
           703760.7493489583,
           729993.6871744791
          ],
          [
           -30761.509765625,
           -4528.571940104168,
           21704.365885416664,
           47937.3037109375,
           74170.24153645833,
           100403.17936197916,
           126636.1171875,
           152869.0550130208,
           179101.99283854166,
           205334.9306640625,
           231567.8684895833,
           257800.80631510413,
           284033.744140625,
           310266.6819661458,
           336499.6197916666,
           362732.5576171875,
           388965.4954427083,
           415198.4332682291,
           441431.37109375,
           467664.3089192708,
           493897.2467447916,
           520130.1845703125,
           546363.1223958333,
           572596.0602213541,
           598828.998046875,
           625061.9358723958,
           651294.8736979166,
           677527.8115234375,
           703760.7493489583,
           729993.6871744791
          ],
          [
           -30761.509765625,
           -4528.571940104168,
           21704.365885416664,
           47937.3037109375,
           74170.24153645833,
           100403.17936197916,
           126636.1171875,
           152869.0550130208,
           179101.99283854166,
           205334.9306640625,
           231567.8684895833,
           257800.80631510413,
           284033.744140625,
           310266.6819661458,
           336499.6197916666,
           362732.5576171875,
           388965.4954427083,
           415198.4332682291,
           441431.37109375,
           467664.3089192708,
           493897.2467447916,
           520130.1845703125,
           546363.1223958333,
           572596.0602213541,
           598828.998046875,
           625061.9358723958,
           651294.8736979166,
           677527.8115234375,
           703760.7493489583,
           729993.6871744791
          ],
          [
           -30761.509765625,
           -4528.571940104168,
           21704.365885416664,
           47937.3037109375,
           74170.24153645833,
           100403.17936197916,
           126636.1171875,
           152869.0550130208,
           179101.99283854166,
           205334.9306640625,
           231567.8684895833,
           257800.80631510413,
           284033.744140625,
           310266.6819661458,
           336499.6197916666,
           362732.5576171875,
           388965.4954427083,
           415198.4332682291,
           441431.37109375,
           467664.3089192708,
           493897.2467447916,
           520130.1845703125,
           546363.1223958333,
           572596.0602213541,
           598828.998046875,
           625061.9358723958,
           651294.8736979166,
           677527.8115234375,
           703760.7493489583,
           729993.6871744791
          ],
          [
           -30761.509765625,
           -4528.571940104168,
           21704.365885416664,
           47937.3037109375,
           74170.24153645833,
           100403.17936197916,
           126636.1171875,
           152869.0550130208,
           179101.99283854166,
           205334.9306640625,
           231567.8684895833,
           257800.80631510413,
           284033.744140625,
           310266.6819661458,
           336499.6197916666,
           362732.5576171875,
           388965.4954427083,
           415198.4332682291,
           441431.37109375,
           467664.3089192708,
           493897.2467447916,
           520130.1845703125,
           546363.1223958333,
           572596.0602213541,
           598828.998046875,
           625061.9358723958,
           651294.8736979166,
           677527.8115234375,
           703760.7493489583,
           729993.6871744791
          ],
          [
           -30761.509765625,
           -4528.571940104168,
           21704.365885416664,
           47937.3037109375,
           74170.24153645833,
           100403.17936197916,
           126636.1171875,
           152869.0550130208,
           179101.99283854166,
           205334.9306640625,
           231567.8684895833,
           257800.80631510413,
           284033.744140625,
           310266.6819661458,
           336499.6197916666,
           362732.5576171875,
           388965.4954427083,
           415198.4332682291,
           441431.37109375,
           467664.3089192708,
           493897.2467447916,
           520130.1845703125,
           546363.1223958333,
           572596.0602213541,
           598828.998046875,
           625061.9358723958,
           651294.8736979166,
           677527.8115234375,
           703760.7493489583,
           729993.6871744791
          ],
          [
           -30761.509765625,
           -4528.571940104168,
           21704.365885416664,
           47937.3037109375,
           74170.24153645833,
           100403.17936197916,
           126636.1171875,
           152869.0550130208,
           179101.99283854166,
           205334.9306640625,
           231567.8684895833,
           257800.80631510413,
           284033.744140625,
           310266.6819661458,
           336499.6197916666,
           362732.5576171875,
           388965.4954427083,
           415198.4332682291,
           441431.37109375,
           467664.3089192708,
           493897.2467447916,
           520130.1845703125,
           546363.1223958333,
           572596.0602213541,
           598828.998046875,
           625061.9358723958,
           651294.8736979166,
           677527.8115234375,
           703760.7493489583,
           729993.6871744791
          ],
          [
           -30761.509765625,
           -4528.571940104168,
           21704.365885416664,
           47937.3037109375,
           74170.24153645833,
           100403.17936197916,
           126636.1171875,
           152869.0550130208,
           179101.99283854166,
           205334.9306640625,
           231567.8684895833,
           257800.80631510413,
           284033.744140625,
           310266.6819661458,
           336499.6197916666,
           362732.5576171875,
           388965.4954427083,
           415198.4332682291,
           441431.37109375,
           467664.3089192708,
           493897.2467447916,
           520130.1845703125,
           546363.1223958333,
           572596.0602213541,
           598828.998046875,
           625061.9358723958,
           651294.8736979166,
           677527.8115234375,
           703760.7493489583,
           729993.6871744791
          ],
          [
           -30761.509765625,
           -4528.571940104168,
           21704.365885416664,
           47937.3037109375,
           74170.24153645833,
           100403.17936197916,
           126636.1171875,
           152869.0550130208,
           179101.99283854166,
           205334.9306640625,
           231567.8684895833,
           257800.80631510413,
           284033.744140625,
           310266.6819661458,
           336499.6197916666,
           362732.5576171875,
           388965.4954427083,
           415198.4332682291,
           441431.37109375,
           467664.3089192708,
           493897.2467447916,
           520130.1845703125,
           546363.1223958333,
           572596.0602213541,
           598828.998046875,
           625061.9358723958,
           651294.8736979166,
           677527.8115234375,
           703760.7493489583,
           729993.6871744791
          ],
          [
           -30761.509765625,
           -4528.571940104168,
           21704.365885416664,
           47937.3037109375,
           74170.24153645833,
           100403.17936197916,
           126636.1171875,
           152869.0550130208,
           179101.99283854166,
           205334.9306640625,
           231567.8684895833,
           257800.80631510413,
           284033.744140625,
           310266.6819661458,
           336499.6197916666,
           362732.5576171875,
           388965.4954427083,
           415198.4332682291,
           441431.37109375,
           467664.3089192708,
           493897.2467447916,
           520130.1845703125,
           546363.1223958333,
           572596.0602213541,
           598828.998046875,
           625061.9358723958,
           651294.8736979166,
           677527.8115234375,
           703760.7493489583,
           729993.6871744791
          ],
          [
           -30761.509765625,
           -4528.571940104168,
           21704.365885416664,
           47937.3037109375,
           74170.24153645833,
           100403.17936197916,
           126636.1171875,
           152869.0550130208,
           179101.99283854166,
           205334.9306640625,
           231567.8684895833,
           257800.80631510413,
           284033.744140625,
           310266.6819661458,
           336499.6197916666,
           362732.5576171875,
           388965.4954427083,
           415198.4332682291,
           441431.37109375,
           467664.3089192708,
           493897.2467447916,
           520130.1845703125,
           546363.1223958333,
           572596.0602213541,
           598828.998046875,
           625061.9358723958,
           651294.8736979166,
           677527.8115234375,
           703760.7493489583,
           729993.6871744791
          ],
          [
           -30761.509765625,
           -4528.571940104168,
           21704.365885416664,
           47937.3037109375,
           74170.24153645833,
           100403.17936197916,
           126636.1171875,
           152869.0550130208,
           179101.99283854166,
           205334.9306640625,
           231567.8684895833,
           257800.80631510413,
           284033.744140625,
           310266.6819661458,
           336499.6197916666,
           362732.5576171875,
           388965.4954427083,
           415198.4332682291,
           441431.37109375,
           467664.3089192708,
           493897.2467447916,
           520130.1845703125,
           546363.1223958333,
           572596.0602213541,
           598828.998046875,
           625061.9358723958,
           651294.8736979166,
           677527.8115234375,
           703760.7493489583,
           729993.6871744791
          ],
          [
           -30761.509765625,
           -4528.571940104168,
           21704.365885416664,
           47937.3037109375,
           74170.24153645833,
           100403.17936197916,
           126636.1171875,
           152869.0550130208,
           179101.99283854166,
           205334.9306640625,
           231567.8684895833,
           257800.80631510413,
           284033.744140625,
           310266.6819661458,
           336499.6197916666,
           362732.5576171875,
           388965.4954427083,
           415198.4332682291,
           441431.37109375,
           467664.3089192708,
           493897.2467447916,
           520130.1845703125,
           546363.1223958333,
           572596.0602213541,
           598828.998046875,
           625061.9358723958,
           651294.8736979166,
           677527.8115234375,
           703760.7493489583,
           729993.6871744791
          ],
          [
           -30761.509765625,
           -4528.571940104168,
           21704.365885416664,
           47937.3037109375,
           74170.24153645833,
           100403.17936197916,
           126636.1171875,
           152869.0550130208,
           179101.99283854166,
           205334.9306640625,
           231567.8684895833,
           257800.80631510413,
           284033.744140625,
           310266.6819661458,
           336499.6197916666,
           362732.5576171875,
           388965.4954427083,
           415198.4332682291,
           441431.37109375,
           467664.3089192708,
           493897.2467447916,
           520130.1845703125,
           546363.1223958333,
           572596.0602213541,
           598828.998046875,
           625061.9358723958,
           651294.8736979166,
           677527.8115234375,
           703760.7493489583,
           729993.6871744791
          ],
          [
           -30761.509765625,
           -4528.571940104168,
           21704.365885416664,
           47937.3037109375,
           74170.24153645833,
           100403.17936197916,
           126636.1171875,
           152869.0550130208,
           179101.99283854166,
           205334.9306640625,
           231567.8684895833,
           257800.80631510413,
           284033.744140625,
           310266.6819661458,
           336499.6197916666,
           362732.5576171875,
           388965.4954427083,
           415198.4332682291,
           441431.37109375,
           467664.3089192708,
           493897.2467447916,
           520130.1845703125,
           546363.1223958333,
           572596.0602213541,
           598828.998046875,
           625061.9358723958,
           651294.8736979166,
           677527.8115234375,
           703760.7493489583,
           729993.6871744791
          ],
          [
           -30761.509765625,
           -4528.571940104168,
           21704.365885416664,
           47937.3037109375,
           74170.24153645833,
           100403.17936197916,
           126636.1171875,
           152869.0550130208,
           179101.99283854166,
           205334.9306640625,
           231567.8684895833,
           257800.80631510413,
           284033.744140625,
           310266.6819661458,
           336499.6197916666,
           362732.5576171875,
           388965.4954427083,
           415198.4332682291,
           441431.37109375,
           467664.3089192708,
           493897.2467447916,
           520130.1845703125,
           546363.1223958333,
           572596.0602213541,
           598828.998046875,
           625061.9358723958,
           651294.8736979166,
           677527.8115234375,
           703760.7493489583,
           729993.6871744791
          ],
          [
           -30761.509765625,
           -4528.571940104168,
           21704.365885416664,
           47937.3037109375,
           74170.24153645833,
           100403.17936197916,
           126636.1171875,
           152869.0550130208,
           179101.99283854166,
           205334.9306640625,
           231567.8684895833,
           257800.80631510413,
           284033.744140625,
           310266.6819661458,
           336499.6197916666,
           362732.5576171875,
           388965.4954427083,
           415198.4332682291,
           441431.37109375,
           467664.3089192708,
           493897.2467447916,
           520130.1845703125,
           546363.1223958333,
           572596.0602213541,
           598828.998046875,
           625061.9358723958,
           651294.8736979166,
           677527.8115234375,
           703760.7493489583,
           729993.6871744791
          ],
          [
           -30761.509765625,
           -4528.571940104168,
           21704.365885416664,
           47937.3037109375,
           74170.24153645833,
           100403.17936197916,
           126636.1171875,
           152869.0550130208,
           179101.99283854166,
           205334.9306640625,
           231567.8684895833,
           257800.80631510413,
           284033.744140625,
           310266.6819661458,
           336499.6197916666,
           362732.5576171875,
           388965.4954427083,
           415198.4332682291,
           441431.37109375,
           467664.3089192708,
           493897.2467447916,
           520130.1845703125,
           546363.1223958333,
           572596.0602213541,
           598828.998046875,
           625061.9358723958,
           651294.8736979166,
           677527.8115234375,
           703760.7493489583,
           729993.6871744791
          ],
          [
           -30761.509765625,
           -4528.571940104168,
           21704.365885416664,
           47937.3037109375,
           74170.24153645833,
           100403.17936197916,
           126636.1171875,
           152869.0550130208,
           179101.99283854166,
           205334.9306640625,
           231567.8684895833,
           257800.80631510413,
           284033.744140625,
           310266.6819661458,
           336499.6197916666,
           362732.5576171875,
           388965.4954427083,
           415198.4332682291,
           441431.37109375,
           467664.3089192708,
           493897.2467447916,
           520130.1845703125,
           546363.1223958333,
           572596.0602213541,
           598828.998046875,
           625061.9358723958,
           651294.8736979166,
           677527.8115234375,
           703760.7493489583,
           729993.6871744791
          ],
          [
           -30761.509765625,
           -4528.571940104168,
           21704.365885416664,
           47937.3037109375,
           74170.24153645833,
           100403.17936197916,
           126636.1171875,
           152869.0550130208,
           179101.99283854166,
           205334.9306640625,
           231567.8684895833,
           257800.80631510413,
           284033.744140625,
           310266.6819661458,
           336499.6197916666,
           362732.5576171875,
           388965.4954427083,
           415198.4332682291,
           441431.37109375,
           467664.3089192708,
           493897.2467447916,
           520130.1845703125,
           546363.1223958333,
           572596.0602213541,
           598828.998046875,
           625061.9358723958,
           651294.8736979166,
           677527.8115234375,
           703760.7493489583,
           729993.6871744791
          ],
          [
           -30761.509765625,
           -4528.571940104168,
           21704.365885416664,
           47937.3037109375,
           74170.24153645833,
           100403.17936197916,
           126636.1171875,
           152869.0550130208,
           179101.99283854166,
           205334.9306640625,
           231567.8684895833,
           257800.80631510413,
           284033.744140625,
           310266.6819661458,
           336499.6197916666,
           362732.5576171875,
           388965.4954427083,
           415198.4332682291,
           441431.37109375,
           467664.3089192708,
           493897.2467447916,
           520130.1845703125,
           546363.1223958333,
           572596.0602213541,
           598828.998046875,
           625061.9358723958,
           651294.8736979166,
           677527.8115234375,
           703760.7493489583,
           729993.6871744791
          ],
          [
           -30761.509765625,
           -4528.571940104168,
           21704.365885416664,
           47937.3037109375,
           74170.24153645833,
           100403.17936197916,
           126636.1171875,
           152869.0550130208,
           179101.99283854166,
           205334.9306640625,
           231567.8684895833,
           257800.80631510413,
           284033.744140625,
           310266.6819661458,
           336499.6197916666,
           362732.5576171875,
           388965.4954427083,
           415198.4332682291,
           441431.37109375,
           467664.3089192708,
           493897.2467447916,
           520130.1845703125,
           546363.1223958333,
           572596.0602213541,
           598828.998046875,
           625061.9358723958,
           651294.8736979166,
           677527.8115234375,
           703760.7493489583,
           729993.6871744791
          ],
          [
           -30761.509765625,
           -4528.571940104168,
           21704.365885416664,
           47937.3037109375,
           74170.24153645833,
           100403.17936197916,
           126636.1171875,
           152869.0550130208,
           179101.99283854166,
           205334.9306640625,
           231567.8684895833,
           257800.80631510413,
           284033.744140625,
           310266.6819661458,
           336499.6197916666,
           362732.5576171875,
           388965.4954427083,
           415198.4332682291,
           441431.37109375,
           467664.3089192708,
           493897.2467447916,
           520130.1845703125,
           546363.1223958333,
           572596.0602213541,
           598828.998046875,
           625061.9358723958,
           651294.8736979166,
           677527.8115234375,
           703760.7493489583,
           729993.6871744791
          ],
          [
           -30761.509765625,
           -4528.571940104168,
           21704.365885416664,
           47937.3037109375,
           74170.24153645833,
           100403.17936197916,
           126636.1171875,
           152869.0550130208,
           179101.99283854166,
           205334.9306640625,
           231567.8684895833,
           257800.80631510413,
           284033.744140625,
           310266.6819661458,
           336499.6197916666,
           362732.5576171875,
           388965.4954427083,
           415198.4332682291,
           441431.37109375,
           467664.3089192708,
           493897.2467447916,
           520130.1845703125,
           546363.1223958333,
           572596.0602213541,
           598828.998046875,
           625061.9358723958,
           651294.8736979166,
           677527.8115234375,
           703760.7493489583,
           729993.6871744791
          ],
          [
           -30761.509765625,
           -4528.571940104168,
           21704.365885416664,
           47937.3037109375,
           74170.24153645833,
           100403.17936197916,
           126636.1171875,
           152869.0550130208,
           179101.99283854166,
           205334.9306640625,
           231567.8684895833,
           257800.80631510413,
           284033.744140625,
           310266.6819661458,
           336499.6197916666,
           362732.5576171875,
           388965.4954427083,
           415198.4332682291,
           441431.37109375,
           467664.3089192708,
           493897.2467447916,
           520130.1845703125,
           546363.1223958333,
           572596.0602213541,
           598828.998046875,
           625061.9358723958,
           651294.8736979166,
           677527.8115234375,
           703760.7493489583,
           729993.6871744791
          ],
          [
           -30761.509765625,
           -4528.571940104168,
           21704.365885416664,
           47937.3037109375,
           74170.24153645833,
           100403.17936197916,
           126636.1171875,
           152869.0550130208,
           179101.99283854166,
           205334.9306640625,
           231567.8684895833,
           257800.80631510413,
           284033.744140625,
           310266.6819661458,
           336499.6197916666,
           362732.5576171875,
           388965.4954427083,
           415198.4332682291,
           441431.37109375,
           467664.3089192708,
           493897.2467447916,
           520130.1845703125,
           546363.1223958333,
           572596.0602213541,
           598828.998046875,
           625061.9358723958,
           651294.8736979166,
           677527.8115234375,
           703760.7493489583,
           729993.6871744791
          ]
         ],
         "z": [
          [
           20,
           220464,
           341343,
           16399,
           933,
           203,
           72,
           30,
           7,
           3,
           1,
           0,
           3,
           1,
           0,
           1,
           2,
           0,
           3,
           0,
           0,
           1,
           0,
           1,
           0,
           0,
           0,
           0,
           0,
           1
          ],
          [
           76,
           635574,
           1487,
           49,
           8,
           3,
           0,
           2,
           5,
           4,
           3,
           1,
           3,
           5,
           1,
           1,
           0,
           0,
           0,
           0,
           0,
           0,
           0,
           0,
           0,
           0,
           0,
           0,
           0,
           0
          ],
          [
           150,
           1013224,
           98,
           2,
           0,
           4,
           1,
           2,
           2,
           0,
           0,
           0,
           1,
           0,
           0,
           0,
           0,
           0,
           0,
           0,
           0,
           0,
           0,
           0,
           0,
           0,
           0,
           0,
           0,
           0
          ],
          [
           212,
           421901,
           4,
           0,
           0,
           0,
           0,
           0,
           0,
           0,
           0,
           0,
           0,
           0,
           0,
           0,
           0,
           0,
           0,
           0,
           0,
           0,
           0,
           0,
           0,
           0,
           0,
           0,
           0,
           0
          ],
          [
           27,
           1423,
           1,
           0,
           0,
           0,
           0,
           0,
           0,
           0,
           0,
           0,
           0,
           0,
           0,
           0,
           0,
           0,
           0,
           0,
           0,
           0,
           0,
           0,
           0,
           0,
           0,
           0,
           0,
           0
          ],
          [
           5,
           41,
           0,
           0,
           0,
           0,
           0,
           0,
           0,
           0,
           0,
           0,
           0,
           0,
           0,
           0,
           0,
           0,
           0,
           0,
           0,
           0,
           0,
           0,
           0,
           0,
           0,
           0,
           0,
           0
          ],
          [
           2,
           3,
           0,
           0,
           0,
           0,
           0,
           0,
           0,
           0,
           0,
           0,
           0,
           0,
           0,
           0,
           0,
           0,
           0,
           0,
           0,
           0,
           0,
           0,
           0,
           0,
           0,
           0,
           0,
           0
          ],
          [
           1,
           0,
           0,
           0,
           0,
           0,
           0,
           0,
           0,
           0,
           0,
           0,
           0,
           0,
           0,
           0,
           0,
           0,
           0,
           0,
           0,
           0,
           0,
           0,
           0,
           0,
           0,
           0,
           0,
           0
          ],
          [
           0,
           1,
           0,
           0,
           0,
           0,
           0,
           0,
           0,
           0,
           0,
           0,
           0,
           0,
           0,
           0,
           0,
           0,
           0,
           0,
           0,
           0,
           0,
           0,
           0,
           0,
           0,
           0,
           0,
           0
          ],
          [
           0,
           2,
           0,
           0,
           0,
           0,
           0,
           0,
           0,
           0,
           0,
           0,
           0,
           0,
           0,
           0,
           0,
           0,
           0,
           0,
           0,
           0,
           0,
           0,
           0,
           0,
           0,
           0,
           0,
           0
          ],
          [
           0,
           0,
           0,
           0,
           0,
           0,
           0,
           0,
           0,
           0,
           0,
           0,
           0,
           0,
           0,
           0,
           0,
           0,
           0,
           0,
           0,
           0,
           0,
           0,
           0,
           0,
           0,
           0,
           0,
           0
          ],
          [
           0,
           0,
           0,
           0,
           0,
           0,
           0,
           0,
           0,
           0,
           0,
           0,
           0,
           0,
           0,
           0,
           0,
           0,
           0,
           0,
           0,
           0,
           0,
           0,
           0,
           0,
           0,
           0,
           0,
           0
          ],
          [
           0,
           0,
           0,
           0,
           0,
           0,
           0,
           0,
           0,
           0,
           0,
           0,
           0,
           0,
           0,
           0,
           0,
           0,
           0,
           0,
           0,
           0,
           0,
           0,
           0,
           0,
           0,
           0,
           0,
           0
          ],
          [
           0,
           0,
           0,
           0,
           0,
           0,
           0,
           0,
           0,
           0,
           0,
           0,
           0,
           0,
           0,
           0,
           0,
           0,
           0,
           0,
           0,
           0,
           0,
           0,
           0,
           0,
           0,
           0,
           0,
           0
          ],
          [
           0,
           0,
           0,
           0,
           0,
           0,
           0,
           0,
           0,
           0,
           0,
           0,
           0,
           0,
           0,
           0,
           0,
           0,
           0,
           0,
           0,
           0,
           0,
           0,
           0,
           0,
           0,
           0,
           0,
           0
          ],
          [
           0,
           0,
           0,
           0,
           0,
           0,
           0,
           0,
           0,
           0,
           0,
           0,
           0,
           0,
           0,
           0,
           0,
           0,
           0,
           0,
           0,
           0,
           0,
           0,
           0,
           0,
           0,
           0,
           0,
           0
          ],
          [
           0,
           0,
           0,
           0,
           0,
           0,
           0,
           0,
           0,
           0,
           0,
           0,
           0,
           0,
           0,
           0,
           0,
           0,
           0,
           0,
           0,
           0,
           0,
           0,
           0,
           0,
           0,
           0,
           0,
           0
          ],
          [
           0,
           0,
           0,
           0,
           0,
           0,
           0,
           0,
           0,
           0,
           0,
           0,
           0,
           0,
           0,
           0,
           0,
           0,
           0,
           0,
           0,
           0,
           0,
           0,
           0,
           0,
           0,
           0,
           0,
           0
          ],
          [
           0,
           0,
           0,
           0,
           0,
           0,
           0,
           0,
           0,
           0,
           0,
           0,
           0,
           0,
           0,
           0,
           0,
           0,
           0,
           0,
           0,
           0,
           0,
           0,
           0,
           0,
           0,
           0,
           0,
           0
          ],
          [
           0,
           0,
           0,
           0,
           0,
           0,
           0,
           0,
           0,
           0,
           0,
           0,
           0,
           0,
           0,
           0,
           0,
           0,
           0,
           0,
           0,
           0,
           0,
           0,
           0,
           0,
           0,
           0,
           0,
           0
          ],
          [
           0,
           0,
           0,
           0,
           0,
           0,
           0,
           0,
           0,
           0,
           0,
           0,
           0,
           0,
           0,
           0,
           0,
           0,
           0,
           0,
           0,
           0,
           0,
           0,
           0,
           0,
           0,
           0,
           0,
           0
          ],
          [
           0,
           0,
           0,
           0,
           0,
           0,
           0,
           0,
           0,
           0,
           0,
           0,
           0,
           0,
           0,
           0,
           0,
           0,
           0,
           0,
           0,
           0,
           0,
           0,
           0,
           0,
           0,
           0,
           0,
           0
          ],
          [
           0,
           0,
           0,
           0,
           0,
           0,
           0,
           0,
           0,
           0,
           0,
           0,
           0,
           0,
           0,
           0,
           0,
           0,
           0,
           0,
           0,
           0,
           0,
           0,
           0,
           0,
           0,
           0,
           0,
           0
          ],
          [
           0,
           0,
           0,
           0,
           0,
           0,
           0,
           0,
           0,
           0,
           0,
           0,
           0,
           0,
           0,
           0,
           0,
           0,
           0,
           0,
           0,
           0,
           0,
           0,
           0,
           0,
           0,
           0,
           0,
           0
          ],
          [
           0,
           0,
           0,
           0,
           0,
           0,
           0,
           0,
           0,
           0,
           0,
           0,
           0,
           0,
           0,
           0,
           0,
           0,
           0,
           0,
           0,
           0,
           0,
           0,
           0,
           0,
           0,
           0,
           0,
           0
          ],
          [
           0,
           0,
           0,
           0,
           0,
           0,
           0,
           0,
           0,
           0,
           0,
           0,
           0,
           0,
           0,
           0,
           0,
           0,
           0,
           0,
           0,
           0,
           0,
           0,
           0,
           0,
           0,
           0,
           0,
           0
          ],
          [
           0,
           2,
           0,
           0,
           0,
           0,
           0,
           0,
           0,
           0,
           0,
           0,
           0,
           0,
           0,
           0,
           0,
           0,
           0,
           0,
           0,
           0,
           0,
           0,
           0,
           0,
           0,
           0,
           0,
           0
          ],
          [
           0,
           0,
           0,
           0,
           0,
           0,
           0,
           0,
           0,
           0,
           0,
           0,
           0,
           0,
           0,
           0,
           0,
           0,
           0,
           0,
           0,
           0,
           0,
           0,
           0,
           0,
           0,
           0,
           0,
           0
          ],
          [
           0,
           0,
           0,
           0,
           0,
           0,
           0,
           0,
           0,
           0,
           0,
           0,
           0,
           0,
           0,
           0,
           0,
           0,
           0,
           0,
           0,
           0,
           0,
           0,
           0,
           0,
           0,
           0,
           0,
           0
          ],
          [
           0,
           1,
           0,
           0,
           0,
           0,
           0,
           0,
           0,
           0,
           0,
           0,
           0,
           0,
           0,
           0,
           0,
           0,
           0,
           0,
           0,
           0,
           0,
           0,
           0,
           0,
           0,
           0,
           0,
           0
          ]
         ]
        }
       ],
       "layout": {
        "scene": {
         "xaxis": {
          "title": {
           "text": "X (Distance)"
          }
         },
         "yaxis": {
          "title": {
           "text": "Y (Et)"
          }
         },
         "zaxis": {
          "title": {
           "text": "Frequency"
          }
         }
        },
        "template": {
         "data": {
          "bar": [
           {
            "error_x": {
             "color": "#2a3f5f"
            },
            "error_y": {
             "color": "#2a3f5f"
            },
            "marker": {
             "line": {
              "color": "#E5ECF6",
              "width": 0.5
             },
             "pattern": {
              "fillmode": "overlay",
              "size": 10,
              "solidity": 0.2
             }
            },
            "type": "bar"
           }
          ],
          "barpolar": [
           {
            "marker": {
             "line": {
              "color": "#E5ECF6",
              "width": 0.5
             },
             "pattern": {
              "fillmode": "overlay",
              "size": 10,
              "solidity": 0.2
             }
            },
            "type": "barpolar"
           }
          ],
          "carpet": [
           {
            "aaxis": {
             "endlinecolor": "#2a3f5f",
             "gridcolor": "white",
             "linecolor": "white",
             "minorgridcolor": "white",
             "startlinecolor": "#2a3f5f"
            },
            "baxis": {
             "endlinecolor": "#2a3f5f",
             "gridcolor": "white",
             "linecolor": "white",
             "minorgridcolor": "white",
             "startlinecolor": "#2a3f5f"
            },
            "type": "carpet"
           }
          ],
          "choropleth": [
           {
            "colorbar": {
             "outlinewidth": 0,
             "ticks": ""
            },
            "type": "choropleth"
           }
          ],
          "contour": [
           {
            "colorbar": {
             "outlinewidth": 0,
             "ticks": ""
            },
            "colorscale": [
             [
              0,
              "#0d0887"
             ],
             [
              0.1111111111111111,
              "#46039f"
             ],
             [
              0.2222222222222222,
              "#7201a8"
             ],
             [
              0.3333333333333333,
              "#9c179e"
             ],
             [
              0.4444444444444444,
              "#bd3786"
             ],
             [
              0.5555555555555556,
              "#d8576b"
             ],
             [
              0.6666666666666666,
              "#ed7953"
             ],
             [
              0.7777777777777778,
              "#fb9f3a"
             ],
             [
              0.8888888888888888,
              "#fdca26"
             ],
             [
              1,
              "#f0f921"
             ]
            ],
            "type": "contour"
           }
          ],
          "contourcarpet": [
           {
            "colorbar": {
             "outlinewidth": 0,
             "ticks": ""
            },
            "type": "contourcarpet"
           }
          ],
          "heatmap": [
           {
            "colorbar": {
             "outlinewidth": 0,
             "ticks": ""
            },
            "colorscale": [
             [
              0,
              "#0d0887"
             ],
             [
              0.1111111111111111,
              "#46039f"
             ],
             [
              0.2222222222222222,
              "#7201a8"
             ],
             [
              0.3333333333333333,
              "#9c179e"
             ],
             [
              0.4444444444444444,
              "#bd3786"
             ],
             [
              0.5555555555555556,
              "#d8576b"
             ],
             [
              0.6666666666666666,
              "#ed7953"
             ],
             [
              0.7777777777777778,
              "#fb9f3a"
             ],
             [
              0.8888888888888888,
              "#fdca26"
             ],
             [
              1,
              "#f0f921"
             ]
            ],
            "type": "heatmap"
           }
          ],
          "heatmapgl": [
           {
            "colorbar": {
             "outlinewidth": 0,
             "ticks": ""
            },
            "colorscale": [
             [
              0,
              "#0d0887"
             ],
             [
              0.1111111111111111,
              "#46039f"
             ],
             [
              0.2222222222222222,
              "#7201a8"
             ],
             [
              0.3333333333333333,
              "#9c179e"
             ],
             [
              0.4444444444444444,
              "#bd3786"
             ],
             [
              0.5555555555555556,
              "#d8576b"
             ],
             [
              0.6666666666666666,
              "#ed7953"
             ],
             [
              0.7777777777777778,
              "#fb9f3a"
             ],
             [
              0.8888888888888888,
              "#fdca26"
             ],
             [
              1,
              "#f0f921"
             ]
            ],
            "type": "heatmapgl"
           }
          ],
          "histogram": [
           {
            "marker": {
             "pattern": {
              "fillmode": "overlay",
              "size": 10,
              "solidity": 0.2
             }
            },
            "type": "histogram"
           }
          ],
          "histogram2d": [
           {
            "colorbar": {
             "outlinewidth": 0,
             "ticks": ""
            },
            "colorscale": [
             [
              0,
              "#0d0887"
             ],
             [
              0.1111111111111111,
              "#46039f"
             ],
             [
              0.2222222222222222,
              "#7201a8"
             ],
             [
              0.3333333333333333,
              "#9c179e"
             ],
             [
              0.4444444444444444,
              "#bd3786"
             ],
             [
              0.5555555555555556,
              "#d8576b"
             ],
             [
              0.6666666666666666,
              "#ed7953"
             ],
             [
              0.7777777777777778,
              "#fb9f3a"
             ],
             [
              0.8888888888888888,
              "#fdca26"
             ],
             [
              1,
              "#f0f921"
             ]
            ],
            "type": "histogram2d"
           }
          ],
          "histogram2dcontour": [
           {
            "colorbar": {
             "outlinewidth": 0,
             "ticks": ""
            },
            "colorscale": [
             [
              0,
              "#0d0887"
             ],
             [
              0.1111111111111111,
              "#46039f"
             ],
             [
              0.2222222222222222,
              "#7201a8"
             ],
             [
              0.3333333333333333,
              "#9c179e"
             ],
             [
              0.4444444444444444,
              "#bd3786"
             ],
             [
              0.5555555555555556,
              "#d8576b"
             ],
             [
              0.6666666666666666,
              "#ed7953"
             ],
             [
              0.7777777777777778,
              "#fb9f3a"
             ],
             [
              0.8888888888888888,
              "#fdca26"
             ],
             [
              1,
              "#f0f921"
             ]
            ],
            "type": "histogram2dcontour"
           }
          ],
          "mesh3d": [
           {
            "colorbar": {
             "outlinewidth": 0,
             "ticks": ""
            },
            "type": "mesh3d"
           }
          ],
          "parcoords": [
           {
            "line": {
             "colorbar": {
              "outlinewidth": 0,
              "ticks": ""
             }
            },
            "type": "parcoords"
           }
          ],
          "pie": [
           {
            "automargin": true,
            "type": "pie"
           }
          ],
          "scatter": [
           {
            "fillpattern": {
             "fillmode": "overlay",
             "size": 10,
             "solidity": 0.2
            },
            "type": "scatter"
           }
          ],
          "scatter3d": [
           {
            "line": {
             "colorbar": {
              "outlinewidth": 0,
              "ticks": ""
             }
            },
            "marker": {
             "colorbar": {
              "outlinewidth": 0,
              "ticks": ""
             }
            },
            "type": "scatter3d"
           }
          ],
          "scattercarpet": [
           {
            "marker": {
             "colorbar": {
              "outlinewidth": 0,
              "ticks": ""
             }
            },
            "type": "scattercarpet"
           }
          ],
          "scattergeo": [
           {
            "marker": {
             "colorbar": {
              "outlinewidth": 0,
              "ticks": ""
             }
            },
            "type": "scattergeo"
           }
          ],
          "scattergl": [
           {
            "marker": {
             "colorbar": {
              "outlinewidth": 0,
              "ticks": ""
             }
            },
            "type": "scattergl"
           }
          ],
          "scattermapbox": [
           {
            "marker": {
             "colorbar": {
              "outlinewidth": 0,
              "ticks": ""
             }
            },
            "type": "scattermapbox"
           }
          ],
          "scatterpolar": [
           {
            "marker": {
             "colorbar": {
              "outlinewidth": 0,
              "ticks": ""
             }
            },
            "type": "scatterpolar"
           }
          ],
          "scatterpolargl": [
           {
            "marker": {
             "colorbar": {
              "outlinewidth": 0,
              "ticks": ""
             }
            },
            "type": "scatterpolargl"
           }
          ],
          "scatterternary": [
           {
            "marker": {
             "colorbar": {
              "outlinewidth": 0,
              "ticks": ""
             }
            },
            "type": "scatterternary"
           }
          ],
          "surface": [
           {
            "colorbar": {
             "outlinewidth": 0,
             "ticks": ""
            },
            "colorscale": [
             [
              0,
              "#0d0887"
             ],
             [
              0.1111111111111111,
              "#46039f"
             ],
             [
              0.2222222222222222,
              "#7201a8"
             ],
             [
              0.3333333333333333,
              "#9c179e"
             ],
             [
              0.4444444444444444,
              "#bd3786"
             ],
             [
              0.5555555555555556,
              "#d8576b"
             ],
             [
              0.6666666666666666,
              "#ed7953"
             ],
             [
              0.7777777777777778,
              "#fb9f3a"
             ],
             [
              0.8888888888888888,
              "#fdca26"
             ],
             [
              1,
              "#f0f921"
             ]
            ],
            "type": "surface"
           }
          ],
          "table": [
           {
            "cells": {
             "fill": {
              "color": "#EBF0F8"
             },
             "line": {
              "color": "white"
             }
            },
            "header": {
             "fill": {
              "color": "#C8D4E3"
             },
             "line": {
              "color": "white"
             }
            },
            "type": "table"
           }
          ]
         },
         "layout": {
          "annotationdefaults": {
           "arrowcolor": "#2a3f5f",
           "arrowhead": 0,
           "arrowwidth": 1
          },
          "autotypenumbers": "strict",
          "coloraxis": {
           "colorbar": {
            "outlinewidth": 0,
            "ticks": ""
           }
          },
          "colorscale": {
           "diverging": [
            [
             0,
             "#8e0152"
            ],
            [
             0.1,
             "#c51b7d"
            ],
            [
             0.2,
             "#de77ae"
            ],
            [
             0.3,
             "#f1b6da"
            ],
            [
             0.4,
             "#fde0ef"
            ],
            [
             0.5,
             "#f7f7f7"
            ],
            [
             0.6,
             "#e6f5d0"
            ],
            [
             0.7,
             "#b8e186"
            ],
            [
             0.8,
             "#7fbc41"
            ],
            [
             0.9,
             "#4d9221"
            ],
            [
             1,
             "#276419"
            ]
           ],
           "sequential": [
            [
             0,
             "#0d0887"
            ],
            [
             0.1111111111111111,
             "#46039f"
            ],
            [
             0.2222222222222222,
             "#7201a8"
            ],
            [
             0.3333333333333333,
             "#9c179e"
            ],
            [
             0.4444444444444444,
             "#bd3786"
            ],
            [
             0.5555555555555556,
             "#d8576b"
            ],
            [
             0.6666666666666666,
             "#ed7953"
            ],
            [
             0.7777777777777778,
             "#fb9f3a"
            ],
            [
             0.8888888888888888,
             "#fdca26"
            ],
            [
             1,
             "#f0f921"
            ]
           ],
           "sequentialminus": [
            [
             0,
             "#0d0887"
            ],
            [
             0.1111111111111111,
             "#46039f"
            ],
            [
             0.2222222222222222,
             "#7201a8"
            ],
            [
             0.3333333333333333,
             "#9c179e"
            ],
            [
             0.4444444444444444,
             "#bd3786"
            ],
            [
             0.5555555555555556,
             "#d8576b"
            ],
            [
             0.6666666666666666,
             "#ed7953"
            ],
            [
             0.7777777777777778,
             "#fb9f3a"
            ],
            [
             0.8888888888888888,
             "#fdca26"
            ],
            [
             1,
             "#f0f921"
            ]
           ]
          },
          "colorway": [
           "#636efa",
           "#EF553B",
           "#00cc96",
           "#ab63fa",
           "#FFA15A",
           "#19d3f3",
           "#FF6692",
           "#B6E880",
           "#FF97FF",
           "#FECB52"
          ],
          "font": {
           "color": "#2a3f5f"
          },
          "geo": {
           "bgcolor": "white",
           "lakecolor": "white",
           "landcolor": "#E5ECF6",
           "showlakes": true,
           "showland": true,
           "subunitcolor": "white"
          },
          "hoverlabel": {
           "align": "left"
          },
          "hovermode": "closest",
          "mapbox": {
           "style": "light"
          },
          "paper_bgcolor": "white",
          "plot_bgcolor": "#E5ECF6",
          "polar": {
           "angularaxis": {
            "gridcolor": "white",
            "linecolor": "white",
            "ticks": ""
           },
           "bgcolor": "#E5ECF6",
           "radialaxis": {
            "gridcolor": "white",
            "linecolor": "white",
            "ticks": ""
           }
          },
          "scene": {
           "xaxis": {
            "backgroundcolor": "#E5ECF6",
            "gridcolor": "white",
            "gridwidth": 2,
            "linecolor": "white",
            "showbackground": true,
            "ticks": "",
            "zerolinecolor": "white"
           },
           "yaxis": {
            "backgroundcolor": "#E5ECF6",
            "gridcolor": "white",
            "gridwidth": 2,
            "linecolor": "white",
            "showbackground": true,
            "ticks": "",
            "zerolinecolor": "white"
           },
           "zaxis": {
            "backgroundcolor": "#E5ECF6",
            "gridcolor": "white",
            "gridwidth": 2,
            "linecolor": "white",
            "showbackground": true,
            "ticks": "",
            "zerolinecolor": "white"
           }
          },
          "shapedefaults": {
           "line": {
            "color": "#2a3f5f"
           }
          },
          "ternary": {
           "aaxis": {
            "gridcolor": "white",
            "linecolor": "white",
            "ticks": ""
           },
           "baxis": {
            "gridcolor": "white",
            "linecolor": "white",
            "ticks": ""
           },
           "bgcolor": "#E5ECF6",
           "caxis": {
            "gridcolor": "white",
            "linecolor": "white",
            "ticks": ""
           }
          },
          "title": {
           "x": 0.05
          },
          "xaxis": {
           "automargin": true,
           "gridcolor": "white",
           "linecolor": "white",
           "ticks": "",
           "title": {
            "standoff": 15
           },
           "zerolinecolor": "white",
           "zerolinewidth": 2
          },
          "yaxis": {
           "automargin": true,
           "gridcolor": "white",
           "linecolor": "white",
           "ticks": "",
           "title": {
            "standoff": 15
           },
           "zerolinecolor": "white",
           "zerolinewidth": 2
          }
         }
        },
        "title": {
         "text": "Interactive 3D Histogram"
        }
       }
      }
     },
     "metadata": {},
     "output_type": "display_data"
    }
   ],
   "source": [
    "visualise_topocluster_ETs(DFs[1])"
   ]
  }
 ],
 "metadata": {
  "kernelspec": {
   "display_name": "Python 3",
   "language": "python",
   "name": "python3"
  },
  "language_info": {
   "codemirror_mode": {
    "name": "ipython",
    "version": 3
   },
   "file_extension": ".py",
   "mimetype": "text/x-python",
   "name": "python",
   "nbconvert_exporter": "python",
   "pygments_lexer": "ipython3",
   "version": "3.11.9"
  }
 },
 "nbformat": 4,
 "nbformat_minor": 2
}
