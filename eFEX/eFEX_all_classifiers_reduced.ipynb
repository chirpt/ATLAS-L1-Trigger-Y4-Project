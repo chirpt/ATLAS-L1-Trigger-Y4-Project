{
 "cells": [
  {
   "cell_type": "code",
   "execution_count": 1,
   "metadata": {},
   "outputs": [
    {
     "name": "stderr",
     "output_type": "stream",
     "text": [
      "C:\\Users\\tymch\\AppData\\Local\\Packages\\PythonSoftwareFoundation.Python.3.11_qbz5n2kfra8p0\\LocalCache\\local-packages\\Python311\\site-packages\\tqdm\\auto.py:21: TqdmWarning: IProgress not found. Please update jupyter and ipywidgets. See https://ipywidgets.readthedocs.io/en/stable/user_install.html\n",
      "  from .autonotebook import tqdm as notebook_tqdm\n"
     ]
    }
   ],
   "source": [
    "import sys\n",
    "import os\n",
    "\n",
    "parent_dir = os.path.dirname(os.getcwd())\n",
    "sys.path.append(parent_dir)\n",
    "\n",
    "from utilities_new import *"
   ]
  },
  {
   "cell_type": "code",
   "execution_count": 2,
   "metadata": {},
   "outputs": [
    {
     "name": "stdout",
     "output_type": "stream",
     "text": [
      "found preprepared data in ..\\data\\ZMUMU_EGZ_extended_reduced_ET\n"
     ]
    }
   ],
   "source": [
    "X_train, X_test, y_train, y_test, pd_passthrough_train, pd_passthrough_test = prepare_data(accept_data_filename=\"l1calo_hist_EGZ_extended.root\", reject_data_filename=\"l1calo_hist_ZMUMU_extended.root\", data_subdir=\"ZMUMU_EGZ_extended_reduced_ET\", format_mode=\"reduced_SuperCell_ET\", get_pT=True)"
   ]
  },
  {
   "cell_type": "code",
   "execution_count": 3,
   "metadata": {},
   "outputs": [
    {
     "name": "stdout",
     "output_type": "stream",
     "text": [
      "Imported 43 binary classifiers:\n",
      "['AdaBoostClassifier', 'BaggingClassifier', 'BernoulliNB', 'CalibratedClassifierCV', 'CategoricalNB', 'ClassifierChain', 'ComplementNB', 'DecisionTreeClassifier', 'DummyClassifier', 'ExtraTreeClassifier', 'ExtraTreesClassifier', 'FixedThresholdClassifier', 'GaussianNB', 'GaussianProcessClassifier', 'GradientBoostingClassifier', 'HistGradientBoostingClassifier', 'KNeighborsClassifier', 'LabelPropagation', 'LabelSpreading', 'LinearDiscriminantAnalysis', 'LinearSVC', 'LogisticRegression', 'LogisticRegressionCV', 'MLPClassifier', 'MultiOutputClassifier', 'MultinomialNB', 'NearestCentroid', 'NuSVC', 'OneVsOneClassifier', 'OneVsRestClassifier', 'OutputCodeClassifier', 'PassiveAggressiveClassifier', 'Perceptron', 'QuadraticDiscriminantAnalysis', 'RadiusNeighborsClassifier', 'RandomForestClassifier', 'RidgeClassifier', 'RidgeClassifierCV', 'SGDClassifier', 'SVC', 'TunedThresholdClassifierCV', 'VotingClassifier', 'XGBClassifier']\n"
     ]
    }
   ],
   "source": [
    "binary_classifiers = import_all_classifiers()\n",
    "# binary_classifiers= dict(list(binary_classifiers.items())[:10])"
   ]
  },
  {
   "cell_type": "code",
   "execution_count": null,
   "metadata": {},
   "outputs": [
    {
     "name": "stderr",
     "output_type": "stream",
     "text": [
      "  0%|          | 0/43 [00:00<?, ?it/s]C:\\Users\\tymch\\AppData\\Local\\Packages\\PythonSoftwareFoundation.Python.3.11_qbz5n2kfra8p0\\LocalCache\\local-packages\\Python311\\site-packages\\sklearn\\ensemble\\_weight_boosting.py:527: FutureWarning: The SAMME.R algorithm (the default) is deprecated and will be removed in 1.6. Use the SAMME algorithm to circumvent this warning.\n",
      "  warnings.warn(\n"
     ]
    },
    {
     "name": "stdout",
     "output_type": "stream",
     "text": [
      "Evaluation of AdaBoostClassifier\n",
      "Confusion Matrix:\n",
      " [[26915  1695]\n",
      " [ 1912 15660]]\n",
      "Accuracy: 0.92189598\n",
      "Recall: 0.89119053\n",
      "Precision: 0.90233362\n",
      "F1 Score: 0.89672746\n",
      "Classification Report:\n",
      "               precision    recall  f1-score   support\n",
      "\n",
      "         0.0       0.93      0.94      0.94     28610\n",
      "         1.0       0.90      0.89      0.90     17572\n",
      "\n",
      "    accuracy                           0.92     46182\n",
      "   macro avg       0.92      0.92      0.92     46182\n",
      "weighted avg       0.92      0.92      0.92     46182\n",
      "\n",
      "Mean Squared Error: 0.07810402\n",
      "\n"
     ]
    },
    {
     "name": "stderr",
     "output_type": "stream",
     "text": [
      "  2%|▏         | 1/43 [00:18<12:45, 18.22s/it]"
     ]
    },
    {
     "name": "stdout",
     "output_type": "stream",
     "text": [
      "ROC data saved to roc\\roc_data_reduced_88_AdaBoostClassifier.json\n",
      "Precision-Recall data saved to precision_recall\\precision_recall_data_reduced_88_AdaBoostClassifier.json\n",
      "Could not evaluate AdaBoostClassifier: save_efficiency_vs_ele_PT() got an unexpected keyword argument 'format_mode'\n",
      "\n",
      "Evaluation of BaggingClassifier\n",
      "Confusion Matrix:\n",
      " [[27488  1122]\n",
      " [  915 16657]]\n",
      "Accuracy: 0.95589191\n",
      "Recall: 0.94792852\n",
      "Precision: 0.93689184\n",
      "F1 Score: 0.94237787\n",
      "Classification Report:\n",
      "               precision    recall  f1-score   support\n",
      "\n",
      "         0.0       0.97      0.96      0.96     28610\n",
      "         1.0       0.94      0.95      0.94     17572\n",
      "\n",
      "    accuracy                           0.96     46182\n",
      "   macro avg       0.95      0.95      0.95     46182\n",
      "weighted avg       0.96      0.96      0.96     46182\n",
      "\n",
      "Mean Squared Error: 0.04410809\n",
      "\n"
     ]
    },
    {
     "name": "stderr",
     "output_type": "stream",
     "text": [
      "  5%|▍         | 2/43 [00:55<20:14, 29.63s/it]"
     ]
    },
    {
     "name": "stdout",
     "output_type": "stream",
     "text": [
      "ROC data saved to roc\\roc_data_reduced_88_BaggingClassifier.json\n",
      "Precision-Recall data saved to precision_recall\\precision_recall_data_reduced_88_BaggingClassifier.json\n",
      "Could not evaluate BaggingClassifier: save_efficiency_vs_ele_PT() got an unexpected keyword argument 'format_mode'\n",
      "\n",
      "Evaluation of BernoulliNB\n",
      "Confusion Matrix:\n",
      " [[16392 12218]\n",
      " [ 1610 15962]]\n",
      "Accuracy: 0.70057598\n",
      "Recall: 0.90837696\n",
      "Precision: 0.56643009\n",
      "F1 Score: 0.69776185\n",
      "Classification Report:\n",
      "               precision    recall  f1-score   support\n",
      "\n",
      "         0.0       0.91      0.57      0.70     28610\n",
      "         1.0       0.57      0.91      0.70     17572\n",
      "\n",
      "    accuracy                           0.70     46182\n",
      "   macro avg       0.74      0.74      0.70     46182\n",
      "weighted avg       0.78      0.70      0.70     46182\n",
      "\n",
      "Mean Squared Error: 0.29942402\n",
      "\n",
      "ROC data saved to roc\\roc_data_reduced_88_BernoulliNB.json\n"
     ]
    },
    {
     "name": "stderr",
     "output_type": "stream",
     "text": [
      "  7%|▋         | 3/43 [00:56<10:52, 16.32s/it]"
     ]
    },
    {
     "name": "stdout",
     "output_type": "stream",
     "text": [
      "Precision-Recall data saved to precision_recall\\precision_recall_data_reduced_88_BernoulliNB.json\n",
      "Could not evaluate BernoulliNB: save_efficiency_vs_ele_PT() got an unexpected keyword argument 'format_mode'\n",
      "\n",
      "Evaluation of CalibratedClassifierCV\n",
      "Confusion Matrix:\n",
      " [[26930  1680]\n",
      " [ 1394 16178]]\n",
      "Accuracy: 0.93343727\n",
      "Recall: 0.92066925\n",
      "Precision: 0.90592452\n",
      "F1 Score: 0.91323737\n",
      "Classification Report:\n",
      "               precision    recall  f1-score   support\n",
      "\n",
      "         0.0       0.95      0.94      0.95     28610\n",
      "         1.0       0.91      0.92      0.91     17572\n",
      "\n",
      "    accuracy                           0.93     46182\n",
      "   macro avg       0.93      0.93      0.93     46182\n",
      "weighted avg       0.93      0.93      0.93     46182\n",
      "\n",
      "Mean Squared Error: 0.06656273\n",
      "\n"
     ]
    },
    {
     "name": "stderr",
     "output_type": "stream",
     "text": [
      "  9%|▉         | 4/43 [01:02<08:03, 12.41s/it]"
     ]
    },
    {
     "name": "stdout",
     "output_type": "stream",
     "text": [
      "ROC data saved to roc\\roc_data_reduced_88_CalibratedClassifierCV.json\n",
      "Precision-Recall data saved to precision_recall\\precision_recall_data_reduced_88_CalibratedClassifierCV.json\n",
      "Could not evaluate CalibratedClassifierCV: save_efficiency_vs_ele_PT() got an unexpected keyword argument 'format_mode'\n",
      "\n"
     ]
    },
    {
     "name": "stderr",
     "output_type": "stream",
     "text": [
      " 12%|█▏        | 5/43 [01:03<05:05,  8.03s/it]"
     ]
    },
    {
     "name": "stdout",
     "output_type": "stream",
     "text": [
      "Could not evaluate CategoricalNB: index 114 is out of bounds for axis 1 with size 56\n",
      "\n",
      "Could not evaluate ClassifierChain: tuple index out of range\n",
      "\n",
      "Evaluation of ComplementNB\n",
      "Confusion Matrix:\n",
      " [[18520 10090]\n",
      " [  814 16758]]\n",
      "Accuracy: 0.76389069\n",
      "Recall: 0.95367630\n",
      "Precision: 0.62418057\n",
      "F1 Score: 0.75452499\n",
      "Classification Report:\n",
      "               precision    recall  f1-score   support\n",
      "\n",
      "         0.0       0.96      0.65      0.77     28610\n",
      "         1.0       0.62      0.95      0.75     17572\n",
      "\n",
      "    accuracy                           0.76     46182\n",
      "   macro avg       0.79      0.80      0.76     46182\n",
      "weighted avg       0.83      0.76      0.77     46182\n",
      "\n",
      "Mean Squared Error: 0.23610931\n",
      "\n",
      "ROC data saved to roc\\roc_data_reduced_88_ComplementNB.json\n"
     ]
    },
    {
     "name": "stderr",
     "output_type": "stream",
     "text": [
      " 16%|█▋        | 7/43 [01:03<02:25,  4.04s/it]"
     ]
    },
    {
     "name": "stdout",
     "output_type": "stream",
     "text": [
      "Precision-Recall data saved to precision_recall\\precision_recall_data_reduced_88_ComplementNB.json\n",
      "Could not evaluate ComplementNB: save_efficiency_vs_ele_PT() got an unexpected keyword argument 'format_mode'\n",
      "\n"
     ]
    },
    {
     "name": "stderr",
     "output_type": "stream",
     "text": [
      " 19%|█▊        | 8/43 [01:09<02:38,  4.53s/it]"
     ]
    },
    {
     "name": "stdout",
     "output_type": "stream",
     "text": [
      "Evaluation of DecisionTreeClassifier\n",
      "Confusion Matrix:\n",
      " [[26978  1632]\n",
      " [ 1416 16156]]\n",
      "Accuracy: 0.93400026\n",
      "Recall: 0.91941725\n",
      "Precision: 0.90825275\n",
      "F1 Score: 0.91380090\n",
      "Classification Report:\n",
      "               precision    recall  f1-score   support\n",
      "\n",
      "         0.0       0.95      0.94      0.95     28610\n",
      "         1.0       0.91      0.92      0.91     17572\n",
      "\n",
      "    accuracy                           0.93     46182\n",
      "   macro avg       0.93      0.93      0.93     46182\n",
      "weighted avg       0.93      0.93      0.93     46182\n",
      "\n",
      "Mean Squared Error: 0.06599974\n",
      "\n",
      "ROC data saved to roc\\roc_data_reduced_88_DecisionTreeClassifier.json\n",
      "Precision-Recall data saved to precision_recall\\precision_recall_data_reduced_88_DecisionTreeClassifier.json\n",
      "Could not evaluate DecisionTreeClassifier: save_efficiency_vs_ele_PT() got an unexpected keyword argument 'format_mode'\n",
      "\n",
      "Evaluation of DummyClassifier\n",
      "Confusion Matrix:\n",
      " [[28610     0]\n",
      " [17572     0]]\n",
      "Accuracy: 0.61950544\n",
      "Recall: 0.00000000\n"
     ]
    },
    {
     "name": "stderr",
     "output_type": "stream",
     "text": [
      "C:\\Users\\tymch\\AppData\\Local\\Packages\\PythonSoftwareFoundation.Python.3.11_qbz5n2kfra8p0\\LocalCache\\local-packages\\Python311\\site-packages\\sklearn\\metrics\\_classification.py:1531: UndefinedMetricWarning: Precision is ill-defined and being set to 0.0 due to no predicted samples. Use `zero_division` parameter to control this behavior.\n",
      "  _warn_prf(average, modifier, f\"{metric.capitalize()} is\", len(result))\n",
      "C:\\Users\\tymch\\AppData\\Local\\Packages\\PythonSoftwareFoundation.Python.3.11_qbz5n2kfra8p0\\LocalCache\\local-packages\\Python311\\site-packages\\sklearn\\metrics\\_classification.py:1531: UndefinedMetricWarning: Precision is ill-defined and being set to 0.0 in labels with no predicted samples. Use `zero_division` parameter to control this behavior.\n",
      "  _warn_prf(average, modifier, f\"{metric.capitalize()} is\", len(result))\n",
      "C:\\Users\\tymch\\AppData\\Local\\Packages\\PythonSoftwareFoundation.Python.3.11_qbz5n2kfra8p0\\LocalCache\\local-packages\\Python311\\site-packages\\sklearn\\metrics\\_classification.py:1531: UndefinedMetricWarning: Precision is ill-defined and being set to 0.0 in labels with no predicted samples. Use `zero_division` parameter to control this behavior.\n",
      "  _warn_prf(average, modifier, f\"{metric.capitalize()} is\", len(result))\n",
      "C:\\Users\\tymch\\AppData\\Local\\Packages\\PythonSoftwareFoundation.Python.3.11_qbz5n2kfra8p0\\LocalCache\\local-packages\\Python311\\site-packages\\sklearn\\metrics\\_classification.py:1531: UndefinedMetricWarning: Precision is ill-defined and being set to 0.0 in labels with no predicted samples. Use `zero_division` parameter to control this behavior.\n",
      "  _warn_prf(average, modifier, f\"{metric.capitalize()} is\", len(result))\n",
      " 21%|██        | 9/43 [01:09<01:52,  3.32s/it]"
     ]
    },
    {
     "name": "stdout",
     "output_type": "stream",
     "text": [
      "Precision: 0.00000000\n",
      "F1 Score: 0.00000000\n",
      "Classification Report:\n",
      "               precision    recall  f1-score   support\n",
      "\n",
      "         0.0       0.62      1.00      0.77     28610\n",
      "         1.0       0.00      0.00      0.00     17572\n",
      "\n",
      "    accuracy                           0.62     46182\n",
      "   macro avg       0.31      0.50      0.38     46182\n",
      "weighted avg       0.38      0.62      0.47     46182\n",
      "\n",
      "Mean Squared Error: 0.38049456\n",
      "\n",
      "ROC data saved to roc\\roc_data_reduced_88_DummyClassifier.json\n",
      "Precision-Recall data saved to precision_recall\\precision_recall_data_reduced_88_DummyClassifier.json\n",
      "Could not evaluate DummyClassifier: save_efficiency_vs_ele_PT() got an unexpected keyword argument 'format_mode'\n",
      "\n",
      "Evaluation of ExtraTreeClassifier\n",
      "Confusion Matrix:\n",
      " [[26696  1914]\n",
      " [ 1470 16102]]\n",
      "Accuracy: 0.92672470\n",
      "Recall: 0.91634418\n",
      "Precision: 0.89376110\n",
      "F1 Score: 0.90491177\n",
      "Classification Report:\n",
      "               precision    recall  f1-score   support\n",
      "\n",
      "         0.0       0.95      0.93      0.94     28610\n",
      "         1.0       0.89      0.92      0.90     17572\n",
      "\n",
      "    accuracy                           0.93     46182\n",
      "   macro avg       0.92      0.92      0.92     46182\n",
      "weighted avg       0.93      0.93      0.93     46182\n",
      "\n",
      "Mean Squared Error: 0.07327530\n",
      "\n",
      "ROC data saved to roc\\roc_data_reduced_88_ExtraTreeClassifier.json\n",
      "Precision-Recall data saved to precision_recall\\precision_recall_data_reduced_88_ExtraTreeClassifier.json\n",
      "Could not evaluate ExtraTreeClassifier: save_efficiency_vs_ele_PT() got an unexpected keyword argument 'format_mode'\n",
      "\n"
     ]
    },
    {
     "name": "stderr",
     "output_type": "stream",
     "text": [
      " 23%|██▎       | 10/43 [01:10<01:25,  2.60s/it]"
     ]
    },
    {
     "name": "stdout",
     "output_type": "stream",
     "text": [
      "Evaluation of ExtraTreesClassifier\n",
      "Confusion Matrix:\n",
      " [[27492  1118]\n",
      " [  314 17258]]\n",
      "Accuracy: 0.96899225\n",
      "Recall: 0.98213066\n",
      "Precision: 0.93915977\n",
      "F1 Score: 0.96016468\n",
      "Classification Report:\n",
      "               precision    recall  f1-score   support\n",
      "\n",
      "         0.0       0.99      0.96      0.97     28610\n",
      "         1.0       0.94      0.98      0.96     17572\n",
      "\n",
      "    accuracy                           0.97     46182\n",
      "   macro avg       0.96      0.97      0.97     46182\n",
      "weighted avg       0.97      0.97      0.97     46182\n",
      "\n",
      "Mean Squared Error: 0.03100775\n",
      "\n"
     ]
    },
    {
     "name": "stderr",
     "output_type": "stream",
     "text": [
      " 26%|██▌       | 11/43 [02:08<09:53, 18.54s/it]"
     ]
    },
    {
     "name": "stdout",
     "output_type": "stream",
     "text": [
      "ROC data saved to roc\\roc_data_reduced_88_ExtraTreesClassifier.json\n",
      "Precision-Recall data saved to precision_recall\\precision_recall_data_reduced_88_ExtraTreesClassifier.json\n",
      "Could not evaluate ExtraTreesClassifier: save_efficiency_vs_ele_PT() got an unexpected keyword argument 'format_mode'\n",
      "\n"
     ]
    },
    {
     "name": "stderr",
     "output_type": "stream",
     "text": [
      "C:\\Users\\tymch\\AppData\\Local\\Packages\\PythonSoftwareFoundation.Python.3.11_qbz5n2kfra8p0\\LocalCache\\local-packages\\Python311\\site-packages\\sklearn\\linear_model\\_logistic.py:469: ConvergenceWarning: lbfgs failed to converge (status=1):\n",
      "STOP: TOTAL NO. of ITERATIONS REACHED LIMIT.\n",
      "\n",
      "Increase the number of iterations (max_iter) or scale the data as shown in:\n",
      "    https://scikit-learn.org/stable/modules/preprocessing.html\n",
      "Please also refer to the documentation for alternative solver options:\n",
      "    https://scikit-learn.org/stable/modules/linear_model.html#logistic-regression\n",
      "  n_iter_i = _check_optimize_result(\n"
     ]
    },
    {
     "name": "stdout",
     "output_type": "stream",
     "text": [
      "Evaluation of FixedThresholdClassifier\n",
      "Confusion Matrix:\n",
      " [[26953  1657]\n",
      " [ 1352 16220]]\n",
      "Accuracy: 0.93484474\n",
      "Recall: 0.92305941\n",
      "Precision: 0.90731107\n",
      "F1 Score: 0.91511749\n",
      "Classification Report:\n",
      "               precision    recall  f1-score   support\n",
      "\n",
      "         0.0       0.95      0.94      0.95     28610\n",
      "         1.0       0.91      0.92      0.92     17572\n",
      "\n",
      "    accuracy                           0.93     46182\n",
      "   macro avg       0.93      0.93      0.93     46182\n",
      "weighted avg       0.94      0.93      0.93     46182\n",
      "\n",
      "Mean Squared Error: 0.06515526\n",
      "\n",
      "ROC data saved to roc\\roc_data_reduced_88_FixedThresholdClassifier.json\n"
     ]
    },
    {
     "name": "stderr",
     "output_type": "stream",
     "text": [
      " 28%|██▊       | 12/43 [02:10<07:04, 13.69s/it]"
     ]
    },
    {
     "name": "stdout",
     "output_type": "stream",
     "text": [
      "Precision-Recall data saved to precision_recall\\precision_recall_data_reduced_88_FixedThresholdClassifier.json\n",
      "Could not evaluate FixedThresholdClassifier: save_efficiency_vs_ele_PT() got an unexpected keyword argument 'format_mode'\n",
      "\n",
      "Evaluation of GaussianNB\n",
      "Confusion Matrix:\n",
      " [[15500 13110]\n",
      " [  829 16743]]\n",
      "Accuracy: 0.69817245\n",
      "Recall: 0.95282267\n",
      "Precision: 0.56084816\n",
      "F1 Score: 0.70608329\n",
      "Classification Report:\n",
      "               precision    recall  f1-score   support\n",
      "\n",
      "         0.0       0.95      0.54      0.69     28610\n",
      "         1.0       0.56      0.95      0.71     17572\n",
      "\n",
      "    accuracy                           0.70     46182\n",
      "   macro avg       0.76      0.75      0.70     46182\n",
      "weighted avg       0.80      0.70      0.70     46182\n",
      "\n",
      "Mean Squared Error: 0.30182755\n",
      "\n"
     ]
    },
    {
     "name": "stderr",
     "output_type": "stream",
     "text": [
      " 30%|███       | 13/43 [02:10<04:55,  9.86s/it]"
     ]
    },
    {
     "name": "stdout",
     "output_type": "stream",
     "text": [
      "ROC data saved to roc\\roc_data_reduced_88_GaussianNB.json\n",
      "Precision-Recall data saved to precision_recall\\precision_recall_data_reduced_88_GaussianNB.json\n",
      "Could not evaluate GaussianNB: save_efficiency_vs_ele_PT() got an unexpected keyword argument 'format_mode'\n",
      "\n",
      "Could not evaluate GaussianProcessClassifier: Unable to allocate 254. GiB for an array with shape (184728, 184728) and data type float64\n",
      "\n",
      "Evaluation of GradientBoostingClassifier\n",
      "Confusion Matrix:\n",
      " [[27006  1604]\n",
      " [ 1234 16338]]\n",
      "Accuracy: 0.93854749\n",
      "Recall: 0.92977464\n",
      "Precision: 0.91060082\n",
      "F1 Score: 0.92008785\n",
      "Classification Report:\n",
      "               precision    recall  f1-score   support\n",
      "\n",
      "         0.0       0.96      0.94      0.95     28610\n",
      "         1.0       0.91      0.93      0.92     17572\n",
      "\n",
      "    accuracy                           0.94     46182\n",
      "   macro avg       0.93      0.94      0.94     46182\n",
      "weighted avg       0.94      0.94      0.94     46182\n",
      "\n",
      "Mean Squared Error: 0.06145251\n",
      "\n"
     ]
    },
    {
     "name": "stderr",
     "output_type": "stream",
     "text": [
      " 35%|███▍      | 15/43 [03:12<09:01, 19.36s/it]"
     ]
    },
    {
     "name": "stdout",
     "output_type": "stream",
     "text": [
      "ROC data saved to roc\\roc_data_reduced_88_GradientBoostingClassifier.json\n",
      "Precision-Recall data saved to precision_recall\\precision_recall_data_reduced_88_GradientBoostingClassifier.json\n",
      "Could not evaluate GradientBoostingClassifier: save_efficiency_vs_ele_PT() got an unexpected keyword argument 'format_mode'\n",
      "\n",
      "Evaluation of HistGradientBoostingClassifier\n",
      "Confusion Matrix:\n",
      " [[27453  1157]\n",
      " [  455 17117]]\n",
      "Accuracy: 0.96509463\n",
      "Recall: 0.97410653\n",
      "Precision: 0.93668600\n",
      "F1 Score: 0.95502985\n",
      "Classification Report:\n",
      "               precision    recall  f1-score   support\n",
      "\n",
      "         0.0       0.98      0.96      0.97     28610\n",
      "         1.0       0.94      0.97      0.96     17572\n",
      "\n",
      "    accuracy                           0.97     46182\n",
      "   macro avg       0.96      0.97      0.96     46182\n",
      "weighted avg       0.97      0.97      0.97     46182\n",
      "\n",
      "Mean Squared Error: 0.03490537\n",
      "\n"
     ]
    },
    {
     "name": "stderr",
     "output_type": "stream",
     "text": [
      " 37%|███▋      | 16/43 [03:15<06:56, 15.42s/it]"
     ]
    },
    {
     "name": "stdout",
     "output_type": "stream",
     "text": [
      "ROC data saved to roc\\roc_data_reduced_88_HistGradientBoostingClassifier.json\n",
      "Precision-Recall data saved to precision_recall\\precision_recall_data_reduced_88_HistGradientBoostingClassifier.json\n",
      "Could not evaluate HistGradientBoostingClassifier: save_efficiency_vs_ele_PT() got an unexpected keyword argument 'format_mode'\n",
      "\n",
      "Evaluation of KNeighborsClassifier\n",
      "Confusion Matrix:\n",
      " [[26079  2531]\n",
      " [  355 17217]]\n",
      "Accuracy: 0.93750812\n",
      "Recall: 0.97979740\n",
      "Precision: 0.87183512\n",
      "F1 Score: 0.92266881\n",
      "Classification Report:\n",
      "               precision    recall  f1-score   support\n",
      "\n",
      "         0.0       0.99      0.91      0.95     28610\n",
      "         1.0       0.87      0.98      0.92     17572\n",
      "\n",
      "    accuracy                           0.94     46182\n",
      "   macro avg       0.93      0.95      0.94     46182\n",
      "weighted avg       0.94      0.94      0.94     46182\n",
      "\n",
      "Mean Squared Error: 0.06249188\n",
      "\n"
     ]
    },
    {
     "name": "stderr",
     "output_type": "stream",
     "text": [
      " 44%|████▍     | 19/43 [03:41<04:10, 10.45s/it]"
     ]
    },
    {
     "name": "stdout",
     "output_type": "stream",
     "text": [
      "ROC data saved to roc\\roc_data_reduced_88_KNeighborsClassifier.json\n",
      "Precision-Recall data saved to precision_recall\\precision_recall_data_reduced_88_KNeighborsClassifier.json\n",
      "Could not evaluate KNeighborsClassifier: save_efficiency_vs_ele_PT() got an unexpected keyword argument 'format_mode'\n",
      "\n",
      "Could not evaluate LabelPropagation: Unable to allocate 254. GiB for an array with shape (184728, 184728) and data type float64\n",
      "\n",
      "Could not evaluate LabelSpreading: Unable to allocate 254. GiB for an array with shape (184728, 184728) and data type float64\n",
      "\n",
      "Evaluation of LinearDiscriminantAnalysis\n",
      "Confusion Matrix:\n",
      " [[26369  2241]\n",
      " [ 3597 13975]]\n",
      "Accuracy: 0.87358711\n",
      "Recall: 0.79529934\n",
      "Precision: 0.86180316\n",
      "F1 Score: 0.82721676\n",
      "Classification Report:\n",
      "               precision    recall  f1-score   support\n",
      "\n",
      "         0.0       0.88      0.92      0.90     28610\n",
      "         1.0       0.86      0.80      0.83     17572\n",
      "\n",
      "    accuracy                           0.87     46182\n",
      "   macro avg       0.87      0.86      0.86     46182\n",
      "weighted avg       0.87      0.87      0.87     46182\n",
      "\n",
      "Mean Squared Error: 0.12641289\n",
      "\n",
      "ROC data saved to roc\\roc_data_reduced_88_LinearDiscriminantAnalysis.json\n"
     ]
    },
    {
     "name": "stderr",
     "output_type": "stream",
     "text": [
      " 47%|████▋     | 20/43 [03:44<03:19,  8.68s/it]"
     ]
    },
    {
     "name": "stdout",
     "output_type": "stream",
     "text": [
      "Precision-Recall data saved to precision_recall\\precision_recall_data_reduced_88_LinearDiscriminantAnalysis.json\n",
      "Could not evaluate LinearDiscriminantAnalysis: save_efficiency_vs_ele_PT() got an unexpected keyword argument 'format_mode'\n",
      "\n",
      "Evaluation of LinearSVC\n",
      "Confusion Matrix:\n",
      " [[26999  1611]\n",
      " [ 1468 16104]]\n",
      "Accuracy: 0.93332900\n",
      "Recall: 0.91645800\n",
      "Precision: 0.90906012\n",
      "F1 Score: 0.91274407\n",
      "Classification Report:\n",
      "               precision    recall  f1-score   support\n",
      "\n",
      "         0.0       0.95      0.94      0.95     28610\n",
      "         1.0       0.91      0.92      0.91     17572\n",
      "\n",
      "    accuracy                           0.93     46182\n",
      "   macro avg       0.93      0.93      0.93     46182\n",
      "weighted avg       0.93      0.93      0.93     46182\n",
      "\n",
      "Mean Squared Error: 0.06667100\n",
      "\n",
      "ROC data saved to roc\\roc_data_reduced_88_LinearSVC.json\n"
     ]
    },
    {
     "name": "stderr",
     "output_type": "stream",
     "text": [
      " 49%|████▉     | 21/43 [03:46<02:36,  7.12s/it]"
     ]
    },
    {
     "name": "stdout",
     "output_type": "stream",
     "text": [
      "Precision-Recall data saved to precision_recall\\precision_recall_data_reduced_88_LinearSVC.json\n",
      "Could not evaluate LinearSVC: save_efficiency_vs_ele_PT() got an unexpected keyword argument 'format_mode'\n",
      "\n"
     ]
    },
    {
     "name": "stderr",
     "output_type": "stream",
     "text": [
      "C:\\Users\\tymch\\AppData\\Local\\Packages\\PythonSoftwareFoundation.Python.3.11_qbz5n2kfra8p0\\LocalCache\\local-packages\\Python311\\site-packages\\sklearn\\linear_model\\_logistic.py:469: ConvergenceWarning: lbfgs failed to converge (status=1):\n",
      "STOP: TOTAL NO. of ITERATIONS REACHED LIMIT.\n",
      "\n",
      "Increase the number of iterations (max_iter) or scale the data as shown in:\n",
      "    https://scikit-learn.org/stable/modules/preprocessing.html\n",
      "Please also refer to the documentation for alternative solver options:\n",
      "    https://scikit-learn.org/stable/modules/linear_model.html#logistic-regression\n",
      "  n_iter_i = _check_optimize_result(\n"
     ]
    },
    {
     "name": "stdout",
     "output_type": "stream",
     "text": [
      "Evaluation of LogisticRegression\n",
      "Confusion Matrix:\n",
      " [[26953  1657]\n",
      " [ 1352 16220]]\n",
      "Accuracy: 0.93484474\n",
      "Recall: 0.92305941\n",
      "Precision: 0.90731107\n",
      "F1 Score: 0.91511749\n",
      "Classification Report:\n",
      "               precision    recall  f1-score   support\n",
      "\n",
      "         0.0       0.95      0.94      0.95     28610\n",
      "         1.0       0.91      0.92      0.92     17572\n",
      "\n",
      "    accuracy                           0.93     46182\n",
      "   macro avg       0.93      0.93      0.93     46182\n",
      "weighted avg       0.94      0.93      0.93     46182\n",
      "\n",
      "Mean Squared Error: 0.06515526\n",
      "\n",
      "ROC data saved to roc\\roc_data_reduced_88_LogisticRegression.json\n"
     ]
    },
    {
     "name": "stderr",
     "output_type": "stream",
     "text": [
      " 51%|█████     | 22/43 [03:48<02:00,  5.73s/it]"
     ]
    },
    {
     "name": "stdout",
     "output_type": "stream",
     "text": [
      "Precision-Recall data saved to precision_recall\\precision_recall_data_reduced_88_LogisticRegression.json\n",
      "Could not evaluate LogisticRegression: save_efficiency_vs_ele_PT() got an unexpected keyword argument 'format_mode'\n",
      "\n"
     ]
    },
    {
     "name": "stderr",
     "output_type": "stream",
     "text": [
      "C:\\Users\\tymch\\AppData\\Local\\Packages\\PythonSoftwareFoundation.Python.3.11_qbz5n2kfra8p0\\LocalCache\\local-packages\\Python311\\site-packages\\sklearn\\linear_model\\_logistic.py:469: ConvergenceWarning: lbfgs failed to converge (status=1):\n",
      "STOP: TOTAL NO. of ITERATIONS REACHED LIMIT.\n",
      "\n",
      "Increase the number of iterations (max_iter) or scale the data as shown in:\n",
      "    https://scikit-learn.org/stable/modules/preprocessing.html\n",
      "Please also refer to the documentation for alternative solver options:\n",
      "    https://scikit-learn.org/stable/modules/linear_model.html#logistic-regression\n",
      "  n_iter_i = _check_optimize_result(\n",
      "C:\\Users\\tymch\\AppData\\Local\\Packages\\PythonSoftwareFoundation.Python.3.11_qbz5n2kfra8p0\\LocalCache\\local-packages\\Python311\\site-packages\\sklearn\\linear_model\\_logistic.py:469: ConvergenceWarning: lbfgs failed to converge (status=1):\n",
      "STOP: TOTAL NO. of ITERATIONS REACHED LIMIT.\n",
      "\n",
      "Increase the number of iterations (max_iter) or scale the data as shown in:\n",
      "    https://scikit-learn.org/stable/modules/preprocessing.html\n",
      "Please also refer to the documentation for alternative solver options:\n",
      "    https://scikit-learn.org/stable/modules/linear_model.html#logistic-regression\n",
      "  n_iter_i = _check_optimize_result(\n",
      "C:\\Users\\tymch\\AppData\\Local\\Packages\\PythonSoftwareFoundation.Python.3.11_qbz5n2kfra8p0\\LocalCache\\local-packages\\Python311\\site-packages\\sklearn\\linear_model\\_logistic.py:469: ConvergenceWarning: lbfgs failed to converge (status=1):\n",
      "STOP: TOTAL NO. of ITERATIONS REACHED LIMIT.\n",
      "\n",
      "Increase the number of iterations (max_iter) or scale the data as shown in:\n",
      "    https://scikit-learn.org/stable/modules/preprocessing.html\n",
      "Please also refer to the documentation for alternative solver options:\n",
      "    https://scikit-learn.org/stable/modules/linear_model.html#logistic-regression\n",
      "  n_iter_i = _check_optimize_result(\n",
      "C:\\Users\\tymch\\AppData\\Local\\Packages\\PythonSoftwareFoundation.Python.3.11_qbz5n2kfra8p0\\LocalCache\\local-packages\\Python311\\site-packages\\sklearn\\linear_model\\_logistic.py:469: ConvergenceWarning: lbfgs failed to converge (status=1):\n",
      "STOP: TOTAL NO. of ITERATIONS REACHED LIMIT.\n",
      "\n",
      "Increase the number of iterations (max_iter) or scale the data as shown in:\n",
      "    https://scikit-learn.org/stable/modules/preprocessing.html\n",
      "Please also refer to the documentation for alternative solver options:\n",
      "    https://scikit-learn.org/stable/modules/linear_model.html#logistic-regression\n",
      "  n_iter_i = _check_optimize_result(\n",
      "C:\\Users\\tymch\\AppData\\Local\\Packages\\PythonSoftwareFoundation.Python.3.11_qbz5n2kfra8p0\\LocalCache\\local-packages\\Python311\\site-packages\\sklearn\\linear_model\\_logistic.py:469: ConvergenceWarning: lbfgs failed to converge (status=1):\n",
      "STOP: TOTAL NO. of ITERATIONS REACHED LIMIT.\n",
      "\n",
      "Increase the number of iterations (max_iter) or scale the data as shown in:\n",
      "    https://scikit-learn.org/stable/modules/preprocessing.html\n",
      "Please also refer to the documentation for alternative solver options:\n",
      "    https://scikit-learn.org/stable/modules/linear_model.html#logistic-regression\n",
      "  n_iter_i = _check_optimize_result(\n"
     ]
    },
    {
     "name": "stdout",
     "output_type": "stream",
     "text": [
      "Evaluation of LogisticRegressionCV\n",
      "Confusion Matrix:\n",
      " [[26940  1670]\n",
      " [ 1346 16226]]\n",
      "Accuracy: 0.93469317\n",
      "Recall: 0.92340087\n",
      "Precision: 0.90668306\n",
      "F1 Score: 0.91496560\n",
      "Classification Report:\n",
      "               precision    recall  f1-score   support\n",
      "\n",
      "         0.0       0.95      0.94      0.95     28610\n",
      "         1.0       0.91      0.92      0.91     17572\n",
      "\n",
      "    accuracy                           0.93     46182\n",
      "   macro avg       0.93      0.93      0.93     46182\n",
      "weighted avg       0.94      0.93      0.93     46182\n",
      "\n",
      "Mean Squared Error: 0.06530683\n",
      "\n",
      "ROC data saved to roc\\roc_data_reduced_88_LogisticRegressionCV.json\n"
     ]
    },
    {
     "name": "stderr",
     "output_type": "stream",
     "text": [
      " 53%|█████▎    | 23/43 [04:19<04:10, 12.50s/it]"
     ]
    },
    {
     "name": "stdout",
     "output_type": "stream",
     "text": [
      "Precision-Recall data saved to precision_recall\\precision_recall_data_reduced_88_LogisticRegressionCV.json\n",
      "Could not evaluate LogisticRegressionCV: save_efficiency_vs_ele_PT() got an unexpected keyword argument 'format_mode'\n",
      "\n",
      "Evaluation of MLPClassifier\n",
      "Confusion Matrix:\n",
      " [[27693   917]\n",
      " [  552 17020]]\n",
      "Accuracy: 0.96819107\n",
      "Recall: 0.96858639\n",
      "Precision: 0.94887662\n",
      "F1 Score: 0.95863021\n",
      "Classification Report:\n",
      "               precision    recall  f1-score   support\n",
      "\n",
      "         0.0       0.98      0.97      0.97     28610\n",
      "         1.0       0.95      0.97      0.96     17572\n",
      "\n",
      "    accuracy                           0.97     46182\n",
      "   macro avg       0.96      0.97      0.97     46182\n",
      "weighted avg       0.97      0.97      0.97     46182\n",
      "\n",
      "Mean Squared Error: 0.03180893\n",
      "\n",
      "ROC data saved to roc\\roc_data_reduced_88_MLPClassifier.json\n"
     ]
    },
    {
     "name": "stderr",
     "output_type": "stream",
     "text": [
      " 56%|█████▌    | 24/43 [05:38<09:53, 31.22s/it]"
     ]
    },
    {
     "name": "stdout",
     "output_type": "stream",
     "text": [
      "Precision-Recall data saved to precision_recall\\precision_recall_data_reduced_88_MLPClassifier.json\n",
      "Could not evaluate MLPClassifier: save_efficiency_vs_ele_PT() got an unexpected keyword argument 'format_mode'\n",
      "\n",
      "Could not evaluate MultiOutputClassifier: y must have at least two dimensions for multi-output regression but has only one.\n",
      "\n",
      "Evaluation of MultinomialNB\n",
      "Confusion Matrix:\n",
      " [[19332  9278]\n",
      " [  903 16669]]\n",
      "Accuracy: 0.77954614\n",
      "Recall: 0.94861143\n",
      "Precision: 0.64242494\n",
      "F1 Score: 0.76605621\n",
      "Classification Report:\n",
      "               precision    recall  f1-score   support\n",
      "\n",
      "         0.0       0.96      0.68      0.79     28610\n",
      "         1.0       0.64      0.95      0.77     17572\n",
      "\n",
      "    accuracy                           0.78     46182\n",
      "   macro avg       0.80      0.81      0.78     46182\n",
      "weighted avg       0.84      0.78      0.78     46182\n",
      "\n",
      "Mean Squared Error: 0.22045386\n",
      "\n",
      "ROC data saved to roc\\roc_data_reduced_88_MultinomialNB.json\n"
     ]
    },
    {
     "name": "stderr",
     "output_type": "stream",
     "text": [
      " 60%|██████    | 26/43 [05:38<04:55, 17.39s/it]"
     ]
    },
    {
     "name": "stdout",
     "output_type": "stream",
     "text": [
      "Precision-Recall data saved to precision_recall\\precision_recall_data_reduced_88_MultinomialNB.json\n",
      "Could not evaluate MultinomialNB: save_efficiency_vs_ele_PT() got an unexpected keyword argument 'format_mode'\n",
      "\n",
      "Evaluation of NearestCentroid\n",
      "Confusion Matrix:\n",
      " [[24574  4036]\n",
      " [ 3350 14222]]\n",
      "Accuracy: 0.84006756\n",
      "Recall: 0.80935579\n",
      "Precision: 0.77894622\n",
      "F1 Score: 0.79385989\n",
      "Classification Report:\n",
      "               precision    recall  f1-score   support\n",
      "\n",
      "         0.0       0.88      0.86      0.87     28610\n",
      "         1.0       0.78      0.81      0.79     17572\n",
      "\n",
      "    accuracy                           0.84     46182\n",
      "   macro avg       0.83      0.83      0.83     46182\n",
      "weighted avg       0.84      0.84      0.84     46182\n",
      "\n",
      "Mean Squared Error: 0.15993244\n",
      "\n",
      "Could not evaluate NearestCentroid: Model must have either a decision_function or predict_proba method.\n",
      "\n"
     ]
    },
    {
     "name": "stderr",
     "output_type": "stream",
     "text": [
      " 63%|██████▎   | 27/43 [05:38<03:31, 13.24s/it]"
     ]
    }
   ],
   "source": [
    "description = \"reduced_88\"\n",
    "results = train_evaluate_all_classifiers(binary_classifiers,X_train, X_test, y_train, y_test, pd_passthrough_train, pd_passthrough_test, description)"
   ]
  },
  {
   "cell_type": "code",
   "execution_count": null,
   "metadata": {},
   "outputs": [],
   "source": [
    "save_csv(\"eFEX_reduced_88_Supercell_ETs_test.csv\",results,\"reduced\")"
   ]
  },
  {
   "cell_type": "code",
   "execution_count": null,
   "metadata": {},
   "outputs": [],
   "source": [
    "plot_all_results(binary_classifiers)"
   ]
  }
 ],
 "metadata": {
  "kernelspec": {
   "display_name": "Python 3",
   "language": "python",
   "name": "python3"
  },
  "language_info": {
   "codemirror_mode": {
    "name": "ipython",
    "version": 3
   },
   "file_extension": ".py",
   "mimetype": "text/x-python",
   "name": "python",
   "nbconvert_exporter": "python",
   "pygments_lexer": "ipython3",
   "version": "3.11.9"
  }
 },
 "nbformat": 4,
 "nbformat_minor": 2
}
