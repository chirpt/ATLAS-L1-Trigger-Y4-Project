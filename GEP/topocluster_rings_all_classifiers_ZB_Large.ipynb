{
 "cells": [
  {
   "cell_type": "code",
   "execution_count": null,
   "metadata": {},
   "outputs": [],
   "source": [
    "import sys\n",
    "import os\n",
    "\n",
    "parent_dir = os.path.dirname(os.getcwd())\n",
    "sys.path.append(parent_dir)\n",
    "\n",
    "from utilities_new import *\n",
    "\n",
    "description = \"topocluster_rings\"\n",
    "data_subdir = \"topocluster_test_Zee_Large\""
   ]
  },
  {
   "cell_type": "code",
   "execution_count": null,
   "metadata": {},
   "outputs": [],
   "source": [
    "Files = [\"l1calo_topocluster_test_Zee.root\", \"ZMUMU_TopoCluster_Supercell_Large.root\"] # \"extended\" includes isolation vars and extended_new trigger decision\n",
    "DFs = []\n",
    "\n",
    "for i in range (0,len(Files)):\n",
    "  print(Files[i])\n",
    "  File = uproot.open(os.path.join(os.path.pardir, \"data\", Files[i]))\n",
    "  Tree = File[\"tree_DMC\"]\n",
    "  DFs.append(Tree.arrays(library=\"pd\"))\n",
    "  print (DFs[i].shape, DFs[i].columns)"
   ]
  },
  {
   "cell_type": "code",
   "execution_count": null,
   "metadata": {},
   "outputs": [],
   "source": [
    "X_train, X_test, y_train, y_test, pd_passthrough_train, pd_passthrough_test = prepare_data(accept_data_filename=\"l1calo_topocluster_test_Zee.root\", reject_data_filename=\"ZMUMU_TopoCluster_Supercell_Large.root\", data_subdir=\"topocluster_test_Zee_Large\", format_mode=\"topocluster_ET_boundaries\", distance_boundaries=[0.00625,0.0125,0.025,0.05,0.1,0.2,0.4])"
   ]
  },
  {
   "cell_type": "code",
   "execution_count": null,
   "metadata": {},
   "outputs": [],
   "source": [
    "binary_classifiers = import_all_classifiers()\n",
    "# binary_classifiers= dict(list(binary_classifiers.items())[:10])"
   ]
  },
  {
   "cell_type": "code",
   "execution_count": null,
   "metadata": {},
   "outputs": [],
   "source": [
    "results = train_evaluate_all_classifiers(binary_classifiers, X_train, X_test, y_train, y_test, pd_passthrough_train, pd_passthrough_test, description, data_subdir)"
   ]
  },
  {
   "cell_type": "code",
   "execution_count": null,
   "metadata": {},
   "outputs": [],
   "source": [
    "plot_all_results(binary_classifiers, description, data_subdir)"
   ]
  }
 ],
 "metadata": {
  "kernelspec": {
   "display_name": "Python 3",
   "language": "python",
   "name": "python3"
  },
  "language_info": {
   "codemirror_mode": {
    "name": "ipython",
    "version": 3
   },
   "file_extension": ".py",
   "mimetype": "text/x-python",
   "name": "python",
   "nbconvert_exporter": "python",
   "pygments_lexer": "ipython3",
   "version": "3.11.9"
  }
 },
 "nbformat": 4,
 "nbformat_minor": 2
}
