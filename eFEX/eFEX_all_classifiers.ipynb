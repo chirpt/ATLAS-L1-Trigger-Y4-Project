{
 "cells": [
  {
   "cell_type": "code",
   "execution_count": 1,
   "metadata": {},
   "outputs": [
    {
     "name": "stderr",
     "output_type": "stream",
     "text": [
      "C:\\Users\\tymch\\AppData\\Local\\Packages\\PythonSoftwareFoundation.Python.3.11_qbz5n2kfra8p0\\LocalCache\\local-packages\\Python311\\site-packages\\tqdm\\auto.py:21: TqdmWarning: IProgress not found. Please update jupyter and ipywidgets. See https://ipywidgets.readthedocs.io/en/stable/user_install.html\n",
      "  from .autonotebook import tqdm as notebook_tqdm\n"
     ]
    }
   ],
   "source": [
    "import sys\n",
    "import os\n",
    "\n",
    "parent_dir = os.path.dirname(os.getcwd())\n",
    "sys.path.append(parent_dir)\n",
    "\n",
    "from utilities_new import *"
   ]
  },
  {
   "cell_type": "code",
   "execution_count": 2,
   "metadata": {},
   "outputs": [
    {
     "name": "stdout",
     "output_type": "stream",
     "text": [
      "found preprepared data in ..\\data\\ZMUMU_EGZ_extended_np_pd\n"
     ]
    }
   ],
   "source": [
    "X_train, X_test, y_train, y_test, pd_passthrough_train, pd_passthrough_test = prepare_data(accept_data_filename=\"l1calo_hist_EGZ_extended.root\", reject_data_filename=\"l1calo_hist_ZMUMU_extended.root\",data_subdir=\"ZMUMU_EGZ_extended_np_pd\", format_mode=\"SuperCell_ET\", get_pT=True)"
   ]
  },
  {
   "cell_type": "code",
   "execution_count": 3,
   "metadata": {},
   "outputs": [
    {
     "name": "stdout",
     "output_type": "stream",
     "text": [
      "Imported 43 binary classifiers:\n",
      "['AdaBoostClassifier', 'BaggingClassifier', 'BernoulliNB', 'CalibratedClassifierCV', 'CategoricalNB', 'ClassifierChain', 'ComplementNB', 'DecisionTreeClassifier', 'DummyClassifier', 'ExtraTreeClassifier', 'ExtraTreesClassifier', 'FixedThresholdClassifier', 'GaussianNB', 'GaussianProcessClassifier', 'GradientBoostingClassifier', 'HistGradientBoostingClassifier', 'KNeighborsClassifier', 'LabelPropagation', 'LabelSpreading', 'LinearDiscriminantAnalysis', 'LinearSVC', 'LogisticRegression', 'LogisticRegressionCV', 'MLPClassifier', 'MultiOutputClassifier', 'MultinomialNB', 'NearestCentroid', 'NuSVC', 'OneVsOneClassifier', 'OneVsRestClassifier', 'OutputCodeClassifier', 'PassiveAggressiveClassifier', 'Perceptron', 'QuadraticDiscriminantAnalysis', 'RadiusNeighborsClassifier', 'RandomForestClassifier', 'RidgeClassifier', 'RidgeClassifierCV', 'SGDClassifier', 'SVC', 'TunedThresholdClassifierCV', 'VotingClassifier', 'XGBClassifier']\n"
     ]
    }
   ],
   "source": [
    "binary_classifiers = import_all_classifiers()\n",
    "# binary_classifiers= dict(list(binary_classifiers.items())[:10])"
   ]
  },
  {
   "cell_type": "code",
   "execution_count": null,
   "metadata": {},
   "outputs": [
    {
     "name": "stderr",
     "output_type": "stream",
     "text": [
      "  0%|          | 0/43 [00:00<?, ?it/s]C:\\Users\\tymch\\AppData\\Local\\Packages\\PythonSoftwareFoundation.Python.3.11_qbz5n2kfra8p0\\LocalCache\\local-packages\\Python311\\site-packages\\sklearn\\ensemble\\_weight_boosting.py:527: FutureWarning: The SAMME.R algorithm (the default) is deprecated and will be removed in 1.6. Use the SAMME algorithm to circumvent this warning.\n",
      "  warnings.warn(\n"
     ]
    },
    {
     "name": "stdout",
     "output_type": "stream",
     "text": [
      "Evaluation of AdaBoostClassifier\n",
      "Confusion Matrix:\n",
      " [[27143  1467]\n",
      " [ 1873 15699]]\n",
      "Accuracy: 0.92767745\n",
      "Recall: 0.89340997\n",
      "Precision: 0.91454037\n",
      "F1 Score: 0.90385169\n",
      "Classification Report:\n",
      "               precision    recall  f1-score   support\n",
      "\n",
      "         0.0       0.94      0.95      0.94     28610\n",
      "         1.0       0.91      0.89      0.90     17572\n",
      "\n",
      "    accuracy                           0.93     46182\n",
      "   macro avg       0.92      0.92      0.92     46182\n",
      "weighted avg       0.93      0.93      0.93     46182\n",
      "\n",
      "Mean Squared Error: 0.07232255\n",
      "\n"
     ]
    },
    {
     "name": "stderr",
     "output_type": "stream",
     "text": [
      "  2%|▏         | 1/43 [00:18<12:57, 18.52s/it]"
     ]
    },
    {
     "name": "stdout",
     "output_type": "stream",
     "text": [
      "ROC data saved to roc\\roc_data_AdaBoostClassifier.json\n",
      "Precision-Recall data saved to precision_recall\\precision_recall_data_AdaBoostClassifier.json\n",
      "Efficiency vs Electron PT data saved to efficiency_vs_ele_pt\\efficiency_vs_ele_pt_AdaBoostClassifier.json\n",
      "Evaluation of BaggingClassifier\n",
      "Confusion Matrix:\n",
      " [[27458  1152]\n",
      " [  859 16713]]\n",
      "Accuracy: 0.95645490\n",
      "Recall: 0.95111541\n",
      "Precision: 0.93551637\n",
      "F1 Score: 0.94325140\n",
      "Classification Report:\n",
      "               precision    recall  f1-score   support\n",
      "\n",
      "         0.0       0.97      0.96      0.96     28610\n",
      "         1.0       0.94      0.95      0.94     17572\n",
      "\n",
      "    accuracy                           0.96     46182\n",
      "   macro avg       0.95      0.96      0.95     46182\n",
      "weighted avg       0.96      0.96      0.96     46182\n",
      "\n",
      "Mean Squared Error: 0.04354510\n",
      "\n"
     ]
    },
    {
     "name": "stderr",
     "output_type": "stream",
     "text": [
      "  5%|▍         | 2/43 [00:54<19:40, 28.79s/it]"
     ]
    },
    {
     "name": "stdout",
     "output_type": "stream",
     "text": [
      "ROC data saved to roc\\roc_data_BaggingClassifier.json\n",
      "Precision-Recall data saved to precision_recall\\precision_recall_data_BaggingClassifier.json\n",
      "Efficiency vs Electron PT data saved to efficiency_vs_ele_pt\\efficiency_vs_ele_pt_BaggingClassifier.json\n",
      "Evaluation of BernoulliNB\n",
      "Confusion Matrix:\n",
      " [[16632 11978]\n",
      " [ 1204 16368]]\n",
      "Accuracy: 0.71456412\n",
      "Recall: 0.93148190\n",
      "Precision: 0.57743597\n",
      "F1 Score: 0.71292304\n",
      "Classification Report:\n",
      "               precision    recall  f1-score   support\n",
      "\n",
      "         0.0       0.93      0.58      0.72     28610\n",
      "         1.0       0.58      0.93      0.71     17572\n",
      "\n",
      "    accuracy                           0.71     46182\n",
      "   macro avg       0.75      0.76      0.71     46182\n",
      "weighted avg       0.80      0.71      0.71     46182\n",
      "\n",
      "Mean Squared Error: 0.28543588\n",
      "\n",
      "ROC data saved to roc\\roc_data_BernoulliNB.json\n"
     ]
    },
    {
     "name": "stderr",
     "output_type": "stream",
     "text": [
      "  7%|▋         | 3/43 [00:54<10:33, 15.85s/it]"
     ]
    },
    {
     "name": "stdout",
     "output_type": "stream",
     "text": [
      "Precision-Recall data saved to precision_recall\\precision_recall_data_BernoulliNB.json\n",
      "Efficiency vs Electron PT data saved to efficiency_vs_ele_pt\\efficiency_vs_ele_pt_BernoulliNB.json\n",
      "Evaluation of CalibratedClassifierCV\n",
      "Confusion Matrix:\n",
      " [[26967  1643]\n",
      " [ 1082 16490]]\n",
      "Accuracy: 0.94099433\n",
      "Recall: 0.93842477\n",
      "Precision: 0.90939172\n",
      "F1 Score: 0.92368016\n",
      "Classification Report:\n",
      "               precision    recall  f1-score   support\n",
      "\n",
      "         0.0       0.96      0.94      0.95     28610\n",
      "         1.0       0.91      0.94      0.92     17572\n",
      "\n",
      "    accuracy                           0.94     46182\n",
      "   macro avg       0.94      0.94      0.94     46182\n",
      "weighted avg       0.94      0.94      0.94     46182\n",
      "\n",
      "Mean Squared Error: 0.05900567\n",
      "\n",
      "ROC data saved to roc\\roc_data_CalibratedClassifierCV.json\n"
     ]
    },
    {
     "name": "stderr",
     "output_type": "stream",
     "text": [
      "  9%|▉         | 4/43 [01:00<07:36, 11.71s/it]"
     ]
    },
    {
     "name": "stdout",
     "output_type": "stream",
     "text": [
      "Precision-Recall data saved to precision_recall\\precision_recall_data_CalibratedClassifierCV.json\n",
      "Efficiency vs Electron PT data saved to efficiency_vs_ele_pt\\efficiency_vs_ele_pt_CalibratedClassifierCV.json\n"
     ]
    },
    {
     "name": "stderr",
     "output_type": "stream",
     "text": [
      " 12%|█▏        | 5/43 [01:00<04:48,  7.59s/it]"
     ]
    },
    {
     "name": "stdout",
     "output_type": "stream",
     "text": [
      "Could not evaluate CategoricalNB: index 92 is out of bounds for axis 1 with size 30\n",
      "\n",
      "Could not evaluate ClassifierChain: tuple index out of range\n",
      "\n",
      "Evaluation of ComplementNB\n",
      "Confusion Matrix:\n",
      " [[18389 10221]\n",
      " [  358 17214]]\n",
      "Accuracy: 0.77092807\n",
      "Recall: 0.97962668\n",
      "Precision: 0.62744669\n",
      "F1 Score: 0.76494767\n",
      "Classification Report:\n",
      "               precision    recall  f1-score   support\n",
      "\n",
      "         0.0       0.98      0.64      0.78     28610\n",
      "         1.0       0.63      0.98      0.76     17572\n",
      "\n",
      "    accuracy                           0.77     46182\n",
      "   macro avg       0.80      0.81      0.77     46182\n",
      "weighted avg       0.85      0.77      0.77     46182\n",
      "\n",
      "Mean Squared Error: 0.22907193\n",
      "\n",
      "ROC data saved to roc\\roc_data_ComplementNB.json\n"
     ]
    },
    {
     "name": "stderr",
     "output_type": "stream",
     "text": [
      " 16%|█▋        | 7/43 [01:00<02:17,  3.81s/it]"
     ]
    },
    {
     "name": "stdout",
     "output_type": "stream",
     "text": [
      "Precision-Recall data saved to precision_recall\\precision_recall_data_ComplementNB.json\n",
      "Efficiency vs Electron PT data saved to efficiency_vs_ele_pt\\efficiency_vs_ele_pt_ComplementNB.json\n"
     ]
    },
    {
     "name": "stderr",
     "output_type": "stream",
     "text": [
      " 19%|█▊        | 8/43 [01:06<02:34,  4.41s/it]"
     ]
    },
    {
     "name": "stdout",
     "output_type": "stream",
     "text": [
      "Evaluation of DecisionTreeClassifier\n",
      "Confusion Matrix:\n",
      " [[27002  1608]\n",
      " [ 1419 16153]]\n",
      "Accuracy: 0.93445498\n",
      "Recall: 0.91924653\n",
      "Precision: 0.90946456\n",
      "F1 Score: 0.91432938\n",
      "Classification Report:\n",
      "               precision    recall  f1-score   support\n",
      "\n",
      "         0.0       0.95      0.94      0.95     28610\n",
      "         1.0       0.91      0.92      0.91     17572\n",
      "\n",
      "    accuracy                           0.93     46182\n",
      "   macro avg       0.93      0.93      0.93     46182\n",
      "weighted avg       0.93      0.93      0.93     46182\n",
      "\n",
      "Mean Squared Error: 0.06554502\n",
      "\n",
      "ROC data saved to roc\\roc_data_DecisionTreeClassifier.json\n",
      "Precision-Recall data saved to precision_recall\\precision_recall_data_DecisionTreeClassifier.json\n",
      "Efficiency vs Electron PT data saved to efficiency_vs_ele_pt\\efficiency_vs_ele_pt_DecisionTreeClassifier.json\n",
      "Evaluation of DummyClassifier\n",
      "Confusion Matrix:\n",
      " [[28610     0]\n",
      " [17572     0]]\n",
      "Accuracy: 0.61950544\n"
     ]
    },
    {
     "name": "stderr",
     "output_type": "stream",
     "text": [
      "C:\\Users\\tymch\\AppData\\Local\\Packages\\PythonSoftwareFoundation.Python.3.11_qbz5n2kfra8p0\\LocalCache\\local-packages\\Python311\\site-packages\\sklearn\\metrics\\_classification.py:1531: UndefinedMetricWarning: Precision is ill-defined and being set to 0.0 due to no predicted samples. Use `zero_division` parameter to control this behavior.\n",
      "  _warn_prf(average, modifier, f\"{metric.capitalize()} is\", len(result))\n",
      "C:\\Users\\tymch\\AppData\\Local\\Packages\\PythonSoftwareFoundation.Python.3.11_qbz5n2kfra8p0\\LocalCache\\local-packages\\Python311\\site-packages\\sklearn\\metrics\\_classification.py:1531: UndefinedMetricWarning: Precision is ill-defined and being set to 0.0 in labels with no predicted samples. Use `zero_division` parameter to control this behavior.\n",
      "  _warn_prf(average, modifier, f\"{metric.capitalize()} is\", len(result))\n",
      "C:\\Users\\tymch\\AppData\\Local\\Packages\\PythonSoftwareFoundation.Python.3.11_qbz5n2kfra8p0\\LocalCache\\local-packages\\Python311\\site-packages\\sklearn\\metrics\\_classification.py:1531: UndefinedMetricWarning: Precision is ill-defined and being set to 0.0 in labels with no predicted samples. Use `zero_division` parameter to control this behavior.\n",
      "  _warn_prf(average, modifier, f\"{metric.capitalize()} is\", len(result))\n",
      "C:\\Users\\tymch\\AppData\\Local\\Packages\\PythonSoftwareFoundation.Python.3.11_qbz5n2kfra8p0\\LocalCache\\local-packages\\Python311\\site-packages\\sklearn\\metrics\\_classification.py:1531: UndefinedMetricWarning: Precision is ill-defined and being set to 0.0 in labels with no predicted samples. Use `zero_division` parameter to control this behavior.\n",
      "  _warn_prf(average, modifier, f\"{metric.capitalize()} is\", len(result))\n",
      " 21%|██        | 9/43 [01:07<01:49,  3.23s/it]"
     ]
    },
    {
     "name": "stdout",
     "output_type": "stream",
     "text": [
      "Recall: 0.00000000\n",
      "Precision: 0.00000000\n",
      "F1 Score: 0.00000000\n",
      "Classification Report:\n",
      "               precision    recall  f1-score   support\n",
      "\n",
      "         0.0       0.62      1.00      0.77     28610\n",
      "         1.0       0.00      0.00      0.00     17572\n",
      "\n",
      "    accuracy                           0.62     46182\n",
      "   macro avg       0.31      0.50      0.38     46182\n",
      "weighted avg       0.38      0.62      0.47     46182\n",
      "\n",
      "Mean Squared Error: 0.38049456\n",
      "\n",
      "ROC data saved to roc\\roc_data_DummyClassifier.json\n",
      "Precision-Recall data saved to precision_recall\\precision_recall_data_DummyClassifier.json\n",
      "Efficiency vs Electron PT data saved to efficiency_vs_ele_pt\\efficiency_vs_ele_pt_DummyClassifier.json\n"
     ]
    },
    {
     "name": "stderr",
     "output_type": "stream",
     "text": [
      " 23%|██▎       | 10/43 [01:07<01:22,  2.50s/it]"
     ]
    },
    {
     "name": "stdout",
     "output_type": "stream",
     "text": [
      "Evaluation of ExtraTreeClassifier\n",
      "Confusion Matrix:\n",
      " [[26588  2022]\n",
      " [ 1469 16103]]\n",
      "Accuracy: 0.92440778\n",
      "Recall: 0.91640109\n",
      "Precision: 0.88844138\n",
      "F1 Score: 0.90220467\n",
      "Classification Report:\n",
      "               precision    recall  f1-score   support\n",
      "\n",
      "         0.0       0.95      0.93      0.94     28610\n",
      "         1.0       0.89      0.92      0.90     17572\n",
      "\n",
      "    accuracy                           0.92     46182\n",
      "   macro avg       0.92      0.92      0.92     46182\n",
      "weighted avg       0.93      0.92      0.92     46182\n",
      "\n",
      "Mean Squared Error: 0.07559222\n",
      "\n",
      "ROC data saved to roc\\roc_data_ExtraTreeClassifier.json\n",
      "Precision-Recall data saved to precision_recall\\precision_recall_data_ExtraTreeClassifier.json\n",
      "Efficiency vs Electron PT data saved to efficiency_vs_ele_pt\\efficiency_vs_ele_pt_ExtraTreeClassifier.json\n",
      "Evaluation of ExtraTreesClassifier\n",
      "Confusion Matrix:\n",
      " [[27475  1135]\n",
      " [  279 17293]]\n",
      "Accuracy: 0.96938201\n",
      "Recall: 0.98412247\n",
      "Precision: 0.93840894\n",
      "F1 Score: 0.96072222\n",
      "Classification Report:\n",
      "               precision    recall  f1-score   support\n",
      "\n",
      "         0.0       0.99      0.96      0.97     28610\n",
      "         1.0       0.94      0.98      0.96     17572\n",
      "\n",
      "    accuracy                           0.97     46182\n",
      "   macro avg       0.96      0.97      0.97     46182\n",
      "weighted avg       0.97      0.97      0.97     46182\n",
      "\n",
      "Mean Squared Error: 0.03061799\n",
      "\n"
     ]
    },
    {
     "name": "stderr",
     "output_type": "stream",
     "text": [
      " 26%|██▌       | 11/43 [01:53<07:56, 14.88s/it]"
     ]
    },
    {
     "name": "stdout",
     "output_type": "stream",
     "text": [
      "ROC data saved to roc\\roc_data_ExtraTreesClassifier.json\n",
      "Precision-Recall data saved to precision_recall\\precision_recall_data_ExtraTreesClassifier.json\n",
      "Efficiency vs Electron PT data saved to efficiency_vs_ele_pt\\efficiency_vs_ele_pt_ExtraTreesClassifier.json\n"
     ]
    },
    {
     "name": "stderr",
     "output_type": "stream",
     "text": [
      "C:\\Users\\tymch\\AppData\\Local\\Packages\\PythonSoftwareFoundation.Python.3.11_qbz5n2kfra8p0\\LocalCache\\local-packages\\Python311\\site-packages\\sklearn\\linear_model\\_logistic.py:469: ConvergenceWarning: lbfgs failed to converge (status=1):\n",
      "STOP: TOTAL NO. of ITERATIONS REACHED LIMIT.\n",
      "\n",
      "Increase the number of iterations (max_iter) or scale the data as shown in:\n",
      "    https://scikit-learn.org/stable/modules/preprocessing.html\n",
      "Please also refer to the documentation for alternative solver options:\n",
      "    https://scikit-learn.org/stable/modules/linear_model.html#logistic-regression\n",
      "  n_iter_i = _check_optimize_result(\n"
     ]
    },
    {
     "name": "stdout",
     "output_type": "stream",
     "text": [
      "Evaluation of FixedThresholdClassifier\n",
      "Confusion Matrix:\n",
      " [[26979  1631]\n",
      " [ 1078 16494]]\n",
      "Accuracy: 0.94134078\n",
      "Recall: 0.93865240\n",
      "Precision: 0.91001379\n",
      "F1 Score: 0.92411127\n",
      "Classification Report:\n",
      "               precision    recall  f1-score   support\n",
      "\n",
      "         0.0       0.96      0.94      0.95     28610\n",
      "         1.0       0.91      0.94      0.92     17572\n",
      "\n",
      "    accuracy                           0.94     46182\n",
      "   macro avg       0.94      0.94      0.94     46182\n",
      "weighted avg       0.94      0.94      0.94     46182\n",
      "\n",
      "Mean Squared Error: 0.05865922\n",
      "\n",
      "ROC data saved to roc\\roc_data_FixedThresholdClassifier.json\n"
     ]
    },
    {
     "name": "stderr",
     "output_type": "stream",
     "text": [
      " 28%|██▊       | 12/43 [01:55<05:43, 11.08s/it]"
     ]
    },
    {
     "name": "stdout",
     "output_type": "stream",
     "text": [
      "Precision-Recall data saved to precision_recall\\precision_recall_data_FixedThresholdClassifier.json\n",
      "Efficiency vs Electron PT data saved to efficiency_vs_ele_pt\\efficiency_vs_ele_pt_FixedThresholdClassifier.json\n",
      "Evaluation of GaussianNB\n",
      "Confusion Matrix:\n",
      " [[16231 12379]\n",
      " [  705 16867]]\n",
      "Accuracy: 0.71668615\n",
      "Recall: 0.95987935\n",
      "Precision: 0.57672844\n",
      "F1 Score: 0.72053484\n",
      "Classification Report:\n",
      "               precision    recall  f1-score   support\n",
      "\n",
      "         0.0       0.96      0.57      0.71     28610\n",
      "         1.0       0.58      0.96      0.72     17572\n",
      "\n",
      "    accuracy                           0.72     46182\n",
      "   macro avg       0.77      0.76      0.72     46182\n",
      "weighted avg       0.81      0.72      0.72     46182\n",
      "\n",
      "Mean Squared Error: 0.28331385\n",
      "\n"
     ]
    },
    {
     "name": "stderr",
     "output_type": "stream",
     "text": [
      " 30%|███       | 13/43 [01:55<04:01,  8.04s/it]"
     ]
    },
    {
     "name": "stdout",
     "output_type": "stream",
     "text": [
      "ROC data saved to roc\\roc_data_GaussianNB.json\n",
      "Precision-Recall data saved to precision_recall\\precision_recall_data_GaussianNB.json\n",
      "Efficiency vs Electron PT data saved to efficiency_vs_ele_pt\\efficiency_vs_ele_pt_GaussianNB.json\n",
      "Could not evaluate GaussianProcessClassifier: Unable to allocate 254. GiB for an array with shape (184728, 184728) and data type float64\n",
      "\n",
      "Evaluation of GradientBoostingClassifier\n",
      "Confusion Matrix:\n",
      " [[27073  1537]\n",
      " [ 1109 16463]]\n",
      "Accuracy: 0.94270495\n",
      "Recall: 0.93688823\n",
      "Precision: 0.91461111\n",
      "F1 Score: 0.92561565\n",
      "Classification Report:\n",
      "               precision    recall  f1-score   support\n",
      "\n",
      "         0.0       0.96      0.95      0.95     28610\n",
      "         1.0       0.91      0.94      0.93     17572\n",
      "\n",
      "    accuracy                           0.94     46182\n",
      "   macro avg       0.94      0.94      0.94     46182\n",
      "weighted avg       0.94      0.94      0.94     46182\n",
      "\n",
      "Mean Squared Error: 0.05729505\n",
      "\n"
     ]
    },
    {
     "name": "stderr",
     "output_type": "stream",
     "text": [
      " 35%|███▍      | 15/43 [02:53<08:07, 17.41s/it]"
     ]
    },
    {
     "name": "stdout",
     "output_type": "stream",
     "text": [
      "ROC data saved to roc\\roc_data_GradientBoostingClassifier.json\n",
      "Precision-Recall data saved to precision_recall\\precision_recall_data_GradientBoostingClassifier.json\n",
      "Efficiency vs Electron PT data saved to efficiency_vs_ele_pt\\efficiency_vs_ele_pt_GradientBoostingClassifier.json\n",
      "Evaluation of HistGradientBoostingClassifier\n",
      "Confusion Matrix:\n",
      " [[27499  1111]\n",
      " [  402 17170]]\n",
      "Accuracy: 0.96723832\n",
      "Recall: 0.97712270\n",
      "Precision: 0.93922652\n",
      "F1 Score: 0.95779991\n",
      "Classification Report:\n",
      "               precision    recall  f1-score   support\n",
      "\n",
      "         0.0       0.99      0.96      0.97     28610\n",
      "         1.0       0.94      0.98      0.96     17572\n",
      "\n",
      "    accuracy                           0.97     46182\n",
      "   macro avg       0.96      0.97      0.97     46182\n",
      "weighted avg       0.97      0.97      0.97     46182\n",
      "\n",
      "Mean Squared Error: 0.03276168\n",
      "\n"
     ]
    },
    {
     "name": "stderr",
     "output_type": "stream",
     "text": [
      " 37%|███▋      | 16/43 [02:56<06:18, 14.03s/it]"
     ]
    },
    {
     "name": "stdout",
     "output_type": "stream",
     "text": [
      "ROC data saved to roc\\roc_data_HistGradientBoostingClassifier.json\n",
      "Precision-Recall data saved to precision_recall\\precision_recall_data_HistGradientBoostingClassifier.json\n",
      "Efficiency vs Electron PT data saved to efficiency_vs_ele_pt\\efficiency_vs_ele_pt_HistGradientBoostingClassifier.json\n",
      "Evaluation of KNeighborsClassifier\n",
      "Confusion Matrix:\n",
      " [[26070  2540]\n",
      " [  328 17244]]\n",
      "Accuracy: 0.93789788\n",
      "Recall: 0.98133394\n",
      "Precision: 0.87161342\n",
      "F1 Score: 0.92322518\n",
      "Classification Report:\n",
      "               precision    recall  f1-score   support\n",
      "\n",
      "         0.0       0.99      0.91      0.95     28610\n",
      "         1.0       0.87      0.98      0.92     17572\n",
      "\n",
      "    accuracy                           0.94     46182\n",
      "   macro avg       0.93      0.95      0.94     46182\n",
      "weighted avg       0.94      0.94      0.94     46182\n",
      "\n",
      "Mean Squared Error: 0.06210212\n",
      "\n"
     ]
    },
    {
     "name": "stderr",
     "output_type": "stream",
     "text": [
      " 44%|████▍     | 19/43 [03:24<04:01, 10.06s/it]"
     ]
    },
    {
     "name": "stdout",
     "output_type": "stream",
     "text": [
      "ROC data saved to roc\\roc_data_KNeighborsClassifier.json\n",
      "Precision-Recall data saved to precision_recall\\precision_recall_data_KNeighborsClassifier.json\n",
      "Efficiency vs Electron PT data saved to efficiency_vs_ele_pt\\efficiency_vs_ele_pt_KNeighborsClassifier.json\n",
      "Could not evaluate LabelPropagation: Unable to allocate 254. GiB for an array with shape (184728, 184728) and data type float64\n",
      "\n",
      "Could not evaluate LabelSpreading: Unable to allocate 254. GiB for an array with shape (184728, 184728) and data type float64\n",
      "\n",
      "Evaluation of LinearDiscriminantAnalysis\n",
      "Confusion Matrix:\n",
      " [[26242  2368]\n",
      " [ 3243 14329]]\n",
      "Accuracy: 0.87850245\n",
      "Recall: 0.81544503\n",
      "Precision: 0.85817812\n",
      "F1 Score: 0.83626601\n",
      "Classification Report:\n",
      "               precision    recall  f1-score   support\n",
      "\n",
      "         0.0       0.89      0.92      0.90     28610\n",
      "         1.0       0.86      0.82      0.84     17572\n",
      "\n",
      "    accuracy                           0.88     46182\n",
      "   macro avg       0.87      0.87      0.87     46182\n",
      "weighted avg       0.88      0.88      0.88     46182\n",
      "\n",
      "Mean Squared Error: 0.12149755\n",
      "\n",
      "ROC data saved to roc\\roc_data_LinearDiscriminantAnalysis.json\n"
     ]
    },
    {
     "name": "stderr",
     "output_type": "stream",
     "text": [
      " 47%|████▋     | 20/43 [03:26<03:08,  8.18s/it]"
     ]
    },
    {
     "name": "stdout",
     "output_type": "stream",
     "text": [
      "Precision-Recall data saved to precision_recall\\precision_recall_data_LinearDiscriminantAnalysis.json\n",
      "Efficiency vs Electron PT data saved to efficiency_vs_ele_pt\\efficiency_vs_ele_pt_LinearDiscriminantAnalysis.json\n",
      "Evaluation of LinearSVC\n",
      "Confusion Matrix:\n",
      " [[27001  1609]\n",
      " [ 1128 16444]]\n",
      "Accuracy: 0.94073449\n",
      "Recall: 0.93580697\n",
      "Precision: 0.91087354\n",
      "F1 Score: 0.92317193\n",
      "Classification Report:\n",
      "               precision    recall  f1-score   support\n",
      "\n",
      "         0.0       0.96      0.94      0.95     28610\n",
      "         1.0       0.91      0.94      0.92     17572\n",
      "\n",
      "    accuracy                           0.94     46182\n",
      "   macro avg       0.94      0.94      0.94     46182\n",
      "weighted avg       0.94      0.94      0.94     46182\n",
      "\n",
      "Mean Squared Error: 0.05926551\n",
      "\n",
      "ROC data saved to roc\\roc_data_LinearSVC.json\n"
     ]
    },
    {
     "name": "stderr",
     "output_type": "stream",
     "text": [
      " 49%|████▉     | 21/43 [03:27<02:24,  6.55s/it]"
     ]
    },
    {
     "name": "stdout",
     "output_type": "stream",
     "text": [
      "Precision-Recall data saved to precision_recall\\precision_recall_data_LinearSVC.json\n",
      "Efficiency vs Electron PT data saved to efficiency_vs_ele_pt\\efficiency_vs_ele_pt_LinearSVC.json\n"
     ]
    },
    {
     "name": "stderr",
     "output_type": "stream",
     "text": [
      "C:\\Users\\tymch\\AppData\\Local\\Packages\\PythonSoftwareFoundation.Python.3.11_qbz5n2kfra8p0\\LocalCache\\local-packages\\Python311\\site-packages\\sklearn\\linear_model\\_logistic.py:469: ConvergenceWarning: lbfgs failed to converge (status=1):\n",
      "STOP: TOTAL NO. of ITERATIONS REACHED LIMIT.\n",
      "\n",
      "Increase the number of iterations (max_iter) or scale the data as shown in:\n",
      "    https://scikit-learn.org/stable/modules/preprocessing.html\n",
      "Please also refer to the documentation for alternative solver options:\n",
      "    https://scikit-learn.org/stable/modules/linear_model.html#logistic-regression\n",
      "  n_iter_i = _check_optimize_result(\n"
     ]
    },
    {
     "name": "stdout",
     "output_type": "stream",
     "text": [
      "Evaluation of LogisticRegression\n",
      "Confusion Matrix:\n",
      " [[26979  1631]\n",
      " [ 1078 16494]]\n",
      "Accuracy: 0.94134078\n",
      "Recall: 0.93865240\n",
      "Precision: 0.91001379\n",
      "F1 Score: 0.92411127\n",
      "Classification Report:\n",
      "               precision    recall  f1-score   support\n",
      "\n",
      "         0.0       0.96      0.94      0.95     28610\n",
      "         1.0       0.91      0.94      0.92     17572\n",
      "\n",
      "    accuracy                           0.94     46182\n",
      "   macro avg       0.94      0.94      0.94     46182\n",
      "weighted avg       0.94      0.94      0.94     46182\n",
      "\n",
      "Mean Squared Error: 0.05865922\n",
      "\n",
      "ROC data saved to roc\\roc_data_LogisticRegression.json\n"
     ]
    },
    {
     "name": "stderr",
     "output_type": "stream",
     "text": [
      " 51%|█████     | 22/43 [03:29<01:50,  5.27s/it]"
     ]
    },
    {
     "name": "stdout",
     "output_type": "stream",
     "text": [
      "Precision-Recall data saved to precision_recall\\precision_recall_data_LogisticRegression.json\n",
      "Efficiency vs Electron PT data saved to efficiency_vs_ele_pt\\efficiency_vs_ele_pt_LogisticRegression.json\n"
     ]
    },
    {
     "name": "stderr",
     "output_type": "stream",
     "text": [
      "C:\\Users\\tymch\\AppData\\Local\\Packages\\PythonSoftwareFoundation.Python.3.11_qbz5n2kfra8p0\\LocalCache\\local-packages\\Python311\\site-packages\\sklearn\\linear_model\\_logistic.py:469: ConvergenceWarning: lbfgs failed to converge (status=1):\n",
      "STOP: TOTAL NO. of ITERATIONS REACHED LIMIT.\n",
      "\n",
      "Increase the number of iterations (max_iter) or scale the data as shown in:\n",
      "    https://scikit-learn.org/stable/modules/preprocessing.html\n",
      "Please also refer to the documentation for alternative solver options:\n",
      "    https://scikit-learn.org/stable/modules/linear_model.html#logistic-regression\n",
      "  n_iter_i = _check_optimize_result(\n",
      "C:\\Users\\tymch\\AppData\\Local\\Packages\\PythonSoftwareFoundation.Python.3.11_qbz5n2kfra8p0\\LocalCache\\local-packages\\Python311\\site-packages\\sklearn\\linear_model\\_logistic.py:469: ConvergenceWarning: lbfgs failed to converge (status=1):\n",
      "STOP: TOTAL NO. of ITERATIONS REACHED LIMIT.\n",
      "\n",
      "Increase the number of iterations (max_iter) or scale the data as shown in:\n",
      "    https://scikit-learn.org/stable/modules/preprocessing.html\n",
      "Please also refer to the documentation for alternative solver options:\n",
      "    https://scikit-learn.org/stable/modules/linear_model.html#logistic-regression\n",
      "  n_iter_i = _check_optimize_result(\n",
      "C:\\Users\\tymch\\AppData\\Local\\Packages\\PythonSoftwareFoundation.Python.3.11_qbz5n2kfra8p0\\LocalCache\\local-packages\\Python311\\site-packages\\sklearn\\linear_model\\_logistic.py:469: ConvergenceWarning: lbfgs failed to converge (status=1):\n",
      "STOP: TOTAL NO. of ITERATIONS REACHED LIMIT.\n",
      "\n",
      "Increase the number of iterations (max_iter) or scale the data as shown in:\n",
      "    https://scikit-learn.org/stable/modules/preprocessing.html\n",
      "Please also refer to the documentation for alternative solver options:\n",
      "    https://scikit-learn.org/stable/modules/linear_model.html#logistic-regression\n",
      "  n_iter_i = _check_optimize_result(\n",
      "C:\\Users\\tymch\\AppData\\Local\\Packages\\PythonSoftwareFoundation.Python.3.11_qbz5n2kfra8p0\\LocalCache\\local-packages\\Python311\\site-packages\\sklearn\\linear_model\\_logistic.py:469: ConvergenceWarning: lbfgs failed to converge (status=1):\n",
      "STOP: TOTAL NO. of ITERATIONS REACHED LIMIT.\n",
      "\n",
      "Increase the number of iterations (max_iter) or scale the data as shown in:\n",
      "    https://scikit-learn.org/stable/modules/preprocessing.html\n",
      "Please also refer to the documentation for alternative solver options:\n",
      "    https://scikit-learn.org/stable/modules/linear_model.html#logistic-regression\n",
      "  n_iter_i = _check_optimize_result(\n",
      "C:\\Users\\tymch\\AppData\\Local\\Packages\\PythonSoftwareFoundation.Python.3.11_qbz5n2kfra8p0\\LocalCache\\local-packages\\Python311\\site-packages\\sklearn\\linear_model\\_logistic.py:469: ConvergenceWarning: lbfgs failed to converge (status=1):\n",
      "STOP: TOTAL NO. of ITERATIONS REACHED LIMIT.\n",
      "\n",
      "Increase the number of iterations (max_iter) or scale the data as shown in:\n",
      "    https://scikit-learn.org/stable/modules/preprocessing.html\n",
      "Please also refer to the documentation for alternative solver options:\n",
      "    https://scikit-learn.org/stable/modules/linear_model.html#logistic-regression\n",
      "  n_iter_i = _check_optimize_result(\n"
     ]
    },
    {
     "name": "stdout",
     "output_type": "stream",
     "text": [
      "Evaluation of LogisticRegressionCV\n",
      "Confusion Matrix:\n",
      " [[26982  1628]\n",
      " [ 1059 16513]]\n",
      "Accuracy: 0.94181716\n",
      "Recall: 0.93973367\n",
      "Precision: 0.91025853\n",
      "F1 Score: 0.92476129\n",
      "Classification Report:\n",
      "               precision    recall  f1-score   support\n",
      "\n",
      "         0.0       0.96      0.94      0.95     28610\n",
      "         1.0       0.91      0.94      0.92     17572\n",
      "\n",
      "    accuracy                           0.94     46182\n",
      "   macro avg       0.94      0.94      0.94     46182\n",
      "weighted avg       0.94      0.94      0.94     46182\n",
      "\n",
      "Mean Squared Error: 0.05818284\n",
      "\n",
      "ROC data saved to roc\\roc_data_LogisticRegressionCV.json\n"
     ]
    },
    {
     "name": "stderr",
     "output_type": "stream",
     "text": [
      " 53%|█████▎    | 23/43 [03:56<03:43, 11.16s/it]"
     ]
    },
    {
     "name": "stdout",
     "output_type": "stream",
     "text": [
      "Precision-Recall data saved to precision_recall\\precision_recall_data_LogisticRegressionCV.json\n",
      "Efficiency vs Electron PT data saved to efficiency_vs_ele_pt\\efficiency_vs_ele_pt_LogisticRegressionCV.json\n",
      "Evaluation of MLPClassifier\n",
      "Confusion Matrix:\n",
      " [[27617   993]\n",
      " [  472 17100]]\n",
      "Accuracy: 0.96827768\n",
      "Recall: 0.97313908\n",
      "Precision: 0.94511690\n",
      "F1 Score: 0.95892331\n",
      "Classification Report:\n",
      "               precision    recall  f1-score   support\n",
      "\n",
      "         0.0       0.98      0.97      0.97     28610\n",
      "         1.0       0.95      0.97      0.96     17572\n",
      "\n",
      "    accuracy                           0.97     46182\n",
      "   macro avg       0.96      0.97      0.97     46182\n",
      "weighted avg       0.97      0.97      0.97     46182\n",
      "\n",
      "Mean Squared Error: 0.03172232\n",
      "\n",
      "ROC data saved to roc\\roc_data_MLPClassifier.json\n"
     ]
    },
    {
     "name": "stderr",
     "output_type": "stream",
     "text": [
      " 56%|█████▌    | 24/43 [05:10<09:07, 28.84s/it]"
     ]
    },
    {
     "name": "stdout",
     "output_type": "stream",
     "text": [
      "Precision-Recall data saved to precision_recall\\precision_recall_data_MLPClassifier.json\n",
      "Efficiency vs Electron PT data saved to efficiency_vs_ele_pt\\efficiency_vs_ele_pt_MLPClassifier.json\n",
      "Could not evaluate MultiOutputClassifier: y must have at least two dimensions for multi-output regression but has only one.\n",
      "\n",
      "Evaluation of MultinomialNB\n",
      "Confusion Matrix:\n",
      " [[19027  9583]\n",
      " [  392 17180]]\n",
      "Accuracy: 0.78400676\n",
      "Recall: 0.97769178\n",
      "Precision: 0.64193102\n",
      "F1 Score: 0.77500846\n",
      "Classification Report:\n",
      "               precision    recall  f1-score   support\n",
      "\n",
      "         0.0       0.98      0.67      0.79     28610\n",
      "         1.0       0.64      0.98      0.78     17572\n",
      "\n",
      "    accuracy                           0.78     46182\n",
      "   macro avg       0.81      0.82      0.78     46182\n",
      "weighted avg       0.85      0.78      0.79     46182\n",
      "\n",
      "Mean Squared Error: 0.21599324\n",
      "\n",
      "ROC data saved to roc\\roc_data_MultinomialNB.json\n"
     ]
    },
    {
     "name": "stderr",
     "output_type": "stream",
     "text": [
      " 60%|██████    | 26/43 [05:10<04:33, 16.06s/it]"
     ]
    },
    {
     "name": "stdout",
     "output_type": "stream",
     "text": [
      "Precision-Recall data saved to precision_recall\\precision_recall_data_MultinomialNB.json\n",
      "Efficiency vs Electron PT data saved to efficiency_vs_ele_pt\\efficiency_vs_ele_pt_MultinomialNB.json\n",
      "Evaluation of NearestCentroid\n",
      "Confusion Matrix:\n",
      " [[24885  3725]\n",
      " [ 3118 14454]]\n",
      "Accuracy: 0.85182539\n",
      "Recall: 0.82255862\n",
      "Precision: 0.79509324\n",
      "F1 Score: 0.80859277\n",
      "Classification Report:\n",
      "               precision    recall  f1-score   support\n",
      "\n",
      "         0.0       0.89      0.87      0.88     28610\n",
      "         1.0       0.80      0.82      0.81     17572\n",
      "\n",
      "    accuracy                           0.85     46182\n",
      "   macro avg       0.84      0.85      0.84     46182\n",
      "weighted avg       0.85      0.85      0.85     46182\n",
      "\n",
      "Mean Squared Error: 0.14817461\n",
      "\n",
      "Could not evaluate NearestCentroid: Model must have either a decision_function or predict_proba method.\n",
      "\n"
     ]
    },
    {
     "name": "stderr",
     "output_type": "stream",
     "text": [
      " 63%|██████▎   | 27/43 [05:10<03:15, 12.23s/it]"
     ]
    },
    {
     "name": "stdout",
     "output_type": "stream",
     "text": [
      "Evaluation of NuSVC\n",
      "Confusion Matrix:\n",
      " [[26004  2606]\n",
      " [ 1934 15638]]\n",
      "Accuracy: 0.90169330\n",
      "Recall: 0.88993854\n",
      "Precision: 0.85715852\n",
      "F1 Score: 0.87324101\n",
      "Classification Report:\n",
      "               precision    recall  f1-score   support\n",
      "\n",
      "         0.0       0.93      0.91      0.92     28610\n",
      "         1.0       0.86      0.89      0.87     17572\n",
      "\n",
      "    accuracy                           0.90     46182\n",
      "   macro avg       0.89      0.90      0.90     46182\n",
      "weighted avg       0.90      0.90      0.90     46182\n",
      "\n",
      "Mean Squared Error: 0.09830670\n",
      "\n"
     ]
    },
    {
     "name": "stderr",
     "output_type": "stream",
     "text": [
      " 65%|██████▌   | 28/43 [1:03:31<3:46:34, 906.33s/it]"
     ]
    },
    {
     "name": "stdout",
     "output_type": "stream",
     "text": [
      "ROC data saved to roc\\roc_data_NuSVC.json\n",
      "Precision-Recall data saved to precision_recall\\precision_recall_data_NuSVC.json\n",
      "Efficiency vs Electron PT data saved to efficiency_vs_ele_pt\\efficiency_vs_ele_pt_NuSVC.json\n"
     ]
    },
    {
     "name": "stderr",
     "output_type": "stream",
     "text": [
      "C:\\Users\\tymch\\AppData\\Local\\Packages\\PythonSoftwareFoundation.Python.3.11_qbz5n2kfra8p0\\LocalCache\\local-packages\\Python311\\site-packages\\sklearn\\linear_model\\_logistic.py:469: ConvergenceWarning: lbfgs failed to converge (status=1):\n",
      "STOP: TOTAL NO. of ITERATIONS REACHED LIMIT.\n",
      "\n",
      "Increase the number of iterations (max_iter) or scale the data as shown in:\n",
      "    https://scikit-learn.org/stable/modules/preprocessing.html\n",
      "Please also refer to the documentation for alternative solver options:\n",
      "    https://scikit-learn.org/stable/modules/linear_model.html#logistic-regression\n",
      "  n_iter_i = _check_optimize_result(\n"
     ]
    },
    {
     "name": "stdout",
     "output_type": "stream",
     "text": [
      "Evaluation of OneVsOneClassifier\n",
      "Confusion Matrix:\n",
      " [[26979  1631]\n",
      " [ 1078 16494]]\n",
      "Accuracy: 0.94134078\n",
      "Recall: 0.93865240\n",
      "Precision: 0.91001379\n",
      "F1 Score: 0.92411127\n",
      "Classification Report:\n",
      "               precision    recall  f1-score   support\n",
      "\n",
      "         0.0       0.96      0.94      0.95     28610\n",
      "         1.0       0.91      0.94      0.92     17572\n",
      "\n",
      "    accuracy                           0.94     46182\n",
      "   macro avg       0.94      0.94      0.94     46182\n",
      "weighted avg       0.94      0.94      0.94     46182\n",
      "\n",
      "Mean Squared Error: 0.05865922\n",
      "\n",
      "ROC data saved to roc\\roc_data_OneVsOneClassifier.json\n"
     ]
    },
    {
     "name": "stderr",
     "output_type": "stream",
     "text": [
      " 67%|██████▋   | 29/43 [1:03:33<2:34:54, 663.87s/it]"
     ]
    },
    {
     "name": "stdout",
     "output_type": "stream",
     "text": [
      "Precision-Recall data saved to precision_recall\\precision_recall_data_OneVsOneClassifier.json\n",
      "Efficiency vs Electron PT data saved to efficiency_vs_ele_pt\\efficiency_vs_ele_pt_OneVsOneClassifier.json\n"
     ]
    },
    {
     "name": "stderr",
     "output_type": "stream",
     "text": [
      "C:\\Users\\tymch\\AppData\\Local\\Packages\\PythonSoftwareFoundation.Python.3.11_qbz5n2kfra8p0\\LocalCache\\local-packages\\Python311\\site-packages\\sklearn\\linear_model\\_logistic.py:469: ConvergenceWarning: lbfgs failed to converge (status=1):\n",
      "STOP: TOTAL NO. of ITERATIONS REACHED LIMIT.\n",
      "\n",
      "Increase the number of iterations (max_iter) or scale the data as shown in:\n",
      "    https://scikit-learn.org/stable/modules/preprocessing.html\n",
      "Please also refer to the documentation for alternative solver options:\n",
      "    https://scikit-learn.org/stable/modules/linear_model.html#logistic-regression\n",
      "  n_iter_i = _check_optimize_result(\n"
     ]
    },
    {
     "name": "stdout",
     "output_type": "stream",
     "text": [
      "Evaluation of OneVsRestClassifier\n",
      "Confusion Matrix:\n",
      " [[26979  1631]\n",
      " [ 1078 16494]]\n",
      "Accuracy: 0.94134078\n",
      "Recall: 0.93865240\n",
      "Precision: 0.91001379\n",
      "F1 Score: 0.92411127\n",
      "Classification Report:\n",
      "               precision    recall  f1-score   support\n",
      "\n",
      "         0.0       0.96      0.94      0.95     28610\n",
      "         1.0       0.91      0.94      0.92     17572\n",
      "\n",
      "    accuracy                           0.94     46182\n",
      "   macro avg       0.94      0.94      0.94     46182\n",
      "weighted avg       0.94      0.94      0.94     46182\n",
      "\n",
      "Mean Squared Error: 0.05865922\n",
      "\n",
      "ROC data saved to roc\\roc_data_OneVsRestClassifier.json\n"
     ]
    },
    {
     "name": "stderr",
     "output_type": "stream",
     "text": [
      " 70%|██████▉   | 30/43 [1:03:34<1:44:06, 480.52s/it]C:\\Users\\tymch\\AppData\\Local\\Packages\\PythonSoftwareFoundation.Python.3.11_qbz5n2kfra8p0\\LocalCache\\local-packages\\Python311\\site-packages\\sklearn\\metrics\\_classification.py:1531: UndefinedMetricWarning: Precision is ill-defined and being set to 0.0 due to no predicted samples. Use `zero_division` parameter to control this behavior.\n",
      "  _warn_prf(average, modifier, f\"{metric.capitalize()} is\", len(result))\n",
      "C:\\Users\\tymch\\AppData\\Local\\Packages\\PythonSoftwareFoundation.Python.3.11_qbz5n2kfra8p0\\LocalCache\\local-packages\\Python311\\site-packages\\sklearn\\metrics\\_classification.py:1531: UndefinedMetricWarning: Precision is ill-defined and being set to 0.0 in labels with no predicted samples. Use `zero_division` parameter to control this behavior.\n",
      "  _warn_prf(average, modifier, f\"{metric.capitalize()} is\", len(result))\n",
      "C:\\Users\\tymch\\AppData\\Local\\Packages\\PythonSoftwareFoundation.Python.3.11_qbz5n2kfra8p0\\LocalCache\\local-packages\\Python311\\site-packages\\sklearn\\metrics\\_classification.py:1531: UndefinedMetricWarning: Precision is ill-defined and being set to 0.0 in labels with no predicted samples. Use `zero_division` parameter to control this behavior.\n",
      "  _warn_prf(average, modifier, f\"{metric.capitalize()} is\", len(result))\n",
      "C:\\Users\\tymch\\AppData\\Local\\Packages\\PythonSoftwareFoundation.Python.3.11_qbz5n2kfra8p0\\LocalCache\\local-packages\\Python311\\site-packages\\sklearn\\metrics\\_classification.py:1531: UndefinedMetricWarning: Precision is ill-defined and being set to 0.0 in labels with no predicted samples. Use `zero_division` parameter to control this behavior.\n",
      "  _warn_prf(average, modifier, f\"{metric.capitalize()} is\", len(result))\n",
      " 72%|███████▏  | 31/43 [1:03:35<1:08:52, 344.37s/it]"
     ]
    },
    {
     "name": "stdout",
     "output_type": "stream",
     "text": [
      "Precision-Recall data saved to precision_recall\\precision_recall_data_OneVsRestClassifier.json\n",
      "Efficiency vs Electron PT data saved to efficiency_vs_ele_pt\\efficiency_vs_ele_pt_OneVsRestClassifier.json\n",
      "Evaluation of OutputCodeClassifier\n",
      "Confusion Matrix:\n",
      " [[28610     0]\n",
      " [17572     0]]\n",
      "Accuracy: 0.61950544\n",
      "Recall: 0.00000000\n",
      "Precision: 0.00000000\n",
      "F1 Score: 0.00000000\n",
      "Classification Report:\n",
      "               precision    recall  f1-score   support\n",
      "\n",
      "         0.0       0.62      1.00      0.77     28610\n",
      "         1.0       0.00      0.00      0.00     17572\n",
      "\n",
      "    accuracy                           0.62     46182\n",
      "   macro avg       0.31      0.50      0.38     46182\n",
      "weighted avg       0.38      0.62      0.47     46182\n",
      "\n",
      "Mean Squared Error: 0.38049456\n",
      "\n",
      "Could not evaluate OutputCodeClassifier: Model must have either a decision_function or predict_proba method.\n",
      "\n",
      "Evaluation of PassiveAggressiveClassifier\n",
      "Confusion Matrix:\n",
      " [[27468  1142]\n",
      " [ 4440 13132]]\n",
      "Accuracy: 0.87913040\n",
      "Recall: 0.74732529\n",
      "Precision: 0.91999440\n",
      "F1 Score: 0.82471896\n",
      "Classification Report:\n",
      "               precision    recall  f1-score   support\n",
      "\n",
      "         0.0       0.86      0.96      0.91     28610\n",
      "         1.0       0.92      0.75      0.82     17572\n",
      "\n",
      "    accuracy                           0.88     46182\n",
      "   macro avg       0.89      0.85      0.87     46182\n",
      "weighted avg       0.88      0.88      0.88     46182\n",
      "\n",
      "Mean Squared Error: 0.12086960\n",
      "\n",
      "ROC data saved to roc\\roc_data_PassiveAggressiveClassifier.json\n"
     ]
    },
    {
     "name": "stderr",
     "output_type": "stream",
     "text": [
      " 74%|███████▍  | 32/43 [1:03:35<44:58, 245.30s/it]  "
     ]
    },
    {
     "name": "stdout",
     "output_type": "stream",
     "text": [
      "Precision-Recall data saved to precision_recall\\precision_recall_data_PassiveAggressiveClassifier.json\n",
      "Efficiency vs Electron PT data saved to efficiency_vs_ele_pt\\efficiency_vs_ele_pt_PassiveAggressiveClassifier.json\n",
      "Evaluation of Perceptron\n",
      "Confusion Matrix:\n",
      " [[26234  2376]\n",
      " [ 1402 16170]]\n",
      "Accuracy: 0.91819324\n",
      "Recall: 0.92021398\n",
      "Precision: 0.87188612\n",
      "F1 Score: 0.89539842\n",
      "Classification Report:\n",
      "               precision    recall  f1-score   support\n",
      "\n",
      "         0.0       0.95      0.92      0.93     28610\n",
      "         1.0       0.87      0.92      0.90     17572\n",
      "\n",
      "    accuracy                           0.92     46182\n",
      "   macro avg       0.91      0.92      0.91     46182\n",
      "weighted avg       0.92      0.92      0.92     46182\n",
      "\n",
      "Mean Squared Error: 0.08180676\n",
      "\n",
      "ROC data saved to roc\\roc_data_Perceptron.json\n"
     ]
    },
    {
     "name": "stderr",
     "output_type": "stream",
     "text": [
      " 77%|███████▋  | 33/43 [1:03:36<29:00, 174.00s/it]"
     ]
    },
    {
     "name": "stdout",
     "output_type": "stream",
     "text": [
      "Precision-Recall data saved to precision_recall\\precision_recall_data_Perceptron.json\n",
      "Efficiency vs Electron PT data saved to efficiency_vs_ele_pt\\efficiency_vs_ele_pt_Perceptron.json\n",
      "Evaluation of QuadraticDiscriminantAnalysis\n",
      "Confusion Matrix:\n",
      " [[16751 11859]\n",
      " [  842 16730]]\n",
      "Accuracy: 0.72497943\n",
      "Recall: 0.95208286\n",
      "Precision: 0.58519011\n",
      "F1 Score: 0.72485431\n",
      "Classification Report:\n",
      "               precision    recall  f1-score   support\n",
      "\n",
      "         0.0       0.95      0.59      0.73     28610\n",
      "         1.0       0.59      0.95      0.72     17572\n",
      "\n",
      "    accuracy                           0.72     46182\n",
      "   macro avg       0.77      0.77      0.72     46182\n",
      "weighted avg       0.81      0.72      0.73     46182\n",
      "\n",
      "Mean Squared Error: 0.27502057\n",
      "\n"
     ]
    },
    {
     "name": "stderr",
     "output_type": "stream",
     "text": [
      " 79%|███████▉  | 34/43 [1:03:37<18:28, 123.22s/it]"
     ]
    },
    {
     "name": "stdout",
     "output_type": "stream",
     "text": [
      "ROC data saved to roc\\roc_data_QuadraticDiscriminantAnalysis.json\n",
      "Precision-Recall data saved to precision_recall\\precision_recall_data_QuadraticDiscriminantAnalysis.json\n",
      "Efficiency vs Electron PT data saved to efficiency_vs_ele_pt\\efficiency_vs_ele_pt_QuadraticDiscriminantAnalysis.json\n"
     ]
    },
    {
     "name": "stderr",
     "output_type": "stream",
     "text": [
      " 81%|████████▏ | 35/43 [1:03:45<11:51, 88.97s/it] "
     ]
    },
    {
     "name": "stdout",
     "output_type": "stream",
     "text": [
      "Could not evaluate RadiusNeighborsClassifier: No neighbors found for test samples array([    2,     3,     4, ..., 46179, 46180, 46181]), you can try using larger radius, giving a label for outliers, or considering removing them from your dataset.\n",
      "\n",
      "Evaluation of RandomForestClassifier\n",
      "Confusion Matrix:\n",
      " [[27532  1078]\n",
      " [  392 17180]]\n",
      "Accuracy: 0.96816942\n",
      "Recall: 0.97769178\n",
      "Precision: 0.94095739\n",
      "F1 Score: 0.95897293\n",
      "Classification Report:\n",
      "               precision    recall  f1-score   support\n",
      "\n",
      "         0.0       0.99      0.96      0.97     28610\n",
      "         1.0       0.94      0.98      0.96     17572\n",
      "\n",
      "    accuracy                           0.97     46182\n",
      "   macro avg       0.96      0.97      0.97     46182\n",
      "weighted avg       0.97      0.97      0.97     46182\n",
      "\n",
      "Mean Squared Error: 0.03183058\n",
      "\n"
     ]
    },
    {
     "name": "stderr",
     "output_type": "stream",
     "text": [
      " 84%|████████▎ | 36/43 [1:04:20<08:31, 73.09s/it]"
     ]
    },
    {
     "name": "stdout",
     "output_type": "stream",
     "text": [
      "ROC data saved to roc\\roc_data_RandomForestClassifier.json\n",
      "Precision-Recall data saved to precision_recall\\precision_recall_data_RandomForestClassifier.json\n",
      "Efficiency vs Electron PT data saved to efficiency_vs_ele_pt\\efficiency_vs_ele_pt_RandomForestClassifier.json\n",
      "Evaluation of RidgeClassifier\n",
      "Confusion Matrix:\n",
      " [[26261  2349]\n",
      " [ 3295 14277]]\n",
      "Accuracy: 0.87778788\n",
      "Recall: 0.81248577\n",
      "Precision: 0.85871527\n",
      "F1 Score: 0.83496111\n",
      "Classification Report:\n",
      "               precision    recall  f1-score   support\n",
      "\n",
      "         0.0       0.89      0.92      0.90     28610\n",
      "         1.0       0.86      0.81      0.83     17572\n",
      "\n",
      "    accuracy                           0.88     46182\n",
      "   macro avg       0.87      0.87      0.87     46182\n",
      "weighted avg       0.88      0.88      0.88     46182\n",
      "\n",
      "Mean Squared Error: 0.12221212\n",
      "\n",
      "ROC data saved to roc\\roc_data_RidgeClassifier.json\n"
     ]
    },
    {
     "name": "stderr",
     "output_type": "stream",
     "text": [
      " 86%|████████▌ | 37/43 [1:04:21<05:08, 51.49s/it]"
     ]
    },
    {
     "name": "stdout",
     "output_type": "stream",
     "text": [
      "Precision-Recall data saved to precision_recall\\precision_recall_data_RidgeClassifier.json\n",
      "Efficiency vs Electron PT data saved to efficiency_vs_ele_pt\\efficiency_vs_ele_pt_RidgeClassifier.json\n",
      "Evaluation of RidgeClassifierCV\n",
      "Confusion Matrix:\n",
      " [[26261  2349]\n",
      " [ 3295 14277]]\n",
      "Accuracy: 0.87778788\n",
      "Recall: 0.81248577\n",
      "Precision: 0.85871527\n",
      "F1 Score: 0.83496111\n",
      "Classification Report:\n",
      "               precision    recall  f1-score   support\n",
      "\n",
      "         0.0       0.89      0.92      0.90     28610\n",
      "         1.0       0.86      0.81      0.83     17572\n",
      "\n",
      "    accuracy                           0.88     46182\n",
      "   macro avg       0.87      0.87      0.87     46182\n",
      "weighted avg       0.88      0.88      0.88     46182\n",
      "\n",
      "Mean Squared Error: 0.12221212\n",
      "\n",
      "ROC data saved to roc\\roc_data_RidgeClassifierCV.json\n"
     ]
    },
    {
     "name": "stderr",
     "output_type": "stream",
     "text": [
      " 88%|████████▊ | 38/43 [1:04:23<03:04, 36.83s/it]"
     ]
    },
    {
     "name": "stdout",
     "output_type": "stream",
     "text": [
      "Precision-Recall data saved to precision_recall\\precision_recall_data_RidgeClassifierCV.json\n",
      "Efficiency vs Electron PT data saved to efficiency_vs_ele_pt\\efficiency_vs_ele_pt_RidgeClassifierCV.json\n",
      "Evaluation of SGDClassifier\n",
      "Confusion Matrix:\n",
      " [[26704  1906]\n",
      " [  802 16770]]\n",
      "Accuracy: 0.94136244\n",
      "Recall: 0.95435921\n",
      "Precision: 0.89794389\n",
      "F1 Score: 0.92529243\n",
      "Classification Report:\n",
      "               precision    recall  f1-score   support\n",
      "\n",
      "         0.0       0.97      0.93      0.95     28610\n",
      "         1.0       0.90      0.95      0.93     17572\n",
      "\n",
      "    accuracy                           0.94     46182\n",
      "   macro avg       0.93      0.94      0.94     46182\n",
      "weighted avg       0.94      0.94      0.94     46182\n",
      "\n",
      "Mean Squared Error: 0.05863756\n",
      "\n",
      "ROC data saved to roc\\roc_data_SGDClassifier.json\n",
      "Precision-Recall data saved to precision_recall\\precision_recall_data_SGDClassifier.json\n",
      "Efficiency vs Electron PT data saved to efficiency_vs_ele_pt\\efficiency_vs_ele_pt_SGDClassifier.json\n"
     ]
    },
    {
     "name": "stderr",
     "output_type": "stream",
     "text": [
      " 91%|█████████ | 39/43 [1:04:25<01:45, 26.35s/it]"
     ]
    },
    {
     "name": "stdout",
     "output_type": "stream",
     "text": [
      "Evaluation of SVC\n",
      "Confusion Matrix:\n",
      " [[27345  1265]\n",
      " [  343 17229]]\n",
      "Accuracy: 0.96518124\n",
      "Recall: 0.98048031\n",
      "Precision: 0.93159944\n",
      "F1 Score: 0.95541507\n",
      "Classification Report:\n",
      "               precision    recall  f1-score   support\n",
      "\n",
      "         0.0       0.99      0.96      0.97     28610\n",
      "         1.0       0.93      0.98      0.96     17572\n",
      "\n",
      "    accuracy                           0.97     46182\n",
      "   macro avg       0.96      0.97      0.96     46182\n",
      "weighted avg       0.97      0.97      0.97     46182\n",
      "\n",
      "Mean Squared Error: 0.03481876\n",
      "\n"
     ]
    },
    {
     "name": "stderr",
     "output_type": "stream",
     "text": [
      " 93%|█████████▎| 40/43 [1:15:09<10:33, 211.20s/it]"
     ]
    },
    {
     "name": "stdout",
     "output_type": "stream",
     "text": [
      "ROC data saved to roc\\roc_data_SVC.json\n",
      "Precision-Recall data saved to precision_recall\\precision_recall_data_SVC.json\n",
      "Efficiency vs Electron PT data saved to efficiency_vs_ele_pt\\efficiency_vs_ele_pt_SVC.json\n"
     ]
    },
    {
     "name": "stderr",
     "output_type": "stream",
     "text": [
      "C:\\Users\\tymch\\AppData\\Local\\Packages\\PythonSoftwareFoundation.Python.3.11_qbz5n2kfra8p0\\LocalCache\\local-packages\\Python311\\site-packages\\sklearn\\linear_model\\_logistic.py:469: ConvergenceWarning: lbfgs failed to converge (status=1):\n",
      "STOP: TOTAL NO. of ITERATIONS REACHED LIMIT.\n",
      "\n",
      "Increase the number of iterations (max_iter) or scale the data as shown in:\n",
      "    https://scikit-learn.org/stable/modules/preprocessing.html\n",
      "Please also refer to the documentation for alternative solver options:\n",
      "    https://scikit-learn.org/stable/modules/linear_model.html#logistic-regression\n",
      "  n_iter_i = _check_optimize_result(\n",
      "C:\\Users\\tymch\\AppData\\Local\\Packages\\PythonSoftwareFoundation.Python.3.11_qbz5n2kfra8p0\\LocalCache\\local-packages\\Python311\\site-packages\\sklearn\\linear_model\\_logistic.py:469: ConvergenceWarning: lbfgs failed to converge (status=1):\n",
      "STOP: TOTAL NO. of ITERATIONS REACHED LIMIT.\n",
      "\n",
      "Increase the number of iterations (max_iter) or scale the data as shown in:\n",
      "    https://scikit-learn.org/stable/modules/preprocessing.html\n",
      "Please also refer to the documentation for alternative solver options:\n",
      "    https://scikit-learn.org/stable/modules/linear_model.html#logistic-regression\n",
      "  n_iter_i = _check_optimize_result(\n",
      "C:\\Users\\tymch\\AppData\\Local\\Packages\\PythonSoftwareFoundation.Python.3.11_qbz5n2kfra8p0\\LocalCache\\local-packages\\Python311\\site-packages\\sklearn\\linear_model\\_logistic.py:469: ConvergenceWarning: lbfgs failed to converge (status=1):\n",
      "STOP: TOTAL NO. of ITERATIONS REACHED LIMIT.\n",
      "\n",
      "Increase the number of iterations (max_iter) or scale the data as shown in:\n",
      "    https://scikit-learn.org/stable/modules/preprocessing.html\n",
      "Please also refer to the documentation for alternative solver options:\n",
      "    https://scikit-learn.org/stable/modules/linear_model.html#logistic-regression\n",
      "  n_iter_i = _check_optimize_result(\n",
      "C:\\Users\\tymch\\AppData\\Local\\Packages\\PythonSoftwareFoundation.Python.3.11_qbz5n2kfra8p0\\LocalCache\\local-packages\\Python311\\site-packages\\sklearn\\linear_model\\_logistic.py:469: ConvergenceWarning: lbfgs failed to converge (status=1):\n",
      "STOP: TOTAL NO. of ITERATIONS REACHED LIMIT.\n",
      "\n",
      "Increase the number of iterations (max_iter) or scale the data as shown in:\n",
      "    https://scikit-learn.org/stable/modules/preprocessing.html\n",
      "Please also refer to the documentation for alternative solver options:\n",
      "    https://scikit-learn.org/stable/modules/linear_model.html#logistic-regression\n",
      "  n_iter_i = _check_optimize_result(\n",
      "C:\\Users\\tymch\\AppData\\Local\\Packages\\PythonSoftwareFoundation.Python.3.11_qbz5n2kfra8p0\\LocalCache\\local-packages\\Python311\\site-packages\\sklearn\\linear_model\\_logistic.py:469: ConvergenceWarning: lbfgs failed to converge (status=1):\n",
      "STOP: TOTAL NO. of ITERATIONS REACHED LIMIT.\n",
      "\n",
      "Increase the number of iterations (max_iter) or scale the data as shown in:\n",
      "    https://scikit-learn.org/stable/modules/preprocessing.html\n",
      "Please also refer to the documentation for alternative solver options:\n",
      "    https://scikit-learn.org/stable/modules/linear_model.html#logistic-regression\n",
      "  n_iter_i = _check_optimize_result(\n",
      "C:\\Users\\tymch\\AppData\\Local\\Packages\\PythonSoftwareFoundation.Python.3.11_qbz5n2kfra8p0\\LocalCache\\local-packages\\Python311\\site-packages\\sklearn\\linear_model\\_logistic.py:469: ConvergenceWarning: lbfgs failed to converge (status=1):\n",
      "STOP: TOTAL NO. of ITERATIONS REACHED LIMIT.\n",
      "\n",
      "Increase the number of iterations (max_iter) or scale the data as shown in:\n",
      "    https://scikit-learn.org/stable/modules/preprocessing.html\n",
      "Please also refer to the documentation for alternative solver options:\n",
      "    https://scikit-learn.org/stable/modules/linear_model.html#logistic-regression\n",
      "  n_iter_i = _check_optimize_result(\n"
     ]
    },
    {
     "name": "stdout",
     "output_type": "stream",
     "text": [
      "Evaluation of TunedThresholdClassifierCV\n",
      "Confusion Matrix:\n",
      " [[26474  2136]\n",
      " [  589 16983]]\n",
      "Accuracy: 0.94099433\n",
      "Recall: 0.96648076\n",
      "Precision: 0.88827868\n",
      "F1 Score: 0.92573111\n",
      "Classification Report:\n",
      "               precision    recall  f1-score   support\n",
      "\n",
      "         0.0       0.98      0.93      0.95     28610\n",
      "         1.0       0.89      0.97      0.93     17572\n",
      "\n",
      "    accuracy                           0.94     46182\n",
      "   macro avg       0.93      0.95      0.94     46182\n",
      "weighted avg       0.94      0.94      0.94     46182\n",
      "\n",
      "Mean Squared Error: 0.05900567\n",
      "\n",
      "ROC data saved to roc\\roc_data_TunedThresholdClassifierCV.json\n"
     ]
    },
    {
     "name": "stderr",
     "output_type": "stream",
     "text": [
      " 95%|█████████▌| 41/43 [1:15:21<05:03, 151.52s/it]"
     ]
    },
    {
     "name": "stdout",
     "output_type": "stream",
     "text": [
      "Precision-Recall data saved to precision_recall\\precision_recall_data_TunedThresholdClassifierCV.json\n",
      "Efficiency vs Electron PT data saved to efficiency_vs_ele_pt\\efficiency_vs_ele_pt_TunedThresholdClassifierCV.json\n"
     ]
    },
    {
     "name": "stderr",
     "output_type": "stream",
     "text": [
      "C:\\Users\\tymch\\AppData\\Local\\Packages\\PythonSoftwareFoundation.Python.3.11_qbz5n2kfra8p0\\LocalCache\\local-packages\\Python311\\site-packages\\sklearn\\linear_model\\_logistic.py:469: ConvergenceWarning: lbfgs failed to converge (status=1):\n",
      "STOP: TOTAL NO. of ITERATIONS REACHED LIMIT.\n",
      "\n",
      "Increase the number of iterations (max_iter) or scale the data as shown in:\n",
      "    https://scikit-learn.org/stable/modules/preprocessing.html\n",
      "Please also refer to the documentation for alternative solver options:\n",
      "    https://scikit-learn.org/stable/modules/linear_model.html#logistic-regression\n",
      "  n_iter_i = _check_optimize_result(\n",
      " 98%|█████████▊| 42/43 [1:15:56<01:56, 116.64s/it]"
     ]
    },
    {
     "name": "stdout",
     "output_type": "stream",
     "text": [
      "Evaluation of VotingClassifier\n",
      "Confusion Matrix:\n",
      " [[27788   822]\n",
      " [ 1212 16360]]\n",
      "Accuracy: 0.95595687\n",
      "Recall: 0.93102663\n",
      "Precision: 0.95215924\n",
      "F1 Score: 0.94147436\n",
      "Classification Report:\n",
      "               precision    recall  f1-score   support\n",
      "\n",
      "         0.0       0.96      0.97      0.96     28610\n",
      "         1.0       0.95      0.93      0.94     17572\n",
      "\n",
      "    accuracy                           0.96     46182\n",
      "   macro avg       0.96      0.95      0.95     46182\n",
      "weighted avg       0.96      0.96      0.96     46182\n",
      "\n",
      "Mean Squared Error: 0.04404313\n",
      "\n",
      "Could not evaluate VotingClassifier: Model must have either a decision_function or predict_proba method.\n",
      "\n",
      "Evaluation of XGBClassifier\n",
      "Confusion Matrix:\n",
      " [[27530  1080]\n",
      " [  425 17147]]\n",
      "Accuracy: 0.96741155\n",
      "Recall: 0.97581379\n",
      "Precision: 0.94074724\n",
      "F1 Score: 0.95795972\n",
      "Classification Report:\n",
      "               precision    recall  f1-score   support\n",
      "\n",
      "         0.0       0.98      0.96      0.97     28610\n",
      "         1.0       0.94      0.98      0.96     17572\n",
      "\n",
      "    accuracy                           0.97     46182\n",
      "   macro avg       0.96      0.97      0.97     46182\n",
      "weighted avg       0.97      0.97      0.97     46182\n",
      "\n",
      "Mean Squared Error: 0.03258845\n",
      "\n",
      "ROC data saved to roc\\roc_data_XGBClassifier.json\n"
     ]
    },
    {
     "name": "stderr",
     "output_type": "stream",
     "text": [
      "100%|██████████| 43/43 [1:15:57<00:00, 106.00s/it]"
     ]
    },
    {
     "name": "stdout",
     "output_type": "stream",
     "text": [
      "Precision-Recall data saved to precision_recall\\precision_recall_data_XGBClassifier.json\n",
      "Efficiency vs Electron PT data saved to efficiency_vs_ele_pt\\efficiency_vs_ele_pt_XGBClassifier.json\n"
     ]
    },
    {
     "name": "stderr",
     "output_type": "stream",
     "text": [
      "\n"
     ]
    },
    {
     "data": {
      "text/plain": [
       "<Figure size 640x480 with 0 Axes>"
      ]
     },
     "metadata": {},
     "output_type": "display_data"
    }
   ],
   "source": [
    "description = \"99_supercells\"\n",
    "results = train_evaluate_all_classifiers(binary_classifiers,X_train, X_test, y_train, y_test, pd_passthrough_train, pd_passthrough_test, description)"
   ]
  },
  {
   "cell_type": "code",
   "execution_count": null,
   "metadata": {},
   "outputs": [
    {
     "name": "stdout",
     "output_type": "stream",
     "text": [
      "Results saved to eFEX_99_Supercell_ETs_test.csv\n"
     ]
    }
   ],
   "source": [
    "save_csv(f\"eFEX_{description}_ETs_test.csv\", results)"
   ]
  },
  {
   "cell_type": "code",
   "execution_count": null,
   "metadata": {},
   "outputs": [
    {
     "name": "stdout",
     "output_type": "stream",
     "text": [
      "File roc_data_AdaBoostClassifier.json not found.\n",
      "File precision_recall_data_AdaBoostClassifier.json not found.\n",
      "File efficiency_vs_ele_PT_AdaBoostClassifier.json not found.\n",
      "File roc_data_BaggingClassifier.json not found.\n",
      "File precision_recall_data_BaggingClassifier.json not found.\n",
      "File efficiency_vs_ele_PT_BaggingClassifier.json not found.\n",
      "File roc_data_BernoulliNB.json not found.\n",
      "File precision_recall_data_BernoulliNB.json not found.\n",
      "File efficiency_vs_ele_PT_BernoulliNB.json not found.\n",
      "File roc_data_CalibratedClassifierCV.json not found.\n",
      "File precision_recall_data_CalibratedClassifierCV.json not found.\n",
      "File efficiency_vs_ele_PT_CalibratedClassifierCV.json not found.\n",
      "File roc_data_CategoricalNB.json not found.\n",
      "File precision_recall_data_CategoricalNB.json not found.\n",
      "File efficiency_vs_ele_PT_CategoricalNB.json not found.\n",
      "File roc_data_ClassifierChain.json not found.\n",
      "File precision_recall_data_ClassifierChain.json not found.\n",
      "File efficiency_vs_ele_PT_ClassifierChain.json not found.\n",
      "File roc_data_ComplementNB.json not found.\n",
      "File precision_recall_data_ComplementNB.json not found.\n",
      "File efficiency_vs_ele_PT_ComplementNB.json not found.\n",
      "File roc_data_DecisionTreeClassifier.json not found.\n",
      "File precision_recall_data_DecisionTreeClassifier.json not found.\n",
      "File efficiency_vs_ele_PT_DecisionTreeClassifier.json not found.\n",
      "File roc_data_DummyClassifier.json not found.\n",
      "File precision_recall_data_DummyClassifier.json not found.\n",
      "File efficiency_vs_ele_PT_DummyClassifier.json not found.\n",
      "File roc_data_ExtraTreeClassifier.json not found.\n",
      "File precision_recall_data_ExtraTreeClassifier.json not found.\n",
      "File efficiency_vs_ele_PT_ExtraTreeClassifier.json not found.\n",
      "File roc_data_ExtraTreesClassifier.json not found.\n",
      "File precision_recall_data_ExtraTreesClassifier.json not found.\n",
      "File efficiency_vs_ele_PT_ExtraTreesClassifier.json not found.\n",
      "File roc_data_FixedThresholdClassifier.json not found.\n",
      "File precision_recall_data_FixedThresholdClassifier.json not found.\n",
      "File efficiency_vs_ele_PT_FixedThresholdClassifier.json not found.\n",
      "File roc_data_GaussianNB.json not found.\n",
      "File precision_recall_data_GaussianNB.json not found.\n",
      "File efficiency_vs_ele_PT_GaussianNB.json not found.\n",
      "File roc_data_GaussianProcessClassifier.json not found.\n",
      "File precision_recall_data_GaussianProcessClassifier.json not found.\n",
      "File efficiency_vs_ele_PT_GaussianProcessClassifier.json not found.\n",
      "File roc_data_GradientBoostingClassifier.json not found.\n",
      "File precision_recall_data_GradientBoostingClassifier.json not found.\n",
      "File efficiency_vs_ele_PT_GradientBoostingClassifier.json not found.\n",
      "File roc_data_HistGradientBoostingClassifier.json not found.\n",
      "File precision_recall_data_HistGradientBoostingClassifier.json not found.\n",
      "File efficiency_vs_ele_PT_HistGradientBoostingClassifier.json not found.\n",
      "File roc_data_KNeighborsClassifier.json not found.\n",
      "File precision_recall_data_KNeighborsClassifier.json not found.\n",
      "File efficiency_vs_ele_PT_KNeighborsClassifier.json not found.\n",
      "File roc_data_LabelPropagation.json not found.\n",
      "File precision_recall_data_LabelPropagation.json not found.\n",
      "File efficiency_vs_ele_PT_LabelPropagation.json not found.\n",
      "File roc_data_LabelSpreading.json not found.\n",
      "File precision_recall_data_LabelSpreading.json not found.\n",
      "File efficiency_vs_ele_PT_LabelSpreading.json not found.\n",
      "File roc_data_LinearDiscriminantAnalysis.json not found.\n",
      "File precision_recall_data_LinearDiscriminantAnalysis.json not found.\n",
      "File efficiency_vs_ele_PT_LinearDiscriminantAnalysis.json not found.\n",
      "File roc_data_LinearSVC.json not found.\n",
      "File precision_recall_data_LinearSVC.json not found.\n",
      "File efficiency_vs_ele_PT_LinearSVC.json not found.\n",
      "File roc_data_LogisticRegression.json not found.\n",
      "File precision_recall_data_LogisticRegression.json not found.\n",
      "File efficiency_vs_ele_PT_LogisticRegression.json not found.\n",
      "File roc_data_LogisticRegressionCV.json not found.\n",
      "File precision_recall_data_LogisticRegressionCV.json not found.\n",
      "File efficiency_vs_ele_PT_LogisticRegressionCV.json not found.\n",
      "File roc_data_MLPClassifier.json not found.\n",
      "File precision_recall_data_MLPClassifier.json not found.\n",
      "File efficiency_vs_ele_PT_MLPClassifier.json not found.\n",
      "File roc_data_MultiOutputClassifier.json not found.\n",
      "File precision_recall_data_MultiOutputClassifier.json not found.\n",
      "File efficiency_vs_ele_PT_MultiOutputClassifier.json not found.\n",
      "File roc_data_MultinomialNB.json not found.\n",
      "File precision_recall_data_MultinomialNB.json not found.\n",
      "File efficiency_vs_ele_PT_MultinomialNB.json not found.\n",
      "File roc_data_NearestCentroid.json not found.\n",
      "File precision_recall_data_NearestCentroid.json not found.\n",
      "File efficiency_vs_ele_PT_NearestCentroid.json not found.\n",
      "File roc_data_NuSVC.json not found.\n",
      "File precision_recall_data_NuSVC.json not found.\n",
      "File efficiency_vs_ele_PT_NuSVC.json not found.\n",
      "File roc_data_OneVsOneClassifier.json not found.\n",
      "File precision_recall_data_OneVsOneClassifier.json not found.\n",
      "File efficiency_vs_ele_PT_OneVsOneClassifier.json not found.\n",
      "File roc_data_OneVsRestClassifier.json not found.\n",
      "File precision_recall_data_OneVsRestClassifier.json not found.\n",
      "File efficiency_vs_ele_PT_OneVsRestClassifier.json not found.\n",
      "File roc_data_OutputCodeClassifier.json not found.\n",
      "File precision_recall_data_OutputCodeClassifier.json not found.\n",
      "File efficiency_vs_ele_PT_OutputCodeClassifier.json not found.\n",
      "File roc_data_PassiveAggressiveClassifier.json not found.\n",
      "File precision_recall_data_PassiveAggressiveClassifier.json not found.\n",
      "File efficiency_vs_ele_PT_PassiveAggressiveClassifier.json not found.\n",
      "File roc_data_Perceptron.json not found.\n",
      "File precision_recall_data_Perceptron.json not found.\n",
      "File efficiency_vs_ele_PT_Perceptron.json not found.\n",
      "File roc_data_QuadraticDiscriminantAnalysis.json not found.\n",
      "File precision_recall_data_QuadraticDiscriminantAnalysis.json not found.\n",
      "File efficiency_vs_ele_PT_QuadraticDiscriminantAnalysis.json not found.\n",
      "File roc_data_RadiusNeighborsClassifier.json not found.\n",
      "File precision_recall_data_RadiusNeighborsClassifier.json not found.\n",
      "File efficiency_vs_ele_PT_RadiusNeighborsClassifier.json not found.\n",
      "File roc_data_RandomForestClassifier.json not found.\n",
      "File precision_recall_data_RandomForestClassifier.json not found.\n",
      "File efficiency_vs_ele_PT_RandomForestClassifier.json not found.\n",
      "File roc_data_RidgeClassifier.json not found.\n",
      "File precision_recall_data_RidgeClassifier.json not found.\n",
      "File efficiency_vs_ele_PT_RidgeClassifier.json not found.\n",
      "File roc_data_RidgeClassifierCV.json not found.\n",
      "File precision_recall_data_RidgeClassifierCV.json not found.\n",
      "File efficiency_vs_ele_PT_RidgeClassifierCV.json not found.\n",
      "File roc_data_SGDClassifier.json not found.\n",
      "File precision_recall_data_SGDClassifier.json not found.\n",
      "File efficiency_vs_ele_PT_SGDClassifier.json not found.\n",
      "File roc_data_SVC.json not found.\n",
      "File precision_recall_data_SVC.json not found.\n",
      "File efficiency_vs_ele_PT_SVC.json not found.\n",
      "File roc_data_TunedThresholdClassifierCV.json not found.\n",
      "File precision_recall_data_TunedThresholdClassifierCV.json not found.\n",
      "File efficiency_vs_ele_PT_TunedThresholdClassifierCV.json not found.\n",
      "File roc_data_VotingClassifier.json not found.\n",
      "File precision_recall_data_VotingClassifier.json not found.\n",
      "File efficiency_vs_ele_PT_VotingClassifier.json not found.\n",
      "File roc_data_XGBClassifier.json not found.\n",
      "File precision_recall_data_XGBClassifier.json not found.\n",
      "File efficiency_vs_ele_PT_XGBClassifier.json not found.\n"
     ]
    }
   ],
   "source": [
    "plot_all_results(binary_classifiers, description)"
   ]
  }
 ],
 "metadata": {
  "kernelspec": {
   "display_name": "Python 3",
   "language": "python",
   "name": "python3"
  },
  "language_info": {
   "codemirror_mode": {
    "name": "ipython",
    "version": 3
   },
   "file_extension": ".py",
   "mimetype": "text/x-python",
   "name": "python",
   "nbconvert_exporter": "python",
   "pygments_lexer": "ipython3",
   "version": "3.11.9"
  }
 },
 "nbformat": 4,
 "nbformat_minor": 2
}
