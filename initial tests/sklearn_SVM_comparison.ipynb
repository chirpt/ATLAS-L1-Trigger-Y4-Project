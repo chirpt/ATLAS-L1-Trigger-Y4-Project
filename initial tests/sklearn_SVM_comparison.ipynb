{
 "cells": [
  {
   "cell_type": "code",
   "execution_count": 1,
   "metadata": {},
   "outputs": [],
   "source": [
    "import numpy as np\n",
    "from sklearn.svm import SVC\n",
    "from utilities import *"
   ]
  },
  {
   "cell_type": "code",
   "execution_count": 2,
   "metadata": {},
   "outputs": [
    {
     "name": "stdout",
     "output_type": "stream",
     "text": [
      "Loading prepared data from prepared_data.npz\n"
     ]
    }
   ],
   "source": [
    "X_train, X_test, y_train, y_test = prepare_data()"
   ]
  },
  {
   "cell_type": "code",
   "execution_count": null,
   "metadata": {},
   "outputs": [],
   "source": [
    "rbf_svm_clf = SVC(kernel='rbf', C=1.0, gamma='scale', random_state=42)\n",
    "rbf_svm_clf.fit(X_train, y_train)"
   ]
  },
  {
   "cell_type": "code",
   "execution_count": null,
   "metadata": {},
   "outputs": [],
   "source": [
    "rbf_y_pred = rbf_svm_clf.predict(X_test)\n",
    "evaluate_sklearn_model(y_test, rbf_y_pred)"
   ]
  },
  {
   "cell_type": "code",
   "execution_count": null,
   "metadata": {},
   "outputs": [],
   "source": [
    "linear_svm_clf = SVC(kernel='linear', C=1.0, gamma='scale', random_state=42)\n",
    "linear_svm_clf.fit(X_train, y_train)"
   ]
  },
  {
   "cell_type": "code",
   "execution_count": null,
   "metadata": {},
   "outputs": [],
   "source": [
    "linear_y_pred = linear_svm_clf.predict(X_test)\n",
    "evaluate_sklearn_model(y_test, linear_y_pred)"
   ]
  },
  {
   "cell_type": "code",
   "execution_count": null,
   "metadata": {},
   "outputs": [],
   "source": [
    "poly_2_svm_clf = SVC(kernel='poly', degree=2, C=1.0, gamma='scale', random_state=42)\n",
    "poly_2_svm_clf.fit(X_train, y_train)"
   ]
  },
  {
   "cell_type": "code",
   "execution_count": null,
   "metadata": {},
   "outputs": [],
   "source": [
    "poly_2_y_pred = poly_2_svm_clf.predict(X_test)\n",
    "evaluate_sklearn_model(y_test, poly_2_y_pred)"
   ]
  },
  {
   "cell_type": "code",
   "execution_count": null,
   "metadata": {},
   "outputs": [],
   "source": [
    "poly_3_svm_clf = SVC(kernel='poly', degree=3, C=1.0, gamma='scale', random_state=42)\n",
    "poly_3_svm_clf.fit(X_train, y_train)"
   ]
  },
  {
   "cell_type": "code",
   "execution_count": null,
   "metadata": {},
   "outputs": [],
   "source": [
    "poly_3_y_pred = poly_3_svm_clf.predict(X_test)\n",
    "evaluate_sklearn_model(y_test, poly_3_y_pred)"
   ]
  },
  {
   "cell_type": "code",
   "execution_count": null,
   "metadata": {},
   "outputs": [],
   "source": [
    "poly_4_svm_clf = SVC(kernel='poly', degree=4, C=1.0, gamma='scale', random_state=42)\n",
    "poly_4_svm_clf.fit(X_train, y_train)"
   ]
  },
  {
   "cell_type": "code",
   "execution_count": null,
   "metadata": {},
   "outputs": [],
   "source": [
    "poly_4_y_pred = poly_4_svm_clf.predict(X_test)\n",
    "evaluate_sklearn_model(y_test, poly_4_y_pred)"
   ]
  },
  {
   "cell_type": "code",
   "execution_count": null,
   "metadata": {},
   "outputs": [],
   "source": [
    "sigmoid_svm_clf = SVC(kernel='sigmoid', C=1.0, gamma='scale', random_state=42)\n",
    "sigmoid_svm_clf.fit(X_train, y_train)"
   ]
  },
  {
   "cell_type": "code",
   "execution_count": null,
   "metadata": {},
   "outputs": [],
   "source": [
    "sigmoid_y_pred = sigmoid_svm_clf.predict(X_test)\n",
    "evaluate_sklearn_model(y_test, sigmoid_y_pred)"
   ]
  }
 ],
 "metadata": {
  "kernelspec": {
   "display_name": "Python 3",
   "language": "python",
   "name": "python3"
  },
  "language_info": {
   "codemirror_mode": {
    "name": "ipython",
    "version": 3
   },
   "file_extension": ".py",
   "mimetype": "text/x-python",
   "name": "python",
   "nbconvert_exporter": "python",
   "pygments_lexer": "ipython3",
   "version": "3.11.9"
  }
 },
 "nbformat": 4,
 "nbformat_minor": 2
}
