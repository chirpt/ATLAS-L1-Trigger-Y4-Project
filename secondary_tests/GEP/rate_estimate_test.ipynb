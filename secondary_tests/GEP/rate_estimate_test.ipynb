{
 "cells": [
  {
   "cell_type": "code",
   "execution_count": 1,
   "metadata": {},
   "outputs": [
    {
     "name": "stderr",
     "output_type": "stream",
     "text": [
      "C:\\Users\\tymch\\AppData\\Local\\Packages\\PythonSoftwareFoundation.Python.3.11_qbz5n2kfra8p0\\LocalCache\\local-packages\\Python311\\site-packages\\tqdm\\auto.py:21: TqdmWarning: IProgress not found. Please update jupyter and ipywidgets. See https://ipywidgets.readthedocs.io/en/stable/user_install.html\n",
      "  from .autonotebook import tqdm as notebook_tqdm\n"
     ]
    }
   ],
   "source": [
    "import sys\n",
    "import os\n",
    "import subprocess\n",
    "import os\n",
    "import sys\n",
    "\n",
    "\n",
    "parent_dir = os.path.dirname(os.getcwd())\n",
    "sys.path.append(parent_dir)\n",
    "\n",
    "from utilities_new import *\n"
   ]
  },
  {
   "cell_type": "code",
   "execution_count": 2,
   "metadata": {},
   "outputs": [
    {
     "name": "stdout",
     "output_type": "stream",
     "text": [
      "Imported 43 binary classifiers:\n",
      "['AdaBoostClassifier', 'BaggingClassifier', 'BernoulliNB', 'CalibratedClassifierCV', 'CategoricalNB', 'ClassifierChain', 'ComplementNB', 'DecisionTreeClassifier', 'DummyClassifier', 'ExtraTreeClassifier', 'ExtraTreesClassifier', 'FixedThresholdClassifier', 'GaussianNB', 'GaussianProcessClassifier', 'GradientBoostingClassifier', 'HistGradientBoostingClassifier', 'KNeighborsClassifier', 'LabelPropagation', 'LabelSpreading', 'LinearDiscriminantAnalysis', 'LinearSVC', 'LogisticRegression', 'LogisticRegressionCV', 'MLPClassifier', 'MultiOutputClassifier', 'MultinomialNB', 'NearestCentroid', 'NuSVC', 'OneVsOneClassifier', 'OneVsRestClassifier', 'OutputCodeClassifier', 'PassiveAggressiveClassifier', 'Perceptron', 'QuadraticDiscriminantAnalysis', 'RadiusNeighborsClassifier', 'RandomForestClassifier', 'RidgeClassifier', 'RidgeClassifierCV', 'SGDClassifier', 'SVC', 'TunedThresholdClassifierCV', 'VotingClassifier', 'XGBClassifier']\n",
      "found preprepared data in ..\\data\\topocluster_Zee_Large_ring_000625001250025005010204_eqFalse\n",
      "Log saved to ..\\data\\topocluster_ZB_EN_only_ring_000625001250025005010204\\log.json\n",
      "preprepared data in ..\\data\\topocluster_ZB_EN_only_ring_000625001250025005010204 is missing, preparing and saving here\n",
      "attempting to generate topo training data\n"
     ]
    },
    {
     "name": "stderr",
     "output_type": "stream",
     "text": [
      "100%|██████████| 21701/21701 [00:11<00:00, 1854.25it/s]\n",
      "100%|██████████| 21701/21701 [00:11<00:00, 1904.01it/s]\n"
     ]
    }
   ],
   "source": [
    "data_subdir1 = \"topocluster_Zee_Large\"\n",
    "data_subdir2 = \"topocluster_ZB_EN_only\"\n",
    "accept_data_filename = \"l1calo_topocluster_test_Zee.root\"\n",
    "reject_data_filename = \"ZMUMU_TopoCluster_Supercell_Large.root\"\n",
    "format_mode = \"topocluster_ET_boundaries\"\n",
    "distance_boundaries=[0.00625,0.0125,0.025,0.05,0.1,0.2,0.4]\n",
    "equalise = False\n",
    "description = \"ring_\" + \"\".join(str(decimal).replace('.', '') for decimal in distance_boundaries)\n",
    "id1 = f\"{data_subdir1}_{description}_eq{equalise}\"\n",
    "id2 = f\"{data_subdir2}_{description}\"\n",
    "\n",
    "\n",
    "binary_classifiers = import_all_classifiers()\n",
    "Classifier = binary_classifiers[\"ExtraTreesClassifier\"]\n",
    "params = signature(Classifier).parameters\n",
    "clf = Classifier(random_state=42) if \"random_state\" in params else Classifier()\n",
    "\n",
    "\n",
    "X_train, X_test, y_train, y_test, pd_passthrough_train, pd_passthrough_test = prepare_data(accept_data_filename=accept_data_filename, reject_data_filename=reject_data_filename, data_subdir=id1, format_mode=format_mode, distance_boundaries=distance_boundaries)\n",
    "ZB_X_test, ZB_pd_passthrough_test = prepare_data(accept_data_filename=\"l1calo_hist_ZB_EN.root\",reject_data_filename=\"l1calo_hist_ZB_EN.root\",data_subdir=id2, format_mode=format_mode, distance_boundaries=distance_boundaries, rate_estimation=True)"
   ]
  },
  {
   "cell_type": "code",
   "execution_count": 4,
   "metadata": {},
   "outputs": [],
   "source": [
    "clf.fit(X_train, y_train)\n",
    "ZB_y_pred = clf.predict(ZB_X_test)\n",
    "#perform TOB ET cut at 25  (?) GeV XXX"
   ]
  },
  {
   "cell_type": "code",
   "execution_count": 25,
   "metadata": {},
   "outputs": [
    {
     "name": "stdout",
     "output_type": "stream",
     "text": [
      "19587\n",
      "0        29.900000\n",
      "1        31.600000\n",
      "2        41.900002\n",
      "3        41.299999\n",
      "4        33.400002\n",
      "           ...    \n",
      "21696    82.300003\n",
      "21697    27.100000\n",
      "21698    41.900002\n",
      "21699    25.100000\n",
      "21700    29.900000\n",
      "Name: TOB_ET, Length: 21701, dtype: float32\n"
     ]
    }
   ],
   "source": [
    "ZB_pd_passthrough_test[\"pred\"] = (ZB_y_pred == 1) & (ZB_pd_passthrough_test[\"TOB_ET\"] >= 25)\n",
    "print(np.sum(ZB_pd_passthrough_test[\"TOB_ET\"] >= 26))\n",
    "print(ZB_pd_passthrough_test[\"TOB_ET\"])\n"
   ]
  },
  {
   "cell_type": "code",
   "execution_count": 26,
   "metadata": {},
   "outputs": [
    {
     "name": "stdout",
     "output_type": "stream",
     "text": [
      "3910\n"
     ]
    }
   ],
   "source": [
    "event_accept_count = count_accepted(ZB_pd_passthrough_test)\n",
    "print(event_accept_count)\n"
   ]
  },
  {
   "cell_type": "code",
   "execution_count": null,
   "metadata": {},
   "outputs": [
    {
     "ename": "NameError",
     "evalue": "name 'subprocess' is not defined",
     "output_type": "error",
     "traceback": [
      "\u001b[1;31m---------------------------------------------------------------------------\u001b[0m",
      "\u001b[1;31mNameError\u001b[0m                                 Traceback (most recent call last)",
      "Cell \u001b[1;32mIn[11], line 12\u001b[0m\n\u001b[0;32m     10\u001b[0m \u001b[38;5;28;01mtry\u001b[39;00m:\n\u001b[0;32m     11\u001b[0m     \u001b[38;5;66;03m# Run the command and capture the output\u001b[39;00m\n\u001b[1;32m---> 12\u001b[0m     result \u001b[38;5;241m=\u001b[39m \u001b[43msubprocess\u001b[49m\u001b[38;5;241m.\u001b[39mrun(command, capture_output\u001b[38;5;241m=\u001b[39m\u001b[38;5;28;01mTrue\u001b[39;00m, text\u001b[38;5;241m=\u001b[39m\u001b[38;5;28;01mTrue\u001b[39;00m, check\u001b[38;5;241m=\u001b[39m\u001b[38;5;28;01mTrue\u001b[39;00m)\n\u001b[0;32m     14\u001b[0m     \u001b[38;5;66;03m# Print the output\u001b[39;00m\n",
      "\u001b[1;31mNameError\u001b[0m: name 'subprocess' is not defined",
      "\nDuring handling of the above exception, another exception occurred:\n",
      "\u001b[1;31mNameError\u001b[0m                                 Traceback (most recent call last)",
      "Cell \u001b[1;32mIn[11], line 18\u001b[0m\n\u001b[0;32m     15\u001b[0m     \u001b[38;5;28mprint\u001b[39m(\u001b[38;5;124m\"\u001b[39m\u001b[38;5;124mOutput:\u001b[39m\u001b[38;5;130;01m\\n\u001b[39;00m\u001b[38;5;124m\"\u001b[39m, result\u001b[38;5;241m.\u001b[39mstdout)\n\u001b[0;32m     16\u001b[0m     \u001b[38;5;28mprint\u001b[39m(\u001b[38;5;124m\"\u001b[39m\u001b[38;5;124mErrors:\u001b[39m\u001b[38;5;130;01m\\n\u001b[39;00m\u001b[38;5;124m\"\u001b[39m, result\u001b[38;5;241m.\u001b[39mstderr)\n\u001b[1;32m---> 18\u001b[0m \u001b[38;5;28;01mexcept\u001b[39;00m \u001b[43msubprocess\u001b[49m\u001b[38;5;241m.\u001b[39mCalledProcessError \u001b[38;5;28;01mas\u001b[39;00m e:\n\u001b[0;32m     19\u001b[0m     \u001b[38;5;28mprint\u001b[39m(\u001b[38;5;124m\"\u001b[39m\u001b[38;5;124mError running the command:\u001b[39m\u001b[38;5;124m\"\u001b[39m)\n\u001b[0;32m     20\u001b[0m     \u001b[38;5;28mprint\u001b[39m(e\u001b[38;5;241m.\u001b[39mstderr)\n",
      "\u001b[1;31mNameError\u001b[0m: name 'subprocess' is not defined"
     ]
    }
   ],
   "source": [
    "# path = \"C:\\Users\\Me\\AppData\\Local\\Programs\\Python\\Python312\\python.exe\"\n",
    "\n",
    "python_executable = sys.executable\n",
    "\n",
    "command = [\n",
    "    python_executable, \"../ManipulateHistos.py\",\n",
    "    \"--filesInput=l1calo_topocluster_ZB_EN.root\",\n",
    "    \"--analyses\", \"eFEXEleRateCount\"]\n",
    "\n",
    "try:\n",
    "    # Run the command and capture the output\n",
    "    result = subprocess.run(command, capture_output=True, text=True, check=True)\n",
    "\n",
    "    # Print the output\n",
    "    print(\"Output:\\n\", result.stdout)\n",
    "    print(\"Errors:\\n\", result.stderr)\n",
    "\n",
    "except subprocess.CalledProcessError as e:\n",
    "    print(\"Error running the command:\")\n",
    "    print(e.stderr)"
   ]
  }
 ],
 "metadata": {
  "kernelspec": {
   "display_name": "Python 3",
   "language": "python",
   "name": "python3"
  },
  "language_info": {
   "codemirror_mode": {
    "name": "ipython",
    "version": 3
   },
   "file_extension": ".py",
   "mimetype": "text/x-python",
   "name": "python",
   "nbconvert_exporter": "python",
   "pygments_lexer": "ipython3",
   "version": "3.11.9"
  }
 },
 "nbformat": 4,
 "nbformat_minor": 2
}
