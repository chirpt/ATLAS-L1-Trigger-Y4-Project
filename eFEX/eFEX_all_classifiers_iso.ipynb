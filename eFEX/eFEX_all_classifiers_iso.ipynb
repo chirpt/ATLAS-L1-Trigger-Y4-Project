{
 "cells": [
  {
   "cell_type": "code",
   "execution_count": 1,
   "metadata": {},
   "outputs": [
    {
     "name": "stderr",
     "output_type": "stream",
     "text": [
      "C:\\Users\\tymch\\AppData\\Local\\Packages\\PythonSoftwareFoundation.Python.3.11_qbz5n2kfra8p0\\LocalCache\\local-packages\\Python311\\site-packages\\tqdm\\auto.py:21: TqdmWarning: IProgress not found. Please update jupyter and ipywidgets. See https://ipywidgets.readthedocs.io/en/stable/user_install.html\n",
      "  from .autonotebook import tqdm as notebook_tqdm\n"
     ]
    }
   ],
   "source": [
    "import sys\n",
    "import os\n",
    "\n",
    "parent_dir = os.path.dirname(os.getcwd())\n",
    "sys.path.append(parent_dir)\n",
    "\n",
    "from utilities_new import *"
   ]
  },
  {
   "cell_type": "code",
   "execution_count": null,
   "metadata": {},
   "outputs": [
    {
     "name": "stdout",
     "output_type": "stream",
     "text": [
      "found preprepared data in ..\\data\\ZMUMU_EGZ_extended_iso_vars\n"
     ]
    }
   ],
   "source": [
    "X_train, X_test, y_train, y_test, pd_passthrough_train, pd_passthrough_test = prepare_data(accept_data_filename=\"l1calo_hist_EGZ_extended.root\", reject_data_filename=\"l1calo_hist_ZMUMU_extended.root\", data_subdir=\"ZMUMU_EGZ_extended_iso_vars\", format_mode=\"iso_vars\", get_pT=True)"
   ]
  },
  {
   "cell_type": "code",
   "execution_count": 3,
   "metadata": {},
   "outputs": [
    {
     "name": "stdout",
     "output_type": "stream",
     "text": [
      "Imported 43 binary classifiers:\n",
      "['AdaBoostClassifier', 'BaggingClassifier', 'BernoulliNB', 'CalibratedClassifierCV', 'CategoricalNB', 'ClassifierChain', 'ComplementNB', 'DecisionTreeClassifier', 'DummyClassifier', 'ExtraTreeClassifier', 'ExtraTreesClassifier', 'FixedThresholdClassifier', 'GaussianNB', 'GaussianProcessClassifier', 'GradientBoostingClassifier', 'HistGradientBoostingClassifier', 'KNeighborsClassifier', 'LabelPropagation', 'LabelSpreading', 'LinearDiscriminantAnalysis', 'LinearSVC', 'LogisticRegression', 'LogisticRegressionCV', 'MLPClassifier', 'MultiOutputClassifier', 'MultinomialNB', 'NearestCentroid', 'NuSVC', 'OneVsOneClassifier', 'OneVsRestClassifier', 'OutputCodeClassifier', 'PassiveAggressiveClassifier', 'Perceptron', 'QuadraticDiscriminantAnalysis', 'RadiusNeighborsClassifier', 'RandomForestClassifier', 'RidgeClassifier', 'RidgeClassifierCV', 'SGDClassifier', 'SVC', 'TunedThresholdClassifierCV', 'VotingClassifier', 'XGBClassifier']\n"
     ]
    }
   ],
   "source": [
    "binary_classifiers = import_all_classifiers()\n",
    "# binary_classifiers= dict(list(binary_classifiers.items())[:10])"
   ]
  },
  {
   "cell_type": "code",
   "execution_count": null,
   "metadata": {},
   "outputs": [
    {
     "name": "stderr",
     "output_type": "stream",
     "text": [
      "  0%|          | 0/43 [00:00<?, ?it/s]C:\\Users\\tymch\\AppData\\Local\\Packages\\PythonSoftwareFoundation.Python.3.11_qbz5n2kfra8p0\\LocalCache\\local-packages\\Python311\\site-packages\\sklearn\\ensemble\\_weight_boosting.py:527: FutureWarning: The SAMME.R algorithm (the default) is deprecated and will be removed in 1.6. Use the SAMME algorithm to circumvent this warning.\n",
      "  warnings.warn(\n"
     ]
    },
    {
     "name": "stdout",
     "output_type": "stream",
     "text": [
      "Evaluation of AdaBoostClassifier\n",
      "Confusion Matrix:\n",
      " [[27334  1276]\n",
      " [  718 16854]]\n",
      "Accuracy: 0.95682300\n",
      "Recall: 0.95913954\n",
      "Precision: 0.92961942\n",
      "F1 Score: 0.94414879\n",
      "Classification Report:\n",
      "               precision    recall  f1-score   support\n",
      "\n",
      "         0.0       0.97      0.96      0.96     28610\n",
      "         1.0       0.93      0.96      0.94     17572\n",
      "\n",
      "    accuracy                           0.96     46182\n",
      "   macro avg       0.95      0.96      0.95     46182\n",
      "weighted avg       0.96      0.96      0.96     46182\n",
      "\n",
      "Mean Squared Error: 0.04317700\n",
      "\n"
     ]
    },
    {
     "name": "stderr",
     "output_type": "stream",
     "text": [
      "  2%|▏         | 1/43 [00:05<03:56,  5.64s/it]"
     ]
    },
    {
     "name": "stdout",
     "output_type": "stream",
     "text": [
      "ROC data saved to roc\\roc_data_iso_AdaBoostClassifier.json\n",
      "Precision-Recall data saved to precision_recall\\precision_recall_data_iso_AdaBoostClassifier.json\n",
      "Could not evaluate AdaBoostClassifier: save_efficiency_vs_ele_PT() got an unexpected keyword argument 'format_mode'\n",
      "\n",
      "Evaluation of BaggingClassifier\n",
      "Confusion Matrix:\n",
      " [[27453  1157]\n",
      " [  823 16749]]\n",
      "Accuracy: 0.95712615\n",
      "Recall: 0.95316412\n",
      "Precision: 0.93538479\n",
      "F1 Score: 0.94419077\n",
      "Classification Report:\n",
      "               precision    recall  f1-score   support\n",
      "\n",
      "         0.0       0.97      0.96      0.97     28610\n",
      "         1.0       0.94      0.95      0.94     17572\n",
      "\n",
      "    accuracy                           0.96     46182\n",
      "   macro avg       0.95      0.96      0.95     46182\n",
      "weighted avg       0.96      0.96      0.96     46182\n",
      "\n",
      "Mean Squared Error: 0.04287385\n",
      "\n"
     ]
    },
    {
     "name": "stderr",
     "output_type": "stream",
     "text": [
      "  5%|▍         | 2/43 [00:10<03:31,  5.15s/it]"
     ]
    },
    {
     "name": "stdout",
     "output_type": "stream",
     "text": [
      "ROC data saved to roc\\roc_data_iso_BaggingClassifier.json\n",
      "Precision-Recall data saved to precision_recall\\precision_recall_data_iso_BaggingClassifier.json\n",
      "Could not evaluate BaggingClassifier: save_efficiency_vs_ele_PT() got an unexpected keyword argument 'format_mode'\n",
      "\n",
      "Evaluation of BernoulliNB\n",
      "Confusion Matrix:\n",
      " [[20795  7815]\n",
      " [ 5394 12178]]\n",
      "Accuracy: 0.71397947\n",
      "Recall: 0.69303437\n",
      "Precision: 0.60911319\n",
      "F1 Score: 0.64836949\n",
      "Classification Report:\n",
      "               precision    recall  f1-score   support\n",
      "\n",
      "         0.0       0.79      0.73      0.76     28610\n",
      "         1.0       0.61      0.69      0.65     17572\n",
      "\n",
      "    accuracy                           0.71     46182\n",
      "   macro avg       0.70      0.71      0.70     46182\n",
      "weighted avg       0.72      0.71      0.72     46182\n",
      "\n",
      "Mean Squared Error: 0.28602053\n",
      "\n",
      "ROC data saved to roc\\roc_data_iso_BernoulliNB.json\n",
      "Precision-Recall data saved to precision_recall\\precision_recall_data_iso_BernoulliNB.json\n",
      "Could not evaluate BernoulliNB: save_efficiency_vs_ele_PT() got an unexpected keyword argument 'format_mode'\n",
      "\n"
     ]
    },
    {
     "name": "stderr",
     "output_type": "stream",
     "text": [
      "  7%|▋         | 3/43 [00:10<01:55,  2.89s/it]"
     ]
    },
    {
     "name": "stdout",
     "output_type": "stream",
     "text": [
      "Evaluation of CalibratedClassifierCV\n",
      "Confusion Matrix:\n",
      " [[27195  1415]\n",
      " [  953 16619]]\n",
      "Accuracy: 0.94872461\n",
      "Recall: 0.94576599\n",
      "Precision: 0.92153710\n",
      "F1 Score: 0.93349435\n",
      "Classification Report:\n",
      "               precision    recall  f1-score   support\n",
      "\n",
      "         0.0       0.97      0.95      0.96     28610\n",
      "         1.0       0.92      0.95      0.93     17572\n",
      "\n",
      "    accuracy                           0.95     46182\n",
      "   macro avg       0.94      0.95      0.95     46182\n",
      "weighted avg       0.95      0.95      0.95     46182\n",
      "\n",
      "Mean Squared Error: 0.05127539\n",
      "\n",
      "ROC data saved to roc\\roc_data_iso_CalibratedClassifierCV.json\n"
     ]
    },
    {
     "name": "stderr",
     "output_type": "stream",
     "text": [
      "  9%|▉         | 4/43 [00:11<01:26,  2.21s/it]"
     ]
    },
    {
     "name": "stdout",
     "output_type": "stream",
     "text": [
      "Precision-Recall data saved to precision_recall\\precision_recall_data_iso_CalibratedClassifierCV.json\n",
      "Could not evaluate CalibratedClassifierCV: save_efficiency_vs_ele_PT() got an unexpected keyword argument 'format_mode'\n",
      "\n",
      "Evaluation of CategoricalNB\n",
      "Confusion Matrix:\n",
      " [[27018  1592]\n",
      " [  936 16636]]\n",
      "Accuracy: 0.94526006\n",
      "Recall: 0.94673344\n",
      "Precision: 0.91266184\n",
      "F1 Score: 0.92938547\n",
      "Classification Report:\n",
      "               precision    recall  f1-score   support\n",
      "\n",
      "         0.0       0.97      0.94      0.96     28610\n",
      "         1.0       0.91      0.95      0.93     17572\n",
      "\n",
      "    accuracy                           0.95     46182\n",
      "   macro avg       0.94      0.95      0.94     46182\n",
      "weighted avg       0.95      0.95      0.95     46182\n",
      "\n",
      "Mean Squared Error: 0.05473994\n",
      "\n"
     ]
    },
    {
     "name": "stderr",
     "output_type": "stream",
     "text": [
      " 12%|█▏        | 5/43 [00:12<00:57,  1.52s/it]"
     ]
    },
    {
     "name": "stdout",
     "output_type": "stream",
     "text": [
      "ROC data saved to roc\\roc_data_iso_CategoricalNB.json\n",
      "Precision-Recall data saved to precision_recall\\precision_recall_data_iso_CategoricalNB.json\n",
      "Could not evaluate CategoricalNB: save_efficiency_vs_ele_PT() got an unexpected keyword argument 'format_mode'\n",
      "\n",
      "Could not evaluate ClassifierChain: tuple index out of range\n",
      "\n",
      "Evaluation of ComplementNB\n",
      "Confusion Matrix:\n",
      " [[17188 11422]\n",
      " [  195 17377]]\n",
      "Accuracy: 0.74845178\n",
      "Recall: 0.98890280\n",
      "Precision: 0.60338901\n",
      "F1 Score: 0.74947704\n",
      "Classification Report:\n",
      "               precision    recall  f1-score   support\n",
      "\n",
      "         0.0       0.99      0.60      0.75     28610\n",
      "         1.0       0.60      0.99      0.75     17572\n",
      "\n",
      "    accuracy                           0.75     46182\n",
      "   macro avg       0.80      0.79      0.75     46182\n",
      "weighted avg       0.84      0.75      0.75     46182\n",
      "\n",
      "Mean Squared Error: 0.25154822\n",
      "\n"
     ]
    },
    {
     "name": "stderr",
     "output_type": "stream",
     "text": [
      " 16%|█▋        | 7/43 [00:12<00:29,  1.23it/s]"
     ]
    },
    {
     "name": "stdout",
     "output_type": "stream",
     "text": [
      "ROC data saved to roc\\roc_data_iso_ComplementNB.json\n",
      "Precision-Recall data saved to precision_recall\\precision_recall_data_iso_ComplementNB.json\n",
      "Could not evaluate ComplementNB: save_efficiency_vs_ele_PT() got an unexpected keyword argument 'format_mode'\n",
      "\n"
     ]
    },
    {
     "name": "stderr",
     "output_type": "stream",
     "text": [
      " 19%|█▊        | 8/43 [00:13<00:28,  1.23it/s]"
     ]
    },
    {
     "name": "stdout",
     "output_type": "stream",
     "text": [
      "Evaluation of DecisionTreeClassifier\n",
      "Confusion Matrix:\n",
      " [[27249  1361]\n",
      " [ 1314 16258]]\n",
      "Accuracy: 0.94207700\n",
      "Recall: 0.92522194\n",
      "Precision: 0.92275385\n",
      "F1 Score: 0.92398625\n",
      "Classification Report:\n",
      "               precision    recall  f1-score   support\n",
      "\n",
      "         0.0       0.95      0.95      0.95     28610\n",
      "         1.0       0.92      0.93      0.92     17572\n",
      "\n",
      "    accuracy                           0.94     46182\n",
      "   macro avg       0.94      0.94      0.94     46182\n",
      "weighted avg       0.94      0.94      0.94     46182\n",
      "\n",
      "Mean Squared Error: 0.05792300\n",
      "\n",
      "ROC data saved to roc\\roc_data_iso_DecisionTreeClassifier.json\n",
      "Precision-Recall data saved to precision_recall\\precision_recall_data_iso_DecisionTreeClassifier.json\n",
      "Could not evaluate DecisionTreeClassifier: save_efficiency_vs_ele_PT() got an unexpected keyword argument 'format_mode'\n",
      "\n",
      "Evaluation of DummyClassifier\n",
      "Confusion Matrix:\n",
      " [[28610     0]\n",
      " [17572     0]]\n",
      "Accuracy: 0.61950544\n",
      "Recall: 0.00000000\n"
     ]
    },
    {
     "name": "stderr",
     "output_type": "stream",
     "text": [
      "C:\\Users\\tymch\\AppData\\Local\\Packages\\PythonSoftwareFoundation.Python.3.11_qbz5n2kfra8p0\\LocalCache\\local-packages\\Python311\\site-packages\\sklearn\\metrics\\_classification.py:1531: UndefinedMetricWarning: Precision is ill-defined and being set to 0.0 due to no predicted samples. Use `zero_division` parameter to control this behavior.\n",
      "  _warn_prf(average, modifier, f\"{metric.capitalize()} is\", len(result))\n",
      "C:\\Users\\tymch\\AppData\\Local\\Packages\\PythonSoftwareFoundation.Python.3.11_qbz5n2kfra8p0\\LocalCache\\local-packages\\Python311\\site-packages\\sklearn\\metrics\\_classification.py:1531: UndefinedMetricWarning: Precision is ill-defined and being set to 0.0 in labels with no predicted samples. Use `zero_division` parameter to control this behavior.\n",
      "  _warn_prf(average, modifier, f\"{metric.capitalize()} is\", len(result))\n",
      "C:\\Users\\tymch\\AppData\\Local\\Packages\\PythonSoftwareFoundation.Python.3.11_qbz5n2kfra8p0\\LocalCache\\local-packages\\Python311\\site-packages\\sklearn\\metrics\\_classification.py:1531: UndefinedMetricWarning: Precision is ill-defined and being set to 0.0 in labels with no predicted samples. Use `zero_division` parameter to control this behavior.\n",
      "  _warn_prf(average, modifier, f\"{metric.capitalize()} is\", len(result))\n",
      "C:\\Users\\tymch\\AppData\\Local\\Packages\\PythonSoftwareFoundation.Python.3.11_qbz5n2kfra8p0\\LocalCache\\local-packages\\Python311\\site-packages\\sklearn\\metrics\\_classification.py:1531: UndefinedMetricWarning: Precision is ill-defined and being set to 0.0 in labels with no predicted samples. Use `zero_division` parameter to control this behavior.\n",
      "  _warn_prf(average, modifier, f\"{metric.capitalize()} is\", len(result))\n",
      " 21%|██        | 9/43 [00:13<00:21,  1.60it/s]"
     ]
    },
    {
     "name": "stdout",
     "output_type": "stream",
     "text": [
      "Precision: 0.00000000\n",
      "F1 Score: 0.00000000\n",
      "Classification Report:\n",
      "               precision    recall  f1-score   support\n",
      "\n",
      "         0.0       0.62      1.00      0.77     28610\n",
      "         1.0       0.00      0.00      0.00     17572\n",
      "\n",
      "    accuracy                           0.62     46182\n",
      "   macro avg       0.31      0.50      0.38     46182\n",
      "weighted avg       0.38      0.62      0.47     46182\n",
      "\n",
      "Mean Squared Error: 0.38049456\n",
      "\n",
      "ROC data saved to roc\\roc_data_iso_DummyClassifier.json\n",
      "Precision-Recall data saved to precision_recall\\precision_recall_data_iso_DummyClassifier.json\n",
      "Could not evaluate DummyClassifier: save_efficiency_vs_ele_PT() got an unexpected keyword argument 'format_mode'\n",
      "\n",
      "Evaluation of ExtraTreeClassifier\n",
      "Confusion Matrix:\n",
      " [[27147  1463]\n",
      " [ 1361 16211]]\n",
      "Accuracy: 0.93885063\n",
      "Recall: 0.92254723\n"
     ]
    },
    {
     "name": "stderr",
     "output_type": "stream",
     "text": [
      " 23%|██▎       | 10/43 [00:13<00:16,  1.95it/s]"
     ]
    },
    {
     "name": "stdout",
     "output_type": "stream",
     "text": [
      "Precision: 0.91722304\n",
      "F1 Score: 0.91987743\n",
      "Classification Report:\n",
      "               precision    recall  f1-score   support\n",
      "\n",
      "         0.0       0.95      0.95      0.95     28610\n",
      "         1.0       0.92      0.92      0.92     17572\n",
      "\n",
      "    accuracy                           0.94     46182\n",
      "   macro avg       0.93      0.94      0.94     46182\n",
      "weighted avg       0.94      0.94      0.94     46182\n",
      "\n",
      "Mean Squared Error: 0.06114937\n",
      "\n",
      "ROC data saved to roc\\roc_data_iso_ExtraTreeClassifier.json\n",
      "Precision-Recall data saved to precision_recall\\precision_recall_data_iso_ExtraTreeClassifier.json\n",
      "Could not evaluate ExtraTreeClassifier: save_efficiency_vs_ele_PT() got an unexpected keyword argument 'format_mode'\n",
      "\n",
      "Evaluation of ExtraTreesClassifier\n",
      "Confusion Matrix:\n",
      " [[27426  1184]\n",
      " [  607 16965]]\n",
      "Accuracy: 0.96121866\n",
      "Recall: 0.96545641\n",
      "Precision: 0.93476225\n",
      "F1 Score: 0.94986143\n",
      "Classification Report:\n",
      "               precision    recall  f1-score   support\n",
      "\n",
      "         0.0       0.98      0.96      0.97     28610\n",
      "         1.0       0.93      0.97      0.95     17572\n",
      "\n",
      "    accuracy                           0.96     46182\n",
      "   macro avg       0.96      0.96      0.96     46182\n",
      "weighted avg       0.96      0.96      0.96     46182\n",
      "\n",
      "Mean Squared Error: 0.03878134\n",
      "\n"
     ]
    },
    {
     "name": "stderr",
     "output_type": "stream",
     "text": [
      " 26%|██▌       | 11/43 [00:23<01:46,  3.33s/it]"
     ]
    },
    {
     "name": "stdout",
     "output_type": "stream",
     "text": [
      "ROC data saved to roc\\roc_data_iso_ExtraTreesClassifier.json\n",
      "Precision-Recall data saved to precision_recall\\precision_recall_data_iso_ExtraTreesClassifier.json\n",
      "Could not evaluate ExtraTreesClassifier: save_efficiency_vs_ele_PT() got an unexpected keyword argument 'format_mode'\n",
      "\n",
      "Evaluation of FixedThresholdClassifier\n",
      "Confusion Matrix:\n",
      " [[27189  1421]\n",
      " [  902 16670]]\n",
      "Accuracy: 0.94969902\n",
      "Recall: 0.94866834\n",
      "Precision: 0.92145266\n",
      "F1 Score: 0.93486246\n",
      "Classification Report:\n",
      "               precision    recall  f1-score   support\n",
      "\n",
      "         0.0       0.97      0.95      0.96     28610\n",
      "         1.0       0.92      0.95      0.93     17572\n",
      "\n",
      "    accuracy                           0.95     46182\n",
      "   macro avg       0.94      0.95      0.95     46182\n",
      "weighted avg       0.95      0.95      0.95     46182\n",
      "\n",
      "Mean Squared Error: 0.05030098\n",
      "\n",
      "ROC data saved to roc\\roc_data_iso_FixedThresholdClassifier.json\n"
     ]
    },
    {
     "name": "stderr",
     "output_type": "stream",
     "text": [
      " 28%|██▊       | 12/43 [00:24<01:17,  2.51s/it]"
     ]
    },
    {
     "name": "stdout",
     "output_type": "stream",
     "text": [
      "Precision-Recall data saved to precision_recall\\precision_recall_data_iso_FixedThresholdClassifier.json\n",
      "Could not evaluate FixedThresholdClassifier: save_efficiency_vs_ele_PT() got an unexpected keyword argument 'format_mode'\n",
      "\n",
      "Evaluation of GaussianNB\n",
      "Confusion Matrix:\n",
      " [[25765  2845]\n",
      " [  590 16982]]\n",
      "Accuracy: 0.92562037\n",
      "Recall: 0.96642386\n",
      "Precision: 0.85650880\n",
      "F1 Score: 0.90815262\n",
      "Classification Report:\n",
      "               precision    recall  f1-score   support\n",
      "\n",
      "         0.0       0.98      0.90      0.94     28610\n",
      "         1.0       0.86      0.97      0.91     17572\n",
      "\n",
      "    accuracy                           0.93     46182\n",
      "   macro avg       0.92      0.93      0.92     46182\n",
      "weighted avg       0.93      0.93      0.93     46182\n",
      "\n",
      "Mean Squared Error: 0.07437963\n",
      "\n"
     ]
    },
    {
     "name": "stderr",
     "output_type": "stream",
     "text": [
      " 30%|███       | 13/43 [00:24<00:56,  1.87s/it]"
     ]
    },
    {
     "name": "stdout",
     "output_type": "stream",
     "text": [
      "ROC data saved to roc\\roc_data_iso_GaussianNB.json\n",
      "Precision-Recall data saved to precision_recall\\precision_recall_data_iso_GaussianNB.json\n",
      "Could not evaluate GaussianNB: save_efficiency_vs_ele_PT() got an unexpected keyword argument 'format_mode'\n",
      "\n",
      "Could not evaluate GaussianProcessClassifier: Unable to allocate 254. GiB for an array with shape (184728, 184728) and data type float64\n",
      "\n",
      "Evaluation of GradientBoostingClassifier\n",
      "Confusion Matrix:\n",
      " [[27408  1202]\n",
      " [  592 16980]]\n",
      "Accuracy: 0.96115370\n",
      "Recall: 0.96631004\n",
      "Precision: 0.93389066\n",
      "F1 Score: 0.94982380\n",
      "Classification Report:\n",
      "               precision    recall  f1-score   support\n",
      "\n",
      "         0.0       0.98      0.96      0.97     28610\n",
      "         1.0       0.93      0.97      0.95     17572\n",
      "\n",
      "    accuracy                           0.96     46182\n",
      "   macro avg       0.96      0.96      0.96     46182\n",
      "weighted avg       0.96      0.96      0.96     46182\n",
      "\n",
      "Mean Squared Error: 0.03884630\n",
      "\n"
     ]
    },
    {
     "name": "stderr",
     "output_type": "stream",
     "text": [
      " 35%|███▍      | 15/43 [00:39<02:02,  4.36s/it]"
     ]
    },
    {
     "name": "stdout",
     "output_type": "stream",
     "text": [
      "ROC data saved to roc\\roc_data_iso_GradientBoostingClassifier.json\n",
      "Precision-Recall data saved to precision_recall\\precision_recall_data_iso_GradientBoostingClassifier.json\n",
      "Could not evaluate GradientBoostingClassifier: save_efficiency_vs_ele_PT() got an unexpected keyword argument 'format_mode'\n",
      "\n",
      "Evaluation of HistGradientBoostingClassifier\n",
      "Confusion Matrix:\n",
      " [[27365  1245]\n",
      " [  492 17080]]\n",
      "Accuracy: 0.96238794\n",
      "Recall: 0.97200091\n",
      "Precision: 0.93206003\n",
      "F1 Score: 0.95161156\n",
      "Classification Report:\n",
      "               precision    recall  f1-score   support\n",
      "\n",
      "         0.0       0.98      0.96      0.97     28610\n",
      "         1.0       0.93      0.97      0.95     17572\n",
      "\n",
      "    accuracy                           0.96     46182\n",
      "   macro avg       0.96      0.96      0.96     46182\n",
      "weighted avg       0.96      0.96      0.96     46182\n",
      "\n",
      "Mean Squared Error: 0.03761206\n",
      "\n"
     ]
    },
    {
     "name": "stderr",
     "output_type": "stream",
     "text": [
      " 37%|███▋      | 16/43 [00:40<01:35,  3.54s/it]"
     ]
    },
    {
     "name": "stdout",
     "output_type": "stream",
     "text": [
      "ROC data saved to roc\\roc_data_iso_HistGradientBoostingClassifier.json\n",
      "Precision-Recall data saved to precision_recall\\precision_recall_data_iso_HistGradientBoostingClassifier.json\n",
      "Could not evaluate HistGradientBoostingClassifier: save_efficiency_vs_ele_PT() got an unexpected keyword argument 'format_mode'\n",
      "\n",
      "Evaluation of KNeighborsClassifier\n",
      "Confusion Matrix:\n",
      " [[27180  1430]\n",
      " [  526 17046]]\n",
      "Accuracy: 0.95764584\n",
      "Recall: 0.97006601\n",
      "Precision: 0.92260229\n",
      "F1 Score: 0.94573901\n",
      "Classification Report:\n",
      "               precision    recall  f1-score   support\n",
      "\n",
      "         0.0       0.98      0.95      0.97     28610\n",
      "         1.0       0.92      0.97      0.95     17572\n",
      "\n",
      "    accuracy                           0.96     46182\n",
      "   macro avg       0.95      0.96      0.96     46182\n",
      "weighted avg       0.96      0.96      0.96     46182\n",
      "\n",
      "Mean Squared Error: 0.04235416\n",
      "\n"
     ]
    },
    {
     "name": "stderr",
     "output_type": "stream",
     "text": [
      " 40%|███▉      | 17/43 [00:44<01:39,  3.82s/it]"
     ]
    },
    {
     "name": "stdout",
     "output_type": "stream",
     "text": [
      "ROC data saved to roc\\roc_data_iso_KNeighborsClassifier.json\n",
      "Precision-Recall data saved to precision_recall\\precision_recall_data_iso_KNeighborsClassifier.json\n",
      "Could not evaluate KNeighborsClassifier: save_efficiency_vs_ele_PT() got an unexpected keyword argument 'format_mode'\n",
      "\n",
      "Could not evaluate LabelPropagation: Unable to allocate 127. GiB for an array with shape (184728, 184728) and data type float32\n",
      "\n",
      "Could not evaluate LabelSpreading: Unable to allocate 127. GiB for an array with shape (184728, 184728) and data type float32\n",
      "\n",
      "Evaluation of LinearDiscriminantAnalysis\n",
      "Confusion Matrix:\n",
      " [[26376  2234]\n",
      " [ 2270 15302]]\n",
      "Accuracy: 0.90247282\n",
      "Recall: 0.87081721\n",
      "Precision: 0.87260493\n",
      "F1 Score: 0.87171015\n",
      "Classification Report:\n",
      "               precision    recall  f1-score   support\n",
      "\n",
      "         0.0       0.92      0.92      0.92     28610\n",
      "         1.0       0.87      0.87      0.87     17572\n",
      "\n",
      "    accuracy                           0.90     46182\n",
      "   macro avg       0.90      0.90      0.90     46182\n",
      "weighted avg       0.90      0.90      0.90     46182\n",
      "\n",
      "Mean Squared Error: 0.09752718\n",
      "\n"
     ]
    },
    {
     "name": "stderr",
     "output_type": "stream",
     "text": [
      " 47%|████▋     | 20/43 [00:45<00:42,  1.87s/it]"
     ]
    },
    {
     "name": "stdout",
     "output_type": "stream",
     "text": [
      "ROC data saved to roc\\roc_data_iso_LinearDiscriminantAnalysis.json\n",
      "Precision-Recall data saved to precision_recall\\precision_recall_data_iso_LinearDiscriminantAnalysis.json\n",
      "Could not evaluate LinearDiscriminantAnalysis: save_efficiency_vs_ele_PT() got an unexpected keyword argument 'format_mode'\n",
      "\n",
      "Evaluation of LinearSVC\n",
      "Confusion Matrix:\n",
      " [[27220  1390]\n",
      " [  979 16593]]\n",
      "Accuracy: 0.94870296\n",
      "Recall: 0.94428636\n",
      "Precision: 0.92270478\n",
      "F1 Score: 0.93337083\n",
      "Classification Report:\n",
      "               precision    recall  f1-score   support\n",
      "\n",
      "         0.0       0.97      0.95      0.96     28610\n",
      "         1.0       0.92      0.94      0.93     17572\n",
      "\n",
      "    accuracy                           0.95     46182\n",
      "   macro avg       0.94      0.95      0.95     46182\n",
      "weighted avg       0.95      0.95      0.95     46182\n",
      "\n",
      "Mean Squared Error: 0.05129704\n",
      "\n",
      "ROC data saved to roc\\roc_data_iso_LinearSVC.json\n"
     ]
    },
    {
     "name": "stderr",
     "output_type": "stream",
     "text": [
      " 49%|████▉     | 21/43 [00:45<00:34,  1.59s/it]"
     ]
    },
    {
     "name": "stdout",
     "output_type": "stream",
     "text": [
      "Precision-Recall data saved to precision_recall\\precision_recall_data_iso_LinearSVC.json\n",
      "Could not evaluate LinearSVC: save_efficiency_vs_ele_PT() got an unexpected keyword argument 'format_mode'\n",
      "\n",
      "Evaluation of LogisticRegression\n",
      "Confusion Matrix:\n",
      " [[27189  1421]\n",
      " [  902 16670]]\n",
      "Accuracy: 0.94969902\n",
      "Recall: 0.94866834\n",
      "Precision: 0.92145266\n",
      "F1 Score: 0.93486246\n",
      "Classification Report:\n",
      "               precision    recall  f1-score   support\n",
      "\n",
      "         0.0       0.97      0.95      0.96     28610\n",
      "         1.0       0.92      0.95      0.93     17572\n",
      "\n",
      "    accuracy                           0.95     46182\n",
      "   macro avg       0.94      0.95      0.95     46182\n",
      "weighted avg       0.95      0.95      0.95     46182\n",
      "\n",
      "Mean Squared Error: 0.05030098\n",
      "\n",
      "ROC data saved to roc\\roc_data_iso_LogisticRegression.json\n"
     ]
    },
    {
     "name": "stderr",
     "output_type": "stream",
     "text": [
      " 51%|█████     | 22/43 [00:46<00:28,  1.34s/it]"
     ]
    },
    {
     "name": "stdout",
     "output_type": "stream",
     "text": [
      "Precision-Recall data saved to precision_recall\\precision_recall_data_iso_LogisticRegression.json\n",
      "Could not evaluate LogisticRegression: save_efficiency_vs_ele_PT() got an unexpected keyword argument 'format_mode'\n",
      "\n",
      "Evaluation of LogisticRegressionCV\n",
      "Confusion Matrix:\n",
      " [[27169  1441]\n",
      " [  845 16727]]\n",
      "Accuracy: 0.95050019\n",
      "Recall: 0.95191213\n",
      "Precision: 0.92068472\n",
      "F1 Score: 0.93603805\n",
      "Classification Report:\n",
      "               precision    recall  f1-score   support\n",
      "\n",
      "         0.0       0.97      0.95      0.96     28610\n",
      "         1.0       0.92      0.95      0.94     17572\n",
      "\n",
      "    accuracy                           0.95     46182\n",
      "   macro avg       0.95      0.95      0.95     46182\n",
      "weighted avg       0.95      0.95      0.95     46182\n",
      "\n",
      "Mean Squared Error: 0.04949981\n",
      "\n",
      "ROC data saved to roc\\roc_data_iso_LogisticRegressionCV.json\n"
     ]
    },
    {
     "name": "stderr",
     "output_type": "stream",
     "text": [
      " 53%|█████▎    | 23/43 [00:49<00:38,  1.90s/it]"
     ]
    },
    {
     "name": "stdout",
     "output_type": "stream",
     "text": [
      "Precision-Recall data saved to precision_recall\\precision_recall_data_iso_LogisticRegressionCV.json\n",
      "Could not evaluate LogisticRegressionCV: save_efficiency_vs_ele_PT() got an unexpected keyword argument 'format_mode'\n",
      "\n",
      "Evaluation of MLPClassifier\n",
      "Confusion Matrix:\n",
      " [[27197  1413]\n",
      " [  349 17223]]\n",
      "Accuracy: 0.96184661\n",
      "Recall: 0.98013886\n",
      "Precision: 0.92417901\n",
      "F1 Score: 0.95133672\n",
      "Classification Report:\n",
      "               precision    recall  f1-score   support\n",
      "\n",
      "         0.0       0.99      0.95      0.97     28610\n",
      "         1.0       0.92      0.98      0.95     17572\n",
      "\n",
      "    accuracy                           0.96     46182\n",
      "   macro avg       0.96      0.97      0.96     46182\n",
      "weighted avg       0.96      0.96      0.96     46182\n",
      "\n",
      "Mean Squared Error: 0.03815339\n",
      "\n",
      "ROC data saved to roc\\roc_data_iso_MLPClassifier.json\n"
     ]
    },
    {
     "name": "stderr",
     "output_type": "stream",
     "text": [
      " 56%|█████▌    | 24/43 [01:06<01:49,  5.77s/it]"
     ]
    },
    {
     "name": "stdout",
     "output_type": "stream",
     "text": [
      "Precision-Recall data saved to precision_recall\\precision_recall_data_iso_MLPClassifier.json\n",
      "Could not evaluate MLPClassifier: save_efficiency_vs_ele_PT() got an unexpected keyword argument 'format_mode'\n",
      "\n",
      "Could not evaluate MultiOutputClassifier: y must have at least two dimensions for multi-output regression but has only one.\n",
      "\n",
      "Evaluation of MultinomialNB\n",
      "Confusion Matrix:\n",
      " [[17662 10948]\n",
      " [  210 17362]]\n",
      "Accuracy: 0.75839071\n",
      "Recall: 0.98804917\n",
      "Precision: 0.61328153\n",
      "F1 Score: 0.75681095\n",
      "Classification Report:\n",
      "               precision    recall  f1-score   support\n",
      "\n",
      "         0.0       0.99      0.62      0.76     28610\n",
      "         1.0       0.61      0.99      0.76     17572\n",
      "\n",
      "    accuracy                           0.76     46182\n",
      "   macro avg       0.80      0.80      0.76     46182\n",
      "weighted avg       0.85      0.76      0.76     46182\n",
      "\n",
      "Mean Squared Error: 0.24160929\n",
      "\n",
      "ROC data saved to roc\\roc_data_iso_MultinomialNB.json\n"
     ]
    },
    {
     "name": "stderr",
     "output_type": "stream",
     "text": [
      " 63%|██████▎   | 27/43 [01:07<00:42,  2.64s/it]"
     ]
    },
    {
     "name": "stdout",
     "output_type": "stream",
     "text": [
      "Precision-Recall data saved to precision_recall\\precision_recall_data_iso_MultinomialNB.json\n",
      "Could not evaluate MultinomialNB: save_efficiency_vs_ele_PT() got an unexpected keyword argument 'format_mode'\n",
      "\n",
      "Evaluation of NearestCentroid\n",
      "Confusion Matrix:\n",
      " [[24211  4399]\n",
      " [ 2253 15319]]\n",
      "Accuracy: 0.85596120\n",
      "Recall: 0.87178466\n",
      "Precision: 0.77690435\n",
      "F1 Score: 0.82161437\n",
      "Classification Report:\n",
      "               precision    recall  f1-score   support\n",
      "\n",
      "         0.0       0.91      0.85      0.88     28610\n",
      "         1.0       0.78      0.87      0.82     17572\n",
      "\n",
      "    accuracy                           0.86     46182\n",
      "   macro avg       0.85      0.86      0.85     46182\n",
      "weighted avg       0.86      0.86      0.86     46182\n",
      "\n",
      "Mean Squared Error: 0.14403880\n",
      "\n",
      "Could not evaluate NearestCentroid: Model must have either a decision_function or predict_proba method.\n",
      "\n",
      "Evaluation of NuSVC\n",
      "Confusion Matrix:\n",
      " [[25580  3030]\n",
      " [ 1326 16246]]\n",
      "Accuracy: 0.90567754\n",
      "Recall: 0.92453904\n",
      "Precision: 0.84280971\n",
      "F1 Score: 0.88178463\n",
      "Classification Report:\n",
      "               precision    recall  f1-score   support\n",
      "\n",
      "         0.0       0.95      0.89      0.92     28610\n",
      "         1.0       0.84      0.92      0.88     17572\n",
      "\n",
      "    accuracy                           0.91     46182\n",
      "   macro avg       0.90      0.91      0.90     46182\n",
      "weighted avg       0.91      0.91      0.91     46182\n",
      "\n",
      "Mean Squared Error: 0.09432246\n",
      "\n"
     ]
    },
    {
     "name": "stderr",
     "output_type": "stream",
     "text": [
      " 65%|██████▌   | 28/43 [25:05<1:29:58, 359.89s/it]"
     ]
    },
    {
     "name": "stdout",
     "output_type": "stream",
     "text": [
      "ROC data saved to roc\\roc_data_iso_NuSVC.json\n",
      "Precision-Recall data saved to precision_recall\\precision_recall_data_iso_NuSVC.json\n",
      "Could not evaluate NuSVC: save_efficiency_vs_ele_PT() got an unexpected keyword argument 'format_mode'\n",
      "\n",
      "Evaluation of OneVsOneClassifier\n",
      "Confusion Matrix:\n",
      " [[27189  1421]\n",
      " [  902 16670]]\n",
      "Accuracy: 0.94969902\n",
      "Recall: 0.94866834\n",
      "Precision: 0.92145266\n",
      "F1 Score: 0.93486246\n",
      "Classification Report:\n",
      "               precision    recall  f1-score   support\n",
      "\n",
      "         0.0       0.97      0.95      0.96     28610\n",
      "         1.0       0.92      0.95      0.93     17572\n",
      "\n",
      "    accuracy                           0.95     46182\n",
      "   macro avg       0.94      0.95      0.95     46182\n",
      "weighted avg       0.95      0.95      0.95     46182\n",
      "\n",
      "Mean Squared Error: 0.05030098\n",
      "\n",
      "ROC data saved to roc\\roc_data_iso_OneVsOneClassifier.json\n"
     ]
    },
    {
     "name": "stderr",
     "output_type": "stream",
     "text": [
      " 67%|██████▋   | 29/43 [25:05<1:01:58, 265.62s/it]"
     ]
    },
    {
     "name": "stdout",
     "output_type": "stream",
     "text": [
      "Precision-Recall data saved to precision_recall\\precision_recall_data_iso_OneVsOneClassifier.json\n",
      "Could not evaluate OneVsOneClassifier: save_efficiency_vs_ele_PT() got an unexpected keyword argument 'format_mode'\n",
      "\n",
      "Evaluation of OneVsRestClassifier\n",
      "Confusion Matrix:\n",
      " [[27189  1421]\n",
      " [  902 16670]]\n",
      "Accuracy: 0.94969902\n",
      "Recall: 0.94866834\n",
      "Precision: 0.92145266\n",
      "F1 Score: 0.93486246\n",
      "Classification Report:\n",
      "               precision    recall  f1-score   support\n",
      "\n",
      "         0.0       0.97      0.95      0.96     28610\n",
      "         1.0       0.92      0.95      0.93     17572\n",
      "\n",
      "    accuracy                           0.95     46182\n",
      "   macro avg       0.94      0.95      0.95     46182\n",
      "weighted avg       0.95      0.95      0.95     46182\n",
      "\n",
      "Mean Squared Error: 0.05030098\n",
      "\n",
      "ROC data saved to roc\\roc_data_iso_OneVsRestClassifier.json\n"
     ]
    },
    {
     "name": "stderr",
     "output_type": "stream",
     "text": [
      " 70%|██████▉   | 30/43 [25:06<41:53, 193.34s/it]  "
     ]
    },
    {
     "name": "stdout",
     "output_type": "stream",
     "text": [
      "Precision-Recall data saved to precision_recall\\precision_recall_data_iso_OneVsRestClassifier.json\n",
      "Could not evaluate OneVsRestClassifier: save_efficiency_vs_ele_PT() got an unexpected keyword argument 'format_mode'\n",
      "\n"
     ]
    },
    {
     "name": "stderr",
     "output_type": "stream",
     "text": [
      " 72%|███████▏  | 31/43 [25:06<27:51, 139.33s/it]"
     ]
    },
    {
     "name": "stdout",
     "output_type": "stream",
     "text": [
      "Evaluation of OutputCodeClassifier\n",
      "Confusion Matrix:\n",
      " [[27189  1421]\n",
      " [  902 16670]]\n",
      "Accuracy: 0.94969902\n",
      "Recall: 0.94866834\n",
      "Precision: 0.92145266\n",
      "F1 Score: 0.93486246\n",
      "Classification Report:\n",
      "               precision    recall  f1-score   support\n",
      "\n",
      "         0.0       0.97      0.95      0.96     28610\n",
      "         1.0       0.92      0.95      0.93     17572\n",
      "\n",
      "    accuracy                           0.95     46182\n",
      "   macro avg       0.94      0.95      0.95     46182\n",
      "weighted avg       0.95      0.95      0.95     46182\n",
      "\n",
      "Mean Squared Error: 0.05030098\n",
      "\n",
      "Could not evaluate OutputCodeClassifier: Model must have either a decision_function or predict_proba method.\n",
      "\n",
      "Evaluation of PassiveAggressiveClassifier\n",
      "Confusion Matrix:\n",
      " [[25573  3037]\n",
      " [  199 17373]]\n",
      "Accuracy: 0.92992941\n",
      "Recall: 0.98867517\n",
      "Precision: 0.85120039\n",
      "F1 Score: 0.91480175\n",
      "Classification Report:\n",
      "               precision    recall  f1-score   support\n",
      "\n",
      "         0.0       0.99      0.89      0.94     28610\n",
      "         1.0       0.85      0.99      0.91     17572\n",
      "\n",
      "    accuracy                           0.93     46182\n",
      "   macro avg       0.92      0.94      0.93     46182\n",
      "weighted avg       0.94      0.93      0.93     46182\n",
      "\n",
      "Mean Squared Error: 0.07007059\n",
      "\n",
      "ROC data saved to roc\\roc_data_iso_PassiveAggressiveClassifier.json\n"
     ]
    },
    {
     "name": "stderr",
     "output_type": "stream",
     "text": [
      " 74%|███████▍  | 32/43 [25:07<18:15, 99.61s/it] "
     ]
    },
    {
     "name": "stdout",
     "output_type": "stream",
     "text": [
      "Precision-Recall data saved to precision_recall\\precision_recall_data_iso_PassiveAggressiveClassifier.json\n",
      "Could not evaluate PassiveAggressiveClassifier: save_efficiency_vs_ele_PT() got an unexpected keyword argument 'format_mode'\n",
      "\n",
      "Evaluation of Perceptron\n",
      "Confusion Matrix:\n",
      " [[27448  1162]\n",
      " [ 1821 15751]]\n",
      "Accuracy: 0.93540773\n",
      "Recall: 0.89636922\n",
      "Precision: 0.93129545\n",
      "F1 Score: 0.91349862\n",
      "Classification Report:\n",
      "               precision    recall  f1-score   support\n",
      "\n",
      "         0.0       0.94      0.96      0.95     28610\n",
      "         1.0       0.93      0.90      0.91     17572\n",
      "\n",
      "    accuracy                           0.94     46182\n",
      "   macro avg       0.93      0.93      0.93     46182\n",
      "weighted avg       0.94      0.94      0.94     46182\n",
      "\n",
      "Mean Squared Error: 0.06459227\n",
      "\n"
     ]
    },
    {
     "name": "stderr",
     "output_type": "stream",
     "text": [
      " 77%|███████▋  | 33/43 [25:07<11:48, 70.81s/it]"
     ]
    },
    {
     "name": "stdout",
     "output_type": "stream",
     "text": [
      "ROC data saved to roc\\roc_data_iso_Perceptron.json\n",
      "Precision-Recall data saved to precision_recall\\precision_recall_data_iso_Perceptron.json\n",
      "Could not evaluate Perceptron: save_efficiency_vs_ele_PT() got an unexpected keyword argument 'format_mode'\n",
      "\n",
      "Evaluation of QuadraticDiscriminantAnalysis\n",
      "Confusion Matrix:\n",
      " [[18843  9767]\n",
      " [  513 17059]]\n",
      "Accuracy: 0.77740245\n",
      "Recall: 0.97080583\n",
      "Precision: 0.63591292\n",
      "F1 Score: 0.76845804\n",
      "Classification Report:\n",
      "               precision    recall  f1-score   support\n",
      "\n",
      "         0.0       0.97      0.66      0.79     28610\n",
      "         1.0       0.64      0.97      0.77     17572\n",
      "\n",
      "    accuracy                           0.78     46182\n",
      "   macro avg       0.80      0.81      0.78     46182\n",
      "weighted avg       0.85      0.78      0.78     46182\n",
      "\n",
      "Mean Squared Error: 0.22259755\n",
      "\n",
      "ROC data saved to roc\\roc_data_iso_QuadraticDiscriminantAnalysis.json\n"
     ]
    },
    {
     "name": "stderr",
     "output_type": "stream",
     "text": [
      " 79%|███████▉  | 34/43 [25:07<07:31, 50.17s/it]"
     ]
    },
    {
     "name": "stdout",
     "output_type": "stream",
     "text": [
      "Precision-Recall data saved to precision_recall\\precision_recall_data_iso_QuadraticDiscriminantAnalysis.json\n",
      "Could not evaluate QuadraticDiscriminantAnalysis: save_efficiency_vs_ele_PT() got an unexpected keyword argument 'format_mode'\n",
      "\n"
     ]
    },
    {
     "name": "stderr",
     "output_type": "stream",
     "text": [
      " 81%|████████▏ | 35/43 [25:15<04:59, 37.45s/it]"
     ]
    },
    {
     "name": "stdout",
     "output_type": "stream",
     "text": [
      "Could not evaluate RadiusNeighborsClassifier: No neighbors found for test samples array([    2,    10,    14, ..., 46176, 46178, 46179]), you can try using larger radius, giving a label for outliers, or considering removing them from your dataset.\n",
      "\n",
      "Evaluation of RandomForestClassifier\n",
      "Confusion Matrix:\n",
      " [[27414  1196]\n",
      " [  568 17004]]\n",
      "Accuracy: 0.96180330\n",
      "Recall: 0.96767585\n",
      "Precision: 0.93428571\n",
      "F1 Score: 0.95068769\n",
      "Classification Report:\n",
      "               precision    recall  f1-score   support\n",
      "\n",
      "         0.0       0.98      0.96      0.97     28610\n",
      "         1.0       0.93      0.97      0.95     17572\n",
      "\n",
      "    accuracy                           0.96     46182\n",
      "   macro avg       0.96      0.96      0.96     46182\n",
      "weighted avg       0.96      0.96      0.96     46182\n",
      "\n",
      "Mean Squared Error: 0.03819670\n",
      "\n"
     ]
    },
    {
     "name": "stderr",
     "output_type": "stream",
     "text": [
      " 84%|████████▎ | 36/43 [25:36<03:49, 32.75s/it]"
     ]
    },
    {
     "name": "stdout",
     "output_type": "stream",
     "text": [
      "ROC data saved to roc\\roc_data_iso_RandomForestClassifier.json\n",
      "Precision-Recall data saved to precision_recall\\precision_recall_data_iso_RandomForestClassifier.json\n",
      "Could not evaluate RandomForestClassifier: save_efficiency_vs_ele_PT() got an unexpected keyword argument 'format_mode'\n",
      "\n",
      "Evaluation of RidgeClassifier\n",
      "Confusion Matrix:\n",
      " [[26403  2207]\n",
      " [ 2308 15264]]\n",
      "Accuracy: 0.90223464\n",
      "Recall: 0.86865468\n",
      "Precision: 0.87367638\n",
      "F1 Score: 0.87115829\n",
      "Classification Report:\n",
      "               precision    recall  f1-score   support\n",
      "\n",
      "         0.0       0.92      0.92      0.92     28610\n",
      "         1.0       0.87      0.87      0.87     17572\n",
      "\n",
      "    accuracy                           0.90     46182\n",
      "   macro avg       0.90      0.90      0.90     46182\n",
      "weighted avg       0.90      0.90      0.90     46182\n",
      "\n",
      "Mean Squared Error: 0.09776536\n",
      "\n",
      "ROC data saved to roc\\roc_data_iso_RidgeClassifier.json\n"
     ]
    },
    {
     "name": "stderr",
     "output_type": "stream",
     "text": [
      " 86%|████████▌ | 37/43 [25:36<02:18, 23.10s/it]"
     ]
    },
    {
     "name": "stdout",
     "output_type": "stream",
     "text": [
      "Precision-Recall data saved to precision_recall\\precision_recall_data_iso_RidgeClassifier.json\n",
      "Could not evaluate RidgeClassifier: save_efficiency_vs_ele_PT() got an unexpected keyword argument 'format_mode'\n",
      "\n",
      "Evaluation of RidgeClassifierCV\n",
      "Confusion Matrix:\n",
      " [[26403  2207]\n",
      " [ 2308 15264]]\n",
      "Accuracy: 0.90223464\n",
      "Recall: 0.86865468\n",
      "Precision: 0.87367638\n",
      "F1 Score: 0.87115829\n",
      "Classification Report:\n",
      "               precision    recall  f1-score   support\n",
      "\n",
      "         0.0       0.92      0.92      0.92     28610\n",
      "         1.0       0.87      0.87      0.87     17572\n",
      "\n",
      "    accuracy                           0.90     46182\n",
      "   macro avg       0.90      0.90      0.90     46182\n",
      "weighted avg       0.90      0.90      0.90     46182\n",
      "\n",
      "Mean Squared Error: 0.09776536\n",
      "\n"
     ]
    },
    {
     "name": "stderr",
     "output_type": "stream",
     "text": [
      " 88%|████████▊ | 38/43 [25:37<01:21, 16.35s/it]"
     ]
    },
    {
     "name": "stdout",
     "output_type": "stream",
     "text": [
      "ROC data saved to roc\\roc_data_iso_RidgeClassifierCV.json\n",
      "Precision-Recall data saved to precision_recall\\precision_recall_data_iso_RidgeClassifierCV.json\n",
      "Could not evaluate RidgeClassifierCV: save_efficiency_vs_ele_PT() got an unexpected keyword argument 'format_mode'\n",
      "\n",
      "Evaluation of SGDClassifier\n",
      "Confusion Matrix:\n",
      " [[26791  1819]\n",
      " [  509 17063]]\n",
      "Accuracy: 0.94959075\n",
      "Recall: 0.97103346\n",
      "Precision: 0.90366487\n",
      "F1 Score: 0.93613870\n",
      "Classification Report:\n",
      "               precision    recall  f1-score   support\n",
      "\n",
      "         0.0       0.98      0.94      0.96     28610\n",
      "         1.0       0.90      0.97      0.94     17572\n",
      "\n",
      "    accuracy                           0.95     46182\n",
      "   macro avg       0.94      0.95      0.95     46182\n",
      "weighted avg       0.95      0.95      0.95     46182\n",
      "\n",
      "Mean Squared Error: 0.05040925\n",
      "\n",
      "ROC data saved to roc\\roc_data_iso_SGDClassifier.json\n"
     ]
    },
    {
     "name": "stderr",
     "output_type": "stream",
     "text": [
      " 91%|█████████ | 39/43 [25:38<00:46, 11.73s/it]"
     ]
    },
    {
     "name": "stdout",
     "output_type": "stream",
     "text": [
      "Precision-Recall data saved to precision_recall\\precision_recall_data_iso_SGDClassifier.json\n",
      "Could not evaluate SGDClassifier: save_efficiency_vs_ele_PT() got an unexpected keyword argument 'format_mode'\n",
      "\n",
      "Evaluation of SVC\n",
      "Confusion Matrix:\n",
      " [[27243  1367]\n",
      " [  448 17124]]\n",
      "Accuracy: 0.96069897\n",
      "Recall: 0.97450489\n",
      "Precision: 0.92607214\n",
      "F1 Score: 0.94967141\n",
      "Classification Report:\n",
      "               precision    recall  f1-score   support\n",
      "\n",
      "         0.0       0.98      0.95      0.97     28610\n",
      "         1.0       0.93      0.97      0.95     17572\n",
      "\n",
      "    accuracy                           0.96     46182\n",
      "   macro avg       0.95      0.96      0.96     46182\n",
      "weighted avg       0.96      0.96      0.96     46182\n",
      "\n",
      "Mean Squared Error: 0.03930103\n",
      "\n"
     ]
    },
    {
     "name": "stderr",
     "output_type": "stream",
     "text": [
      " 93%|█████████▎| 40/43 [30:26<04:43, 94.42s/it]"
     ]
    },
    {
     "name": "stdout",
     "output_type": "stream",
     "text": [
      "ROC data saved to roc\\roc_data_iso_SVC.json\n",
      "Precision-Recall data saved to precision_recall\\precision_recall_data_iso_SVC.json\n",
      "Could not evaluate SVC: save_efficiency_vs_ele_PT() got an unexpected keyword argument 'format_mode'\n",
      "\n",
      "Evaluation of TunedThresholdClassifierCV\n",
      "Confusion Matrix:\n",
      " [[26624  1986]\n",
      " [  398 17174]]\n",
      "Accuracy: 0.94837816\n",
      "Recall: 0.97735033\n",
      "Precision: 0.89634656\n",
      "F1 Score: 0.93509746\n",
      "Classification Report:\n",
      "               precision    recall  f1-score   support\n",
      "\n",
      "         0.0       0.99      0.93      0.96     28610\n",
      "         1.0       0.90      0.98      0.94     17572\n",
      "\n",
      "    accuracy                           0.95     46182\n",
      "   macro avg       0.94      0.95      0.95     46182\n",
      "weighted avg       0.95      0.95      0.95     46182\n",
      "\n",
      "Mean Squared Error: 0.05162184\n",
      "\n",
      "ROC data saved to roc\\roc_data_iso_TunedThresholdClassifierCV.json\n",
      "Precision-Recall data saved to precision_recall\\precision_recall_data_iso_TunedThresholdClassifierCV.json\n",
      "Could not evaluate TunedThresholdClassifierCV: save_efficiency_vs_ele_PT() got an unexpected keyword argument 'format_mode'\n",
      "\n"
     ]
    },
    {
     "name": "stderr",
     "output_type": "stream",
     "text": [
      " 98%|█████████▊| 42/43 [30:50<00:52, 52.98s/it]"
     ]
    },
    {
     "name": "stdout",
     "output_type": "stream",
     "text": [
      "Evaluation of VotingClassifier\n",
      "Confusion Matrix:\n",
      " [[27593  1017]\n",
      " [ 1113 16459]]\n",
      "Accuracy: 0.95387813\n",
      "Recall: 0.93666060\n",
      "Precision: 0.94180591\n",
      "F1 Score: 0.93922620\n",
      "Classification Report:\n",
      "               precision    recall  f1-score   support\n",
      "\n",
      "         0.0       0.96      0.96      0.96     28610\n",
      "         1.0       0.94      0.94      0.94     17572\n",
      "\n",
      "    accuracy                           0.95     46182\n",
      "   macro avg       0.95      0.95      0.95     46182\n",
      "weighted avg       0.95      0.95      0.95     46182\n",
      "\n",
      "Mean Squared Error: 0.04612187\n",
      "\n",
      "Could not evaluate VotingClassifier: Model must have either a decision_function or predict_proba method.\n",
      "\n",
      "Evaluation of XGBClassifier\n",
      "Confusion Matrix:\n",
      " [[27373  1237]\n",
      " [  513 17059]]\n",
      "Accuracy: 0.96210645\n",
      "Recall: 0.97080583\n",
      "Precision: 0.93238959\n",
      "F1 Score: 0.95120999\n",
      "Classification Report:\n",
      "               precision    recall  f1-score   support\n",
      "\n",
      "         0.0       0.98      0.96      0.97     28610\n",
      "         1.0       0.93      0.97      0.95     17572\n",
      "\n",
      "    accuracy                           0.96     46182\n",
      "   macro avg       0.96      0.96      0.96     46182\n",
      "weighted avg       0.96      0.96      0.96     46182\n",
      "\n",
      "Mean Squared Error: 0.03789355\n",
      "\n",
      "ROC data saved to roc\\roc_data_iso_XGBClassifier.json\n"
     ]
    },
    {
     "name": "stderr",
     "output_type": "stream",
     "text": [
      "100%|██████████| 43/43 [30:51<00:00, 43.05s/it]"
     ]
    },
    {
     "name": "stdout",
     "output_type": "stream",
     "text": [
      "Precision-Recall data saved to precision_recall\\precision_recall_data_iso_XGBClassifier.json\n",
      "Could not evaluate XGBClassifier: save_efficiency_vs_ele_PT() got an unexpected keyword argument 'format_mode'\n",
      "\n"
     ]
    },
    {
     "name": "stderr",
     "output_type": "stream",
     "text": [
      "\n"
     ]
    },
    {
     "data": {
      "text/plain": [
       "<Figure size 640x480 with 0 Axes>"
      ]
     },
     "metadata": {},
     "output_type": "display_data"
    }
   ],
   "source": [
    "description = \"iso\"\n",
    "results = train_evaluate_all_classifiers(binary_classifiers, X_train, X_test, y_train, y_test, pd_passthrough_train, pd_passthrough_test, description)"
   ]
  },
  {
   "cell_type": "code",
   "execution_count": 5,
   "metadata": {},
   "outputs": [
    {
     "ename": "TypeError",
     "evalue": "save_csv() takes 2 positional arguments but 3 were given",
     "output_type": "error",
     "traceback": [
      "\u001b[1;31m---------------------------------------------------------------------------\u001b[0m",
      "\u001b[1;31mTypeError\u001b[0m                                 Traceback (most recent call last)",
      "Cell \u001b[1;32mIn[5], line 1\u001b[0m\n\u001b[1;32m----> 1\u001b[0m \u001b[43msave_csv\u001b[49m\u001b[43m(\u001b[49m\u001b[38;5;124;43m\"\u001b[39;49m\u001b[38;5;124;43meFEX_iso_ETs_test.csv\u001b[39;49m\u001b[38;5;124;43m\"\u001b[39;49m\u001b[43m,\u001b[49m\u001b[43mresults\u001b[49m\u001b[43m,\u001b[49m\u001b[38;5;124;43m\"\u001b[39;49m\u001b[38;5;124;43miso\u001b[39;49m\u001b[38;5;124;43m\"\u001b[39;49m\u001b[43m)\u001b[49m\n",
      "\u001b[1;31mTypeError\u001b[0m: save_csv() takes 2 positional arguments but 3 were given"
     ]
    }
   ],
   "source": [
    "save_csv(f\"eFEX_{description}_ETs_test.csv\", results)"
   ]
  },
  {
   "cell_type": "code",
   "execution_count": null,
   "metadata": {},
   "outputs": [],
   "source": [
    "plot_all_results(binary_classifiers, description)"
   ]
  }
 ],
 "metadata": {
  "kernelspec": {
   "display_name": "Python 3",
   "language": "python",
   "name": "python3"
  },
  "language_info": {
   "codemirror_mode": {
    "name": "ipython",
    "version": 3
   },
   "file_extension": ".py",
   "mimetype": "text/x-python",
   "name": "python",
   "nbconvert_exporter": "python",
   "pygments_lexer": "ipython3",
   "version": "3.11.9"
  }
 },
 "nbformat": 4,
 "nbformat_minor": 2
}
