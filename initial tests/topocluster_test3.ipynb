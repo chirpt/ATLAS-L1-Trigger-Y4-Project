{
 "cells": [
  {
   "cell_type": "code",
   "execution_count": 13,
   "metadata": {},
   "outputs": [],
   "source": [
    "import os\n",
    "import math\n",
    "import uproot\n",
    "import pandas as pd\n",
    "import numpy as np\n",
    "import matplotlib.pyplot as plt\n",
    "from utilities import *\n",
    "import math\n",
    "from sklearn.linear_model import SGDClassifier\n",
    "from sklearn.svm import SVC\n",
    "from sklearn.utils.class_weight import compute_sample_weight"
   ]
  },
  {
   "cell_type": "code",
   "execution_count": 14,
   "metadata": {},
   "outputs": [],
   "source": [
    "hinge_sgd_clf = SGDClassifier(loss=\"hinge\", max_iter=10000, tol=1e-3, random_state=42, learning_rate=\"adaptive\",eta0=0.1)\n",
    "svm_clf = SVC(kernel='rbf', C=1.0, gamma='scale', random_state=42)\n",
    "sample_weights = compute_sample_weight(\"balanced\", y_train)\n",
    "svm_clfw = SVC(kernel='rbf', C=1.0, gamma='scale', random_state=42)"
   ]
  },
  {
   "cell_type": "code",
   "execution_count": 2,
   "metadata": {},
   "outputs": [
    {
     "name": "stdout",
     "output_type": "stream",
     "text": [
      "preprepared data in ..\\data\\topocluster_test_Z_EN_test is missing, preparing and saving here\n",
      "attempting to generate topo training data\n"
     ]
    },
    {
     "name": "stderr",
     "output_type": "stream",
     "text": [
      "100%|██████████| 371765/371765 [02:06<00:00, 2947.68it/s]\n",
      "100%|██████████| 21701/21701 [00:10<00:00, 2067.75it/s]\n"
     ]
    }
   ],
   "source": [
    "X_train, X_test, y_train, y_test, pd_passthrough_train, pd_passthrough_test = prepare_data(accept_data_filename=\"l1calo_topocluster_test_Zee.root\", reject_data_filename=\"l1calo_hist_ZB_EN.root\", data_subdir=\"topocluster_test_Z_EN_test\", format_mode=\"topocluster_ET_boundaries\",distance_boundaries=[0.05,0.1,0.2,0.3,0.4])"
   ]
  },
  {
   "cell_type": "markdown",
   "metadata": {},
   "source": []
  },
  {
   "cell_type": "code",
   "execution_count": 15,
   "metadata": {},
   "outputs": [
    {
     "name": "stdout",
     "output_type": "stream",
     "text": [
      "found preprepared data in ..\\data\\topocluster_test_Z_EN_test_01020304\n",
      "[0.1, 0.2, 0.3, 0.4]\n",
      "Evaluation of hinge\n",
      "Accuracy: 0.96078481\n",
      "Recall: 0.98200210\n",
      "Precision: 0.97661601\n",
      "F1 Score: 0.97930165\n",
      "Confusion Matrix:\n",
      " [[ 2604  1748]\n",
      " [ 1338 73004]]\n",
      "Evaluation of svm\n",
      "Accuracy: 0.96684627\n",
      "Recall: 0.99603185\n",
      "Precision: 0.96969657\n",
      "F1 Score: 0.98268780\n",
      "Confusion Matrix:\n",
      " [[ 2038  2314]\n",
      " [  295 74047]]\n",
      "Evaluation of svm w\n",
      "Accuracy: 0.92493710\n",
      "Recall: 0.93399424\n",
      "Precision: 0.98580251\n",
      "F1 Score: 0.95919932\n",
      "Confusion Matrix:\n",
      " [[ 3352  1000]\n",
      " [ 4907 69435]]\n",
      "found preprepared data in ..\\data\\topocluster_test_Z_EN_test_00501015020250303504\n",
      "[0.05, 0.1, 0.15, 0.2, 0.25, 0.3, 0.35, 0.4]\n",
      "Evaluation of hinge\n",
      "Accuracy: 0.95636262\n",
      "Recall: 0.97455005\n",
      "Precision: 0.97915991\n",
      "F1 Score: 0.97684954\n",
      "Confusion Matrix:\n",
      " [[ 2810  1542]\n",
      " [ 1892 72450]]\n",
      "Evaluation of svm\n",
      "Accuracy: 0.97266628\n",
      "Recall: 0.99760566\n",
      "Precision: 0.97408619\n",
      "F1 Score: 0.98570565\n",
      "Confusion Matrix:\n",
      " [[ 2379  1973]\n",
      " [  178 74164]]\n",
      "Evaluation of svm w\n",
      "Accuracy: 0.93703459\n",
      "Recall: 0.94448629\n",
      "Precision: 0.98834509\n",
      "F1 Score: 0.96591808\n",
      "Confusion Matrix:\n",
      " [[ 3524   828]\n",
      " [ 4127 70215]]\n",
      "found preprepared data in ..\\data\\topocluster_test_Z_EN_test_0050101504\n",
      "[0.05, 0.1, 0.15, 0.4]\n",
      "Evaluation of hinge\n",
      "Accuracy: 0.95950136\n",
      "Recall: 0.97944634\n",
      "Precision: 0.97772347\n",
      "F1 Score: 0.97858415\n",
      "Confusion Matrix:\n",
      " [[ 2693  1659]\n",
      " [ 1528 72814]]\n",
      "Evaluation of svm\n",
      "Accuracy: 0.97192924\n",
      "Recall: 0.99764601\n",
      "Precision: 0.97330744\n",
      "F1 Score: 0.98532645\n",
      "Confusion Matrix:\n",
      " [[ 2318  2034]\n",
      " [  175 74167]]\n",
      "Evaluation of svm w\n",
      "Accuracy: 0.93285384\n",
      "Recall: 0.94014151\n",
      "Precision: 0.98820801\n",
      "F1 Score: 0.96357570\n",
      "Confusion Matrix:\n",
      " [[ 3518   834]\n",
      " [ 4450 69892]]\n",
      "found preprepared data in ..\\data\\topocluster_test_Z_EN_test_001250025005010204\n",
      "[0.0125, 0.025, 0.05, 0.1, 0.2, 0.4]\n",
      "Evaluation of hinge\n",
      "Accuracy: 0.96272905\n",
      "Recall: 0.98422157\n",
      "Precision: 0.97651110\n",
      "F1 Score: 0.98035117\n",
      "Confusion Matrix:\n",
      " [[ 2592  1760]\n",
      " [ 1173 73169]]\n",
      "Evaluation of svm\n",
      "Accuracy: 0.97327623\n",
      "Recall: 0.99776708\n",
      "Precision: 0.97455100\n",
      "F1 Score: 0.98602240\n",
      "Confusion Matrix:\n",
      " [[ 2415  1937]\n",
      " [  166 74176]]\n",
      "Evaluation of svm w\n",
      "Accuracy: 0.93726332\n",
      "Recall: 0.94471497\n",
      "Precision: 0.98836178\n",
      "F1 Score: 0.96604563\n",
      "Confusion Matrix:\n",
      " [[ 3525   827]\n",
      " [ 4110 70232]]\n"
     ]
    }
   ],
   "source": [
    "\n",
    "distance_boundaries_array = [[0.1,0.2,0.3,0.4],\n",
    "                             [0.05,0.1,0.15,0.2,0.25,0.3,0.35,0.4],\n",
    "                             [0.05,0.1,0.15,0.4],\n",
    "                             [0.0125,0.025,0.05,0.1,0.2,0.4]]\n",
    "for distance_boundaries in distance_boundaries_array:\n",
    "    extension = ''.join(str(decimal).replace('.','').replace('.','') for decimal in distance_boundaries)\n",
    "    X_train, X_test, y_train, y_test, pd_passthrough_train, pd_passthrough_test = prepare_data(accept_data_filename=\"l1calo_topocluster_test_Zee.root\", reject_data_filename=\"l1calo_hist_ZB_EN.root\", data_subdir=f\"topocluster_test_Z_EN_test_{extension}\", format_mode=\"topocluster_ET_boundaries\",distance_boundaries=distance_boundaries)\n",
    "    hinge_sgd_clf.fit(X_train, y_train)\n",
    "    y_pred_hinge = hinge_sgd_clf.predict(X_test)\n",
    "    print(distance_boundaries)\n",
    "    evaluate_sklearn_model(y_test, y_pred_hinge, show_CR=False, show_MSE=False, model_name=\"hinge\")\n",
    "    \n",
    "    svm_clf.fit(X_train, y_train)\n",
    "    y_pred = svm_clf.predict(X_test)\n",
    "    evaluate_sklearn_model(y_test, y_pred , show_CR=False, show_MSE=False, model_name=\"svm\")\n",
    "    \n",
    "    svm_clfw.fit(X_train, y_train, sample_weight=sample_weights)\n",
    "    y_pred_w = svm_clfw.predict(X_test)\n",
    "    evaluate_sklearn_model(y_test, y_pred_w, show_CR=False, show_MSE=False, model_name=\"svm w\")\n",
    "    \n",
    "    "
   ]
  }
 ],
 "metadata": {
  "kernelspec": {
   "display_name": "Python 3",
   "language": "python",
   "name": "python3"
  },
  "language_info": {
   "codemirror_mode": {
    "name": "ipython",
    "version": 3
   },
   "file_extension": ".py",
   "mimetype": "text/x-python",
   "name": "python",
   "nbconvert_exporter": "python",
   "pygments_lexer": "ipython3",
   "version": "3.11.9"
  }
 },
 "nbformat": 4,
 "nbformat_minor": 2
}
