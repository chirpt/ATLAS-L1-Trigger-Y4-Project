{
 "cells": [
  {
   "cell_type": "code",
   "execution_count": 1,
   "metadata": {},
   "outputs": [
    {
     "name": "stderr",
     "output_type": "stream",
     "text": [
      "c:\\Users\\Me\\AppData\\Local\\Programs\\Python\\Python312\\Lib\\site-packages\\tqdm\\auto.py:21: TqdmWarning: IProgress not found. Please update jupyter and ipywidgets. See https://ipywidgets.readthedocs.io/en/stable/user_install.html\n",
      "  from .autonotebook import tqdm as notebook_tqdm\n"
     ]
    },
    {
     "name": "stdout",
     "output_type": "stream",
     "text": [
      "Imported 43 binary classifiers:\n",
      "['AdaBoostClassifier', 'BaggingClassifier', 'BernoulliNB', 'CalibratedClassifierCV', 'CategoricalNB', 'ClassifierChain', 'ComplementNB', 'DecisionTreeClassifier', 'DummyClassifier', 'ExtraTreeClassifier', 'ExtraTreesClassifier', 'FixedThresholdClassifier', 'GaussianNB', 'GaussianProcessClassifier', 'GradientBoostingClassifier', 'HistGradientBoostingClassifier', 'KNeighborsClassifier', 'LabelPropagation', 'LabelSpreading', 'LinearDiscriminantAnalysis', 'LinearSVC', 'LogisticRegression', 'LogisticRegressionCV', 'MLPClassifier', 'MultiOutputClassifier', 'MultinomialNB', 'NearestCentroid', 'NuSVC', 'OneVsOneClassifier', 'OneVsRestClassifier', 'OutputCodeClassifier', 'PassiveAggressiveClassifier', 'Perceptron', 'QuadraticDiscriminantAnalysis', 'RadiusNeighborsClassifier', 'RandomForestClassifier', 'RidgeClassifier', 'RidgeClassifierCV', 'SGDClassifier', 'SVC', 'TunedThresholdClassifierCV', 'VotingClassifier', 'XGBClassifier']\n"
     ]
    }
   ],
   "source": [
    "import sys\n",
    "import os\n",
    "\n",
    "parent_dir = os.path.dirname(os.getcwd())\n",
    "sys.path.append(parent_dir)\n",
    "                                                                                                                                                                    \n",
    "from utilities_new import *\n",
    "\n",
    "description = [\"99_supercells\"]\n",
    "data_subdir = [\"ZMUMU_EGZ_extended_eFEX_BIGTEST\"]\n",
    "accept_data_filename = [\"l1calo_hist_EGZ_extended.root\"]\n",
    "reject_data_filename = [\"l1calo_hist_ZMUMU_extended.root\"]\n",
    "format_mode = [\"SuperCell_ET\"]\n",
    "\n",
    "binary_classifiers = import_all_classifiers()\n"
   ]
  },
  {
   "cell_type": "code",
   "execution_count": null,
   "metadata": {},
   "outputs": [
    {
     "name": "stderr",
     "output_type": "stream",
     "text": [
      "  0%|          | 0/1 [00:00<?, ?it/s]"
     ]
    },
    {
     "name": "stdout",
     "output_type": "stream",
     "text": [
      "found preprepared data in ..\\data\\ZMUMU_EGZ_extended_eFEX_BIGTEST_99_supercells\n",
      "found data preparation log in ..\\data\\ZMUMU_EGZ_extended_eFEX_BIGTEST_99_supercells\\log.json\n",
      "Log saved to ZMUMU_EGZ_extended_eFEX_BIGTEST_99_supercells\\log.json\n"
     ]
    },
    {
     "name": "stderr",
     "output_type": "stream",
     "text": [
      "\n",
      "100%|██████████| 5/5 [00:00<00:00, 104.41it/s]\n",
      "100%|██████████| 1/1 [00:00<00:00,  3.56it/s]\n",
      "100%|██████████| 1/1 [00:00<00:00,  3.55it/s]"
     ]
    },
    {
     "name": "stdout",
     "output_type": "stream",
     "text": [
      "Could not train or predict with AdaBoostClassifier: Can't pickle local object 'train_with_timeout.<locals>.target'\n",
      "Could not train or predict with BaggingClassifier: Can't pickle local object 'train_with_timeout.<locals>.target'\n",
      "Could not train or predict with BernoulliNB: Can't pickle local object 'train_with_timeout.<locals>.target'\n",
      "Could not train or predict with CalibratedClassifierCV: Can't pickle local object 'train_with_timeout.<locals>.target'\n",
      "Could not train or predict with CategoricalNB: Can't pickle local object 'train_with_timeout.<locals>.target'\n",
      "Results saved to ZMUMU_EGZ_extended_eFEX_BIGTEST_99_supercells/ZMUMU_EGZ_extended_eFEX_BIGTEST_99_supercells_99_supercells_all.csv\n"
     ]
    },
    {
     "name": "stderr",
     "output_type": "stream",
     "text": [
      "\n"
     ]
    }
   ],
   "source": [
    "\n",
    "if 'NearestCentroid' in binary_classifiers:\n",
    "    del binary_classifiers['NearestCentroid']\n",
    "binary_classifiers = dict(list(binary_classifiers.items())[])\n",
    "\n",
    "for i in tqdm(range(len(data_subdir))):\n",
    "    for j in tqdm(range(len(description))):\n",
    "        id = f\"{data_subdir[i]}_{description[j]}\"\n",
    "        X_train, X_test, y_train, y_test, pd_passthrough_train, pd_passthrough_test = prepare_data(accept_data_filename = accept_data_filename[i], reject_data_filename = reject_data_filename[i], data_subdir = id, format_mode = format_mode[j], get_pT=True)\n",
    "        results = train_evaluate_all_classifiers(binary_classifiers, X_train, X_test, y_train, y_test, pd_passthrough_train, pd_passthrough_test, description[j], id)\n",
    "        # plot_all_results(binary_classifiers.keys(), description, data_subdir)"
   ]
  },
  {
   "cell_type": "code",
   "execution_count": 3,
   "metadata": {},
   "outputs": [
    {
     "ename": "TypeError",
     "evalue": "expected str, bytes or os.PathLike object, not list",
     "output_type": "error",
     "traceback": [
      "\u001b[1;31m---------------------------------------------------------------------------\u001b[0m",
      "\u001b[1;31mTypeError\u001b[0m                                 Traceback (most recent call last)",
      "Cell \u001b[1;32mIn[3], line 1\u001b[0m\n\u001b[1;32m----> 1\u001b[0m \u001b[43mplot_all_results\u001b[49m\u001b[43m(\u001b[49m\u001b[43mbinary_classifiers\u001b[49m\u001b[38;5;241;43m.\u001b[39;49m\u001b[43mkeys\u001b[49m\u001b[43m(\u001b[49m\u001b[43m)\u001b[49m\u001b[43m,\u001b[49m\u001b[43m \u001b[49m\u001b[43mdescription\u001b[49m\u001b[43m,\u001b[49m\u001b[43m \u001b[49m\u001b[43mdata_subdir\u001b[49m\u001b[43m)\u001b[49m\n",
      "File \u001b[1;32mc:\\Users\\Me\\Documents\\Y5 Project code\\ATLAS-L1-Trigger-Y4-Project\\utilities_new.py:714\u001b[0m, in \u001b[0;36mplot_all_results\u001b[1;34m(binary_classifier_names, description, data_subdir)\u001b[0m\n\u001b[0;32m    712\u001b[0m \u001b[38;5;28;01mdef\u001b[39;00m\u001b[38;5;250m \u001b[39m\u001b[38;5;21mplot_all_results\u001b[39m(binary_classifier_names, description, data_subdir):\n\u001b[0;32m    713\u001b[0m     \u001b[38;5;28;01mfor\u001b[39;00m classifier_name \u001b[38;5;129;01min\u001b[39;00m binary_classifier_names:\n\u001b[1;32m--> 714\u001b[0m         fpr, tpr, roc_auc \u001b[38;5;241m=\u001b[39m \u001b[43mread_roc\u001b[49m\u001b[43m(\u001b[49m\u001b[43mclassifier_name\u001b[49m\u001b[43m,\u001b[49m\u001b[43m \u001b[49m\u001b[43mdescription\u001b[49m\u001b[43m,\u001b[49m\u001b[43m \u001b[49m\u001b[43mdata_subdir\u001b[49m\u001b[43m)\u001b[49m\n\u001b[0;32m    715\u001b[0m         precision, recall, pr_auc, chance_level \u001b[38;5;241m=\u001b[39m read_precision_recall(classifier_name, description, data_subdir)\n\u001b[0;32m    716\u001b[0m         bins, electrons_efficiency \u001b[38;5;241m=\u001b[39m read_efficiency_vs_ele_PT(classifier_name, description, data_subdir)\n",
      "File \u001b[1;32mc:\\Users\\Me\\Documents\\Y5 Project code\\ATLAS-L1-Trigger-Y4-Project\\utilities_new.py:683\u001b[0m, in \u001b[0;36mread_roc\u001b[1;34m(classifier_name, description, data_subdir)\u001b[0m\n\u001b[0;32m    682\u001b[0m \u001b[38;5;28;01mdef\u001b[39;00m\u001b[38;5;250m \u001b[39m\u001b[38;5;21mread_roc\u001b[39m(classifier_name, description, data_subdir):\n\u001b[1;32m--> 683\u001b[0m     filename \u001b[38;5;241m=\u001b[39m \u001b[43mos\u001b[49m\u001b[38;5;241;43m.\u001b[39;49m\u001b[43mpath\u001b[49m\u001b[38;5;241;43m.\u001b[39;49m\u001b[43mjoin\u001b[49m\u001b[43m(\u001b[49m\u001b[43mdata_subdir\u001b[49m\u001b[43m,\u001b[49m\u001b[43m \u001b[49m\u001b[38;5;124;43m\"\u001b[39;49m\u001b[38;5;124;43mroc\u001b[39;49m\u001b[38;5;124;43m\"\u001b[39;49m\u001b[43m,\u001b[49m\u001b[43m \u001b[49m\u001b[38;5;124;43mf\u001b[39;49m\u001b[38;5;124;43m\"\u001b[39;49m\u001b[38;5;124;43mroc_\u001b[39;49m\u001b[38;5;132;43;01m{\u001b[39;49;00m\u001b[43mdescription\u001b[49m\u001b[38;5;132;43;01m}\u001b[39;49;00m\u001b[38;5;124;43m_\u001b[39;49m\u001b[38;5;132;43;01m{\u001b[39;49;00m\u001b[43mclassifier_name\u001b[49m\u001b[38;5;132;43;01m}\u001b[39;49;00m\u001b[38;5;124;43m.json\u001b[39;49m\u001b[38;5;124;43m\"\u001b[39;49m\u001b[43m)\u001b[49m\n\u001b[0;32m    684\u001b[0m     \u001b[38;5;28;01mtry\u001b[39;00m:\n\u001b[0;32m    685\u001b[0m         \u001b[38;5;28;01mwith\u001b[39;00m \u001b[38;5;28mopen\u001b[39m(filename, \u001b[38;5;124m\"\u001b[39m\u001b[38;5;124mr\u001b[39m\u001b[38;5;124m\"\u001b[39m) \u001b[38;5;28;01mas\u001b[39;00m file:\n",
      "File \u001b[1;32m<frozen ntpath>:108\u001b[0m, in \u001b[0;36mjoin\u001b[1;34m(path, *paths)\u001b[0m\n",
      "\u001b[1;31mTypeError\u001b[0m: expected str, bytes or os.PathLike object, not list"
     ]
    }
   ],
   "source": [
    "plot_all_results(binary_classifiers.keys(), description, data_subdir)"
   ]
  }
 ],
 "metadata": {
  "kernelspec": {
   "display_name": "Python 3",
   "language": "python",
   "name": "python3"
  },
  "language_info": {
   "codemirror_mode": {
    "name": "ipython",
    "version": 3
   },
   "file_extension": ".py",
   "mimetype": "text/x-python",
   "name": "python",
   "nbconvert_exporter": "python",
   "pygments_lexer": "ipython3",
   "version": "3.12.3"
  }
 },
 "nbformat": 4,
 "nbformat_minor": 2
}
