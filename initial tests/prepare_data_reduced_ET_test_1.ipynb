{
 "cells": [
  {
   "cell_type": "code",
   "execution_count": 1,
   "metadata": {},
   "outputs": [],
   "source": [
    "import os\n",
    "import pickle\n",
    "import uproot\n",
    "import pandas as pd\n",
    "import numpy as np\n",
    "import uproot\n",
    "from sklearn.model_selection import train_test_split\n",
    "import matplotlib.pyplot as plt\n",
    "import plotly.express as px\n",
    "import awkward as ak\n",
    "from sklearn.metrics import accuracy_score, classification_report, confusion_matrix, mean_squared_error, roc_curve, auc\n",
    "from utilities import *"
   ]
  },
  {
   "cell_type": "code",
   "execution_count": null,
   "metadata": {},
   "outputs": [],
   "source": [
    "def prepare_data_4(test_size=0.2, accept_data_filename=\"l1calo_hist_EGZ_extended.root\", reject_data_filename=\"l1calo_hist_ZMUMU_extended.root\", data_subdir=\"ZMUMU_EGZ_extended_np_pd\",format_mode=\"SuperCell_ET\"):\n",
    "    save_path = os.path.join(os.path.pardir, \"data\", data_subdir)\n",
    "    if os.path.exists(os.path.join(save_path,\"np_data.npz\")) and os.path.exists(os.path.join(save_path,\"input_df.parquet\")):\n",
    "        print(f\"found preprepared data in {save_path}\")\n",
    "        np_data = np.load(os.path.join(save_path,\"np_data.npz\"))\n",
    "        input_np, labels_np = np_data[\"input_np\"], np_data[\"labels_np\"]\n",
    "        input_df = pd.read_parquet(os.path.join(save_path,\"input_df.parquet\"))\n",
    "\n",
    "\n",
    "    else:\n",
    "        print(f\"preprepared data in {save_path} is missing, preparing and saving here\")\n",
    "        accept_data_path= os.path.join(os.path.pardir, \"data\", accept_data_filename)\n",
    "        reject_data_path= os.path.join(os.path.pardir, \"data\", reject_data_filename)\n",
    "        DFs = import_data_files([accept_data_path, reject_data_path])\n",
    "\n",
    "        accepted_labels = np.ones(DFs[0].shape[0])\n",
    "        rejected_labels = np.zeros(DFs[1].shape[0])\n",
    "        accepted_df = pd.DataFrame({'offline_ele_pt': DFs[0]['offline_ele_pt'],'Label': 1})\n",
    "        rejected_df = pd.DataFrame({'offline_ele_pt': DFs[1]['offline_ele_pt'],'Label': 0})\n",
    "\n",
    "        input_np = format_numpy_training_input(DFs,format_mode)\n",
    "        input_df = pd.concat([accepted_df,rejected_df]).reset_index(drop=True)\n",
    "        labels_np = np.concatenate((accepted_labels, rejected_labels), axis=0)\n",
    "        \n",
    "        if not os.path.exists(save_path):\n",
    "            os.mkdir(save_path)\n",
    "        np.savez(os.path.join(save_path,\"np_data.npz\"), input_np=input_np,labels_np=labels_np)\n",
    "        input_df.to_parquet(os.path.join(save_path,\"input_df.parquet\"), index=False)\n",
    "\n",
    "    print(input_np[0].shape, input_np[0])\n",
    "    X_train, X_test, pd_passthrough_train, pd_passthrough_test, y_train, y_test = train_test_split(input_np, input_df, labels_np, test_size=test_size, random_state=42)\n",
    "\n",
    "    return X_train, X_test, y_train, y_test, pd_passthrough_train, pd_passthrough_test"
   ]
  },
  {
   "cell_type": "code",
   "execution_count": null,
   "metadata": {},
   "outputs": [],
   "source": [
    "def format_numpy_training_input(DFs,format_mode):\n",
    "    if format_mode == \"SuperCell_ET\":\n",
    "        accepted_numpy = ak.to_numpy(DFs[0]['SuperCell_ET'])\n",
    "        rejected_numpy = ak.to_numpy(DFs[1]['SuperCell_ET'])\n",
    "        \n",
    "    elif format_mode == \"iso_vars\":\n",
    "        columns = [\"eFEX_ReC\", \"eFEX_ReE\", \"eFEX_RhE\", \"eFEX_RhH\", \"eFEX_WsN\", \"eFEX_WsD\"]\n",
    "        accepted_numpy = DFs[0][columns].to_numpy(dtype=np.float32)\n",
    "        rejected_numpy = DFs[1][columns].to_numpy(dtype=np.float32)\n",
    "\n",
    "    elif format_mode == \"reduced_SuperCell_ET\":\n",
    "        full_accepted_numpy = ak.to_numpy(DFs[0]['SuperCell_ET'])\n",
    "        full_rejected_numpy = ak.to_numpy(DFs[1]['SuperCell_ET'])\n",
    "        accepted_seed_indecies = np.argmax(full_accepted_numpy[:, 49:52 + 1], axis=1) + 49\n",
    "        rejected_seed_indecies = np.argmax(full_rejected_numpy[:, 49:52 + 1], axis=1) + 49\n",
    "\n",
    "        delete_indices = {\n",
    "        49: [57, 58, 59, 61, 62, 63],  # Indices to delete for 49\n",
    "        50: [34, 38, 58, 59, 62, 63],  # Indices to delete for 50\n",
    "        51: [34, 35, 38, 39, 59, 63],  # Indices to delete for 51\n",
    "        52: [34, 35, 36, 38, 39, 40]}   # Indices to delete for 52\n",
    "\n",
    "        accepted_numpy = np.array([np.delete(row, delete_indices[cond]) for row, cond in zip(full_accepted_numpy, accepted_seed_indecies)])\n",
    "        rejected_numpy = np.array([np.delete(row, delete_indices[cond]) for row, cond in zip(full_rejected_numpy, rejected_seed_indecies)])\n",
    "\n",
    "\n",
    "    return np.concatenate((accepted_numpy, rejected_numpy), axis=0)\n",
    "    "
   ]
  },
  {
   "cell_type": "code",
   "execution_count": 2,
   "metadata": {},
   "outputs": [],
   "source": [
    "accept_data_path= os.path.join(os.path.pardir, \"data\", \"l1calo_hist_EGZ_extended.root\")\n",
    "reject_data_path= os.path.join(os.path.pardir, \"data\", \"l1calo_hist_ZMUMU_extended.root\")\n",
    "DFs = import_data_files([accept_data_path, reject_data_path])"
   ]
  },
  {
   "cell_type": "code",
   "execution_count": 3,
   "metadata": {},
   "outputs": [],
   "source": [
    "full_accepted_numpy = ak.to_numpy(DFs[0]['SuperCell_ET'])\n",
    "full_rejected_numpy = ak.to_numpy(DFs[1]['SuperCell_ET'])"
   ]
  },
  {
   "cell_type": "code",
   "execution_count": null,
   "metadata": {},
   "outputs": [],
   "source": [
    "accepted_seed_indices = np.argmax(full_accepted_numpy[:, 49:52 + 1], axis=1) + 49\n",
    "rejected_seed_indices = np.argmax(full_rejected_numpy[:, 49:52 + 1], axis=1) + 49\n",
    "\n",
    "delete_indices = {\n",
    "        49: [24, 25, 26, 28, 29, 30, 57, 58, 59, 61, 62, 63, 90, 91, 92, 94, 95, 96],  # Indices to delete for 49\n",
    "        50: [1, 5, 25, 26, 29, 30, 34, 38, 58, 59, 62, 63, 67, 71, 91, 92, 95, 96],  # Indices to delete for 50\n",
    "        51: [1, 2, 5, 6, 26, 30, 34, 35, 38, 39, 59, 63, 67, 68, 71, 72, 92, 96],  # Indices to delete for 51\n",
    "        52: [1, 2, 3, 5, 6, 7, 34, 35, 36, 38, 39, 40, 67, 68, 69, 71, 72, 73]}   # Indices to delete for 52"
   ]
  },
  {
   "cell_type": "code",
   "execution_count": null,
   "metadata": {},
   "outputs": [],
   "source": []
  },
  {
   "cell_type": "code",
   "execution_count": null,
   "metadata": {},
   "outputs": [],
   "source": [
    "\n",
    "accepted_numpy = np.array([np.delete(row, delete_indices[cond]) for row, cond in zip(full_accepted_numpy, accepted_seed_indices)])\n",
    "rejected_numpy = np.array([np.delete(row, delete_indices[cond]) for row, cond in zip(full_rejected_numpy, rejected_seed_indices)])\n"
   ]
  },
  {
   "cell_type": "code",
   "execution_count": 18,
   "metadata": {},
   "outputs": [
    {
     "name": "stdout",
     "output_type": "stream",
     "text": [
      "(81,) [0.         0.         0.         0.         0.         0.\n",
      " 0.         0.         0.         0.         0.         0.\n",
      " 0.         0.         0.         0.         0.         0.\n",
      " 0.         0.         0.         0.         0.         0.\n",
      " 0.         0.         0.         0.         0.         0.\n",
      " 0.         0.         5.6500001  0.         0.         1.70000005\n",
      " 4.07499981 0.         0.72500002 5.5        9.25       0.\n",
      " 0.         0.         0.         0.         0.         0.\n",
      " 0.         0.         0.         0.         0.         0.\n",
      " 0.         0.         0.         0.         0.         0.\n",
      " 0.         0.         0.32499999 0.69999999 0.         0.\n",
      " 0.         0.         0.         0.         0.         0.\n",
      " 0.         0.         0.         0.         0.         0.\n",
      " 0.         0.         0.        ]\n"
     ]
    }
   ],
   "source": [
    "input_np = np.concatenate((accepted_numpy, rejected_numpy), axis=0)\n",
    "print(input_np[0].shape, input_np[10])"
   ]
  }
 ],
 "metadata": {
  "kernelspec": {
   "display_name": "Python 3",
   "language": "python",
   "name": "python3"
  },
  "language_info": {
   "codemirror_mode": {
    "name": "ipython",
    "version": 3
   },
   "file_extension": ".py",
   "mimetype": "text/x-python",
   "name": "python",
   "nbconvert_exporter": "python",
   "pygments_lexer": "ipython3",
   "version": "3.12.7"
  }
 },
 "nbformat": 4,
 "nbformat_minor": 2
}
