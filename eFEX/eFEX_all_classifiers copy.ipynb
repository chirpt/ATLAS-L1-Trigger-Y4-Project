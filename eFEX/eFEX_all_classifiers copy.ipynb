{
 "cells": [
  {
   "cell_type": "code",
   "execution_count": 1,
   "metadata": {},
   "outputs": [
    {
     "name": "stderr",
     "output_type": "stream",
     "text": [
      "C:\\Users\\tymch\\AppData\\Local\\Packages\\PythonSoftwareFoundation.Python.3.11_qbz5n2kfra8p0\\LocalCache\\local-packages\\Python311\\site-packages\\tqdm\\auto.py:21: TqdmWarning: IProgress not found. Please update jupyter and ipywidgets. See https://ipywidgets.readthedocs.io/en/stable/user_install.html\n",
      "  from .autonotebook import tqdm as notebook_tqdm\n"
     ]
    }
   ],
   "source": [
    "import sys\n",
    "import os\n",
    "\n",
    "parent_dir = os.path.dirname(os.getcwd())\n",
    "sys.path.append(parent_dir)\n",
    "\n",
    "from utilities_new import *\n",
    "\n",
    "description = [\"99_supercells\", \"88_reduced\", \"iso\"]\n",
    "data_subdir = [\"ZMUMU_EGZ_original_eFEX\", \"eFEX_with_newest_Topo_files\"]\n",
    "accept_data_filename = [\"l1calo_hist_EGZ_extended.root\", \"l1calo_topocluster_test_Zee.root\"]\n",
    "reject_data_filename = [\"l1calo_hist_ZMUMU_extended.root\", \"ZMUMU_TopoCluster_Supercell_Large.root\"]\n",
    "format_mode = [\"SuperCell_ET\", \"reduced_SuperCell_ET\", \"iso_vars\"]\n"
   ]
  },
  {
   "cell_type": "code",
   "execution_count": 2,
   "metadata": {},
   "outputs": [
    {
     "name": "stdout",
     "output_type": "stream",
     "text": [
      "Imported 43 binary classifiers:\n",
      "['AdaBoostClassifier', 'BaggingClassifier', 'BernoulliNB', 'CalibratedClassifierCV', 'CategoricalNB', 'ClassifierChain', 'ComplementNB', 'DecisionTreeClassifier', 'DummyClassifier', 'ExtraTreeClassifier', 'ExtraTreesClassifier', 'FixedThresholdClassifier', 'GaussianNB', 'GaussianProcessClassifier', 'GradientBoostingClassifier', 'HistGradientBoostingClassifier', 'KNeighborsClassifier', 'LabelPropagation', 'LabelSpreading', 'LinearDiscriminantAnalysis', 'LinearSVC', 'LogisticRegression', 'LogisticRegressionCV', 'MLPClassifier', 'MultiOutputClassifier', 'MultinomialNB', 'NearestCentroid', 'NuSVC', 'OneVsOneClassifier', 'OneVsRestClassifier', 'OutputCodeClassifier', 'PassiveAggressiveClassifier', 'Perceptron', 'QuadraticDiscriminantAnalysis', 'RadiusNeighborsClassifier', 'RandomForestClassifier', 'RidgeClassifier', 'RidgeClassifierCV', 'SGDClassifier', 'SVC', 'TunedThresholdClassifierCV', 'VotingClassifier', 'XGBClassifier']\n"
     ]
    },
    {
     "name": "stderr",
     "output_type": "stream",
     "text": [
      "  0%|          | 0/2 [00:00<?, ?it/s]"
     ]
    },
    {
     "name": "stdout",
     "output_type": "stream",
     "text": [
      "Log saved to ..\\data\\ZMUMU_EGZ_original_eFEX_99_supercells\\log.json\n",
      "preprepared data in ..\\data\\ZMUMU_EGZ_original_eFEX_99_supercells is missing, preparing and saving here\n",
      "running sup\n",
      "found data preparation log in ..\\data\\ZMUMU_EGZ_original_eFEX_99_supercells\\log.json\n",
      "Log saved to ZMUMU_EGZ_original_eFEX_99_supercells\\log.json\n"
     ]
    },
    {
     "name": "stderr",
     "output_type": "stream",
     "text": [
      "\n",
      "\u001b[AC:\\Users\\tymch\\AppData\\Local\\Packages\\PythonSoftwareFoundation.Python.3.11_qbz5n2kfra8p0\\LocalCache\\local-packages\\Python311\\site-packages\\sklearn\\ensemble\\_weight_boosting.py:527: FutureWarning: The SAMME.R algorithm (the default) is deprecated and will be removed in 1.6. Use the SAMME algorithm to circumvent this warning.\n",
      "  warnings.warn(\n"
     ]
    },
    {
     "name": "stdout",
     "output_type": "stream",
     "text": [
      "\n",
      "\n",
      "Evaluation of AdaBoostClassifier\n",
      "Confusion Matrix:\n",
      " [[27143  1467]\n",
      " [ 1873 15699]]\n",
      "Accuracy: 0.92767745\n",
      "Recall: 0.89340997\n",
      "Precision: 0.91454037\n",
      "F1 Score: 0.90385169\n",
      "Classification Report:\n",
      "               precision    recall  f1-score   support\n",
      "\n",
      "         0.0       0.94      0.95      0.94     28610\n",
      "         1.0       0.91      0.89      0.90     17572\n",
      "\n",
      "    accuracy                           0.93     46182\n",
      "   macro avg       0.92      0.92      0.92     46182\n",
      "weighted avg       0.93      0.93      0.93     46182\n",
      "\n",
      "Mean Squared Error: 0.07232255\n",
      "\n",
      "ROC data saved to ZMUMU_EGZ_original_eFEX_99_supercells\\roc\\roc_99_supercells_AdaBoostClassifier.json\n"
     ]
    },
    {
     "name": "stderr",
     "output_type": "stream",
     "text": [
      "\n",
      "\u001b[A"
     ]
    },
    {
     "name": "stdout",
     "output_type": "stream",
     "text": [
      "Precision-Recall data saved to ZMUMU_EGZ_original_eFEX_99_supercells\\precision_recall\\precision_recall_99_supercells_AdaBoostClassifier.json\n",
      "Efficiency vs Electron PT data saved to ZMUMU_EGZ_original_eFEX_99_supercells\\efficiency_vs_ele_pt\\efficiency_vs_ele_pt_99_supercells_AdaBoostClassifier.json\n",
      "\n",
      "\n",
      "Evaluation of BaggingClassifier\n",
      "Confusion Matrix:\n",
      " [[27458  1152]\n",
      " [  859 16713]]\n",
      "Accuracy: 0.95645490\n",
      "Recall: 0.95111541\n",
      "Precision: 0.93551637\n",
      "F1 Score: 0.94325140\n",
      "Classification Report:\n",
      "               precision    recall  f1-score   support\n",
      "\n",
      "         0.0       0.97      0.96      0.96     28610\n",
      "         1.0       0.94      0.95      0.94     17572\n",
      "\n",
      "    accuracy                           0.96     46182\n",
      "   macro avg       0.95      0.96      0.95     46182\n",
      "weighted avg       0.96      0.96      0.96     46182\n",
      "\n",
      "Mean Squared Error: 0.04354510\n",
      "\n",
      "ROC data saved to ZMUMU_EGZ_original_eFEX_99_supercells\\roc\\roc_99_supercells_BaggingClassifier.json\n"
     ]
    },
    {
     "name": "stderr",
     "output_type": "stream",
     "text": [
      "\n",
      "100%|██████████| 2/2 [01:02<00:00, 31.49s/it]\n"
     ]
    },
    {
     "name": "stdout",
     "output_type": "stream",
     "text": [
      "Precision-Recall data saved to ZMUMU_EGZ_original_eFEX_99_supercells\\precision_recall\\precision_recall_99_supercells_BaggingClassifier.json\n",
      "Efficiency vs Electron PT data saved to ZMUMU_EGZ_original_eFEX_99_supercells\\efficiency_vs_ele_pt\\efficiency_vs_ele_pt_99_supercells_BaggingClassifier.json\n",
      "Results saved to ZMUMU_EGZ_original_eFEX_99_supercells/ZMUMU_EGZ_original_eFEX_99_supercells_99_supercells_all.csv\n",
      "Log saved to ..\\data\\ZMUMU_EGZ_original_eFEX_88_reduced\\log.json\n",
      "preprepared data in ..\\data\\ZMUMU_EGZ_original_eFEX_88_reduced is missing, preparing and saving here\n",
      "found data preparation log in ..\\data\\ZMUMU_EGZ_original_eFEX_88_reduced\\log.json\n",
      "Log saved to ZMUMU_EGZ_original_eFEX_88_reduced\\log.json\n"
     ]
    },
    {
     "name": "stderr",
     "output_type": "stream",
     "text": [
      "\n",
      "\u001b[AC:\\Users\\tymch\\AppData\\Local\\Packages\\PythonSoftwareFoundation.Python.3.11_qbz5n2kfra8p0\\LocalCache\\local-packages\\Python311\\site-packages\\sklearn\\ensemble\\_weight_boosting.py:527: FutureWarning: The SAMME.R algorithm (the default) is deprecated and will be removed in 1.6. Use the SAMME algorithm to circumvent this warning.\n",
      "  warnings.warn(\n"
     ]
    },
    {
     "name": "stdout",
     "output_type": "stream",
     "text": [
      "\n",
      "\n",
      "Evaluation of AdaBoostClassifier\n",
      "Confusion Matrix:\n",
      " [[26915  1695]\n",
      " [ 1912 15660]]\n",
      "Accuracy: 0.92189598\n",
      "Recall: 0.89119053\n",
      "Precision: 0.90233362\n",
      "F1 Score: 0.89672746\n",
      "Classification Report:\n",
      "               precision    recall  f1-score   support\n",
      "\n",
      "         0.0       0.93      0.94      0.94     28610\n",
      "         1.0       0.90      0.89      0.90     17572\n",
      "\n",
      "    accuracy                           0.92     46182\n",
      "   macro avg       0.92      0.92      0.92     46182\n",
      "weighted avg       0.92      0.92      0.92     46182\n",
      "\n",
      "Mean Squared Error: 0.07810402\n",
      "\n",
      "ROC data saved to ZMUMU_EGZ_original_eFEX_88_reduced\\roc\\roc_88_reduced_AdaBoostClassifier.json\n"
     ]
    },
    {
     "name": "stderr",
     "output_type": "stream",
     "text": [
      "\n",
      "\u001b[A"
     ]
    },
    {
     "name": "stdout",
     "output_type": "stream",
     "text": [
      "Precision-Recall data saved to ZMUMU_EGZ_original_eFEX_88_reduced\\precision_recall\\precision_recall_88_reduced_AdaBoostClassifier.json\n",
      "Efficiency vs Electron PT data saved to ZMUMU_EGZ_original_eFEX_88_reduced\\efficiency_vs_ele_pt\\efficiency_vs_ele_pt_88_reduced_AdaBoostClassifier.json\n",
      "\n",
      "\n",
      "Evaluation of BaggingClassifier\n",
      "Confusion Matrix:\n",
      " [[27488  1122]\n",
      " [  915 16657]]\n",
      "Accuracy: 0.95589191\n",
      "Recall: 0.94792852\n",
      "Precision: 0.93689184\n",
      "F1 Score: 0.94237787\n",
      "Classification Report:\n",
      "               precision    recall  f1-score   support\n",
      "\n",
      "         0.0       0.97      0.96      0.96     28610\n",
      "         1.0       0.94      0.95      0.94     17572\n",
      "\n",
      "    accuracy                           0.96     46182\n",
      "   macro avg       0.95      0.95      0.95     46182\n",
      "weighted avg       0.96      0.96      0.96     46182\n",
      "\n",
      "Mean Squared Error: 0.04410809\n",
      "\n",
      "ROC data saved to ZMUMU_EGZ_original_eFEX_88_reduced\\roc\\roc_88_reduced_BaggingClassifier.json\n"
     ]
    },
    {
     "name": "stderr",
     "output_type": "stream",
     "text": [
      "\n",
      "100%|██████████| 2/2 [00:55<00:00, 27.87s/it]\n"
     ]
    },
    {
     "name": "stdout",
     "output_type": "stream",
     "text": [
      "Precision-Recall data saved to ZMUMU_EGZ_original_eFEX_88_reduced\\precision_recall\\precision_recall_88_reduced_BaggingClassifier.json\n",
      "Efficiency vs Electron PT data saved to ZMUMU_EGZ_original_eFEX_88_reduced\\efficiency_vs_ele_pt\\efficiency_vs_ele_pt_88_reduced_BaggingClassifier.json\n",
      "Results saved to ZMUMU_EGZ_original_eFEX_88_reduced/ZMUMU_EGZ_original_eFEX_88_reduced_88_reduced_all.csv\n",
      "Log saved to ..\\data\\ZMUMU_EGZ_original_eFEX_iso\\log.json\n",
      "preprepared data in ..\\data\\ZMUMU_EGZ_original_eFEX_iso is missing, preparing and saving here\n",
      "found data preparation log in ..\\data\\ZMUMU_EGZ_original_eFEX_iso\\log.json\n",
      "Log saved to ZMUMU_EGZ_original_eFEX_iso\\log.json\n"
     ]
    },
    {
     "name": "stderr",
     "output_type": "stream",
     "text": [
      "\n",
      "\u001b[AC:\\Users\\tymch\\AppData\\Local\\Packages\\PythonSoftwareFoundation.Python.3.11_qbz5n2kfra8p0\\LocalCache\\local-packages\\Python311\\site-packages\\sklearn\\ensemble\\_weight_boosting.py:527: FutureWarning: The SAMME.R algorithm (the default) is deprecated and will be removed in 1.6. Use the SAMME algorithm to circumvent this warning.\n",
      "  warnings.warn(\n"
     ]
    },
    {
     "name": "stdout",
     "output_type": "stream",
     "text": [
      "\n",
      "\n",
      "Evaluation of AdaBoostClassifier\n",
      "Confusion Matrix:\n",
      " [[27334  1276]\n",
      " [  718 16854]]\n",
      "Accuracy: 0.95682300\n",
      "Recall: 0.95913954\n",
      "Precision: 0.92961942\n",
      "F1 Score: 0.94414879\n",
      "Classification Report:\n",
      "               precision    recall  f1-score   support\n",
      "\n",
      "         0.0       0.97      0.96      0.96     28610\n",
      "         1.0       0.93      0.96      0.94     17572\n",
      "\n",
      "    accuracy                           0.96     46182\n",
      "   macro avg       0.95      0.96      0.95     46182\n",
      "weighted avg       0.96      0.96      0.96     46182\n",
      "\n",
      "Mean Squared Error: 0.04317700\n",
      "\n",
      "ROC data saved to ZMUMU_EGZ_original_eFEX_iso\\roc\\roc_iso_AdaBoostClassifier.json\n"
     ]
    },
    {
     "name": "stderr",
     "output_type": "stream",
     "text": [
      "\n",
      "\u001b[A"
     ]
    },
    {
     "name": "stdout",
     "output_type": "stream",
     "text": [
      "Precision-Recall data saved to ZMUMU_EGZ_original_eFEX_iso\\precision_recall\\precision_recall_iso_AdaBoostClassifier.json\n",
      "Efficiency vs Electron PT data saved to ZMUMU_EGZ_original_eFEX_iso\\efficiency_vs_ele_pt\\efficiency_vs_ele_pt_iso_AdaBoostClassifier.json\n"
     ]
    },
    {
     "name": "stderr",
     "output_type": "stream",
     "text": [
      "\n",
      "100%|██████████| 2/2 [00:09<00:00,  4.91s/it]\n",
      "100%|██████████| 3/3 [05:14<00:00, 104.92s/it]\n",
      " 50%|█████     | 1/2 [05:14<05:14, 314.76s/it]"
     ]
    },
    {
     "name": "stdout",
     "output_type": "stream",
     "text": [
      "\n",
      "\n",
      "Evaluation of BaggingClassifier\n",
      "Confusion Matrix:\n",
      " [[27453  1157]\n",
      " [  823 16749]]\n",
      "Accuracy: 0.95712615\n",
      "Recall: 0.95316412\n",
      "Precision: 0.93538479\n",
      "F1 Score: 0.94419077\n",
      "Classification Report:\n",
      "               precision    recall  f1-score   support\n",
      "\n",
      "         0.0       0.97      0.96      0.97     28610\n",
      "         1.0       0.94      0.95      0.94     17572\n",
      "\n",
      "    accuracy                           0.96     46182\n",
      "   macro avg       0.95      0.96      0.95     46182\n",
      "weighted avg       0.96      0.96      0.96     46182\n",
      "\n",
      "Mean Squared Error: 0.04287385\n",
      "\n",
      "ROC data saved to ZMUMU_EGZ_original_eFEX_iso\\roc\\roc_iso_BaggingClassifier.json\n",
      "Precision-Recall data saved to ZMUMU_EGZ_original_eFEX_iso\\precision_recall\\precision_recall_iso_BaggingClassifier.json\n",
      "Efficiency vs Electron PT data saved to ZMUMU_EGZ_original_eFEX_iso\\efficiency_vs_ele_pt\\efficiency_vs_ele_pt_iso_BaggingClassifier.json\n",
      "Results saved to ZMUMU_EGZ_original_eFEX_iso/ZMUMU_EGZ_original_eFEX_iso_iso_all.csv\n"
     ]
    },
    {
     "name": "stderr",
     "output_type": "stream",
     "text": []
    },
    {
     "name": "stdout",
     "output_type": "stream",
     "text": [
      "Log saved to ..\\data\\eFEX_with_newest_Topo_files_99_supercells\\log.json\n",
      "preprepared data in ..\\data\\eFEX_with_newest_Topo_files_99_supercells is missing, preparing and saving here\n",
      "running sup\n",
      "found data preparation log in ..\\data\\eFEX_with_newest_Topo_files_99_supercells\\log.json\n",
      "Log saved to eFEX_with_newest_Topo_files_99_supercells\\log.json\n"
     ]
    },
    {
     "name": "stderr",
     "output_type": "stream",
     "text": [
      "\n",
      "\u001b[AC:\\Users\\tymch\\AppData\\Local\\Packages\\PythonSoftwareFoundation.Python.3.11_qbz5n2kfra8p0\\LocalCache\\local-packages\\Python311\\site-packages\\sklearn\\ensemble\\_weight_boosting.py:527: FutureWarning: The SAMME.R algorithm (the default) is deprecated and will be removed in 1.6. Use the SAMME algorithm to circumvent this warning.\n",
      "  warnings.warn(\n"
     ]
    },
    {
     "name": "stdout",
     "output_type": "stream",
     "text": [
      "\n",
      "\n",
      "Evaluation of AdaBoostClassifier\n",
      "Confusion Matrix:\n",
      " [[95036 12111]\n",
      " [ 5722 68591]]\n",
      "Accuracy: 0.90172490\n",
      "Recall: 0.92300136\n",
      "Precision: 0.84992937\n",
      "F1 Score: 0.88495952\n",
      "Classification Report:\n",
      "               precision    recall  f1-score   support\n",
      "\n",
      "         0.0       0.94      0.89      0.91    107147\n",
      "         1.0       0.85      0.92      0.88     74313\n",
      "\n",
      "    accuracy                           0.90    181460\n",
      "   macro avg       0.90      0.90      0.90    181460\n",
      "weighted avg       0.91      0.90      0.90    181460\n",
      "\n",
      "Mean Squared Error: 0.09827510\n",
      "\n",
      "ROC data saved to eFEX_with_newest_Topo_files_99_supercells\\roc\\roc_99_supercells_AdaBoostClassifier.json\n"
     ]
    },
    {
     "name": "stderr",
     "output_type": "stream",
     "text": [
      "\n",
      "\u001b[A"
     ]
    },
    {
     "name": "stdout",
     "output_type": "stream",
     "text": [
      "Precision-Recall data saved to eFEX_with_newest_Topo_files_99_supercells\\precision_recall\\precision_recall_99_supercells_AdaBoostClassifier.json\n",
      "Efficiency vs Electron PT data saved to eFEX_with_newest_Topo_files_99_supercells\\efficiency_vs_ele_pt\\efficiency_vs_ele_pt_99_supercells_AdaBoostClassifier.json\n",
      "\n",
      "\n",
      "Evaluation of BaggingClassifier\n",
      "Confusion Matrix:\n",
      " [[99499  7648]\n",
      " [ 5309 69004]]\n",
      "Accuracy: 0.92859583\n",
      "Recall: 0.92855893\n",
      "Precision: 0.90022439\n",
      "F1 Score: 0.91417216\n",
      "Classification Report:\n",
      "               precision    recall  f1-score   support\n",
      "\n",
      "         0.0       0.95      0.93      0.94    107147\n",
      "         1.0       0.90      0.93      0.91     74313\n",
      "\n",
      "    accuracy                           0.93    181460\n",
      "   macro avg       0.92      0.93      0.93    181460\n",
      "weighted avg       0.93      0.93      0.93    181460\n",
      "\n",
      "Mean Squared Error: 0.07140417\n",
      "\n",
      "ROC data saved to eFEX_with_newest_Topo_files_99_supercells\\roc\\roc_99_supercells_BaggingClassifier.json\n"
     ]
    },
    {
     "name": "stderr",
     "output_type": "stream",
     "text": [
      "\n",
      "100%|██████████| 2/2 [05:02<00:00, 151.21s/it]\n"
     ]
    },
    {
     "name": "stdout",
     "output_type": "stream",
     "text": [
      "Precision-Recall data saved to eFEX_with_newest_Topo_files_99_supercells\\precision_recall\\precision_recall_99_supercells_BaggingClassifier.json\n",
      "Efficiency vs Electron PT data saved to eFEX_with_newest_Topo_files_99_supercells\\efficiency_vs_ele_pt\\efficiency_vs_ele_pt_99_supercells_BaggingClassifier.json\n",
      "Results saved to eFEX_with_newest_Topo_files_99_supercells/eFEX_with_newest_Topo_files_99_supercells_99_supercells_all.csv\n",
      "Log saved to ..\\data\\eFEX_with_newest_Topo_files_88_reduced\\log.json\n",
      "preprepared data in ..\\data\\eFEX_with_newest_Topo_files_88_reduced is missing, preparing and saving here\n",
      "found data preparation log in ..\\data\\eFEX_with_newest_Topo_files_88_reduced\\log.json\n",
      "Log saved to eFEX_with_newest_Topo_files_88_reduced\\log.json\n"
     ]
    },
    {
     "name": "stderr",
     "output_type": "stream",
     "text": [
      "\n",
      "\u001b[AC:\\Users\\tymch\\AppData\\Local\\Packages\\PythonSoftwareFoundation.Python.3.11_qbz5n2kfra8p0\\LocalCache\\local-packages\\Python311\\site-packages\\sklearn\\ensemble\\_weight_boosting.py:527: FutureWarning: The SAMME.R algorithm (the default) is deprecated and will be removed in 1.6. Use the SAMME algorithm to circumvent this warning.\n",
      "  warnings.warn(\n"
     ]
    },
    {
     "name": "stdout",
     "output_type": "stream",
     "text": [
      "\n",
      "\n",
      "Evaluation of AdaBoostClassifier\n",
      "Confusion Matrix:\n",
      " [[93304 13843]\n",
      " [ 6947 67366]]\n",
      "Accuracy: 0.88542930\n",
      "Recall: 0.90651703\n",
      "Precision: 0.82953860\n",
      "F1 Score: 0.86632116\n",
      "Classification Report:\n",
      "               precision    recall  f1-score   support\n",
      "\n",
      "         0.0       0.93      0.87      0.90    107147\n",
      "         1.0       0.83      0.91      0.87     74313\n",
      "\n",
      "    accuracy                           0.89    181460\n",
      "   macro avg       0.88      0.89      0.88    181460\n",
      "weighted avg       0.89      0.89      0.89    181460\n",
      "\n",
      "Mean Squared Error: 0.11457070\n",
      "\n",
      "ROC data saved to eFEX_with_newest_Topo_files_88_reduced\\roc\\roc_88_reduced_AdaBoostClassifier.json\n"
     ]
    },
    {
     "name": "stderr",
     "output_type": "stream",
     "text": [
      "\n",
      "\u001b[A"
     ]
    },
    {
     "name": "stdout",
     "output_type": "stream",
     "text": [
      "Precision-Recall data saved to eFEX_with_newest_Topo_files_88_reduced\\precision_recall\\precision_recall_88_reduced_AdaBoostClassifier.json\n",
      "Efficiency vs Electron PT data saved to eFEX_with_newest_Topo_files_88_reduced\\efficiency_vs_ele_pt\\efficiency_vs_ele_pt_88_reduced_AdaBoostClassifier.json\n",
      "\n",
      "\n",
      "Evaluation of BaggingClassifier\n",
      "Confusion Matrix:\n",
      " [[97331  9816]\n",
      " [ 7299 67014]]\n",
      "Accuracy: 0.90568169\n",
      "Recall: 0.90178031\n",
      "Precision: 0.87223741\n",
      "F1 Score: 0.88676287\n",
      "Classification Report:\n",
      "               precision    recall  f1-score   support\n",
      "\n",
      "         0.0       0.93      0.91      0.92    107147\n",
      "         1.0       0.87      0.90      0.89     74313\n",
      "\n",
      "    accuracy                           0.91    181460\n",
      "   macro avg       0.90      0.91      0.90    181460\n",
      "weighted avg       0.91      0.91      0.91    181460\n",
      "\n",
      "Mean Squared Error: 0.09431831\n",
      "\n",
      "ROC data saved to eFEX_with_newest_Topo_files_88_reduced\\roc\\roc_88_reduced_BaggingClassifier.json\n"
     ]
    },
    {
     "name": "stderr",
     "output_type": "stream",
     "text": [
      "\n",
      "100%|██████████| 2/2 [04:11<00:00, 125.95s/it]\n"
     ]
    },
    {
     "name": "stdout",
     "output_type": "stream",
     "text": [
      "Precision-Recall data saved to eFEX_with_newest_Topo_files_88_reduced\\precision_recall\\precision_recall_88_reduced_BaggingClassifier.json\n",
      "Efficiency vs Electron PT data saved to eFEX_with_newest_Topo_files_88_reduced\\efficiency_vs_ele_pt\\efficiency_vs_ele_pt_88_reduced_BaggingClassifier.json\n",
      "Results saved to eFEX_with_newest_Topo_files_88_reduced/eFEX_with_newest_Topo_files_88_reduced_88_reduced_all.csv\n",
      "Log saved to ..\\data\\eFEX_with_newest_Topo_files_iso\\log.json\n",
      "preprepared data in ..\\data\\eFEX_with_newest_Topo_files_iso is missing, preparing and saving here\n",
      "found data preparation log in ..\\data\\eFEX_with_newest_Topo_files_iso\\log.json\n",
      "Log saved to eFEX_with_newest_Topo_files_iso\\log.json\n"
     ]
    },
    {
     "name": "stderr",
     "output_type": "stream",
     "text": [
      "\n",
      "\u001b[AC:\\Users\\tymch\\AppData\\Local\\Packages\\PythonSoftwareFoundation.Python.3.11_qbz5n2kfra8p0\\LocalCache\\local-packages\\Python311\\site-packages\\sklearn\\ensemble\\_weight_boosting.py:527: FutureWarning: The SAMME.R algorithm (the default) is deprecated and will be removed in 1.6. Use the SAMME algorithm to circumvent this warning.\n",
      "  warnings.warn(\n"
     ]
    },
    {
     "name": "stdout",
     "output_type": "stream",
     "text": [
      "\n",
      "\n",
      "Evaluation of AdaBoostClassifier\n",
      "Confusion Matrix:\n",
      " [[96083 11064]\n",
      " [ 4071 70242]]\n",
      "Accuracy: 0.91659319\n",
      "Recall: 0.94521820\n",
      "Precision: 0.86392148\n",
      "F1 Score: 0.90274324\n",
      "Classification Report:\n",
      "               precision    recall  f1-score   support\n",
      "\n",
      "         0.0       0.96      0.90      0.93    107147\n",
      "         1.0       0.86      0.95      0.90     74313\n",
      "\n",
      "    accuracy                           0.92    181460\n",
      "   macro avg       0.91      0.92      0.91    181460\n",
      "weighted avg       0.92      0.92      0.92    181460\n",
      "\n",
      "Mean Squared Error: 0.08340681\n",
      "\n",
      "ROC data saved to eFEX_with_newest_Topo_files_iso\\roc\\roc_iso_AdaBoostClassifier.json\n"
     ]
    },
    {
     "name": "stderr",
     "output_type": "stream",
     "text": [
      "\n",
      "\u001b[A"
     ]
    },
    {
     "name": "stdout",
     "output_type": "stream",
     "text": [
      "Precision-Recall data saved to eFEX_with_newest_Topo_files_iso\\precision_recall\\precision_recall_iso_AdaBoostClassifier.json\n",
      "Efficiency vs Electron PT data saved to eFEX_with_newest_Topo_files_iso\\efficiency_vs_ele_pt\\efficiency_vs_ele_pt_iso_AdaBoostClassifier.json\n",
      "\n",
      "\n",
      "Evaluation of BaggingClassifier\n",
      "Confusion Matrix:\n",
      " [[97898  9249]\n",
      " [ 6705 67608]]\n",
      "Accuracy: 0.91207980\n",
      "Recall: 0.90977353\n",
      "Precision: 0.87965963\n",
      "F1 Score: 0.89446319\n",
      "Classification Report:\n",
      "               precision    recall  f1-score   support\n",
      "\n",
      "         0.0       0.94      0.91      0.92    107147\n",
      "         1.0       0.88      0.91      0.89     74313\n",
      "\n",
      "    accuracy                           0.91    181460\n",
      "   macro avg       0.91      0.91      0.91    181460\n",
      "weighted avg       0.91      0.91      0.91    181460\n",
      "\n",
      "Mean Squared Error: 0.08792020\n",
      "\n",
      "ROC data saved to eFEX_with_newest_Topo_files_iso\\roc\\roc_iso_BaggingClassifier.json\n"
     ]
    },
    {
     "name": "stderr",
     "output_type": "stream",
     "text": [
      "\n",
      "100%|██████████| 2/2 [00:49<00:00, 24.85s/it]\n",
      "100%|██████████| 3/3 [23:11<00:00, 463.97s/it]\n",
      "100%|██████████| 2/2 [28:26<00:00, 853.33s/it]"
     ]
    },
    {
     "name": "stdout",
     "output_type": "stream",
     "text": [
      "Precision-Recall data saved to eFEX_with_newest_Topo_files_iso\\precision_recall\\precision_recall_iso_BaggingClassifier.json\n",
      "Efficiency vs Electron PT data saved to eFEX_with_newest_Topo_files_iso\\efficiency_vs_ele_pt\\efficiency_vs_ele_pt_iso_BaggingClassifier.json\n",
      "Results saved to eFEX_with_newest_Topo_files_iso/eFEX_with_newest_Topo_files_iso_iso_all.csv\n"
     ]
    },
    {
     "name": "stderr",
     "output_type": "stream",
     "text": [
      "\n"
     ]
    },
    {
     "data": {
      "text/plain": [
       "<Figure size 640x480 with 0 Axes>"
      ]
     },
     "metadata": {},
     "output_type": "display_data"
    }
   ],
   "source": [
    "binary_classifiers = import_all_classifiers()\n",
    "binary_classifiers= dict(list(binary_classifiers.items())[:2])\n",
    "\n",
    "for i in tqdm(range(len(data_subdir))):\n",
    "    for j in tqdm(range(len(description))):\n",
    "        id = f\"{data_subdir[i]}_{description[j]}\"\n",
    "        X_train, X_test, y_train, y_test, pd_passthrough_train, pd_passthrough_test = prepare_data(accept_data_filename = accept_data_filename[i], reject_data_filename = reject_data_filename[i], data_subdir = id, format_mode = format_mode[j], get_pT=True)\n",
    "        results = train_evaluate_all_classifiers(binary_classifiers, X_train, X_test, y_train, y_test, pd_passthrough_train, pd_passthrough_test, description[j], id)\n",
    "        # plot_all_results(binary_classifiers.keys(), description, data_subdir)"
   ]
  },
  {
   "cell_type": "code",
   "execution_count": 3,
   "metadata": {},
   "outputs": [
    {
     "ename": "TypeError",
     "evalue": "expected str, bytes or os.PathLike object, not list",
     "output_type": "error",
     "traceback": [
      "\u001b[1;31m---------------------------------------------------------------------------\u001b[0m",
      "\u001b[1;31mTypeError\u001b[0m                                 Traceback (most recent call last)",
      "Cell \u001b[1;32mIn[3], line 1\u001b[0m\n\u001b[1;32m----> 1\u001b[0m \u001b[43mplot_all_results\u001b[49m\u001b[43m(\u001b[49m\u001b[43mbinary_classifiers\u001b[49m\u001b[38;5;241;43m.\u001b[39;49m\u001b[43mkeys\u001b[49m\u001b[43m(\u001b[49m\u001b[43m)\u001b[49m\u001b[43m,\u001b[49m\u001b[43m \u001b[49m\u001b[43mdescription\u001b[49m\u001b[43m,\u001b[49m\u001b[43m \u001b[49m\u001b[43mdata_subdir\u001b[49m\u001b[43m)\u001b[49m\n",
      "File \u001b[1;32mc:\\Users\\tymch\\OneDrive - University of Birmingham\\Desktop\\ATLAS\\ATLAS-L1-Trigger-Y4-Project\\utilities_new.py:664\u001b[0m, in \u001b[0;36mplot_all_results\u001b[1;34m(binary_classifier_names, description, data_subdir)\u001b[0m\n\u001b[0;32m    662\u001b[0m \u001b[38;5;28;01mdef\u001b[39;00m \u001b[38;5;21mplot_all_results\u001b[39m(binary_classifier_names, description, data_subdir):\n\u001b[0;32m    663\u001b[0m     \u001b[38;5;28;01mfor\u001b[39;00m classifier_name \u001b[38;5;129;01min\u001b[39;00m binary_classifier_names:\n\u001b[1;32m--> 664\u001b[0m         fpr, tpr, roc_auc \u001b[38;5;241m=\u001b[39m \u001b[43mread_roc\u001b[49m\u001b[43m(\u001b[49m\u001b[43mclassifier_name\u001b[49m\u001b[43m,\u001b[49m\u001b[43m \u001b[49m\u001b[43mdescription\u001b[49m\u001b[43m,\u001b[49m\u001b[43m \u001b[49m\u001b[43mdata_subdir\u001b[49m\u001b[43m)\u001b[49m\n\u001b[0;32m    665\u001b[0m         precision, recall, pr_auc, chance_level \u001b[38;5;241m=\u001b[39m read_precision_recall(classifier_name, description, data_subdir)\n\u001b[0;32m    666\u001b[0m         bins, electrons_efficiency \u001b[38;5;241m=\u001b[39m read_efficiency_vs_ele_PT(classifier_name, description, data_subdir)\n",
      "File \u001b[1;32mc:\\Users\\tymch\\OneDrive - University of Birmingham\\Desktop\\ATLAS\\ATLAS-L1-Trigger-Y4-Project\\utilities_new.py:633\u001b[0m, in \u001b[0;36mread_roc\u001b[1;34m(classifier_name, description, data_subdir)\u001b[0m\n\u001b[0;32m    632\u001b[0m \u001b[38;5;28;01mdef\u001b[39;00m \u001b[38;5;21mread_roc\u001b[39m(classifier_name, description, data_subdir):\n\u001b[1;32m--> 633\u001b[0m     filename \u001b[38;5;241m=\u001b[39m \u001b[43mos\u001b[49m\u001b[38;5;241;43m.\u001b[39;49m\u001b[43mpath\u001b[49m\u001b[38;5;241;43m.\u001b[39;49m\u001b[43mjoin\u001b[49m\u001b[43m(\u001b[49m\u001b[43mdata_subdir\u001b[49m\u001b[43m,\u001b[49m\u001b[43m \u001b[49m\u001b[38;5;124;43m\"\u001b[39;49m\u001b[38;5;124;43mroc\u001b[39;49m\u001b[38;5;124;43m\"\u001b[39;49m\u001b[43m,\u001b[49m\u001b[43m \u001b[49m\u001b[38;5;124;43mf\u001b[39;49m\u001b[38;5;124;43m\"\u001b[39;49m\u001b[38;5;124;43mroc_\u001b[39;49m\u001b[38;5;132;43;01m{\u001b[39;49;00m\u001b[43mdescription\u001b[49m\u001b[38;5;132;43;01m}\u001b[39;49;00m\u001b[38;5;124;43m_\u001b[39;49m\u001b[38;5;132;43;01m{\u001b[39;49;00m\u001b[43mclassifier_name\u001b[49m\u001b[38;5;132;43;01m}\u001b[39;49;00m\u001b[38;5;124;43m.json\u001b[39;49m\u001b[38;5;124;43m\"\u001b[39;49m\u001b[43m)\u001b[49m\n\u001b[0;32m    634\u001b[0m     \u001b[38;5;28;01mtry\u001b[39;00m:\n\u001b[0;32m    635\u001b[0m         \u001b[38;5;28;01mwith\u001b[39;00m \u001b[38;5;28mopen\u001b[39m(filename, \u001b[38;5;124m\"\u001b[39m\u001b[38;5;124mr\u001b[39m\u001b[38;5;124m\"\u001b[39m) \u001b[38;5;28;01mas\u001b[39;00m file:\n",
      "File \u001b[1;32m<frozen ntpath>:108\u001b[0m, in \u001b[0;36mjoin\u001b[1;34m(path, *paths)\u001b[0m\n",
      "\u001b[1;31mTypeError\u001b[0m: expected str, bytes or os.PathLike object, not list"
     ]
    }
   ],
   "source": [
    "plot_all_results(binary_classifiers.keys(), description, data_subdir)"
   ]
  }
 ],
 "metadata": {
  "kernelspec": {
   "display_name": "Python 3",
   "language": "python",
   "name": "python3"
  },
  "language_info": {
   "codemirror_mode": {
    "name": "ipython",
    "version": 3
   },
   "file_extension": ".py",
   "mimetype": "text/x-python",
   "name": "python",
   "nbconvert_exporter": "python",
   "pygments_lexer": "ipython3",
   "version": "3.11.9"
  }
 },
 "nbformat": 4,
 "nbformat_minor": 2
}
